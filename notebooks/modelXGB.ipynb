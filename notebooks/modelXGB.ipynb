{
 "cells": [
  {
   "cell_type": "code",
   "execution_count": 29,
   "metadata": {},
   "outputs": [],
   "source": [
    "import optuna\n",
    "from optuna.samplers import TPESampler\n",
    "import xgboost as xgb\n",
    "import pandas as pd\n",
    "import numpy as np\n",
    "from sklearn.preprocessing import MinMaxScaler\n",
    "import matplotlib.pyplot as plt\n",
    "import random\n",
    "import os\n",
    "from joblib import dump\n",
    "\n",
    "# Fix random seed\n",
    "seed = 42\n",
    "np.random.seed(seed)\n",
    "random.seed(seed)\n",
    "sampler = TPESampler(seed=seed)\n",
    "\n",
    "optuna.logging.set_verbosity(optuna.logging.WARNING)\n",
    "\n",
    "HYPERPARAMETERS_SEARCH = False"
   ]
  },
  {
   "cell_type": "markdown",
   "metadata": {},
   "source": [
    "# Pre-processing input data"
   ]
  },
  {
   "cell_type": "code",
   "execution_count": 30,
   "metadata": {},
   "outputs": [],
   "source": [
    "# train_df and test_df are created in eda notebook\n",
    "if not os.path.exists('csv/train_df.csv') or not os.path.exists('csv/test_df.csv'):\n",
    "\tprint('Please run the eda notebook first')\n",
    "\texit()\n",
    "train_df = pd.read_csv('csv/train_df.csv')\n",
    "test_df = pd.read_csv('csv/test_df.csv')\n",
    "target = 'total_time_target'\n",
    "features = test_df.columns.copy().drop(target).drop(['benchmark','brand_raw', 'brand_raw_target','vendor_id_raw', 'arch'])\n",
    "\n",
    "# Split data\n",
    "X_train = train_df[features]\n",
    "y_train = train_df[target]\n",
    "\n",
    "X_test = test_df[features]\n",
    "y_test = test_df[target]\n",
    "\n",
    "# Normalize data\n",
    "x_scaler = MinMaxScaler(feature_range=(0, 1))\n",
    "X_train = x_scaler.fit_transform(X_train)\n",
    "X_test = x_scaler.transform(X_test)\n",
    "y_scaler = MinMaxScaler(feature_range=(0, 1))\n",
    "y_train = y_scaler.fit_transform(y_train.values.reshape(-1, 1))\n",
    "y_test = y_scaler.transform(y_test.values.reshape(-1, 1))"
   ]
  },
  {
   "cell_type": "code",
   "execution_count": 31,
   "metadata": {},
   "outputs": [],
   "source": [
    "if not os.path.exists('../models/x_scaler.joblib') or not os.path.exists('../models/y_scaler.joblib'):\n",
    "\tdump(x_scaler, '../models/x_scaler.joblib')\n",
    "\tdump(y_scaler, '../models/y_scaler.joblib')"
   ]
  },
  {
   "cell_type": "markdown",
   "metadata": {},
   "source": [
    "# Model: XGBoost"
   ]
  },
  {
   "cell_type": "code",
   "execution_count": 32,
   "metadata": {},
   "outputs": [],
   "source": [
    "def inv_scaling(y, y_scaler):\n",
    "    return y_scaler.inverse_transform(y.reshape(-1, 1))"
   ]
  },
  {
   "cell_type": "markdown",
   "metadata": {},
   "source": [
    "# Hyperparameters Optimization"
   ]
  },
  {
   "cell_type": "code",
   "execution_count": 33,
   "metadata": {},
   "outputs": [],
   "source": [
    "def objective(trial: optuna.Trial, X_train, y_train, X_test, y_test):\n",
    "\tdtrain = xgb.DMatrix(X_train, label=y_train)\n",
    "\tdtest = xgb.DMatrix(X_test, label=y_test)\n",
    "\t\n",
    "\t# Definimos los hiperparámetros a buscar (XGBoost)\n",
    "\tparam = {\n",
    "\t\t\"verbosity\": 0,\n",
    "\t\t\"device\": \"cuda\",\n",
    "\t\t\"objective\": \"reg:squarederror\",\n",
    "\t\t\"eval_metric\": \"rmse\",\n",
    "\t\t\"booster\": trial.suggest_categorical(\"booster\", [\"gbtree\", \"gblinear\", \"dart\"]),\n",
    "\t\t# L2 regularization weight.\n",
    "        \"lambda\": trial.suggest_float(\"lambda\", 1e-8, 1.0, log=True),\n",
    "        # L1 regularization weight.\n",
    "        \"alpha\": trial.suggest_float(\"alpha\", 1e-8, 1.0, log=True),\n",
    "\t\t\"learning_rate\": trial.suggest_float(\"learning_rate\", 1e-3, 0.1, log=True),\n",
    "        \"subsample\": trial.suggest_float(\"subsample\", 0.2, 1.0),\n",
    "        \"colsample_bytree\": trial.suggest_float(\"colsample_bytree\", 0.05, 1.0),\n",
    "\t}\n",
    "\tnum_boost_round = trial.suggest_int(\"num_boost_round\", 10, 1000, step=10)\n",
    "    \n",
    "\tif param[\"booster\"] in [\"gbtree\", \"dart\"]:\n",
    "\t\t# maximum depth of the tree, signifies complexity of the tree.\n",
    "\t\tparam[\"max_depth\"] = trial.suggest_int(\"max_depth\", 3, 9, step=2)\n",
    "\t\t# minimum child weight, larger the term more conservative the tree.\n",
    "\t\tparam[\"min_child_weight\"] = trial.suggest_int(\"min_child_weight\", 2, 10)\n",
    "\t\tparam[\"eta\"] = trial.suggest_float(\"eta\", 1e-8, 1.0, log=True)\n",
    "\t\t# defines how selective algorithm is.\n",
    "\t\tparam[\"gamma\"] = trial.suggest_float(\"gamma\", 1e-8, 1.0, log=True)\n",
    "\t\tparam[\"grow_policy\"] = trial.suggest_categorical(\"grow_policy\", [\"depthwise\", \"lossguide\"])\n",
    "\n",
    "\tif param[\"booster\"] == \"dart\":\n",
    "\t\tparam[\"sample_type\"] = trial.suggest_categorical(\"sample_type\", [\"uniform\", \"weighted\"])\n",
    "\t\tparam[\"normalize_type\"] = trial.suggest_categorical(\"normalize_type\", [\"tree\", \"forest\"])\n",
    "\t\tparam[\"rate_drop\"] = trial.suggest_float(\"rate_drop\", 1e-8, 1.0, log=True)\n",
    "\t\tparam[\"skip_drop\"] = trial.suggest_float(\"skip_drop\", 1e-8, 1.0, log=True)\n",
    "\n",
    "\t# training\n",
    "\tevals_result = {}\n",
    "\txgb.train(\n",
    "\t\tparam, \n",
    "\t\tdtrain,\n",
    "\t\tnum_boost_round=num_boost_round,\n",
    "\t\tevals=[(dtrain, \"train\"), (dtest, \"test\")],\n",
    "\t\tevals_result=evals_result,\n",
    "\t\tverbose_eval=False,\n",
    "\t\tearly_stopping_rounds=25\n",
    "\t)\n",
    "\tloss = evals_result['train']['rmse'][-1]\n",
    "\tval_loss = evals_result['test']['rmse'][-1]\n",
    "\tprint(f\"Trial: {trial.number} - RMSE Loss : {loss} - RMSE Val Loss: {val_loss}\")\n",
    "\treturn val_loss\n",
    "\n",
    "n_trials = 100\n",
    "study = None"
   ]
  },
  {
   "cell_type": "code",
   "execution_count": 34,
   "metadata": {},
   "outputs": [],
   "source": [
    "if HYPERPARAMETERS_SEARCH:\n",
    "\tstudy = optuna.create_study(direction='minimize', sampler=sampler)\n",
    "\tstudy.optimize(lambda trial: objective(trial, X_train, y_train, X_test, y_test), n_trials=n_trials)"
   ]
  },
  {
   "cell_type": "code",
   "execution_count": 35,
   "metadata": {},
   "outputs": [],
   "source": [
    "if study is not None:\n",
    "\tprint(f'Number of trials: {len(study.trials)}')\n",
    "\ttrial = study.best_trial\n",
    "\tprint(f'Best trial: {trial.number}')\n",
    "\tprint(f'Best params: {trial.params}')\n",
    "\tprint(f'Best validation loss: {y_scaler.inverse_transform(np.reshape(trial.value, (-1,1))).item()}')"
   ]
  },
  {
   "cell_type": "markdown",
   "metadata": {},
   "source": [
    "# Training"
   ]
  },
  {
   "cell_type": "code",
   "execution_count": 36,
   "metadata": {},
   "outputs": [],
   "source": [
    "# hyperparameters\n",
    "params = {\n",
    "\t\"device\": \"cuda\",\n",
    "\t\"objective\": \"reg:squarederror\",\n",
    "\t\"eval_metric\": \"rmse\",\n",
    "}\n",
    "if study is not None:\n",
    "\tnum_boost_round = study.best_trial.params['num_boost_round']\n",
    "\tparams.update(*study.best_trial.params)\n",
    "\tparams.pop('num_boost_round')\n",
    "else:\n",
    "\tnum_boost_round = 10"
   ]
  },
  {
   "cell_type": "code",
   "execution_count": 37,
   "metadata": {},
   "outputs": [
    {
     "name": "stdout",
     "output_type": "stream",
     "text": [
      "[0]\ttrain-rmse:0.03569\ttest-rmse:0.01913\n",
      "[1]\ttrain-rmse:0.02529\ttest-rmse:0.01362\n",
      "[2]\ttrain-rmse:0.01800\ttest-rmse:0.00986\n",
      "[3]\ttrain-rmse:0.01289\ttest-rmse:0.00722\n",
      "[4]\ttrain-rmse:0.00934\ttest-rmse:0.00547\n",
      "[5]\ttrain-rmse:0.00683\ttest-rmse:0.00419\n",
      "[6]\ttrain-rmse:0.00509\ttest-rmse:0.00335\n",
      "[7]\ttrain-rmse:0.00392\ttest-rmse:0.00286\n",
      "[8]\ttrain-rmse:0.00312\ttest-rmse:0.00263\n",
      "[9]\ttrain-rmse:0.00256\ttest-rmse:0.00236\n"
     ]
    }
   ],
   "source": [
    "dtrain = xgb.DMatrix(X_train, label=y_train)\n",
    "dtest = xgb.DMatrix(X_test, label=y_test)\n",
    "\n",
    "evals_result = {}\n",
    "model = xgb.train(\n",
    "\tparams, \n",
    "\tdtrain,\n",
    "\tnum_boost_round=num_boost_round,\n",
    "\tevals=[(dtrain, \"train\"), (dtest, \"test\")],\n",
    "\tevals_result=evals_result,\n",
    "\tearly_stopping_rounds=10\n",
    ")"
   ]
  },
  {
   "cell_type": "code",
   "execution_count": 38,
   "metadata": {},
   "outputs": [
    {
     "data": {
      "image/png": "[encoded data removed]",
      "text/plain": [
       "<Figure size 1000x500 with 1 Axes>"
      ]
     },
     "metadata": {},
     "output_type": "display_data"
    }
   ],
   "source": [
    "# Plot loss\n",
    "plt.figure(figsize=(10, 5))\n",
    "plt.plot(evals_result['train']['rmse'], label='Train Loss')\n",
    "plt.plot(evals_result['test']['rmse'], label='Validation Loss')\n",
    "plt.title('Train and Validation Loss')\n",
    "plt.xlabel('Epoch')\n",
    "plt.ylabel('RMSE Loss')\n",
    "plt.legend()\n",
    "plt.show()"
   ]
  },
  {
   "cell_type": "code",
   "execution_count": 39,
   "metadata": {},
   "outputs": [],
   "source": [
    "# save model\n",
    "model.save_model(f'../models/xgboost_model.json')"
   ]
  },
  {
   "cell_type": "markdown",
   "metadata": {},
   "source": [
    "# Describe Validation"
   ]
  },
  {
   "cell_type": "code",
   "execution_count": 40,
   "metadata": {},
   "outputs": [],
   "source": [
    "model = xgb.Booster()\n",
    "model.load_model('../models/xgboost_model.json')"
   ]
  },
  {
   "cell_type": "code",
   "execution_count": 41,
   "metadata": {},
   "outputs": [],
   "source": [
    "def describe_val(model, X, y, y_scaler):\n",
    "\tmin_instance = {\"prediction\": float('inf'), \"actual\": 0, \"index\": 0}\n",
    "\tmax_instance = {\"prediction\": 0, \"actual\": 0, \"index\": 0}\n",
    "\tdtest = xgb.DMatrix(X)\n",
    "\tpredictions = model.predict(dtest)\n",
    "\tpredictions = inv_scaling(predictions, y_scaler)\n",
    "\ty_scaled = inv_scaling(y, y_scaler)\n",
    "\tindex_min = np.argmin(np.abs(predictions - y_scaled))\n",
    "\tmin_instance[\"prediction\"] = predictions[index_min].item()\n",
    "\tmin_instance[\"actual\"] = y_scaled[index_min].item()\n",
    "\tmin_instance[\"index\"] = index_min\n",
    "\tindex_max = np.argmax(np.abs(predictions - y_scaled))\n",
    "\tmax_instance[\"prediction\"] = predictions[index_max].item()\n",
    "\tmax_instance[\"actual\"] = y_scaled[index_max].item()\n",
    "\tmax_instance[\"index\"] = index_max\n",
    "\n",
    "\treturn min_instance, max_instance, predictions"
   ]
  },
  {
   "cell_type": "code",
   "execution_count": 42,
   "metadata": {},
   "outputs": [
    {
     "name": "stdout",
     "output_type": "stream",
     "text": [
      "Validation set single thread model\n",
      "Mean prediction: 16.036476135253906 | Std actual: 23.300222396850586\n",
      "Mean actual: 16.002460942900594 | Std actual: 23.942981274873418\n",
      "Mean Error: 1.340394671265225 | Std Error: 1.6413255705300906\n",
      "Min instance\n",
      "total_time                                                            10.93\n",
      "total_cpu_usage                                                        0.99\n",
      "max_ram_usage                                                     44.214844\n",
      "brand_raw                          Intel(R) Xeon(R) Gold 6130 CPU @ 2.10GHz\n",
      "vendor_id_raw                                                  GenuineIntel\n",
      "arch                                                                 X86_64\n",
      "count                                                                    32\n",
      "l2_cache_size                                                          32.0\n",
      "l3_cache_size                                                          22.0\n",
      "l2_cache_line_size                                                      256\n",
      "l2_cache_associativity                                                    6\n",
      "benchmark                                                          TSPd1291\n",
      "ghz_actual_friendly                                                     3.7\n",
      "ghz_advertised_friendly                                                 2.1\n",
      "score                                                                  1880\n",
      "total_time_target                                                     11.95\n",
      "brand_raw_target                  Intel(R) Xeon(R) CPU E5-2643 v3 @ 3.40GHz\n",
      "l2_cache_size_target                                                    3.0\n",
      "l3_cache_size_target                                                   20.0\n",
      "l2_cache_line_size_target                                               256\n",
      "l2_cache_associativity_target                                             6\n",
      "ghz_advertised_friendly_target                                          3.4\n",
      "score_target                                                           2099\n",
      "rss                                                               43.187794\n",
      "vms                                                               69.811912\n",
      "shared                                                            14.340138\n",
      "text                                                               0.035156\n",
      "data                                                              29.837618\n",
      "Name: 5866, dtype: object\n",
      "Min Prediction: 11.947672843933105 | Actual: 11.95 | Error: 0.0023271560668938207\n",
      "---\n",
      "Max instance\n",
      "total_time                                                                106.13\n",
      "total_cpu_usage                                                             0.99\n",
      "max_ram_usage                                                             15.125\n",
      "brand_raw                               Intel(R) Core(TM) i5-10400 CPU @ 2.90GHz\n",
      "vendor_id_raw                                                       GenuineIntel\n",
      "arch                                                                      X86_64\n",
      "count                                                                         12\n",
      "l2_cache_size                                                                1.5\n",
      "l3_cache_size                                                               12.0\n",
      "l2_cache_line_size                                                           256\n",
      "l2_cache_associativity                                                         6\n",
      "benchmark                                                              N_Queens2\n",
      "ghz_actual_friendly                                                       4.0844\n",
      "ghz_advertised_friendly                                                      2.9\n",
      "score                                                                       2589\n",
      "total_time_target                                                         138.38\n",
      "brand_raw_target                  11th Gen Intel(R) Core(TM) i5-1135G7 @ 2.40GHz\n",
      "l2_cache_size_target                                                         5.0\n",
      "l3_cache_size_target                                                         8.0\n",
      "l2_cache_line_size_target                                                    256\n",
      "l2_cache_associativity_target                                                  7\n",
      "ghz_advertised_friendly_target                                               2.4\n",
      "score_target                                                                2731\n",
      "rss                                                                    13.858247\n",
      "vms                                                                    42.681379\n",
      "shared                                                                 11.384021\n",
      "text                                                                    0.007812\n",
      "data                                                                    2.362033\n",
      "Name: 5621, dtype: object\n",
      "Max Prediction: 114.27479553222656 | Actual: 138.38 | Error: 24.105204467773433\n"
     ]
    }
   ],
   "source": [
    "print(\"Validation set single thread model\")\n",
    "min_instance, max_instance, predictions = describe_val(model, X_test, y_test, y_scaler)\n",
    "y_scaled = inv_scaling(y_test, y_scaler)\n",
    "errors = np.abs(predictions - y_scaled)\n",
    "mean_error = np.mean(errors)\n",
    "std_error = np.std(errors)\n",
    "\n",
    "print(f\"Mean prediction: {np.mean(predictions)} | Std actual: {np.std(predictions)}\")\n",
    "print(f\"Mean actual: {np.mean(y_scaled)} | Std actual: {np.std(y_scaled)}\")\n",
    "print(f\"Mean Error: {mean_error} | Std Error: {std_error}\")\n",
    "print(\"Min instance\")\n",
    "print(test_df.iloc[min_instance[\"index\"]])\n",
    "print(f\"Min Prediction: {min_instance['prediction']} | Actual: {min_instance['actual']} | Error: {abs(min_instance['prediction'] - min_instance['actual'])}\")\n",
    "print(\"---\")\n",
    "print(\"Max instance\")\n",
    "print(test_df.iloc[max_instance[\"index\"]])\n",
    "print(f\"Max Prediction: {max_instance['prediction']} | Actual: {max_instance['actual']} | Error: {abs(max_instance['prediction'] - max_instance['actual'])}\")"
   ]
  }
 ],
 "metadata": {
  "kernelspec": {
   "display_name": "venv",
   "language": "python",
   "name": "python3"
  },
  "language_info": {
   "codemirror_mode": {
    "name": "ipython",
    "version": 3
   },
   "file_extension": ".py",
   "mimetype": "text/x-python",
   "name": "python",
   "nbconvert_exporter": "python",
   "pygments_lexer": "ipython3",
   "version": "3.10.13"
  }
 },
 "nbformat": 4,
 "nbformat_minor": 2
}
