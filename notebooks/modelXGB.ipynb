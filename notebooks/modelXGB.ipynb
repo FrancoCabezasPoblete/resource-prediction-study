{
 "cells": [
  {
   "cell_type": "code",
   "execution_count": 1,
   "metadata": {},
   "outputs": [],
   "source": [
    "import optuna\n",
    "import xgboost as xgb\n",
    "import pandas as pd\n",
    "import numpy as np\n",
    "from sklearn.preprocessing import StandardScaler\n",
    "from sklearn.metrics import mean_squared_error\n",
    "import random"
   ]
  },
  {
   "cell_type": "code",
   "execution_count": 2,
   "metadata": {},
   "outputs": [],
   "source": [
    "# Fix random seed\n",
    "seed = 42\n",
    "np.random.seed(seed)\n",
    "random.seed(seed)"
   ]
  },
  {
   "cell_type": "markdown",
   "metadata": {},
   "source": [
    "# Pre-processing input data"
   ]
  },
  {
   "cell_type": "code",
   "execution_count": 3,
   "metadata": {},
   "outputs": [],
   "source": [
    "def bits_to_MiB(row):\n",
    "\t# verify if has string ' MiB'\n",
    "\tif 'MiB' in str(row):\n",
    "\t\trow = row.replace(' MiB', '')\n",
    "\t\trow = float(row)\n",
    "\telse:\n",
    "\t\trow = float(row) / np.power(2, 20)\n",
    "\treturn row\n",
    "\n",
    "\n",
    "def MHz_to_GHz(row):\n",
    "\t# verify if has string ' GHz'\n",
    "\tif 'GHz' in str(row):\n",
    "\t\trow = row.replace(' GHz', '')\n",
    "\t\t# convert to float\n",
    "\t\trow = float(row)\n",
    "\telse:\n",
    "\t\trow = row.replace(' MHz', '')\n",
    "\t\trow = float(row) / 1000\n",
    "\treturn row"
   ]
  },
  {
   "cell_type": "code",
   "execution_count": 4,
   "metadata": {},
   "outputs": [],
   "source": [
    "results_df = pd.read_csv('../results/execution_time.csv')\n",
    "results_savio_df = pd.read_csv('../results_savio/execution_time.csv')\n",
    "results_df = pd.concat([results_df, results_savio_df], ignore_index=True)\n",
    "# preprocessing\n",
    "results_df['total_cpu_usage'] = results_df['total_cpu_usage'].str.replace('%', '').astype(float) / 100\n",
    "results_df['max_ram_usage'] = results_df['max_ram_usage'] / 1024\n",
    "results_df['l2_cache_size'] = results_df['l2_cache_size'].apply(bits_to_MiB)\n",
    "results_df['l3_cache_size'] = results_df['l3_cache_size'].apply(bits_to_MiB)\n",
    "results_df['ghz_actual_friendly'] = results_df['hz_actual_friendly'].apply(MHz_to_GHz)\n",
    "results_df['ghz_advertised_friendly'] = results_df['hz_advertised_friendly'].str.replace('GHz', '').astype(float)\n",
    "results_df = results_df.drop(columns=['hz_actual_friendly', 'hz_advertised_friendly', 'arch', 'vendor_id_raw'])"
   ]
  },
  {
   "cell_type": "code",
   "execution_count": 5,
   "metadata": {},
   "outputs": [
    {
     "data": {
      "text/html": [
       "<div>\n",
       "<style scoped>\n",
       "    .dataframe tbody tr th:only-of-type {\n",
       "        vertical-align: middle;\n",
       "    }\n",
       "\n",
       "    .dataframe tbody tr th {\n",
       "        vertical-align: top;\n",
       "    }\n",
       "\n",
       "    .dataframe thead th {\n",
       "        text-align: right;\n",
       "    }\n",
       "</style>\n",
       "<table border=\"1\" class=\"dataframe\">\n",
       "  <thead>\n",
       "    <tr style=\"text-align: right;\">\n",
       "      <th></th>\n",
       "      <th>total_time</th>\n",
       "      <th>total_cpu_usage</th>\n",
       "      <th>max_ram_usage</th>\n",
       "      <th>brand_raw</th>\n",
       "      <th>count</th>\n",
       "      <th>l2_cache_size</th>\n",
       "      <th>l3_cache_size</th>\n",
       "      <th>l2_cache_line_size</th>\n",
       "      <th>l2_cache_associativity</th>\n",
       "      <th>benchmark</th>\n",
       "      <th>ghz_actual_friendly</th>\n",
       "      <th>ghz_advertised_friendly</th>\n",
       "      <th>total_time_target</th>\n",
       "      <th>brand_raw_target</th>\n",
       "      <th>count_target</th>\n",
       "      <th>l2_cache_size_target</th>\n",
       "      <th>l3_cache_size_target</th>\n",
       "      <th>l2_cache_line_size_target</th>\n",
       "      <th>l2_cache_associativity_target</th>\n",
       "      <th>ghz_advertised_friendly_target</th>\n",
       "    </tr>\n",
       "  </thead>\n",
       "  <tbody>\n",
       "    <tr>\n",
       "      <th>5</th>\n",
       "      <td>13.49</td>\n",
       "      <td>0.99</td>\n",
       "      <td>1435.851562</td>\n",
       "      <td>Intel(R) Core(TM) i5-10400 CPU @ 2.90GHz</td>\n",
       "      <td>12</td>\n",
       "      <td>1.5</td>\n",
       "      <td>12.0</td>\n",
       "      <td>256</td>\n",
       "      <td>6</td>\n",
       "      <td>KNP</td>\n",
       "      <td>4.0996</td>\n",
       "      <td>2.9</td>\n",
       "      <td>32.01</td>\n",
       "      <td>13th Gen Intel(R) Core(TM) i5-1335U</td>\n",
       "      <td>12</td>\n",
       "      <td>7.5</td>\n",
       "      <td>12.0</td>\n",
       "      <td>1280</td>\n",
       "      <td>7</td>\n",
       "      <td>2.496</td>\n",
       "    </tr>\n",
       "    <tr>\n",
       "      <th>6</th>\n",
       "      <td>13.49</td>\n",
       "      <td>0.99</td>\n",
       "      <td>1435.851562</td>\n",
       "      <td>Intel(R) Core(TM) i5-10400 CPU @ 2.90GHz</td>\n",
       "      <td>12</td>\n",
       "      <td>1.5</td>\n",
       "      <td>12.0</td>\n",
       "      <td>256</td>\n",
       "      <td>6</td>\n",
       "      <td>KNP</td>\n",
       "      <td>4.0996</td>\n",
       "      <td>2.9</td>\n",
       "      <td>19.09</td>\n",
       "      <td>13th Gen Intel(R) Core(TM) i5-1335U</td>\n",
       "      <td>12</td>\n",
       "      <td>7.5</td>\n",
       "      <td>12.0</td>\n",
       "      <td>1280</td>\n",
       "      <td>7</td>\n",
       "      <td>2.496</td>\n",
       "    </tr>\n",
       "  </tbody>\n",
       "</table>\n",
       "</div>"
      ],
      "text/plain": [
       "   total_time  total_cpu_usage  max_ram_usage  \\\n",
       "5       13.49             0.99    1435.851562   \n",
       "6       13.49             0.99    1435.851562   \n",
       "\n",
       "                                  brand_raw  count  l2_cache_size  \\\n",
       "5  Intel(R) Core(TM) i5-10400 CPU @ 2.90GHz     12            1.5   \n",
       "6  Intel(R) Core(TM) i5-10400 CPU @ 2.90GHz     12            1.5   \n",
       "\n",
       "   l3_cache_size  l2_cache_line_size  l2_cache_associativity benchmark  \\\n",
       "5           12.0                 256                       6       KNP   \n",
       "6           12.0                 256                       6       KNP   \n",
       "\n",
       "   ghz_actual_friendly  ghz_advertised_friendly  total_time_target  \\\n",
       "5               4.0996                      2.9              32.01   \n",
       "6               4.0996                      2.9              19.09   \n",
       "\n",
       "                      brand_raw_target  count_target  l2_cache_size_target  \\\n",
       "5  13th Gen Intel(R) Core(TM) i5-1335U            12                   7.5   \n",
       "6  13th Gen Intel(R) Core(TM) i5-1335U            12                   7.5   \n",
       "\n",
       "   l3_cache_size_target  l2_cache_line_size_target  \\\n",
       "5                  12.0                       1280   \n",
       "6                  12.0                       1280   \n",
       "\n",
       "   l2_cache_associativity_target  ghz_advertised_friendly_target  \n",
       "5                              7                           2.496  \n",
       "6                              7                           2.496  "
      ]
     },
     "execution_count": 5,
     "metadata": {},
     "output_type": "execute_result"
    }
   ],
   "source": [
    "# Make the target dataset\n",
    "target_df = results_df[['total_time', 'brand_raw', 'count', 'l2_cache_size', 'l3_cache_size', 'l2_cache_line_size', 'l2_cache_associativity', 'ghz_advertised_friendly', 'benchmark']].copy()\n",
    "# Rename columns to *_target\n",
    "target_df = target_df.rename(columns={\n",
    "    'total_time': 'total_time_target',\n",
    "    'brand_raw': 'brand_raw_target',\n",
    "    'count': 'count_target',\n",
    "    'l2_cache_size': 'l2_cache_size_target',\n",
    "    'l3_cache_size': 'l3_cache_size_target',\n",
    "    'l2_cache_line_size': 'l2_cache_line_size_target',\n",
    "    'l2_cache_associativity': 'l2_cache_associativity_target',\n",
    "    'ghz_advertised_friendly': 'ghz_advertised_friendly_target',\n",
    "})\n",
    "\n",
    "dataset_df = pd.merge(results_df, target_df, how='inner', on='benchmark')\n",
    "dataset_df = dataset_df[dataset_df['brand_raw'] != dataset_df['brand_raw_target']]\n",
    "dataset_df.head(2)"
   ]
  },
  {
   "cell_type": "code",
   "execution_count": 6,
   "metadata": {},
   "outputs": [],
   "source": [
    "# remove one computer for testing\n",
    "g_train = dataset_df[(dataset_df['brand_raw'] != '13th Gen Intel(R) Core(TM) i5-1335U') & (dataset_df['brand_raw_target'] != '13th Gen Intel(R) Core(TM) i5-1335U')].drop(columns=['benchmark','brand_raw', 'brand_raw_target'])\n",
    "g_test = dataset_df[dataset_df['brand_raw_target'] == '13th Gen Intel(R) Core(TM) i5-1335U'].drop(columns=['benchmark','brand_raw', 'brand_raw_target'])"
   ]
  },
  {
   "cell_type": "code",
   "execution_count": 7,
   "metadata": {},
   "outputs": [],
   "source": [
    "mm_df = dataset_df[dataset_df['benchmark']=='MATRIX_MULT'].drop(columns=['benchmark'])\n",
    "# remove one computer for testing\n",
    "mm_train = mm_df[(mm_df['brand_raw'] != '13th Gen Intel(R) Core(TM) i5-1335U') & (mm_df['brand_raw_target'] != '13th Gen Intel(R) Core(TM) i5-1335U')].drop(columns=['brand_raw', 'brand_raw_target'])\n",
    "mm_test = mm_df[mm_df['brand_raw_target'] == '13th Gen Intel(R) Core(TM) i5-1335U'].drop(columns=['brand_raw', 'brand_raw_target'])"
   ]
  },
  {
   "cell_type": "code",
   "execution_count": 8,
   "metadata": {},
   "outputs": [],
   "source": [
    "st_df = dataset_df[dataset_df['benchmark']!='MATRIX_MULT'].drop(columns=['benchmark','count'])\n",
    "# remove one computer for testing\n",
    "st_train = st_df[(st_df['brand_raw'] != '13th Gen Intel(R) Core(TM) i5-1335U') & (st_df['brand_raw_target'] != '13th Gen Intel(R) Core(TM) i5-1335U')].drop(columns=['brand_raw', 'brand_raw_target'])\n",
    "st_test = st_df[st_df['brand_raw_target'] == '13th Gen Intel(R) Core(TM) i5-1335U'].drop(columns=['brand_raw', 'brand_raw_target'])"
   ]
  },
  {
   "cell_type": "code",
   "execution_count": 9,
   "metadata": {},
   "outputs": [],
   "source": [
    "target = 'total_time_target'\n",
    "features = mm_test.columns.copy().drop(target)\n",
    "features_st = features.copy().drop(['count', 'count_target'])"
   ]
  },
  {
   "cell_type": "code",
   "execution_count": 10,
   "metadata": {},
   "outputs": [],
   "source": [
    "# general data\n",
    "## split data\n",
    "X_g_train = g_train[features]\n",
    "y_g_train = g_train[target]\n",
    "\n",
    "X_g_test = g_test[features]\n",
    "y_g_test = g_test[target]\n",
    "\n",
    "## normalize data\n",
    "scaler = StandardScaler()\n",
    "X_g_train = scaler.fit_transform(X_g_train)\n",
    "X_g_test = scaler.transform(X_g_test)"
   ]
  },
  {
   "cell_type": "code",
   "execution_count": 11,
   "metadata": {},
   "outputs": [],
   "source": [
    "# single thread data\n",
    "## split data\n",
    "X_st_train = st_train[features_st]\n",
    "y_st_train = st_train[target]\n",
    "\n",
    "X_st_test = st_test[features_st]\n",
    "y_st_test = st_test[target]\n",
    "\n",
    "## normalize data\n",
    "scaler = StandardScaler()\n",
    "X_st_train = scaler.fit_transform(X_st_train)\n",
    "X_st_test = scaler.transform(X_st_test)"
   ]
  },
  {
   "cell_type": "code",
   "execution_count": 12,
   "metadata": {},
   "outputs": [],
   "source": [
    "# multi thread data\n",
    "## split data\n",
    "X_mm_train = mm_train[features]\n",
    "y_mm_train = mm_train[target]\n",
    "\n",
    "X_mm_test = mm_test[features]\n",
    "y_mm_test = mm_test[target]\n",
    "\n",
    "## normalize data\n",
    "scaler = StandardScaler()\n",
    "X_mm_train = scaler.fit_transform(X_mm_train)\n",
    "X_mm_test = scaler.transform(X_mm_test)"
   ]
  },
  {
   "cell_type": "markdown",
   "metadata": {},
   "source": [
    "# Model"
   ]
  },
  {
   "cell_type": "code",
   "execution_count": 13,
   "metadata": {},
   "outputs": [],
   "source": [
    "def objective(trial: optuna.Trial, X_train, y_train, X_test, y_test):\n",
    "\tdtrain = xgb.DMatrix(X_train, label=y_train)\n",
    "\tdtest = xgb.DMatrix(X_test, label=y_test)\n",
    "\t\n",
    "\t# Definimos los hiperparámetros a buscar (XGBoost)\n",
    "\tparam = {\n",
    "\t\t\"verbosity\": 0,\n",
    "\t\t\"device\": \"gpu\",\n",
    "\t\t\"objective\": \"reg:squarederror\",\n",
    "\t\t\"eval_metric\": \"rmse\",\n",
    "\t\t\"booster\": trial.suggest_categorical(\"booster\", [\"gbtree\", \"gblinear\", \"dart\"]),\n",
    "\t\t# L2 regularization weight.\n",
    "        \"lambda\": trial.suggest_float(\"lambda\", 1e-8, 1.0, log=True),\n",
    "        # L1 regularization weight.\n",
    "        \"alpha\": trial.suggest_float(\"alpha\", 1e-8, 1.0, log=True),\n",
    "\t\t\"learning_rate\": trial.suggest_float(\"learning_rate\", 1e-3, 0.1, log=True),\n",
    "        \"subsample\": trial.suggest_float(\"subsample\", 0.2, 1.0),\n",
    "        \"colsample_bytree\": trial.suggest_float(\"colsample_bytree\", 0.05, 1.0),\n",
    "\t}\n",
    "    \n",
    "\tif param[\"booster\"] in [\"gbtree\", \"dart\"]:\n",
    "\t\t# maximum depth of the tree, signifies complexity of the tree.\n",
    "\t\tparam[\"max_depth\"] = trial.suggest_int(\"max_depth\", 3, 9, step=2)\n",
    "\t\t# minimum child weight, larger the term more conservative the tree.\n",
    "\t\tparam[\"min_child_weight\"] = trial.suggest_int(\"min_child_weight\", 2, 10)\n",
    "\t\tparam[\"eta\"] = trial.suggest_float(\"eta\", 1e-8, 1.0, log=True)\n",
    "\t\t# defines how selective algorithm is.\n",
    "\t\tparam[\"gamma\"] = trial.suggest_float(\"gamma\", 1e-8, 1.0, log=True)\n",
    "\t\tparam[\"grow_policy\"] = trial.suggest_categorical(\"grow_policy\", [\"depthwise\", \"lossguide\"])\n",
    "\n",
    "\tif param[\"booster\"] == \"dart\":\n",
    "\t\tparam[\"sample_type\"] = trial.suggest_categorical(\"sample_type\", [\"uniform\", \"weighted\"])\n",
    "\t\tparam[\"normalize_type\"] = trial.suggest_categorical(\"normalize_type\", [\"tree\", \"forest\"])\n",
    "\t\tparam[\"rate_drop\"] = trial.suggest_float(\"rate_drop\", 1e-8, 1.0, log=True)\n",
    "\t\tparam[\"skip_drop\"] = trial.suggest_float(\"skip_drop\", 1e-8, 1.0, log=True)\n",
    "\n",
    "\t# training\n",
    "\tmodel = xgb.train(param, dtrain)\n",
    "\t# evaluation\n",
    "\tpreds = model.predict(dtest)\n",
    "\tmse = mean_squared_error(y_test, preds)\n",
    "\trmse = np.sqrt(mse)\n",
    "\tprint(f\"Trial: {trial.number} - MSE: {mse} - RMSE: {rmse}\")\n",
    "\treturn mse"
   ]
  },
  {
   "cell_type": "markdown",
   "metadata": {},
   "source": [
    "# Hyperparameters Optimization"
   ]
  },
  {
   "cell_type": "code",
   "execution_count": 14,
   "metadata": {},
   "outputs": [],
   "source": [
    "n_trials = 100"
   ]
  },
  {
   "cell_type": "markdown",
   "metadata": {},
   "source": [
    "## General"
   ]
  },
  {
   "cell_type": "code",
   "execution_count": 15,
   "metadata": {},
   "outputs": [
    {
     "name": "stderr",
     "output_type": "stream",
     "text": [
      "[I 2024-06-20 04:38:27,487] A new study created in memory with name: no-name-ee57f021-0397-4a19-8aaf-944210ef2548\n",
      "[I 2024-06-20 04:38:27,669] Trial 0 finished with value: 206.55344990167336 and parameters: {'booster': 'gbtree', 'lambda': 1.0683649546325783e-07, 'alpha': 0.0009195769493122056, 'learning_rate': 0.033995888275097745, 'subsample': 0.7141195140938823, 'colsample_bytree': 0.6582740117481474, 'max_depth': 3, 'min_child_weight': 2, 'eta': 0.0002139882676774764, 'gamma': 7.545734627111594e-07, 'grow_policy': 'depthwise'}. Best is trial 0 with value: 206.55344990167336.\n",
      "[I 2024-06-20 04:38:27,828] Trial 1 finished with value: 197.72858231992535 and parameters: {'booster': 'gbtree', 'lambda': 0.020058164042914165, 'alpha': 0.0003068265068140188, 'learning_rate': 0.023923058442758726, 'subsample': 0.43667065093233326, 'colsample_bytree': 0.9905460899757074, 'max_depth': 9, 'min_child_weight': 3, 'eta': 0.38634607785108876, 'gamma': 2.0537233540210722e-08, 'grow_policy': 'lossguide'}. Best is trial 1 with value: 197.72858231992535.\n"
     ]
    },
    {
     "name": "stdout",
     "output_type": "stream",
     "text": [
      "Trial: 0 - MSE: 206.55344990167336 - RMSE: 14.371967502804665\n",
      "Trial: 1 - MSE: 197.72858231992535 - RMSE: 14.061599564769484\n"
     ]
    },
    {
     "name": "stderr",
     "output_type": "stream",
     "text": [
      "[I 2024-06-20 04:38:27,871] Trial 2 finished with value: 174.6490765665892 and parameters: {'booster': 'gblinear', 'lambda': 7.351341839386231e-08, 'alpha': 1.189322314639463e-06, 'learning_rate': 0.01007761970818487, 'subsample': 0.8188231148048841, 'colsample_bytree': 0.5931626832684884}. Best is trial 2 with value: 174.6490765665892.\n",
      "[I 2024-06-20 04:38:27,888] Trial 3 finished with value: 167.28159273003376 and parameters: {'booster': 'gblinear', 'lambda': 5.0136508997625806e-08, 'alpha': 9.177983810967162e-07, 'learning_rate': 0.0050026244791997925, 'subsample': 0.5399525258898941, 'colsample_bytree': 0.9921812861639546}. Best is trial 3 with value: 167.28159273003376.\n",
      "[I 2024-06-20 04:38:27,962] Trial 4 finished with value: 172.50000328192306 and parameters: {'booster': 'gbtree', 'lambda': 3.313561587452981e-08, 'alpha': 7.649920304141375e-08, 'learning_rate': 0.00802174786969275, 'subsample': 0.6041878529955051, 'colsample_bytree': 0.6966931198521289, 'max_depth': 7, 'min_child_weight': 2, 'eta': 1.2010093953706258e-07, 'gamma': 0.00010956009348607138, 'grow_policy': 'lossguide'}. Best is trial 3 with value: 167.28159273003376.\n",
      "[I 2024-06-20 04:38:27,970] Trial 5 finished with value: 206.1351545997448 and parameters: {'booster': 'gblinear', 'lambda': 0.003768477770965762, 'alpha': 0.004599326281577256, 'learning_rate': 0.033277169977704836, 'subsample': 0.34774675455572546, 'colsample_bytree': 0.17749079449676847}. Best is trial 3 with value: 167.28159273003376.\n",
      "[I 2024-06-20 04:38:27,988] Trial 6 finished with value: 166.73012039687853 and parameters: {'booster': 'gbtree', 'lambda': 1.2387941980962374e-05, 'alpha': 7.609752329509053e-06, 'learning_rate': 0.008024006692386645, 'subsample': 0.7261190150965622, 'colsample_bytree': 0.20303342841447036, 'max_depth': 3, 'min_child_weight': 10, 'eta': 3.1617403775855023e-07, 'gamma': 0.007320330400031709, 'grow_policy': 'depthwise'}. Best is trial 6 with value: 166.73012039687853.\n",
      "[I 2024-06-20 04:38:28,011] Trial 7 finished with value: 195.87987219455144 and parameters: {'booster': 'gbtree', 'lambda': 0.013978293497833425, 'alpha': 0.0031250554656946177, 'learning_rate': 0.026216024914137055, 'subsample': 0.5275663527945595, 'colsample_bytree': 0.5108393358908215, 'max_depth': 3, 'min_child_weight': 10, 'eta': 7.688679040974134e-05, 'gamma': 0.7632811585984103, 'grow_policy': 'lossguide'}. Best is trial 6 with value: 166.73012039687853.\n",
      "[I 2024-06-20 04:38:28,046] Trial 8 finished with value: 163.3586853003394 and parameters: {'booster': 'dart', 'lambda': 0.06103347929020788, 'alpha': 9.786269943902875e-07, 'learning_rate': 0.0025998665964422235, 'subsample': 0.49110538194191977, 'colsample_bytree': 0.1895456663590092, 'max_depth': 7, 'min_child_weight': 4, 'eta': 2.5174006874880814e-06, 'gamma': 6.45631432783659e-05, 'grow_policy': 'depthwise', 'sample_type': 'uniform', 'normalize_type': 'forest', 'rate_drop': 0.19001946044250606, 'skip_drop': 8.973001478279981e-08}. Best is trial 8 with value: 163.3586853003394.\n",
      "[I 2024-06-20 04:38:28,064] Trial 9 finished with value: 166.1514505646553 and parameters: {'booster': 'gbtree', 'lambda': 0.00017814457288623946, 'alpha': 4.705448668155194e-06, 'learning_rate': 0.0311986342451062, 'subsample': 0.7919629078043149, 'colsample_bytree': 0.07741828550612566, 'max_depth': 3, 'min_child_weight': 4, 'eta': 0.6977227771163874, 'gamma': 0.00028890803029471606, 'grow_policy': 'depthwise'}. Best is trial 8 with value: 163.3586853003394.\n"
     ]
    },
    {
     "name": "stdout",
     "output_type": "stream",
     "text": [
      "Trial: 2 - MSE: 174.6490765665892 - RMSE: 13.215486240263322\n",
      "Trial: 3 - MSE: 167.28159273003376 - RMSE: 12.933738544211947\n",
      "Trial: 4 - MSE: 172.50000328192306 - RMSE: 13.133925661504373\n",
      "Trial: 5 - MSE: 206.1351545997448 - RMSE: 14.357407655971352\n",
      "Trial: 6 - MSE: 166.73012039687853 - RMSE: 12.912401805894925\n",
      "Trial: 7 - MSE: 195.87987219455144 - RMSE: 13.99570906365774\n",
      "Trial: 8 - MSE: 163.3586853003394 - RMSE: 12.781184815983979\n",
      "Trial: 9 - MSE: 166.1514505646553 - RMSE: 12.88997480853455\n"
     ]
    },
    {
     "name": "stderr",
     "output_type": "stream",
     "text": [
      "[I 2024-06-20 04:38:28,125] Trial 10 finished with value: 161.34359121784934 and parameters: {'booster': 'dart', 'lambda': 0.874777346293958, 'alpha': 1.0166774215650573e-08, 'learning_rate': 0.0010541858874568862, 'subsample': 0.21367381413560954, 'colsample_bytree': 0.39764645433663504, 'max_depth': 7, 'min_child_weight': 6, 'eta': 3.123572781379101e-05, 'gamma': 2.0897512660424668e-06, 'grow_policy': 'depthwise', 'sample_type': 'uniform', 'normalize_type': 'forest', 'rate_drop': 0.7682776692921705, 'skip_drop': 4.222922474113876e-08}. Best is trial 10 with value: 161.34359121784934.\n",
      "[I 2024-06-20 04:38:28,189] Trial 11 finished with value: 161.74222129273267 and parameters: {'booster': 'dart', 'lambda': 0.8391492884184247, 'alpha': 1.3239228231875898e-08, 'learning_rate': 0.001351842461098761, 'subsample': 0.20130932785790845, 'colsample_bytree': 0.38062149414561786, 'max_depth': 7, 'min_child_weight': 6, 'eta': 2.6471622273280614e-05, 'gamma': 1.9672517223879417e-06, 'grow_policy': 'depthwise', 'sample_type': 'uniform', 'normalize_type': 'forest', 'rate_drop': 0.7521901729696399, 'skip_drop': 5.0677546554205994e-08}. Best is trial 10 with value: 161.34359121784934.\n",
      "[I 2024-06-20 04:38:28,259] Trial 12 finished with value: 161.29774214799508 and parameters: {'booster': 'dart', 'lambda': 0.7309996343212144, 'alpha': 1.3476213231706023e-08, 'learning_rate': 0.0010100637789137907, 'subsample': 0.21790821181797654, 'colsample_bytree': 0.3619585967565085, 'max_depth': 9, 'min_child_weight': 7, 'eta': 0.0001832999059204985, 'gamma': 8.460351761121466e-07, 'grow_policy': 'depthwise', 'sample_type': 'uniform', 'normalize_type': 'forest', 'rate_drop': 0.39507687181703466, 'skip_drop': 3.1321547170704474e-08}. Best is trial 12 with value: 161.29774214799508.\n"
     ]
    },
    {
     "name": "stdout",
     "output_type": "stream",
     "text": [
      "Trial: 10 - MSE: 161.34359121784934 - RMSE: 12.70210971523429\n",
      "Trial: 11 - MSE: 161.74222129273267 - RMSE: 12.717791525761564\n",
      "Trial: 12 - MSE: 161.29774214799508 - RMSE: 12.700304805318456\n"
     ]
    },
    {
     "name": "stderr",
     "output_type": "stream",
     "text": [
      "[I 2024-06-20 04:38:28,337] Trial 13 finished with value: 161.38403425567827 and parameters: {'booster': 'dart', 'lambda': 0.27853646941553467, 'alpha': 0.7012309739828981, 'learning_rate': 0.0010404093916107765, 'subsample': 0.9693100939484263, 'colsample_bytree': 0.38936907930782877, 'max_depth': 9, 'min_child_weight': 7, 'eta': 0.0038455821054445903, 'gamma': 3.2730625509007815e-07, 'grow_policy': 'depthwise', 'sample_type': 'uniform', 'normalize_type': 'forest', 'rate_drop': 2.972661129185276e-07, 'skip_drop': 1.067614246769096e-08}. Best is trial 12 with value: 161.29774214799508.\n",
      "[I 2024-06-20 04:38:28,415] Trial 14 finished with value: 270.2422719104539 and parameters: {'booster': 'dart', 'lambda': 0.0007989044937332455, 'alpha': 1.1266554483492533e-08, 'learning_rate': 0.0969944450852855, 'subsample': 0.20635121146058566, 'colsample_bytree': 0.37559093549471223, 'max_depth': 9, 'min_child_weight': 7, 'eta': 0.00421089832159015, 'gamma': 1.1287052749041986e-08, 'grow_policy': 'depthwise', 'sample_type': 'weighted', 'normalize_type': 'tree', 'rate_drop': 0.005813238269425595, 'skip_drop': 0.0033977467165800163}. Best is trial 12 with value: 161.29774214799508.\n",
      "[I 2024-06-20 04:38:28,479] Trial 15 finished with value: 162.80048169808668 and parameters: {'booster': 'dart', 'lambda': 1.151600829559702e-05, 'alpha': 1.2744578970837764e-07, 'learning_rate': 0.0021558858807437216, 'subsample': 0.32306975026412565, 'colsample_bytree': 0.48631055258148326, 'max_depth': 5, 'min_child_weight': 6, 'eta': 0.0016297794305688128, 'gamma': 7.116211556528252e-06, 'grow_policy': 'depthwise', 'sample_type': 'uniform', 'normalize_type': 'forest', 'rate_drop': 0.0002945690445547271, 'skip_drop': 1.2444556995903788e-05}. Best is trial 12 with value: 161.29774214799508.\n",
      "[I 2024-06-20 04:38:28,541] Trial 16 finished with value: 163.65852794490547 and parameters: {'booster': 'dart', 'lambda': 0.15216681388919384, 'alpha': 2.789662234918717e-05, 'learning_rate': 0.00249026937240459, 'subsample': 0.32235034060773315, 'colsample_bytree': 0.7555241330055187, 'max_depth': 5, 'min_child_weight': 8, 'eta': 4.350050209261965e-06, 'gamma': 1.3196330453217023e-07, 'grow_policy': 'depthwise', 'sample_type': 'uniform', 'normalize_type': 'forest', 'rate_drop': 0.7162943451135902, 'skip_drop': 8.932431708059397e-06}. Best is trial 12 with value: 161.29774214799508.\n"
     ]
    },
    {
     "name": "stdout",
     "output_type": "stream",
     "text": [
      "Trial: 13 - MSE: 161.38403425567827 - RMSE: 12.703701596608694\n",
      "Trial: 14 - MSE: 270.2422719104539 - RMSE: 16.43904717161107\n",
      "Trial: 15 - MSE: 162.80048169808668 - RMSE: 12.759329202512438\n",
      "Trial: 16 - MSE: 163.65852794490547 - RMSE: 12.792909283853517\n"
     ]
    },
    {
     "name": "stderr",
     "output_type": "stream",
     "text": [
      "[I 2024-06-20 04:38:28,638] Trial 17 finished with value: 162.042378395599 and parameters: {'booster': 'dart', 'lambda': 0.7566347971901534, 'alpha': 1.0372667538052704e-07, 'learning_rate': 0.00158851560128689, 'subsample': 0.3947189202511361, 'colsample_bytree': 0.30949669904013033, 'max_depth': 9, 'min_child_weight': 8, 'eta': 0.0291901665240558, 'gamma': 8.842399979411696e-06, 'grow_policy': 'lossguide', 'sample_type': 'weighted', 'normalize_type': 'tree', 'rate_drop': 0.004586775293966421, 'skip_drop': 1.1993382889279655e-06}. Best is trial 12 with value: 161.29774214799508.\n",
      "[I 2024-06-20 04:38:28,710] Trial 18 finished with value: 163.73506995050644 and parameters: {'booster': 'dart', 'lambda': 0.0025627076544643963, 'alpha': 0.10767856739285658, 'learning_rate': 0.0028382531929288662, 'subsample': 0.2556091525074376, 'colsample_bytree': 0.28208149282182476, 'max_depth': 7, 'min_child_weight': 5, 'eta': 0.0003479612294989041, 'gamma': 0.002062130936583094, 'grow_policy': 'depthwise', 'sample_type': 'uniform', 'normalize_type': 'forest', 'rate_drop': 1.171101277169781e-06, 'skip_drop': 0.43137455297443217}. Best is trial 12 with value: 161.29774214799508.\n",
      "[I 2024-06-20 04:38:28,798] Trial 19 finished with value: 166.96832116069407 and parameters: {'booster': 'dart', 'lambda': 1.4782995771191493e-06, 'alpha': 4.7736704132196456e-08, 'learning_rate': 0.004570062987773994, 'subsample': 0.29690498619026834, 'colsample_bytree': 0.8452800583260172, 'max_depth': 5, 'min_child_weight': 8, 'eta': 1.1892256734381546e-08, 'gamma': 7.924624710189557e-08, 'grow_policy': 'depthwise', 'sample_type': 'uniform', 'normalize_type': 'forest', 'rate_drop': 0.024695439557917837, 'skip_drop': 0.0013138370647247713}. Best is trial 12 with value: 161.29774214799508.\n"
     ]
    },
    {
     "name": "stdout",
     "output_type": "stream",
     "text": [
      "Trial: 17 - MSE: 162.042378395599 - RMSE: 12.729586733103279\n",
      "Trial: 18 - MSE: 163.73506995050644 - RMSE: 12.795900513465492\n",
      "Trial: 19 - MSE: 166.96832116069407 - RMSE: 12.921622234096386\n"
     ]
    },
    {
     "name": "stderr",
     "output_type": "stream",
     "text": [
      "[I 2024-06-20 04:38:28,944] Trial 20 finished with value: 161.46369221692848 and parameters: {'booster': 'dart', 'lambda': 0.040228918971229176, 'alpha': 3.883652349339767e-05, 'learning_rate': 0.0010207608027053019, 'subsample': 0.4238665962654147, 'colsample_bytree': 0.46644017007815064, 'max_depth': 9, 'min_child_weight': 5, 'eta': 1.2965069427346305e-05, 'gamma': 1.7494394866012337e-05, 'grow_policy': 'depthwise', 'sample_type': 'weighted', 'normalize_type': 'tree', 'rate_drop': 1.9808397964493442e-05, 'skip_drop': 8.117383030682036e-07}. Best is trial 12 with value: 161.29774214799508.\n",
      "[I 2024-06-20 04:38:29,075] Trial 21 finished with value: 161.40174970853505 and parameters: {'booster': 'dart', 'lambda': 0.20384080435048424, 'alpha': 0.7456672315803131, 'learning_rate': 0.0010512618666527688, 'subsample': 0.956472272061307, 'colsample_bytree': 0.40271986144694716, 'max_depth': 9, 'min_child_weight': 7, 'eta': 0.015566591347633217, 'gamma': 6.664279679928287e-07, 'grow_policy': 'depthwise', 'sample_type': 'uniform', 'normalize_type': 'forest', 'rate_drop': 1.0447670374521952e-08, 'skip_drop': 1.4374628037412354e-08}. Best is trial 12 with value: 161.29774214799508.\n"
     ]
    },
    {
     "name": "stdout",
     "output_type": "stream",
     "text": [
      "Trial: 20 - MSE: 161.46369221692848 - RMSE: 12.70683643622316\n",
      "Trial: 21 - MSE: 161.40174970853505 - RMSE: 12.704398833023744\n"
     ]
    },
    {
     "name": "stderr",
     "output_type": "stream",
     "text": [
      "[I 2024-06-20 04:38:29,182] Trial 22 finished with value: 162.22725464248356 and parameters: {'booster': 'dart', 'lambda': 0.9361023156828073, 'alpha': 0.10854560627592687, 'learning_rate': 0.0017198140304184823, 'subsample': 0.9077002936743552, 'colsample_bytree': 0.2774967790339725, 'max_depth': 9, 'min_child_weight': 7, 'eta': 0.00082842018685201, 'gamma': 1.243990056898091e-07, 'grow_policy': 'depthwise', 'sample_type': 'uniform', 'normalize_type': 'forest', 'rate_drop': 8.892925463029344e-08, 'skip_drop': 1.2397476227372908e-08}. Best is trial 12 with value: 161.29774214799508.\n",
      "[I 2024-06-20 04:38:29,279] Trial 23 finished with value: 161.40958198384217 and parameters: {'booster': 'dart', 'lambda': 0.2361590176931297, 'alpha': 0.01794146219250801, 'learning_rate': 0.0010041631562110642, 'subsample': 0.6260488003796605, 'colsample_bytree': 0.5840181017056707, 'max_depth': 7, 'min_child_weight': 9, 'eta': 0.055166136452912615, 'gamma': 1.8434092141776495e-06, 'grow_policy': 'depthwise', 'sample_type': 'uniform', 'normalize_type': 'forest', 'rate_drop': 5.3945156657660706e-05, 'skip_drop': 4.3859629506854427e-07}. Best is trial 12 with value: 161.29774214799508.\n",
      "[I 2024-06-20 04:38:29,375] Trial 24 finished with value: 164.65573078142984 and parameters: {'booster': 'dart', 'lambda': 0.005881242355813637, 'alpha': 2.5382381042936945e-07, 'learning_rate': 0.003419003421296406, 'subsample': 0.9852173757274252, 'colsample_bytree': 0.4287399241723925, 'max_depth': 9, 'min_child_weight': 5, 'eta': 4.353833132439133e-05, 'gamma': 3.181426453892401e-07, 'grow_policy': 'depthwise', 'sample_type': 'uniform', 'normalize_type': 'forest', 'rate_drop': 0.04525710843409875, 'skip_drop': 1.3381873364100722e-07}. Best is trial 12 with value: 161.29774214799508.\n"
     ]
    },
    {
     "name": "stdout",
     "output_type": "stream",
     "text": [
      "Trial: 22 - MSE: 162.22725464248356 - RMSE: 12.736846338182916\n",
      "Trial: 23 - MSE: 161.40958198384217 - RMSE: 12.70470707981267\n",
      "Trial: 24 - MSE: 164.65573078142984 - RMSE: 12.831824920151842\n"
     ]
    },
    {
     "name": "stderr",
     "output_type": "stream",
     "text": [
      "[I 2024-06-20 04:38:29,562] Trial 25 finished with value: 161.20189444809324 and parameters: {'booster': 'gblinear', 'lambda': 0.08876968996756403, 'alpha': 0.8979379257802775, 'learning_rate': 0.0016401714807926014, 'subsample': 0.2478168593941566, 'colsample_bytree': 0.3266222680545591}. Best is trial 25 with value: 161.20189444809324.\n",
      "[I 2024-06-20 04:38:29,744] Trial 26 finished with value: 162.393447163551 and parameters: {'booster': 'gblinear', 'lambda': 0.06373881441610157, 'alpha': 2.2307290230618338e-08, 'learning_rate': 0.0017697153449172996, 'subsample': 0.2546511330845022, 'colsample_bytree': 0.08645391071437769}. Best is trial 25 with value: 161.20189444809324.\n"
     ]
    },
    {
     "name": "stdout",
     "output_type": "stream",
     "text": [
      "Trial: 25 - MSE: 161.20189444809324 - RMSE: 12.69653080365236\n",
      "Trial: 26 - MSE: 162.393447163551 - RMSE: 12.743368752553266\n"
     ]
    },
    {
     "name": "stderr",
     "output_type": "stream",
     "text": [
      "[I 2024-06-20 04:38:29,990] Trial 27 finished with value: 166.8364876781104 and parameters: {'booster': 'gblinear', 'lambda': 0.0008693141697365208, 'alpha': 3.460586746469339e-07, 'learning_rate': 0.004700156763160016, 'subsample': 0.26167694811985703, 'colsample_bytree': 0.32816713081138826}. Best is trial 25 with value: 161.20189444809324.\n"
     ]
    },
    {
     "name": "stdout",
     "output_type": "stream",
     "text": [
      "Trial: 27 - MSE: 166.8364876781104 - RMSE: 12.916519952297925\n"
     ]
    },
    {
     "name": "stderr",
     "output_type": "stream",
     "text": [
      "[I 2024-06-20 04:38:30,253] Trial 28 finished with value: 162.03195465732048 and parameters: {'booster': 'gblinear', 'lambda': 0.01504150050812815, 'alpha': 0.00011365279402935097, 'learning_rate': 0.0014381663926467038, 'subsample': 0.37827231614051265, 'colsample_bytree': 0.552894418247898}. Best is trial 25 with value: 161.20189444809324.\n"
     ]
    },
    {
     "name": "stdout",
     "output_type": "stream",
     "text": [
      "Trial: 28 - MSE: 162.03195465732048 - RMSE: 12.729177296955232\n"
     ]
    },
    {
     "name": "stderr",
     "output_type": "stream",
     "text": [
      "[I 2024-06-20 04:38:30,484] Trial 29 finished with value: 181.5760967334648 and parameters: {'booster': 'gblinear', 'lambda': 0.09118090290399453, 'alpha': 0.0007810193599312827, 'learning_rate': 0.016413807360066847, 'subsample': 0.21588536524871094, 'colsample_bytree': 0.22861285016981822}. Best is trial 25 with value: 161.20189444809324.\n",
      "[I 2024-06-20 04:38:30,549] Trial 30 finished with value: 214.38595757118856 and parameters: {'booster': 'gblinear', 'lambda': 0.4072260586520016, 'alpha': 3.3628165825450534e-06, 'learning_rate': 0.06111350870109744, 'subsample': 0.4616328676623104, 'colsample_bytree': 0.12778846567007532}. Best is trial 25 with value: 161.20189444809324.\n",
      "[I 2024-06-20 04:38:30,639] Trial 31 finished with value: 161.63422784474628 and parameters: {'booster': 'dart', 'lambda': 0.2490737307983482, 'alpha': 0.9663445420175614, 'learning_rate': 0.0012718178006551819, 'subsample': 0.27979392841047573, 'colsample_bytree': 0.35714496404025664, 'max_depth': 7, 'min_child_weight': 7, 'eta': 0.004745975904084899, 'gamma': 5.341422482208413e-06, 'grow_policy': 'lossguide', 'sample_type': 'uniform', 'normalize_type': 'forest', 'rate_drop': 2.821374809967478e-06, 'skip_drop': 1.0812115951384605e-08}. Best is trial 25 with value: 161.20189444809324.\n"
     ]
    },
    {
     "name": "stdout",
     "output_type": "stream",
     "text": [
      "Trial: 29 - MSE: 181.5760967334648 - RMSE: 13.475017504013298\n",
      "Trial: 30 - MSE: 214.38595757118856 - RMSE: 14.641924653924038\n",
      "Trial: 31 - MSE: 161.63422784474628 - RMSE: 12.713545054183207\n"
     ]
    },
    {
     "name": "stderr",
     "output_type": "stream",
     "text": [
      "[I 2024-06-20 04:38:30,717] Trial 32 finished with value: 162.47546988183691 and parameters: {'booster': 'dart', 'lambda': 0.022893787182531895, 'alpha': 0.14059812858513623, 'learning_rate': 0.0018267642272366605, 'subsample': 0.6536746850711119, 'colsample_bytree': 0.4336680729441544, 'max_depth': 9, 'min_child_weight': 6, 'eta': 0.0002659674771216104, 'gamma': 5.912178186569013e-08, 'grow_policy': 'depthwise', 'sample_type': 'uniform', 'normalize_type': 'forest', 'rate_drop': 0.001024437055946244, 'skip_drop': 7.409851644865323e-06}. Best is trial 25 with value: 161.20189444809324.\n",
      "[I 2024-06-20 04:38:30,806] Trial 33 finished with value: 161.56867948188065 and parameters: {'booster': 'dart', 'lambda': 0.33031388828853553, 'alpha': 0.03534771361995101, 'learning_rate': 0.0012800501327253412, 'subsample': 0.691033087105835, 'colsample_bytree': 0.253194058961144, 'max_depth': 7, 'min_child_weight': 9, 'eta': 3.1092786840871637e-06, 'gamma': 2.8272257507608288e-05, 'grow_policy': 'depthwise', 'sample_type': 'weighted', 'normalize_type': 'tree', 'rate_drop': 0.0806701553043466, 'skip_drop': 1.598589810001582e-07}. Best is trial 25 with value: 161.20189444809324.\n",
      "[I 2024-06-20 04:38:30,865] Trial 34 finished with value: 162.13008780970418 and parameters: {'booster': 'gblinear', 'lambda': 0.9946485832103098, 'alpha': 0.33273113798263726, 'learning_rate': 0.0035699182104979815, 'subsample': 0.8654356593110522, 'colsample_bytree': 0.6304698485255125}. Best is trial 25 with value: 161.20189444809324.\n",
      "[I 2024-06-20 04:38:30,893] Trial 35 finished with value: 162.54594360343143 and parameters: {'booster': 'gblinear', 'lambda': 0.07658817720492576, 'alpha': 0.012550579332106165, 'learning_rate': 0.0019153439536997697, 'subsample': 0.7762730917499041, 'colsample_bytree': 0.32646935250061737}. Best is trial 25 with value: 161.20189444809324.\n"
     ]
    },
    {
     "name": "stdout",
     "output_type": "stream",
     "text": [
      "Trial: 32 - MSE: 162.47546988183691 - RMSE: 12.746586597275245\n",
      "Trial: 33 - MSE: 161.56867948188065 - RMSE: 12.71096689799327\n",
      "Trial: 34 - MSE: 162.13008780970418 - RMSE: 12.733031367655707\n",
      "Trial: 35 - MSE: 162.54594360343143 - RMSE: 12.749350713014033\n"
     ]
    },
    {
     "name": "stderr",
     "output_type": "stream",
     "text": [
      "[I 2024-06-20 04:38:30,962] Trial 36 finished with value: 180.50694565753096 and parameters: {'booster': 'gbtree', 'lambda': 7.247409598278569e-07, 'alpha': 0.00035901549011207594, 'learning_rate': 0.013951356522363375, 'subsample': 0.5560371147740342, 'colsample_bytree': 0.45639145713613977, 'max_depth': 9, 'min_child_weight': 6, 'eta': 0.00098807531220144, 'gamma': 1.643904004787723e-06, 'grow_policy': 'depthwise'}. Best is trial 25 with value: 161.20189444809324.\n",
      "[I 2024-06-20 04:38:31,036] Trial 37 finished with value: 161.74378673428882 and parameters: {'booster': 'dart', 'lambda': 0.0070597692161196305, 'alpha': 2.8190556698806008e-08, 'learning_rate': 0.0012492807520324894, 'subsample': 0.3591319890075223, 'colsample_bytree': 0.5223634481282696, 'max_depth': 5, 'min_child_weight': 8, 'eta': 7.567652739688299e-07, 'gamma': 0.000296645264038442, 'grow_policy': 'lossguide', 'sample_type': 'uniform', 'normalize_type': 'forest', 'rate_drop': 2.745648200747335e-07, 'skip_drop': 0.0001332452098233135}. Best is trial 25 with value: 161.20189444809324.\n",
      "[I 2024-06-20 04:38:31,064] Trial 38 finished with value: 169.56627859940207 and parameters: {'booster': 'gblinear', 'lambda': 0.025876214616843595, 'alpha': 0.0033741152400585295, 'learning_rate': 0.006757644432443982, 'subsample': 0.418530179054157, 'colsample_bytree': 0.1616010355521499}. Best is trial 25 with value: 161.20189444809324.\n",
      "[I 2024-06-20 04:38:31,119] Trial 39 finished with value: 163.30230458777012 and parameters: {'booster': 'gbtree', 'lambda': 0.12439409170205042, 'alpha': 0.3277336576401333, 'learning_rate': 0.0022014059451785557, 'subsample': 0.3187577661196015, 'colsample_bytree': 0.6812881316197004, 'max_depth': 7, 'min_child_weight': 9, 'eta': 0.14939568171087858, 'gamma': 2.6950128252876187e-07, 'grow_policy': 'depthwise'}. Best is trial 25 with value: 161.20189444809324.\n"
     ]
    },
    {
     "name": "stdout",
     "output_type": "stream",
     "text": [
      "Trial: 36 - MSE: 180.50694565753096 - RMSE: 13.43528733066513\n",
      "Trial: 37 - MSE: 161.74378673428882 - RMSE: 12.717853070950648\n",
      "Trial: 38 - MSE: 169.56627859940207 - RMSE: 13.021761731785837\n",
      "Trial: 39 - MSE: 163.30230458777012 - RMSE: 12.778979011946538\n"
     ]
    },
    {
     "name": "stderr",
     "output_type": "stream",
     "text": [
      "[I 2024-06-20 04:38:31,194] Trial 40 finished with value: 164.44289472010533 and parameters: {'booster': 'dart', 'lambda': 0.001269677657279767, 'alpha': 0.04742114917135529, 'learning_rate': 0.0033815994552406363, 'subsample': 0.23058434442708722, 'colsample_bytree': 0.23247435956521614, 'max_depth': 9, 'min_child_weight': 5, 'eta': 0.008538874544127125, 'gamma': 0.6474202580871199, 'grow_policy': 'depthwise', 'sample_type': 'uniform', 'normalize_type': 'forest', 'rate_drop': 1.5177879196323118e-05, 'skip_drop': 2.2036129834630824e-06}. Best is trial 25 with value: 161.20189444809324.\n",
      "[I 2024-06-20 04:38:31,269] Trial 41 finished with value: 161.4177700527949 and parameters: {'booster': 'dart', 'lambda': 0.37289250992796424, 'alpha': 0.9903980128300086, 'learning_rate': 0.001066540939032404, 'subsample': 0.9992606679229701, 'colsample_bytree': 0.40192220670810325, 'max_depth': 9, 'min_child_weight': 7, 'eta': 0.06010665107397115, 'gamma': 5.63797279996379e-07, 'grow_policy': 'depthwise', 'sample_type': 'uniform', 'normalize_type': 'forest', 'rate_drop': 2.5855426958081858e-08, 'skip_drop': 1.2976373639748224e-08}. Best is trial 25 with value: 161.20189444809324.\n",
      "[I 2024-06-20 04:38:31,342] Trial 42 finished with value: 161.36393428191568 and parameters: {'booster': 'dart', 'lambda': 0.19063567867112344, 'alpha': 0.23896299834299845, 'learning_rate': 0.0010233290138930346, 'subsample': 0.9471012176199848, 'colsample_bytree': 0.40196771490119154, 'max_depth': 9, 'min_child_weight': 7, 'eta': 0.0001624897758798918, 'gamma': 7.682852415801924e-07, 'grow_policy': 'depthwise', 'sample_type': 'uniform', 'normalize_type': 'forest', 'rate_drop': 1.8416340898473106e-08, 'skip_drop': 3.887608088204837e-08}. Best is trial 25 with value: 161.20189444809324.\n"
     ]
    },
    {
     "name": "stdout",
     "output_type": "stream",
     "text": [
      "Trial: 40 - MSE: 164.44289472010533 - RMSE: 12.823528949556176\n",
      "Trial: 41 - MSE: 161.4177700527949 - RMSE: 12.70502932120957\n",
      "Trial: 42 - MSE: 161.36393428191568 - RMSE: 12.702910465004297\n"
     ]
    },
    {
     "name": "stderr",
     "output_type": "stream",
     "text": [
      "[I 2024-06-20 04:38:31,434] Trial 43 finished with value: 161.9837728892306 and parameters: {'booster': 'dart', 'lambda': 1.2638725300929134e-08, 'alpha': 0.2806481611343507, 'learning_rate': 0.0015284144820924442, 'subsample': 0.9111998117495592, 'colsample_bytree': 0.34272262083378635, 'max_depth': 9, 'min_child_weight': 6, 'eta': 0.00019720132848226945, 'gamma': 3.863154362163179e-08, 'grow_policy': 'depthwise', 'sample_type': 'uniform', 'normalize_type': 'forest', 'rate_drop': 1.4625962797730678e-07, 'skip_drop': 6.500800495469562e-08}. Best is trial 25 with value: 161.20189444809324.\n",
      "[I 2024-06-20 04:38:31,554] Trial 44 finished with value: 161.78177492583714 and parameters: {'booster': 'dart', 'lambda': 0.051731019554244244, 'alpha': 0.044272562113944224, 'learning_rate': 0.0012581798969209833, 'subsample': 0.841951388528543, 'colsample_bytree': 0.5058413899007574, 'max_depth': 9, 'min_child_weight': 7, 'eta': 1.9145315963375893e-05, 'gamma': 1.6455416385663017e-06, 'grow_policy': 'depthwise', 'sample_type': 'uniform', 'normalize_type': 'forest', 'rate_drop': 3.9884087795581744e-08, 'skip_drop': 2.6680098486344824e-07}. Best is trial 25 with value: 161.20189444809324.\n",
      "[I 2024-06-20 04:38:31,614] Trial 45 finished with value: 161.05531510720618 and parameters: {'booster': 'gbtree', 'lambda': 0.00013067657212798497, 'alpha': 0.00941120005138902, 'learning_rate': 0.0010074704215545054, 'subsample': 0.9411283463642115, 'colsample_bytree': 0.285213015046115, 'max_depth': 9, 'min_child_weight': 8, 'eta': 0.0005109582553853315, 'gamma': 3.6981632211044425e-06, 'grow_policy': 'depthwise'}. Best is trial 45 with value: 161.05531510720618.\n"
     ]
    },
    {
     "name": "stdout",
     "output_type": "stream",
     "text": [
      "Trial: 43 - MSE: 161.9837728892306 - RMSE: 12.727284584279186\n",
      "Trial: 44 - MSE: 161.78177492583714 - RMSE: 12.71934648186915\n",
      "Trial: 45 - MSE: 161.05531510720618 - RMSE: 12.690757073839455\n"
     ]
    },
    {
     "name": "stderr",
     "output_type": "stream",
     "text": [
      "[I 2024-06-20 04:38:31,687] Trial 46 finished with value: 162.23422662805908 and parameters: {'booster': 'gbtree', 'lambda': 0.00035010292712119614, 'alpha': 0.008286306108553746, 'learning_rate': 0.002121849080818576, 'subsample': 0.8912680001378714, 'colsample_bytree': 0.2905722347013122, 'max_depth': 7, 'min_child_weight': 8, 'eta': 0.00011052689878935614, 'gamma': 4.669439779607623e-06, 'grow_policy': 'lossguide'}. Best is trial 45 with value: 161.05531510720618.\n",
      "[I 2024-06-20 04:38:31,748] Trial 47 finished with value: 161.37696914757305 and parameters: {'booster': 'gbtree', 'lambda': 3.9050569724262905e-05, 'alpha': 0.0022245148292681393, 'learning_rate': 0.0015053429460137838, 'subsample': 0.7648505288031935, 'colsample_bytree': 0.20262295841333133, 'max_depth': 9, 'min_child_weight': 9, 'eta': 0.00042420073613919963, 'gamma': 2.634779826388555e-05, 'grow_policy': 'depthwise'}. Best is trial 45 with value: 161.05531510720618.\n",
      "[I 2024-06-20 04:38:31,833] Trial 48 finished with value: 163.31028160282168 and parameters: {'booster': 'gbtree', 'lambda': 6.763271412977869e-07, 'alpha': 2.237653374611099e-06, 'learning_rate': 0.0027106830849143865, 'subsample': 0.8090442741438795, 'colsample_bytree': 0.3605604044540754, 'max_depth': 7, 'min_child_weight': 4, 'eta': 1.0486342911207373e-05, 'gamma': 0.00017305822003248168, 'grow_policy': 'lossguide'}. Best is trial 45 with value: 161.05531510720618.\n"
     ]
    },
    {
     "name": "stdout",
     "output_type": "stream",
     "text": [
      "Trial: 46 - MSE: 162.23422662805908 - RMSE: 12.737120028800037\n",
      "Trial: 47 - MSE: 161.37696914757305 - RMSE: 12.70342352075113\n",
      "Trial: 48 - MSE: 163.31028160282168 - RMSE: 12.779291122860519\n"
     ]
    },
    {
     "name": "stderr",
     "output_type": "stream",
     "text": [
      "[I 2024-06-20 04:38:31,896] Trial 49 finished with value: 161.26202247723023 and parameters: {'booster': 'gbtree', 'lambda': 6.495851913477067e-06, 'alpha': 1.384668965283331e-05, 'learning_rate': 0.0011992850458753415, 'subsample': 0.9311242651695674, 'colsample_bytree': 0.2544418812582713, 'max_depth': 9, 'min_child_weight': 2, 'eta': 7.099116615683972e-05, 'gamma': 6.894803033279929e-05, 'grow_policy': 'depthwise'}. Best is trial 45 with value: 161.05531510720618.\n",
      "[I 2024-06-20 04:38:31,947] Trial 50 finished with value: 160.57882815217755 and parameters: {'booster': 'gbtree', 'lambda': 7.333758919934169e-06, 'alpha': 3.126050122440584e-07, 'learning_rate': 0.0012534620089913239, 'subsample': 0.23553789057162483, 'colsample_bytree': 0.15159264749049792, 'max_depth': 7, 'min_child_weight': 2, 'eta': 8.26093477483777e-05, 'gamma': 0.0009269897043548009, 'grow_policy': 'depthwise'}. Best is trial 50 with value: 160.57882815217755.\n",
      "[I 2024-06-20 04:38:31,997] Trial 51 finished with value: 160.58543134028395 and parameters: {'booster': 'gbtree', 'lambda': 5.0884615967147074e-06, 'alpha': 1.15125727476732e-05, 'learning_rate': 0.0012628684039114905, 'subsample': 0.24315289504405085, 'colsample_bytree': 0.13691824198672292, 'max_depth': 7, 'min_child_weight': 2, 'eta': 5.860639811460709e-05, 'gamma': 0.0016762689275200816, 'grow_policy': 'depthwise'}. Best is trial 50 with value: 160.57882815217755.\n",
      "[I 2024-06-20 04:38:32,046] Trial 52 finished with value: 160.3214808786077 and parameters: {'booster': 'gbtree', 'lambda': 4.797632995263331e-06, 'alpha': 1.2049340454579834e-05, 'learning_rate': 0.0013611639137981217, 'subsample': 0.29403456490112784, 'colsample_bytree': 0.10264212602689718, 'max_depth': 7, 'min_child_weight': 2, 'eta': 5.290302586289632e-05, 'gamma': 0.0015847431489687102, 'grow_policy': 'depthwise'}. Best is trial 52 with value: 160.3214808786077.\n"
     ]
    },
    {
     "name": "stdout",
     "output_type": "stream",
     "text": [
      "Trial: 49 - MSE: 161.26202247723023 - RMSE: 12.698898474955623\n",
      "Trial: 50 - MSE: 160.57882815217755 - RMSE: 12.671970176423931\n",
      "Trial: 51 - MSE: 160.58543134028395 - RMSE: 12.672230716818722\n",
      "Trial: 52 - MSE: 160.3214808786077 - RMSE: 12.661811911358015\n"
     ]
    },
    {
     "name": "stderr",
     "output_type": "stream",
     "text": [
      "[I 2024-06-20 04:38:32,099] Trial 53 finished with value: 160.71552106689825 and parameters: {'booster': 'gbtree', 'lambda': 7.97861012031558e-06, 'alpha': 1.061833146742573e-05, 'learning_rate': 0.0015223070529914308, 'subsample': 0.2864810117919221, 'colsample_bytree': 0.14114810413355208, 'max_depth': 7, 'min_child_weight': 2, 'eta': 5.033737090788652e-05, 'gamma': 0.002476303948503387, 'grow_policy': 'depthwise'}. Best is trial 52 with value: 160.3214808786077.\n",
      "[I 2024-06-20 04:38:32,149] Trial 54 finished with value: 161.02259321914084 and parameters: {'booster': 'gbtree', 'lambda': 3.393656679021388e-06, 'alpha': 1.1055399265550033e-05, 'learning_rate': 0.002153915008814079, 'subsample': 0.3041870780225239, 'colsample_bytree': 0.1348557630866639, 'max_depth': 7, 'min_child_weight': 2, 'eta': 1.5331599854224263e-06, 'gamma': 0.001118597211836149, 'grow_policy': 'depthwise'}. Best is trial 52 with value: 160.3214808786077.\n",
      "[I 2024-06-20 04:38:32,196] Trial 55 finished with value: 160.58325116376994 and parameters: {'booster': 'gbtree', 'lambda': 4.631403630330891e-05, 'alpha': 8.017191917016389e-06, 'learning_rate': 0.0023163489221816732, 'subsample': 0.2929188171806844, 'colsample_bytree': 0.05341309236642776, 'max_depth': 7, 'min_child_weight': 2, 'eta': 1.2930648359795965e-06, 'gamma': 0.0023095144412704424, 'grow_policy': 'depthwise'}. Best is trial 52 with value: 160.3214808786077.\n",
      "[I 2024-06-20 04:38:32,243] Trial 56 finished with value: 160.59077806308522 and parameters: {'booster': 'gbtree', 'lambda': 5.009274166849144e-06, 'alpha': 1.0843775963018356e-05, 'learning_rate': 0.0023609014451510505, 'subsample': 0.2948543983069063, 'colsample_bytree': 0.05558508635262681, 'max_depth': 7, 'min_child_weight': 2, 'eta': 9.696774077122666e-08, 'gamma': 0.003725906455280268, 'grow_policy': 'depthwise'}. Best is trial 52 with value: 160.3214808786077.\n",
      "[I 2024-06-20 04:38:32,290] Trial 57 finished with value: 161.0064947421277 and parameters: {'booster': 'gbtree', 'lambda': 2.955998481775455e-05, 'alpha': 6.140677064879211e-05, 'learning_rate': 0.0038707854074835363, 'subsample': 0.34346970499917, 'colsample_bytree': 0.05205453482321644, 'max_depth': 7, 'min_child_weight': 3, 'eta': 1.2387893488190298e-07, 'gamma': 0.02174681645317165, 'grow_policy': 'depthwise'}. Best is trial 52 with value: 160.3214808786077.\n"
     ]
    },
    {
     "name": "stdout",
     "output_type": "stream",
     "text": [
      "Trial: 53 - MSE: 160.71552106689825 - RMSE: 12.677362543798226\n",
      "Trial: 54 - MSE: 161.02259321914084 - RMSE: 12.689467806773491\n",
      "Trial: 55 - MSE: 160.58325116376994 - RMSE: 12.67214469471407\n",
      "Trial: 56 - MSE: 160.59077806308522 - RMSE: 12.672441677241416\n",
      "Trial: 57 - MSE: 161.0064947421277 - RMSE: 12.688833466561364\n"
     ]
    },
    {
     "name": "stderr",
     "output_type": "stream",
     "text": [
      "[I 2024-06-20 04:38:32,337] Trial 58 finished with value: 160.6498279311291 and parameters: {'booster': 'gbtree', 'lambda': 4.410232432918303e-05, 'alpha': 1.0905326793729355e-06, 'learning_rate': 0.002530749265483125, 'subsample': 0.2801636041694571, 'colsample_bytree': 0.10439868447201445, 'max_depth': 7, 'min_child_weight': 3, 'eta': 9.848646820905148e-08, 'gamma': 0.014461039742606192, 'grow_policy': 'depthwise'}. Best is trial 52 with value: 160.3214808786077.\n",
      "[I 2024-06-20 04:38:32,384] Trial 59 finished with value: 160.77348072291062 and parameters: {'booster': 'gbtree', 'lambda': 4.846394443527418e-05, 'alpha': 5.550546954503895e-07, 'learning_rate': 0.0030026403325637964, 'subsample': 0.3416638548278346, 'colsample_bytree': 0.10075890625774303, 'max_depth': 7, 'min_child_weight': 3, 'eta': 2.9914421109191465e-08, 'gamma': 0.013872727520741951, 'grow_policy': 'depthwise'}. Best is trial 52 with value: 160.3214808786077.\n",
      "[I 2024-06-20 04:38:32,430] Trial 60 finished with value: 160.6353233534798 and parameters: {'booster': 'gbtree', 'lambda': 1.518173095743839e-07, 'alpha': 2.283181654101014e-06, 'learning_rate': 0.0025160448352723845, 'subsample': 0.3910372887517859, 'colsample_bytree': 0.05091646760027553, 'max_depth': 5, 'min_child_weight': 2, 'eta': 3.6223371807383615e-07, 'gamma': 0.0978807528967683, 'grow_policy': 'depthwise'}. Best is trial 52 with value: 160.3214808786077.\n",
      "[I 2024-06-20 04:38:32,476] Trial 61 finished with value: 160.61714400886385 and parameters: {'booster': 'gbtree', 'lambda': 1.21073319916748e-07, 'alpha': 1.4285769424662349e-06, 'learning_rate': 0.0024349832315730567, 'subsample': 0.3852494438689025, 'colsample_bytree': 0.05386482024105722, 'max_depth': 5, 'min_child_weight': 2, 'eta': 2.2042543755469892e-07, 'gamma': 0.06764236321122317, 'grow_policy': 'depthwise'}. Best is trial 52 with value: 160.3214808786077.\n",
      "[I 2024-06-20 04:38:32,522] Trial 62 finished with value: 161.5512185707729 and parameters: {'booster': 'gbtree', 'lambda': 1.2850153990077292e-07, 'alpha': 2.1951419914039135e-06, 'learning_rate': 0.006036830481983824, 'subsample': 0.4562900051446202, 'colsample_bytree': 0.058898650561404794, 'max_depth': 5, 'min_child_weight': 2, 'eta': 2.87269823232209e-07, 'gamma': 0.13047593652290382, 'grow_policy': 'depthwise'}. Best is trial 52 with value: 160.3214808786077.\n"
     ]
    },
    {
     "name": "stdout",
     "output_type": "stream",
     "text": [
      "Trial: 58 - MSE: 160.6498279311291 - RMSE: 12.674771316719253\n",
      "Trial: 59 - MSE: 160.77348072291062 - RMSE: 12.67964828861237\n",
      "Trial: 60 - MSE: 160.6353233534798 - RMSE: 12.674199120791807\n",
      "Trial: 61 - MSE: 160.61714400886385 - RMSE: 12.673481921274194\n",
      "Trial: 62 - MSE: 161.5512185707729 - RMSE: 12.710280035104375\n"
     ]
    },
    {
     "name": "stderr",
     "output_type": "stream",
     "text": [
      "[I 2024-06-20 04:38:32,574] Trial 63 finished with value: 162.06054070613317 and parameters: {'booster': 'gbtree', 'lambda': 1.4196454067154526e-07, 'alpha': 5.82810592443975e-06, 'learning_rate': 0.004240086846672374, 'subsample': 0.3621733577007581, 'colsample_bytree': 0.17295222830077123, 'max_depth': 5, 'min_child_weight': 3, 'eta': 6.80705307127817e-07, 'gamma': 0.0767138287915359, 'grow_policy': 'depthwise'}. Best is trial 52 with value: 160.3214808786077.\n",
      "[I 2024-06-20 04:38:32,626] Trial 64 finished with value: 160.58157859789557 and parameters: {'booster': 'gbtree', 'lambda': 2.372860287319143e-06, 'alpha': 2.5028648282113635e-05, 'learning_rate': 0.0023134357255149038, 'subsample': 0.38852709501919264, 'colsample_bytree': 0.07887160246517785, 'max_depth': 5, 'min_child_weight': 2, 'eta': 6.590332993748683e-06, 'gamma': 0.0008246359607137454, 'grow_policy': 'depthwise'}. Best is trial 52 with value: 160.3214808786077.\n",
      "[I 2024-06-20 04:38:32,672] Trial 65 finished with value: 160.7796956144338 and parameters: {'booster': 'gbtree', 'lambda': 1.752380797234736e-05, 'alpha': 2.3826589785851225e-05, 'learning_rate': 0.0030591884681804497, 'subsample': 0.2408266852708693, 'colsample_bytree': 0.10062540396442052, 'max_depth': 5, 'min_child_weight': 2, 'eta': 3.95695851723652e-06, 'gamma': 0.0007659221221085293, 'grow_policy': 'depthwise'}. Best is trial 52 with value: 160.3214808786077.\n",
      "[I 2024-06-20 04:38:32,717] Trial 66 finished with value: 162.3630870684458 and parameters: {'booster': 'gbtree', 'lambda': 2.899908955400675e-06, 'alpha': 0.00013027632027760104, 'learning_rate': 0.005631593910925216, 'subsample': 0.5043252490235758, 'colsample_bytree': 0.15380879558615076, 'max_depth': 3, 'min_child_weight': 3, 'eta': 9.202595538473146e-06, 'gamma': 0.0045274616368328946, 'grow_policy': 'depthwise'}. Best is trial 52 with value: 160.3214808786077.\n",
      "[I 2024-06-20 04:38:32,764] Trial 67 finished with value: 160.46477807302625 and parameters: {'booster': 'gbtree', 'lambda': 5.596409272542661e-07, 'alpha': 1.933915475621189e-05, 'learning_rate': 0.0019178449726638513, 'subsample': 0.31791548365013983, 'colsample_bytree': 0.08178425043786113, 'max_depth': 7, 'min_child_weight': 2, 'eta': 5.433435337026919e-08, 'gamma': 0.0005654614944668671, 'grow_policy': 'depthwise'}. Best is trial 52 with value: 160.3214808786077.\n"
     ]
    },
    {
     "name": "stdout",
     "output_type": "stream",
     "text": [
      "Trial: 63 - MSE: 162.06054070613317 - RMSE: 12.730300102752219\n",
      "Trial: 64 - MSE: 160.58157859789557 - RMSE: 12.672078700745809\n",
      "Trial: 65 - MSE: 160.7796956144338 - RMSE: 12.679893359742179\n",
      "Trial: 66 - MSE: 162.3630870684458 - RMSE: 12.742177485361196\n",
      "Trial: 67 - MSE: 160.46477807302625 - RMSE: 12.667469284471396\n"
     ]
    },
    {
     "name": "stderr",
     "output_type": "stream",
     "text": [
      "[I 2024-06-20 04:38:32,820] Trial 68 finished with value: 161.79237076639018 and parameters: {'booster': 'gbtree', 'lambda': 6.855690191482554e-07, 'alpha': 5.6870921852130495e-05, 'learning_rate': 0.0019663772651883236, 'subsample': 0.20393771442556508, 'colsample_bytree': 0.18758766141006122, 'max_depth': 7, 'min_child_weight': 3, 'eta': 5.296194013815241e-08, 'gamma': 0.0004633305740723981, 'grow_policy': 'depthwise'}. Best is trial 52 with value: 160.3214808786077.\n",
      "[I 2024-06-20 04:38:32,872] Trial 69 finished with value: 160.42434187913975 and parameters: {'booster': 'gbtree', 'lambda': 1.163888225197275e-06, 'alpha': 2.1528201833579853e-05, 'learning_rate': 0.0017723350727370626, 'subsample': 0.3105752544470965, 'colsample_bytree': 0.11844046803398463, 'max_depth': 7, 'min_child_weight': 2, 'eta': 1.713535290507579e-08, 'gamma': 0.001604330616417635, 'grow_policy': 'depthwise'}. Best is trial 52 with value: 160.3214808786077.\n",
      "[I 2024-06-20 04:38:32,922] Trial 70 finished with value: 160.41671725272943 and parameters: {'booster': 'gbtree', 'lambda': 1.4491768673239493e-06, 'alpha': 0.00020169633732649854, 'learning_rate': 0.0017421964584214168, 'subsample': 0.3210765484271145, 'colsample_bytree': 0.12248439522105853, 'max_depth': 7, 'min_child_weight': 2, 'eta': 1.465505953151554e-08, 'gamma': 0.0011279249041605533, 'grow_policy': 'lossguide'}. Best is trial 52 with value: 160.3214808786077.\n",
      "[I 2024-06-20 04:38:32,979] Trial 71 finished with value: 160.40522555164165 and parameters: {'booster': 'gbtree', 'lambda': 2.8696760398909257e-07, 'alpha': 0.00025544610225675926, 'learning_rate': 0.001698320927396891, 'subsample': 0.32547924106081305, 'colsample_bytree': 0.11919049522799147, 'max_depth': 7, 'min_child_weight': 2, 'eta': 1.664026020660725e-08, 'gamma': 0.001176993481352838, 'grow_policy': 'lossguide'}. Best is trial 52 with value: 160.3214808786077.\n"
     ]
    },
    {
     "name": "stdout",
     "output_type": "stream",
     "text": [
      "Trial: 68 - MSE: 161.79237076639018 - RMSE: 12.719762999615606\n",
      "Trial: 69 - MSE: 160.42434187913975 - RMSE: 12.665873119494753\n",
      "Trial: 70 - MSE: 160.41671725272943 - RMSE: 12.66557212496654\n",
      "Trial: 71 - MSE: 160.40522555164165 - RMSE: 12.665118457860615\n"
     ]
    },
    {
     "name": "stderr",
     "output_type": "stream",
     "text": [
      "[I 2024-06-20 04:38:33,035] Trial 72 finished with value: 160.40700659614356 and parameters: {'booster': 'gbtree', 'lambda': 2.8284420211443966e-07, 'alpha': 0.0002768659260083529, 'learning_rate': 0.0016988551844514016, 'subsample': 0.3175346729631468, 'colsample_bytree': 0.11537790906462408, 'max_depth': 7, 'min_child_weight': 2, 'eta': 1.0110539825661114e-08, 'gamma': 0.0008179511744142206, 'grow_policy': 'lossguide'}. Best is trial 52 with value: 160.3214808786077.\n",
      "[I 2024-06-20 04:38:33,108] Trial 73 finished with value: 160.4356641007291 and parameters: {'booster': 'gbtree', 'lambda': 3.201711214892308e-07, 'alpha': 0.0002224173546353475, 'learning_rate': 0.00178931160069691, 'subsample': 0.3309033313974585, 'colsample_bytree': 0.1206721886110122, 'max_depth': 7, 'min_child_weight': 3, 'eta': 1.0223410106816498e-08, 'gamma': 0.0005494675987732236, 'grow_policy': 'lossguide'}. Best is trial 52 with value: 160.3214808786077.\n",
      "[I 2024-06-20 04:38:33,219] Trial 74 finished with value: 161.5754283982558 and parameters: {'booster': 'gbtree', 'lambda': 3.0206807682308416e-07, 'alpha': 0.0002338483567600222, 'learning_rate': 0.001740886543014808, 'subsample': 0.3236308450068946, 'colsample_bytree': 0.21655424926407704, 'max_depth': 7, 'min_child_weight': 3, 'eta': 1.033691105285399e-08, 'gamma': 0.00019371542508284933, 'grow_policy': 'lossguide'}. Best is trial 52 with value: 160.3214808786077.\n"
     ]
    },
    {
     "name": "stdout",
     "output_type": "stream",
     "text": [
      "Trial: 72 - MSE: 160.40700659614356 - RMSE: 12.665188770647816\n",
      "Trial: 73 - MSE: 160.4356641007291 - RMSE: 12.666320069409627\n",
      "Trial: 74 - MSE: 161.5754283982558 - RMSE: 12.71123237134212\n"
     ]
    },
    {
     "name": "stderr",
     "output_type": "stream",
     "text": [
      "[I 2024-06-20 04:38:33,276] Trial 75 finished with value: 160.4788417585379 and parameters: {'booster': 'gbtree', 'lambda': 3.4039602126616885e-07, 'alpha': 0.00043254522928531236, 'learning_rate': 0.001901475327583445, 'subsample': 0.26675057135037517, 'colsample_bytree': 0.11725031621732426, 'max_depth': 7, 'min_child_weight': 4, 'eta': 2.065527897462783e-08, 'gamma': 0.0004381239406358646, 'grow_policy': 'lossguide'}. Best is trial 52 with value: 160.3214808786077.\n",
      "[I 2024-06-20 04:38:33,348] Trial 76 finished with value: 160.46063324161494 and parameters: {'booster': 'gbtree', 'lambda': 2.950268891710683e-07, 'alpha': 0.0007426342668860922, 'learning_rate': 0.001842681258805924, 'subsample': 0.2696065259737165, 'colsample_bytree': 0.12118010228697663, 'max_depth': 7, 'min_child_weight': 4, 'eta': 2.091816797797295e-08, 'gamma': 0.00034056638221525103, 'grow_policy': 'lossguide'}. Best is trial 52 with value: 160.3214808786077.\n"
     ]
    },
    {
     "name": "stdout",
     "output_type": "stream",
     "text": [
      "Trial: 75 - MSE: 160.4788417585379 - RMSE: 12.668024382615384\n",
      "Trial: 76 - MSE: 160.46063324161494 - RMSE: 12.667305682015215\n"
     ]
    },
    {
     "name": "stderr",
     "output_type": "stream",
     "text": [
      "[I 2024-06-20 04:38:33,493] Trial 77 finished with value: 162.3139697730082 and parameters: {'booster': 'gbtree', 'lambda': 4.572969839332515e-08, 'alpha': 0.001417301143403276, 'learning_rate': 0.0014909124147255343, 'subsample': 0.4262260790853153, 'colsample_bytree': 0.8700452412254249, 'max_depth': 7, 'min_child_weight': 4, 'eta': 2.3676766581789208e-08, 'gamma': 0.00013734203567503117, 'grow_policy': 'lossguide'}. Best is trial 52 with value: 160.3214808786077.\n",
      "[I 2024-06-20 04:38:33,551] Trial 78 finished with value: 165.57824852541557 and parameters: {'booster': 'gbtree', 'lambda': 1.5392057405354092e-06, 'alpha': 0.00020585832089749955, 'learning_rate': 0.011281321094524462, 'subsample': 0.3319195081962517, 'colsample_bytree': 0.18205465860407366, 'max_depth': 7, 'min_child_weight': 3, 'eta': 5.562646188444456e-08, 'gamma': 0.00712532999312429, 'grow_policy': 'lossguide'}. Best is trial 52 with value: 160.3214808786077.\n",
      "[I 2024-06-20 04:38:33,601] Trial 79 finished with value: 160.41395884962603 and parameters: {'booster': 'gbtree', 'lambda': 3.004377663528764e-07, 'alpha': 0.000501463464548992, 'learning_rate': 0.0016911826067616204, 'subsample': 0.3645150328774193, 'colsample_bytree': 0.08651560023902641, 'max_depth': 7, 'min_child_weight': 3, 'eta': 1.525888169589984e-08, 'gamma': 0.00036114530782543354, 'grow_policy': 'lossguide'}. Best is trial 52 with value: 160.3214808786077.\n",
      "[I 2024-06-20 04:38:33,650] Trial 80 finished with value: 166.70308266704114 and parameters: {'booster': 'gbtree', 'lambda': 6.885886874810932e-08, 'alpha': 0.0006770302036468027, 'learning_rate': 0.024522967233496347, 'subsample': 0.3671788103680998, 'colsample_bytree': 0.10746127980374483, 'max_depth': 7, 'min_child_weight': 3, 'eta': 1.7181134494263785e-08, 'gamma': 7.735349963726768e-05, 'grow_policy': 'lossguide'}. Best is trial 52 with value: 160.3214808786077.\n"
     ]
    },
    {
     "name": "stdout",
     "output_type": "stream",
     "text": [
      "Trial: 77 - MSE: 162.3139697730082 - RMSE: 12.740249988638693\n",
      "Trial: 78 - MSE: 165.57824852541557 - RMSE: 12.867721186185827\n",
      "Trial: 79 - MSE: 160.41395884962603 - RMSE: 12.665463230755757\n",
      "Trial: 80 - MSE: 166.70308266704114 - RMSE: 12.911354795955425\n"
     ]
    },
    {
     "name": "stderr",
     "output_type": "stream",
     "text": [
      "[I 2024-06-20 04:38:33,701] Trial 81 finished with value: 160.40318559129693 and parameters: {'booster': 'gbtree', 'lambda': 2.5814969412800713e-07, 'alpha': 7.265067012773925e-05, 'learning_rate': 0.0016980808658948936, 'subsample': 0.31135928992571654, 'colsample_bytree': 0.08633236641527178, 'max_depth': 7, 'min_child_weight': 2, 'eta': 4.15769878613626e-08, 'gamma': 0.0003690130039677112, 'grow_policy': 'lossguide'}. Best is trial 52 with value: 160.3214808786077.\n",
      "[I 2024-06-20 04:38:33,752] Trial 82 finished with value: 160.4189975526517 and parameters: {'booster': 'gbtree', 'lambda': 3.167423034955681e-07, 'alpha': 7.420260384414278e-05, 'learning_rate': 0.0016868300126463153, 'subsample': 0.2670132100455878, 'colsample_bytree': 0.1234189610535121, 'max_depth': 7, 'min_child_weight': 4, 'eta': 3.33002210756899e-08, 'gamma': 0.00025343761091725664, 'grow_policy': 'lossguide'}. Best is trial 52 with value: 160.3214808786077.\n",
      "[I 2024-06-20 04:38:33,803] Trial 83 finished with value: 160.39896924459111 and parameters: {'booster': 'gbtree', 'lambda': 1.3197579967004094e-06, 'alpha': 6.467334868018955e-05, 'learning_rate': 0.0016561628323073817, 'subsample': 0.4088317311989465, 'colsample_bytree': 0.08622804527312339, 'max_depth': 7, 'min_child_weight': 3, 'eta': 4.137982674595549e-08, 'gamma': 0.0011290221361331826, 'grow_policy': 'lossguide'}. Best is trial 52 with value: 160.3214808786077.\n",
      "[I 2024-06-20 04:38:33,855] Trial 84 finished with value: 173.47134589631756 and parameters: {'booster': 'gbtree', 'lambda': 1.6482662873025838e-06, 'alpha': 6.797518457041616e-05, 'learning_rate': 0.04987398723687719, 'subsample': 0.40678795254515, 'colsample_bytree': 0.08280682684717441, 'max_depth': 7, 'min_child_weight': 3, 'eta': 3.678687773480216e-08, 'gamma': 0.001335066433634731, 'grow_policy': 'lossguide'}. Best is trial 52 with value: 160.3214808786077.\n"
     ]
    },
    {
     "name": "stdout",
     "output_type": "stream",
     "text": [
      "Trial: 81 - MSE: 160.40318559129693 - RMSE: 12.665037923010612\n",
      "Trial: 82 - MSE: 160.4189975526517 - RMSE: 12.665662144264378\n",
      "Trial: 83 - MSE: 160.39896924459111 - RMSE: 12.664871465774578\n",
      "Trial: 84 - MSE: 173.47134589631756 - RMSE: 13.17085213250523\n"
     ]
    },
    {
     "name": "stderr",
     "output_type": "stream",
     "text": [
      "[I 2024-06-20 04:38:33,914] Trial 85 finished with value: 160.64033845440008 and parameters: {'booster': 'gbtree', 'lambda': 2.091423059837792e-08, 'alpha': 3.892309381783305e-05, 'learning_rate': 0.0013938297555647493, 'subsample': 0.30761886099718827, 'colsample_bytree': 0.16202050030387874, 'max_depth': 7, 'min_child_weight': 2, 'eta': 3.6043880702888675e-08, 'gamma': 0.00022453336489125587, 'grow_policy': 'lossguide'}. Best is trial 52 with value: 160.3214808786077.\n",
      "[I 2024-06-20 04:38:33,985] Trial 86 finished with value: 161.03675740735878 and parameters: {'booster': 'gbtree', 'lambda': 9.46860878947943e-07, 'alpha': 0.00010413228785421094, 'learning_rate': 0.0011607825202423962, 'subsample': 0.4441215948342525, 'colsample_bytree': 0.20487129437297735, 'max_depth': 7, 'min_child_weight': 4, 'eta': 1.479575012918943e-08, 'gamma': 0.00358802382735129, 'grow_policy': 'lossguide'}. Best is trial 52 with value: 160.3214808786077.\n",
      "[I 2024-06-20 04:38:34,036] Trial 87 finished with value: 160.4010745177249 and parameters: {'booster': 'gbtree', 'lambda': 2.2359711391490943e-07, 'alpha': 0.00014752207647682037, 'learning_rate': 0.0016516688454857157, 'subsample': 0.3581455125815087, 'colsample_bytree': 0.09440544012505818, 'max_depth': 7, 'min_child_weight': 2, 'eta': 8.235041170582788e-08, 'gamma': 0.00011416303912191617, 'grow_policy': 'lossguide'}. Best is trial 52 with value: 160.3214808786077.\n",
      "[I 2024-06-20 04:38:34,089] Trial 88 finished with value: 160.3790357265379 and parameters: {'booster': 'gbtree', 'lambda': 2.266734251233403e-07, 'alpha': 0.0004934168932654812, 'learning_rate': 0.001572420525390122, 'subsample': 0.3570576418202479, 'colsample_bytree': 0.0838590438921227, 'max_depth': 7, 'min_child_weight': 2, 'eta': 1.5912058266681835e-07, 'gamma': 4.689513689510453e-05, 'grow_policy': 'lossguide'}. Best is trial 52 with value: 160.3214808786077.\n"
     ]
    },
    {
     "name": "stdout",
     "output_type": "stream",
     "text": [
      "Trial: 85 - MSE: 160.64033845440008 - RMSE: 12.674396966104544\n",
      "Trial: 86 - MSE: 161.03675740735878 - RMSE: 12.690025902548772\n",
      "Trial: 87 - MSE: 160.4010745177249 - RMSE: 12.664954580168256\n",
      "Trial: 88 - MSE: 160.3790357265379 - RMSE: 12.664084480393278\n"
     ]
    },
    {
     "name": "stderr",
     "output_type": "stream",
     "text": [
      "[I 2024-06-20 04:38:34,140] Trial 89 finished with value: 160.33235678201075 and parameters: {'booster': 'gbtree', 'lambda': 8.18544755226846e-08, 'alpha': 0.0013230133079054967, 'learning_rate': 0.0013907624361128462, 'subsample': 0.3656532087317693, 'colsample_bytree': 0.0912889427182767, 'max_depth': 7, 'min_child_weight': 2, 'eta': 1.4445692815051713e-07, 'gamma': 0.00011250663848044916, 'grow_policy': 'lossguide'}. Best is trial 52 with value: 160.3214808786077.\n",
      "[I 2024-06-20 04:38:34,208] Trial 90 finished with value: 160.26002131793862 and parameters: {'booster': 'gbtree', 'lambda': 2.9243914690426626e-08, 'alpha': 0.0015674191791535668, 'learning_rate': 0.001137279749620812, 'subsample': 0.4872111726080016, 'colsample_bytree': 0.08511226054765895, 'max_depth': 7, 'min_child_weight': 2, 'eta': 1.5520755755200328e-07, 'gamma': 4.7207329366202515e-05, 'grow_policy': 'lossguide'}. Best is trial 90 with value: 160.26002131793862.\n",
      "[I 2024-06-20 04:38:34,304] Trial 91 finished with value: 160.32578452564078 and parameters: {'booster': 'gbtree', 'lambda': 8.290769014142461e-08, 'alpha': 0.001354324940513196, 'learning_rate': 0.0013755086306005975, 'subsample': 0.4754768155223809, 'colsample_bytree': 0.09247121367540902, 'max_depth': 7, 'min_child_weight': 2, 'eta': 1.419750102006691e-07, 'gamma': 3.5894790916872054e-05, 'grow_policy': 'lossguide'}. Best is trial 90 with value: 160.26002131793862.\n"
     ]
    },
    {
     "name": "stdout",
     "output_type": "stream",
     "text": [
      "Trial: 89 - MSE: 160.33235678201075 - RMSE: 12.662241380656537\n",
      "Trial: 90 - MSE: 160.26002131793862 - RMSE: 12.659384713244899\n",
      "Trial: 91 - MSE: 160.32578452564078 - RMSE: 12.661981856156673\n"
     ]
    },
    {
     "name": "stderr",
     "output_type": "stream",
     "text": [
      "[I 2024-06-20 04:38:34,356] Trial 92 finished with value: 160.3317613075732 and parameters: {'booster': 'gbtree', 'lambda': 2.490882797502251e-08, 'alpha': 0.0016349325961340215, 'learning_rate': 0.001396124767998207, 'subsample': 0.4809501796229234, 'colsample_bytree': 0.07448541915585238, 'max_depth': 7, 'min_child_weight': 2, 'eta': 1.6491664436938032e-07, 'gamma': 1.244882445387297e-05, 'grow_policy': 'lossguide'}. Best is trial 90 with value: 160.26002131793862.\n",
      "[I 2024-06-20 04:38:34,407] Trial 93 finished with value: 160.33426659495174 and parameters: {'booster': 'gbtree', 'lambda': 3.026795788424906e-08, 'alpha': 0.0014978547944908525, 'learning_rate': 0.0014120486735027828, 'subsample': 0.4867906083958573, 'colsample_bytree': 0.0748313676032045, 'max_depth': 7, 'min_child_weight': 2, 'eta': 1.9889066787025818e-07, 'gamma': 1.1521517563134989e-05, 'grow_policy': 'lossguide'}. Best is trial 90 with value: 160.26002131793862.\n",
      "[I 2024-06-20 04:38:34,458] Trial 94 finished with value: 160.25616897457965 and parameters: {'booster': 'gbtree', 'lambda': 6.345455086977928e-08, 'alpha': 0.0014098433736486112, 'learning_rate': 0.0011259621834358992, 'subsample': 0.5661590070757975, 'colsample_bytree': 0.07316442112874563, 'max_depth': 7, 'min_child_weight': 2, 'eta': 1.6756116039536554e-07, 'gamma': 1.9909003535176968e-05, 'grow_policy': 'lossguide'}. Best is trial 94 with value: 160.25616897457965.\n",
      "[I 2024-06-20 04:38:34,510] Trial 95 finished with value: 160.32915462379862 and parameters: {'booster': 'gbtree', 'lambda': 3.243702492385868e-08, 'alpha': 0.0021911251778669507, 'learning_rate': 0.0013917741564990261, 'subsample': 0.49189321394218016, 'colsample_bytree': 0.07340339392591101, 'max_depth': 7, 'min_child_weight': 2, 'eta': 1.6364669680895508e-07, 'gamma': 1.1379210303581623e-05, 'grow_policy': 'lossguide'}. Best is trial 94 with value: 160.25616897457965.\n"
     ]
    },
    {
     "name": "stdout",
     "output_type": "stream",
     "text": [
      "Trial: 92 - MSE: 160.3317613075732 - RMSE: 12.662217866849915\n",
      "Trial: 93 - MSE: 160.33426659495174 - RMSE: 12.662316794131781\n",
      "Trial: 94 - MSE: 160.25616897457965 - RMSE: 12.659232558673517\n",
      "Trial: 95 - MSE: 160.32915462379862 - RMSE: 12.66211493486766\n"
     ]
    },
    {
     "name": "stderr",
     "output_type": "stream",
     "text": [
      "[I 2024-06-20 04:38:34,571] Trial 96 finished with value: 160.26255386749295 and parameters: {'booster': 'gbtree', 'lambda': 2.591438044554292e-08, 'alpha': 0.0013895216032974425, 'learning_rate': 0.001145069437319859, 'subsample': 0.563257634319806, 'colsample_bytree': 0.07298072147600378, 'max_depth': 7, 'min_child_weight': 2, 'eta': 1.7512863315467436e-07, 'gamma': 1.3690716887841807e-05, 'grow_policy': 'lossguide'}. Best is trial 94 with value: 160.25616897457965.\n",
      "[I 2024-06-20 04:38:34,666] Trial 97 finished with value: 160.32304740755353 and parameters: {'booster': 'gbtree', 'lambda': 2.7573395248860465e-08, 'alpha': 0.001253426085787693, 'learning_rate': 0.0013632938941770987, 'subsample': 0.5569502982767511, 'colsample_bytree': 0.07412683266174995, 'max_depth': 7, 'min_child_weight': 2, 'eta': 4.434916702116717e-07, 'gamma': 1.2466362819231841e-05, 'grow_policy': 'lossguide'}. Best is trial 94 with value: 160.25616897457965.\n",
      "[I 2024-06-20 04:38:34,725] Trial 98 finished with value: 160.53449248137917 and parameters: {'booster': 'gbtree', 'lambda': 2.54403060353968e-08, 'alpha': 0.001402754352877844, 'learning_rate': 0.0011637842686839563, 'subsample': 0.5826427759717527, 'colsample_bytree': 0.15218560914233326, 'max_depth': 7, 'min_child_weight': 2, 'eta': 4.785213373026754e-07, 'gamma': 1.1102573858664079e-05, 'grow_policy': 'lossguide'}. Best is trial 94 with value: 160.25616897457965.\n"
     ]
    },
    {
     "name": "stdout",
     "output_type": "stream",
     "text": [
      "Trial: 96 - MSE: 160.26255386749295 - RMSE: 12.659484739415461\n",
      "Trial: 97 - MSE: 160.32304740755353 - RMSE: 12.661873771585054\n",
      "Trial: 98 - MSE: 160.53449248137917 - RMSE: 12.67022069584343\n"
     ]
    },
    {
     "name": "stderr",
     "output_type": "stream",
     "text": [
      "[I 2024-06-20 04:38:34,788] Trial 99 finished with value: 160.32377414561387 and parameters: {'booster': 'gbtree', 'lambda': 1.4764381624728027e-08, 'alpha': 0.006639386111854284, 'learning_rate': 0.0013709078573252993, 'subsample': 0.5274810369675217, 'colsample_bytree': 0.0718003803519881, 'max_depth': 7, 'min_child_weight': 2, 'eta': 2.356617559467337e-07, 'gamma': 2.719117999570968e-05, 'grow_policy': 'lossguide'}. Best is trial 94 with value: 160.25616897457965.\n"
     ]
    },
    {
     "name": "stdout",
     "output_type": "stream",
     "text": [
      "Trial: 99 - MSE: 160.32377414561387 - RMSE: 12.661902469440122\n"
     ]
    }
   ],
   "source": [
    "# configuration optuna\n",
    "study_g = optuna.create_study(direction='minimize')\n",
    "study_g.optimize(lambda trial: objective(trial, X_g_train, y_g_train, X_g_test, y_g_test), n_trials=n_trials)"
   ]
  },
  {
   "cell_type": "code",
   "execution_count": 16,
   "metadata": {},
   "outputs": [
    {
     "name": "stdout",
     "output_type": "stream",
     "text": [
      "Número de pruebas: 100\n",
      "Mejor prueba: 94\n",
      "Mejores parametros: {'booster': 'gbtree', 'lambda': 6.345455086977928e-08, 'alpha': 0.0014098433736486112, 'learning_rate': 0.0011259621834358992, 'subsample': 0.5661590070757975, 'colsample_bytree': 0.07316442112874563, 'max_depth': 7, 'min_child_weight': 2, 'eta': 1.6756116039536554e-07, 'gamma': 1.9909003535176968e-05, 'grow_policy': 'lossguide'}\n",
      "Mejor valor de pérdida: 160.25616897457965\n"
     ]
    }
   ],
   "source": [
    "# Results\n",
    "print(f'Número de pruebas: {len(study_g.trials)}')\n",
    "trial = study_g.best_trial\n",
    "print(f'Mejor prueba: {trial.number}')\n",
    "print(f'Mejores parametros: {trial.params}')\n",
    "print(f'Mejor valor de pérdida: {trial.value}')"
   ]
  },
  {
   "cell_type": "markdown",
   "metadata": {},
   "source": [
    "## Single Thread"
   ]
  },
  {
   "cell_type": "code",
   "execution_count": 17,
   "metadata": {},
   "outputs": [
    {
     "name": "stderr",
     "output_type": "stream",
     "text": [
      "[I 2024-06-20 04:38:34,834] A new study created in memory with name: no-name-3fbe27dd-d9d0-437b-9fcc-524a7fe40ea5\n",
      "[I 2024-06-20 04:38:35,002] Trial 0 finished with value: 44.951809255377164 and parameters: {'booster': 'dart', 'lambda': 4.502531508562798e-05, 'alpha': 2.5433415230861575e-06, 'learning_rate': 0.008413846032761697, 'subsample': 0.3308606705503636, 'colsample_bytree': 0.1126548499165686, 'max_depth': 3, 'min_child_weight': 5, 'eta': 1.5628499411243148e-07, 'gamma': 0.001400345781001432, 'grow_policy': 'depthwise', 'sample_type': 'uniform', 'normalize_type': 'forest', 'rate_drop': 4.383249839009795e-05, 'skip_drop': 7.517358674552468e-06}. Best is trial 0 with value: 44.951809255377164.\n"
     ]
    },
    {
     "name": "stdout",
     "output_type": "stream",
     "text": [
      "Trial: 0 - MSE: 44.951809255377164 - RMSE: 6.704611044302061\n"
     ]
    },
    {
     "name": "stderr",
     "output_type": "stream",
     "text": [
      "[I 2024-06-20 04:38:35,125] Trial 1 finished with value: 45.963203640022776 and parameters: {'booster': 'dart', 'lambda': 0.000341125928998226, 'alpha': 1.3513438132270579e-06, 'learning_rate': 0.00551974161343263, 'subsample': 0.5964790271280369, 'colsample_bytree': 0.30513720730911753, 'max_depth': 3, 'min_child_weight': 9, 'eta': 0.00033005456782818517, 'gamma': 1.9401582708187025e-08, 'grow_policy': 'lossguide', 'sample_type': 'uniform', 'normalize_type': 'forest', 'rate_drop': 2.4212642855417116e-08, 'skip_drop': 0.013258027492347566}. Best is trial 0 with value: 44.951809255377164.\n"
     ]
    },
    {
     "name": "stdout",
     "output_type": "stream",
     "text": [
      "Trial: 1 - MSE: 45.963203640022776 - RMSE: 6.779616776781913\n"
     ]
    },
    {
     "name": "stderr",
     "output_type": "stream",
     "text": [
      "[I 2024-06-20 04:38:35,209] Trial 2 finished with value: 48.16002765307305 and parameters: {'booster': 'dart', 'lambda': 0.40827671843861824, 'alpha': 5.490643286815762e-08, 'learning_rate': 0.009457528435941519, 'subsample': 0.4277315413892853, 'colsample_bytree': 0.7408205134021052, 'max_depth': 3, 'min_child_weight': 7, 'eta': 0.0005913887777654375, 'gamma': 0.007558967960345543, 'grow_policy': 'depthwise', 'sample_type': 'weighted', 'normalize_type': 'tree', 'rate_drop': 6.728822582555352e-07, 'skip_drop': 1.5758861786534337e-07}. Best is trial 0 with value: 44.951809255377164.\n",
      "[I 2024-06-20 04:38:35,249] Trial 3 finished with value: 61.68964778017931 and parameters: {'booster': 'dart', 'lambda': 1.305952558526151e-05, 'alpha': 0.0007210974461849, 'learning_rate': 0.0466771082536469, 'subsample': 0.9899992685035357, 'colsample_bytree': 0.21735174439294658, 'max_depth': 9, 'min_child_weight': 3, 'eta': 0.6578361226186004, 'gamma': 1.2053583547184215e-05, 'grow_policy': 'depthwise', 'sample_type': 'weighted', 'normalize_type': 'tree', 'rate_drop': 1.2582757234159302e-07, 'skip_drop': 6.558970635716975e-05}. Best is trial 0 with value: 44.951809255377164.\n"
     ]
    },
    {
     "name": "stdout",
     "output_type": "stream",
     "text": [
      "Trial: 2 - MSE: 48.16002765307305 - RMSE: 6.9397426215294935\n",
      "Trial: 3 - MSE: 61.68964778017931 - RMSE: 7.854275764205081\n"
     ]
    },
    {
     "name": "stderr",
     "output_type": "stream",
     "text": [
      "[I 2024-06-20 04:38:35,373] Trial 4 finished with value: 52.597988653046066 and parameters: {'booster': 'dart', 'lambda': 1.156718546011602e-07, 'alpha': 0.0003651083566559767, 'learning_rate': 0.01657933328127454, 'subsample': 0.8979307596918402, 'colsample_bytree': 0.5835806574897968, 'max_depth': 9, 'min_child_weight': 6, 'eta': 0.049211532472799406, 'gamma': 1.7922211096175454e-08, 'grow_policy': 'lossguide', 'sample_type': 'uniform', 'normalize_type': 'tree', 'rate_drop': 2.383159695611679e-08, 'skip_drop': 0.4100434552229653}. Best is trial 0 with value: 44.951809255377164.\n",
      "[I 2024-06-20 04:38:35,379] Trial 5 finished with value: 59.74695523012389 and parameters: {'booster': 'gblinear', 'lambda': 0.0008385948710366443, 'alpha': 0.004684032095378776, 'learning_rate': 0.02429743456524988, 'subsample': 0.2056195000425662, 'colsample_bytree': 0.49882176481865775}. Best is trial 0 with value: 44.951809255377164.\n",
      "[I 2024-06-20 04:38:35,395] Trial 6 finished with value: 45.158855086314574 and parameters: {'booster': 'gbtree', 'lambda': 0.0005188644899005819, 'alpha': 9.550146503943008e-08, 'learning_rate': 0.016525095597700965, 'subsample': 0.6280368644464668, 'colsample_bytree': 0.05383730587201352, 'max_depth': 7, 'min_child_weight': 8, 'eta': 9.53001619535849e-06, 'gamma': 6.465657602332328e-05, 'grow_policy': 'depthwise'}. Best is trial 0 with value: 44.951809255377164.\n"
     ]
    },
    {
     "name": "stdout",
     "output_type": "stream",
     "text": [
      "Trial: 4 - MSE: 52.597988653046066 - RMSE: 7.252447080334062\n",
      "Trial: 5 - MSE: 59.74695523012389 - RMSE: 7.729615464570271\n",
      "Trial: 6 - MSE: 45.158855086314574 - RMSE: 6.720033860503574\n"
     ]
    },
    {
     "name": "stderr",
     "output_type": "stream",
     "text": [
      "[I 2024-06-20 04:38:35,412] Trial 7 finished with value: 44.232773752158934 and parameters: {'booster': 'gbtree', 'lambda': 2.2886125707364726e-08, 'alpha': 0.00010019410031234374, 'learning_rate': 0.0026085893757820137, 'subsample': 0.6333975593059036, 'colsample_bytree': 0.17427341596777682, 'max_depth': 3, 'min_child_weight': 9, 'eta': 0.00018513916270336946, 'gamma': 8.934422497778141e-06, 'grow_policy': 'lossguide'}. Best is trial 7 with value: 44.232773752158934.\n",
      "[I 2024-06-20 04:38:35,481] Trial 8 finished with value: 48.04729624225508 and parameters: {'booster': 'dart', 'lambda': 0.0001296202157305891, 'alpha': 1.1245202951814393e-07, 'learning_rate': 0.008150142186103992, 'subsample': 0.4291417396353199, 'colsample_bytree': 0.7545671355812312, 'max_depth': 7, 'min_child_weight': 7, 'eta': 2.0459609353092646e-08, 'gamma': 1.5791983458794553e-05, 'grow_policy': 'lossguide', 'sample_type': 'weighted', 'normalize_type': 'tree', 'rate_drop': 0.01409197167576876, 'skip_drop': 2.1140380855656807e-05}. Best is trial 7 with value: 44.232773752158934.\n",
      "[I 2024-06-20 04:38:35,505] Trial 9 finished with value: 44.09153736951416 and parameters: {'booster': 'gbtree', 'lambda': 4.343803763709982e-05, 'alpha': 0.13557208616344435, 'learning_rate': 0.0010078095922010858, 'subsample': 0.9655079673438198, 'colsample_bytree': 0.8840714110002841, 'max_depth': 3, 'min_child_weight': 7, 'eta': 0.761805797258801, 'gamma': 4.3427152796621055e-05, 'grow_policy': 'lossguide'}. Best is trial 9 with value: 44.09153736951416.\n",
      "[I 2024-06-20 04:38:35,557] Trial 10 finished with value: 44.149560090362705 and parameters: {'booster': 'gbtree', 'lambda': 0.05670411512072529, 'alpha': 0.17525981810458477, 'learning_rate': 0.0010341499387304307, 'subsample': 0.8081119746942794, 'colsample_bytree': 0.8622897982715773, 'max_depth': 5, 'min_child_weight': 2, 'eta': 0.04750328055446389, 'gamma': 0.8346531660057809, 'grow_policy': 'lossguide'}. Best is trial 9 with value: 44.09153736951416.\n"
     ]
    },
    {
     "name": "stdout",
     "output_type": "stream",
     "text": [
      "Trial: 7 - MSE: 44.232773752158934 - RMSE: 6.650772417709009\n",
      "Trial: 8 - MSE: 48.04729624225508 - RMSE: 6.9316157021473055\n",
      "Trial: 9 - MSE: 44.09153736951416 - RMSE: 6.640145884656011\n",
      "Trial: 10 - MSE: 44.149560090362705 - RMSE: 6.644513533010728\n"
     ]
    },
    {
     "name": "stderr",
     "output_type": "stream",
     "text": [
      "[I 2024-06-20 04:38:35,610] Trial 11 finished with value: 44.189826042922114 and parameters: {'booster': 'gbtree', 'lambda': 0.09730672615013261, 'alpha': 0.9510252771996659, 'learning_rate': 0.0011031089881697997, 'subsample': 0.8321125493227206, 'colsample_bytree': 0.9952832516131714, 'max_depth': 5, 'min_child_weight': 3, 'eta': 0.04805187189993992, 'gamma': 0.370202024203968, 'grow_policy': 'lossguide'}. Best is trial 9 with value: 44.09153736951416.\n"
     ]
    },
    {
     "name": "stdout",
     "output_type": "stream",
     "text": [
      "Trial: 11 - MSE: 44.189826042922114 - RMSE: 6.647542857546848\n"
     ]
    },
    {
     "name": "stderr",
     "output_type": "stream",
     "text": [
      "[I 2024-06-20 04:38:35,662] Trial 12 finished with value: 44.27103273504495 and parameters: {'booster': 'gbtree', 'lambda': 0.015940434931377558, 'alpha': 0.4652954285093731, 'learning_rate': 0.0012564638951450885, 'subsample': 0.7761871327527603, 'colsample_bytree': 0.9904306073125824, 'max_depth': 5, 'min_child_weight': 5, 'eta': 0.4747256672139221, 'gamma': 0.6075416293643728, 'grow_policy': 'lossguide'}. Best is trial 9 with value: 44.09153736951416.\n",
      "[I 2024-06-20 04:38:35,714] Trial 13 finished with value: 45.077492445345975 and parameters: {'booster': 'gbtree', 'lambda': 4.516362161906965e-06, 'alpha': 0.035858256374098584, 'learning_rate': 0.0028071931766326308, 'subsample': 0.9946696612678141, 'colsample_bytree': 0.8187771867798729, 'max_depth': 5, 'min_child_weight': 4, 'eta': 0.015489082592593085, 'gamma': 7.022434766948353e-07, 'grow_policy': 'lossguide'}. Best is trial 9 with value: 44.09153736951416.\n",
      "[I 2024-06-20 04:38:35,736] Trial 14 finished with value: 45.171756069336766 and parameters: {'booster': 'gblinear', 'lambda': 0.008395539048360509, 'alpha': 0.039944831157953754, 'learning_rate': 0.0023836689163434116, 'subsample': 0.7444142454510805, 'colsample_bytree': 0.8709502593371227}. Best is trial 9 with value: 44.09153736951416.\n",
      "[I 2024-06-20 04:38:35,788] Trial 15 finished with value: 44.39410796607169 and parameters: {'booster': 'gbtree', 'lambda': 9.153236083986664e-07, 'alpha': 0.05859851366020562, 'learning_rate': 0.0015866891342372316, 'subsample': 0.899135834803817, 'colsample_bytree': 0.43648940465344915, 'max_depth': 5, 'min_child_weight': 2, 'eta': 0.005606389974677541, 'gamma': 0.007940936570183937, 'grow_policy': 'lossguide'}. Best is trial 9 with value: 44.09153736951416.\n"
     ]
    },
    {
     "name": "stdout",
     "output_type": "stream",
     "text": [
      "Trial: 12 - MSE: 44.27103273504495 - RMSE: 6.6536480771863\n",
      "Trial: 13 - MSE: 45.077492445345975 - RMSE: 6.713977393866171\n",
      "Trial: 14 - MSE: 45.171756069336766 - RMSE: 6.7209936816914775\n",
      "Trial: 15 - MSE: 44.39410796607169 - RMSE: 6.662890361252516\n"
     ]
    },
    {
     "name": "stderr",
     "output_type": "stream",
     "text": [
      "[I 2024-06-20 04:38:35,858] Trial 16 finished with value: 45.67571874231403 and parameters: {'booster': 'gbtree', 'lambda': 0.007143248414495646, 'alpha': 0.005859395388500994, 'learning_rate': 0.004022012555118596, 'subsample': 0.6930705922411169, 'colsample_bytree': 0.6231996699479583, 'max_depth': 7, 'min_child_weight': 10, 'eta': 3.9004226245293455e-06, 'gamma': 0.0009214745416642972, 'grow_policy': 'lossguide'}. Best is trial 9 with value: 44.09153736951416.\n"
     ]
    },
    {
     "name": "stdout",
     "output_type": "stream",
     "text": [
      "Trial: 16 - MSE: 45.67571874231403 - RMSE: 6.758381369996371\n"
     ]
    },
    {
     "name": "stderr",
     "output_type": "stream",
     "text": [
      "[I 2024-06-20 04:38:35,901] Trial 17 finished with value: 83.93736253582071 and parameters: {'booster': 'gbtree', 'lambda': 7.938632717694194e-07, 'alpha': 1.031484994250271e-05, 'learning_rate': 0.09790399797742737, 'subsample': 0.8694792746691429, 'colsample_bytree': 0.8881820568675716, 'max_depth': 3, 'min_child_weight': 6, 'eta': 0.0038655301125639493, 'gamma': 6.895712797691453e-07, 'grow_policy': 'lossguide'}. Best is trial 9 with value: 44.09153736951416.\n",
      "[I 2024-06-20 04:38:35,923] Trial 18 finished with value: 44.31257140958686 and parameters: {'booster': 'gblinear', 'lambda': 0.6330496972830951, 'alpha': 0.151747707662056, 'learning_rate': 0.0018665492372901063, 'subsample': 0.8024751025575553, 'colsample_bytree': 0.6885394376924439}. Best is trial 9 with value: 44.09153736951416.\n",
      "[I 2024-06-20 04:38:35,974] Trial 19 finished with value: 45.20799501992177 and parameters: {'booster': 'gbtree', 'lambda': 0.0026306498635257133, 'alpha': 0.0037789330163234608, 'learning_rate': 0.0034997861211707912, 'subsample': 0.925828768552003, 'colsample_bytree': 0.4024525367883252, 'max_depth': 5, 'min_child_weight': 2, 'eta': 0.8814939656387739, 'gamma': 0.0713421079641904, 'grow_policy': 'lossguide'}. Best is trial 9 with value: 44.09153736951416.\n",
      "[I 2024-06-20 04:38:36,016] Trial 20 finished with value: 46.045555578910886 and parameters: {'booster': 'gbtree', 'lambda': 0.05597234212225085, 'alpha': 0.008657924332018679, 'learning_rate': 0.004997427112364618, 'subsample': 0.5581549506279082, 'colsample_bytree': 0.909769184909433, 'max_depth': 3, 'min_child_weight': 7, 'eta': 0.09399101715175548, 'gamma': 0.0002773082280729477, 'grow_policy': 'lossguide'}. Best is trial 9 with value: 44.09153736951416.\n"
     ]
    },
    {
     "name": "stdout",
     "output_type": "stream",
     "text": [
      "Trial: 17 - MSE: 83.93736253582071 - RMSE: 9.161733598824009\n",
      "Trial: 18 - MSE: 44.31257140958686 - RMSE: 6.656768841531668\n",
      "Trial: 19 - MSE: 45.20799501992177 - RMSE: 6.723689093044217\n",
      "Trial: 20 - MSE: 46.045555578910886 - RMSE: 6.785687553882133\n"
     ]
    },
    {
     "name": "stderr",
     "output_type": "stream",
     "text": [
      "[I 2024-06-20 04:38:36,069] Trial 21 finished with value: 44.1488304736478 and parameters: {'booster': 'gbtree', 'lambda': 0.09168724497254217, 'alpha': 0.9628266404368803, 'learning_rate': 0.001015113940696038, 'subsample': 0.8468032373099281, 'colsample_bytree': 0.9951902709934146, 'max_depth': 5, 'min_child_weight': 3, 'eta': 0.09309778074110753, 'gamma': 0.75872966380925, 'grow_policy': 'lossguide'}. Best is trial 9 with value: 44.09153736951416.\n"
     ]
    },
    {
     "name": "stdout",
     "output_type": "stream",
     "text": [
      "Trial: 21 - MSE: 44.1488304736478 - RMSE: 6.644458629086932\n"
     ]
    },
    {
     "name": "stderr",
     "output_type": "stream",
     "text": [
      "[I 2024-06-20 04:38:36,122] Trial 22 finished with value: 44.141264429350066 and parameters: {'booster': 'gbtree', 'lambda': 0.06842589498264803, 'alpha': 0.2551371390352721, 'learning_rate': 0.0010181842084576878, 'subsample': 0.7322488990844268, 'colsample_bytree': 0.8073795255758902, 'max_depth': 5, 'min_child_weight': 3, 'eta': 0.14658428095993278, 'gamma': 0.07533094050896591, 'grow_policy': 'lossguide'}. Best is trial 9 with value: 44.09153736951416.\n",
      "[I 2024-06-20 04:38:36,191] Trial 23 finished with value: 44.56491359810631 and parameters: {'booster': 'gbtree', 'lambda': 5.377387465236116e-05, 'alpha': 0.9957866500915362, 'learning_rate': 0.001769467453882904, 'subsample': 0.7069368371604521, 'colsample_bytree': 0.9512126547315839, 'max_depth': 7, 'min_child_weight': 4, 'eta': 0.00251474335070889, 'gamma': 0.0664109520061423, 'grow_policy': 'lossguide'}. Best is trial 9 with value: 44.09153736951416.\n",
      "[I 2024-06-20 04:38:36,244] Trial 24 finished with value: 44.41818589240696 and parameters: {'booster': 'gbtree', 'lambda': 0.09326829275183192, 'alpha': 0.26457053792786034, 'learning_rate': 0.0015543425770139633, 'subsample': 0.9435461156479475, 'colsample_bytree': 0.790612318812886, 'max_depth': 5, 'min_child_weight': 4, 'eta': 0.18699523119944134, 'gamma': 0.03775090890698045, 'grow_policy': 'lossguide'}. Best is trial 9 with value: 44.09153736951416.\n",
      "[I 2024-06-20 04:38:36,267] Trial 25 finished with value: 44.27540538799216 and parameters: {'booster': 'gblinear', 'lambda': 0.0031764855321613694, 'alpha': 0.02199257878156909, 'learning_rate': 0.001000868717409431, 'subsample': 0.8402812717715522, 'colsample_bytree': 0.6782775563539806}. Best is trial 9 with value: 44.09153736951416.\n"
     ]
    },
    {
     "name": "stdout",
     "output_type": "stream",
     "text": [
      "Trial: 22 - MSE: 44.141264429350066 - RMSE: 6.643889254747559\n",
      "Trial: 23 - MSE: 44.56491359810631 - RMSE: 6.675695738880428\n",
      "Trial: 24 - MSE: 44.41818589240696 - RMSE: 6.664696984290206\n",
      "Trial: 25 - MSE: 44.27540538799216 - RMSE: 6.653976659712007\n"
     ]
    },
    {
     "name": "stderr",
     "output_type": "stream",
     "text": [
      "[I 2024-06-20 04:38:36,314] Trial 26 finished with value: 44.69821935037858 and parameters: {'booster': 'gbtree', 'lambda': 9.51725196972572e-06, 'alpha': 0.0012323227273943324, 'learning_rate': 0.0020787185148562226, 'subsample': 0.7111106888949545, 'colsample_bytree': 0.825103110430921, 'max_depth': 5, 'min_child_weight': 3, 'eta': 2.268952550812088e-05, 'gamma': 0.10790895518147271, 'grow_policy': 'depthwise'}. Best is trial 9 with value: 44.09153736951416.\n"
     ]
    },
    {
     "name": "stdout",
     "output_type": "stream",
     "text": [
      "Trial: 26 - MSE: 44.69821935037858 - RMSE: 6.6856726924355625\n"
     ]
    },
    {
     "name": "stderr",
     "output_type": "stream",
     "text": [
      "[I 2024-06-20 04:38:36,358] Trial 27 finished with value: 44.27253684389888 and parameters: {'booster': 'gbtree', 'lambda': 0.8705133750293644, 'alpha': 0.1390507092644585, 'learning_rate': 0.0013686390586998957, 'subsample': 0.5419445395476059, 'colsample_bytree': 0.9144963826058128, 'max_depth': 3, 'min_child_weight': 5, 'eta': 0.22947324602694671, 'gamma': 0.009303666210959212, 'grow_policy': 'lossguide'}. Best is trial 9 with value: 44.09153736951416.\n",
      "[I 2024-06-20 04:38:36,432] Trial 28 finished with value: 45.35971755244781 and parameters: {'booster': 'gbtree', 'lambda': 0.0017600798175517367, 'alpha': 1.1653907732930019e-08, 'learning_rate': 0.0033375140589802475, 'subsample': 0.94279532944841, 'colsample_bytree': 0.7074795375841083, 'max_depth': 7, 'min_child_weight': 8, 'eta': 0.015696577114853838, 'gamma': 8.119922220188211e-07, 'grow_policy': 'lossguide'}. Best is trial 9 with value: 44.09153736951416.\n",
      "[I 2024-06-20 04:38:36,508] Trial 29 finished with value: 47.98561990752907 and parameters: {'booster': 'gblinear', 'lambda': 0.0001534105712911708, 'alpha': 1.8654871520568384e-05, 'learning_rate': 0.006476053815262893, 'subsample': 0.7617910639760868, 'colsample_bytree': 0.6206563145631199}. Best is trial 9 with value: 44.09153736951416.\n"
     ]
    },
    {
     "name": "stdout",
     "output_type": "stream",
     "text": [
      "Trial: 27 - MSE: 44.27253684389888 - RMSE: 6.653761105111821\n",
      "Trial: 28 - MSE: 45.35971755244781 - RMSE: 6.734962327470571\n",
      "Trial: 29 - MSE: 47.98561990752907 - RMSE: 6.927165358754551\n"
     ]
    },
    {
     "name": "stderr",
     "output_type": "stream",
     "text": [
      "[I 2024-06-20 04:38:36,563] Trial 30 finished with value: 44.35517196071242 and parameters: {'booster': 'gbtree', 'lambda': 0.023648697267159742, 'alpha': 0.07276236923072336, 'learning_rate': 0.0014158599368097355, 'subsample': 0.8674975171832509, 'colsample_bytree': 0.9741409639835478, 'max_depth': 5, 'min_child_weight': 4, 'eta': 0.0020038687177755454, 'gamma': 0.0002350590320411792, 'grow_policy': 'lossguide'}. Best is trial 9 with value: 44.09153736951416.\n",
      "[I 2024-06-20 04:38:36,616] Trial 31 finished with value: 44.139493935283404 and parameters: {'booster': 'gbtree', 'lambda': 0.214203807810557, 'alpha': 0.2414564909941071, 'learning_rate': 0.0010163206360657804, 'subsample': 0.8090887316749272, 'colsample_bytree': 0.8337065191162031, 'max_depth': 5, 'min_child_weight': 2, 'eta': 0.03291118678476779, 'gamma': 0.8267367849952169, 'grow_policy': 'lossguide'}. Best is trial 9 with value: 44.09153736951416.\n",
      "[I 2024-06-20 04:38:36,669] Trial 32 finished with value: 44.1439672744042 and parameters: {'booster': 'gbtree', 'lambda': 0.19664294846875288, 'alpha': 0.40323447237360116, 'learning_rate': 0.0010206529361652928, 'subsample': 0.674713731954919, 'colsample_bytree': 0.7735173631443201, 'max_depth': 5, 'min_child_weight': 3, 'eta': 0.01735624880460455, 'gamma': 0.2683659360844326, 'grow_policy': 'lossguide'}. Best is trial 9 with value: 44.09153736951416.\n",
      "[I 2024-06-20 04:38:36,722] Trial 33 finished with value: 44.634537171404 and parameters: {'booster': 'gbtree', 'lambda': 0.27802898133174564, 'alpha': 0.013473861225424391, 'learning_rate': 0.001957302315066951, 'subsample': 0.656123586344285, 'colsample_bytree': 0.7770675765655861, 'max_depth': 5, 'min_child_weight': 2, 'eta': 0.013185889087598324, 'gamma': 0.1656671307672932, 'grow_policy': 'lossguide'}. Best is trial 9 with value: 44.09153736951416.\n"
     ]
    },
    {
     "name": "stdout",
     "output_type": "stream",
     "text": [
      "Trial: 30 - MSE: 44.35517196071242 - RMSE: 6.659967864840822\n",
      "Trial: 31 - MSE: 44.139493935283404 - RMSE: 6.643756011119268\n",
      "Trial: 32 - MSE: 44.1439672744042 - RMSE: 6.644092659980307\n",
      "Trial: 33 - MSE: 44.634537171404 - RMSE: 6.680908409146468\n"
     ]
    },
    {
     "name": "stderr",
     "output_type": "stream",
     "text": [
      "[I 2024-06-20 04:38:36,782] Trial 34 finished with value: 44.227247630128396 and parameters: {'booster': 'dart', 'lambda': 0.26607086265511776, 'alpha': 0.32235066684089675, 'learning_rate': 0.0013010032306508365, 'subsample': 0.5639688443348667, 'colsample_bytree': 0.8305728327308082, 'max_depth': 3, 'min_child_weight': 3, 'eta': 0.9213740751958452, 'gamma': 0.03027924706684692, 'grow_policy': 'lossguide', 'sample_type': 'uniform', 'normalize_type': 'forest', 'rate_drop': 0.19200118919280243, 'skip_drop': 2.4951380368550502e-08}. Best is trial 9 with value: 44.09153736951416.\n",
      "[I 2024-06-20 04:38:36,828] Trial 35 finished with value: 44.685378936411055 and parameters: {'booster': 'gbtree', 'lambda': 2.362326985886682e-05, 'alpha': 0.0018775775128565754, 'learning_rate': 0.0022113789845093277, 'subsample': 0.4904238828908313, 'colsample_bytree': 0.7375219542717445, 'max_depth': 3, 'min_child_weight': 5, 'eta': 0.1892902700662808, 'gamma': 0.0017127441845833527, 'grow_policy': 'depthwise'}. Best is trial 9 with value: 44.09153736951416.\n",
      "[I 2024-06-20 04:38:36,934] Trial 36 finished with value: 50.510363201602594 and parameters: {'booster': 'dart', 'lambda': 0.023661185745417524, 'alpha': 0.07428022234554874, 'learning_rate': 0.013034140950202734, 'subsample': 0.6714381542572467, 'colsample_bytree': 0.5629464570072013, 'max_depth': 7, 'min_child_weight': 2, 'eta': 1.2954234863012303e-06, 'gamma': 0.27345253881268733, 'grow_policy': 'lossguide', 'sample_type': 'weighted', 'normalize_type': 'forest', 'rate_drop': 0.0003318796533371638, 'skip_drop': 0.003765011201992626}. Best is trial 9 with value: 44.09153736951416.\n"
     ]
    },
    {
     "name": "stdout",
     "output_type": "stream",
     "text": [
      "Trial: 34 - MSE: 44.227247630128396 - RMSE: 6.6503569550910875\n",
      "Trial: 35 - MSE: 44.685378936411055 - RMSE: 6.6847123301164615\n",
      "Trial: 36 - MSE: 50.510363201602594 - RMSE: 7.107064316692413\n"
     ]
    },
    {
     "name": "stderr",
     "output_type": "stream",
     "text": [
      "[I 2024-06-20 04:38:37,015] Trial 37 finished with value: 58.0503630336483 and parameters: {'booster': 'gbtree', 'lambda': 0.1815345533564066, 'alpha': 0.00028618484804033114, 'learning_rate': 0.03098260698471715, 'subsample': 0.7205919702200223, 'colsample_bytree': 0.6462808765071817, 'max_depth': 3, 'min_child_weight': 6, 'eta': 0.0007913701746943814, 'gamma': 0.0020273247702361774, 'grow_policy': 'lossguide'}. Best is trial 9 with value: 44.09153736951416.\n",
      "[I 2024-06-20 04:38:37,064] Trial 38 finished with value: 44.42068257973161 and parameters: {'booster': 'gbtree', 'lambda': 0.9484287602408212, 'alpha': 1.0298935916794153e-06, 'learning_rate': 0.0015679723109067068, 'subsample': 0.9684229232719356, 'colsample_bytree': 0.9285533600060492, 'max_depth': 5, 'min_child_weight': 8, 'eta': 5.420136887551862e-05, 'gamma': 0.012660299575411585, 'grow_policy': 'depthwise'}. Best is trial 9 with value: 44.09153736951416.\n",
      "[I 2024-06-20 04:38:37,125] Trial 39 finished with value: 44.97749948526461 and parameters: {'booster': 'dart', 'lambda': 0.00036655139161322287, 'alpha': 0.026303253179361448, 'learning_rate': 0.0029404375662659262, 'subsample': 0.7759640612231083, 'colsample_bytree': 0.735832650211163, 'max_depth': 3, 'min_child_weight': 3, 'eta': 0.01614038434058381, 'gamma': 3.360638584340649e-06, 'grow_policy': 'lossguide', 'sample_type': 'uniform', 'normalize_type': 'tree', 'rate_drop': 1.4011032102030729e-05, 'skip_drop': 4.561806474778498e-07}. Best is trial 9 with value: 44.09153736951416.\n",
      "[I 2024-06-20 04:38:37,180] Trial 40 finished with value: 45.450211876210766 and parameters: {'booster': 'gbtree', 'lambda': 0.0012207535617665053, 'alpha': 0.4151703245750081, 'learning_rate': 0.004271536346739014, 'subsample': 0.6415868767821202, 'colsample_bytree': 0.28606617355423936, 'max_depth': 9, 'min_child_weight': 7, 'eta': 0.29504310733359784, 'gamma': 4.576062076255955e-05, 'grow_policy': 'depthwise'}. Best is trial 9 with value: 44.09153736951416.\n"
     ]
    },
    {
     "name": "stdout",
     "output_type": "stream",
     "text": [
      "Trial: 37 - MSE: 58.0503630336483 - RMSE: 7.619078883542833\n",
      "Trial: 38 - MSE: 44.42068257973161 - RMSE: 6.664884288547822\n",
      "Trial: 39 - MSE: 44.97749948526461 - RMSE: 6.7065266334567415\n",
      "Trial: 40 - MSE: 45.450211876210766 - RMSE: 6.74167723020101\n"
     ]
    },
    {
     "name": "stderr",
     "output_type": "stream",
     "text": [
      "[I 2024-06-20 04:38:37,235] Trial 41 finished with value: 44.132677302623286 and parameters: {'booster': 'gbtree', 'lambda': 0.18586864315571539, 'alpha': 0.952280432277189, 'learning_rate': 0.0010030522728064208, 'subsample': 0.8706819061936915, 'colsample_bytree': 0.8576346141714231, 'max_depth': 5, 'min_child_weight': 3, 'eta': 0.07594010319247291, 'gamma': 0.6254403137404099, 'grow_policy': 'lossguide'}. Best is trial 9 with value: 44.09153736951416.\n",
      "[I 2024-06-20 04:38:37,300] Trial 42 finished with value: 44.22498421796378 and parameters: {'booster': 'gbtree', 'lambda': 0.32169631023155576, 'alpha': 0.15310012692670485, 'learning_rate': 0.001204553889062491, 'subsample': 0.2148342555673367, 'colsample_bytree': 0.8414167144738535, 'max_depth': 5, 'min_child_weight': 4, 'eta': 0.052100932671198016, 'gamma': 0.23131262885212328, 'grow_policy': 'lossguide'}. Best is trial 9 with value: 44.09153736951416.\n",
      "[I 2024-06-20 04:38:37,372] Trial 43 finished with value: 44.260542488466214 and parameters: {'booster': 'gbtree', 'lambda': 0.03380276961682559, 'alpha': 0.3461858954185242, 'learning_rate': 0.0012456444344738102, 'subsample': 0.9000744774657603, 'colsample_bytree': 0.7921154792822198, 'max_depth': 5, 'min_child_weight': 3, 'eta': 0.0009325858501710142, 'gamma': 0.8669656061707606, 'grow_policy': 'lossguide'}. Best is trial 9 with value: 44.09153736951416.\n"
     ]
    },
    {
     "name": "stdout",
     "output_type": "stream",
     "text": [
      "Trial: 41 - MSE: 44.132677302623286 - RMSE: 6.64324298085079\n",
      "Trial: 42 - MSE: 44.22498421796378 - RMSE: 6.650186780682463\n",
      "Trial: 43 - MSE: 44.260542488466214 - RMSE: 6.652859722590445\n"
     ]
    },
    {
     "name": "stderr",
     "output_type": "stream",
     "text": [
      "[I 2024-06-20 04:38:37,482] Trial 44 finished with value: 44.17305768205693 and parameters: {'booster': 'gbtree', 'lambda': 0.005567457782018336, 'alpha': 0.09530578399570347, 'learning_rate': 0.001044483270895083, 'subsample': 0.6052606561146645, 'colsample_bytree': 0.8735286364658084, 'max_depth': 7, 'min_child_weight': 2, 'eta': 0.10463478193778665, 'gamma': 0.035739659705081916, 'grow_policy': 'lossguide'}. Best is trial 9 with value: 44.09153736951416.\n",
      "[I 2024-06-20 04:38:37,537] Trial 45 finished with value: 44.4496140994027 and parameters: {'booster': 'gbtree', 'lambda': 0.1954849661577624, 'alpha': 0.4391370803249043, 'learning_rate': 0.0016818821359002845, 'subsample': 0.8059158097712863, 'colsample_bytree': 0.5122462963515755, 'max_depth': 5, 'min_child_weight': 3, 'eta': 0.026494825499522038, 'gamma': 0.19403584070498162, 'grow_policy': 'lossguide'}. Best is trial 9 with value: 44.09153736951416.\n",
      "[I 2024-06-20 04:38:37,561] Trial 46 finished with value: 45.25260547320397 and parameters: {'booster': 'gblinear', 'lambda': 2.9899222878436546e-06, 'alpha': 0.01694307493770198, 'learning_rate': 0.0024544911884427675, 'subsample': 0.747663604440716, 'colsample_bytree': 0.7761633123571112}. Best is trial 9 with value: 44.09153736951416.\n",
      "[I 2024-06-20 04:38:37,632] Trial 47 finished with value: 44.287186494294836 and parameters: {'booster': 'gbtree', 'lambda': 0.010547221040914507, 'alpha': 0.6060372938262545, 'learning_rate': 0.0012871048234093805, 'subsample': 0.8851035267102424, 'colsample_bytree': 0.938635245054212, 'max_depth': 5, 'min_child_weight': 5, 'eta': 0.006438007882888712, 'gamma': 6.233228549868977e-08, 'grow_policy': 'lossguide'}. Best is trial 9 with value: 44.09153736951416.\n"
     ]
    },
    {
     "name": "stdout",
     "output_type": "stream",
     "text": [
      "Trial: 44 - MSE: 44.17305768205693 - RMSE: 6.646281492839205\n",
      "Trial: 45 - MSE: 44.4496140994027 - RMSE: 6.667054379514442\n",
      "Trial: 46 - MSE: 45.25260547320397 - RMSE: 6.727005684047247\n",
      "Trial: 47 - MSE: 44.287186494294836 - RMSE: 6.654861868911693\n"
     ]
    },
    {
     "name": "stderr",
     "output_type": "stream",
     "text": [
      "[I 2024-06-20 04:38:37,773] Trial 48 finished with value: 84.26051447002848 and parameters: {'booster': 'dart', 'lambda': 0.1254640986940771, 'alpha': 0.0451185674484051, 'learning_rate': 0.09828765358341729, 'subsample': 0.975860382965834, 'colsample_bytree': 0.8873885620990793, 'max_depth': 3, 'min_child_weight': 2, 'eta': 0.47534152149813624, 'gamma': 0.4300113305634331, 'grow_policy': 'depthwise', 'sample_type': 'weighted', 'normalize_type': 'forest', 'rate_drop': 0.8210755104075822, 'skip_drop': 0.9384076936227388}. Best is trial 9 with value: 44.09153736951416.\n",
      "[I 2024-06-20 04:38:37,840] Trial 49 finished with value: 44.58801320943579 and parameters: {'booster': 'gbtree', 'lambda': 0.038769777516897044, 'alpha': 0.22264083252925765, 'learning_rate': 0.0018557113093678446, 'subsample': 0.8043809639066812, 'colsample_bytree': 0.7166843862230184, 'max_depth': 5, 'min_child_weight': 8, 'eta': 0.000260704175994449, 'gamma': 0.0037073104410265756, 'grow_policy': 'lossguide'}. Best is trial 9 with value: 44.09153736951416.\n",
      "[I 2024-06-20 04:38:37,914] Trial 50 finished with value: 44.22161833949764 and parameters: {'booster': 'gbtree', 'lambda': 0.4925394396100599, 'alpha': 0.0032856488799721663, 'learning_rate': 0.0011619471639850126, 'subsample': 0.9211107468844136, 'colsample_bytree': 0.8453900282537471, 'max_depth': 7, 'min_child_weight': 4, 'eta': 0.04421675041253611, 'gamma': 2.752031285767398e-05, 'grow_policy': 'lossguide'}. Best is trial 9 with value: 44.09153736951416.\n",
      "[I 2024-06-20 04:38:37,969] Trial 51 finished with value: 44.1593223375944 and parameters: {'booster': 'gbtree', 'lambda': 0.07901868430553663, 'alpha': 0.9349022984078558, 'learning_rate': 0.0010450153773697553, 'subsample': 0.8507963920169843, 'colsample_bytree': 0.9920782584614491, 'max_depth': 5, 'min_child_weight': 3, 'eta': 0.120029351092471, 'gamma': 0.9632071614993637, 'grow_policy': 'lossguide'}. Best is trial 9 with value: 44.09153736951416.\n"
     ]
    },
    {
     "name": "stdout",
     "output_type": "stream",
     "text": [
      "Trial: 48 - MSE: 84.26051447002848 - RMSE: 9.17935261715272\n",
      "Trial: 49 - MSE: 44.58801320943579 - RMSE: 6.677425642374147\n",
      "Trial: 50 - MSE: 44.22161833949764 - RMSE: 6.649933709406255\n",
      "Trial: 51 - MSE: 44.1593223375944 - RMSE: 6.645248102034596\n"
     ]
    },
    {
     "name": "stderr",
     "output_type": "stream",
     "text": [
      "[I 2024-06-20 04:38:38,024] Trial 52 finished with value: 44.38725610054484 and parameters: {'booster': 'gbtree', 'lambda': 0.1430403464774239, 'alpha': 0.6878876406738433, 'learning_rate': 0.0014782830344613118, 'subsample': 0.827021909638537, 'colsample_bytree': 0.9429071020343465, 'max_depth': 5, 'min_child_weight': 3, 'eta': 0.33296286092151256, 'gamma': 0.39166150029655455, 'grow_policy': 'lossguide'}. Best is trial 9 with value: 44.09153736951416.\n",
      "[I 2024-06-20 04:38:38,079] Trial 53 finished with value: 44.15294431752464 and parameters: {'booster': 'gbtree', 'lambda': 1.900978915816138e-08, 'alpha': 0.0972427942180007, 'learning_rate': 0.0010401311748330132, 'subsample': 0.7367181041629717, 'colsample_bytree': 0.8897976586402119, 'max_depth': 5, 'min_child_weight': 2, 'eta': 0.07650085914131124, 'gamma': 0.10743638985854172, 'grow_policy': 'lossguide'}. Best is trial 9 with value: 44.09153736951416.\n",
      "[I 2024-06-20 04:38:38,133] Trial 54 finished with value: 74.9038479507396 and parameters: {'booster': 'gbtree', 'lambda': 0.014521628214344018, 'alpha': 0.19090416466101862, 'learning_rate': 0.06349529910765876, 'subsample': 0.6753606055859538, 'colsample_bytree': 0.8013005765240397, 'max_depth': 5, 'min_child_weight': 3, 'eta': 0.008057283277277207, 'gamma': 0.021609058609207758, 'grow_policy': 'lossguide'}. Best is trial 9 with value: 44.09153736951416.\n",
      "[I 2024-06-20 04:38:38,188] Trial 55 finished with value: 44.36235717203947 and parameters: {'booster': 'gbtree', 'lambda': 0.05391152016170617, 'alpha': 0.9916604166689097, 'learning_rate': 0.001442434714341874, 'subsample': 0.7693738168799407, 'colsample_bytree': 0.8603569139819649, 'max_depth': 5, 'min_child_weight': 4, 'eta': 0.02897165184848998, 'gamma': 0.0001607669734280678, 'grow_policy': 'lossguide'}. Best is trial 9 with value: 44.09153736951416.\n"
     ]
    },
    {
     "name": "stdout",
     "output_type": "stream",
     "text": [
      "Trial: 52 - MSE: 44.38725610054484 - RMSE: 6.662376160240792\n",
      "Trial: 53 - MSE: 44.15294431752464 - RMSE: 6.644768191406277\n",
      "Trial: 54 - MSE: 74.9038479507396 - RMSE: 8.654700916307831\n",
      "Trial: 55 - MSE: 44.36235717203947 - RMSE: 6.660507275879178\n"
     ]
    },
    {
     "name": "stderr",
     "output_type": "stream",
     "text": [
      "[I 2024-06-20 04:38:38,260] Trial 56 finished with value: 44.25902396513633 and parameters: {'booster': 'gbtree', 'lambda': 0.00018059089933411955, 'alpha': 0.3061367352822216, 'learning_rate': 0.001234137908488066, 'subsample': 0.8507840117162802, 'colsample_bytree': 0.7597332274252917, 'max_depth': 5, 'min_child_weight': 2, 'eta': 0.8391264780988847, 'gamma': 0.0006469817846820641, 'grow_policy': 'lossguide'}. Best is trial 9 with value: 44.09153736951416.\n",
      "[I 2024-06-20 04:38:38,329] Trial 57 finished with value: 44.285090079729 and parameters: {'booster': 'gblinear', 'lambda': 4.121387832420052e-05, 'alpha': 0.008954408208079018, 'learning_rate': 0.0010051433730405093, 'subsample': 0.8974666274097698, 'colsample_bytree': 0.9662752752345745}. Best is trial 9 with value: 44.09153736951416.\n",
      "[I 2024-06-20 04:38:38,389] Trial 58 finished with value: 43.77194039249671 and parameters: {'booster': 'gbtree', 'lambda': 6.704033369442597e-08, 'alpha': 0.06730232392217989, 'learning_rate': 0.0017155059353953157, 'subsample': 0.3491937165130097, 'colsample_bytree': 0.08789563079759483, 'max_depth': 5, 'min_child_weight': 7, 'eta': 1.1676773848287974e-08, 'gamma': 0.4525511118272328, 'grow_policy': 'lossguide'}. Best is trial 58 with value: 43.77194039249671.\n"
     ]
    },
    {
     "name": "stdout",
     "output_type": "stream",
     "text": [
      "Trial: 56 - MSE: 44.25902396513633 - RMSE: 6.6527455960029265\n",
      "Trial: 57 - MSE: 44.285090079729 - RMSE: 6.654704357049154\n",
      "Trial: 58 - MSE: 43.77194039249671 - RMSE: 6.616036607554157\n"
     ]
    },
    {
     "name": "stderr",
     "output_type": "stream",
     "text": [
      "[I 2024-06-20 04:38:38,468] Trial 59 finished with value: 43.77377420104983 and parameters: {'booster': 'gbtree', 'lambda': 1.209609500403687e-07, 'alpha': 0.03855137499667944, 'learning_rate': 0.0016908558304727277, 'subsample': 0.3330254222147743, 'colsample_bytree': 0.09500160152139692, 'max_depth': 3, 'min_child_weight': 7, 'eta': 4.792226248002772e-07, 'gamma': 0.06370732036870244, 'grow_policy': 'lossguide'}. Best is trial 58 with value: 43.77194039249671.\n",
      "[I 2024-06-20 04:38:38,520] Trial 60 finished with value: 43.87880894076746 and parameters: {'booster': 'gbtree', 'lambda': 6.600458539189364e-08, 'alpha': 0.041197049260947874, 'learning_rate': 0.002775949486749957, 'subsample': 0.36334537015510615, 'colsample_bytree': 0.057153756722702925, 'max_depth': 3, 'min_child_weight': 7, 'eta': 4.371375637961745e-08, 'gamma': 0.07111429899888068, 'grow_policy': 'lossguide'}. Best is trial 58 with value: 43.77194039249671.\n",
      "[I 2024-06-20 04:38:38,566] Trial 61 finished with value: 43.819390427252436 and parameters: {'booster': 'gbtree', 'lambda': 6.868174123929446e-08, 'alpha': 0.03448283792502005, 'learning_rate': 0.002159566176648149, 'subsample': 0.35400629171606696, 'colsample_bytree': 0.06105377294450581, 'max_depth': 3, 'min_child_weight': 7, 'eta': 1.4282107299860525e-08, 'gamma': 0.06182551653858243, 'grow_policy': 'lossguide'}. Best is trial 58 with value: 43.77194039249671.\n",
      "[I 2024-06-20 04:38:38,612] Trial 62 finished with value: 43.86605672636811 and parameters: {'booster': 'gbtree', 'lambda': 6.699825907050826e-08, 'alpha': 0.05918852793045052, 'learning_rate': 0.002639145209998496, 'subsample': 0.3528060589501283, 'colsample_bytree': 0.05208302322477107, 'max_depth': 3, 'min_child_weight': 7, 'eta': 1.173335235338632e-08, 'gamma': 0.016537278017186033, 'grow_policy': 'lossguide'}. Best is trial 58 with value: 43.77194039249671.\n"
     ]
    },
    {
     "name": "stdout",
     "output_type": "stream",
     "text": [
      "Trial: 59 - MSE: 43.77377420104983 - RMSE: 6.616175194253084\n",
      "Trial: 60 - MSE: 43.87880894076746 - RMSE: 6.6241081619164\n",
      "Trial: 61 - MSE: 43.819390427252436 - RMSE: 6.619621622664881\n",
      "Trial: 62 - MSE: 43.86605672636811 - RMSE: 6.6231455311179825\n"
     ]
    },
    {
     "name": "stderr",
     "output_type": "stream",
     "text": [
      "[I 2024-06-20 04:38:38,676] Trial 63 finished with value: 43.89470430849297 and parameters: {'booster': 'gbtree', 'lambda': 6.571023353479774e-08, 'alpha': 0.03753434490935928, 'learning_rate': 0.0029470951732191697, 'subsample': 0.34420403653457776, 'colsample_bytree': 0.06871067130289889, 'max_depth': 3, 'min_child_weight': 7, 'eta': 2.054018178879625e-08, 'gamma': 0.020963691165904172, 'grow_policy': 'lossguide'}. Best is trial 58 with value: 43.77194039249671.\n",
      "[I 2024-06-20 04:38:38,752] Trial 64 finished with value: 43.90272129493435 and parameters: {'booster': 'gbtree', 'lambda': 5.4043494299320805e-08, 'alpha': 0.03460500565178127, 'learning_rate': 0.0030131714426813727, 'subsample': 0.3496158693515156, 'colsample_bytree': 0.05132156370381047, 'max_depth': 3, 'min_child_weight': 7, 'eta': 1.4369850598598901e-08, 'gamma': 0.003773889601600273, 'grow_policy': 'lossguide'}. Best is trial 58 with value: 43.77194039249671.\n",
      "[I 2024-06-20 04:38:38,799] Trial 65 finished with value: 43.90885952664241 and parameters: {'booster': 'gbtree', 'lambda': 6.089927552357907e-08, 'alpha': 0.03446064405981289, 'learning_rate': 0.003080941499973401, 'subsample': 0.34828942154625914, 'colsample_bytree': 0.050762195752447115, 'max_depth': 3, 'min_child_weight': 7, 'eta': 1.1642189240528154e-08, 'gamma': 0.005017365188049521, 'grow_policy': 'lossguide'}. Best is trial 58 with value: 43.77194039249671.\n",
      "[I 2024-06-20 04:38:38,846] Trial 66 finished with value: 44.10006073795377 and parameters: {'booster': 'gbtree', 'lambda': 2.0040329381106004e-07, 'alpha': 0.0074741599535803225, 'learning_rate': 0.00506452905888563, 'subsample': 0.34337041626352205, 'colsample_bytree': 0.11430898199015188, 'max_depth': 3, 'min_child_weight': 7, 'eta': 6.036719830793861e-08, 'gamma': 0.015355666906685338, 'grow_policy': 'lossguide'}. Best is trial 58 with value: 43.77194039249671.\n"
     ]
    },
    {
     "name": "stdout",
     "output_type": "stream",
     "text": [
      "Trial: 63 - MSE: 43.89470430849297 - RMSE: 6.625307865185811\n",
      "Trial: 64 - MSE: 43.90272129493435 - RMSE: 6.625912865027305\n",
      "Trial: 65 - MSE: 43.90885952664241 - RMSE: 6.626376047783767\n",
      "Trial: 66 - MSE: 44.10006073795377 - RMSE: 6.640787659453792\n"
     ]
    },
    {
     "name": "stderr",
     "output_type": "stream",
     "text": [
      "[I 2024-06-20 04:38:38,916] Trial 67 finished with value: 43.988330295992576 and parameters: {'booster': 'gbtree', 'lambda': 6.26973774540648e-08, 'alpha': 0.0005076104111936023, 'learning_rate': 0.0038832497678745795, 'subsample': 0.38744587895894855, 'colsample_bytree': 0.0994329787293551, 'max_depth': 3, 'min_child_weight': 8, 'eta': 4.8505649661905355e-08, 'gamma': 0.00662785293038837, 'grow_policy': 'lossguide'}. Best is trial 58 with value: 43.77194039249671.\n",
      "[I 2024-06-20 04:38:38,988] Trial 68 finished with value: 45.21238501071406 and parameters: {'booster': 'gbtree', 'lambda': 3.1823703172960787e-07, 'alpha': 0.0031243370704681335, 'learning_rate': 0.006727143931748583, 'subsample': 0.27738474421736214, 'colsample_bytree': 0.2030288690427668, 'max_depth': 3, 'min_child_weight': 6, 'eta': 1.8714994328974412e-07, 'gamma': 0.05415181455352962, 'grow_policy': 'lossguide'}. Best is trial 58 with value: 43.77194039249671.\n",
      "[I 2024-06-20 04:38:39,048] Trial 69 finished with value: 43.983884919479735 and parameters: {'booster': 'dart', 'lambda': 3.651353498457874e-08, 'alpha': 0.014028565753882312, 'learning_rate': 0.0023374316580449983, 'subsample': 0.29032463578551837, 'colsample_bytree': 0.09010399328971452, 'max_depth': 3, 'min_child_weight': 7, 'eta': 3.427478330043914e-07, 'gamma': 0.02357027942432965, 'grow_policy': 'depthwise', 'sample_type': 'uniform', 'normalize_type': 'tree', 'rate_drop': 0.002306857494067073, 'skip_drop': 0.0024930085378856016}. Best is trial 58 with value: 43.77194039249671.\n",
      "[I 2024-06-20 04:38:39,082] Trial 70 finished with value: 45.352950132759794 and parameters: {'booster': 'gblinear', 'lambda': 1.0048419888907718e-08, 'alpha': 0.052754983760062144, 'learning_rate': 0.002656586242894732, 'subsample': 0.426813477972931, 'colsample_bytree': 0.16682068123882138}. Best is trial 58 with value: 43.77194039249671.\n"
     ]
    },
    {
     "name": "stdout",
     "output_type": "stream",
     "text": [
      "Trial: 67 - MSE: 43.988330295992576 - RMSE: 6.632369885342085\n",
      "Trial: 68 - MSE: 45.21238501071406 - RMSE: 6.724015542123178\n",
      "Trial: 69 - MSE: 43.983884919479735 - RMSE: 6.632034749568169\n",
      "Trial: 70 - MSE: 45.352950132759794 - RMSE: 6.734459899112904\n"
     ]
    },
    {
     "name": "stderr",
     "output_type": "stream",
     "text": [
      "[I 2024-06-20 04:38:39,144] Trial 71 finished with value: 43.90860475290933 and parameters: {'booster': 'gbtree', 'lambda': 8.987797696087233e-08, 'alpha': 0.03710254578297718, 'learning_rate': 0.0030929135850599958, 'subsample': 0.33896315604839217, 'colsample_bytree': 0.0574273193303254, 'max_depth': 3, 'min_child_weight': 7, 'eta': 1.0227401479577404e-08, 'gamma': 0.005837399977510699, 'grow_policy': 'lossguide'}. Best is trial 58 with value: 43.77194039249671.\n",
      "[I 2024-06-20 04:38:39,212] Trial 72 finished with value: 43.9580084287016 and parameters: {'booster': 'gbtree', 'lambda': 1.522333928556888e-07, 'alpha': 0.02856255801087165, 'learning_rate': 0.0036565482468288225, 'subsample': 0.3055060527185114, 'colsample_bytree': 0.1386095458752411, 'max_depth': 3, 'min_child_weight': 7, 'eta': 3.0005784728850194e-08, 'gamma': 0.0035005156459538365, 'grow_policy': 'lossguide'}. Best is trial 58 with value: 43.77194039249671.\n",
      "[I 2024-06-20 04:38:39,265] Trial 73 finished with value: 44.031881116499854 and parameters: {'booster': 'gbtree', 'lambda': 4.972715634141517e-07, 'alpha': 0.013808127176992065, 'learning_rate': 0.004328848761141634, 'subsample': 0.3781946556897103, 'colsample_bytree': 0.07801267698359651, 'max_depth': 3, 'min_child_weight': 6, 'eta': 1.0324723426497756e-08, 'gamma': 0.10662853078304463, 'grow_policy': 'lossguide'}. Best is trial 58 with value: 43.77194039249671.\n",
      "[I 2024-06-20 04:38:39,323] Trial 74 finished with value: 43.80396035373334 and parameters: {'booster': 'gbtree', 'lambda': 7.610927661943046e-08, 'alpha': 0.0058556840597890495, 'learning_rate': 0.0020336019789057845, 'subsample': 0.2648749256514821, 'colsample_bytree': 0.13355675243146936, 'max_depth': 3, 'min_child_weight': 7, 'eta': 8.347293074099727e-08, 'gamma': 0.04912400348564878, 'grow_policy': 'lossguide'}. Best is trial 58 with value: 43.77194039249671.\n"
     ]
    },
    {
     "name": "stdout",
     "output_type": "stream",
     "text": [
      "Trial: 71 - MSE: 43.90860475290933 - RMSE: 6.626356823542582\n",
      "Trial: 72 - MSE: 43.9580084287016 - RMSE: 6.630083591381153\n",
      "Trial: 73 - MSE: 44.031881116499854 - RMSE: 6.635652275134665\n",
      "Trial: 74 - MSE: 43.80396035373334 - RMSE: 6.618456040024239\n"
     ]
    },
    {
     "name": "stderr",
     "output_type": "stream",
     "text": [
      "[I 2024-06-20 04:38:39,383] Trial 75 finished with value: 43.8611928670727 and parameters: {'booster': 'gbtree', 'lambda': 2.8910776904343036e-08, 'alpha': 0.005382973906779366, 'learning_rate': 0.0026350621106535897, 'subsample': 0.2452976101667969, 'colsample_bytree': 0.1294915671435683, 'max_depth': 3, 'min_child_weight': 8, 'eta': 9.435754914902106e-08, 'gamma': 0.0460670233295256, 'grow_policy': 'lossguide'}. Best is trial 58 with value: 43.77194039249671.\n",
      "[I 2024-06-20 04:38:39,431] Trial 76 finished with value: 44.35082223810632 and parameters: {'booster': 'gbtree', 'lambda': 2.4103425608881012e-08, 'alpha': 0.00019279838568103037, 'learning_rate': 0.0021005147315827236, 'subsample': 0.24857507503003895, 'colsample_bytree': 0.2519739262518066, 'max_depth': 3, 'min_child_weight': 9, 'eta': 9.739084403234113e-08, 'gamma': 0.05061570713472214, 'grow_policy': 'lossguide'}. Best is trial 58 with value: 43.77194039249671.\n",
      "[I 2024-06-20 04:38:39,496] Trial 77 finished with value: 43.84375447762132 and parameters: {'booster': 'gbtree', 'lambda': 1.5237186789437515e-06, 'alpha': 0.00534523866908298, 'learning_rate': 0.0024247473776472764, 'subsample': 0.2496923970657467, 'colsample_bytree': 0.14066780289920758, 'max_depth': 3, 'min_child_weight': 8, 'eta': 2.687954814464943e-08, 'gamma': 0.14838141703781335, 'grow_policy': 'lossguide'}. Best is trial 58 with value: 43.77194039249671.\n",
      "[I 2024-06-20 04:38:39,571] Trial 78 finished with value: 43.85136793966871 and parameters: {'booster': 'gbtree', 'lambda': 2.064415154603398e-07, 'alpha': 0.005793781152995038, 'learning_rate': 0.0025080092864549464, 'subsample': 0.252450363406146, 'colsample_bytree': 0.13298498438766337, 'max_depth': 3, 'min_child_weight': 8, 'eta': 5.163501273237641e-07, 'gamma': 0.12817225013632125, 'grow_policy': 'lossguide'}. Best is trial 58 with value: 43.77194039249671.\n"
     ]
    },
    {
     "name": "stdout",
     "output_type": "stream",
     "text": [
      "Trial: 75 - MSE: 43.8611928670727 - RMSE: 6.622778334435836\n",
      "Trial: 76 - MSE: 44.35082223810632 - RMSE: 6.659641299507528\n",
      "Trial: 77 - MSE: 43.84375447762132 - RMSE: 6.62146165718879\n",
      "Trial: 78 - MSE: 43.85136793966871 - RMSE: 6.622036540194316\n"
     ]
    },
    {
     "name": "stderr",
     "output_type": "stream",
     "text": [
      "[I 2024-06-20 04:38:39,623] Trial 79 finished with value: 43.78391150681578 and parameters: {'booster': 'gbtree', 'lambda': 1.9622163418012287e-06, 'alpha': 0.001623870284103461, 'learning_rate': 0.0018167855451318895, 'subsample': 0.23463990623032935, 'colsample_bytree': 0.13377081461166485, 'max_depth': 3, 'min_child_weight': 8, 'eta': 5.274220044468495e-07, 'gamma': 0.14985812395829898, 'grow_policy': 'lossguide'}. Best is trial 58 with value: 43.77194039249671.\n",
      "[I 2024-06-20 04:38:39,688] Trial 80 finished with value: 44.02641172216249 and parameters: {'booster': 'gbtree', 'lambda': 1.1557868286973164e-06, 'alpha': 0.0011700923475631995, 'learning_rate': 0.0017477996028469702, 'subsample': 0.2223224722096107, 'colsample_bytree': 0.14958865288974943, 'max_depth': 3, 'min_child_weight': 9, 'eta': 7.308746167155566e-07, 'gamma': 0.11793812487326753, 'grow_policy': 'lossguide'}. Best is trial 58 with value: 43.77194039249671.\n",
      "[I 2024-06-20 04:38:39,768] Trial 81 finished with value: 44.12600414764234 and parameters: {'booster': 'gbtree', 'lambda': 1.5900146255902342e-06, 'alpha': 0.0019944658039168983, 'learning_rate': 0.002078873108147594, 'subsample': 0.24441094128558452, 'colsample_bytree': 0.2064884069798085, 'max_depth': 3, 'min_child_weight': 8, 'eta': 1.9410334383837852e-07, 'gamma': 0.18546987917106664, 'grow_policy': 'lossguide'}. Best is trial 58 with value: 43.77194039249671.\n",
      "[I 2024-06-20 04:38:39,812] Trial 82 finished with value: 43.84682565235339 and parameters: {'booster': 'gbtree', 'lambda': 1.882670848197838e-07, 'alpha': 0.004284081568883657, 'learning_rate': 0.0024564416706605078, 'subsample': 0.31581082291818224, 'colsample_bytree': 0.12548632479885619, 'max_depth': 3, 'min_child_weight': 8, 'eta': 1.0568295527980762e-07, 'gamma': 0.3940439824518441, 'grow_policy': 'lossguide'}. Best is trial 58 with value: 43.77194039249671.\n"
     ]
    },
    {
     "name": "stdout",
     "output_type": "stream",
     "text": [
      "Trial: 79 - MSE: 43.78391150681578 - RMSE: 6.616941250065303\n",
      "Trial: 80 - MSE: 44.02641172216249 - RMSE: 6.635240140504524\n",
      "Trial: 81 - MSE: 44.12600414764234 - RMSE: 6.642740710553314\n",
      "Trial: 82 - MSE: 43.84682565235339 - RMSE: 6.621693563760965\n"
     ]
    },
    {
     "name": "stderr",
     "output_type": "stream",
     "text": [
      "[I 2024-06-20 04:38:39,857] Trial 83 finished with value: 43.834496770658006 and parameters: {'booster': 'gbtree', 'lambda': 2.6892483853381147e-07, 'alpha': 0.004723616006943514, 'learning_rate': 0.0023466503122358995, 'subsample': 0.3124136880962115, 'colsample_bytree': 0.11667427748925098, 'max_depth': 3, 'min_child_weight': 8, 'eta': 4.1156516817298204e-07, 'gamma': 0.38728808372727125, 'grow_policy': 'lossguide'}. Best is trial 58 with value: 43.77194039249671.\n",
      "[I 2024-06-20 04:38:39,903] Trial 84 finished with value: 44.08220697884709 and parameters: {'booster': 'gbtree', 'lambda': 2.8748654857320484e-07, 'alpha': 0.0010508828112022828, 'learning_rate': 0.001896796284945966, 'subsample': 0.3145304068332824, 'colsample_bytree': 0.17829876895048127, 'max_depth': 3, 'min_child_weight': 9, 'eta': 2.3297565591971844e-06, 'gamma': 0.4266519372017473, 'grow_policy': 'lossguide'}. Best is trial 58 with value: 43.77194039249671.\n",
      "[I 2024-06-20 04:38:39,954] Trial 85 finished with value: 43.8286680234376 and parameters: {'booster': 'gbtree', 'lambda': 4.0771511045887284e-07, 'alpha': 0.0020912933468238853, 'learning_rate': 0.0022974325694450344, 'subsample': 0.2678544829786536, 'colsample_bytree': 0.11334864337399976, 'max_depth': 3, 'min_child_weight': 8, 'eta': 6.2714681698677e-07, 'gamma': 0.29737584268376654, 'grow_policy': 'lossguide'}. Best is trial 58 with value: 43.77194039249671.\n",
      "[I 2024-06-20 04:38:40,020] Trial 86 finished with value: 43.973275847161354 and parameters: {'booster': 'dart', 'lambda': 5.53281731738556e-07, 'alpha': 0.0018555427624705923, 'learning_rate': 0.002253811062822699, 'subsample': 0.2761039936977407, 'colsample_bytree': 0.10788176167134847, 'max_depth': 3, 'min_child_weight': 8, 'eta': 3.0260383929615535e-07, 'gamma': 0.33849263868883783, 'grow_policy': 'lossguide', 'sample_type': 'weighted', 'normalize_type': 'forest', 'rate_drop': 2.680207406820772e-06, 'skip_drop': 1.259608044636375e-06}. Best is trial 58 with value: 43.77194039249671.\n"
     ]
    },
    {
     "name": "stdout",
     "output_type": "stream",
     "text": [
      "Trial: 83 - MSE: 43.834496770658006 - RMSE: 6.620762552052294\n",
      "Trial: 84 - MSE: 44.08220697884709 - RMSE: 6.639443273260725\n",
      "Trial: 85 - MSE: 43.8286680234376 - RMSE: 6.620322350417508\n",
      "Trial: 86 - MSE: 43.973275847161354 - RMSE: 6.631234865932691\n"
     ]
    },
    {
     "name": "stderr",
     "output_type": "stream",
     "text": [
      "[I 2024-06-20 04:38:40,093] Trial 87 finished with value: 44.23986815152903 and parameters: {'booster': 'gbtree', 'lambda': 2.9748807097669484e-06, 'alpha': 0.0007038638444186661, 'learning_rate': 0.0017837676432651609, 'subsample': 0.39779358468885384, 'colsample_bytree': 0.24002536922660833, 'max_depth': 3, 'min_child_weight': 10, 'eta': 5.2501666730226995e-06, 'gamma': 0.45313275861766167, 'grow_policy': 'depthwise'}. Best is trial 58 with value: 43.77194039249671.\n",
      "[I 2024-06-20 04:38:40,178] Trial 88 finished with value: 44.32928007372741 and parameters: {'booster': 'gbtree', 'lambda': 1.1580458042437765e-07, 'alpha': 0.00912085026294515, 'learning_rate': 0.001668856115949169, 'subsample': 0.317975583061771, 'colsample_bytree': 0.36558338150264036, 'max_depth': 3, 'min_child_weight': 8, 'eta': 9.980032047107056e-08, 'gamma': 0.20612343856025872, 'grow_policy': 'lossguide'}. Best is trial 58 with value: 43.77194039249671.\n",
      "[I 2024-06-20 04:38:40,204] Trial 89 finished with value: 45.913738247059705 and parameters: {'booster': 'gblinear', 'lambda': 1.7090794681001525e-06, 'alpha': 0.00010546178110662067, 'learning_rate': 0.0034099004369103555, 'subsample': 0.27207746328651167, 'colsample_bytree': 0.1797922200866612}. Best is trial 58 with value: 43.77194039249671.\n",
      "[I 2024-06-20 04:38:40,267] Trial 90 finished with value: 48.78399655497275 and parameters: {'booster': 'gbtree', 'lambda': 8.549543479773457e-06, 'alpha': 0.002344670872327016, 'learning_rate': 0.021217596773797337, 'subsample': 0.20163836220489997, 'colsample_bytree': 0.15856571049331514, 'max_depth': 9, 'min_child_weight': 9, 'eta': 1.0237928398315534e-06, 'gamma': 0.5995101448524297, 'grow_policy': 'lossguide'}. Best is trial 58 with value: 43.77194039249671.\n"
     ]
    },
    {
     "name": "stdout",
     "output_type": "stream",
     "text": [
      "Trial: 87 - MSE: 44.23986815152903 - RMSE: 6.651305747861019\n",
      "Trial: 88 - MSE: 44.32928007372741 - RMSE: 6.658023736344548\n",
      "Trial: 89 - MSE: 45.913738247059705 - RMSE: 6.775967698200731\n",
      "Trial: 90 - MSE: 48.78399655497275 - RMSE: 6.984554141459049\n"
     ]
    },
    {
     "name": "stderr",
     "output_type": "stream",
     "text": [
      "[I 2024-06-20 04:38:40,315] Trial 91 finished with value: 43.85086913558739 and parameters: {'booster': 'gbtree', 'lambda': 2.788523027594717e-07, 'alpha': 0.003402788133101675, 'learning_rate': 0.0024812710765380825, 'subsample': 0.23076589699921232, 'colsample_bytree': 0.13260390074593476, 'max_depth': 3, 'min_child_weight': 8, 'eta': 3.781348889136817e-07, 'gamma': 0.1269891908969345, 'grow_policy': 'lossguide'}. Best is trial 58 with value: 43.77194039249671.\n",
      "[I 2024-06-20 04:38:40,361] Trial 92 finished with value: 43.80473206045157 and parameters: {'booster': 'gbtree', 'lambda': 4.096588797751153e-07, 'alpha': 0.004148296119107991, 'learning_rate': 0.0020146433824108456, 'subsample': 0.224991012444325, 'colsample_bytree': 0.09027424276432112, 'max_depth': 3, 'min_child_weight': 8, 'eta': 2.60238580754273e-08, 'gamma': 0.08821621046993038, 'grow_policy': 'lossguide'}. Best is trial 58 with value: 43.77194039249671.\n",
      "[I 2024-06-20 04:38:40,407] Trial 93 finished with value: 43.796978225470745 and parameters: {'booster': 'gbtree', 'lambda': 5.551044417241043e-07, 'alpha': 0.017670465004172277, 'learning_rate': 0.0019714390533467113, 'subsample': 0.2966950199229325, 'colsample_bytree': 0.09341793067584593, 'max_depth': 3, 'min_child_weight': 8, 'eta': 3.3320834525609214e-08, 'gamma': 0.08249673915313191, 'grow_policy': 'lossguide'}. Best is trial 58 with value: 43.77194039249671.\n",
      "[I 2024-06-20 04:38:40,452] Trial 94 finished with value: 43.80395050779483 and parameters: {'booster': 'gbtree', 'lambda': 6.738993319637918e-07, 'alpha': 0.01031200476420265, 'learning_rate': 0.002031726983842519, 'subsample': 0.2650905147589736, 'colsample_bytree': 0.09007686810711725, 'max_depth': 3, 'min_child_weight': 8, 'eta': 3.273906628978714e-08, 'gamma': 0.07998962461587583, 'grow_policy': 'lossguide'}. Best is trial 58 with value: 43.77194039249671.\n",
      "[I 2024-06-20 04:38:40,497] Trial 95 finished with value: 43.801184848175204 and parameters: {'booster': 'gbtree', 'lambda': 4.611053262947048e-07, 'alpha': 0.021211187777581447, 'learning_rate': 0.0020140731460141182, 'subsample': 0.29597683618848275, 'colsample_bytree': 0.07770732940689688, 'max_depth': 3, 'min_child_weight': 9, 'eta': 3.8415998348698024e-08, 'gamma': 0.0723223648410388, 'grow_policy': 'lossguide'}. Best is trial 58 with value: 43.77194039249671.\n"
     ]
    },
    {
     "name": "stdout",
     "output_type": "stream",
     "text": [
      "Trial: 91 - MSE: 43.85086913558739 - RMSE: 6.621998877649209\n",
      "Trial: 92 - MSE: 43.80473206045157 - RMSE: 6.618514339370398\n",
      "Trial: 93 - MSE: 43.796978225470745 - RMSE: 6.617928544905176\n",
      "Trial: 94 - MSE: 43.80395050779483 - RMSE: 6.618455296199773\n",
      "Trial: 95 - MSE: 43.801184848175204 - RMSE: 6.618246357470777\n"
     ]
    },
    {
     "name": "stderr",
     "output_type": "stream",
     "text": [
      "[I 2024-06-20 04:38:40,543] Trial 96 finished with value: 43.79272359000065 and parameters: {'booster': 'gbtree', 'lambda': 5.958998560601568e-07, 'alpha': 0.01643326122103283, 'learning_rate': 0.0019247638854574497, 'subsample': 0.29635815778788305, 'colsample_bytree': 0.0882679803140892, 'max_depth': 3, 'min_child_weight': 9, 'eta': 3.9201546044949865e-08, 'gamma': 0.029286994086984222, 'grow_policy': 'lossguide'}. Best is trial 58 with value: 43.77194039249671.\n",
      "[I 2024-06-20 04:38:40,589] Trial 97 finished with value: 43.79789326613098 and parameters: {'booster': 'gbtree', 'lambda': 7.529306818120728e-07, 'alpha': 0.015537577596299567, 'learning_rate': 0.001972453381095098, 'subsample': 0.29399735172696245, 'colsample_bytree': 0.08558671320851756, 'max_depth': 3, 'min_child_weight': 9, 'eta': 3.47768010495174e-08, 'gamma': 0.03559120758105356, 'grow_policy': 'lossguide'}. Best is trial 58 with value: 43.77194039249671.\n",
      "[I 2024-06-20 04:38:40,635] Trial 98 finished with value: 43.75490417724878 and parameters: {'booster': 'gbtree', 'lambda': 8.935136296496447e-07, 'alpha': 0.018029913163782663, 'learning_rate': 0.0015196561728450498, 'subsample': 0.2953169350070087, 'colsample_bytree': 0.08910672952971163, 'max_depth': 3, 'min_child_weight': 9, 'eta': 3.41411575494955e-08, 'gamma': 0.010141306114056094, 'grow_policy': 'lossguide'}. Best is trial 98 with value: 43.75490417724878.\n",
      "[I 2024-06-20 04:38:40,680] Trial 99 finished with value: 43.75809531945613 and parameters: {'booster': 'gbtree', 'lambda': 6.878657129083838e-07, 'alpha': 0.020468456835869807, 'learning_rate': 0.0015558649472196709, 'subsample': 0.29756073033419916, 'colsample_bytree': 0.08320267496559194, 'max_depth': 3, 'min_child_weight': 10, 'eta': 5.915512816576816e-08, 'gamma': 0.010534499037921193, 'grow_policy': 'lossguide'}. Best is trial 98 with value: 43.75490417724878.\n"
     ]
    },
    {
     "name": "stdout",
     "output_type": "stream",
     "text": [
      "Trial: 96 - MSE: 43.79272359000065 - RMSE: 6.617607089424443\n",
      "Trial: 97 - MSE: 43.79789326613098 - RMSE: 6.617997678008884\n",
      "Trial: 98 - MSE: 43.75490417724878 - RMSE: 6.614748988226899\n",
      "Trial: 99 - MSE: 43.75809531945613 - RMSE: 6.6149901979863985\n"
     ]
    }
   ],
   "source": [
    "# configuration optuna\n",
    "study_st = optuna.create_study(direction='minimize')\n",
    "study_st.optimize(lambda trial: objective(trial, X_st_train, y_st_train, X_st_test, y_st_test), n_trials=n_trials)"
   ]
  },
  {
   "cell_type": "code",
   "execution_count": 18,
   "metadata": {},
   "outputs": [
    {
     "name": "stdout",
     "output_type": "stream",
     "text": [
      "Número de pruebas: 100\n",
      "Mejor prueba: 98\n",
      "Mejores parametros: {'booster': 'gbtree', 'lambda': 8.935136296496447e-07, 'alpha': 0.018029913163782663, 'learning_rate': 0.0015196561728450498, 'subsample': 0.2953169350070087, 'colsample_bytree': 0.08910672952971163, 'max_depth': 3, 'min_child_weight': 9, 'eta': 3.41411575494955e-08, 'gamma': 0.010141306114056094, 'grow_policy': 'lossguide'}\n",
      "Mejor valor de pérdida en validación: 43.75490417724878\n"
     ]
    }
   ],
   "source": [
    "# Results\n",
    "print(f'Número de pruebas: {len(study_st.trials)}')\n",
    "trial = study_st.best_trial\n",
    "print(f'Mejor prueba: {trial.number}')\n",
    "print(f'Mejores parametros: {trial.params}')\n",
    "print(f'Mejor valor de pérdida en validación: {trial.value}')"
   ]
  },
  {
   "cell_type": "markdown",
   "metadata": {},
   "source": [
    "## Multi Thread"
   ]
  },
  {
   "cell_type": "code",
   "execution_count": 19,
   "metadata": {},
   "outputs": [
    {
     "name": "stderr",
     "output_type": "stream",
     "text": [
      "[I 2024-06-20 04:38:40,713] A new study created in memory with name: no-name-438555b0-184d-4ff3-8587-178e2bb35573\n",
      "[I 2024-06-20 04:38:40,850] Trial 0 finished with value: 696.9365992300261 and parameters: {'booster': 'dart', 'lambda': 0.00011423713210046168, 'alpha': 0.0036051565253115837, 'learning_rate': 0.014767471632996495, 'subsample': 0.5184648608027747, 'colsample_bytree': 0.2913250871478764, 'max_depth': 7, 'min_child_weight': 10, 'eta': 0.0005027344154438699, 'gamma': 0.04239732193236443, 'grow_policy': 'depthwise', 'sample_type': 'weighted', 'normalize_type': 'tree', 'rate_drop': 2.3770540966430764e-07, 'skip_drop': 1.816997801247694e-05}. Best is trial 0 with value: 696.9365992300261.\n"
     ]
    },
    {
     "name": "stdout",
     "output_type": "stream",
     "text": [
      "Trial: 0 - MSE: 696.9365992300261 - RMSE: 26.399556799878784\n"
     ]
    },
    {
     "name": "stderr",
     "output_type": "stream",
     "text": [
      "[I 2024-06-20 04:38:40,999] Trial 1 finished with value: 653.6068980765482 and parameters: {'booster': 'gbtree', 'lambda': 0.19429245885968427, 'alpha': 0.26061692676197384, 'learning_rate': 0.0033226809941971696, 'subsample': 0.3532160404420888, 'colsample_bytree': 0.054048752154101015, 'max_depth': 9, 'min_child_weight': 8, 'eta': 1.9121214005400837e-07, 'gamma': 1.4516489352027327e-08, 'grow_policy': 'depthwise'}. Best is trial 1 with value: 653.6068980765482.\n",
      "[I 2024-06-20 04:38:41,050] Trial 2 finished with value: 654.3147723311791 and parameters: {'booster': 'dart', 'lambda': 0.01687659825485451, 'alpha': 8.019462154550141e-08, 'learning_rate': 0.00103688064545031, 'subsample': 0.39836986039570077, 'colsample_bytree': 0.6734848770013253, 'max_depth': 7, 'min_child_weight': 6, 'eta': 0.2726506934787567, 'gamma': 0.666830000967471, 'grow_policy': 'lossguide', 'sample_type': 'weighted', 'normalize_type': 'tree', 'rate_drop': 3.9104188620445127e-05, 'skip_drop': 3.459152868978455e-05}. Best is trial 1 with value: 653.6068980765482.\n"
     ]
    },
    {
     "name": "stdout",
     "output_type": "stream",
     "text": [
      "Trial: 1 - MSE: 653.6068980765482 - RMSE: 25.565736799015752\n",
      "Trial: 2 - MSE: 654.3147723311791 - RMSE: 25.57957725082999\n"
     ]
    },
    {
     "name": "stderr",
     "output_type": "stream",
     "text": [
      "[I 2024-06-20 04:38:41,095] Trial 3 finished with value: 786.4524853853994 and parameters: {'booster': 'dart', 'lambda': 0.09011152163281694, 'alpha': 1.3467905603041055e-08, 'learning_rate': 0.03982564078513162, 'subsample': 0.5269034522123204, 'colsample_bytree': 0.9935451330335564, 'max_depth': 7, 'min_child_weight': 4, 'eta': 4.46216234866124e-06, 'gamma': 0.00013519999797410496, 'grow_policy': 'depthwise', 'sample_type': 'weighted', 'normalize_type': 'forest', 'rate_drop': 1.1163124503347211e-07, 'skip_drop': 0.47523096306014617}. Best is trial 1 with value: 653.6068980765482.\n",
      "[I 2024-06-20 04:38:41,101] Trial 4 finished with value: 651.2827633774873 and parameters: {'booster': 'gblinear', 'lambda': 0.0616851618077235, 'alpha': 0.003567365441465661, 'learning_rate': 0.0012416452353680018, 'subsample': 0.44303892497347813, 'colsample_bytree': 0.45562423390234524}. Best is trial 4 with value: 651.2827633774873.\n",
      "[I 2024-06-20 04:38:41,135] Trial 5 finished with value: 655.8862092884004 and parameters: {'booster': 'gbtree', 'lambda': 0.016830835301541332, 'alpha': 0.016859649535023773, 'learning_rate': 0.0014151517117564243, 'subsample': 0.7374258823888591, 'colsample_bytree': 0.4315254820086116, 'max_depth': 7, 'min_child_weight': 4, 'eta': 0.0004988443079847092, 'gamma': 1.3653532703573066e-08, 'grow_policy': 'lossguide'}. Best is trial 4 with value: 651.2827633774873.\n",
      "[I 2024-06-20 04:38:41,173] Trial 6 finished with value: 883.957357874315 and parameters: {'booster': 'dart', 'lambda': 3.766810348666611e-05, 'alpha': 0.0001885358553038408, 'learning_rate': 0.08541612143902706, 'subsample': 0.6857098348877126, 'colsample_bytree': 0.49791174534598626, 'max_depth': 3, 'min_child_weight': 2, 'eta': 0.013039057255465326, 'gamma': 2.0115166505266848e-08, 'grow_policy': 'depthwise', 'sample_type': 'uniform', 'normalize_type': 'tree', 'rate_drop': 0.0009168737476914549, 'skip_drop': 5.125629757391241e-06}. Best is trial 4 with value: 651.2827633774873.\n"
     ]
    },
    {
     "name": "stdout",
     "output_type": "stream",
     "text": [
      "Trial: 3 - MSE: 786.4524853853994 - RMSE: 28.04376018627672\n",
      "Trial: 4 - MSE: 651.2827633774873 - RMSE: 25.52024222803317\n",
      "Trial: 5 - MSE: 655.8862092884004 - RMSE: 25.610275462954327\n",
      "Trial: 6 - MSE: 883.957357874315 - RMSE: 29.731420381043268\n"
     ]
    },
    {
     "name": "stderr",
     "output_type": "stream",
     "text": [
      "[I 2024-06-20 04:38:41,206] Trial 7 finished with value: 717.259192739925 and parameters: {'booster': 'gbtree', 'lambda': 0.0015067557100241808, 'alpha': 0.0006418929888950284, 'learning_rate': 0.01839205467785631, 'subsample': 0.5637157153073087, 'colsample_bytree': 0.8305636754420758, 'max_depth': 5, 'min_child_weight': 10, 'eta': 1.5191858730759497e-07, 'gamma': 0.0024422129572976422, 'grow_policy': 'lossguide'}. Best is trial 4 with value: 651.2827633774873.\n",
      "[I 2024-06-20 04:38:41,226] Trial 8 finished with value: 651.1777681039592 and parameters: {'booster': 'gblinear', 'lambda': 0.000606708738234787, 'alpha': 0.16939603604915984, 'learning_rate': 0.0015499367988942325, 'subsample': 0.36936313423296857, 'colsample_bytree': 0.6137265443868933}. Best is trial 8 with value: 651.1777681039592.\n",
      "[I 2024-06-20 04:38:41,241] Trial 9 finished with value: 652.2047939848281 and parameters: {'booster': 'gblinear', 'lambda': 2.3959692181271656e-05, 'alpha': 6.628226539216281e-07, 'learning_rate': 0.0028319569812934498, 'subsample': 0.7758473176774745, 'colsample_bytree': 0.14397827440162847}. Best is trial 8 with value: 651.1777681039592.\n"
     ]
    },
    {
     "name": "stdout",
     "output_type": "stream",
     "text": [
      "Trial: 7 - MSE: 717.259192739925 - RMSE: 26.781695105798008\n",
      "Trial: 8 - MSE: 651.1777681039592 - RMSE: 25.51818504721602\n",
      "Trial: 9 - MSE: 652.2047939848281 - RMSE: 25.538300530474384\n"
     ]
    },
    {
     "name": "stderr",
     "output_type": "stream",
     "text": [
      "[I 2024-06-20 04:38:41,305] Trial 10 finished with value: 649.776855400905 and parameters: {'booster': 'gblinear', 'lambda': 3.090205685526619e-08, 'alpha': 0.7110870642575658, 'learning_rate': 0.006496945732072021, 'subsample': 0.9527187159572347, 'colsample_bytree': 0.655138055330877}. Best is trial 10 with value: 649.776855400905.\n"
     ]
    },
    {
     "name": "stdout",
     "output_type": "stream",
     "text": [
      "Trial: 10 - MSE: 649.776855400905 - RMSE: 25.490720966675404\n"
     ]
    },
    {
     "name": "stderr",
     "output_type": "stream",
     "text": [
      "[I 2024-06-20 04:38:41,457] Trial 11 finished with value: 650.2308336185915 and parameters: {'booster': 'gblinear', 'lambda': 3.6416914908977585e-08, 'alpha': 0.6307520947552571, 'learning_rate': 0.005454051571457866, 'subsample': 0.20468499005131008, 'colsample_bytree': 0.7061039612908029}. Best is trial 10 with value: 649.776855400905.\n",
      "[I 2024-06-20 04:38:41,480] Trial 12 finished with value: 648.0803998785717 and parameters: {'booster': 'gblinear', 'lambda': 3.998685505793936e-08, 'alpha': 0.9394501291698567, 'learning_rate': 0.00660667961930144, 'subsample': 0.9680721560881234, 'colsample_bytree': 0.780321327941454}. Best is trial 12 with value: 648.0803998785717.\n",
      "[I 2024-06-20 04:38:41,501] Trial 13 finished with value: 655.8405228767523 and parameters: {'booster': 'gblinear', 'lambda': 1.3440668758264514e-08, 'alpha': 0.03441754999102214, 'learning_rate': 0.007626463526727112, 'subsample': 0.9756800739520343, 'colsample_bytree': 0.8820399623979613}. Best is trial 12 with value: 648.0803998785717.\n"
     ]
    },
    {
     "name": "stdout",
     "output_type": "stream",
     "text": [
      "Trial: 11 - MSE: 650.2308336185915 - RMSE: 25.499624185830495\n",
      "Trial: 12 - MSE: 648.0803998785717 - RMSE: 25.457423276493866\n",
      "Trial: 13 - MSE: 655.8405228767523 - RMSE: 25.609383492711267\n"
     ]
    },
    {
     "name": "stderr",
     "output_type": "stream",
     "text": [
      "[I 2024-06-20 04:38:41,522] Trial 14 finished with value: 662.7778337877834 and parameters: {'booster': 'gblinear', 'lambda': 3.2115410203971186e-07, 'alpha': 9.271224563590648e-06, 'learning_rate': 0.01321218900612394, 'subsample': 0.9966799716865952, 'colsample_bytree': 0.7885154255365103}. Best is trial 12 with value: 648.0803998785717.\n",
      "[I 2024-06-20 04:38:41,543] Trial 15 finished with value: 648.3539192737101 and parameters: {'booster': 'gblinear', 'lambda': 1.6019878057025416e-06, 'alpha': 0.9753981996779942, 'learning_rate': 0.0045824942304950505, 'subsample': 0.8617510908398396, 'colsample_bytree': 0.6104269896358109}. Best is trial 12 with value: 648.0803998785717.\n",
      "[I 2024-06-20 04:38:41,563] Trial 16 finished with value: 652.3175359361633 and parameters: {'booster': 'gblinear', 'lambda': 7.835134918896986e-07, 'alpha': 1.847089347077482e-05, 'learning_rate': 0.0030171801319170853, 'subsample': 0.8481493649340156, 'colsample_bytree': 0.346213827053431}. Best is trial 12 with value: 648.0803998785717.\n",
      "[I 2024-06-20 04:38:41,592] Trial 17 finished with value: 684.6174990304648 and parameters: {'booster': 'gblinear', 'lambda': 1.8999808478625037e-06, 'alpha': 0.022363162944579955, 'learning_rate': 0.026834315228914343, 'subsample': 0.8479560457190412, 'colsample_bytree': 0.5745517652069043}. Best is trial 12 with value: 648.0803998785717.\n",
      "[I 2024-06-20 04:38:41,619] Trial 18 finished with value: 653.292568007547 and parameters: {'booster': 'gblinear', 'lambda': 5.016933369208182e-06, 'alpha': 0.08168243356403182, 'learning_rate': 0.005007189196600919, 'subsample': 0.8742344768964327, 'colsample_bytree': 0.7461873561833156}. Best is trial 12 with value: 648.0803998785717.\n"
     ]
    },
    {
     "name": "stdout",
     "output_type": "stream",
     "text": [
      "Trial: 14 - MSE: 662.7778337877834 - RMSE: 25.744471907339317\n",
      "Trial: 15 - MSE: 648.3539192737101 - RMSE: 25.462794804846347\n",
      "Trial: 16 - MSE: 652.3175359361633 - RMSE: 25.54050774624818\n",
      "Trial: 17 - MSE: 684.6174990304648 - RMSE: 26.165196330822074\n",
      "Trial: 18 - MSE: 653.292568007547 - RMSE: 25.5595885727362\n"
     ]
    },
    {
     "name": "stderr",
     "output_type": "stream",
     "text": [
      "[I 2024-06-20 04:38:41,661] Trial 19 finished with value: 691.2267701032002 and parameters: {'booster': 'gbtree', 'lambda': 1.5239496078026134e-07, 'alpha': 0.0025034094989673707, 'learning_rate': 0.010304840653941896, 'subsample': 0.6356413460998382, 'colsample_bytree': 0.9293986501995244, 'max_depth': 3, 'min_child_weight': 7, 'eta': 0.8902940017374311, 'gamma': 4.097947761745357e-06, 'grow_policy': 'lossguide'}. Best is trial 12 with value: 648.0803998785717.\n",
      "[I 2024-06-20 04:38:41,686] Trial 20 finished with value: 649.0046523264712 and parameters: {'booster': 'gblinear', 'lambda': 5.950444513887513e-06, 'alpha': 0.8617005143686006, 'learning_rate': 0.004293616576756264, 'subsample': 0.8850670113879031, 'colsample_bytree': 0.5527571973996491}. Best is trial 12 with value: 648.0803998785717.\n",
      "[I 2024-06-20 04:38:41,708] Trial 21 finished with value: 649.989027798175 and parameters: {'booster': 'gblinear', 'lambda': 5.148379695838322e-06, 'alpha': 0.6621558885042317, 'learning_rate': 0.003744285450246504, 'subsample': 0.9109188284480433, 'colsample_bytree': 0.5524512897256472}. Best is trial 12 with value: 648.0803998785717.\n"
     ]
    },
    {
     "name": "stdout",
     "output_type": "stream",
     "text": [
      "Trial: 19 - MSE: 691.2267701032002 - RMSE: 26.291191873005687\n",
      "Trial: 20 - MSE: 649.0046523264712 - RMSE: 25.475569715444465\n",
      "Trial: 21 - MSE: 649.989027798175 - RMSE: 25.49488238447424\n"
     ]
    },
    {
     "name": "stderr",
     "output_type": "stream",
     "text": [
      "[I 2024-06-20 04:38:41,730] Trial 22 finished with value: 651.6624462090796 and parameters: {'booster': 'gblinear', 'lambda': 1.349601710785477e-07, 'alpha': 0.07408986303168168, 'learning_rate': 0.002249909853802424, 'subsample': 0.7670619469777822, 'colsample_bytree': 0.3810318283846248}. Best is trial 12 with value: 648.0803998785717.\n",
      "[I 2024-06-20 04:38:41,752] Trial 23 finished with value: 647.4661732536608 and parameters: {'booster': 'gblinear', 'lambda': 6.7283866872892045e-06, 'alpha': 0.9868462257001263, 'learning_rate': 0.008543752617805104, 'subsample': 0.8298725339468819, 'colsample_bytree': 0.7775420563070038}. Best is trial 23 with value: 647.4661732536608.\n",
      "[I 2024-06-20 04:38:41,776] Trial 24 finished with value: 657.5450562881306 and parameters: {'booster': 'gblinear', 'lambda': 6.403672745197855e-07, 'alpha': 0.011474546108669041, 'learning_rate': 0.009066899645860094, 'subsample': 0.8156758276497958, 'colsample_bytree': 0.8237199415531737}. Best is trial 23 with value: 647.4661732536608.\n",
      "[I 2024-06-20 04:38:41,797] Trial 25 finished with value: 675.6782412841648 and parameters: {'booster': 'gblinear', 'lambda': 7.785906767747672e-08, 'alpha': 0.11816376680896201, 'learning_rate': 0.023343568611118755, 'subsample': 0.9348382093735347, 'colsample_bytree': 0.7673091485091887}. Best is trial 23 with value: 647.4661732536608.\n",
      "[I 2024-06-20 04:38:41,818] Trial 26 finished with value: 651.2330383066939 and parameters: {'booster': 'gblinear', 'lambda': 0.00014319263377569896, 'alpha': 0.20128965218906997, 'learning_rate': 0.0019290131438962808, 'subsample': 0.6899205328831572, 'colsample_bytree': 0.8656431042102808}. Best is trial 23 with value: 647.4661732536608.\n",
      "[I 2024-06-20 04:38:41,840] Trial 27 finished with value: 661.1351435979484 and parameters: {'booster': 'gblinear', 'lambda': 1.9380596993035048e-06, 'alpha': 0.0008047919840044038, 'learning_rate': 0.011975374087022213, 'subsample': 0.8267337625489469, 'colsample_bytree': 0.9412614668856801}. Best is trial 23 with value: 647.4661732536608.\n"
     ]
    },
    {
     "name": "stdout",
     "output_type": "stream",
     "text": [
      "Trial: 22 - MSE: 651.6624462090796 - RMSE: 25.52768000052256\n",
      "Trial: 23 - MSE: 647.4661732536608 - RMSE: 25.445356614786533\n",
      "Trial: 24 - MSE: 657.5450562881306 - RMSE: 25.64264136722523\n",
      "Trial: 25 - MSE: 675.6782412841648 - RMSE: 25.99381159591961\n",
      "Trial: 26 - MSE: 651.2330383066939 - RMSE: 25.519267981403658\n",
      "Trial: 27 - MSE: 661.1351435979484 - RMSE: 25.712548368412424\n"
     ]
    },
    {
     "name": "stderr",
     "output_type": "stream",
     "text": [
      "[I 2024-06-20 04:38:41,901] Trial 28 finished with value: 671.0790690236362 and parameters: {'booster': 'dart', 'lambda': 1.551570997356871e-05, 'alpha': 1.0778272998422885e-05, 'learning_rate': 0.006126782581600716, 'subsample': 0.922740456681748, 'colsample_bytree': 0.7249712609635923, 'max_depth': 9, 'min_child_weight': 2, 'eta': 1.1500904318008414e-05, 'gamma': 2.978641792526313e-06, 'grow_policy': 'depthwise', 'sample_type': 'uniform', 'normalize_type': 'forest', 'rate_drop': 0.8968978281737893, 'skip_drop': 1.000595742453693e-08}. Best is trial 23 with value: 647.4661732536608.\n"
     ]
    },
    {
     "name": "stdout",
     "output_type": "stream",
     "text": [
      "Trial: 28 - MSE: 671.0790690236362 - RMSE: 25.905193861919585\n"
     ]
    },
    {
     "name": "stderr",
     "output_type": "stream",
     "text": [
      "[I 2024-06-20 04:38:41,948] Trial 29 finished with value: 678.9832378562827 and parameters: {'booster': 'gbtree', 'lambda': 0.0001999858433814801, 'alpha': 0.008676761686540828, 'learning_rate': 0.008023231093956933, 'subsample': 0.7081485576331803, 'colsample_bytree': 0.6385910112929054, 'max_depth': 5, 'min_child_weight': 5, 'eta': 1.5062434760525772e-08, 'gamma': 2.2452970327467283e-06, 'grow_policy': 'lossguide'}. Best is trial 23 with value: 647.4661732536608.\n",
      "[I 2024-06-20 04:38:42,003] Trial 30 finished with value: 706.5838003338077 and parameters: {'booster': 'dart', 'lambda': 1.1858485041572342e-08, 'alpha': 0.04411295552329185, 'learning_rate': 0.01795037104246175, 'subsample': 0.62744036230504, 'colsample_bytree': 0.22664030206365976, 'max_depth': 3, 'min_child_weight': 8, 'eta': 0.02157832254673961, 'gamma': 0.0006326802600307258, 'grow_policy': 'lossguide', 'sample_type': 'uniform', 'normalize_type': 'forest', 'rate_drop': 0.22257610726701774, 'skip_drop': 0.8894100312325794}. Best is trial 23 with value: 647.4661732536608.\n",
      "[I 2024-06-20 04:38:42,026] Trial 31 finished with value: 648.4809121466483 and parameters: {'booster': 'gblinear', 'lambda': 6.618785260219525e-06, 'alpha': 0.9552080282989617, 'learning_rate': 0.00451077604518398, 'subsample': 0.8913987815440917, 'colsample_bytree': 0.5374909413224958}. Best is trial 23 with value: 647.4661732536608.\n",
      "[I 2024-06-20 04:38:42,048] Trial 32 finished with value: 651.5289030911305 and parameters: {'booster': 'gblinear', 'lambda': 5.601144004119542e-05, 'alpha': 0.31781064923009483, 'learning_rate': 0.003973433876133558, 'subsample': 0.7864783128858951, 'colsample_bytree': 0.49208660052086434}. Best is trial 23 with value: 647.4661732536608.\n",
      "[I 2024-06-20 04:38:42,070] Trial 33 finished with value: 651.2382656942253 and parameters: {'booster': 'gblinear', 'lambda': 1.2399745818582084e-05, 'alpha': 0.2609178881049744, 'learning_rate': 0.002434984373282543, 'subsample': 0.9978667324852615, 'colsample_bytree': 0.691267897855433}. Best is trial 23 with value: 647.4661732536608.\n"
     ]
    },
    {
     "name": "stdout",
     "output_type": "stream",
     "text": [
      "Trial: 29 - MSE: 678.9832378562827 - RMSE: 26.05730680358741\n",
      "Trial: 30 - MSE: 706.5838003338077 - RMSE: 26.58164404873799\n",
      "Trial: 31 - MSE: 648.4809121466483 - RMSE: 25.46528837744918\n",
      "Trial: 32 - MSE: 651.5289030911305 - RMSE: 25.525064213261647\n",
      "Trial: 33 - MSE: 651.2382656942253 - RMSE: 25.519370401603275\n"
     ]
    },
    {
     "name": "stderr",
     "output_type": "stream",
     "text": [
      "[I 2024-06-20 04:38:42,106] Trial 34 finished with value: 648.1983842739401 and parameters: {'booster': 'gblinear', 'lambda': 1.2465852433329998e-06, 'alpha': 0.9865476665976097, 'learning_rate': 0.004866524201090444, 'subsample': 0.9014885323223344, 'colsample_bytree': 0.6025341583206705}. Best is trial 23 with value: 647.4661732536608.\n",
      "[I 2024-06-20 04:38:42,137] Trial 35 finished with value: 653.4467765783304 and parameters: {'booster': 'gblinear', 'lambda': 1.2589020200840628e-06, 'alpha': 0.26554794770776946, 'learning_rate': 0.007095638386534127, 'subsample': 0.9308698971051612, 'colsample_bytree': 0.6417223983646033}. Best is trial 23 with value: 647.4661732536608.\n"
     ]
    },
    {
     "name": "stdout",
     "output_type": "stream",
     "text": [
      "Trial: 34 - MSE: 648.1983842739401 - RMSE: 25.459740459673583\n",
      "Trial: 35 - MSE: 653.4467765783304 - RMSE: 25.562605042881103\n"
     ]
    },
    {
     "name": "stderr",
     "output_type": "stream",
     "text": [
      "[I 2024-06-20 04:38:42,218] Trial 36 finished with value: 684.5680989903 and parameters: {'booster': 'dart', 'lambda': 2.5980989563435286e-07, 'alpha': 0.0642715100690604, 'learning_rate': 0.01096734490939136, 'subsample': 0.46383897193239904, 'colsample_bytree': 0.5905300437061038, 'max_depth': 5, 'min_child_weight': 9, 'eta': 4.5623474231345626e-05, 'gamma': 0.02721505882067893, 'grow_policy': 'depthwise', 'sample_type': 'weighted', 'normalize_type': 'tree', 'rate_drop': 0.0005143895940804381, 'skip_drop': 0.005758264083519696}. Best is trial 23 with value: 647.4661732536608.\n"
     ]
    },
    {
     "name": "stdout",
     "output_type": "stream",
     "text": [
      "Trial: 36 - MSE: 684.5680989903 - RMSE: 26.16425231093562\n"
     ]
    },
    {
     "name": "stderr",
     "output_type": "stream",
     "text": [
      "[I 2024-06-20 04:38:42,336] Trial 37 finished with value: 797.8522187491765 and parameters: {'booster': 'gbtree', 'lambda': 5.636376733265648e-08, 'alpha': 1.6956218144449614e-07, 'learning_rate': 0.044362973779985784, 'subsample': 0.8131280744594825, 'colsample_bytree': 0.8036876244609208, 'max_depth': 9, 'min_child_weight': 3, 'eta': 0.0073605985731500356, 'gamma': 3.645448294478317e-07, 'grow_policy': 'lossguide'}. Best is trial 23 with value: 647.4661732536608.\n",
      "[I 2024-06-20 04:38:42,396] Trial 38 finished with value: 664.7782269898516 and parameters: {'booster': 'gblinear', 'lambda': 3.9230526124509826e-07, 'alpha': 0.007606877871674937, 'learning_rate': 0.014742704974335719, 'subsample': 0.28969309578899116, 'colsample_bytree': 0.999597577119075}. Best is trial 23 with value: 647.4661732536608.\n"
     ]
    },
    {
     "name": "stdout",
     "output_type": "stream",
     "text": [
      "Trial: 37 - MSE: 797.8522187491765 - RMSE: 28.246277962754252\n",
      "Trial: 38 - MSE: 664.7782269898516 - RMSE: 25.783293563659623\n"
     ]
    },
    {
     "name": "stderr",
     "output_type": "stream",
     "text": [
      "[I 2024-06-20 04:38:42,463] Trial 39 finished with value: 661.9573463653458 and parameters: {'booster': 'dart', 'lambda': 0.547096051844057, 'alpha': 0.002035884470872032, 'learning_rate': 0.0033270773961441382, 'subsample': 0.8682085931739617, 'colsample_bytree': 0.6850527011161647, 'max_depth': 5, 'min_child_weight': 6, 'eta': 6.843552950457851e-07, 'gamma': 3.6485799152107865e-05, 'grow_policy': 'depthwise', 'sample_type': 'uniform', 'normalize_type': 'forest', 'rate_drop': 7.442135327256707e-06, 'skip_drop': 1.6554096505803353e-08}. Best is trial 23 with value: 647.4661732536608.\n",
      "[I 2024-06-20 04:38:42,507] Trial 40 finished with value: 654.4088295849123 and parameters: {'booster': 'gbtree', 'lambda': 0.0050092661418100135, 'alpha': 0.0001271986444017239, 'learning_rate': 0.0010023725988687446, 'subsample': 0.725410668402864, 'colsample_bytree': 0.42367630488980806, 'max_depth': 3, 'min_child_weight': 5, 'eta': 1.9852588202564055e-08, 'gamma': 0.19524232398795288, 'grow_policy': 'depthwise'}. Best is trial 23 with value: 647.4661732536608.\n"
     ]
    },
    {
     "name": "stdout",
     "output_type": "stream",
     "text": [
      "Trial: 39 - MSE: 661.9573463653458 - RMSE: 25.72853175689094\n",
      "Trial: 40 - MSE: 654.4088295849123 - RMSE: 25.581415707206517\n"
     ]
    },
    {
     "name": "stderr",
     "output_type": "stream",
     "text": [
      "[I 2024-06-20 04:38:42,557] Trial 41 finished with value: 648.4534099316913 and parameters: {'booster': 'gblinear', 'lambda': 2.518612631405454e-06, 'alpha': 0.9657116304721375, 'learning_rate': 0.004435931242715565, 'subsample': 0.9061078255957319, 'colsample_bytree': 0.4828869160430512}. Best is trial 23 with value: 647.4661732536608.\n"
     ]
    },
    {
     "name": "stdout",
     "output_type": "stream",
     "text": [
      "Trial: 41 - MSE: 648.4534099316913 - RMSE: 25.46474837754521\n"
     ]
    },
    {
     "name": "stderr",
     "output_type": "stream",
     "text": [
      "[I 2024-06-20 04:38:42,803] Trial 42 finished with value: 651.8988938573455 and parameters: {'booster': 'gblinear', 'lambda': 2.7273206948663165e-06, 'alpha': 0.3621696284290675, 'learning_rate': 0.005455739590779585, 'subsample': 0.91927533571133, 'colsample_bytree': 0.48295488383175317}. Best is trial 23 with value: 647.4661732536608.\n",
      "[I 2024-06-20 04:38:42,902] Trial 43 finished with value: 656.4985015474565 and parameters: {'booster': 'gblinear', 'lambda': 3.9736258719118076e-05, 'alpha': 0.11841063846730986, 'learning_rate': 0.00912921261483416, 'subsample': 0.9659384595287002, 'colsample_bytree': 0.5986931717430899}. Best is trial 23 with value: 647.4661732536608.\n",
      "[I 2024-06-20 04:38:42,925] Trial 44 finished with value: 651.8624282892151 and parameters: {'booster': 'gblinear', 'lambda': 5.968289213524609e-07, 'alpha': 0.4036515419564813, 'learning_rate': 0.006089104844721643, 'subsample': 0.7544412719361219, 'colsample_bytree': 0.4311180359915848}. Best is trial 23 with value: 647.4661732536608.\n",
      "[I 2024-06-20 04:38:42,949] Trial 45 finished with value: 649.6070246652563 and parameters: {'booster': 'gblinear', 'lambda': 1.5702085027986235e-05, 'alpha': 0.9746777491096056, 'learning_rate': 0.0018362291333774469, 'subsample': 0.9494388011809064, 'colsample_bytree': 0.8608055851392125}. Best is trial 23 with value: 647.4661732536608.\n",
      "[I 2024-06-20 04:38:42,972] Trial 46 finished with value: 652.0797967005484 and parameters: {'booster': 'gblinear', 'lambda': 0.00042891624882216773, 'alpha': 0.02466533536971556, 'learning_rate': 0.0027640950570779746, 'subsample': 0.8124256486194198, 'colsample_bytree': 0.3145666617006408}. Best is trial 23 with value: 647.4661732536608.\n",
      "[I 2024-06-20 04:38:42,994] Trial 47 finished with value: 651.9545666847911 and parameters: {'booster': 'gblinear', 'lambda': 1.1808936951733742e-06, 'alpha': 0.17464151914770296, 'learning_rate': 0.0035309773606135813, 'subsample': 0.8557247087701672, 'colsample_bytree': 0.5152731186561028}. Best is trial 23 with value: 647.4661732536608.\n"
     ]
    },
    {
     "name": "stdout",
     "output_type": "stream",
     "text": [
      "Trial: 42 - MSE: 651.8988938573455 - RMSE: 25.532310781778946\n",
      "Trial: 43 - MSE: 656.4985015474565 - RMSE: 25.622226709391526\n",
      "Trial: 44 - MSE: 651.8624282892151 - RMSE: 25.53159666548912\n",
      "Trial: 45 - MSE: 649.6070246652563 - RMSE: 25.487389522374713\n",
      "Trial: 46 - MSE: 652.0797967005484 - RMSE: 25.535853161790943\n",
      "Trial: 47 - MSE: 651.9545666847911 - RMSE: 25.533401001135573\n"
     ]
    },
    {
     "name": "stderr",
     "output_type": "stream",
     "text": [
      "[I 2024-06-20 04:38:43,020] Trial 48 finished with value: 653.7955656046751 and parameters: {'booster': 'gblinear', 'lambda': 7.593755618460426e-05, 'alpha': 1.5705892984754457e-08, 'learning_rate': 0.005047199166629572, 'subsample': 0.9633032454209576, 'colsample_bytree': 0.7400357983861632}. Best is trial 23 with value: 647.4661732536608.\n",
      "[I 2024-06-20 04:38:43,044] Trial 49 finished with value: 655.9606223821228 and parameters: {'booster': 'gblinear', 'lambda': 3.3355959601796333e-06, 'alpha': 1.2186151189526237e-06, 'learning_rate': 0.00744144263268548, 'subsample': 0.5610543956971688, 'colsample_bytree': 0.6270284538773733}. Best is trial 23 with value: 647.4661732536608.\n",
      "[I 2024-06-20 04:38:43,068] Trial 50 finished with value: 657.3483138239731 and parameters: {'booster': 'gblinear', 'lambda': 9.296284797794599e-06, 'alpha': 5.235235200621744e-05, 'learning_rate': 0.008776868692897974, 'subsample': 0.895992761877746, 'colsample_bytree': 0.08736335354876923}. Best is trial 23 with value: 647.4661732536608.\n",
      "[I 2024-06-20 04:38:43,089] Trial 51 finished with value: 650.5736079261037 and parameters: {'booster': 'gblinear', 'lambda': 2.4240174107610516e-05, 'alpha': 0.5503249086394458, 'learning_rate': 0.004752221399103771, 'subsample': 0.8955754608553025, 'colsample_bytree': 0.5208913283600602}. Best is trial 23 with value: 647.4661732536608.\n",
      "[I 2024-06-20 04:38:43,111] Trial 52 finished with value: 648.4580217473227 and parameters: {'booster': 'gblinear', 'lambda': 2.588317593064966e-08, 'alpha': 0.9620780348422654, 'learning_rate': 0.004475211471681319, 'subsample': 0.843326507428635, 'colsample_bytree': 0.5537850213985053}. Best is trial 23 with value: 647.4661732536608.\n",
      "[I 2024-06-20 04:38:43,134] Trial 53 finished with value: 651.2620091060008 and parameters: {'booster': 'gblinear', 'lambda': 3.4173466096304715e-08, 'alpha': 0.4925829073034929, 'learning_rate': 0.0061438639674219735, 'subsample': 0.8379050654642978, 'colsample_bytree': 0.38593292343575336}. Best is trial 23 with value: 647.4661732536608.\n",
      "[I 2024-06-20 04:38:43,159] Trial 54 finished with value: 652.3747242578379 and parameters: {'booster': 'gblinear', 'lambda': 1.375184188419977e-07, 'alpha': 0.12472914547639781, 'learning_rate': 0.003923921043679293, 'subsample': 0.7960595531233878, 'colsample_bytree': 0.4638652724551421}. Best is trial 23 with value: 647.4661732536608.\n",
      "[I 2024-06-20 04:38:43,182] Trial 55 finished with value: 649.3544476484994 and parameters: {'booster': 'gblinear', 'lambda': 2.6757194453469995e-08, 'alpha': 0.9337048768359928, 'learning_rate': 0.00251668650218248, 'subsample': 0.9904677466488725, 'colsample_bytree': 0.5832810252339474}. Best is trial 23 with value: 647.4661732536608.\n"
     ]
    },
    {
     "name": "stdout",
     "output_type": "stream",
     "text": [
      "Trial: 48 - MSE: 653.7955656046751 - RMSE: 25.56942638395854\n",
      "Trial: 49 - MSE: 655.9606223821228 - RMSE: 25.611728219355342\n",
      "Trial: 50 - MSE: 657.3483138239731 - RMSE: 25.63880484390747\n",
      "Trial: 51 - MSE: 650.5736079261037 - RMSE: 25.50634446419368\n",
      "Trial: 52 - MSE: 648.4580217473227 - RMSE: 25.464838930323566\n",
      "Trial: 53 - MSE: 651.2620091060008 - RMSE: 25.519835601077073\n",
      "Trial: 54 - MSE: 652.3747242578379 - RMSE: 25.54162728288544\n",
      "Trial: 55 - MSE: 649.3544476484994 - RMSE: 25.482434099757807\n"
     ]
    },
    {
     "name": "stderr",
     "output_type": "stream",
     "text": [
      "[I 2024-06-20 04:38:43,240] Trial 56 finished with value: 663.1503522309703 and parameters: {'booster': 'gbtree', 'lambda': 2.6130648384634685e-07, 'alpha': 0.04103940930081304, 'learning_rate': 0.003080414186330782, 'subsample': 0.6608541775291159, 'colsample_bytree': 0.9122536141488582, 'max_depth': 9, 'min_child_weight': 8, 'eta': 0.0007885397725271796, 'gamma': 0.003847443127832639, 'grow_policy': 'lossguide'}. Best is trial 23 with value: 647.4661732536608.\n",
      "[I 2024-06-20 04:38:43,262] Trial 57 finished with value: 652.7829707444286 and parameters: {'booster': 'gblinear', 'lambda': 8.472165524509268e-08, 'alpha': 0.21812476820853696, 'learning_rate': 0.005485089923885555, 'subsample': 0.8633565582509036, 'colsample_bytree': 0.6823572453111688}. Best is trial 23 with value: 647.4661732536608.\n",
      "[I 2024-06-20 04:38:43,285] Trial 58 finished with value: 654.9425611627187 and parameters: {'booster': 'gblinear', 'lambda': 1.5450220369988713e-08, 'alpha': 0.07547381253685005, 'learning_rate': 0.007029349463937692, 'subsample': 0.7457850894509075, 'colsample_bytree': 0.7925121824008349}. Best is trial 23 with value: 647.4661732536608.\n",
      "[I 2024-06-20 04:38:43,343] Trial 59 finished with value: 664.8657820067123 and parameters: {'booster': 'dart', 'lambda': 1.1212194888808596e-06, 'alpha': 0.510769568362291, 'learning_rate': 0.004484673123955773, 'subsample': 0.9370117834868604, 'colsample_bytree': 0.5590181001174328, 'max_depth': 5, 'min_child_weight': 3, 'eta': 0.08225657783229132, 'gamma': 2.1154687050048608e-07, 'grow_policy': 'depthwise', 'sample_type': 'uniform', 'normalize_type': 'forest', 'rate_drop': 0.010950324585688759, 'skip_drop': 0.0040310419110802685}. Best is trial 23 with value: 647.4661732536608.\n",
      "[I 2024-06-20 04:38:43,371] Trial 60 finished with value: 657.1625726390251 and parameters: {'booster': 'gblinear', 'lambda': 4.7417185256733574e-07, 'alpha': 0.1711301774543772, 'learning_rate': 0.010438715001498546, 'subsample': 0.8787274116431673, 'colsample_bytree': 0.7189761319901055}. Best is trial 23 with value: 647.4661732536608.\n",
      "[I 2024-06-20 04:38:43,394] Trial 61 finished with value: 648.9416787432978 and parameters: {'booster': 'gblinear', 'lambda': 3.286710061082119e-06, 'alpha': 0.8743084427065126, 'learning_rate': 0.004301760718566905, 'subsample': 0.8989760414869857, 'colsample_bytree': 0.5408674328474686}. Best is trial 23 with value: 647.4661732536608.\n",
      "[I 2024-06-20 04:38:43,416] Trial 62 finished with value: 648.3768988382976 and parameters: {'booster': 'gblinear', 'lambda': 8.803086281837766e-06, 'alpha': 0.9526034613910028, 'learning_rate': 0.004889693039386948, 'subsample': 0.8297367900211237, 'colsample_bytree': 0.6622630197963985}. Best is trial 23 with value: 647.4661732536608.\n",
      "[I 2024-06-20 04:38:43,437] Trial 63 finished with value: 651.0751742257612 and parameters: {'booster': 'gblinear', 'lambda': 1.5094016309348972e-06, 'alpha': 0.38314237495745934, 'learning_rate': 0.0033493817781519333, 'subsample': 0.7882224099851309, 'colsample_bytree': 0.6595073349028608}. Best is trial 23 with value: 647.4661732536608.\n"
     ]
    },
    {
     "name": "stdout",
     "output_type": "stream",
     "text": [
      "Trial: 56 - MSE: 663.1503522309703 - RMSE: 25.751705812061658\n",
      "Trial: 57 - MSE: 652.7829707444286 - RMSE: 25.549617819928905\n",
      "Trial: 58 - MSE: 654.9425611627187 - RMSE: 25.591845598993416\n",
      "Trial: 59 - MSE: 664.8657820067123 - RMSE: 25.784991409863068\n",
      "Trial: 60 - MSE: 657.1625726390251 - RMSE: 25.63518232115826\n",
      "Trial: 61 - MSE: 648.9416787432978 - RMSE: 25.474333725208552\n",
      "Trial: 62 - MSE: 648.3768988382976 - RMSE: 25.46324603891455\n",
      "Trial: 63 - MSE: 651.0751742257612 - RMSE: 25.516174756921565\n"
     ]
    },
    {
     "name": "stderr",
     "output_type": "stream",
     "text": [
      "[I 2024-06-20 04:38:43,464] Trial 64 finished with value: 651.1502427828646 and parameters: {'booster': 'gblinear', 'lambda': 2.347453083471283e-05, 'alpha': 0.48884105404530187, 'learning_rate': 0.005700693650792575, 'subsample': 0.8380248748308603, 'colsample_bytree': 0.7674937865798798}. Best is trial 23 with value: 647.4661732536608.\n",
      "[I 2024-06-20 04:38:43,493] Trial 65 finished with value: 647.4025069005219 and parameters: {'booster': 'gblinear', 'lambda': 2.022940291246672e-07, 'alpha': 0.9984462311756452, 'learning_rate': 0.00805880113710561, 'subsample': 0.9756494846570188, 'colsample_bytree': 0.6217328071739047}. Best is trial 65 with value: 647.4025069005219.\n",
      "[I 2024-06-20 04:38:43,517] Trial 66 finished with value: 654.5405309519867 and parameters: {'booster': 'gblinear', 'lambda': 2.266656539683936e-07, 'alpha': 0.2612712016962155, 'learning_rate': 0.00857954085932597, 'subsample': 0.9787598327310427, 'colsample_bytree': 0.6227201145659171}. Best is trial 65 with value: 647.4025069005219.\n",
      "[I 2024-06-20 04:38:43,540] Trial 67 finished with value: 661.1957994573195 and parameters: {'booster': 'gblinear', 'lambda': 6.612682001419377e-07, 'alpha': 0.0834980880125151, 'learning_rate': 0.012979557301084129, 'subsample': 0.9251654420563014, 'colsample_bytree': 0.830817997437591}. Best is trial 65 with value: 647.4025069005219.\n",
      "[I 2024-06-20 04:38:43,564] Trial 68 finished with value: 654.5954339112748 and parameters: {'booster': 'gblinear', 'lambda': 8.400335360428793e-06, 'alpha': 0.13440378651670276, 'learning_rate': 0.007191843551288283, 'subsample': 0.945378928532048, 'colsample_bytree': 0.6631772320068233}. Best is trial 65 with value: 647.4025069005219.\n",
      "[I 2024-06-20 04:38:43,613] Trial 69 finished with value: 710.4534599451855 and parameters: {'booster': 'gbtree', 'lambda': 2.3078758964345565e-06, 'alpha': 0.04945864263936389, 'learning_rate': 0.016396630497215257, 'subsample': 0.9675867112156916, 'colsample_bytree': 0.7612731840387711, 'max_depth': 7, 'min_child_weight': 7, 'eta': 1.6812374573275937e-06, 'gamma': 3.5433683603509484e-05, 'grow_policy': 'lossguide'}. Best is trial 65 with value: 647.4025069005219.\n"
     ]
    },
    {
     "name": "stdout",
     "output_type": "stream",
     "text": [
      "Trial: 64 - MSE: 651.1502427828646 - RMSE: 25.517645713953797\n",
      "Trial: 65 - MSE: 647.4025069005219 - RMSE: 25.44410554333797\n",
      "Trial: 66 - MSE: 654.5405309519867 - RMSE: 25.583989738740648\n",
      "Trial: 67 - MSE: 661.1957994573195 - RMSE: 25.713727840539175\n",
      "Trial: 68 - MSE: 654.5954339112748 - RMSE: 25.585062710716088\n",
      "Trial: 69 - MSE: 710.4534599451855 - RMSE: 26.654332855000995\n"
     ]
    },
    {
     "name": "stderr",
     "output_type": "stream",
     "text": [
      "[I 2024-06-20 04:38:43,675] Trial 70 finished with value: 682.2243292809696 and parameters: {'booster': 'dart', 'lambda': 4.869064125113795e-06, 'alpha': 0.015897710366327936, 'learning_rate': 0.009516777786718457, 'subsample': 0.9140210409589222, 'colsample_bytree': 0.716069141926869, 'max_depth': 9, 'min_child_weight': 9, 'eta': 5.68531936388666e-05, 'gamma': 1.7291937081833932e-07, 'grow_policy': 'depthwise', 'sample_type': 'weighted', 'normalize_type': 'tree', 'rate_drop': 1.6836658561872034e-08, 'skip_drop': 6.114479655509051e-07}. Best is trial 65 with value: 647.4025069005219.\n",
      "[I 2024-06-20 04:38:43,744] Trial 71 finished with value: 647.9036780155003 and parameters: {'booster': 'gblinear', 'lambda': 2.17128368173817e-08, 'alpha': 0.9648272267464503, 'learning_rate': 0.006542481406930115, 'subsample': 0.8776146646515944, 'colsample_bytree': 0.612338533528105}. Best is trial 65 with value: 647.4025069005219.\n",
      "[I 2024-06-20 04:38:43,767] Trial 72 finished with value: 651.6526923069798 and parameters: {'booster': 'gblinear', 'lambda': 6.155361774364606e-08, 'alpha': 0.5210268255719112, 'learning_rate': 0.00782073309659489, 'subsample': 0.8735223651588891, 'colsample_bytree': 0.6456708973829673}. Best is trial 65 with value: 647.4025069005219.\n",
      "[I 2024-06-20 04:38:43,789] Trial 73 finished with value: 652.9433275561756 and parameters: {'booster': 'gblinear', 'lambda': 7.660024814039981e-08, 'alpha': 0.2943635599847741, 'learning_rate': 0.006651879129441381, 'subsample': 0.9965879389573853, 'colsample_bytree': 0.5907628526167481}. Best is trial 65 with value: 647.4025069005219.\n",
      "[I 2024-06-20 04:38:43,812] Trial 74 finished with value: 650.7097105924433 and parameters: {'booster': 'gblinear', 'lambda': 1.4419508239528201e-07, 'alpha': 0.5354001675227998, 'learning_rate': 0.005061302287751602, 'subsample': 0.9540294451637091, 'colsample_bytree': 0.6104740326439314}. Best is trial 65 with value: 647.4025069005219.\n"
     ]
    },
    {
     "name": "stdout",
     "output_type": "stream",
     "text": [
      "Trial: 70 - MSE: 682.2243292809696 - RMSE: 26.119424367335693\n",
      "Trial: 71 - MSE: 647.9036780155003 - RMSE: 25.45395210994749\n",
      "Trial: 72 - MSE: 651.6526923069798 - RMSE: 25.527488954203463\n",
      "Trial: 73 - MSE: 652.9433275561756 - RMSE: 25.55275577224843\n",
      "Trial: 74 - MSE: 650.7097105924433 - RMSE: 25.50901234059138\n"
     ]
    },
    {
     "name": "stderr",
     "output_type": "stream",
     "text": [
      "[I 2024-06-20 04:38:43,880] Trial 75 finished with value: 648.573736479107 and parameters: {'booster': 'gblinear', 'lambda': 1.8011933523640163e-08, 'alpha': 0.9757444444560145, 'learning_rate': 0.003980721075071107, 'subsample': 0.814571346142575, 'colsample_bytree': 0.7009740318408005}. Best is trial 65 with value: 647.4025069005219.\n",
      "[I 2024-06-20 04:38:43,951] Trial 76 finished with value: 653.1189190991037 and parameters: {'booster': 'gblinear', 'lambda': 9.553433103722337e-07, 'alpha': 0.23336395241658497, 'learning_rate': 0.006184376555643593, 'subsample': 0.9079974970049857, 'colsample_bytree': 0.5052340779659363}. Best is trial 65 with value: 647.4025069005219.\n",
      "[I 2024-06-20 04:38:43,974] Trial 77 finished with value: 655.5458365567792 and parameters: {'booster': 'gblinear', 'lambda': 1.0441081318971548e-08, 'alpha': 0.3399062669885577, 'learning_rate': 0.010948272141159635, 'subsample': 0.46130590239607083, 'colsample_bytree': 0.5728849252857804}. Best is trial 65 with value: 647.4025069005219.\n",
      "[I 2024-06-20 04:38:43,997] Trial 78 finished with value: 650.1189480531553 and parameters: {'booster': 'gblinear', 'lambda': 1.8837646238444785e-07, 'alpha': 0.6410860559471093, 'learning_rate': 0.0052588711969011465, 'subsample': 0.8572714283206464, 'colsample_bytree': 0.8351874645493105}. Best is trial 65 with value: 647.4025069005219.\n",
      "[I 2024-06-20 04:38:44,020] Trial 79 finished with value: 655.1168742758426 and parameters: {'booster': 'gblinear', 'lambda': 4.168200838653686e-07, 'alpha': 0.18664265497679766, 'learning_rate': 0.00838904703134815, 'subsample': 0.7704925734331932, 'colsample_bytree': 0.6131094823939405}. Best is trial 65 with value: 647.4025069005219.\n",
      "[I 2024-06-20 04:38:44,043] Trial 80 finished with value: 676.6851976043585 and parameters: {'booster': 'gblinear', 'lambda': 4.529325422131619e-08, 'alpha': 0.0003366983106917824, 'learning_rate': 0.022108435585175144, 'subsample': 0.8809193389818223, 'colsample_bytree': 0.7451743042955505}. Best is trial 65 with value: 647.4025069005219.\n",
      "[I 2024-06-20 04:38:44,065] Trial 81 finished with value: 648.7348152562114 and parameters: {'booster': 'gblinear', 'lambda': 2.787847629116435e-08, 'alpha': 0.9587270486658721, 'learning_rate': 0.003758182815353053, 'subsample': 0.8285835001569212, 'colsample_bytree': 0.4582773288469378}. Best is trial 65 with value: 647.4025069005219.\n"
     ]
    },
    {
     "name": "stdout",
     "output_type": "stream",
     "text": [
      "Trial: 75 - MSE: 648.573736479107 - RMSE: 25.46711087813274\n",
      "Trial: 76 - MSE: 653.1189190991037 - RMSE: 25.556191404415166\n",
      "Trial: 77 - MSE: 655.5458365567792 - RMSE: 25.603629362978587\n",
      "Trial: 78 - MSE: 650.1189480531553 - RMSE: 25.49743022449822\n",
      "Trial: 79 - MSE: 655.1168742758426 - RMSE: 25.595251010213644\n",
      "Trial: 80 - MSE: 676.6851976043585 - RMSE: 26.01317353965791\n",
      "Trial: 81 - MSE: 648.7348152562114 - RMSE: 25.470273168072058\n"
     ]
    },
    {
     "name": "stderr",
     "output_type": "stream",
     "text": [
      "[I 2024-06-20 04:38:44,091] Trial 82 finished with value: 650.1778059498454 and parameters: {'booster': 'gblinear', 'lambda': 4.07803021774024e-06, 'alpha': 0.6261404681618051, 'learning_rate': 0.004927067223318809, 'subsample': 0.7948008209413103, 'colsample_bytree': 0.5645554996810198}. Best is trial 65 with value: 647.4025069005219.\n",
      "[I 2024-06-20 04:38:44,115] Trial 83 finished with value: 652.6799397942943 and parameters: {'booster': 'gblinear', 'lambda': 2.0674734695917415e-08, 'alpha': 0.3260720484287353, 'learning_rate': 0.006611437278488934, 'subsample': 0.8508500818220469, 'colsample_bytree': 0.5264559617540925}. Best is trial 65 with value: 647.4025069005219.\n",
      "[I 2024-06-20 04:38:44,168] Trial 84 finished with value: 651.9153467254662 and parameters: {'booster': 'gblinear', 'lambda': 1.8607762150269346e-06, 'alpha': 0.09789349366730803, 'learning_rate': 0.0028958970019404926, 'subsample': 0.9377617142382855, 'colsample_bytree': 0.6710516438449883}. Best is trial 65 with value: 647.4025069005219.\n",
      "[I 2024-06-20 04:38:44,251] Trial 85 finished with value: 649.8842100375898 and parameters: {'booster': 'gblinear', 'lambda': 9.60290791380378e-08, 'alpha': 0.6805806534896452, 'learning_rate': 0.004333195262164632, 'subsample': 0.9772195322554345, 'colsample_bytree': 0.473993414454156}. Best is trial 65 with value: 647.4025069005219.\n"
     ]
    },
    {
     "name": "stdout",
     "output_type": "stream",
     "text": [
      "Trial: 82 - MSE: 650.1778059498454 - RMSE: 25.498584391096017\n",
      "Trial: 83 - MSE: 652.6799397942943 - RMSE: 25.547601448948086\n",
      "Trial: 84 - MSE: 651.9153467254662 - RMSE: 25.532632976750875\n",
      "Trial: 85 - MSE: 649.8842100375898 - RMSE: 25.49282663883293\n"
     ]
    },
    {
     "name": "stderr",
     "output_type": "stream",
     "text": [
      "[I 2024-06-20 04:38:44,309] Trial 86 finished with value: 777.4779205256672 and parameters: {'booster': 'gbtree', 'lambda': 4.4470283037719424e-08, 'alpha': 0.9987853210869841, 'learning_rate': 0.0406356004254094, 'subsample': 0.20690550789676787, 'colsample_bytree': 0.6376133143317632, 'max_depth': 3, 'min_child_weight': 6, 'eta': 0.003045535005537945, 'gamma': 0.0002703150096295107, 'grow_policy': 'lossguide'}. Best is trial 65 with value: 647.4025069005219.\n",
      "[I 2024-06-20 04:38:44,349] Trial 87 finished with value: 651.9127128961683 and parameters: {'booster': 'gblinear', 'lambda': 7.853830840214803e-07, 'alpha': 0.3756258201513729, 'learning_rate': 0.005761806946594713, 'subsample': 0.9168649593048749, 'colsample_bytree': 0.5431025172537913}. Best is trial 65 with value: 647.4025069005219.\n",
      "[I 2024-06-20 04:38:44,432] Trial 88 finished with value: 676.9639537441151 and parameters: {'booster': 'dart', 'lambda': 3.6216219500001935e-07, 'alpha': 0.15561581898048316, 'learning_rate': 0.007866844613377905, 'subsample': 0.8864688040349512, 'colsample_bytree': 0.49292498042079536, 'max_depth': 5, 'min_child_weight': 4, 'eta': 1.295655377508785e-05, 'gamma': 0.011229960295050969, 'grow_policy': 'depthwise', 'sample_type': 'uniform', 'normalize_type': 'forest', 'rate_drop': 1.681450814283526e-06, 'skip_drop': 0.003095637723308172}. Best is trial 65 with value: 647.4025069005219.\n",
      "[I 2024-06-20 04:38:44,456] Trial 89 finished with value: 650.0136810572371 and parameters: {'booster': 'gblinear', 'lambda': 9.748289104858126e-08, 'alpha': 0.6541376461361311, 'learning_rate': 0.004711115571262058, 'subsample': 0.7160215572444267, 'colsample_bytree': 0.6114000679250703}. Best is trial 65 with value: 647.4025069005219.\n"
     ]
    },
    {
     "name": "stdout",
     "output_type": "stream",
     "text": [
      "Trial: 86 - MSE: 777.4779205256672 - RMSE: 27.88329106338897\n",
      "Trial: 87 - MSE: 651.9127128961683 - RMSE: 25.532581398992313\n",
      "Trial: 88 - MSE: 676.9639537441151 - RMSE: 26.018530968217924\n",
      "Trial: 89 - MSE: 650.0136810572371 - RMSE: 25.495365874159113\n"
     ]
    },
    {
     "name": "stderr",
     "output_type": "stream",
     "text": [
      "[I 2024-06-20 04:38:44,630] Trial 90 finished with value: 655.3293350293768 and parameters: {'booster': 'gblinear', 'lambda': 0.0441089388869547, 'alpha': 0.24190641140247535, 'learning_rate': 0.009599327150877681, 'subsample': 0.8462128427768273, 'colsample_bytree': 0.6987828160751359}. Best is trial 65 with value: 647.4025069005219.\n",
      "[I 2024-06-20 04:38:44,735] Trial 91 finished with value: 651.0028478497898 and parameters: {'booster': 'gblinear', 'lambda': 1.2167389250739177e-05, 'alpha': 0.4174077087113444, 'learning_rate': 0.0036368705463924417, 'subsample': 0.8991932542603941, 'colsample_bytree': 0.543725489255162}. Best is trial 65 with value: 647.4025069005219.\n",
      "[I 2024-06-20 04:38:44,760] Trial 92 finished with value: 648.4189079887958 and parameters: {'booster': 'gblinear', 'lambda': 7.0391331724536655e-06, 'alpha': 0.9927100710549435, 'learning_rate': 0.004176707772346873, 'subsample': 0.8649059222742658, 'colsample_bytree': 0.43838016975713084}. Best is trial 65 with value: 647.4025069005219.\n",
      "[I 2024-06-20 04:38:44,785] Trial 93 finished with value: 732.0791900752816 and parameters: {'booster': 'gblinear', 'lambda': 6.894148109580141e-06, 'alpha': 0.6593416355844863, 'learning_rate': 0.07273210870111696, 'subsample': 0.8256777064135049, 'colsample_bytree': 0.4187315745048007}. Best is trial 65 with value: 647.4025069005219.\n",
      "[I 2024-06-20 04:38:44,811] Trial 94 finished with value: 648.4586173481391 and parameters: {'booster': 'gblinear', 'lambda': 2.060468840433788e-05, 'alpha': 0.9882240331742103, 'learning_rate': 0.00412925538035698, 'subsample': 0.8693807047322613, 'colsample_bytree': 0.38147220531207676}. Best is trial 65 with value: 647.4025069005219.\n"
     ]
    },
    {
     "name": "stdout",
     "output_type": "stream",
     "text": [
      "Trial: 90 - MSE: 655.3293350293768 - RMSE: 25.59940106778627\n",
      "Trial: 91 - MSE: 651.0028478497898 - RMSE: 25.51475745230179\n",
      "Trial: 92 - MSE: 648.4189079887958 - RMSE: 25.46407092333816\n",
      "Trial: 93 - MSE: 732.0791900752816 - RMSE: 27.056961952061094\n",
      "Trial: 94 - MSE: 648.4586173481391 - RMSE: 25.464850624893504\n",
      "Trial: 95 - MSE: 651.0376591761474 - RMSE: 25.51543962341522\n"
     ]
    },
    {
     "name": "stderr",
     "output_type": "stream",
     "text": [
      "[I 2024-06-20 04:38:44,835] Trial 95 finished with value: 651.0376591761474 and parameters: {'booster': 'gblinear', 'lambda': 3.0297699094208917e-06, 'alpha': 0.38525112349658547, 'learning_rate': 0.0032155620476452666, 'subsample': 0.8051808386785965, 'colsample_bytree': 0.4398550721269984}. Best is trial 65 with value: 647.4025069005219.\n",
      "[I 2024-06-20 04:38:44,861] Trial 96 finished with value: 653.5874888804104 and parameters: {'booster': 'gblinear', 'lambda': 1.7981258694501888e-06, 'alpha': 0.12797290916345683, 'learning_rate': 0.005819618169641675, 'subsample': 0.9377183042331332, 'colsample_bytree': 0.40059813720190124}. Best is trial 65 with value: 647.4025069005219.\n",
      "[I 2024-06-20 04:38:44,885] Trial 97 finished with value: 655.2108595215525 and parameters: {'booster': 'gblinear', 'lambda': 1.1410815213255624e-05, 'alpha': 4.6581660082447985e-06, 'learning_rate': 0.006664397712939782, 'subsample': 0.962925994472794, 'colsample_bytree': 0.3162121966828031}. Best is trial 65 with value: 647.4025069005219.\n",
      "[I 2024-06-20 04:38:44,912] Trial 98 finished with value: 651.322431075337 and parameters: {'booster': 'gblinear', 'lambda': 5.723670624705184e-05, 'alpha': 0.1998534110646891, 'learning_rate': 0.00219360019716427, 'subsample': 0.7654207408447683, 'colsample_bytree': 0.5781120907594247}. Best is trial 65 with value: 647.4025069005219.\n",
      "[I 2024-06-20 04:38:44,936] Trial 99 finished with value: 651.9181188676823 and parameters: {'booster': 'gblinear', 'lambda': 3.9825810480576734e-05, 'alpha': 0.057783324465308025, 'learning_rate': 0.0026581088059202404, 'subsample': 0.9194312819744321, 'colsample_bytree': 0.5955372573153732}. Best is trial 65 with value: 647.4025069005219.\n"
     ]
    },
    {
     "name": "stdout",
     "output_type": "stream",
     "text": [
      "Trial: 96 - MSE: 653.5874888804104 - RMSE: 25.565357202284705\n",
      "Trial: 97 - MSE: 655.2108595215525 - RMSE: 25.597086934289074\n",
      "Trial: 98 - MSE: 651.322431075337 - RMSE: 25.52101939726031\n",
      "Trial: 99 - MSE: 651.9181188676823 - RMSE: 25.532687262951434\n"
     ]
    }
   ],
   "source": [
    "# configuration optuna\n",
    "study_mm = optuna.create_study(direction='minimize')\n",
    "study_mm.optimize(lambda trial: objective(trial, X_mm_train, y_mm_train, X_mm_test, y_mm_test), n_trials=n_trials)"
   ]
  },
  {
   "cell_type": "code",
   "execution_count": 20,
   "metadata": {},
   "outputs": [
    {
     "name": "stdout",
     "output_type": "stream",
     "text": [
      "Trials quantity: 100\n",
      "Mejor prueba: 65\n",
      "Mejores parametros: {'booster': 'gblinear', 'lambda': 2.022940291246672e-07, 'alpha': 0.9984462311756452, 'learning_rate': 0.00805880113710561, 'subsample': 0.9756494846570188, 'colsample_bytree': 0.6217328071739047}\n",
      "Mejor valor de pérdida en validación: 647.4025069005219\n"
     ]
    }
   ],
   "source": [
    "# Results\n",
    "print(f'Trials quantity: {len(study_mm.trials)}')\n",
    "trial = study_mm.best_trial\n",
    "print(f'Mejor prueba: {trial.number}')\n",
    "print(f'Mejores parametros: {trial.params}')\n",
    "print(f'Mejor valor de pérdida en validación: {trial.value}')"
   ]
  },
  {
   "cell_type": "markdown",
   "metadata": {},
   "source": [
    "# Training"
   ]
  },
  {
   "cell_type": "markdown",
   "metadata": {},
   "source": [
    "## General"
   ]
  },
  {
   "cell_type": "code",
   "execution_count": 21,
   "metadata": {},
   "outputs": [
    {
     "data": {
      "text/plain": [
       "{'booster': 'gbtree',\n",
       " 'lambda': 6.345455086977928e-08,\n",
       " 'alpha': 0.0014098433736486112,\n",
       " 'learning_rate': 0.0011259621834358992,\n",
       " 'subsample': 0.5661590070757975,\n",
       " 'colsample_bytree': 0.07316442112874563,\n",
       " 'max_depth': 7,\n",
       " 'min_child_weight': 2,\n",
       " 'eta': 1.6756116039536554e-07,\n",
       " 'gamma': 1.9909003535176968e-05,\n",
       " 'grow_policy': 'lossguide'}"
      ]
     },
     "execution_count": 21,
     "metadata": {},
     "output_type": "execute_result"
    }
   ],
   "source": [
    "# hyperparameters\n",
    "study_g.best_trial.params"
   ]
  },
  {
   "cell_type": "code",
   "execution_count": 22,
   "metadata": {},
   "outputs": [
    {
     "name": "stdout",
     "output_type": "stream",
     "text": [
      "MSE: 160.25693599458833 - RMSE: 12.65926285352304\n"
     ]
    }
   ],
   "source": [
    "# general models\n",
    "dtrain = xgb.DMatrix(X_g_train, label=y_g_train)\n",
    "dtest = xgb.DMatrix(X_g_test, label=y_g_test)\n",
    "# training\n",
    "model = xgb.train(study_g.best_trial.params, dtrain)\n",
    "# evaluation\n",
    "preds = model.predict(dtest)\n",
    "mse = mean_squared_error(y_g_test, preds)\n",
    "print(f\"MSE: {mse} - RMSE: {np.sqrt(mse)}\")"
   ]
  },
  {
   "cell_type": "markdown",
   "metadata": {},
   "source": [
    "## Single Thread"
   ]
  },
  {
   "cell_type": "code",
   "execution_count": 23,
   "metadata": {},
   "outputs": [
    {
     "data": {
      "text/plain": [
       "{'booster': 'gbtree',\n",
       " 'lambda': 8.935136296496447e-07,\n",
       " 'alpha': 0.018029913163782663,\n",
       " 'learning_rate': 0.0015196561728450498,\n",
       " 'subsample': 0.2953169350070087,\n",
       " 'colsample_bytree': 0.08910672952971163,\n",
       " 'max_depth': 3,\n",
       " 'min_child_weight': 9,\n",
       " 'eta': 3.41411575494955e-08,\n",
       " 'gamma': 0.010141306114056094,\n",
       " 'grow_policy': 'lossguide'}"
      ]
     },
     "execution_count": 23,
     "metadata": {},
     "output_type": "execute_result"
    }
   ],
   "source": [
    "# hyperparameters\n",
    "study_st.best_trial.params"
   ]
  },
  {
   "cell_type": "code",
   "execution_count": 24,
   "metadata": {},
   "outputs": [
    {
     "name": "stdout",
     "output_type": "stream",
     "text": [
      "MSE: 43.76117185037321 - RMSE: 6.615222736263172\n"
     ]
    }
   ],
   "source": [
    "# single thread model\n",
    "dtrain = xgb.DMatrix(X_st_train, label=y_st_train)\n",
    "dtest = xgb.DMatrix(X_st_test, label=y_st_test)\n",
    "# training\n",
    "model = xgb.train(study_st.best_trial.params, dtrain)\n",
    "# evaluation\n",
    "preds = model.predict(dtest)\n",
    "mse = mean_squared_error(y_st_test, preds)\n",
    "print(f\"MSE: {mse} - RMSE: {np.sqrt(mse)}\")"
   ]
  },
  {
   "cell_type": "markdown",
   "metadata": {},
   "source": [
    "## Multi Thread"
   ]
  },
  {
   "cell_type": "code",
   "execution_count": 25,
   "metadata": {},
   "outputs": [
    {
     "data": {
      "text/plain": [
       "{'booster': 'gblinear',\n",
       " 'lambda': 2.022940291246672e-07,\n",
       " 'alpha': 0.9984462311756452,\n",
       " 'learning_rate': 0.00805880113710561,\n",
       " 'subsample': 0.9756494846570188,\n",
       " 'colsample_bytree': 0.6217328071739047}"
      ]
     },
     "execution_count": 25,
     "metadata": {},
     "output_type": "execute_result"
    }
   ],
   "source": [
    "# hyperparameters\n",
    "study_mm.best_trial.params"
   ]
  },
  {
   "cell_type": "code",
   "execution_count": 26,
   "metadata": {},
   "outputs": [
    {
     "name": "stdout",
     "output_type": "stream",
     "text": [
      "MSE: 647.4701157874348 - RMSE: 25.445434085262423\n"
     ]
    }
   ],
   "source": [
    "# multi thread model\n",
    "dtrain = xgb.DMatrix(X_mm_train, label=y_mm_train)\n",
    "dtest = xgb.DMatrix(X_mm_test, label=y_mm_test)\n",
    "# training\n",
    "model = xgb.train(study_mm.best_trial.params, dtrain)\n",
    "# evaluation\n",
    "preds = model.predict(dtest)\n",
    "mse = mean_squared_error(y_mm_test, preds)\n",
    "print(f\"MSE: {mse} - RMSE: {np.sqrt(mse)}\")"
   ]
  },
  {
   "cell_type": "markdown",
   "metadata": {},
   "source": [
    "# Conclusion\n",
    "Queda trabajo que hacer en la red, además de conseguir más datos para un entrenamiento más robusto. Queda por ahora descartado el uso de solo un modelo para multi-threading y single-threading, ya que el modelo tiene más del triple de *loss*."
   ]
  }
 ],
 "metadata": {
  "kernelspec": {
   "display_name": "venv",
   "language": "python",
   "name": "python3"
  },
  "language_info": {
   "codemirror_mode": {
    "name": "ipython",
    "version": 3
   },
   "file_extension": ".py",
   "mimetype": "text/x-python",
   "name": "python",
   "nbconvert_exporter": "python",
   "pygments_lexer": "ipython3",
   "version": "3.10.13"
  }
 },
 "nbformat": 4,
 "nbformat_minor": 2
}
