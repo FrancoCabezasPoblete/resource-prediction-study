{
 "cells": [
  {
   "cell_type": "code",
   "execution_count": 71,
   "metadata": {},
   "outputs": [],
   "source": [
    "import optuna\n",
    "from optuna.samplers import TPESampler\n",
    "import xgboost as xgb\n",
    "import pandas as pd\n",
    "import numpy as np\n",
    "from sklearn.preprocessing import MinMaxScaler\n",
    "import matplotlib.pyplot as plt\n",
    "import random\n",
    "import os\n",
    "from joblib import dump\n",
    "\n",
    "# Fix random seed\n",
    "seed = 42\n",
    "np.random.seed(seed)\n",
    "random.seed(seed)\n",
    "sampler = TPESampler(seed=seed)\n",
    "\n",
    "optuna.logging.set_verbosity(optuna.logging.WARNING)\n",
    "\n",
    "HYPERPARAMETERS_SEARCH = False"
   ]
  },
  {
   "cell_type": "markdown",
   "metadata": {},
   "source": [
    "# Pre-processing input data"
   ]
  },
  {
   "cell_type": "code",
   "execution_count": 72,
   "metadata": {},
   "outputs": [],
   "source": [
    "# train_df and test_df are created in eda notebook\n",
    "if not os.path.exists('csv/train_df.csv') or not os.path.exists('csv/test_df.csv'):\n",
    "\tprint('Please run the eda notebook first')\n",
    "\texit()\n",
    "train_df = pd.read_csv('csv/train_df.csv')\n",
    "test_df = pd.read_csv('csv/test_df.csv')\n",
    "target = 'total_time_target'\n",
    "features = test_df.columns.copy().drop(target).drop(['benchmark','brand_raw', 'brand_raw_target','vendor_id_raw', 'arch'])\n",
    "\n",
    "# Split data\n",
    "X_train = train_df[features]\n",
    "y_train = train_df[target]\n",
    "\n",
    "X_test = test_df[features]\n",
    "y_test = test_df[target]\n",
    "\n",
    "# Normalize data\n",
    "x_scaler = MinMaxScaler(feature_range=(0, 1))\n",
    "X_train = x_scaler.fit_transform(X_train)\n",
    "X_test = x_scaler.transform(X_test)\n",
    "y_scaler = MinMaxScaler(feature_range=(0, 1))\n",
    "y_train = y_scaler.fit_transform(y_train.values.reshape(-1, 1))\n",
    "y_test = y_scaler.transform(y_test.values.reshape(-1, 1))"
   ]
  },
  {
   "cell_type": "code",
   "execution_count": 73,
   "metadata": {},
   "outputs": [],
   "source": [
    "if not os.path.exists('../models/x_scaler.joblib') or not os.path.exists('../models/y_scaler.joblib'):\n",
    "\tdump(x_scaler, '../models/x_scaler.joblib')\n",
    "\tdump(y_scaler, '../models/y_scaler.joblib')"
   ]
  },
  {
   "cell_type": "markdown",
   "metadata": {},
   "source": [
    "# Model: XGBoost"
   ]
  },
  {
   "cell_type": "code",
   "execution_count": 74,
   "metadata": {},
   "outputs": [],
   "source": [
    "def inv_scaling(y, y_scaler):\n",
    "    return y_scaler.inverse_transform(y.reshape(-1, 1))"
   ]
  },
  {
   "cell_type": "markdown",
   "metadata": {},
   "source": [
    "# Hyperparameters Optimization"
   ]
  },
  {
   "cell_type": "code",
   "execution_count": 75,
   "metadata": {},
   "outputs": [],
   "source": [
    "def objective(trial: optuna.Trial, X_train, y_train, X_test, y_test):\n",
    "\tdtrain = xgb.DMatrix(X_train, label=y_train)\n",
    "\tdtest = xgb.DMatrix(X_test, label=y_test)\n",
    "\t\n",
    "\t# Definimos los hiperparámetros a buscar (XGBoost)\n",
    "\tparam = {\n",
    "\t\t\"verbosity\": 0,\n",
    "\t\t\"device\": \"cuda\",\n",
    "\t\t\"objective\": \"reg:squarederror\",\n",
    "\t\t\"eval_metric\": \"rmse\",\n",
    "\t\t\"booster\": trial.suggest_categorical(\"booster\", [\"gbtree\", \"gblinear\", \"dart\"]),\n",
    "\t\t# L2 regularization weight.\n",
    "        \"lambda\": trial.suggest_float(\"lambda\", 1e-8, 1.0, log=True),\n",
    "        # L1 regularization weight.\n",
    "        \"alpha\": trial.suggest_float(\"alpha\", 1e-8, 1.0, log=True),\n",
    "\t\t\"learning_rate\": trial.suggest_float(\"learning_rate\", 1e-3, 0.1, log=True),\n",
    "        \"subsample\": trial.suggest_float(\"subsample\", 0.2, 1.0),\n",
    "        \"colsample_bytree\": trial.suggest_float(\"colsample_bytree\", 0.05, 1.0),\n",
    "\t}\n",
    "\tnum_boost_round = trial.suggest_int(\"num_boost_round\", 10, 1000, step=10)\n",
    "    \n",
    "\tif param[\"booster\"] in [\"gbtree\", \"dart\"]:\n",
    "\t\t# maximum depth of the tree, signifies complexity of the tree.\n",
    "\t\tparam[\"max_depth\"] = trial.suggest_int(\"max_depth\", 3, 9, step=2)\n",
    "\t\t# minimum child weight, larger the term more conservative the tree.\n",
    "\t\tparam[\"min_child_weight\"] = trial.suggest_int(\"min_child_weight\", 2, 10)\n",
    "\t\tparam[\"eta\"] = trial.suggest_float(\"eta\", 1e-8, 1.0, log=True)\n",
    "\t\t# defines how selective algorithm is.\n",
    "\t\tparam[\"gamma\"] = trial.suggest_float(\"gamma\", 1e-8, 1.0, log=True)\n",
    "\t\tparam[\"grow_policy\"] = trial.suggest_categorical(\"grow_policy\", [\"depthwise\", \"lossguide\"])\n",
    "\n",
    "\tif param[\"booster\"] == \"dart\":\n",
    "\t\tparam[\"sample_type\"] = trial.suggest_categorical(\"sample_type\", [\"uniform\", \"weighted\"])\n",
    "\t\tparam[\"normalize_type\"] = trial.suggest_categorical(\"normalize_type\", [\"tree\", \"forest\"])\n",
    "\t\tparam[\"rate_drop\"] = trial.suggest_float(\"rate_drop\", 1e-8, 1.0, log=True)\n",
    "\t\tparam[\"skip_drop\"] = trial.suggest_float(\"skip_drop\", 1e-8, 1.0, log=True)\n",
    "\n",
    "\t# training\n",
    "\tevals_result = {}\n",
    "\txgb.train(\n",
    "\t\tparam, \n",
    "\t\tdtrain,\n",
    "\t\tnum_boost_round=num_boost_round,\n",
    "\t\tevals=[(dtrain, \"train\"), (dtest, \"test\")],\n",
    "\t\tevals_result=evals_result,\n",
    "\t\tverbose_eval=False,\n",
    "\t\tearly_stopping_rounds=25\n",
    "\t)\n",
    "\tloss = evals_result['train']['rmse'][-1]\n",
    "\tval_loss = evals_result['test']['rmse'][-1]\n",
    "\tprint(f\"Trial: {trial.number} - RMSE Loss : {loss} - RMSE Val Loss: {val_loss}\")\n",
    "\treturn val_loss\n",
    "\n",
    "n_trials = 100\n",
    "study = None"
   ]
  },
  {
   "cell_type": "code",
   "execution_count": 76,
   "metadata": {},
   "outputs": [],
   "source": [
    "if HYPERPARAMETERS_SEARCH:\n",
    "\tstudy = optuna.create_study(direction='minimize', sampler=sampler)\n",
    "\tstudy.optimize(lambda trial: objective(trial, X_train, y_train, X_test, y_test), n_trials=n_trials)"
   ]
  },
  {
   "cell_type": "code",
   "execution_count": 77,
   "metadata": {},
   "outputs": [],
   "source": [
    "if study is not None:\n",
    "\tprint(f'Number of trials: {len(study.trials)}')\n",
    "\ttrial = study.best_trial\n",
    "\tprint(f'Best trial: {trial.number}')\n",
    "\tprint(f'Best params: {trial.params}')\n",
    "\tprint(f'Best validation loss: {y_scaler.inverse_transform(np.reshape(trial.value, (-1,1))).item()}')"
   ]
  },
  {
   "cell_type": "markdown",
   "metadata": {},
   "source": [
    "# Training"
   ]
  },
  {
   "cell_type": "code",
   "execution_count": 78,
   "metadata": {},
   "outputs": [],
   "source": [
    "# hyperparameters\n",
    "params = {\n",
    "\t\"device\": \"cuda\",\n",
    "\t\"objective\": \"reg:squarederror\",\n",
    "\t\"eval_metric\": \"rmse\",\n",
    "}\n",
    "if study is not None:\n",
    "\tnum_boost_round = study.best_trial.params['num_boost_round']\n",
    "\tparams.update(*study.best_trial.params)\n",
    "\tparams.pop('num_boost_round')\n",
    "else:\n",
    "\tnum_boost_round = 10"
   ]
  },
  {
   "cell_type": "code",
   "execution_count": 79,
   "metadata": {},
   "outputs": [
    {
     "name": "stdout",
     "output_type": "stream",
     "text": [
      "[0]\ttrain-rmse:0.03772\ttest-rmse:0.03486\n",
      "[1]\ttrain-rmse:0.02675\ttest-rmse:0.02437\n",
      "[2]\ttrain-rmse:0.01911\ttest-rmse:0.01760\n",
      "[3]\ttrain-rmse:0.01378\ttest-rmse:0.01302\n",
      "[4]\ttrain-rmse:0.01004\ttest-rmse:0.00999\n",
      "[5]\ttrain-rmse:0.00747\ttest-rmse:0.00811\n",
      "[6]\ttrain-rmse:0.00572\ttest-rmse:0.00693\n",
      "[7]\ttrain-rmse:0.00456\ttest-rmse:0.00624\n",
      "[8]\ttrain-rmse:0.00383\ttest-rmse:0.00570\n",
      "[9]\ttrain-rmse:0.00331\ttest-rmse:0.00544\n"
     ]
    }
   ],
   "source": [
    "dtrain = xgb.DMatrix(X_train, label=y_train)\n",
    "dtest = xgb.DMatrix(X_test, label=y_test)\n",
    "\n",
    "evals_result = {}\n",
    "model = xgb.train(\n",
    "\tparams, \n",
    "\tdtrain,\n",
    "\tnum_boost_round=num_boost_round,\n",
    "\tevals=[(dtrain, \"train\"), (dtest, \"test\")],\n",
    "\tevals_result=evals_result,\n",
    "\tearly_stopping_rounds=5\n",
    ")"
   ]
  },
  {
   "cell_type": "code",
   "execution_count": 80,
   "metadata": {},
   "outputs": [
    {
     "data": {
      "image/png": "[encoded data removed]",
      "text/plain": [
       "<Figure size 1000x500 with 1 Axes>"
      ]
     },
     "metadata": {},
     "output_type": "display_data"
    }
   ],
   "source": [
    "# Plot loss\n",
    "plt.figure(figsize=(10, 5))\n",
    "plt.plot(evals_result['train']['rmse'], label='Train Loss')\n",
    "plt.plot(evals_result['test']['rmse'], label='Validation Loss')\n",
    "plt.title('Train and Validation Loss')\n",
    "plt.xlabel('Epoch')\n",
    "plt.ylabel('RMSE Loss')\n",
    "plt.legend()\n",
    "plt.show()"
   ]
  },
  {
   "cell_type": "code",
   "execution_count": 81,
   "metadata": {},
   "outputs": [],
   "source": [
    "# save model\n",
    "model.save_model(f'../models/xgboost_model.json')"
   ]
  },
  {
   "cell_type": "markdown",
   "metadata": {},
   "source": [
    "# Describe Validation"
   ]
  },
  {
   "cell_type": "code",
   "execution_count": 82,
   "metadata": {},
   "outputs": [],
   "source": [
    "model = xgb.Booster()\n",
    "model.load_model('../models/xgboost_model.json')"
   ]
  },
  {
   "cell_type": "code",
   "execution_count": 83,
   "metadata": {},
   "outputs": [],
   "source": [
    "def describe_val(model, X, y, y_scaler):\n",
    "\tmin_instance = {\"prediction\": float('inf'), \"actual\": 0, \"index\": 0}\n",
    "\tmax_instance = {\"prediction\": 0, \"actual\": 0, \"index\": 0}\n",
    "\tdtest = xgb.DMatrix(X)\n",
    "\tpredictions = model.predict(dtest)\n",
    "\tpredictions = inv_scaling(predictions, y_scaler)\n",
    "\ty_scaled = inv_scaling(y, y_scaler)\n",
    "\tindex_min = np.argmin(np.abs(predictions - y_scaled))\n",
    "\tmin_instance[\"prediction\"] = predictions[index_min].item()\n",
    "\tmin_instance[\"actual\"] = y_scaled[index_min].item()\n",
    "\tmin_instance[\"index\"] = index_min\n",
    "\tindex_max = np.argmax(np.abs(predictions - y_scaled))\n",
    "\tmax_instance[\"prediction\"] = predictions[index_max].item()\n",
    "\tmax_instance[\"actual\"] = y_scaled[index_max].item()\n",
    "\tmax_instance[\"index\"] = index_max\n",
    "\n",
    "\treturn min_instance, max_instance, predictions"
   ]
  },
  {
   "cell_type": "code",
   "execution_count": 84,
   "metadata": {},
   "outputs": [
    {
     "name": "stdout",
     "output_type": "stream",
     "text": [
      "Validation set single thread model\n",
      "Mean prediction: 23.341108322143555 | Std actual: 42.97887420654297\n",
      "Mean actual: 23.401548499932737 | Std actual: 44.0307253488359\n",
      "Mean Error: 1.673530272956365 | Std Error: 4.586831653361785\n",
      "Min instance\n",
      "total_time                                                             9.82\n",
      "total_cpu_usage                                                        0.99\n",
      "max_ram_usage                                                    341.507812\n",
      "brand_raw                          Intel(R) Core(TM) i5-10400 CPU @ 2.90GHz\n",
      "vendor_id_raw                                                  GenuineIntel\n",
      "arch                                                                 X86_64\n",
      "count                                                                    12\n",
      "l2_cache_size                                                           1.5\n",
      "l3_cache_size                                                          12.0\n",
      "l2_cache_line_size                                                      256\n",
      "l2_cache_associativity                                                    6\n",
      "benchmark                                               KNPS_FILE_4_50_1000\n",
      "ghz_actual_friendly                                                  4.0645\n",
      "ghz_advertised_friendly                                                 2.9\n",
      "score                                                                  2589\n",
      "set_tid_address                                                           1\n",
      "rt_sigaction                                                              2\n",
      "set_robust_list                                                           1\n",
      "openat                                                                    9\n",
      "mmap                                                                     51\n",
      "fstat                                                                     8\n",
      "stat                                                                      1\n",
      "close                                                                     9\n",
      "futex                                                                     2\n",
      "prlimit64                                                                 1\n",
      "mprotect                                                                  9\n",
      "munmap                                                                   12\n",
      "read                                                                     16\n",
      "brk                                                                    3656\n",
      "rt_sigprocmask                                                            1\n",
      "total_time_target                                                     13.71\n",
      "brand_raw_target                  Intel(R) Xeon(R) CPU E5-2643 v3 @ 3.40GHz\n",
      "l2_cache_size_target                                                    3.0\n",
      "l3_cache_size_target                                                   20.0\n",
      "l2_cache_line_size_target                                               256\n",
      "l2_cache_associativity_target                                             6\n",
      "ghz_advertised_friendly_target                                          3.4\n",
      "score_target                                                           2099\n",
      "rss                                                              106.595136\n",
      "vms                                                              139.596102\n",
      "shared                                                            10.635753\n",
      "text                                                               0.015625\n",
      "data                                                              99.259619\n",
      "Name: 2607, dtype: object\n",
      "Min Prediction: 13.710451126098633 | Actual: 13.71 | Error: 0.00045112609863195985\n",
      "---\n",
      "Max instance\n",
      "total_time                                                           161.71\n",
      "total_cpu_usage                                                        0.99\n",
      "max_ram_usage                                                     60.964844\n",
      "brand_raw                          Intel(R) Xeon(R) Gold 6130 CPU @ 2.10GHz\n",
      "vendor_id_raw                                                  GenuineIntel\n",
      "arch                                                                 X86_64\n",
      "count                                                                    64\n",
      "l2_cache_size                                                          32.0\n",
      "l3_cache_size                                                          22.0\n",
      "l2_cache_line_size                                                      256\n",
      "l2_cache_associativity                                                    6\n",
      "benchmark                                                   MATRIX_MULT_ST6\n",
      "ghz_actual_friendly                                                     2.1\n",
      "ghz_advertised_friendly                                                 2.1\n",
      "score                                                                  1880\n",
      "set_tid_address                                                           0\n",
      "rt_sigaction                                                              0\n",
      "set_robust_list                                                           0\n",
      "openat                                                                    5\n",
      "mmap                                                                     22\n",
      "fstat                                                                     5\n",
      "stat                                                                      2\n",
      "close                                                                     5\n",
      "futex                                                                     0\n",
      "prlimit64                                                                 0\n",
      "mprotect                                                                  6\n",
      "munmap                                                                    1\n",
      "read                                                                      4\n",
      "brk                                                                     459\n",
      "rt_sigprocmask                                                            0\n",
      "total_time_target                                                     252.5\n",
      "brand_raw_target                  Intel(R) Xeon(R) CPU E5-2643 v3 @ 3.40GHz\n",
      "l2_cache_size_target                                                    3.0\n",
      "l3_cache_size_target                                                   20.0\n",
      "l2_cache_line_size_target                                               256\n",
      "l2_cache_associativity_target                                             6\n",
      "ghz_advertised_friendly_target                                          3.4\n",
      "score_target                                                           2099\n",
      "rss                                                               60.330485\n",
      "vms                                                                63.05131\n",
      "shared                                                             2.632446\n",
      "text                                                               0.011719\n",
      "data                                                              57.950317\n",
      "Name: 914, dtype: object\n",
      "Max Prediction: 151.93701171875 | Actual: 252.5 | Error: 100.56298828125\n"
     ]
    }
   ],
   "source": [
    "print(\"Validation set single thread model\")\n",
    "min_instance, max_instance, predictions = describe_val(model, X_test, y_test, y_scaler)\n",
    "y_scaled = inv_scaling(y_test, y_scaler)\n",
    "errors = np.abs(predictions - y_scaled)\n",
    "mean_error = np.mean(errors)\n",
    "std_error = np.std(errors)\n",
    "\n",
    "print(f\"Mean prediction: {np.mean(predictions)} | Std actual: {np.std(predictions)}\")\n",
    "print(f\"Mean actual: {np.mean(y_scaled)} | Std actual: {np.std(y_scaled)}\")\n",
    "print(f\"Mean Error: {mean_error} | Std Error: {std_error}\")\n",
    "print(\"Min instance\")\n",
    "print(test_df.iloc[min_instance[\"index\"]])\n",
    "print(f\"Min Prediction: {min_instance['prediction']} | Actual: {min_instance['actual']} | Error: {abs(min_instance['prediction'] - min_instance['actual'])}\")\n",
    "print(\"---\")\n",
    "print(\"Max instance\")\n",
    "print(test_df.iloc[max_instance[\"index\"]])\n",
    "print(f\"Max Prediction: {max_instance['prediction']} | Actual: {max_instance['actual']} | Error: {abs(max_instance['prediction'] - max_instance['actual'])}\")"
   ]
  }
 ],
 "metadata": {
  "kernelspec": {
   "display_name": "venv",
   "language": "python",
   "name": "python3"
  },
  "language_info": {
   "codemirror_mode": {
    "name": "ipython",
    "version": 3
   },
   "file_extension": ".py",
   "mimetype": "text/x-python",
   "name": "python",
   "nbconvert_exporter": "python",
   "pygments_lexer": "ipython3",
   "version": "3.10.13"
  }
 },
 "nbformat": 4,
 "nbformat_minor": 2
}
