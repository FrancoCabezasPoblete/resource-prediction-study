{
 "cells": [
  {
   "cell_type": "code",
   "execution_count": 1,
   "metadata": {},
   "outputs": [],
   "source": [
    "import optuna\n",
    "from optuna.samplers import TPESampler\n",
    "import xgboost as xgb\n",
    "import pandas as pd\n",
    "import numpy as np\n",
    "from sklearn.preprocessing import StandardScaler\n",
    "from sklearn.metrics import mean_squared_error, mean_absolute_error\n",
    "import random"
   ]
  },
  {
   "cell_type": "code",
   "execution_count": 2,
   "metadata": {},
   "outputs": [],
   "source": [
    "# Fix random seed\n",
    "seed = 42\n",
    "np.random.seed(seed)\n",
    "random.seed(seed)\n",
    "sampler = TPESampler(seed=seed)"
   ]
  },
  {
   "cell_type": "markdown",
   "metadata": {},
   "source": [
    "# Pre-processing input data"
   ]
  },
  {
   "cell_type": "code",
   "execution_count": 3,
   "metadata": {},
   "outputs": [],
   "source": [
    "def bits_to_MiB(row):\n",
    "\t# verify if has string ' MiB'\n",
    "\tif 'MiB' in str(row):\n",
    "\t\trow = row.replace(' MiB', '')\n",
    "\t\trow = float(row)\n",
    "\telse:\n",
    "\t\trow = float(row) / np.power(2, 20)\n",
    "\treturn row\n",
    "\n",
    "\n",
    "def MHz_to_GHz(row):\n",
    "\t# verify if has string ' GHz'\n",
    "\tif 'GHz' in str(row):\n",
    "\t\trow = row.replace(' GHz', '')\n",
    "\t\t# convert to float\n",
    "\t\trow = float(row)\n",
    "\telse:\n",
    "\t\trow = row.replace(' MHz', '')\n",
    "\t\trow = float(row) / 1000\n",
    "\treturn row"
   ]
  },
  {
   "cell_type": "code",
   "execution_count": 4,
   "metadata": {},
   "outputs": [],
   "source": [
    "results_df = pd.read_csv('../results_new/execution_time.csv')\n",
    "results_savio_df = pd.read_csv('../results_savio_new/execution_time.csv')\n",
    "results_df = pd.concat([results_df, results_savio_df], ignore_index=True)\n",
    "# preprocessing\n",
    "results_df['total_cpu_usage'] = results_df['total_cpu_usage'].str.replace('%', '').astype(float) / 100\n",
    "results_df['max_ram_usage'] = results_df['max_ram_usage'] / 1024\n",
    "results_df['l2_cache_size'] = results_df['l2_cache_size'].apply(bits_to_MiB)\n",
    "results_df['l3_cache_size'] = results_df['l3_cache_size'].apply(bits_to_MiB)\n",
    "results_df['ghz_actual_friendly'] = results_df['hz_actual_friendly'].apply(MHz_to_GHz)\n",
    "results_df['ghz_advertised_friendly'] = results_df['hz_advertised_friendly'].str.replace('GHz', '').astype(float)\n",
    "results_df = results_df.drop(columns=['hz_actual_friendly', 'hz_advertised_friendly', 'arch', 'vendor_id_raw'])"
   ]
  },
  {
   "cell_type": "code",
   "execution_count": 5,
   "metadata": {},
   "outputs": [
    {
     "data": {
      "text/html": [
       "<div>\n",
       "<style scoped>\n",
       "    .dataframe tbody tr th:only-of-type {\n",
       "        vertical-align: middle;\n",
       "    }\n",
       "\n",
       "    .dataframe tbody tr th {\n",
       "        vertical-align: top;\n",
       "    }\n",
       "\n",
       "    .dataframe thead th {\n",
       "        text-align: right;\n",
       "    }\n",
       "</style>\n",
       "<table border=\"1\" class=\"dataframe\">\n",
       "  <thead>\n",
       "    <tr style=\"text-align: right;\">\n",
       "      <th></th>\n",
       "      <th>total_time</th>\n",
       "      <th>total_cpu_usage</th>\n",
       "      <th>max_ram_usage</th>\n",
       "      <th>brand_raw</th>\n",
       "      <th>count</th>\n",
       "      <th>l2_cache_size</th>\n",
       "      <th>l3_cache_size</th>\n",
       "      <th>l2_cache_line_size</th>\n",
       "      <th>l2_cache_associativity</th>\n",
       "      <th>benchmark</th>\n",
       "      <th>ghz_actual_friendly</th>\n",
       "      <th>ghz_advertised_friendly</th>\n",
       "      <th>total_time_target</th>\n",
       "      <th>brand_raw_target</th>\n",
       "      <th>count_target</th>\n",
       "      <th>l2_cache_size_target</th>\n",
       "      <th>l3_cache_size_target</th>\n",
       "      <th>l2_cache_line_size_target</th>\n",
       "      <th>l2_cache_associativity_target</th>\n",
       "      <th>ghz_advertised_friendly_target</th>\n",
       "    </tr>\n",
       "  </thead>\n",
       "  <tbody>\n",
       "    <tr>\n",
       "      <th>5</th>\n",
       "      <td>13.47</td>\n",
       "      <td>0.99</td>\n",
       "      <td>1436.714844</td>\n",
       "      <td>Intel(R) Core(TM) i5-10400 CPU @ 2.90GHz</td>\n",
       "      <td>12</td>\n",
       "      <td>1.5</td>\n",
       "      <td>12.0</td>\n",
       "      <td>256</td>\n",
       "      <td>6</td>\n",
       "      <td>KNP</td>\n",
       "      <td>4.1729</td>\n",
       "      <td>2.9</td>\n",
       "      <td>45.91</td>\n",
       "      <td>13th Gen Intel(R) Core(TM) i5-1335U</td>\n",
       "      <td>12</td>\n",
       "      <td>7.5</td>\n",
       "      <td>12.0</td>\n",
       "      <td>1280</td>\n",
       "      <td>7</td>\n",
       "      <td>2.496</td>\n",
       "    </tr>\n",
       "    <tr>\n",
       "      <th>6</th>\n",
       "      <td>13.47</td>\n",
       "      <td>0.99</td>\n",
       "      <td>1436.714844</td>\n",
       "      <td>Intel(R) Core(TM) i5-10400 CPU @ 2.90GHz</td>\n",
       "      <td>12</td>\n",
       "      <td>1.5</td>\n",
       "      <td>12.0</td>\n",
       "      <td>256</td>\n",
       "      <td>6</td>\n",
       "      <td>KNP</td>\n",
       "      <td>4.1729</td>\n",
       "      <td>2.9</td>\n",
       "      <td>25.77</td>\n",
       "      <td>13th Gen Intel(R) Core(TM) i5-1335U</td>\n",
       "      <td>12</td>\n",
       "      <td>7.5</td>\n",
       "      <td>12.0</td>\n",
       "      <td>1280</td>\n",
       "      <td>7</td>\n",
       "      <td>2.496</td>\n",
       "    </tr>\n",
       "  </tbody>\n",
       "</table>\n",
       "</div>"
      ],
      "text/plain": [
       "   total_time  total_cpu_usage  max_ram_usage  \\\n",
       "5       13.47             0.99    1436.714844   \n",
       "6       13.47             0.99    1436.714844   \n",
       "\n",
       "                                  brand_raw  count  l2_cache_size  \\\n",
       "5  Intel(R) Core(TM) i5-10400 CPU @ 2.90GHz     12            1.5   \n",
       "6  Intel(R) Core(TM) i5-10400 CPU @ 2.90GHz     12            1.5   \n",
       "\n",
       "   l3_cache_size  l2_cache_line_size  l2_cache_associativity benchmark  \\\n",
       "5           12.0                 256                       6       KNP   \n",
       "6           12.0                 256                       6       KNP   \n",
       "\n",
       "   ghz_actual_friendly  ghz_advertised_friendly  total_time_target  \\\n",
       "5               4.1729                      2.9              45.91   \n",
       "6               4.1729                      2.9              25.77   \n",
       "\n",
       "                      brand_raw_target  count_target  l2_cache_size_target  \\\n",
       "5  13th Gen Intel(R) Core(TM) i5-1335U            12                   7.5   \n",
       "6  13th Gen Intel(R) Core(TM) i5-1335U            12                   7.5   \n",
       "\n",
       "   l3_cache_size_target  l2_cache_line_size_target  \\\n",
       "5                  12.0                       1280   \n",
       "6                  12.0                       1280   \n",
       "\n",
       "   l2_cache_associativity_target  ghz_advertised_friendly_target  \n",
       "5                              7                           2.496  \n",
       "6                              7                           2.496  "
      ]
     },
     "execution_count": 5,
     "metadata": {},
     "output_type": "execute_result"
    }
   ],
   "source": [
    "# Make the target dataset\n",
    "target_df = results_df[['total_time', 'brand_raw', 'count', 'l2_cache_size', 'l3_cache_size', 'l2_cache_line_size', 'l2_cache_associativity', 'ghz_advertised_friendly', 'benchmark']].copy()\n",
    "# Rename columns to *_target\n",
    "target_df = target_df.rename(columns={\n",
    "    'total_time': 'total_time_target',\n",
    "    'brand_raw': 'brand_raw_target',\n",
    "    'count': 'count_target',\n",
    "    'l2_cache_size': 'l2_cache_size_target',\n",
    "    'l3_cache_size': 'l3_cache_size_target',\n",
    "    'l2_cache_line_size': 'l2_cache_line_size_target',\n",
    "    'l2_cache_associativity': 'l2_cache_associativity_target',\n",
    "    'ghz_advertised_friendly': 'ghz_advertised_friendly_target',\n",
    "})\n",
    "\n",
    "dataset_df = pd.merge(results_df, target_df, how='inner', on='benchmark')\n",
    "dataset_df = dataset_df[dataset_df['brand_raw'] != dataset_df['brand_raw_target']]\n",
    "dataset_df.head(2)"
   ]
  },
  {
   "cell_type": "code",
   "execution_count": 6,
   "metadata": {},
   "outputs": [],
   "source": [
    "# remove one computer for testing\n",
    "g_train = dataset_df[(dataset_df['brand_raw'] != '13th Gen Intel(R) Core(TM) i5-1335U') & (dataset_df['brand_raw_target'] != '13th Gen Intel(R) Core(TM) i5-1335U')]\n",
    "g_test = dataset_df[dataset_df['brand_raw_target'] == '13th Gen Intel(R) Core(TM) i5-1335U']"
   ]
  },
  {
   "cell_type": "code",
   "execution_count": 7,
   "metadata": {},
   "outputs": [],
   "source": [
    "mm_df = dataset_df[dataset_df['benchmark'].isin(['MATRIX_MULT', 'MATRIX_MULT2', 'MATRIX_MULT3'])]\n",
    "# remove one computer for testing\n",
    "mm_train = mm_df[(mm_df['brand_raw'] != '13th Gen Intel(R) Core(TM) i5-1335U') & (mm_df['brand_raw_target'] != '13th Gen Intel(R) Core(TM) i5-1335U')]\n",
    "mm_test = mm_df[mm_df['brand_raw_target'] == '13th Gen Intel(R) Core(TM) i5-1335U']"
   ]
  },
  {
   "cell_type": "code",
   "execution_count": 8,
   "metadata": {},
   "outputs": [],
   "source": [
    "st_df = dataset_df[~dataset_df['benchmark'].isin(['MATRIX_MULT', 'MATRIX_MULT2', 'MATRIX_MULT3'])]\n",
    "# remove one computer for testing\n",
    "st_train = st_df[(st_df['brand_raw'] != '13th Gen Intel(R) Core(TM) i5-1335U') & (st_df['brand_raw_target'] != '13th Gen Intel(R) Core(TM) i5-1335U')]\n",
    "st_test = st_df[st_df['brand_raw_target'] == '13th Gen Intel(R) Core(TM) i5-1335U']"
   ]
  },
  {
   "cell_type": "code",
   "execution_count": 9,
   "metadata": {},
   "outputs": [],
   "source": [
    "# load test dataset\n",
    "g_test = pd.read_csv('csv/g_test.csv')\n",
    "st_test = pd.read_csv('csv/st_test.csv')\n",
    "mm_test = pd.read_csv('csv/mm_test.csv')"
   ]
  },
  {
   "cell_type": "code",
   "execution_count": 10,
   "metadata": {},
   "outputs": [],
   "source": [
    "target = 'total_time_target'\n",
    "features = mm_test.columns.copy().drop(target).drop(['benchmark','brand_raw', 'brand_raw_target'])\n",
    "features_st = features.copy().drop(['count', 'count_target'])"
   ]
  },
  {
   "cell_type": "code",
   "execution_count": 11,
   "metadata": {},
   "outputs": [],
   "source": [
    "# general data\n",
    "## split data\n",
    "X_g_train = g_train[features]\n",
    "y_g_train = g_train[target]\n",
    "\n",
    "X_g_test = g_test[features]\n",
    "y_g_test = g_test[target]\n",
    "\n",
    "## normalize data\n",
    "scaler_g = StandardScaler()\n",
    "X_g_train = scaler_g.fit_transform(X_g_train)\n",
    "X_g_test = scaler_g.transform(X_g_test)"
   ]
  },
  {
   "cell_type": "code",
   "execution_count": 12,
   "metadata": {},
   "outputs": [],
   "source": [
    "# single thread data\n",
    "## split data\n",
    "X_st_train = st_train[features_st]\n",
    "y_st_train = st_train[target]\n",
    "\n",
    "X_st_test = st_test[features_st]\n",
    "y_st_test = st_test[target]\n",
    "\n",
    "## normalize data\n",
    "scaler_st = StandardScaler()\n",
    "X_st_train = scaler_st.fit_transform(X_st_train)\n",
    "X_st_test = scaler_st.transform(X_st_test)"
   ]
  },
  {
   "cell_type": "code",
   "execution_count": 13,
   "metadata": {},
   "outputs": [],
   "source": [
    "# multi thread data\n",
    "## split data\n",
    "X_mm_train = mm_train[features]\n",
    "y_mm_train = mm_train[target]\n",
    "\n",
    "X_mm_test = mm_test[features]\n",
    "y_mm_test = mm_test[target]\n",
    "\n",
    "## normalize data\n",
    "scaler_mm = StandardScaler()\n",
    "X_mm_train = scaler_mm.fit_transform(X_mm_train)\n",
    "X_mm_test = scaler_mm.transform(X_mm_test)"
   ]
  },
  {
   "cell_type": "markdown",
   "metadata": {},
   "source": [
    "# Model"
   ]
  },
  {
   "cell_type": "code",
   "execution_count": 14,
   "metadata": {},
   "outputs": [],
   "source": [
    "def objective(trial: optuna.Trial, X_train, y_train, X_test, y_test):\n",
    "\tdtrain = xgb.DMatrix(X_train, label=y_train)\n",
    "\tdtest = xgb.DMatrix(X_test, label=y_test)\n",
    "\t\n",
    "\t# Definimos los hiperparámetros a buscar (XGBoost)\n",
    "\tparam = {\n",
    "\t\t\"verbosity\": 0,\n",
    "\t\t\"device\": \"gpu\",\n",
    "\t\t\"objective\": \"reg:squarederror\",\n",
    "\t\t\"eval_metric\": \"rmse\",\n",
    "\t\t\"booster\": trial.suggest_categorical(\"booster\", [\"gbtree\", \"gblinear\", \"dart\"]),\n",
    "\t\t# L2 regularization weight.\n",
    "        \"lambda\": trial.suggest_float(\"lambda\", 1e-8, 1.0, log=True),\n",
    "        # L1 regularization weight.\n",
    "        \"alpha\": trial.suggest_float(\"alpha\", 1e-8, 1.0, log=True),\n",
    "\t\t\"learning_rate\": trial.suggest_float(\"learning_rate\", 1e-3, 0.1, log=True),\n",
    "        \"subsample\": trial.suggest_float(\"subsample\", 0.2, 1.0),\n",
    "        \"colsample_bytree\": trial.suggest_float(\"colsample_bytree\", 0.05, 1.0),\n",
    "\t}\n",
    "    \n",
    "\tif param[\"booster\"] in [\"gbtree\", \"dart\"]:\n",
    "\t\t# maximum depth of the tree, signifies complexity of the tree.\n",
    "\t\tparam[\"max_depth\"] = trial.suggest_int(\"max_depth\", 3, 9, step=2)\n",
    "\t\t# minimum child weight, larger the term more conservative the tree.\n",
    "\t\tparam[\"min_child_weight\"] = trial.suggest_int(\"min_child_weight\", 2, 10)\n",
    "\t\tparam[\"eta\"] = trial.suggest_float(\"eta\", 1e-8, 1.0, log=True)\n",
    "\t\t# defines how selective algorithm is.\n",
    "\t\tparam[\"gamma\"] = trial.suggest_float(\"gamma\", 1e-8, 1.0, log=True)\n",
    "\t\tparam[\"grow_policy\"] = trial.suggest_categorical(\"grow_policy\", [\"depthwise\", \"lossguide\"])\n",
    "\n",
    "\tif param[\"booster\"] == \"dart\":\n",
    "\t\tparam[\"sample_type\"] = trial.suggest_categorical(\"sample_type\", [\"uniform\", \"weighted\"])\n",
    "\t\tparam[\"normalize_type\"] = trial.suggest_categorical(\"normalize_type\", [\"tree\", \"forest\"])\n",
    "\t\tparam[\"rate_drop\"] = trial.suggest_float(\"rate_drop\", 1e-8, 1.0, log=True)\n",
    "\t\tparam[\"skip_drop\"] = trial.suggest_float(\"skip_drop\", 1e-8, 1.0, log=True)\n",
    "\n",
    "\t# training\n",
    "\tmodel = xgb.train(param, dtrain)\n",
    "\t# evaluation\n",
    "\tpreds = model.predict(dtest)\n",
    "\tmse = mean_squared_error(y_test, preds)\n",
    "\trmse = np.sqrt(mse)\n",
    "\tprint(f\"Trial: {trial.number} - MSE: {mse} - RMSE: {rmse}\")\n",
    "\treturn mse"
   ]
  },
  {
   "cell_type": "markdown",
   "metadata": {},
   "source": [
    "# Hyperparameters Optimization"
   ]
  },
  {
   "cell_type": "code",
   "execution_count": 15,
   "metadata": {},
   "outputs": [],
   "source": [
    "n_trials = 100\n",
    "study_g = None\n",
    "study_st = None\n",
    "study_mm = None"
   ]
  },
  {
   "cell_type": "markdown",
   "metadata": {},
   "source": [
    "## General"
   ]
  },
  {
   "cell_type": "code",
   "execution_count": 16,
   "metadata": {},
   "outputs": [
    {
     "name": "stderr",
     "output_type": "stream",
     "text": [
      "[I 2024-07-03 08:41:31,031] A new study created in memory with name: no-name-4cabfd89-10dc-4f5f-b8e6-9bead6aa32cb\n",
      "[I 2024-07-03 08:41:31,344] Trial 0 finished with value: 88.35330896476874 and parameters: {'booster': 'gblinear', 'lambda': 0.0006155564318973012, 'alpha': 1.77071686435378e-07, 'learning_rate': 0.002051110418843397, 'subsample': 0.24646688973455957, 'colsample_bytree': 0.8728673384861885}. Best is trial 0 with value: 88.35330896476874.\n"
     ]
    },
    {
     "name": "stdout",
     "output_type": "stream",
     "text": [
      "Trial: 0 - MSE: 88.35330896476874 - RMSE: 9.399644087132701\n"
     ]
    },
    {
     "name": "stderr",
     "output_type": "stream",
     "text": [
      "[I 2024-07-03 08:41:31,555] Trial 1 finished with value: 87.85497996247082 and parameters: {'booster': 'gblinear', 'lambda': 0.574485163632042, 'alpha': 0.04566054873446119, 'learning_rate': 0.0026587543983272706, 'subsample': 0.3454599737656805, 'colsample_bytree': 0.22423428436076215}. Best is trial 1 with value: 87.85497996247082.\n",
      "[I 2024-07-03 08:41:31,686] Trial 2 finished with value: 88.15960708876744 and parameters: {'booster': 'gblinear', 'lambda': 2.1371407316372935e-06, 'alpha': 0.000784915956255507, 'learning_rate': 0.0019010245319870357, 'subsample': 0.43371571882817456, 'colsample_bytree': 0.3980437511290071}. Best is trial 1 with value: 87.85497996247082.\n",
      "[I 2024-07-03 08:41:31,748] Trial 3 finished with value: 87.30562292052448 and parameters: {'booster': 'gblinear', 'lambda': 0.00012997969313168238, 'alpha': 0.0005486767416600901, 'learning_rate': 0.001238513729886093, 'subsample': 0.6860358815211507, 'colsample_bytree': 0.21199791750292696}. Best is trial 3 with value: 87.30562292052448.\n"
     ]
    },
    {
     "name": "stdout",
     "output_type": "stream",
     "text": [
      "Trial: 1 - MSE: 87.85497996247082 - RMSE: 9.373098738542703\n",
      "Trial: 2 - MSE: 88.15960708876744 - RMSE: 9.389334752194506\n",
      "Trial: 3 - MSE: 87.30562292052448 - RMSE: 9.343747798422456\n"
     ]
    },
    {
     "name": "stderr",
     "output_type": "stream",
     "text": [
      "[I 2024-07-03 08:41:31,823] Trial 4 finished with value: 86.62905791789248 and parameters: {'booster': 'dart', 'lambda': 0.02932100047183291, 'alpha': 2.734702913886802e-06, 'learning_rate': 0.0015679933916723015, 'subsample': 0.7473864212097256, 'colsample_bytree': 0.4681448690526212, 'max_depth': 3, 'min_child_weight': 6, 'eta': 1.8841183049085085e-08, 'gamma': 0.1881755597772026, 'grow_policy': 'lossguide', 'sample_type': 'weighted', 'normalize_type': 'tree', 'rate_drop': 0.5710537951126793, 'skip_drop': 0.01588775693167255}. Best is trial 4 with value: 86.62905791789248.\n",
      "[I 2024-07-03 08:41:31,957] Trial 5 finished with value: 87.36776608812744 and parameters: {'booster': 'gbtree', 'lambda': 0.23713402899336497, 'alpha': 5.1043449526824996e-08, 'learning_rate': 0.0024658447214487376, 'subsample': 0.23618183112843047, 'colsample_bytree': 0.3590638142251011, 'max_depth': 5, 'min_child_weight': 4, 'eta': 0.04264813784432918, 'gamma': 7.145401117237584e-06, 'grow_policy': 'lossguide'}. Best is trial 4 with value: 86.62905791789248.\n"
     ]
    },
    {
     "name": "stdout",
     "output_type": "stream",
     "text": [
      "Trial: 4 - MSE: 86.62905791789248 - RMSE: 9.30747322950179\n",
      "Trial: 5 - MSE: 87.36776608812744 - RMSE: 9.347072594568175\n"
     ]
    },
    {
     "name": "stderr",
     "output_type": "stream",
     "text": [
      "[I 2024-07-03 08:41:32,376] Trial 6 finished with value: 87.49767567221981 and parameters: {'booster': 'gblinear', 'lambda': 0.7854083114461319, 'alpha': 0.015064619068942013, 'learning_rate': 0.002497073714505273, 'subsample': 0.20441769369888194, 'colsample_bytree': 0.8246883570320924}. Best is trial 4 with value: 86.62905791789248.\n",
      "[I 2024-07-03 08:41:32,482] Trial 7 finished with value: 87.79685307259855 and parameters: {'booster': 'dart', 'lambda': 3.911625006683821e-08, 'alpha': 7.374385355858303e-06, 'learning_rate': 0.0017050539260269294, 'subsample': 0.890482740700475, 'colsample_bytree': 0.64213322048618, 'max_depth': 5, 'min_child_weight': 2, 'eta': 3.075095259104445e-06, 'gamma': 3.994538177154855e-06, 'grow_policy': 'depthwise', 'sample_type': 'uniform', 'normalize_type': 'forest', 'rate_drop': 0.012197768563438372, 'skip_drop': 0.0003091844051450647}. Best is trial 4 with value: 86.62905791789248.\n"
     ]
    },
    {
     "name": "stdout",
     "output_type": "stream",
     "text": [
      "Trial: 6 - MSE: 87.49767567221981 - RMSE: 9.35401922556394\n",
      "Trial: 7 - MSE: 87.79685307259855 - RMSE: 9.369997495869386\n"
     ]
    },
    {
     "name": "stderr",
     "output_type": "stream",
     "text": [
      "[I 2024-07-03 08:41:32,584] Trial 8 finished with value: 87.6727811384775 and parameters: {'booster': 'gbtree', 'lambda': 2.632256136809142e-05, 'alpha': 1.5971768764426203e-08, 'learning_rate': 0.001643549747511133, 'subsample': 0.22514334854938742, 'colsample_bytree': 0.6545898907005914, 'max_depth': 5, 'min_child_weight': 6, 'eta': 0.1821930437934653, 'gamma': 9.8704700073667e-07, 'grow_policy': 'lossguide'}. Best is trial 4 with value: 86.62905791789248.\n"
     ]
    },
    {
     "name": "stdout",
     "output_type": "stream",
     "text": [
      "Trial: 8 - MSE: 87.6727811384775 - RMSE: 9.363374452539933\n",
      "Trial: 9 - MSE: 142.7493899179346 - RMSE: 11.947777614181417\n"
     ]
    },
    {
     "name": "stderr",
     "output_type": "stream",
     "text": [
      "[I 2024-07-03 08:41:32,788] Trial 9 finished with value: 142.7493899179346 and parameters: {'booster': 'dart', 'lambda': 1.9488135833929595e-07, 'alpha': 0.2738931802392973, 'learning_rate': 0.04132765459466366, 'subsample': 0.7067230052083389, 'colsample_bytree': 0.8778875606783318, 'max_depth': 9, 'min_child_weight': 3, 'eta': 0.13818852711527843, 'gamma': 0.00020641342272342887, 'grow_policy': 'lossguide', 'sample_type': 'uniform', 'normalize_type': 'forest', 'rate_drop': 0.03500403644805148, 'skip_drop': 0.07688553948726365}. Best is trial 4 with value: 86.62905791789248.\n",
      "[I 2024-07-03 08:41:32,855] Trial 10 finished with value: 88.19964915258723 and parameters: {'booster': 'dart', 'lambda': 0.005992679762635638, 'alpha': 3.4342421788350453e-06, 'learning_rate': 0.007826107544114192, 'subsample': 0.9780177407877081, 'colsample_bytree': 0.08678893996312376, 'max_depth': 3, 'min_child_weight': 10, 'eta': 1.881677773471224e-08, 'gamma': 0.8687630146789955, 'grow_policy': 'depthwise', 'sample_type': 'weighted', 'normalize_type': 'tree', 'rate_drop': 1.1925430225997286e-07, 'skip_drop': 3.48788487828984e-08}. Best is trial 4 with value: 86.62905791789248.\n",
      "[I 2024-07-03 08:41:32,928] Trial 11 finished with value: 90.47357932020634 and parameters: {'booster': 'dart', 'lambda': 0.006162377893958382, 'alpha': 0.00016777584070037214, 'learning_rate': 0.007163918225901074, 'subsample': 0.7166851525625928, 'colsample_bytree': 0.43956877185428617, 'max_depth': 3, 'min_child_weight': 9, 'eta': 2.3070577668791397e-08, 'gamma': 0.7084388592387943, 'grow_policy': 'lossguide', 'sample_type': 'weighted', 'normalize_type': 'tree', 'rate_drop': 0.7302199445935477, 'skip_drop': 0.8275899917201363}. Best is trial 4 with value: 86.62905791789248.\n"
     ]
    },
    {
     "name": "stdout",
     "output_type": "stream",
     "text": [
      "Trial: 10 - MSE: 88.19964915258723 - RMSE: 9.391466826464715\n",
      "Trial: 11 - MSE: 90.47357932020634 - RMSE: 9.511760053754843\n"
     ]
    },
    {
     "name": "stderr",
     "output_type": "stream",
     "text": [
      "[I 2024-07-03 08:41:33,086] Trial 12 finished with value: 107.78494909394264 and parameters: {'booster': 'dart', 'lambda': 0.00021901520910306958, 'alpha': 3.1297608326940354e-06, 'learning_rate': 0.027840411050389115, 'subsample': 0.5766332330970527, 'colsample_bytree': 0.20155435339150435, 'max_depth': 9, 'min_child_weight': 7, 'eta': 4.976431921396943e-05, 'gamma': 0.0018907821901379858, 'grow_policy': 'lossguide', 'sample_type': 'weighted', 'normalize_type': 'tree', 'rate_drop': 2.4660592082053353e-05, 'skip_drop': 0.0004031201141583367}. Best is trial 4 with value: 86.62905791789248.\n",
      "[I 2024-07-03 08:41:33,164] Trial 13 finished with value: 87.05106767506298 and parameters: {'booster': 'gblinear', 'lambda': 0.011763498359181218, 'alpha': 0.0003179681462707802, 'learning_rate': 0.0010519095028133836, 'subsample': 0.7675894400828108, 'colsample_bytree': 0.5815877958604211}. Best is trial 4 with value: 86.62905791789248.\n",
      "[I 2024-07-03 08:41:33,231] Trial 14 finished with value: 91.05926547249562 and parameters: {'booster': 'gbtree', 'lambda': 0.02355131967330587, 'alpha': 2.3217909024893836e-05, 'learning_rate': 0.004362597510446982, 'subsample': 0.832063446600226, 'colsample_bytree': 0.626800428086121, 'max_depth': 7, 'min_child_weight': 6, 'eta': 1.4392937275187845e-06, 'gamma': 1.201654023038714e-08, 'grow_policy': 'depthwise'}. Best is trial 4 with value: 86.62905791789248.\n"
     ]
    },
    {
     "name": "stdout",
     "output_type": "stream",
     "text": [
      "Trial: 12 - MSE: 107.78494909394264 - RMSE: 10.381953048147668\n",
      "Trial: 13 - MSE: 87.05106767506298 - RMSE: 9.330116166214813\n",
      "Trial: 14 - MSE: 91.05926547249562 - RMSE: 9.54249786337391\n"
     ]
    },
    {
     "name": "stderr",
     "output_type": "stream",
     "text": [
      "[I 2024-07-03 08:41:33,298] Trial 15 finished with value: 109.05463809712401 and parameters: {'booster': 'gblinear', 'lambda': 0.03342716946779848, 'alpha': 3.677253552965194e-07, 'learning_rate': 0.01781109454803903, 'subsample': 0.553855842741475, 'colsample_bytree': 0.5321171759323884}. Best is trial 4 with value: 86.62905791789248.\n",
      "[I 2024-07-03 08:41:33,389] Trial 16 finished with value: 164.05633803381178 and parameters: {'booster': 'dart', 'lambda': 0.0016969807926046853, 'alpha': 0.004733997601238833, 'learning_rate': 0.09101904796088088, 'subsample': 0.7939429173554611, 'colsample_bytree': 0.7567950972758687, 'max_depth': 3, 'min_child_weight': 8, 'eta': 0.002337850063902671, 'gamma': 0.009330384665490478, 'grow_policy': 'lossguide', 'sample_type': 'weighted', 'normalize_type': 'tree', 'rate_drop': 0.00017627126897780979, 'skip_drop': 5.59070694627735e-07}. Best is trial 4 with value: 86.62905791789248.\n",
      "[I 2024-07-03 08:41:33,490] Trial 17 finished with value: 87.12508975558785 and parameters: {'booster': 'dart', 'lambda': 0.05816828291272942, 'alpha': 4.5749503993495855e-05, 'learning_rate': 0.0010365636107001744, 'subsample': 0.96715589345869, 'colsample_bytree': 0.9941313460846135, 'max_depth': 7, 'min_child_weight': 5, 'eta': 1.046123305382499e-06, 'gamma': 0.023433421840643162, 'grow_policy': 'depthwise', 'sample_type': 'weighted', 'normalize_type': 'tree', 'rate_drop': 6.481349504764345e-05, 'skip_drop': 0.013830259927956008}. Best is trial 4 with value: 86.62905791789248.\n"
     ]
    },
    {
     "name": "stdout",
     "output_type": "stream",
     "text": [
      "Trial: 15 - MSE: 109.05463809712401 - RMSE: 10.442922871357617\n",
      "Trial: 16 - MSE: 164.05633803381178 - RMSE: 12.808447916660777\n",
      "Trial: 17 - MSE: 87.12508975558785 - RMSE: 9.334082159247789\n"
     ]
    },
    {
     "name": "stderr",
     "output_type": "stream",
     "text": [
      "[I 2024-07-03 08:41:33,525] Trial 18 finished with value: 91.05205794414896 and parameters: {'booster': 'gblinear', 'lambda': 1.7622348983356632e-05, 'alpha': 1.4596904764994157e-06, 'learning_rate': 0.004106486758182395, 'subsample': 0.6474121437364602, 'colsample_bytree': 0.5478436403955169}. Best is trial 4 with value: 86.62905791789248.\n",
      "[I 2024-07-03 08:41:33,580] Trial 19 finished with value: 90.00945062620562 and parameters: {'booster': 'gbtree', 'lambda': 0.0034901413670860595, 'alpha': 0.002492494233391594, 'learning_rate': 0.004620992788374491, 'subsample': 0.4659332503198407, 'colsample_bytree': 0.4582392601782635, 'max_depth': 3, 'min_child_weight': 8, 'eta': 0.00015863234869334413, 'gamma': 0.0642844209523738, 'grow_policy': 'lossguide'}. Best is trial 4 with value: 86.62905791789248.\n",
      "[I 2024-07-03 08:41:33,682] Trial 20 finished with value: 96.05108488828733 and parameters: {'booster': 'dart', 'lambda': 0.11890715730811219, 'alpha': 0.0002276779286683709, 'learning_rate': 0.01330702174882992, 'subsample': 0.793980248607635, 'colsample_bytree': 0.3151445864725707, 'max_depth': 7, 'min_child_weight': 4, 'eta': 1.5583147319064645e-07, 'gamma': 0.0003823928934260668, 'grow_policy': 'lossguide', 'sample_type': 'uniform', 'normalize_type': 'forest', 'rate_drop': 2.8406139719958008e-08, 'skip_drop': 9.385435283793468e-06}. Best is trial 4 with value: 86.62905791789248.\n"
     ]
    },
    {
     "name": "stdout",
     "output_type": "stream",
     "text": [
      "Trial: 18 - MSE: 91.05205794414896 - RMSE: 9.542120201723984\n",
      "Trial: 19 - MSE: 90.00945062620562 - RMSE: 9.487331059165461\n",
      "Trial: 20 - MSE: 96.05108488828733 - RMSE: 9.800565539206772\n"
     ]
    },
    {
     "name": "stderr",
     "output_type": "stream",
     "text": [
      "[I 2024-07-03 08:41:33,763] Trial 21 finished with value: 87.17202532824824 and parameters: {'booster': 'dart', 'lambda': 0.035518437357231925, 'alpha': 3.5883779773071114e-05, 'learning_rate': 0.0010585314164992012, 'subsample': 0.9911277774716118, 'colsample_bytree': 0.9802229391606099, 'max_depth': 7, 'min_child_weight': 5, 'eta': 4.978108772579042e-07, 'gamma': 0.03182409102564502, 'grow_policy': 'depthwise', 'sample_type': 'weighted', 'normalize_type': 'tree', 'rate_drop': 2.8942772433995474e-05, 'skip_drop': 0.006374580989239655}. Best is trial 4 with value: 86.62905791789248.\n",
      "[I 2024-07-03 08:41:33,870] Trial 22 finished with value: 87.24411884921186 and parameters: {'booster': 'dart', 'lambda': 0.12303307714270104, 'alpha': 3.0434962304543326e-05, 'learning_rate': 0.0011335687071590708, 'subsample': 0.8821329422240348, 'colsample_bytree': 0.9516313418583437, 'max_depth': 7, 'min_child_weight': 5, 'eta': 1.622324487034185e-05, 'gamma': 0.0808333590199486, 'grow_policy': 'depthwise', 'sample_type': 'weighted', 'normalize_type': 'tree', 'rate_drop': 0.0007298727071065567, 'skip_drop': 0.009817824505601163}. Best is trial 4 with value: 86.62905791789248.\n"
     ]
    },
    {
     "name": "stdout",
     "output_type": "stream",
     "text": [
      "Trial: 21 - MSE: 87.17202532824824 - RMSE: 9.336596024689525\n",
      "Trial: 22 - MSE: 87.24411884921186 - RMSE: 9.34045603004542\n"
     ]
    },
    {
     "name": "stderr",
     "output_type": "stream",
     "text": [
      "[I 2024-07-03 08:41:33,967] Trial 23 finished with value: 86.8979141870739 and parameters: {'booster': 'dart', 'lambda': 0.013770561871816727, 'alpha': 4.947390398002968e-07, 'learning_rate': 0.0010101158882275655, 'subsample': 0.9002591420476456, 'colsample_bytree': 0.5850198507899802, 'max_depth': 5, 'min_child_weight': 7, 'eta': 5.100479834122238e-08, 'gamma': 0.0035897055791626717, 'grow_policy': 'depthwise', 'sample_type': 'weighted', 'normalize_type': 'tree', 'rate_drop': 3.1709244479551827e-07, 'skip_drop': 0.01040808546502254}. Best is trial 4 with value: 86.62905791789248.\n",
      "[I 2024-07-03 08:41:34,066] Trial 24 finished with value: 90.11391079677172 and parameters: {'booster': 'dart', 'lambda': 0.0006903633792142479, 'alpha': 5.313108048517604e-07, 'learning_rate': 0.0036262826754379887, 'subsample': 0.7764010908685389, 'colsample_bytree': 0.7415010098011605, 'max_depth': 5, 'min_child_weight': 7, 'eta': 7.044943815686656e-08, 'gamma': 0.0020378843330488765, 'grow_policy': 'depthwise', 'sample_type': 'weighted', 'normalize_type': 'tree', 'rate_drop': 7.760360656289822e-07, 'skip_drop': 0.7560783782789806}. Best is trial 4 with value: 86.62905791789248.\n",
      "[I 2024-07-03 08:41:34,112] Trial 25 finished with value: 87.6538052298995 and parameters: {'booster': 'gblinear', 'lambda': 0.011080555291911102, 'alpha': 9.27242585310675e-06, 'learning_rate': 0.0015257729371693557, 'subsample': 0.8976521458776408, 'colsample_bytree': 0.5796441160658274}. Best is trial 4 with value: 86.62905791789248.\n"
     ]
    },
    {
     "name": "stdout",
     "output_type": "stream",
     "text": [
      "Trial: 23 - MSE: 86.8979141870739 - RMSE: 9.321905072841812\n",
      "Trial: 24 - MSE: 90.11391079677172 - RMSE: 9.492834708177096\n",
      "Trial: 25 - MSE: 87.6538052298995 - RMSE: 9.362361092689147\n"
     ]
    },
    {
     "name": "stderr",
     "output_type": "stream",
     "text": [
      "[I 2024-07-03 08:41:34,206] Trial 26 finished with value: 88.60574955187366 and parameters: {'booster': 'dart', 'lambda': 0.002122309863656759, 'alpha': 9.51751166507162e-08, 'learning_rate': 0.003270081586187412, 'subsample': 0.8406376224569716, 'colsample_bytree': 0.47276984415751466, 'max_depth': 3, 'min_child_weight': 7, 'eta': 1.3476054322156418e-08, 'gamma': 3.511910930673129e-05, 'grow_policy': 'depthwise', 'sample_type': 'weighted', 'normalize_type': 'tree', 'rate_drop': 1.3364233060121952e-06, 'skip_drop': 2.293164729613422e-05}. Best is trial 4 with value: 86.62905791789248.\n",
      "[I 2024-07-03 08:41:34,292] Trial 27 finished with value: 93.10907131420205 and parameters: {'booster': 'dart', 'lambda': 1.0091900847189185e-05, 'alpha': 1.214820961500795e-06, 'learning_rate': 0.006295014533171722, 'subsample': 0.7439156958420352, 'colsample_bytree': 0.750977019510351, 'max_depth': 5, 'min_child_weight': 8, 'eta': 0.0013045953209095608, 'gamma': 0.003522005005294785, 'grow_policy': 'depthwise', 'sample_type': 'uniform', 'normalize_type': 'forest', 'rate_drop': 0.6376017712387361, 'skip_drop': 0.0014542824192039759}. Best is trial 4 with value: 86.62905791789248.\n",
      "[I 2024-07-03 08:41:34,370] Trial 28 finished with value: 86.86904457912448 and parameters: {'booster': 'gbtree', 'lambda': 0.0005315845673529579, 'alpha': 6.099197985284022e-07, 'learning_rate': 0.0013822982213413562, 'subsample': 0.6407675767749187, 'colsample_bytree': 0.7048626444373806, 'max_depth': 3, 'min_child_weight': 10, 'eta': 6.591444445189518e-06, 'gamma': 0.1886569227601596, 'grow_policy': 'lossguide'}. Best is trial 4 with value: 86.62905791789248.\n"
     ]
    },
    {
     "name": "stdout",
     "output_type": "stream",
     "text": [
      "Trial: 26 - MSE: 88.60574955187366 - RMSE: 9.413062708378908\n",
      "Trial: 27 - MSE: 93.10907131420205 - RMSE: 9.64930418808538\n",
      "Trial: 28 - MSE: 86.86904457912448 - RMSE: 9.32035646202035\n"
     ]
    },
    {
     "name": "stderr",
     "output_type": "stream",
     "text": [
      "[I 2024-07-03 08:41:34,440] Trial 29 finished with value: 86.65951597640718 and parameters: {'booster': 'gbtree', 'lambda': 0.0005165829924959074, 'alpha': 1.7155713483708282e-08, 'learning_rate': 0.0020525188119854105, 'subsample': 0.6268169239705905, 'colsample_bytree': 0.3117028240160842, 'max_depth': 3, 'min_child_weight': 10, 'eta': 1.3382134973444947e-07, 'gamma': 0.21190120088222167, 'grow_policy': 'lossguide'}. Best is trial 4 with value: 86.62905791789248.\n",
      "[I 2024-07-03 08:41:34,544] Trial 30 finished with value: 86.58130936330781 and parameters: {'booster': 'gbtree', 'lambda': 0.0004856700694657134, 'alpha': 1.6395656470305435e-08, 'learning_rate': 0.0020563644146445043, 'subsample': 0.5433429456866015, 'colsample_bytree': 0.3028386801505609, 'max_depth': 3, 'min_child_weight': 10, 'eta': 6.784442402863377e-06, 'gamma': 0.15996691034780583, 'grow_policy': 'lossguide'}. Best is trial 30 with value: 86.58130936330781.\n",
      "[I 2024-07-03 08:41:34,628] Trial 31 finished with value: 86.61008610810622 and parameters: {'booster': 'gbtree', 'lambda': 0.0005372108548882629, 'alpha': 1.6133991882563572e-08, 'learning_rate': 0.0021449381152579237, 'subsample': 0.5291596409521322, 'colsample_bytree': 0.305224978686806, 'max_depth': 3, 'min_child_weight': 10, 'eta': 6.157371968842314e-06, 'gamma': 0.22461663882267202, 'grow_policy': 'lossguide'}. Best is trial 30 with value: 86.58130936330781.\n"
     ]
    },
    {
     "name": "stdout",
     "output_type": "stream",
     "text": [
      "Trial: 29 - MSE: 86.65951597640718 - RMSE: 9.309109300916344\n",
      "Trial: 30 - MSE: 86.58130936330781 - RMSE: 9.30490781057544\n",
      "Trial: 31 - MSE: 86.61008610810622 - RMSE: 9.306454002900686\n"
     ]
    },
    {
     "name": "stderr",
     "output_type": "stream",
     "text": [
      "[I 2024-07-03 08:41:34,689] Trial 32 finished with value: 86.71913997071661 and parameters: {'booster': 'gbtree', 'lambda': 0.0006750636898275165, 'alpha': 1.0288277834175784e-08, 'learning_rate': 0.0024026649356186196, 'subsample': 0.5207885093816905, 'colsample_bytree': 0.2806580079634251, 'max_depth': 3, 'min_child_weight': 10, 'eta': 2.70669442116389e-07, 'gamma': 0.24342757637126083, 'grow_policy': 'lossguide'}. Best is trial 30 with value: 86.58130936330781.\n",
      "[I 2024-07-03 08:41:34,738] Trial 33 finished with value: 86.23455898700692 and parameters: {'booster': 'gbtree', 'lambda': 4.582787875820589e-05, 'alpha': 3.5050757100861467e-08, 'learning_rate': 0.0029211631123234765, 'subsample': 0.3270684109651287, 'colsample_bytree': 0.13089559318785732, 'max_depth': 3, 'min_child_weight': 9, 'eta': 1.8874081128779363e-05, 'gamma': 0.9855933969197483, 'grow_policy': 'lossguide'}. Best is trial 33 with value: 86.23455898700692.\n",
      "[I 2024-07-03 08:41:34,785] Trial 34 finished with value: 86.06028904966877 and parameters: {'booster': 'gbtree', 'lambda': 2.6847681344097835e-06, 'alpha': 4.657380321614742e-08, 'learning_rate': 0.0031083306443996025, 'subsample': 0.31349220805939276, 'colsample_bytree': 0.11719910440132825, 'max_depth': 3, 'min_child_weight': 9, 'eta': 0.00011435141796819088, 'gamma': 0.6130029617816025, 'grow_policy': 'lossguide'}. Best is trial 34 with value: 86.06028904966877.\n",
      "[I 2024-07-03 08:41:34,841] Trial 35 finished with value: 86.05645116408236 and parameters: {'booster': 'gbtree', 'lambda': 1.552765116729735e-06, 'alpha': 4.93825007708737e-08, 'learning_rate': 0.0029486146123326854, 'subsample': 0.3065608751987979, 'colsample_bytree': 0.05154813614520004, 'max_depth': 3, 'min_child_weight': 9, 'eta': 0.00022609068738697186, 'gamma': 0.9338319851092216, 'grow_policy': 'lossguide'}. Best is trial 35 with value: 86.05645116408236.\n"
     ]
    },
    {
     "name": "stdout",
     "output_type": "stream",
     "text": [
      "Trial: 32 - MSE: 86.71913997071661 - RMSE: 9.312311204567672\n",
      "Trial: 33 - MSE: 86.23455898700692 - RMSE: 9.286256457098679\n",
      "Trial: 34 - MSE: 86.06028904966877 - RMSE: 9.276868493714286\n",
      "Trial: 35 - MSE: 86.05645116408236 - RMSE: 9.276661638977805\n"
     ]
    },
    {
     "name": "stderr",
     "output_type": "stream",
     "text": [
      "[I 2024-07-03 08:41:34,921] Trial 36 finished with value: 86.34791422581213 and parameters: {'booster': 'gbtree', 'lambda': 1.1729583497615237e-06, 'alpha': 5.930179439929981e-08, 'learning_rate': 0.005740620706565155, 'subsample': 0.31753207659207267, 'colsample_bytree': 0.050973621474169534, 'max_depth': 3, 'min_child_weight': 9, 'eta': 0.00033570851029752325, 'gamma': 0.6817146242135396, 'grow_policy': 'lossguide'}. Best is trial 35 with value: 86.05645116408236.\n",
      "[I 2024-07-03 08:41:34,975] Trial 37 finished with value: 86.31835429894505 and parameters: {'booster': 'gbtree', 'lambda': 7.820238192032297e-07, 'alpha': 8.085395467575693e-08, 'learning_rate': 0.0053629553680061386, 'subsample': 0.34815977809886306, 'colsample_bytree': 0.056998456429401455, 'max_depth': 3, 'min_child_weight': 9, 'eta': 0.0002801312122769557, 'gamma': 0.9872589393878223, 'grow_policy': 'lossguide'}. Best is trial 35 with value: 86.05645116408236.\n",
      "[I 2024-07-03 08:41:35,038] Trial 38 finished with value: 86.31786522290916 and parameters: {'booster': 'gbtree', 'lambda': 1.1922642971188717e-06, 'alpha': 9.762484725670226e-08, 'learning_rate': 0.003077086606484811, 'subsample': 0.3092380884073119, 'colsample_bytree': 0.14054655845759872, 'max_depth': 5, 'min_child_weight': 9, 'eta': 0.003469845678266827, 'gamma': 0.97328327993557, 'grow_policy': 'lossguide'}. Best is trial 35 with value: 86.05645116408236.\n",
      "[I 2024-07-03 08:41:35,108] Trial 39 finished with value: 86.3054437866989 and parameters: {'booster': 'gbtree', 'lambda': 5.349417281559048e-06, 'alpha': 1.7242868755446622e-07, 'learning_rate': 0.003246173996482776, 'subsample': 0.2801204603124172, 'colsample_bytree': 0.14029951166806795, 'max_depth': 5, 'min_child_weight': 9, 'eta': 0.00527499015456911, 'gamma': 0.02305280328727921, 'grow_policy': 'lossguide'}. Best is trial 35 with value: 86.05645116408236.\n"
     ]
    },
    {
     "name": "stdout",
     "output_type": "stream",
     "text": [
      "Trial: 36 - MSE: 86.34791422581213 - RMSE: 9.292357839957097\n",
      "Trial: 37 - MSE: 86.31835429894505 - RMSE: 9.290767153413386\n",
      "Trial: 38 - MSE: 86.31786522290916 - RMSE: 9.290740832835084\n",
      "Trial: 39 - MSE: 86.3054437866989 - RMSE: 9.290072324083322\n"
     ]
    },
    {
     "name": "stderr",
     "output_type": "stream",
     "text": [
      "[I 2024-07-03 08:41:35,189] Trial 40 finished with value: 87.73213227004167 and parameters: {'booster': 'gbtree', 'lambda': 4.4964321173196255e-06, 'alpha': 1.8102322774030563e-07, 'learning_rate': 0.010008562567656722, 'subsample': 0.408697518553785, 'colsample_bytree': 0.1487080714134537, 'max_depth': 5, 'min_child_weight': 8, 'eta': 0.015706106013177255, 'gamma': 0.02591352507617272, 'grow_policy': 'lossguide'}. Best is trial 35 with value: 86.05645116408236.\n",
      "[I 2024-07-03 08:41:35,260] Trial 41 finished with value: 86.26077363762083 and parameters: {'booster': 'gbtree', 'lambda': 2.236934276491509e-07, 'alpha': 1.5219702124138914e-07, 'learning_rate': 0.002985082631668567, 'subsample': 0.28688389261827724, 'colsample_bytree': 0.13242271843069703, 'max_depth': 5, 'min_child_weight': 9, 'eta': 0.0013036690550766543, 'gamma': 0.32417723982040153, 'grow_policy': 'lossguide'}. Best is trial 35 with value: 86.05645116408236.\n",
      "[I 2024-07-03 08:41:35,342] Trial 42 finished with value: 86.25841591616104 and parameters: {'booster': 'gbtree', 'lambda': 2.733700127344887e-07, 'alpha': 3.288059654715482e-08, 'learning_rate': 0.002949762074683851, 'subsample': 0.29060792403485786, 'colsample_bytree': 0.132435517313756, 'max_depth': 5, 'min_child_weight': 9, 'eta': 4.1018627912352883e-05, 'gamma': 0.05746227389283019, 'grow_policy': 'lossguide'}. Best is trial 35 with value: 86.05645116408236.\n"
     ]
    },
    {
     "name": "stdout",
     "output_type": "stream",
     "text": [
      "Trial: 40 - MSE: 87.73213227004167 - RMSE: 9.366543240173595\n",
      "Trial: 41 - MSE: 86.26077363762083 - RMSE: 9.287667825542687\n",
      "Trial: 42 - MSE: 86.25841591616104 - RMSE: 9.287540897146082\n"
     ]
    },
    {
     "name": "stderr",
     "output_type": "stream",
     "text": [
      "[I 2024-07-03 08:41:35,461] Trial 43 finished with value: 87.11725607370245 and parameters: {'booster': 'gbtree', 'lambda': 1.7990160636899986e-07, 'alpha': 3.1601093192175576e-08, 'learning_rate': 0.0027793892162780473, 'subsample': 0.37940585023778384, 'colsample_bytree': 0.22957684040131382, 'max_depth': 5, 'min_child_weight': 9, 'eta': 3.0966333547691564e-05, 'gamma': 0.07537854995336947, 'grow_policy': 'lossguide'}. Best is trial 35 with value: 86.05645116408236.\n",
      "[I 2024-07-03 08:41:35,547] Trial 44 finished with value: 85.94342705327708 and parameters: {'booster': 'gbtree', 'lambda': 1.2893325204162867e-08, 'alpha': 3.768821626072852e-08, 'learning_rate': 0.0026816054060751836, 'subsample': 0.26472009544641745, 'colsample_bytree': 0.10189941673053732, 'max_depth': 5, 'min_child_weight': 8, 'eta': 0.0006228099025596828, 'gamma': 0.31124476759334113, 'grow_policy': 'lossguide'}. Best is trial 44 with value: 85.94342705327708.\n"
     ]
    },
    {
     "name": "stdout",
     "output_type": "stream",
     "text": [
      "Trial: 43 - MSE: 87.11725607370245 - RMSE: 9.333662521952593\n",
      "Trial: 44 - MSE: 85.94342705327708 - RMSE: 9.27056778483805\n"
     ]
    },
    {
     "name": "stderr",
     "output_type": "stream",
     "text": [
      "[I 2024-07-03 08:41:35,674] Trial 45 finished with value: 89.35569597866974 and parameters: {'booster': 'gbtree', 'lambda': 1.5196801766409764e-08, 'alpha': 3.6075401357179734e-08, 'learning_rate': 0.00923879233091766, 'subsample': 0.2501684368768319, 'colsample_bytree': 0.19668354976036956, 'max_depth': 3, 'min_child_weight': 8, 'eta': 9.140408823893846e-05, 'gamma': 0.0801838881572448, 'grow_policy': 'lossguide'}. Best is trial 44 with value: 85.94342705327708.\n",
      "[I 2024-07-03 08:41:35,735] Trial 46 finished with value: 86.12355738416586 and parameters: {'booster': 'gbtree', 'lambda': 7.418478025154587e-08, 'alpha': 4.389683098980871e-08, 'learning_rate': 0.004017793495356752, 'subsample': 0.4438857781672181, 'colsample_bytree': 0.10152595042530747, 'max_depth': 5, 'min_child_weight': 8, 'eta': 0.0004909893374198787, 'gamma': 0.011404658857808527, 'grow_policy': 'lossguide'}. Best is trial 44 with value: 85.94342705327708.\n",
      "[I 2024-07-03 08:41:35,783] Trial 47 finished with value: 86.18694282642153 and parameters: {'booster': 'gbtree', 'lambda': 6.049578961323337e-08, 'alpha': 2.7944935310144253e-07, 'learning_rate': 0.004020426074784644, 'subsample': 0.4311930131340785, 'colsample_bytree': 0.09884603178987121, 'max_depth': 3, 'min_child_weight': 8, 'eta': 0.0006330942047169714, 'gamma': 0.3669717640714356, 'grow_policy': 'lossguide'}. Best is trial 44 with value: 85.94342705327708.\n",
      "[I 2024-07-03 08:41:35,836] Trial 48 finished with value: 86.22772828177999 and parameters: {'booster': 'gbtree', 'lambda': 5.061291165551282e-08, 'alpha': 3.1424271901363586e-07, 'learning_rate': 0.004830557068819283, 'subsample': 0.45791074237353857, 'colsample_bytree': 0.09525984922424903, 'max_depth': 5, 'min_child_weight': 8, 'eta': 0.9734008577515131, 'gamma': 0.00742121581938648, 'grow_policy': 'lossguide'}. Best is trial 44 with value: 85.94342705327708.\n"
     ]
    },
    {
     "name": "stdout",
     "output_type": "stream",
     "text": [
      "Trial: 45 - MSE: 89.35569597866974 - RMSE: 9.452814183018184\n",
      "Trial: 46 - MSE: 86.12355738416586 - RMSE: 9.28027787214186\n",
      "Trial: 47 - MSE: 86.18694282642153 - RMSE: 9.28369230567351\n",
      "Trial: 48 - MSE: 86.22772828177999 - RMSE: 9.285888664084876\n"
     ]
    },
    {
     "name": "stderr",
     "output_type": "stream",
     "text": [
      "[I 2024-07-03 08:41:35,894] Trial 49 finished with value: 87.17919459017992 and parameters: {'booster': 'gbtree', 'lambda': 1.2568891229966699e-08, 'alpha': 0.20967163319490345, 'learning_rate': 0.003942022729670979, 'subsample': 0.3618281116998769, 'colsample_bytree': 0.23969074580519328, 'max_depth': 3, 'min_child_weight': 7, 'eta': 0.0004936665811098281, 'gamma': 8.745639035345476e-07, 'grow_policy': 'lossguide'}. Best is trial 44 with value: 85.94342705327708.\n",
      "[I 2024-07-03 08:41:35,975] Trial 50 finished with value: 87.17137665604379 and parameters: {'booster': 'gbtree', 'lambda': 5.215497189225298e-08, 'alpha': 9.725675664844477e-07, 'learning_rate': 0.007695050839179295, 'subsample': 0.4132522278950413, 'colsample_bytree': 0.1833502750149421, 'max_depth': 9, 'min_child_weight': 6, 'eta': 0.0008113692772069321, 'gamma': 0.00047510752072822514, 'grow_policy': 'lossguide'}. Best is trial 44 with value: 85.94342705327708.\n",
      "[I 2024-07-03 08:41:36,043] Trial 51 finished with value: 86.23907128723073 and parameters: {'booster': 'gbtree', 'lambda': 3.866088365029855e-08, 'alpha': 2.951168196526299e-07, 'learning_rate': 0.004863984961293414, 'subsample': 0.4639835984491971, 'colsample_bytree': 0.09118233516125471, 'max_depth': 5, 'min_child_weight': 8, 'eta': 0.685380776494963, 'gamma': 0.008849475251739363, 'grow_policy': 'lossguide'}. Best is trial 44 with value: 85.94342705327708.\n"
     ]
    },
    {
     "name": "stdout",
     "output_type": "stream",
     "text": [
      "Trial: 49 - MSE: 87.17919459017992 - RMSE: 9.336979950186244\n",
      "Trial: 50 - MSE: 87.17137665604379 - RMSE: 9.336561286471792\n",
      "Trial: 51 - MSE: 86.23907128723073 - RMSE: 9.286499409746964\n"
     ]
    },
    {
     "name": "stderr",
     "output_type": "stream",
     "text": [
      "[I 2024-07-03 08:41:36,136] Trial 52 finished with value: 85.91499876782768 and parameters: {'booster': 'gbtree', 'lambda': 5.495169724153573e-08, 'alpha': 5.482561669574119e-06, 'learning_rate': 0.0017827978615807213, 'subsample': 0.4670756848821568, 'colsample_bytree': 0.08566716349144793, 'max_depth': 5, 'min_child_weight': 8, 'eta': 0.01306861354428115, 'gamma': 0.3522388532542449, 'grow_policy': 'lossguide'}. Best is trial 52 with value: 85.91499876782768.\n",
      "[I 2024-07-03 08:41:36,190] Trial 53 finished with value: 85.92219752248522 and parameters: {'booster': 'gbtree', 'lambda': 3.891228057739732e-07, 'alpha': 8.692181087361585e-06, 'learning_rate': 0.0017755920646283186, 'subsample': 0.5008910035009881, 'colsample_bytree': 0.08674799895194035, 'max_depth': 5, 'min_child_weight': 8, 'eta': 0.03716337015593012, 'gamma': 0.42228717257973963, 'grow_policy': 'lossguide'}. Best is trial 52 with value: 85.91499876782768.\n",
      "[I 2024-07-03 08:41:36,268] Trial 54 finished with value: 86.08185476027842 and parameters: {'booster': 'gbtree', 'lambda': 6.80439941645877e-07, 'alpha': 1.2439775786384472e-05, 'learning_rate': 0.0017983833008742246, 'subsample': 0.4988130434767017, 'colsample_bytree': 0.18177316693502937, 'max_depth': 5, 'min_child_weight': 7, 'eta': 0.03605061840817124, 'gamma': 0.4501202411500178, 'grow_policy': 'lossguide'}. Best is trial 52 with value: 85.91499876782768.\n"
     ]
    },
    {
     "name": "stdout",
     "output_type": "stream",
     "text": [
      "Trial: 52 - MSE: 85.91499876782768 - RMSE: 9.269034403206609\n",
      "Trial: 53 - MSE: 85.92219752248522 - RMSE: 9.269422717865726\n",
      "Trial: 54 - MSE: 86.08185476027842 - RMSE: 9.278030758748239\n"
     ]
    },
    {
     "name": "stderr",
     "output_type": "stream",
     "text": [
      "[I 2024-07-03 08:41:36,390] Trial 55 finished with value: 86.0704837903827 and parameters: {'booster': 'gbtree', 'lambda': 5.275750235841501e-07, 'alpha': 7.676137524176941e-06, 'learning_rate': 0.0017862832153709453, 'subsample': 0.495585056187308, 'colsample_bytree': 0.17325904433964856, 'max_depth': 7, 'min_child_weight': 2, 'eta': 0.034090395947752476, 'gamma': 0.43178983931093196, 'grow_policy': 'lossguide'}. Best is trial 52 with value: 85.91499876782768.\n",
      "[I 2024-07-03 08:41:36,450] Trial 56 finished with value: 85.83295774340533 and parameters: {'booster': 'gbtree', 'lambda': 3.099142185283185e-06, 'alpha': 7.912804911647302e-05, 'learning_rate': 0.0012771097887249385, 'subsample': 0.20032561413323985, 'colsample_bytree': 0.05216783720167183, 'max_depth': 7, 'min_child_weight': 2, 'eta': 0.012278437995779325, 'gamma': 0.13547284414369906, 'grow_policy': 'lossguide'}. Best is trial 56 with value: 85.83295774340533.\n",
      "[I 2024-07-03 08:41:36,491] Trial 57 finished with value: 87.43534520219633 and parameters: {'booster': 'gblinear', 'lambda': 2.3755987745209153e-06, 'alpha': 6.192990495402823e-05, 'learning_rate': 0.001339225694960538, 'subsample': 0.213557757004288, 'colsample_bytree': 0.055482333404118137}. Best is trial 56 with value: 85.83295774340533.\n"
     ]
    },
    {
     "name": "stdout",
     "output_type": "stream",
     "text": [
      "Trial: 55 - MSE: 86.0704837903827 - RMSE: 9.27741794845865\n",
      "Trial: 56 - MSE: 85.83295774340533 - RMSE: 9.26460780299983\n",
      "Trial: 57 - MSE: 87.43534520219633 - RMSE: 9.3506868839779\n"
     ]
    },
    {
     "name": "stderr",
     "output_type": "stream",
     "text": [
      "[I 2024-07-03 08:41:36,612] Trial 58 finished with value: 87.48808467291056 and parameters: {'booster': 'gbtree', 'lambda': 2.7282447968421806e-06, 'alpha': 0.0013462194558145795, 'learning_rate': 0.002462572132879811, 'subsample': 0.2462642023729742, 'colsample_bytree': 0.35456227777411176, 'max_depth': 7, 'min_child_weight': 3, 'eta': 0.006064312996957918, 'gamma': 0.13146926460243982, 'grow_policy': 'lossguide'}. Best is trial 56 with value: 85.83295774340533.\n",
      "[I 2024-07-03 08:41:36,718] Trial 59 finished with value: 85.86198183737068 and parameters: {'booster': 'gbtree', 'lambda': 2.6222215778124564e-08, 'alpha': 0.00014233982515615855, 'learning_rate': 0.0014741571864789176, 'subsample': 0.2579800704235269, 'colsample_bytree': 0.07508819797304243, 'max_depth': 7, 'min_child_weight': 2, 'eta': 0.20816486259926412, 'gamma': 0.041916512966410954, 'grow_policy': 'lossguide'}. Best is trial 56 with value: 85.83295774340533.\n"
     ]
    },
    {
     "name": "stdout",
     "output_type": "stream",
     "text": [
      "Trial: 58 - MSE: 87.48808467291056 - RMSE: 9.353506544227708\n",
      "Trial: 59 - MSE: 85.86198183737068 - RMSE: 9.266174066861181\n"
     ]
    },
    {
     "name": "stderr",
     "output_type": "stream",
     "text": [
      "[I 2024-07-03 08:41:36,827] Trial 60 finished with value: 86.52095152807212 and parameters: {'booster': 'gbtree', 'lambda': 2.2468642462120595e-08, 'alpha': 0.0005992653194542146, 'learning_rate': 0.0015017864354163616, 'subsample': 0.2029367611217418, 'colsample_bytree': 0.26788767912170863, 'max_depth': 7, 'min_child_weight': 2, 'eta': 0.13719111777211626, 'gamma': 0.04909995543986375, 'grow_policy': 'lossguide'}. Best is trial 56 with value: 85.83295774340533.\n",
      "[I 2024-07-03 08:41:36,885] Trial 61 finished with value: 85.83773330553962 and parameters: {'booster': 'gbtree', 'lambda': 1.246380359863939e-07, 'alpha': 4.075410236202144e-06, 'learning_rate': 0.0012250796059013727, 'subsample': 0.261303591281287, 'colsample_bytree': 0.08179355147912544, 'max_depth': 7, 'min_child_weight': 3, 'eta': 0.29485001173039366, 'gamma': 0.11328842452090059, 'grow_policy': 'lossguide'}. Best is trial 56 with value: 85.83295774340533.\n",
      "[I 2024-07-03 08:41:36,943] Trial 62 finished with value: 85.84006872108662 and parameters: {'booster': 'gbtree', 'lambda': 1.2373614156501057e-07, 'alpha': 2.980321111998419e-06, 'learning_rate': 0.001249224210364651, 'subsample': 0.26742406378360534, 'colsample_bytree': 0.07540080357380397, 'max_depth': 7, 'min_child_weight': 3, 'eta': 0.20516931638726035, 'gamma': 0.12614246565198756, 'grow_policy': 'lossguide'}. Best is trial 56 with value: 85.83295774340533.\n",
      "[I 2024-07-03 08:41:37,005] Trial 63 finished with value: 85.83792487170803 and parameters: {'booster': 'gbtree', 'lambda': 1.173263233856607e-07, 'alpha': 0.00014080991129529214, 'learning_rate': 0.0012356916543600992, 'subsample': 0.2643910856667058, 'colsample_bytree': 0.08162260226049675, 'max_depth': 7, 'min_child_weight': 3, 'eta': 0.3631957610643751, 'gamma': 0.10055315328269257, 'grow_policy': 'lossguide'}. Best is trial 56 with value: 85.83295774340533.\n"
     ]
    },
    {
     "name": "stdout",
     "output_type": "stream",
     "text": [
      "Trial: 60 - MSE: 86.52095152807212 - RMSE: 9.301663911799443\n",
      "Trial: 61 - MSE: 85.83773330553962 - RMSE: 9.26486553089356\n",
      "Trial: 62 - MSE: 85.84006872108662 - RMSE: 9.264991566163815\n",
      "Trial: 63 - MSE: 85.83792487170803 - RMSE: 9.264875869201273\n"
     ]
    },
    {
     "name": "stderr",
     "output_type": "stream",
     "text": [
      "[I 2024-07-03 08:41:37,071] Trial 64 finished with value: 87.35713563182259 and parameters: {'booster': 'gblinear', 'lambda': 1.0074655999809934e-07, 'alpha': 9.910002144068452e-05, 'learning_rate': 0.0012783891254185974, 'subsample': 0.22992626264695776, 'colsample_bytree': 0.16425507535486683}. Best is trial 56 with value: 85.83295774340533.\n",
      "[I 2024-07-03 08:41:37,138] Trial 65 finished with value: 85.87434796415386 and parameters: {'booster': 'gbtree', 'lambda': 1.4018541236632438e-07, 'alpha': 3.2681445510824333e-06, 'learning_rate': 0.0012644683946781857, 'subsample': 0.5902801248739401, 'colsample_bytree': 0.08181724195147336, 'max_depth': 7, 'min_child_weight': 3, 'eta': 0.2736875537320801, 'gamma': 0.016155225860689376, 'grow_policy': 'lossguide'}. Best is trial 56 with value: 85.83295774340533.\n",
      "[I 2024-07-03 08:41:37,220] Trial 66 finished with value: 86.27092303087528 and parameters: {'booster': 'gbtree', 'lambda': 1.2295393907240138e-07, 'alpha': 3.6762222911996564e-06, 'learning_rate': 0.001180701843483004, 'subsample': 0.2654931718589918, 'colsample_bytree': 0.21230059900115605, 'max_depth': 7, 'min_child_weight': 3, 'eta': 0.31417865140289586, 'gamma': 0.017246552600171366, 'grow_policy': 'lossguide'}. Best is trial 56 with value: 85.83295774340533.\n"
     ]
    },
    {
     "name": "stdout",
     "output_type": "stream",
     "text": [
      "Trial: 64 - MSE: 87.35713563182259 - RMSE: 9.346503925630298\n",
      "Trial: 65 - MSE: 85.87434796415386 - RMSE: 9.2668413153649\n",
      "Trial: 66 - MSE: 86.27092303087528 - RMSE: 9.28821420031188\n"
     ]
    },
    {
     "name": "stderr",
     "output_type": "stream",
     "text": [
      "[I 2024-07-03 08:41:37,300] Trial 67 finished with value: 85.8921480655596 and parameters: {'booster': 'gbtree', 'lambda': 2.6358576083919195e-08, 'alpha': 1.7603192677365227e-05, 'learning_rate': 0.0014164923281591631, 'subsample': 0.6006076651728738, 'colsample_bytree': 0.0732135559763705, 'max_depth': 7, 'min_child_weight': 4, 'eta': 0.20492028535219192, 'gamma': 0.04377423977855704, 'grow_policy': 'lossguide'}. Best is trial 56 with value: 85.83295774340533.\n",
      "[I 2024-07-03 08:41:37,392] Trial 68 finished with value: 85.8999522104849 and parameters: {'booster': 'gbtree', 'lambda': 1.1273784050009731e-07, 'alpha': 1.788525633986823e-05, 'learning_rate': 0.0013959297621387783, 'subsample': 0.6677303025614004, 'colsample_bytree': 0.07446879403064068, 'max_depth': 7, 'min_child_weight': 4, 'eta': 0.09615109656695452, 'gamma': 0.037078665899489376, 'grow_policy': 'lossguide'}. Best is trial 56 with value: 85.83295774340533.\n",
      "[I 2024-07-03 08:41:37,482] Trial 69 finished with value: 85.9598567025138 and parameters: {'booster': 'gbtree', 'lambda': 3.141636345818403e-08, 'alpha': 0.00014515918256751719, 'learning_rate': 0.0011978625761844904, 'subsample': 0.5790389039352815, 'colsample_bytree': 0.15143088413281075, 'max_depth': 7, 'min_child_weight': 3, 'eta': 0.40279328825482424, 'gamma': 0.10302543091631165, 'grow_policy': 'depthwise'}. Best is trial 56 with value: 85.83295774340533.\n"
     ]
    },
    {
     "name": "stdout",
     "output_type": "stream",
     "text": [
      "Trial: 67 - MSE: 85.8921480655596 - RMSE: 9.267801684626166\n",
      "Trial: 68 - MSE: 85.8999522104849 - RMSE: 9.268222710449123\n",
      "Trial: 69 - MSE: 85.9598567025138 - RMSE: 9.27145386131613\n"
     ]
    },
    {
     "name": "stderr",
     "output_type": "stream",
     "text": [
      "[I 2024-07-03 08:41:37,531] Trial 70 finished with value: 87.69129886981494 and parameters: {'booster': 'gblinear', 'lambda': 2.3994846281527872e-08, 'alpha': 1.7127010501785888e-06, 'learning_rate': 0.0015380932624411592, 'subsample': 0.6124702771087067, 'colsample_bytree': 0.07177849545848075}. Best is trial 56 with value: 85.83295774340533.\n",
      "[I 2024-07-03 08:41:37,591] Trial 71 finished with value: 85.90226273201108 and parameters: {'booster': 'gbtree', 'lambda': 1.2244126665512767e-07, 'alpha': 1.9952746129537533e-05, 'learning_rate': 0.0014077394425754525, 'subsample': 0.704439239676915, 'colsample_bytree': 0.11629495856508526, 'max_depth': 7, 'min_child_weight': 4, 'eta': 0.17969096195611925, 'gamma': 0.0360566425572002, 'grow_policy': 'lossguide'}. Best is trial 56 with value: 85.83295774340533.\n",
      "[I 2024-07-03 08:41:37,654] Trial 72 finished with value: 85.85356625262693 and parameters: {'booster': 'gbtree', 'lambda': 3.1926510682049965e-07, 'alpha': 1.7121981941775457e-05, 'learning_rate': 0.0010230640034804904, 'subsample': 0.6877063256267497, 'colsample_bytree': 0.0759001591562093, 'max_depth': 7, 'min_child_weight': 3, 'eta': 0.08008642464966574, 'gamma': 0.004148753387689342, 'grow_policy': 'lossguide'}. Best is trial 56 with value: 85.83295774340533.\n",
      "[I 2024-07-03 08:41:37,720] Trial 73 finished with value: 85.82778982256501 and parameters: {'booster': 'gbtree', 'lambda': 1.6586523274029169e-07, 'alpha': 0.0003740161996280632, 'learning_rate': 0.0011022524619568152, 'subsample': 0.2341377420333675, 'colsample_bytree': 0.11493961290148738, 'max_depth': 9, 'min_child_weight': 2, 'eta': 0.0599928507931647, 'gamma': 0.003870911570378928, 'grow_policy': 'lossguide'}. Best is trial 73 with value: 85.82778982256501.\n"
     ]
    },
    {
     "name": "stdout",
     "output_type": "stream",
     "text": [
      "Trial: 70 - MSE: 87.69129886981494 - RMSE: 9.364363238886824\n",
      "Trial: 71 - MSE: 85.90226273201108 - RMSE: 9.268347357108013\n",
      "Trial: 72 - MSE: 85.85356625262693 - RMSE: 9.265719953280852\n",
      "Trial: 73 - MSE: 85.82778982256501 - RMSE: 9.264328892184528\n"
     ]
    },
    {
     "name": "stderr",
     "output_type": "stream",
     "text": [
      "[I 2024-07-03 08:41:37,784] Trial 74 finished with value: 85.826129171804 and parameters: {'booster': 'gbtree', 'lambda': 2.3539536461198294e-07, 'alpha': 0.0002713983309940218, 'learning_rate': 0.0010717850800368426, 'subsample': 0.2283012444485945, 'colsample_bytree': 0.11073595446634747, 'max_depth': 9, 'min_child_weight': 2, 'eta': 0.0761798251814731, 'gamma': 0.001611479636637419, 'grow_policy': 'lossguide'}. Best is trial 74 with value: 85.826129171804.\n",
      "[I 2024-07-03 08:41:37,885] Trial 75 finished with value: 86.24382802653723 and parameters: {'booster': 'gbtree', 'lambda': 3.2468043583798855e-07, 'alpha': 0.00029156625720645236, 'learning_rate': 0.0010338175262990402, 'subsample': 0.22936159889255134, 'colsample_bytree': 0.24336429559882294, 'max_depth': 9, 'min_child_weight': 2, 'eta': 0.10405733039013891, 'gamma': 0.0007494480026204262, 'grow_policy': 'lossguide'}. Best is trial 74 with value: 85.826129171804.\n",
      "[I 2024-07-03 08:41:37,948] Trial 76 finished with value: 85.82040514792926 and parameters: {'booster': 'gbtree', 'lambda': 6.153362802392881e-07, 'alpha': 0.0011471508220748314, 'learning_rate': 0.001002737827637667, 'subsample': 0.20466176064508526, 'colsample_bytree': 0.11320379521367623, 'max_depth': 9, 'min_child_weight': 2, 'eta': 0.06983382228087344, 'gamma': 7.814049704902547e-05, 'grow_policy': 'lossguide'}. Best is trial 76 with value: 85.82040514792926.\n"
     ]
    },
    {
     "name": "stdout",
     "output_type": "stream",
     "text": [
      "Trial: 74 - MSE: 85.826129171804 - RMSE: 9.264239265681992\n",
      "Trial: 75 - MSE: 86.24382802653723 - RMSE: 9.286755516677353\n",
      "Trial: 76 - MSE: 85.82040514792926 - RMSE: 9.263930329397413\n"
     ]
    },
    {
     "name": "stderr",
     "output_type": "stream",
     "text": [
      "[I 2024-07-03 08:41:38,045] Trial 77 finished with value: 85.96031108772102 and parameters: {'booster': 'gbtree', 'lambda': 4.9109420269942e-07, 'alpha': 0.00859854018081373, 'learning_rate': 0.0011811172843907928, 'subsample': 0.20462297750774566, 'colsample_bytree': 0.1597381947424639, 'max_depth': 9, 'min_child_weight': 2, 'eta': 0.07039037436592543, 'gamma': 9.366563290462272e-05, 'grow_policy': 'lossguide'}. Best is trial 76 with value: 85.82040514792926.\n",
      "[I 2024-07-03 08:41:38,138] Trial 78 finished with value: 90.68417878928035 and parameters: {'booster': 'gbtree', 'lambda': 9.168003865057578e-07, 'alpha': 0.0015829417370766454, 'learning_rate': 0.0457624100681412, 'subsample': 0.23266194151540892, 'colsample_bytree': 0.11783108702389326, 'max_depth': 9, 'min_child_weight': 3, 'eta': 0.06159734136296115, 'gamma': 1.111794611579368e-05, 'grow_policy': 'depthwise'}. Best is trial 76 with value: 85.82040514792926.\n"
     ]
    },
    {
     "name": "stdout",
     "output_type": "stream",
     "text": [
      "Trial: 77 - MSE: 85.96031108772102 - RMSE: 9.271478365812058\n",
      "Trial: 78 - MSE: 90.68417878928035 - RMSE: 9.522824097361053\n"
     ]
    },
    {
     "name": "stderr",
     "output_type": "stream",
     "text": [
      "[I 2024-07-03 08:41:38,259] Trial 79 finished with value: 86.30462328517208 and parameters: {'booster': 'gbtree', 'lambda': 2.454531137171889e-07, 'alpha': 6.050467770373693e-05, 'learning_rate': 0.0010782519110120116, 'subsample': 0.33165332964264843, 'colsample_bytree': 0.20872118766319286, 'max_depth': 9, 'min_child_weight': 2, 'eta': 0.5202084811404536, 'gamma': 0.00018339224838457598, 'grow_policy': 'lossguide'}. Best is trial 76 with value: 85.82040514792926.\n",
      "[I 2024-07-03 08:41:38,344] Trial 80 finished with value: 85.82417720519433 and parameters: {'booster': 'gbtree', 'lambda': 1.0571722585472948e-05, 'alpha': 0.0009234538679804779, 'learning_rate': 0.0010032198182224042, 'subsample': 0.2700632989354432, 'colsample_bytree': 0.12196217175246417, 'max_depth': 9, 'min_child_weight': 3, 'eta': 0.017024623222533227, 'gamma': 0.0016339936161615697, 'grow_policy': 'lossguide'}. Best is trial 76 with value: 85.82040514792926.\n",
      "[I 2024-07-03 08:41:38,456] Trial 81 finished with value: 85.83770142677001 and parameters: {'booster': 'gbtree', 'lambda': 5.75327498301368e-05, 'alpha': 0.00042589167390527714, 'learning_rate': 0.001030378569035876, 'subsample': 0.29623806241076855, 'colsample_bytree': 0.11935913801119014, 'max_depth': 9, 'min_child_weight': 3, 'eta': 0.020954251248092134, 'gamma': 0.0020096045083718554, 'grow_policy': 'lossguide'}. Best is trial 76 with value: 85.82040514792926.\n"
     ]
    },
    {
     "name": "stdout",
     "output_type": "stream",
     "text": [
      "Trial: 79 - MSE: 86.30462328517208 - RMSE: 9.290028163852469\n",
      "Trial: 80 - MSE: 85.82417720519433 - RMSE: 9.264133915547331\n",
      "Trial: 81 - MSE: 85.83770142677001 - RMSE: 9.264863810481513\n"
     ]
    },
    {
     "name": "stderr",
     "output_type": "stream",
     "text": [
      "[I 2024-07-03 08:41:38,617] Trial 82 finished with value: 85.82450560909234 and parameters: {'booster': 'gbtree', 'lambda': 0.00012578339810788216, 'alpha': 0.00041333188125374534, 'learning_rate': 0.001001510745152222, 'subsample': 0.26845999599268194, 'colsample_bytree': 0.12000565496293575, 'max_depth': 9, 'min_child_weight': 3, 'eta': 0.010600196874896294, 'gamma': 0.001240507869051554, 'grow_policy': 'lossguide'}. Best is trial 76 with value: 85.82040514792926.\n",
      "[I 2024-07-03 08:41:38,796] Trial 83 finished with value: 85.89667123977718 and parameters: {'booster': 'gbtree', 'lambda': 5.172672359413205e-05, 'alpha': 0.00040613151263405766, 'learning_rate': 0.0016152294875176976, 'subsample': 0.29563861542941183, 'colsample_bytree': 0.12431567404396687, 'max_depth': 9, 'min_child_weight': 2, 'eta': 0.018394187778641467, 'gamma': 0.0013705311958470848, 'grow_policy': 'lossguide'}. Best is trial 76 with value: 85.82040514792926.\n"
     ]
    },
    {
     "name": "stdout",
     "output_type": "stream",
     "text": [
      "Trial: 82 - MSE: 85.82450560909234 - RMSE: 9.264151640009588\n",
      "Trial: 83 - MSE: 85.89667123977718 - RMSE: 9.268045707687094\n"
     ]
    },
    {
     "name": "stderr",
     "output_type": "stream",
     "text": [
      "[I 2024-07-03 08:41:38,943] Trial 84 finished with value: 85.89634587360048 and parameters: {'booster': 'gbtree', 'lambda': 0.00016845927662651874, 'alpha': 0.0008742363609066209, 'learning_rate': 0.0010026337123916515, 'subsample': 0.22123907344806862, 'colsample_bytree': 0.1670920669869308, 'max_depth': 9, 'min_child_weight': 2, 'eta': 0.01158973715704473, 'gamma': 0.0012857605824654948, 'grow_policy': 'lossguide'}. Best is trial 76 with value: 85.82040514792926.\n",
      "[I 2024-07-03 08:41:39,051] Trial 85 finished with value: 86.92141916987903 and parameters: {'booster': 'gbtree', 'lambda': 9.539167035079154e-06, 'alpha': 0.003282238730517872, 'learning_rate': 0.002222629235324963, 'subsample': 0.28201783688702037, 'colsample_bytree': 0.193761560921423, 'max_depth': 9, 'min_child_weight': 4, 'eta': 0.021990667946317943, 'gamma': 8.758782601183841e-05, 'grow_policy': 'lossguide'}. Best is trial 76 with value: 85.82040514792926.\n",
      "[I 2024-07-03 08:41:39,117] Trial 86 finished with value: 85.8377934321266 and parameters: {'booster': 'gbtree', 'lambda': 2.358010186240687e-05, 'alpha': 0.0009379308703830344, 'learning_rate': 0.0011431936314925712, 'subsample': 0.24515251062736393, 'colsample_bytree': 0.11215132196914047, 'max_depth': 9, 'min_child_weight': 3, 'eta': 0.006644321332998993, 'gamma': 3.8690419948528396e-05, 'grow_policy': 'lossguide'}. Best is trial 76 with value: 85.82040514792926.\n"
     ]
    },
    {
     "name": "stdout",
     "output_type": "stream",
     "text": [
      "Trial: 84 - MSE: 85.89634587360048 - RMSE: 9.268028154553722\n",
      "Trial: 85 - MSE: 86.92141916987903 - RMSE: 9.323165726826861\n",
      "Trial: 86 - MSE: 85.8377934321266 - RMSE: 9.264868775763993\n"
     ]
    },
    {
     "name": "stderr",
     "output_type": "stream",
     "text": [
      "[I 2024-07-03 08:41:39,199] Trial 87 finished with value: 85.88416089588068 and parameters: {'booster': 'gbtree', 'lambda': 5.803386853916103e-05, 'alpha': 0.0009155216187001083, 'learning_rate': 0.0016300667149306543, 'subsample': 0.24436475237864325, 'colsample_bytree': 0.11270481185741058, 'max_depth': 9, 'min_child_weight': 2, 'eta': 0.006257316595893863, 'gamma': 2.7835328985394303e-05, 'grow_policy': 'lossguide'}. Best is trial 76 with value: 85.82040514792926.\n",
      "[I 2024-07-03 08:41:39,400] Trial 88 finished with value: 87.22112337669722 and parameters: {'booster': 'gbtree', 'lambda': 2.218640242740484e-05, 'alpha': 0.0004747479558612401, 'learning_rate': 0.0011225075880694872, 'subsample': 0.37021251402282057, 'colsample_bytree': 0.8836243855094534, 'max_depth': 9, 'min_child_weight': 3, 'eta': 0.009001497922341431, 'gamma': 0.0002537260353436153, 'grow_policy': 'lossguide'}. Best is trial 76 with value: 85.82040514792926.\n"
     ]
    },
    {
     "name": "stdout",
     "output_type": "stream",
     "text": [
      "Trial: 87 - MSE: 85.88416089588068 - RMSE: 9.267370764994821\n",
      "Trial: 88 - MSE: 87.22112337669722 - RMSE: 9.339224988011436\n"
     ]
    },
    {
     "name": "stderr",
     "output_type": "stream",
     "text": [
      "[I 2024-07-03 08:41:39,445] Trial 89 finished with value: 88.16751873269835 and parameters: {'booster': 'gblinear', 'lambda': 9.908354640800639e-05, 'alpha': 0.005984891772777083, 'learning_rate': 0.0019094156718459001, 'subsample': 0.33923210498131084, 'colsample_bytree': 0.26151252653635093}. Best is trial 76 with value: 85.82040514792926.\n",
      "[I 2024-07-03 08:41:39,527] Trial 90 finished with value: 86.2605361181169 and parameters: {'booster': 'dart', 'lambda': 8.95661509174313e-06, 'alpha': 0.030204070127809932, 'learning_rate': 0.0011140731564598934, 'subsample': 0.30585973994898574, 'colsample_bytree': 0.1419180418839383, 'max_depth': 9, 'min_child_weight': 2, 'eta': 0.0023635597371020533, 'gamma': 0.002584769639979161, 'grow_policy': 'depthwise', 'sample_type': 'uniform', 'normalize_type': 'forest', 'rate_drop': 0.005031303848356888, 'skip_drop': 1.6844419162016597e-08}. Best is trial 76 with value: 85.82040514792926.\n",
      "[I 2024-07-03 08:41:39,599] Trial 91 finished with value: 85.85075872168254 and parameters: {'booster': 'gbtree', 'lambda': 3.1300562069929095e-05, 'alpha': 0.00024859708124725673, 'learning_rate': 0.0012763327050855867, 'subsample': 0.2704348222475138, 'colsample_bytree': 0.050135093163232655, 'max_depth': 9, 'min_child_weight': 3, 'eta': 0.024291447351101014, 'gamma': 4.5408648222805256e-05, 'grow_policy': 'lossguide'}. Best is trial 76 with value: 85.82040514792926.\n"
     ]
    },
    {
     "name": "stdout",
     "output_type": "stream",
     "text": [
      "Trial: 89 - MSE: 88.16751873269835 - RMSE: 9.389756052885419\n",
      "Trial: 90 - MSE: 86.2605361181169 - RMSE: 9.287655038712243\n",
      "Trial: 91 - MSE: 85.85075872168254 - RMSE: 9.265568451081808\n"
     ]
    },
    {
     "name": "stderr",
     "output_type": "stream",
     "text": [
      "[I 2024-07-03 08:41:39,671] Trial 92 finished with value: 85.8378853939556 and parameters: {'booster': 'gbtree', 'lambda': 1.4913266366597869e-05, 'alpha': 0.0012158774861142773, 'learning_rate': 0.0011445926496995043, 'subsample': 0.2445140260352659, 'colsample_bytree': 0.10875562248175495, 'max_depth': 9, 'min_child_weight': 3, 'eta': 0.05819538024691283, 'gamma': 0.0006589835912041024, 'grow_policy': 'lossguide'}. Best is trial 76 with value: 85.82040514792926.\n",
      "[I 2024-07-03 08:41:39,764] Trial 93 finished with value: 85.83843404390159 and parameters: {'booster': 'gbtree', 'lambda': 1.651231839690594e-05, 'alpha': 0.0020047176991093126, 'learning_rate': 0.0011265156649386072, 'subsample': 0.20224488272700297, 'colsample_bytree': 0.11414646959168724, 'max_depth': 9, 'min_child_weight': 2, 'eta': 0.04667907675837489, 'gamma': 0.0005616108246690518, 'grow_policy': 'lossguide'}. Best is trial 76 with value: 85.82040514792926.\n"
     ]
    },
    {
     "name": "stdout",
     "output_type": "stream",
     "text": [
      "Trial: 92 - MSE: 85.8378853939556 - RMSE: 9.264873738694748\n",
      "Trial: 93 - MSE: 85.83843404390159 - RMSE: 9.264903347790606\n"
     ]
    },
    {
     "name": "stderr",
     "output_type": "stream",
     "text": [
      "[I 2024-07-03 08:41:39,926] Trial 94 finished with value: 85.89757697738543 and parameters: {'booster': 'gbtree', 'lambda': 4.759999996061902e-06, 'alpha': 0.0006787602059012026, 'learning_rate': 0.0010217815834611306, 'subsample': 0.2403273015176574, 'colsample_bytree': 0.15537170448713766, 'max_depth': 9, 'min_child_weight': 3, 'eta': 0.0035085194869053987, 'gamma': 0.0009798918402371363, 'grow_policy': 'lossguide'}. Best is trial 76 with value: 85.82040514792926.\n",
      "[I 2024-07-03 08:41:40,032] Trial 95 finished with value: 86.40284261845912 and parameters: {'booster': 'gbtree', 'lambda': 0.00026806380316184185, 'alpha': 0.0011547705830227835, 'learning_rate': 0.001357776012769899, 'subsample': 0.22761158100692563, 'colsample_bytree': 0.22185302042076338, 'max_depth': 9, 'min_child_weight': 4, 'eta': 0.009458498384033802, 'gamma': 0.0002142763362206486, 'grow_policy': 'lossguide'}. Best is trial 76 with value: 85.82040514792926.\n"
     ]
    },
    {
     "name": "stdout",
     "output_type": "stream",
     "text": [
      "Trial: 94 - MSE: 85.89757697738543 - RMSE: 9.26809457102081\n",
      "Trial: 95 - MSE: 86.40284261845912 - RMSE: 9.29531293816723\n"
     ]
    },
    {
     "name": "stderr",
     "output_type": "stream",
     "text": [
      "[I 2024-07-03 08:41:40,205] Trial 96 finished with value: 87.31716464597388 and parameters: {'booster': 'gbtree', 'lambda': 1.5297688792877094e-05, 'alpha': 0.002901921844752947, 'learning_rate': 0.001594502610073617, 'subsample': 0.2895707817571205, 'colsample_bytree': 0.4286775231923314, 'max_depth': 9, 'min_child_weight': 2, 'eta': 0.028685260125854525, 'gamma': 0.00492828446998653, 'grow_policy': 'lossguide'}. Best is trial 76 with value: 85.82040514792926.\n",
      "[I 2024-07-03 08:41:40,286] Trial 97 finished with value: 90.22374025520445 and parameters: {'booster': 'gbtree', 'lambda': 7.76519113720228e-05, 'alpha': 0.00038006165968127283, 'learning_rate': 0.02401364800110825, 'subsample': 0.25326978259019284, 'colsample_bytree': 0.1824106932951428, 'max_depth': 9, 'min_child_weight': 3, 'eta': 0.05501851424843677, 'gamma': 0.002060630390464048, 'grow_policy': 'lossguide'}. Best is trial 76 with value: 85.82040514792926.\n",
      "[I 2024-07-03 08:41:40,384] Trial 98 finished with value: 86.05345728909711 and parameters: {'booster': 'gbtree', 'lambda': 1.7654300538592261e-06, 'alpha': 0.00019280247589317011, 'learning_rate': 0.0019216214438895008, 'subsample': 0.22151542255340192, 'colsample_bytree': 0.13426845461488535, 'max_depth': 9, 'min_child_weight': 5, 'eta': 0.0036406546718435744, 'gamma': 1.4617199156656692e-05, 'grow_policy': 'lossguide'}. Best is trial 76 with value: 85.82040514792926.\n"
     ]
    },
    {
     "name": "stdout",
     "output_type": "stream",
     "text": [
      "Trial: 96 - MSE: 87.31716464597388 - RMSE: 9.344365395572558\n",
      "Trial: 97 - MSE: 90.22374025520445 - RMSE: 9.49861780761835\n",
      "Trial: 98 - MSE: 86.05345728909711 - RMSE: 9.27650027160551\n"
     ]
    },
    {
     "name": "stderr",
     "output_type": "stream",
     "text": [
      "[I 2024-07-03 08:41:40,523] Trial 99 finished with value: 85.86225255818445 and parameters: {'booster': 'gbtree', 'lambda': 7.311038960579585e-06, 'alpha': 0.003996618520918836, 'learning_rate': 0.001149897959782671, 'subsample': 0.356284072553164, 'colsample_bytree': 0.10790116031387059, 'max_depth': 9, 'min_child_weight': 3, 'eta': 0.017776398412860713, 'gamma': 0.00037059263556060105, 'grow_policy': 'lossguide'}. Best is trial 76 with value: 85.82040514792926.\n"
     ]
    },
    {
     "name": "stdout",
     "output_type": "stream",
     "text": [
      "Trial: 99 - MSE: 85.86225255818445 - RMSE: 9.266188674864356\n"
     ]
    }
   ],
   "source": [
    "# configuration optuna\n",
    "study_g = optuna.create_study(direction='minimize', sampler=sampler)\n",
    "study_g.optimize(lambda trial: objective(trial, X_g_train, y_g_train, X_g_test, y_g_test), n_trials=n_trials)"
   ]
  },
  {
   "cell_type": "code",
   "execution_count": 17,
   "metadata": {},
   "outputs": [
    {
     "name": "stdout",
     "output_type": "stream",
     "text": [
      "Número de pruebas: 100\n",
      "Mejor prueba: 76\n",
      "Mejores parametros: {'booster': 'gbtree', 'lambda': 6.153362802392881e-07, 'alpha': 0.0011471508220748314, 'learning_rate': 0.001002737827637667, 'subsample': 0.20466176064508526, 'colsample_bytree': 0.11320379521367623, 'max_depth': 9, 'min_child_weight': 2, 'eta': 0.06983382228087344, 'gamma': 7.814049704902547e-05, 'grow_policy': 'lossguide'}\n",
      "Mejor valor de pérdida: 85.82040514792926\n"
     ]
    }
   ],
   "source": [
    "# Results\n",
    "print(f'Número de pruebas: {len(study_g.trials)}')\n",
    "trial = study_g.best_trial\n",
    "print(f'Mejor prueba: {trial.number}')\n",
    "print(f'Mejores parametros: {trial.params}')\n",
    "print(f'Mejor valor de pérdida: {trial.value}')"
   ]
  },
  {
   "cell_type": "markdown",
   "metadata": {},
   "source": [
    "## Single Thread"
   ]
  },
  {
   "cell_type": "code",
   "execution_count": 18,
   "metadata": {},
   "outputs": [
    {
     "name": "stderr",
     "output_type": "stream",
     "text": [
      "[I 2024-07-03 08:41:40,566] A new study created in memory with name: no-name-245d68df-af6a-41e7-b893-b81a2c8ae466\n",
      "[I 2024-07-03 08:41:41,049] Trial 0 finished with value: 38.328243770616474 and parameters: {'booster': 'gblinear', 'lambda': 5.982221423148757e-07, 'alpha': 9.09751831698106e-08, 'learning_rate': 0.0047340227734041914, 'subsample': 0.9543277631300153, 'colsample_bytree': 0.35704278541971746}. Best is trial 0 with value: 38.328243770616474.\n",
      "[I 2024-07-03 08:41:41,168] Trial 1 finished with value: 37.6305901348109 and parameters: {'booster': 'gblinear', 'lambda': 0.5946434805027183, 'alpha': 0.5007008855904077, 'learning_rate': 0.0031883397351001883, 'subsample': 0.5977988047139084, 'colsample_bytree': 0.33583439432593115}. Best is trial 1 with value: 37.6305901348109.\n",
      "[I 2024-07-03 08:41:41,230] Trial 2 finished with value: 37.45153887219448 and parameters: {'booster': 'dart', 'lambda': 0.00010505873950469604, 'alpha': 2.5812496493273626e-08, 'learning_rate': 0.0036082193273637873, 'subsample': 0.9266127087733229, 'colsample_bytree': 0.2775837961336238, 'max_depth': 3, 'min_child_weight': 6, 'eta': 0.7677213757517419, 'gamma': 8.638576272048768e-07, 'grow_policy': 'lossguide', 'sample_type': 'weighted', 'normalize_type': 'forest', 'rate_drop': 0.001170139624377905, 'skip_drop': 0.00019328469778518898}. Best is trial 2 with value: 37.45153887219448.\n"
     ]
    },
    {
     "name": "stdout",
     "output_type": "stream",
     "text": [
      "Trial: 0 - MSE: 38.328243770616474 - RMSE: 6.190980840756695\n",
      "Trial: 1 - MSE: 37.6305901348109 - RMSE: 6.134377730040017\n",
      "Trial: 2 - MSE: 37.45153887219448 - RMSE: 6.119766243264074\n"
     ]
    },
    {
     "name": "stderr",
     "output_type": "stream",
     "text": [
      "[I 2024-07-03 08:41:41,298] Trial 3 finished with value: 41.784133482949656 and parameters: {'booster': 'gblinear', 'lambda': 3.105618343239014e-07, 'alpha': 2.1193424275165945e-08, 'learning_rate': 0.01519798062003422, 'subsample': 0.7420514894738259, 'colsample_bytree': 0.06575843748146334}. Best is trial 2 with value: 37.45153887219448.\n",
      "[I 2024-07-03 08:41:41,356] Trial 4 finished with value: 37.50969335293937 and parameters: {'booster': 'dart', 'lambda': 2.482741090341392e-07, 'alpha': 0.0033690069338789532, 'learning_rate': 0.005935682912014687, 'subsample': 0.9493839909893877, 'colsample_bytree': 0.18064489693869357, 'max_depth': 5, 'min_child_weight': 3, 'eta': 0.24977498768365702, 'gamma': 0.10440344445480765, 'grow_policy': 'lossguide', 'sample_type': 'uniform', 'normalize_type': 'tree', 'rate_drop': 5.556766432156757e-08, 'skip_drop': 0.15056570556337193}. Best is trial 2 with value: 37.45153887219448.\n",
      "[I 2024-07-03 08:41:41,458] Trial 5 finished with value: 56.27911635462043 and parameters: {'booster': 'gbtree', 'lambda': 6.218370535731491e-06, 'alpha': 0.006421632248858025, 'learning_rate': 0.06226163482363463, 'subsample': 0.9096691394120939, 'colsample_bytree': 0.7908817685647427, 'max_depth': 7, 'min_child_weight': 2, 'eta': 1.9634946069845978e-07, 'gamma': 0.1543240130559408, 'grow_policy': 'depthwise'}. Best is trial 2 with value: 37.45153887219448.\n"
     ]
    },
    {
     "name": "stdout",
     "output_type": "stream",
     "text": [
      "Trial: 3 - MSE: 41.784133482949656 - RMSE: 6.464064780225339\n",
      "Trial: 4 - MSE: 37.50969335293937 - RMSE: 6.124515764771887\n",
      "Trial: 5 - MSE: 56.27911635462043 - RMSE: 7.501940839184246\n"
     ]
    },
    {
     "name": "stderr",
     "output_type": "stream",
     "text": [
      "[I 2024-07-03 08:41:41,500] Trial 6 finished with value: 45.685717689539906 and parameters: {'booster': 'gblinear', 'lambda': 1.9340353658219098e-07, 'alpha': 0.0002453976022270095, 'learning_rate': 0.02419860861453868, 'subsample': 0.7215690076020804, 'colsample_bytree': 0.2630558439875318}. Best is trial 2 with value: 37.45153887219448.\n",
      "[I 2024-07-03 08:41:41,526] Trial 7 finished with value: 41.40192167675558 and parameters: {'booster': 'gbtree', 'lambda': 0.009374135805053809, 'alpha': 0.0015742119048074215, 'learning_rate': 0.04993980255757075, 'subsample': 0.7260903138402748, 'colsample_bytree': 0.589893173168698, 'max_depth': 3, 'min_child_weight': 5, 'eta': 1.323180041438319e-06, 'gamma': 8.951939677269576e-07, 'grow_policy': 'depthwise'}. Best is trial 2 with value: 37.45153887219448.\n",
      "[I 2024-07-03 08:41:41,568] Trial 8 finished with value: 38.33426474339686 and parameters: {'booster': 'gbtree', 'lambda': 0.0001049776254156589, 'alpha': 0.00041231684401416913, 'learning_rate': 0.009661295989662243, 'subsample': 0.35619439023843563, 'colsample_bytree': 0.7363295094984301, 'max_depth': 5, 'min_child_weight': 2, 'eta': 0.001458069976078536, 'gamma': 2.6114723699890803e-07, 'grow_policy': 'lossguide'}. Best is trial 2 with value: 37.45153887219448.\n",
      "[I 2024-07-03 08:41:41,616] Trial 9 finished with value: 61.60940941465664 and parameters: {'booster': 'gbtree', 'lambda': 0.26702289536190754, 'alpha': 2.6636256387062175e-05, 'learning_rate': 0.0857649103704616, 'subsample': 0.9708959816714022, 'colsample_bytree': 0.860358982693992, 'max_depth': 5, 'min_child_weight': 5, 'eta': 0.06443077750479237, 'gamma': 3.4306470638162755e-06, 'grow_policy': 'lossguide'}. Best is trial 2 with value: 37.45153887219448.\n"
     ]
    },
    {
     "name": "stdout",
     "output_type": "stream",
     "text": [
      "Trial: 6 - MSE: 45.685717689539906 - RMSE: 6.759121073744715\n",
      "Trial: 7 - MSE: 41.40192167675558 - RMSE: 6.43443250619319\n",
      "Trial: 8 - MSE: 38.33426474339686 - RMSE: 6.191467091360242\n",
      "Trial: 9 - MSE: 61.60940941465664 - RMSE: 7.849166160469317\n"
     ]
    },
    {
     "name": "stderr",
     "output_type": "stream",
     "text": [
      "[I 2024-07-03 08:41:41,755] Trial 10 finished with value: 37.37277189426781 and parameters: {'booster': 'dart', 'lambda': 0.0006435451114107309, 'alpha': 1.636577475061595e-06, 'learning_rate': 0.001029794192070581, 'subsample': 0.2655167063104652, 'colsample_bytree': 0.5140702646219141, 'max_depth': 9, 'min_child_weight': 10, 'eta': 0.0001738611119047299, 'gamma': 1.0984925579562777e-08, 'grow_policy': 'lossguide', 'sample_type': 'weighted', 'normalize_type': 'forest', 'rate_drop': 0.024228872831730548, 'skip_drop': 1.131685687941958e-06}. Best is trial 10 with value: 37.37277189426781.\n",
      "[I 2024-07-03 08:41:41,891] Trial 11 finished with value: 37.3717597866754 and parameters: {'booster': 'dart', 'lambda': 0.0005905957729906544, 'alpha': 1.1028854704986314e-06, 'learning_rate': 0.0010147233890814484, 'subsample': 0.21383094428575056, 'colsample_bytree': 0.5206141527539794, 'max_depth': 9, 'min_child_weight': 10, 'eta': 0.00011284320192758211, 'gamma': 1.0780649319200475e-08, 'grow_policy': 'lossguide', 'sample_type': 'weighted', 'normalize_type': 'forest', 'rate_drop': 0.04971698635332381, 'skip_drop': 7.181656014975824e-07}. Best is trial 11 with value: 37.3717597866754.\n"
     ]
    },
    {
     "name": "stdout",
     "output_type": "stream",
     "text": [
      "Trial: 10 - MSE: 37.37277189426781 - RMSE: 6.1133273995646435\n",
      "Trial: 11 - MSE: 37.3717597866754 - RMSE: 6.1132446202221775\n"
     ]
    },
    {
     "name": "stderr",
     "output_type": "stream",
     "text": [
      "[I 2024-07-03 08:41:42,025] Trial 12 finished with value: 37.376412269337386 and parameters: {'booster': 'dart', 'lambda': 0.002861321860856933, 'alpha': 2.169743829653582e-06, 'learning_rate': 0.0010976012109309905, 'subsample': 0.21699189227627333, 'colsample_bytree': 0.5052081927005335, 'max_depth': 9, 'min_child_weight': 10, 'eta': 5.447021001058909e-05, 'gamma': 1.8423105832251252e-08, 'grow_policy': 'lossguide', 'sample_type': 'weighted', 'normalize_type': 'forest', 'rate_drop': 0.17808379444096364, 'skip_drop': 6.621871286186046e-08}. Best is trial 11 with value: 37.3717597866754.\n",
      "[I 2024-07-03 08:41:42,159] Trial 13 finished with value: 37.38647272208999 and parameters: {'booster': 'dart', 'lambda': 0.001304973475641691, 'alpha': 3.6405404295483142e-06, 'learning_rate': 0.0010790637694737112, 'subsample': 0.20616724350648147, 'colsample_bytree': 0.5952712095127921, 'max_depth': 9, 'min_child_weight': 10, 'eta': 8.708283176386352e-05, 'gamma': 1.1250678412477786e-08, 'grow_policy': 'lossguide', 'sample_type': 'weighted', 'normalize_type': 'forest', 'rate_drop': 0.42784190441118725, 'skip_drop': 2.1531232383546928e-07}. Best is trial 11 with value: 37.3717597866754.\n"
     ]
    },
    {
     "name": "stdout",
     "output_type": "stream",
     "text": [
      "Trial: 12 - MSE: 37.376412269337386 - RMSE: 6.11362513320349\n",
      "Trial: 13 - MSE: 37.38647272208999 - RMSE: 6.114447867313122\n"
     ]
    },
    {
     "name": "stderr",
     "output_type": "stream",
     "text": [
      "[I 2024-07-03 08:41:42,293] Trial 14 finished with value: 37.46119942303691 and parameters: {'booster': 'dart', 'lambda': 0.042922794331455134, 'alpha': 1.5924744647547963e-06, 'learning_rate': 0.0022227957181967305, 'subsample': 0.38406789209664893, 'colsample_bytree': 0.48368174509844464, 'max_depth': 9, 'min_child_weight': 8, 'eta': 0.0019425174832076336, 'gamma': 0.0023570221337197595, 'grow_policy': 'lossguide', 'sample_type': 'weighted', 'normalize_type': 'forest', 'rate_drop': 0.0011524143430250396, 'skip_drop': 8.153423391794905e-06}. Best is trial 11 with value: 37.3717597866754.\n",
      "[I 2024-07-03 08:41:42,379] Trial 15 finished with value: 37.46899118408496 and parameters: {'booster': 'dart', 'lambda': 9.892777326016302e-06, 'alpha': 3.3373222033877286e-07, 'learning_rate': 0.0017760017145873716, 'subsample': 0.3632651352091969, 'colsample_bytree': 0.6933365129152718, 'max_depth': 7, 'min_child_weight': 8, 'eta': 1.7610125098778754e-05, 'gamma': 0.00034269537089411377, 'grow_policy': 'depthwise', 'sample_type': 'weighted', 'normalize_type': 'forest', 'rate_drop': 0.013932694243830934, 'skip_drop': 1.0346918440952932e-05}. Best is trial 11 with value: 37.3717597866754.\n",
      "[I 2024-07-03 08:41:42,494] Trial 16 finished with value: 37.39355951373675 and parameters: {'booster': 'dart', 'lambda': 0.0006224119791189955, 'alpha': 2.2199975059694978e-05, 'learning_rate': 0.0018663064280683623, 'subsample': 0.49196604881292477, 'colsample_bytree': 0.4263786095315454, 'max_depth': 7, 'min_child_weight': 8, 'eta': 3.134392403075937e-06, 'gamma': 2.4868048228837702e-05, 'grow_policy': 'lossguide', 'sample_type': 'uniform', 'normalize_type': 'tree', 'rate_drop': 9.78931621675462e-07, 'skip_drop': 8.905767736214084e-07}. Best is trial 11 with value: 37.3717597866754.\n"
     ]
    },
    {
     "name": "stdout",
     "output_type": "stream",
     "text": [
      "Trial: 14 - MSE: 37.46119942303691 - RMSE: 6.120555483208768\n",
      "Trial: 15 - MSE: 37.46899118408496 - RMSE: 6.121191974124399\n",
      "Trial: 16 - MSE: 37.39355951373675 - RMSE: 6.115027351838808\n"
     ]
    },
    {
     "name": "stderr",
     "output_type": "stream",
     "text": [
      "[I 2024-07-03 08:41:42,715] Trial 17 finished with value: 37.41098625902569 and parameters: {'booster': 'dart', 'lambda': 2.0312685111067326e-05, 'alpha': 3.8625987392216057e-07, 'learning_rate': 0.001051772507876599, 'subsample': 0.2932739428058193, 'colsample_bytree': 0.9637234214960361, 'max_depth': 9, 'min_child_weight': 9, 'eta': 0.005776452767727384, 'gamma': 8.349559932149901e-08, 'grow_policy': 'lossguide', 'sample_type': 'weighted', 'normalize_type': 'forest', 'rate_drop': 2.6243175129831318e-05, 'skip_drop': 1.174296099672672e-08}. Best is trial 11 with value: 37.3717597866754.\n",
      "[I 2024-07-03 08:41:42,813] Trial 18 finished with value: 38.44992424046621 and parameters: {'booster': 'dart', 'lambda': 0.016559082097781546, 'alpha': 1.9010954137229064e-05, 'learning_rate': 0.00897357461029241, 'subsample': 0.46555149661378425, 'colsample_bytree': 0.6348729334330826, 'max_depth': 9, 'min_child_weight': 10, 'eta': 1.056398865139839e-08, 'gamma': 2.5070627251206754e-05, 'grow_policy': 'depthwise', 'sample_type': 'weighted', 'normalize_type': 'forest', 'rate_drop': 0.012754955793348247, 'skip_drop': 0.0005927502404070866}. Best is trial 11 with value: 37.3717597866754.\n"
     ]
    },
    {
     "name": "stdout",
     "output_type": "stream",
     "text": [
      "Trial: 17 - MSE: 37.41098625902569 - RMSE: 6.116452097337613\n",
      "Trial: 18 - MSE: 38.44992424046621 - RMSE: 6.200800290322711\n"
     ]
    },
    {
     "name": "stderr",
     "output_type": "stream",
     "text": [
      "[I 2024-07-03 08:41:42,963] Trial 19 finished with value: 37.34611110605633 and parameters: {'booster': 'dart', 'lambda': 3.230314357438435e-08, 'alpha': 0.09040730478334003, 'learning_rate': 0.0026222851091364735, 'subsample': 0.3022641992927392, 'colsample_bytree': 0.4525370129178063, 'max_depth': 7, 'min_child_weight': 7, 'eta': 0.0003900128914064682, 'gamma': 6.789210039049462e-08, 'grow_policy': 'lossguide', 'sample_type': 'uniform', 'normalize_type': 'tree', 'rate_drop': 0.8628466639586987, 'skip_drop': 4.485931026469658e-06}. Best is trial 19 with value: 37.34611110605633.\n",
      "[I 2024-07-03 08:41:43,075] Trial 20 finished with value: 37.34289017807002 and parameters: {'booster': 'dart', 'lambda': 1.9328399985824846e-06, 'alpha': 0.9315657959127279, 'learning_rate': 0.002715368165755749, 'subsample': 0.46539455262693274, 'colsample_bytree': 0.41353823200051926, 'max_depth': 7, 'min_child_weight': 7, 'eta': 0.01133747725480565, 'gamma': 1.1820288922937312e-07, 'grow_policy': 'lossguide', 'sample_type': 'uniform', 'normalize_type': 'tree', 'rate_drop': 0.8496224239462975, 'skip_drop': 0.005784770043605039}. Best is trial 20 with value: 37.34289017807002.\n"
     ]
    },
    {
     "name": "stdout",
     "output_type": "stream",
     "text": [
      "Trial: 19 - MSE: 37.34611110605633 - RMSE: 6.111146464130632\n",
      "Trial: 20 - MSE: 37.34289017807002 - RMSE: 6.11088292950127\n"
     ]
    },
    {
     "name": "stderr",
     "output_type": "stream",
     "text": [
      "[I 2024-07-03 08:41:43,191] Trial 21 finished with value: 37.351425543463456 and parameters: {'booster': 'dart', 'lambda': 2.8146085682694242e-08, 'alpha': 0.879632608224854, 'learning_rate': 0.002526968062360818, 'subsample': 0.4795941558950022, 'colsample_bytree': 0.41233735456804066, 'max_depth': 7, 'min_child_weight': 7, 'eta': 0.015805088436826008, 'gamma': 1.0334823192123723e-07, 'grow_policy': 'lossguide', 'sample_type': 'uniform', 'normalize_type': 'tree', 'rate_drop': 0.6255236439108649, 'skip_drop': 0.011314849122971591}. Best is trial 20 with value: 37.34289017807002.\n",
      "[I 2024-07-03 08:41:43,305] Trial 22 finished with value: 37.35261946359823 and parameters: {'booster': 'dart', 'lambda': 1.23771100226615e-08, 'alpha': 0.9274721993268404, 'learning_rate': 0.002865523689524181, 'subsample': 0.5355015788155695, 'colsample_bytree': 0.40264900643125395, 'max_depth': 7, 'min_child_weight': 7, 'eta': 0.02309909781457172, 'gamma': 1.53083274079361e-07, 'grow_policy': 'lossguide', 'sample_type': 'uniform', 'normalize_type': 'tree', 'rate_drop': 0.7903673226377171, 'skip_drop': 0.011968369049092398}. Best is trial 20 with value: 37.34289017807002.\n",
      "[I 2024-07-03 08:41:43,391] Trial 23 finished with value: 37.44974231594299 and parameters: {'booster': 'dart', 'lambda': 1.3317477534707658e-08, 'alpha': 0.0780745910834051, 'learning_rate': 0.006891542059097689, 'subsample': 0.44127454502224467, 'colsample_bytree': 0.17959147283070817, 'max_depth': 7, 'min_child_weight': 6, 'eta': 0.0150720216306674, 'gamma': 1.9572682016352028e-06, 'grow_policy': 'lossguide', 'sample_type': 'uniform', 'normalize_type': 'tree', 'rate_drop': 0.5680819102974417, 'skip_drop': 0.004352101677064927}. Best is trial 20 with value: 37.34289017807002.\n"
     ]
    },
    {
     "name": "stdout",
     "output_type": "stream",
     "text": [
      "Trial: 21 - MSE: 37.351425543463456 - RMSE: 6.111581263753552\n",
      "Trial: 22 - MSE: 37.35261946359823 - RMSE: 6.111678939833\n",
      "Trial: 23 - MSE: 37.44974231594299 - RMSE: 6.119619458425744\n"
     ]
    },
    {
     "name": "stderr",
     "output_type": "stream",
     "text": [
      "[I 2024-07-03 08:41:43,490] Trial 24 finished with value: 37.40336612400212 and parameters: {'booster': 'dart', 'lambda': 5.5568521742013894e-08, 'alpha': 0.06162664998410443, 'learning_rate': 0.004354520905076209, 'subsample': 0.6195278333894502, 'colsample_bytree': 0.41413486453565396, 'max_depth': 7, 'min_child_weight': 7, 'eta': 0.0013638482891882293, 'gamma': 8.195774507437256e-08, 'grow_policy': 'lossguide', 'sample_type': 'uniform', 'normalize_type': 'tree', 'rate_drop': 0.8477985076363596, 'skip_drop': 0.2895842705896903}. Best is trial 20 with value: 37.34289017807002.\n",
      "[I 2024-07-03 08:41:43,582] Trial 25 finished with value: 37.38745601844926 and parameters: {'booster': 'dart', 'lambda': 1.261123479701561e-06, 'alpha': 0.11824091460942565, 'learning_rate': 0.0022615481173900837, 'subsample': 0.5616566673475746, 'colsample_bytree': 0.2704961778053831, 'max_depth': 5, 'min_child_weight': 7, 'eta': 0.07950573184009516, 'gamma': 3.857015883824858e-06, 'grow_policy': 'lossguide', 'sample_type': 'uniform', 'normalize_type': 'tree', 'rate_drop': 0.0011501141607981997, 'skip_drop': 0.017560569679410283}. Best is trial 20 with value: 37.34289017807002.\n"
     ]
    },
    {
     "name": "stdout",
     "output_type": "stream",
     "text": [
      "Trial: 24 - MSE: 37.40336612400212 - RMSE: 6.115829144441669\n",
      "Trial: 25 - MSE: 37.38745601844926 - RMSE: 6.114528274400999\n"
     ]
    },
    {
     "name": "stderr",
     "output_type": "stream",
     "text": [
      "[I 2024-07-03 08:41:43,694] Trial 26 finished with value: 37.36598488124891 and parameters: {'booster': 'dart', 'lambda': 5.737939225851028e-08, 'alpha': 0.015565488523214915, 'learning_rate': 0.0015451472603645112, 'subsample': 0.41756859995332607, 'colsample_bytree': 0.3314661140066405, 'max_depth': 7, 'min_child_weight': 5, 'eta': 0.0006244183574521223, 'gamma': 3.2936999058435745e-07, 'grow_policy': 'depthwise', 'sample_type': 'uniform', 'normalize_type': 'tree', 'rate_drop': 0.05866404960490833, 'skip_drop': 0.0013148084744159206}. Best is trial 20 with value: 37.34289017807002.\n",
      "[I 2024-07-03 08:41:43,850] Trial 27 finished with value: 39.525747531291906 and parameters: {'booster': 'dart', 'lambda': 3.1523116453890584e-06, 'alpha': 0.24580172008240508, 'learning_rate': 0.01708682975614378, 'subsample': 0.30663144040458007, 'colsample_bytree': 0.4433544888172993, 'max_depth': 7, 'min_child_weight': 4, 'eta': 0.007124114905047066, 'gamma': 1.600257761199092e-05, 'grow_policy': 'lossguide', 'sample_type': 'uniform', 'normalize_type': 'tree', 'rate_drop': 1.173646284138902e-05, 'skip_drop': 0.03912714829695964}. Best is trial 20 with value: 37.34289017807002.\n",
      "[I 2024-07-03 08:41:43,884] Trial 28 finished with value: 37.863760352056374 and parameters: {'booster': 'gblinear', 'lambda': 2.7399633848933983e-08, 'alpha': 0.030727096055641747, 'learning_rate': 0.0028275194534365805, 'subsample': 0.5067601733186292, 'colsample_bytree': 0.1942641635776846}. Best is trial 20 with value: 37.34289017807002.\n"
     ]
    },
    {
     "name": "stdout",
     "output_type": "stream",
     "text": [
      "Trial: 26 - MSE: 37.36598488124891 - RMSE: 6.112772274610671\n",
      "Trial: 27 - MSE: 39.525747531291906 - RMSE: 6.28695057490449\n",
      "Trial: 28 - MSE: 37.863760352056374 - RMSE: 6.153353585814517\n"
     ]
    },
    {
     "name": "stderr",
     "output_type": "stream",
     "text": [
      "[I 2024-07-03 08:41:43,960] Trial 29 finished with value: 37.526953108681205 and parameters: {'booster': 'gbtree', 'lambda': 1.5472023455465162e-06, 'alpha': 0.27701395591511846, 'learning_rate': 0.005517941525206303, 'subsample': 0.6622395754284663, 'colsample_bytree': 0.3564574175242834, 'max_depth': 5, 'min_child_weight': 7, 'eta': 0.00039257998313895615, 'gamma': 0.0003589272430445318, 'grow_policy': 'lossguide'}. Best is trial 20 with value: 37.34289017807002.\n",
      "[I 2024-07-03 08:41:44,019] Trial 30 finished with value: 37.97763700443022 and parameters: {'booster': 'gblinear', 'lambda': 5.670875258438578e-07, 'alpha': 0.9574940369168442, 'learning_rate': 0.0043698368691105155, 'subsample': 0.33790985826305775, 'colsample_bytree': 0.5840319819629068}. Best is trial 20 with value: 37.34289017807002.\n",
      "[I 2024-07-03 08:41:44,128] Trial 31 finished with value: 37.35297333374508 and parameters: {'booster': 'dart', 'lambda': 1.1919880905904063e-08, 'alpha': 0.915260619953049, 'learning_rate': 0.0028164007079877177, 'subsample': 0.5343846218896928, 'colsample_bytree': 0.41225918191394073, 'max_depth': 7, 'min_child_weight': 7, 'eta': 0.03700866292720314, 'gamma': 1.1301043394138129e-07, 'grow_policy': 'lossguide', 'sample_type': 'uniform', 'normalize_type': 'tree', 'rate_drop': 0.712696242647036, 'skip_drop': 0.0061700175496418805}. Best is trial 20 with value: 37.34289017807002.\n"
     ]
    },
    {
     "name": "stdout",
     "output_type": "stream",
     "text": [
      "Trial: 29 - MSE: 37.526953108681205 - RMSE: 6.125924673768133\n",
      "Trial: 30 - MSE: 37.97763700443022 - RMSE: 6.162599857562571\n",
      "Trial: 31 - MSE: 37.35297333374508 - RMSE: 6.11170789008646\n"
     ]
    },
    {
     "name": "stderr",
     "output_type": "stream",
     "text": [
      "[I 2024-07-03 08:41:44,245] Trial 32 finished with value: 37.37560159229652 and parameters: {'booster': 'dart', 'lambda': 1.0581196631210874e-07, 'alpha': 0.25881749180760816, 'learning_rate': 0.0015019698896858347, 'subsample': 0.4220247570993216, 'colsample_bytree': 0.38043732476102166, 'max_depth': 7, 'min_child_weight': 6, 'eta': 0.011325548976261993, 'gamma': 3.947125776395389e-08, 'grow_policy': 'lossguide', 'sample_type': 'uniform', 'normalize_type': 'tree', 'rate_drop': 0.12124958282548313, 'skip_drop': 4.324678013071199e-05}. Best is trial 20 with value: 37.34289017807002.\n",
      "[I 2024-07-03 08:41:44,390] Trial 33 finished with value: 37.370290449252536 and parameters: {'booster': 'dart', 'lambda': 2.8968002197159563e-08, 'alpha': 0.019461532079580453, 'learning_rate': 0.0035742792095242097, 'subsample': 0.5949726861767639, 'colsample_bytree': 0.3167972065624891, 'max_depth': 7, 'min_child_weight': 8, 'eta': 0.2597391078566727, 'gamma': 3.063389070990385e-07, 'grow_policy': 'lossguide', 'sample_type': 'uniform', 'normalize_type': 'tree', 'rate_drop': 0.9832531957993329, 'skip_drop': 0.04987410583738238}. Best is trial 20 with value: 37.34289017807002.\n"
     ]
    },
    {
     "name": "stdout",
     "output_type": "stream",
     "text": [
      "Trial: 32 - MSE: 37.37560159229652 - RMSE: 6.113558831997654\n",
      "Trial: 33 - MSE: 37.370290449252536 - RMSE: 6.113124442480501\n"
     ]
    },
    {
     "name": "stderr",
     "output_type": "stream",
     "text": [
      "[I 2024-07-03 08:41:44,524] Trial 34 finished with value: 37.483961933262755 and parameters: {'booster': 'dart', 'lambda': 1.1468911230506331e-07, 'alpha': 0.44168303506479434, 'learning_rate': 0.00268544684322901, 'subsample': 0.6579935627453314, 'colsample_bytree': 0.4715536061965394, 'max_depth': 7, 'min_child_weight': 7, 'eta': 0.02758549305839637, 'gamma': 7.573422253982058e-08, 'grow_policy': 'lossguide', 'sample_type': 'uniform', 'normalize_type': 'tree', 'rate_drop': 0.004118365390388562, 'skip_drop': 0.002758439239475503}. Best is trial 20 with value: 37.34289017807002.\n",
      "[I 2024-07-03 08:41:44,636] Trial 35 finished with value: 39.01414299252778 and parameters: {'booster': 'gblinear', 'lambda': 3.306515079600991e-05, 'alpha': 0.10396386291641763, 'learning_rate': 0.007441609294637048, 'subsample': 0.5469421801776977, 'colsample_bytree': 0.24162239313930944}. Best is trial 20 with value: 37.34289017807002.\n"
     ]
    },
    {
     "name": "stdout",
     "output_type": "stream",
     "text": [
      "Trial: 34 - MSE: 37.483961933262755 - RMSE: 6.122414714249824\n",
      "Trial: 35 - MSE: 39.01414299252778 - RMSE: 6.246130241399692\n"
     ]
    },
    {
     "name": "stderr",
     "output_type": "stream",
     "text": [
      "[I 2024-07-03 08:41:44,731] Trial 36 finished with value: 37.43623660383344 and parameters: {'booster': 'dart', 'lambda': 4.348681122140798e-07, 'alpha': 0.006468488063073206, 'learning_rate': 0.004766137036968074, 'subsample': 0.4798778334933147, 'colsample_bytree': 0.11484046863709896, 'max_depth': 7, 'min_child_weight': 9, 'eta': 0.003352534148013886, 'gamma': 6.84416746027291e-07, 'grow_policy': 'lossguide', 'sample_type': 'uniform', 'normalize_type': 'tree', 'rate_drop': 0.08859627077889276, 'skip_drop': 0.6198507049340918}. Best is trial 20 with value: 37.34289017807002.\n",
      "[I 2024-07-03 08:41:44,827] Trial 37 finished with value: 37.47243464213246 and parameters: {'booster': 'dart', 'lambda': 1.0647671348101532e-08, 'alpha': 0.6891605030778927, 'learning_rate': 0.003352686464515826, 'subsample': 0.7901226408556117, 'colsample_bytree': 0.3687908140285021, 'max_depth': 3, 'min_child_weight': 6, 'eta': 0.19286663968372, 'gamma': 0.9277690601454261, 'grow_policy': 'lossguide', 'sample_type': 'uniform', 'normalize_type': 'tree', 'rate_drop': 0.13979248606687186, 'skip_drop': 0.00027547095947496903}. Best is trial 20 with value: 37.34289017807002.\n",
      "[I 2024-07-03 08:41:44,908] Trial 38 finished with value: 38.59345214009248 and parameters: {'booster': 'dart', 'lambda': 1.4878482876895535e-06, 'alpha': 0.0013309602794466702, 'learning_rate': 0.014532519664298775, 'subsample': 0.8505378816914286, 'colsample_bytree': 0.562561604833894, 'max_depth': 5, 'min_child_weight': 7, 'eta': 0.9523495708728023, 'gamma': 1.0298264161826832e-06, 'grow_policy': 'lossguide', 'sample_type': 'uniform', 'normalize_type': 'tree', 'rate_drop': 0.22141612320743143, 'skip_drop': 4.772207846818506e-05}. Best is trial 20 with value: 37.34289017807002.\n"
     ]
    },
    {
     "name": "stdout",
     "output_type": "stream",
     "text": [
      "Trial: 36 - MSE: 37.43623660383344 - RMSE: 6.118515882453313\n",
      "Trial: 37 - MSE: 37.47243464213246 - RMSE: 6.121473241151387\n",
      "Trial: 38 - MSE: 38.59345214009248 - RMSE: 6.2123628467832175\n"
     ]
    },
    {
     "name": "stderr",
     "output_type": "stream",
     "text": [
      "[I 2024-07-03 08:41:44,973] Trial 39 finished with value: 37.714800178690254 and parameters: {'booster': 'gblinear', 'lambda': 1.9019784567927552e-07, 'alpha': 0.044587257403078125, 'learning_rate': 0.0021464801403300905, 'subsample': 0.39847509808677406, 'colsample_bytree': 0.3183381181838436}. Best is trial 20 with value: 37.34289017807002.\n",
      "[I 2024-07-03 08:41:45,067] Trial 40 finished with value: 37.38757273275209 and parameters: {'booster': 'gbtree', 'lambda': 3.406716752112658e-08, 'alpha': 0.1969533451630657, 'learning_rate': 0.0014138860172201357, 'subsample': 0.5901008068806647, 'colsample_bytree': 0.4615964371380193, 'max_depth': 7, 'min_child_weight': 9, 'eta': 0.0004975976693029943, 'gamma': 3.471817424021352e-08, 'grow_policy': 'lossguide'}. Best is trial 20 with value: 37.34289017807002.\n",
      "[I 2024-07-03 08:41:45,159] Trial 41 finished with value: 37.3386955749854 and parameters: {'booster': 'dart', 'lambda': 1.0154952795664494e-08, 'alpha': 0.9222965065599968, 'learning_rate': 0.002798853753714375, 'subsample': 0.5212032843013623, 'colsample_bytree': 0.4063509361890254, 'max_depth': 7, 'min_child_weight': 7, 'eta': 0.03278890310469453, 'gamma': 1.2209301830996445e-07, 'grow_policy': 'lossguide', 'sample_type': 'uniform', 'normalize_type': 'tree', 'rate_drop': 0.8986343649697035, 'skip_drop': 0.010600857413379022}. Best is trial 41 with value: 37.3386955749854.\n"
     ]
    },
    {
     "name": "stdout",
     "output_type": "stream",
     "text": [
      "Trial: 39 - MSE: 37.714800178690254 - RMSE: 6.141237674825023\n",
      "Trial: 40 - MSE: 37.38757273275209 - RMSE: 6.114537818408853\n",
      "Trial: 41 - MSE: 37.3386955749854 - RMSE: 6.110539712250089\n"
     ]
    },
    {
     "name": "stderr",
     "output_type": "stream",
     "text": [
      "[I 2024-07-03 08:41:45,249] Trial 42 finished with value: 37.35138502443749 and parameters: {'booster': 'dart', 'lambda': 9.997514499303963e-08, 'alpha': 0.9316004401679399, 'learning_rate': 0.0037399969745840088, 'subsample': 0.5172011370205281, 'colsample_bytree': 0.3938566015020451, 'max_depth': 7, 'min_child_weight': 8, 'eta': 0.17665214960152856, 'gamma': 2.160140351018075e-07, 'grow_policy': 'lossguide', 'sample_type': 'uniform', 'normalize_type': 'tree', 'rate_drop': 0.9207059977332174, 'skip_drop': 0.012419617162279678}. Best is trial 41 with value: 37.3386955749854.\n",
      "[I 2024-07-03 08:41:45,331] Trial 43 finished with value: 37.537071200906695 and parameters: {'booster': 'dart', 'lambda': 8.013303639072177e-08, 'alpha': 0.397404595211603, 'learning_rate': 0.0038906426966292965, 'subsample': 0.4622369630681496, 'colsample_bytree': 0.539967069478346, 'max_depth': 7, 'min_child_weight': 8, 'eta': 0.2214730881990323, 'gamma': 4.555176148421572e-07, 'grow_policy': 'depthwise', 'sample_type': 'uniform', 'normalize_type': 'tree', 'rate_drop': 0.234374595193664, 'skip_drop': 0.028743520298986892}. Best is trial 41 with value: 37.3386955749854.\n",
      "[I 2024-07-03 08:41:45,454] Trial 44 finished with value: 37.608140012499334 and parameters: {'booster': 'dart', 'lambda': 2.796483302441326e-07, 'alpha': 0.14914867914645324, 'learning_rate': 0.005795103345250424, 'subsample': 0.6589074567121546, 'colsample_bytree': 0.33311904967980754, 'max_depth': 7, 'min_child_weight': 6, 'eta': 0.09802470154025796, 'gamma': 4.698684401981753e-08, 'grow_policy': 'lossguide', 'sample_type': 'uniform', 'normalize_type': 'tree', 'rate_drop': 0.04080440084484432, 'skip_drop': 0.0013317461446558448}. Best is trial 41 with value: 37.3386955749854.\n"
     ]
    },
    {
     "name": "stdout",
     "output_type": "stream",
     "text": [
      "Trial: 42 - MSE: 37.35138502443749 - RMSE: 6.11157794881465\n",
      "Trial: 43 - MSE: 37.537071200906695 - RMSE: 6.12675046014661\n",
      "Trial: 44 - MSE: 37.608140012499334 - RMSE: 6.132547595616306\n"
     ]
    },
    {
     "name": "stderr",
     "output_type": "stream",
     "text": [
      "[I 2024-07-03 08:41:45,558] Trial 45 finished with value: 37.51642544111196 and parameters: {'booster': 'dart', 'lambda': 3.283448997203428e-08, 'alpha': 0.012473287412446148, 'learning_rate': 0.0023186001461020745, 'subsample': 0.3267089548809151, 'colsample_bytree': 0.6450308815089592, 'max_depth': 5, 'min_child_weight': 8, 'eta': 0.4223386388773764, 'gamma': 1.6347251579782865e-06, 'grow_policy': 'lossguide', 'sample_type': 'uniform', 'normalize_type': 'tree', 'rate_drop': 0.0001616933839104607, 'skip_drop': 0.07331007904749111}. Best is trial 41 with value: 37.3386955749854.\n",
      "[I 2024-07-03 08:41:45,652] Trial 46 finished with value: 37.41781818536693 and parameters: {'booster': 'gbtree', 'lambda': 1.91347138490486e-07, 'alpha': 0.41040779433443736, 'learning_rate': 0.003433213453547574, 'subsample': 0.5161625834579121, 'colsample_bytree': 0.22421452270755127, 'max_depth': 7, 'min_child_weight': 5, 'eta': 0.07126141189703104, 'gamma': 6.843286657118313e-06, 'grow_policy': 'lossguide'}. Best is trial 41 with value: 37.3386955749854.\n"
     ]
    },
    {
     "name": "stdout",
     "output_type": "stream",
     "text": [
      "Trial: 45 - MSE: 37.51642544111196 - RMSE: 6.1250653417830545\n",
      "Trial: 46 - MSE: 37.41781818536693 - RMSE: 6.117010559527173\n"
     ]
    },
    {
     "name": "stderr",
     "output_type": "stream",
     "text": [
      "[I 2024-07-03 08:41:45,881] Trial 47 finished with value: 37.36043907364567 and parameters: {'booster': 'dart', 'lambda': 7.664956297609216e-07, 'alpha': 1.029553869573107e-08, 'learning_rate': 0.0013049730216675504, 'subsample': 0.57105593805597, 'colsample_bytree': 0.2946458652825028, 'max_depth': 7, 'min_child_weight': 9, 'eta': 0.003908343392938106, 'gamma': 1.783296640457686e-07, 'grow_policy': 'depthwise', 'sample_type': 'uniform', 'normalize_type': 'tree', 'rate_drop': 0.2609875005926198, 'skip_drop': 0.00029602773525597484}. Best is trial 41 with value: 37.3386955749854.\n",
      "[I 2024-07-03 08:41:46,007] Trial 48 finished with value: 37.417037592099824 and parameters: {'booster': 'dart', 'lambda': 4.522065951455283e-06, 'alpha': 0.05459916336035505, 'learning_rate': 0.0018167553683647313, 'subsample': 0.26868663849683133, 'colsample_bytree': 0.4910314603847359, 'max_depth': 5, 'min_child_weight': 7, 'eta': 1.7099942061650002e-05, 'gamma': 0.009081647801665097, 'grow_policy': 'lossguide', 'sample_type': 'uniform', 'normalize_type': 'tree', 'rate_drop': 0.006889189166495582, 'skip_drop': 0.1610406138108918}. Best is trial 41 with value: 37.3386955749854.\n"
     ]
    },
    {
     "name": "stdout",
     "output_type": "stream",
     "text": [
      "Trial: 47 - MSE: 37.36043907364567 - RMSE: 6.112318633190327\n",
      "Trial: 48 - MSE: 37.417037592099824 - RMSE: 6.116946754067737\n"
     ]
    },
    {
     "name": "stderr",
     "output_type": "stream",
     "text": [
      "[I 2024-07-03 08:41:46,126] Trial 49 finished with value: 37.5745957168598 and parameters: {'booster': 'dart', 'lambda': 2.2130021776767154e-08, 'alpha': 0.0034070102025231565, 'learning_rate': 0.004719539416188049, 'subsample': 0.38510456040105223, 'colsample_bytree': 0.4462742271217607, 'max_depth': 7, 'min_child_weight': 8, 'eta': 0.012524230381561701, 'gamma': 2.5732467194203477e-08, 'grow_policy': 'lossguide', 'sample_type': 'uniform', 'normalize_type': 'tree', 'rate_drop': 0.22519886584670634, 'skip_drop': 0.00849564638813121}. Best is trial 41 with value: 37.3386955749854.\n",
      "[I 2024-07-03 08:41:46,289] Trial 50 finished with value: 44.31137070228762 and parameters: {'booster': 'gbtree', 'lambda': 1.0296795288703147e-07, 'alpha': 0.00036944908556406635, 'learning_rate': 0.0451708737936797, 'subsample': 0.45216728564196174, 'colsample_bytree': 0.3861103494951079, 'max_depth': 9, 'min_child_weight': 4, 'eta': 0.03911380411843385, 'gamma': 5.139633531372923e-07, 'grow_policy': 'lossguide'}. Best is trial 41 with value: 37.3386955749854.\n"
     ]
    },
    {
     "name": "stdout",
     "output_type": "stream",
     "text": [
      "Trial: 49 - MSE: 37.5745957168598 - RMSE: 6.129812045802041\n",
      "Trial: 50 - MSE: 44.31137070228762 - RMSE: 6.65667865397509\n"
     ]
    },
    {
     "name": "stderr",
     "output_type": "stream",
     "text": [
      "[I 2024-07-03 08:41:46,385] Trial 51 finished with value: 37.33743926559613 and parameters: {'booster': 'dart', 'lambda': 1.0427880987367765e-08, 'alpha': 0.9983296114916307, 'learning_rate': 0.0027448767455027223, 'subsample': 0.6242674333884266, 'colsample_bytree': 0.39504250946894576, 'max_depth': 7, 'min_child_weight': 7, 'eta': 0.020887105567755474, 'gamma': 2.1862445206281523e-07, 'grow_policy': 'lossguide', 'sample_type': 'uniform', 'normalize_type': 'tree', 'rate_drop': 0.9056765521064986, 'skip_drop': 0.009914043749515268}. Best is trial 51 with value: 37.33743926559613.\n",
      "[I 2024-07-03 08:41:46,498] Trial 52 finished with value: 37.34872577448839 and parameters: {'booster': 'dart', 'lambda': 5.0887447771395815e-08, 'alpha': 0.4971840080053545, 'learning_rate': 0.0024875959957973742, 'subsample': 0.6220205345882097, 'colsample_bytree': 0.5286138136860167, 'max_depth': 7, 'min_child_weight': 6, 'eta': 0.12535123303797896, 'gamma': 1.9260946962333198e-07, 'grow_policy': 'lossguide', 'sample_type': 'uniform', 'normalize_type': 'tree', 'rate_drop': 0.9124245576229263, 'skip_drop': 0.0020369687497923867}. Best is trial 51 with value: 37.33743926559613.\n"
     ]
    },
    {
     "name": "stdout",
     "output_type": "stream",
     "text": [
      "Trial: 51 - MSE: 37.33743926559613 - RMSE: 6.110436912823512\n",
      "Trial: 52 - MSE: 37.34872577448839 - RMSE: 6.111360386566021\n"
     ]
    },
    {
     "name": "stderr",
     "output_type": "stream",
     "text": [
      "[I 2024-07-03 08:41:46,637] Trial 53 finished with value: 37.441665834484716 and parameters: {'booster': 'dart', 'lambda': 5.7232792319257035e-08, 'alpha': 0.16678100915466823, 'learning_rate': 0.001996747973585201, 'subsample': 0.6735866397410979, 'colsample_bytree': 0.5443771499745726, 'max_depth': 7, 'min_child_weight': 6, 'eta': 0.4442534410014049, 'gamma': 2.2909508768784705e-07, 'grow_policy': 'lossguide', 'sample_type': 'uniform', 'normalize_type': 'tree', 'rate_drop': 0.061398411079230455, 'skip_drop': 0.0017589568029970691}. Best is trial 51 with value: 37.33743926559613.\n",
      "[I 2024-07-03 08:41:46,739] Trial 54 finished with value: 37.438826344780274 and parameters: {'booster': 'dart', 'lambda': 1.4832327926931667e-07, 'alpha': 0.3858371901276009, 'learning_rate': 0.0030795013655876974, 'subsample': 0.6172416945136906, 'colsample_bytree': 0.4890740970063522, 'max_depth': 7, 'min_child_weight': 5, 'eta': 0.1620782775359175, 'gamma': 1.6869144763644353e-08, 'grow_policy': 'lossguide', 'sample_type': 'uniform', 'normalize_type': 'tree', 'rate_drop': 0.3134120201708678, 'skip_drop': 0.0006751216174452289}. Best is trial 51 with value: 37.33743926559613.\n"
     ]
    },
    {
     "name": "stdout",
     "output_type": "stream",
     "text": [
      "Trial: 53 - MSE: 37.441665834484716 - RMSE: 6.11895953855594\n",
      "Trial: 54 - MSE: 37.438826344780274 - RMSE: 6.118727510257363\n"
     ]
    },
    {
     "name": "stderr",
     "output_type": "stream",
     "text": [
      "[I 2024-07-03 08:41:46,849] Trial 55 finished with value: 37.37507674142108 and parameters: {'booster': 'dart', 'lambda': 1.8181206780822723e-08, 'alpha': 0.48522352299854576, 'learning_rate': 0.0038531914755771416, 'subsample': 0.6897222661327225, 'colsample_bytree': 0.521081286614518, 'max_depth': 7, 'min_child_weight': 6, 'eta': 0.0018064411927984274, 'gamma': 9.714799413100269e-07, 'grow_policy': 'lossguide', 'sample_type': 'uniform', 'normalize_type': 'tree', 'rate_drop': 0.9666515866436152, 'skip_drop': 0.004144051149798244}. Best is trial 51 with value: 37.33743926559613.\n",
      "[I 2024-07-03 08:41:47,006] Trial 56 finished with value: 37.44280061731747 and parameters: {'booster': 'dart', 'lambda': 5.985650941506382e-08, 'alpha': 0.10966938383102831, 'learning_rate': 0.001693568516193269, 'subsample': 0.7344849079144469, 'colsample_bytree': 0.6153651603410443, 'max_depth': 9, 'min_child_weight': 8, 'eta': 0.05887440740666568, 'gamma': 4.7698154503704955e-08, 'grow_policy': 'lossguide', 'sample_type': 'uniform', 'normalize_type': 'tree', 'rate_drop': 1.3064091355524724e-07, 'skip_drop': 0.10248827357707917}. Best is trial 51 with value: 37.33743926559613.\n"
     ]
    },
    {
     "name": "stdout",
     "output_type": "stream",
     "text": [
      "Trial: 55 - MSE: 37.37507674142108 - RMSE: 6.113515906695678\n",
      "Trial: 56 - MSE: 37.44280061731747 - RMSE: 6.11905226463359\n"
     ]
    },
    {
     "name": "stderr",
     "output_type": "stream",
     "text": [
      "[I 2024-07-03 08:41:47,105] Trial 57 finished with value: 37.53825560571132 and parameters: {'booster': 'dart', 'lambda': 0.00015929096541041256, 'alpha': 0.02493072571883421, 'learning_rate': 0.0024205264240413937, 'subsample': 0.6328818130815597, 'colsample_bytree': 0.6949599436678395, 'max_depth': 7, 'min_child_weight': 7, 'eta': 0.6504475854684361, 'gamma': 6.927723698257497e-06, 'grow_policy': 'depthwise', 'sample_type': 'uniform', 'normalize_type': 'tree', 'rate_drop': 0.03492202850188658, 'skip_drop': 7.414782218730193e-06}. Best is trial 51 with value: 37.33743926559613.\n",
      "[I 2024-07-03 08:41:47,206] Trial 58 finished with value: 38.37838804071172 and parameters: {'booster': 'dart', 'lambda': 3.114044101847037e-07, 'alpha': 0.19812519591665512, 'learning_rate': 0.012238298974425472, 'subsample': 0.71241854831397, 'colsample_bytree': 0.4355904974809827, 'max_depth': 5, 'min_child_weight': 7, 'eta': 0.1498779063617231, 'gamma': 1.03849466840801e-08, 'grow_policy': 'lossguide', 'sample_type': 'uniform', 'normalize_type': 'tree', 'rate_drop': 0.1082660968525295, 'skip_drop': 7.541432092040267e-05}. Best is trial 51 with value: 37.33743926559613.\n",
      "[I 2024-07-03 08:41:47,279] Trial 59 finished with value: 37.50366684238601 and parameters: {'booster': 'gblinear', 'lambda': 4.717014740542145e-08, 'alpha': 0.5069265166099277, 'learning_rate': 0.0012475554796252178, 'subsample': 0.7710538297121924, 'colsample_bytree': 0.3574237096097236}. Best is trial 51 with value: 37.33743926559613.\n"
     ]
    },
    {
     "name": "stdout",
     "output_type": "stream",
     "text": [
      "Trial: 57 - MSE: 37.53825560571132 - RMSE: 6.126847117866686\n",
      "Trial: 58 - MSE: 38.37838804071172 - RMSE: 6.1950293010373825\n",
      "Trial: 59 - MSE: 37.50366684238601 - RMSE: 6.124023746066471\n"
     ]
    },
    {
     "name": "stderr",
     "output_type": "stream",
     "text": [
      "[I 2024-07-03 08:41:47,392] Trial 60 finished with value: 37.37345261302252 and parameters: {'booster': 'dart', 'lambda': 7.579407465496061e-07, 'alpha': 8.080191844249265e-05, 'learning_rate': 0.002036490539158758, 'subsample': 0.5798075446187365, 'colsample_bytree': 0.2933852193239429, 'max_depth': 7, 'min_child_weight': 8, 'eta': 1.532374763538789e-07, 'gamma': 1.9577163549774326e-06, 'grow_policy': 'lossguide', 'sample_type': 'uniform', 'normalize_type': 'tree', 'rate_drop': 0.30942492248669257, 'skip_drop': 3.6896312468960866e-06}. Best is trial 51 with value: 37.33743926559613.\n",
      "[I 2024-07-03 08:41:47,490] Trial 61 finished with value: 37.402722249073065 and parameters: {'booster': 'dart', 'lambda': 1.968432296911688e-08, 'alpha': 0.888474711808105, 'learning_rate': 0.0025169534468216376, 'subsample': 0.5017940682575799, 'colsample_bytree': 0.46035558154233897, 'max_depth': 7, 'min_child_weight': 6, 'eta': 0.021115319759393042, 'gamma': 1.2203455176703498e-07, 'grow_policy': 'lossguide', 'sample_type': 'uniform', 'normalize_type': 'tree', 'rate_drop': 0.4141480187335525, 'skip_drop': 0.011988595979062953}. Best is trial 51 with value: 37.33743926559613.\n",
      "[I 2024-07-03 08:41:47,595] Trial 62 finished with value: 37.343678073603016 and parameters: {'booster': 'dart', 'lambda': 1.0964774951319738e-08, 'alpha': 0.9748102796845212, 'learning_rate': 0.0031624204158198304, 'subsample': 0.5269974148619624, 'colsample_bytree': 0.3990821059216929, 'max_depth': 7, 'min_child_weight': 7, 'eta': 0.006644694269953473, 'gamma': 2.493696381436658e-07, 'grow_policy': 'lossguide', 'sample_type': 'uniform', 'normalize_type': 'tree', 'rate_drop': 0.9213657027890509, 'skip_drop': 0.017680647061692173}. Best is trial 51 with value: 37.33743926559613.\n"
     ]
    },
    {
     "name": "stdout",
     "output_type": "stream",
     "text": [
      "Trial: 60 - MSE: 37.37345261302252 - RMSE: 6.113383074290578\n",
      "Trial: 61 - MSE: 37.402722249073065 - RMSE: 6.115776504179421\n",
      "Trial: 62 - MSE: 37.343678073603016 - RMSE: 6.110947395748307\n"
     ]
    },
    {
     "name": "stderr",
     "output_type": "stream",
     "text": [
      "[I 2024-07-03 08:41:47,698] Trial 63 finished with value: 37.47219290166412 and parameters: {'booster': 'dart', 'lambda': 1.3519489724183797e-08, 'alpha': 0.0839365848373356, 'learning_rate': 0.0032239218106560876, 'subsample': 0.5339624797294162, 'colsample_bytree': 0.40007185972788545, 'max_depth': 7, 'min_child_weight': 6, 'eta': 0.006217695712066694, 'gamma': 1.9938333599706393e-07, 'grow_policy': 'lossguide', 'sample_type': 'weighted', 'normalize_type': 'forest', 'rate_drop': 0.4111400851291954, 'skip_drop': 0.024389663490244136}. Best is trial 51 with value: 37.33743926559613.\n",
      "[I 2024-07-03 08:41:47,798] Trial 64 finished with value: 37.92018015397229 and parameters: {'booster': 'dart', 'lambda': 4.5734699887037346e-08, 'alpha': 0.994844014596194, 'learning_rate': 0.006570092354579103, 'subsample': 0.635351223803741, 'colsample_bytree': 0.5098073974707442, 'max_depth': 7, 'min_child_weight': 7, 'eta': 0.0002127985154296637, 'gamma': 5.481979853244873e-08, 'grow_policy': 'lossguide', 'sample_type': 'uniform', 'normalize_type': 'tree', 'rate_drop': 1.6022513399846764e-08, 'skip_drop': 0.0035673070831525066}. Best is trial 51 with value: 37.33743926559613.\n"
     ]
    },
    {
     "name": "stdout",
     "output_type": "stream",
     "text": [
      "Trial: 63 - MSE: 37.47219290166412 - RMSE: 6.1214534958344755\n",
      "Trial: 64 - MSE: 37.92018015397229 - RMSE: 6.157936355141412\n"
     ]
    },
    {
     "name": "stderr",
     "output_type": "stream",
     "text": [
      "[I 2024-07-03 08:41:47,928] Trial 65 finished with value: 37.358324994555915 and parameters: {'booster': 'dart', 'lambda': 1.1246114670310025e-08, 'alpha': 0.25599851871281953, 'learning_rate': 0.0040700106964746165, 'subsample': 0.554972022763156, 'colsample_bytree': 0.3667430043572404, 'max_depth': 9, 'min_child_weight': 8, 'eta': 4.596050782138641e-05, 'gamma': 3.863174514650768e-07, 'grow_policy': 'lossguide', 'sample_type': 'uniform', 'normalize_type': 'tree', 'rate_drop': 0.9533574492196272, 'skip_drop': 0.0006585233989920349}. Best is trial 51 with value: 37.33743926559613.\n",
      "[I 2024-07-03 08:41:48,058] Trial 66 finished with value: 37.60330156100709 and parameters: {'booster': 'dart', 'lambda': 9.076134114094944e-08, 'alpha': 0.04396171011385049, 'learning_rate': 0.005001595112429553, 'subsample': 0.5183190108040653, 'colsample_bytree': 0.42471529293714255, 'max_depth': 7, 'min_child_weight': 7, 'eta': 0.0010775997771411737, 'gamma': 9.248351511625109e-05, 'grow_policy': 'lossguide', 'sample_type': 'weighted', 'normalize_type': 'forest', 'rate_drop': 0.016618156099794067, 'skip_drop': 9.923303010016332e-08}. Best is trial 51 with value: 37.33743926559613.\n",
      "[I 2024-07-03 08:41:48,128] Trial 67 finished with value: 37.46519828404254 and parameters: {'booster': 'dart', 'lambda': 0.6675561167704187, 'alpha': 0.5298876785814219, 'learning_rate': 0.002927689491588955, 'subsample': 0.6092803486558007, 'colsample_bytree': 0.5579669425585748, 'max_depth': 3, 'min_child_weight': 6, 'eta': 0.009683303798561749, 'gamma': 2.5514192597843862e-08, 'grow_policy': 'lossguide', 'sample_type': 'uniform', 'normalize_type': 'tree', 'rate_drop': 0.13732227510574285, 'skip_drop': 0.024679695887307812}. Best is trial 51 with value: 37.33743926559613.\n"
     ]
    },
    {
     "name": "stdout",
     "output_type": "stream",
     "text": [
      "Trial: 65 - MSE: 37.358324994555915 - RMSE: 6.112145694807668\n",
      "Trial: 66 - MSE: 37.60330156100709 - RMSE: 6.132153093409125\n",
      "Trial: 67 - MSE: 37.46519828404254 - RMSE: 6.120882149171192\n"
     ]
    },
    {
     "name": "stderr",
     "output_type": "stream",
     "text": [
      "[I 2024-07-03 08:41:48,234] Trial 68 finished with value: 37.37659312483341 and parameters: {'booster': 'dart', 'lambda': 2.6986590213093563e-06, 'alpha': 0.1376975441141123, 'learning_rate': 0.001756991185421665, 'subsample': 0.24094256197538114, 'colsample_bytree': 0.4690549016742671, 'max_depth': 7, 'min_child_weight': 8, 'eta': 0.04564085160528044, 'gamma': 1.4734929956764477e-07, 'grow_policy': 'lossguide', 'sample_type': 'uniform', 'normalize_type': 'tree', 'rate_drop': 0.3915008206597581, 'skip_drop': 2.8316622316459054e-07}. Best is trial 51 with value: 37.33743926559613.\n",
      "[I 2024-07-03 08:41:48,370] Trial 69 finished with value: 37.725430723162305 and parameters: {'booster': 'gbtree', 'lambda': 2.2293613734660875e-08, 'alpha': 7.395062662398085e-08, 'learning_rate': 0.008386162608116254, 'subsample': 0.42638949616188715, 'colsample_bytree': 0.3422570942207307, 'max_depth': 7, 'min_child_weight': 5, 'eta': 0.0028759470418118008, 'gamma': 6.614708030787236e-07, 'grow_policy': 'lossguide'}. Best is trial 51 with value: 37.33743926559613.\n"
     ]
    },
    {
     "name": "stdout",
     "output_type": "stream",
     "text": [
      "Trial: 68 - MSE: 37.37659312483341 - RMSE: 6.113639924368576\n",
      "Trial: 69 - MSE: 37.725430723162305 - RMSE: 6.142103118896841\n"
     ]
    },
    {
     "name": "stderr",
     "output_type": "stream",
     "text": [
      "[I 2024-07-03 08:41:48,454] Trial 70 finished with value: 37.50473091594639 and parameters: {'booster': 'dart', 'lambda': 0.08525181941927527, 'alpha': 0.27735307937035397, 'learning_rate': 0.002494910449842067, 'subsample': 0.3661816521360234, 'colsample_bytree': 0.9311656403428138, 'max_depth': 7, 'min_child_weight': 9, 'eta': 0.02202925171790471, 'gamma': 7.833378120455216e-08, 'grow_policy': 'depthwise', 'sample_type': 'uniform', 'normalize_type': 'tree', 'rate_drop': 0.3983434388959529, 'skip_drop': 0.19005730491447825}. Best is trial 51 with value: 37.33743926559613.\n",
      "[I 2024-07-03 08:41:48,562] Trial 71 finished with value: 37.33519887799297 and parameters: {'booster': 'dart', 'lambda': 3.588679507290056e-08, 'alpha': 0.6458767393788661, 'learning_rate': 0.0026223624741002934, 'subsample': 0.489799324224421, 'colsample_bytree': 0.39168443949298526, 'max_depth': 7, 'min_child_weight': 7, 'eta': 0.09924885567396116, 'gamma': 2.7058459714174427e-07, 'grow_policy': 'lossguide', 'sample_type': 'uniform', 'normalize_type': 'tree', 'rate_drop': 0.9717820296035026, 'skip_drop': 0.007312700917565916}. Best is trial 71 with value: 37.33519887799297.\n"
     ]
    },
    {
     "name": "stdout",
     "output_type": "stream",
     "text": [
      "Trial: 70 - MSE: 37.50473091594639 - RMSE: 6.124110622445221\n",
      "Trial: 71 - MSE: 37.33519887799297 - RMSE: 6.1102535854081355\n"
     ]
    },
    {
     "name": "stderr",
     "output_type": "stream",
     "text": [
      "[I 2024-07-03 08:41:48,711] Trial 72 finished with value: 37.35060961444073 and parameters: {'booster': 'dart', 'lambda': 1.0053307908468908e-08, 'alpha': 0.5490046721012294, 'learning_rate': 0.0031935447707599094, 'subsample': 0.48577562975893, 'colsample_bytree': 0.40865383653780823, 'max_depth': 7, 'min_child_weight': 7, 'eta': 0.09948711675303899, 'gamma': 2.897511534094692e-07, 'grow_policy': 'lossguide', 'sample_type': 'uniform', 'normalize_type': 'tree', 'rate_drop': 0.8890030829263807, 'skip_drop': 0.00797484889527432}. Best is trial 71 with value: 37.33519887799297.\n",
      "[I 2024-07-03 08:41:48,835] Trial 73 finished with value: 39.76184801797468 and parameters: {'booster': 'dart', 'lambda': 1.730321047483158e-08, 'alpha': 0.5894832486986541, 'learning_rate': 0.02817092782375168, 'subsample': 0.48624041016479225, 'colsample_bytree': 0.42973857661920645, 'max_depth': 7, 'min_child_weight': 7, 'eta': 0.10500075305223659, 'gamma': 1.471918293826574e-06, 'grow_policy': 'lossguide', 'sample_type': 'uniform', 'normalize_type': 'tree', 'rate_drop': 0.473769902720969, 'skip_drop': 0.006634042777587735}. Best is trial 71 with value: 37.33519887799297.\n"
     ]
    },
    {
     "name": "stdout",
     "output_type": "stream",
     "text": [
      "Trial: 72 - MSE: 37.35060961444073 - RMSE: 6.111514510695424\n",
      "Trial: 73 - MSE: 39.76184801797468 - RMSE: 6.3056996453981755\n"
     ]
    },
    {
     "name": "stderr",
     "output_type": "stream",
     "text": [
      "[I 2024-07-03 08:41:48,953] Trial 74 finished with value: 37.38384725077047 and parameters: {'booster': 'dart', 'lambda': 3.6962705619124426e-08, 'alpha': 0.31269648540790934, 'learning_rate': 0.00211224172540951, 'subsample': 0.43736599382115027, 'colsample_bytree': 0.29358099993642683, 'max_depth': 7, 'min_child_weight': 7, 'eta': 0.044247982047870636, 'gamma': 3.3362332249287193e-06, 'grow_policy': 'lossguide', 'sample_type': 'uniform', 'normalize_type': 'tree', 'rate_drop': 0.09477672556544545, 'skip_drop': 0.001944404795287423}. Best is trial 71 with value: 37.33519887799297.\n",
      "[I 2024-07-03 08:41:49,024] Trial 75 finished with value: 37.861649953015636 and parameters: {'booster': 'gblinear', 'lambda': 2.4459149319720258e-08, 'alpha': 0.07287523714071743, 'learning_rate': 0.002850307826922494, 'subsample': 0.5674432814925011, 'colsample_bytree': 0.49025494660470625}. Best is trial 71 with value: 37.33519887799297.\n",
      "[I 2024-07-03 08:41:49,123] Trial 76 finished with value: 37.3778661194865 and parameters: {'booster': 'dart', 'lambda': 1.1267604155217267e-08, 'alpha': 0.6017228382847051, 'learning_rate': 0.001617383242842004, 'subsample': 0.4678544095089082, 'colsample_bytree': 0.3883499679874061, 'max_depth': 7, 'min_child_weight': 2, 'eta': 0.3787077796105217, 'gamma': 3.63244568863663e-07, 'grow_policy': 'lossguide', 'sample_type': 'weighted', 'normalize_type': 'forest', 'rate_drop': 0.9886381056988237, 'skip_drop': 0.045785259046413215}. Best is trial 71 with value: 37.33519887799297.\n"
     ]
    },
    {
     "name": "stdout",
     "output_type": "stream",
     "text": [
      "Trial: 74 - MSE: 37.38384725077047 - RMSE: 6.114233169480084\n",
      "Trial: 75 - MSE: 37.861649953015636 - RMSE: 6.153182099776963\n",
      "Trial: 76 - MSE: 37.3778661194865 - RMSE: 6.113744034508355\n"
     ]
    },
    {
     "name": "stderr",
     "output_type": "stream",
     "text": [
      "[I 2024-07-03 08:41:49,247] Trial 77 finished with value: 37.502473554123824 and parameters: {'booster': 'dart', 'lambda': 1.2232176331387367e-05, 'alpha': 0.14110492914564435, 'learning_rate': 0.0034237839699069244, 'subsample': 0.40495797794461613, 'colsample_bytree': 0.45142004845033246, 'max_depth': 7, 'min_child_weight': 6, 'eta': 0.006687402274095087, 'gamma': 1.101735399829967e-07, 'grow_policy': 'lossguide', 'sample_type': 'uniform', 'normalize_type': 'tree', 'rate_drop': 0.1731432588028369, 'skip_drop': 0.005797798241420167}. Best is trial 71 with value: 37.33519887799297.\n",
      "[I 2024-07-03 08:41:49,364] Trial 78 finished with value: 37.45019616878781 and parameters: {'booster': 'dart', 'lambda': 1.0072257105094569e-08, 'alpha': 6.0746515672037265e-06, 'learning_rate': 0.004292223934522299, 'subsample': 0.6412365614610795, 'colsample_bytree': 0.3441480278022586, 'max_depth': 7, 'min_child_weight': 7, 'eta': 0.016639424285011264, 'gamma': 2.5156216154249332e-08, 'grow_policy': 'lossguide', 'sample_type': 'uniform', 'normalize_type': 'tree', 'rate_drop': 0.4754994467868408, 'skip_drop': 2.0138212239334952e-06}. Best is trial 71 with value: 37.33519887799297.\n"
     ]
    },
    {
     "name": "stdout",
     "output_type": "stream",
     "text": [
      "Trial: 77 - MSE: 37.502473554123824 - RMSE: 6.123926318476066\n",
      "Trial: 78 - MSE: 37.45019616878781 - RMSE: 6.119656540099927\n"
     ]
    },
    {
     "name": "stderr",
     "output_type": "stream",
     "text": [
      "[I 2024-07-03 08:41:49,473] Trial 79 finished with value: 37.37534362020779 and parameters: {'booster': 'dart', 'lambda': 5.899687145094777e-05, 'alpha': 0.3082501556174496, 'learning_rate': 0.003147522817587196, 'subsample': 0.59892368508161, 'colsample_bytree': 0.25301722942027405, 'max_depth': 7, 'min_child_weight': 7, 'eta': 0.0932310168832574, 'gamma': 6.403570267369154e-08, 'grow_policy': 'lossguide', 'sample_type': 'uniform', 'normalize_type': 'tree', 'rate_drop': 0.5498491757911901, 'skip_drop': 0.01629834748957158}. Best is trial 71 with value: 37.33519887799297.\n",
      "[I 2024-07-03 08:41:49,618] Trial 80 finished with value: 37.64779790723014 and parameters: {'booster': 'dart', 'lambda': 6.092112722686089e-08, 'alpha': 0.5449168232398602, 'learning_rate': 0.005409593622142946, 'subsample': 0.5369946882928721, 'colsample_bytree': 0.4103474140455983, 'max_depth': 9, 'min_child_weight': 6, 'eta': 0.027404456226218003, 'gamma': 8.963413961473027e-07, 'grow_policy': 'lossguide', 'sample_type': 'uniform', 'normalize_type': 'tree', 'rate_drop': 0.00032419232585482674, 'skip_drop': 1.6649675695415682e-05}. Best is trial 71 with value: 37.33519887799297.\n"
     ]
    },
    {
     "name": "stdout",
     "output_type": "stream",
     "text": [
      "Trial: 79 - MSE: 37.37534362020779 - RMSE: 6.113537733604643\n",
      "Trial: 80 - MSE: 37.64779790723014 - RMSE: 6.135780138436362\n"
     ]
    },
    {
     "name": "stderr",
     "output_type": "stream",
     "text": [
      "[I 2024-07-03 08:41:49,723] Trial 81 finished with value: 37.50407021884537 and parameters: {'booster': 'dart', 'lambda': 1.3677700666150388e-07, 'alpha': 0.9389193860356959, 'learning_rate': 0.0037836083319800445, 'subsample': 0.501999101646584, 'colsample_bytree': 0.3856656211678084, 'max_depth': 7, 'min_child_weight': 8, 'eta': 0.2841929716343555, 'gamma': 2.3394163557338163e-07, 'grow_policy': 'lossguide', 'sample_type': 'uniform', 'normalize_type': 'tree', 'rate_drop': 3.0707516268621978e-06, 'skip_drop': 0.00893367997650982}. Best is trial 71 with value: 37.33519887799297.\n",
      "[I 2024-07-03 08:41:49,841] Trial 82 finished with value: 37.33350964181296 and parameters: {'booster': 'dart', 'lambda': 3.463389156704142e-08, 'alpha': 0.20928936881194918, 'learning_rate': 0.0023815020463749267, 'subsample': 0.4823341405702178, 'colsample_bytree': 0.3160958720368082, 'max_depth': 7, 'min_child_weight': 7, 'eta': 0.13057675199574995, 'gamma': 2.85279288864676e-07, 'grow_policy': 'lossguide', 'sample_type': 'uniform', 'normalize_type': 'tree', 'rate_drop': 0.9539688663957764, 'skip_drop': 0.014821675067218498}. Best is trial 82 with value: 37.33350964181296.\n"
     ]
    },
    {
     "name": "stdout",
     "output_type": "stream",
     "text": [
      "Trial: 81 - MSE: 37.50407021884537 - RMSE: 6.1240566799177625\n",
      "Trial: 82 - MSE: 37.33350964181296 - RMSE: 6.110115354214924\n"
     ]
    },
    {
     "name": "stderr",
     "output_type": "stream",
     "text": [
      "[I 2024-07-03 08:41:49,960] Trial 83 finished with value: 37.421636530104855 and parameters: {'booster': 'dart', 'lambda': 3.320003264744119e-08, 'alpha': 0.19129773561136917, 'learning_rate': 0.0026454736884226624, 'subsample': 0.4770241720307671, 'colsample_bytree': 0.36492245827447517, 'max_depth': 7, 'min_child_weight': 7, 'eta': 0.11185611703831322, 'gamma': 3.827248171073015e-07, 'grow_policy': 'lossguide', 'sample_type': 'uniform', 'normalize_type': 'tree', 'rate_drop': 0.17647366599139047, 'skip_drop': 0.05950647649579397}. Best is trial 82 with value: 37.33350964181296.\n",
      "[I 2024-07-03 08:41:50,067] Trial 84 finished with value: 37.35058745603388 and parameters: {'booster': 'dart', 'lambda': 3.7526117889927225e-07, 'alpha': 0.0315760339220798, 'learning_rate': 0.002303804832149385, 'subsample': 0.45787254874968436, 'colsample_bytree': 0.3170887810506614, 'max_depth': 7, 'min_child_weight': 7, 'eta': 0.0582233930300904, 'gamma': 1.3026054199036316e-07, 'grow_policy': 'lossguide', 'sample_type': 'uniform', 'normalize_type': 'tree', 'rate_drop': 0.584863511861318, 'skip_drop': 0.002806231878084498}. Best is trial 82 with value: 37.33350964181296.\n"
     ]
    },
    {
     "name": "stdout",
     "output_type": "stream",
     "text": [
      "Trial: 83 - MSE: 37.421636530104855 - RMSE: 6.1173226602906\n",
      "Trial: 84 - MSE: 37.35058745603388 - RMSE: 6.111512697854262\n"
     ]
    },
    {
     "name": "stderr",
     "output_type": "stream",
     "text": [
      "[I 2024-07-03 08:41:50,175] Trial 85 finished with value: 37.346685759935575 and parameters: {'booster': 'dart', 'lambda': 3.111689342052305e-07, 'alpha': 0.032132123788852135, 'learning_rate': 0.0022064106142400787, 'subsample': 0.4400567815856176, 'colsample_bytree': 0.31635085378133554, 'max_depth': 7, 'min_child_weight': 7, 'eta': 0.059081976296217455, 'gamma': 9.975243596300521e-08, 'grow_policy': 'lossguide', 'sample_type': 'uniform', 'normalize_type': 'tree', 'rate_drop': 0.5361619415496142, 'skip_drop': 0.003494785112405993}. Best is trial 82 with value: 37.33350964181296.\n",
      "[I 2024-07-03 08:41:50,302] Trial 86 finished with value: 37.36965964648742 and parameters: {'booster': 'dart', 'lambda': 2.1588762944955219e-07, 'alpha': 0.09512966190859891, 'learning_rate': 0.00191917940159222, 'subsample': 0.3490428920528622, 'colsample_bytree': 0.2005929572953753, 'max_depth': 7, 'min_child_weight': 7, 'eta': 0.0007909342148120867, 'gamma': 1.7226091031016845e-08, 'grow_policy': 'lossguide', 'sample_type': 'uniform', 'normalize_type': 'tree', 'rate_drop': 0.07636094578650932, 'skip_drop': 0.0007934677734175102}. Best is trial 82 with value: 37.33350964181296.\n"
     ]
    },
    {
     "name": "stdout",
     "output_type": "stream",
     "text": [
      "Trial: 85 - MSE: 37.346685759935575 - RMSE: 6.111193480813349\n",
      "Trial: 86 - MSE: 37.36965964648742 - RMSE: 6.113072848125354\n"
     ]
    },
    {
     "name": "stderr",
     "output_type": "stream",
     "text": [
      "[I 2024-07-03 08:41:50,393] Trial 87 finished with value: 37.3483370983489 and parameters: {'booster': 'gbtree', 'lambda': 7.469514080513225e-08, 'alpha': 0.001245189166922158, 'learning_rate': 0.001410210004488955, 'subsample': 0.3118468114083854, 'colsample_bytree': 0.27441587748119844, 'max_depth': 7, 'min_child_weight': 6, 'eta': 0.034674925682199126, 'gamma': 8.805615367659149e-08, 'grow_policy': 'depthwise'}. Best is trial 82 with value: 37.33350964181296.\n",
      "[I 2024-07-03 08:41:50,468] Trial 88 finished with value: 37.310630677694625 and parameters: {'booster': 'gbtree', 'lambda': 7.876075627350531e-08, 'alpha': 0.000785026785813404, 'learning_rate': 0.0012806417342887532, 'subsample': 0.29566950689522487, 'colsample_bytree': 0.11717532661594351, 'max_depth': 5, 'min_child_weight': 7, 'eta': 0.003869480977098277, 'gamma': 3.855920821950876e-08, 'grow_policy': 'depthwise'}. Best is trial 88 with value: 37.310630677694625.\n",
      "[I 2024-07-03 08:41:50,527] Trial 89 finished with value: 37.335049881566086 and parameters: {'booster': 'gbtree', 'lambda': 1.7930602277129757e-08, 'alpha': 0.007068399402538259, 'learning_rate': 0.0011885143374353179, 'subsample': 0.2878632107982427, 'colsample_bytree': 0.23083486714130128, 'max_depth': 5, 'min_child_weight': 7, 'eta': 0.0034153434660738617, 'gamma': 3.98780880523004e-08, 'grow_policy': 'depthwise'}. Best is trial 88 with value: 37.310630677694625.\n"
     ]
    },
    {
     "name": "stdout",
     "output_type": "stream",
     "text": [
      "Trial: 87 - MSE: 37.3483370983489 - RMSE: 6.1113285870053575\n",
      "Trial: 88 - MSE: 37.310630677694625 - RMSE: 6.108242846981006\n",
      "Trial: 89 - MSE: 37.335049881566086 - RMSE: 6.110241393068369\n"
     ]
    },
    {
     "name": "stderr",
     "output_type": "stream",
     "text": [
      "[I 2024-07-03 08:41:50,712] Trial 90 finished with value: 37.310537273258824 and parameters: {'booster': 'gbtree', 'lambda': 1.8870831252919343e-08, 'alpha': 0.010329559919130912, 'learning_rate': 0.001484839675852159, 'subsample': 0.2772943691115936, 'colsample_bytree': 0.051299690124966324, 'max_depth': 5, 'min_child_weight': 8, 'eta': 0.0035526360120330886, 'gamma': 4.6304212187255046e-08, 'grow_policy': 'depthwise'}. Best is trial 90 with value: 37.310537273258824.\n",
      "[I 2024-07-03 08:41:50,808] Trial 91 finished with value: 37.31044253969419 and parameters: {'booster': 'gbtree', 'lambda': 2.1453970675670647e-08, 'alpha': 0.00612775842056106, 'learning_rate': 0.0012525174995102583, 'subsample': 0.2971877837592002, 'colsample_bytree': 0.05072119093225405, 'max_depth': 5, 'min_child_weight': 8, 'eta': 0.0040275381029063915, 'gamma': 3.509566216893657e-08, 'grow_policy': 'depthwise'}. Best is trial 91 with value: 37.31044253969419.\n"
     ]
    },
    {
     "name": "stdout",
     "output_type": "stream",
     "text": [
      "Trial: 90 - MSE: 37.310537273258824 - RMSE: 6.10823520120655\n",
      "Trial: 91 - MSE: 37.31044253969419 - RMSE: 6.108227446624282\n"
     ]
    },
    {
     "name": "stderr",
     "output_type": "stream",
     "text": [
      "[I 2024-07-03 08:41:50,922] Trial 92 finished with value: 37.31024625679498 and parameters: {'booster': 'gbtree', 'lambda': 1.7519720620339615e-08, 'alpha': 0.009573125846585963, 'learning_rate': 0.0012526178317241407, 'subsample': 0.28395056881331143, 'colsample_bytree': 0.05396990898530182, 'max_depth': 5, 'min_child_weight': 8, 'eta': 0.004619550292039947, 'gamma': 3.2915739996849995e-08, 'grow_policy': 'depthwise'}. Best is trial 92 with value: 37.31024625679498.\n",
      "[I 2024-07-03 08:41:50,999] Trial 93 finished with value: 37.30988479150545 and parameters: {'booster': 'gbtree', 'lambda': 1.793517888488351e-08, 'alpha': 0.0026401208816291886, 'learning_rate': 0.0012217887428722827, 'subsample': 0.27798979581312544, 'colsample_bytree': 0.055395692281586424, 'max_depth': 5, 'min_child_weight': 8, 'eta': 0.010762335379967637, 'gamma': 3.121442007678229e-08, 'grow_policy': 'depthwise'}. Best is trial 93 with value: 37.30988479150545.\n",
      "[I 2024-07-03 08:41:51,058] Trial 94 finished with value: 37.30995333421158 and parameters: {'booster': 'gbtree', 'lambda': 1.793094156237174e-08, 'alpha': 0.002452850480635448, 'learning_rate': 0.0011376940483236039, 'subsample': 0.2811232877846417, 'colsample_bytree': 0.08735333874434328, 'max_depth': 5, 'min_child_weight': 8, 'eta': 0.00236056250352929, 'gamma': 3.4541281091911305e-08, 'grow_policy': 'depthwise'}. Best is trial 93 with value: 37.30988479150545.\n"
     ]
    },
    {
     "name": "stdout",
     "output_type": "stream",
     "text": [
      "Trial: 92 - MSE: 37.31024625679498 - RMSE: 6.108211379511598\n",
      "Trial: 93 - MSE: 37.30988479150545 - RMSE: 6.108181790967379\n",
      "Trial: 94 - MSE: 37.30995333421158 - RMSE: 6.1081874016938595\n"
     ]
    },
    {
     "name": "stderr",
     "output_type": "stream",
     "text": [
      "[I 2024-07-03 08:41:51,128] Trial 95 finished with value: 37.30979422283714 and parameters: {'booster': 'gbtree', 'lambda': 1.782578542768778e-08, 'alpha': 0.0024165554049674254, 'learning_rate': 0.0011868123357540892, 'subsample': 0.27789307965424703, 'colsample_bytree': 0.050576426792806224, 'max_depth': 5, 'min_child_weight': 9, 'eta': 0.0022684573297189975, 'gamma': 3.635249160001904e-08, 'grow_policy': 'depthwise'}. Best is trial 95 with value: 37.30979422283714.\n",
      "[I 2024-07-03 08:41:51,209] Trial 96 finished with value: 37.30948872114199 and parameters: {'booster': 'gbtree', 'lambda': 1.932116425524344e-08, 'alpha': 0.002607815095551034, 'learning_rate': 0.0010967660905229464, 'subsample': 0.27592137172367703, 'colsample_bytree': 0.07486753519541206, 'max_depth': 5, 'min_child_weight': 9, 'eta': 0.0027443109965453517, 'gamma': 3.330037397996609e-08, 'grow_policy': 'depthwise'}. Best is trial 96 with value: 37.30948872114199.\n",
      "[I 2024-07-03 08:41:51,264] Trial 97 finished with value: 37.30990790165233 and parameters: {'booster': 'gbtree', 'lambda': 1.882536116158611e-08, 'alpha': 0.0027144935518790287, 'learning_rate': 0.001161794468173615, 'subsample': 0.27905006790879244, 'colsample_bytree': 0.05845043649811783, 'max_depth': 5, 'min_child_weight': 9, 'eta': 0.0026025731478111483, 'gamma': 1.4825931614178092e-08, 'grow_policy': 'depthwise'}. Best is trial 96 with value: 37.30948872114199.\n"
     ]
    },
    {
     "name": "stdout",
     "output_type": "stream",
     "text": [
      "Trial: 95 - MSE: 37.30979422283714 - RMSE: 6.108174377245392\n",
      "Trial: 96 - MSE: 37.30948872114199 - RMSE: 6.108149369583392\n",
      "Trial: 97 - MSE: 37.30990790165233 - RMSE: 6.108183682704076\n"
     ]
    },
    {
     "name": "stderr",
     "output_type": "stream",
     "text": [
      "[I 2024-07-03 08:41:51,338] Trial 98 finished with value: 37.31036714024318 and parameters: {'booster': 'gbtree', 'lambda': 1.9721446450373597e-08, 'alpha': 0.00260978115244722, 'learning_rate': 0.0010240341584971968, 'subsample': 0.23559221461102497, 'colsample_bytree': 0.05311324503234122, 'max_depth': 5, 'min_child_weight': 9, 'eta': 0.001316768502320952, 'gamma': 1.9571466746288824e-08, 'grow_policy': 'depthwise'}. Best is trial 96 with value: 37.30948872114199.\n",
      "[I 2024-07-03 08:41:51,423] Trial 99 finished with value: 37.31097822822329 and parameters: {'booster': 'gbtree', 'lambda': 1.8757471518142993e-08, 'alpha': 0.002324272624225098, 'learning_rate': 0.0011210778573129939, 'subsample': 0.22970519104927184, 'colsample_bytree': 0.05009417306201422, 'max_depth': 5, 'min_child_weight': 9, 'eta': 0.001244574176201132, 'gamma': 1.60498210589029e-08, 'grow_policy': 'depthwise'}. Best is trial 96 with value: 37.30948872114199.\n"
     ]
    },
    {
     "name": "stdout",
     "output_type": "stream",
     "text": [
      "Trial: 98 - MSE: 37.31036714024318 - RMSE: 6.108221274662795\n",
      "Trial: 99 - MSE: 37.31097822822329 - RMSE: 6.108271296219847\n"
     ]
    }
   ],
   "source": [
    "# configuration optuna\n",
    "study_st = optuna.create_study(direction='minimize', sampler=sampler)\n",
    "study_st.optimize(lambda trial: objective(trial, X_st_train, y_st_train, X_st_test, y_st_test), n_trials=n_trials)"
   ]
  },
  {
   "cell_type": "code",
   "execution_count": 19,
   "metadata": {},
   "outputs": [
    {
     "name": "stdout",
     "output_type": "stream",
     "text": [
      "Número de pruebas: 100\n",
      "Mejor prueba: 96\n",
      "Mejores parametros: {'booster': 'gbtree', 'lambda': 1.932116425524344e-08, 'alpha': 0.002607815095551034, 'learning_rate': 0.0010967660905229464, 'subsample': 0.27592137172367703, 'colsample_bytree': 0.07486753519541206, 'max_depth': 5, 'min_child_weight': 9, 'eta': 0.0027443109965453517, 'gamma': 3.330037397996609e-08, 'grow_policy': 'depthwise'}\n",
      "Mejor valor de pérdida en validación: 37.30948872114199\n"
     ]
    }
   ],
   "source": [
    "# Results\n",
    "print(f'Número de pruebas: {len(study_st.trials)}')\n",
    "trial = study_st.best_trial\n",
    "print(f'Mejor prueba: {trial.number}')\n",
    "print(f'Mejores parametros: {trial.params}')\n",
    "print(f'Mejor valor de pérdida en validación: {trial.value}')"
   ]
  },
  {
   "cell_type": "markdown",
   "metadata": {},
   "source": [
    "## Multi Thread"
   ]
  },
  {
   "cell_type": "code",
   "execution_count": 20,
   "metadata": {},
   "outputs": [
    {
     "name": "stderr",
     "output_type": "stream",
     "text": [
      "[I 2024-07-03 08:41:51,453] A new study created in memory with name: no-name-6d29bf4c-df2f-4ec8-baf7-964958a69904\n",
      "[I 2024-07-03 08:41:51,573] Trial 0 finished with value: 677.1929151913695 and parameters: {'booster': 'gbtree', 'lambda': 5.989794878601609e-08, 'alpha': 0.0008318745034635068, 'learning_rate': 0.09552294429449876, 'subsample': 0.31206721218921923, 'colsample_bytree': 0.5424131697455499, 'max_depth': 9, 'min_child_weight': 8, 'eta': 0.0037681304379790182, 'gamma': 0.0041674718203826185, 'grow_policy': 'depthwise'}. Best is trial 0 with value: 677.1929151913695.\n"
     ]
    },
    {
     "name": "stdout",
     "output_type": "stream",
     "text": [
      "Trial: 0 - MSE: 677.1929151913695 - RMSE: 26.022930565010725\n"
     ]
    },
    {
     "name": "stderr",
     "output_type": "stream",
     "text": [
      "[I 2024-07-03 08:41:51,702] Trial 1 finished with value: 565.3777931151645 and parameters: {'booster': 'dart', 'lambda': 0.202266714663928, 'alpha': 0.00012323645327131397, 'learning_rate': 0.010070072316456572, 'subsample': 0.8386361431734202, 'colsample_bytree': 0.6674657342388769, 'max_depth': 7, 'min_child_weight': 9, 'eta': 0.1318386461290972, 'gamma': 5.057795373282649e-06, 'grow_policy': 'depthwise', 'sample_type': 'uniform', 'normalize_type': 'forest', 'rate_drop': 1.960333750158439e-06, 'skip_drop': 0.0005329249885649307}. Best is trial 1 with value: 565.3777931151645.\n"
     ]
    },
    {
     "name": "stdout",
     "output_type": "stream",
     "text": [
      "Trial: 1 - MSE: 565.3777931151645 - RMSE: 23.77767425790766\n"
     ]
    },
    {
     "name": "stderr",
     "output_type": "stream",
     "text": [
      "[I 2024-07-03 08:41:51,887] Trial 2 finished with value: 568.724318139775 and parameters: {'booster': 'dart', 'lambda': 7.6124618871412325e-06, 'alpha': 1.0386855772080306e-07, 'learning_rate': 0.011078641782934488, 'subsample': 0.8159948424788888, 'colsample_bytree': 0.255029976122001, 'max_depth': 7, 'min_child_weight': 2, 'eta': 2.5909186033680598e-08, 'gamma': 0.00017817101436983106, 'grow_policy': 'lossguide', 'sample_type': 'weighted', 'normalize_type': 'tree', 'rate_drop': 0.02298738439458882, 'skip_drop': 1.4677700110205883e-06}. Best is trial 1 with value: 565.3777931151645.\n"
     ]
    },
    {
     "name": "stdout",
     "output_type": "stream",
     "text": [
      "Trial: 2 - MSE: 568.724318139775 - RMSE: 23.84794159125217\n"
     ]
    },
    {
     "name": "stderr",
     "output_type": "stream",
     "text": [
      "[I 2024-07-03 08:41:51,950] Trial 3 finished with value: 573.4568224761529 and parameters: {'booster': 'gbtree', 'lambda': 0.502559303800778, 'alpha': 0.04873499929269755, 'learning_rate': 0.024657464253392724, 'subsample': 0.527162355531416, 'colsample_bytree': 0.21462960406730347, 'max_depth': 3, 'min_child_weight': 4, 'eta': 0.0002476357361657623, 'gamma': 0.005209156216369749, 'grow_policy': 'depthwise'}. Best is trial 1 with value: 565.3777931151645.\n",
      "[I 2024-07-03 08:41:51,988] Trial 4 finished with value: 555.6021119102987 and parameters: {'booster': 'gbtree', 'lambda': 0.0007830075864113193, 'alpha': 2.2740525659693076e-05, 'learning_rate': 0.0031294064907273164, 'subsample': 0.4847781429210093, 'colsample_bytree': 0.7699538049411506, 'max_depth': 3, 'min_child_weight': 3, 'eta': 2.3335716294063244e-08, 'gamma': 2.1175341281436913e-08, 'grow_policy': 'depthwise'}. Best is trial 4 with value: 555.6021119102987.\n",
      "[I 2024-07-03 08:41:52,051] Trial 5 finished with value: 562.412875364209 and parameters: {'booster': 'dart', 'lambda': 6.134429310056972e-05, 'alpha': 2.430048599323117e-07, 'learning_rate': 0.007374002805073997, 'subsample': 0.5188037875178988, 'colsample_bytree': 0.6350575931496056, 'max_depth': 7, 'min_child_weight': 2, 'eta': 9.928894978066514e-06, 'gamma': 0.0010159663543783963, 'grow_policy': 'lossguide', 'sample_type': 'uniform', 'normalize_type': 'forest', 'rate_drop': 1.6296355283732916e-08, 'skip_drop': 0.00048551723386735715}. Best is trial 4 with value: 555.6021119102987.\n",
      "[I 2024-07-03 08:41:52,082] Trial 6 finished with value: 577.0356607123956 and parameters: {'booster': 'gbtree', 'lambda': 0.0014005729925787866, 'alpha': 4.6347159654171755e-05, 'learning_rate': 0.01233768218146814, 'subsample': 0.9531718470212203, 'colsample_bytree': 0.4167975059107355, 'max_depth': 9, 'min_child_weight': 10, 'eta': 3.684080220204264e-07, 'gamma': 3.588313731249195e-08, 'grow_policy': 'depthwise'}. Best is trial 4 with value: 555.6021119102987.\n"
     ]
    },
    {
     "name": "stdout",
     "output_type": "stream",
     "text": [
      "Trial: 3 - MSE: 573.4568224761529 - RMSE: 23.94695852245443\n",
      "Trial: 4 - MSE: 555.6021119102987 - RMSE: 23.571213628286067\n",
      "Trial: 5 - MSE: 562.412875364209 - RMSE: 23.715245631538565\n",
      "Trial: 6 - MSE: 577.0356607123956 - RMSE: 24.021566574900888\n"
     ]
    },
    {
     "name": "stderr",
     "output_type": "stream",
     "text": [
      "[I 2024-07-03 08:41:52,088] Trial 7 finished with value: 547.4889470203348 and parameters: {'booster': 'gblinear', 'lambda': 3.5629115607768247e-06, 'alpha': 0.05741197509103047, 'learning_rate': 0.0011131248325404496, 'subsample': 0.8515747860711487, 'colsample_bytree': 0.3177620360347299}. Best is trial 7 with value: 547.4889470203348.\n",
      "[I 2024-07-03 08:41:52,115] Trial 8 finished with value: 498.80798153299025 and parameters: {'booster': 'gblinear', 'lambda': 0.10465888611170397, 'alpha': 0.007595709565769595, 'learning_rate': 0.04045403638787862, 'subsample': 0.4256276580570452, 'colsample_bytree': 0.21856756659073667}. Best is trial 8 with value: 498.80798153299025.\n"
     ]
    },
    {
     "name": "stdout",
     "output_type": "stream",
     "text": [
      "Trial: 7 - MSE: 547.4889470203348 - RMSE: 23.398481724683222\n",
      "Trial: 8 - MSE: 498.80798153299025 - RMSE: 22.334009526571585\n"
     ]
    },
    {
     "name": "stderr",
     "output_type": "stream",
     "text": [
      "[I 2024-07-03 08:41:52,184] Trial 9 finished with value: 583.1905902203093 and parameters: {'booster': 'dart', 'lambda': 1.999592113907599e-05, 'alpha': 9.46552455267957e-06, 'learning_rate': 0.035712966096410566, 'subsample': 0.4726428322024143, 'colsample_bytree': 0.9342194593233865, 'max_depth': 9, 'min_child_weight': 5, 'eta': 0.01016175084622022, 'gamma': 0.010872839887037305, 'grow_policy': 'lossguide', 'sample_type': 'weighted', 'normalize_type': 'forest', 'rate_drop': 1.2990127982029967e-05, 'skip_drop': 1.2209593692200085e-08}. Best is trial 8 with value: 498.80798153299025.\n",
      "[I 2024-07-03 08:41:52,217] Trial 10 finished with value: 502.7809343807611 and parameters: {'booster': 'gblinear', 'lambda': 0.015931283120412403, 'alpha': 0.5605716019059204, 'learning_rate': 0.09112393835752654, 'subsample': 0.22905483001346488, 'colsample_bytree': 0.05819275749574293}. Best is trial 8 with value: 498.80798153299025.\n",
      "[I 2024-07-03 08:41:52,252] Trial 11 finished with value: 488.21023386524206 and parameters: {'booster': 'gblinear', 'lambda': 0.015983391155893846, 'alpha': 0.7157457809840834, 'learning_rate': 0.08620695429342008, 'subsample': 0.2204464167073257, 'colsample_bytree': 0.07909003274938053}. Best is trial 11 with value: 488.21023386524206.\n",
      "[I 2024-07-03 08:41:52,288] Trial 12 finished with value: 500.6955574232895 and parameters: {'booster': 'gblinear', 'lambda': 0.018451621199861216, 'alpha': 0.004614260329467164, 'learning_rate': 0.042931229367876834, 'subsample': 0.3481913073221332, 'colsample_bytree': 0.059201104606749266}. Best is trial 11 with value: 488.21023386524206.\n"
     ]
    },
    {
     "name": "stdout",
     "output_type": "stream",
     "text": [
      "Trial: 9 - MSE: 583.1905902203093 - RMSE: 24.14933933299852\n",
      "Trial: 10 - MSE: 502.7809343807611 - RMSE: 22.422777133547957\n",
      "Trial: 11 - MSE: 488.21023386524206 - RMSE: 22.09547994195288\n",
      "Trial: 12 - MSE: 500.6955574232895 - RMSE: 22.37622750651435\n"
     ]
    },
    {
     "name": "stderr",
     "output_type": "stream",
     "text": [
      "[I 2024-07-03 08:41:52,316] Trial 13 finished with value: 466.18796034552435 and parameters: {'booster': 'gblinear', 'lambda': 0.026758763366929273, 'alpha': 0.985176822519382, 'learning_rate': 0.05340673377810871, 'subsample': 0.21906996068917262, 'colsample_bytree': 0.15676169098118364}. Best is trial 13 with value: 466.18796034552435.\n",
      "[I 2024-07-03 08:41:52,341] Trial 14 finished with value: 481.7276727604643 and parameters: {'booster': 'gblinear', 'lambda': 0.006252652684706276, 'alpha': 0.6724330512093712, 'learning_rate': 0.06625579027092043, 'subsample': 0.20093950289033202, 'colsample_bytree': 0.12796383660709276}. Best is trial 13 with value: 466.18796034552435.\n",
      "[I 2024-07-03 08:41:52,366] Trial 15 finished with value: 493.2865683717754 and parameters: {'booster': 'gblinear', 'lambda': 0.0008363307580039334, 'alpha': 0.9740812897885013, 'learning_rate': 0.020606545940804705, 'subsample': 0.7115665147449044, 'colsample_bytree': 0.4254558105937466}. Best is trial 13 with value: 466.18796034552435.\n"
     ]
    },
    {
     "name": "stdout",
     "output_type": "stream",
     "text": [
      "Trial: 13 - MSE: 466.18796034552435 - RMSE: 21.591386253446636\n",
      "Trial: 14 - MSE: 481.7276727604643 - RMSE: 21.948295440887073\n",
      "Trial: 15 - MSE: 493.2865683717754 - RMSE: 22.21005556885834\n"
     ]
    },
    {
     "name": "stderr",
     "output_type": "stream",
     "text": [
      "[I 2024-07-03 08:41:52,400] Trial 16 finished with value: 508.91326492622693 and parameters: {'booster': 'gblinear', 'lambda': 0.004460582135966797, 'alpha': 0.061646776021491, 'learning_rate': 0.05562991334911608, 'subsample': 0.30409652268665033, 'colsample_bytree': 0.16597667333844723}. Best is trial 13 with value: 466.18796034552435.\n",
      "[I 2024-07-03 08:41:52,431] Trial 17 finished with value: 518.7576567392465 and parameters: {'booster': 'gblinear', 'lambda': 0.8892765950366818, 'alpha': 1.3772919188116979e-08, 'learning_rate': 0.020948902033819154, 'subsample': 0.636853194551348, 'colsample_bytree': 0.3800562873982124}. Best is trial 13 with value: 466.18796034552435.\n",
      "[I 2024-07-03 08:41:52,469] Trial 18 finished with value: 536.7863687156195 and parameters: {'booster': 'gblinear', 'lambda': 5.580389331760492e-07, 'alpha': 0.00499132934718474, 'learning_rate': 0.0040228784348498876, 'subsample': 0.3856671519270073, 'colsample_bytree': 0.14128294575707687}. Best is trial 13 with value: 466.18796034552435.\n",
      "[I 2024-07-03 08:41:52,504] Trial 19 finished with value: 511.6335358767453 and parameters: {'booster': 'gblinear', 'lambda': 0.00017325463129235218, 'alpha': 0.10074312992844045, 'learning_rate': 0.06043357977380331, 'subsample': 0.21387436556137737, 'colsample_bytree': 0.30330568390864987}. Best is trial 13 with value: 466.18796034552435.\n"
     ]
    },
    {
     "name": "stdout",
     "output_type": "stream",
     "text": [
      "Trial: 16 - MSE: 508.91326492622693 - RMSE: 22.559106031184545\n",
      "Trial: 17 - MSE: 518.7576567392465 - RMSE: 22.776252034503976\n",
      "Trial: 18 - MSE: 536.7863687156195 - RMSE: 23.168650558796458\n",
      "Trial: 19 - MSE: 511.6335358767453 - RMSE: 22.6193177588703\n"
     ]
    },
    {
     "name": "stderr",
     "output_type": "stream",
     "text": [
      "[I 2024-07-03 08:41:52,536] Trial 20 finished with value: 498.31474217351746 and parameters: {'booster': 'gblinear', 'lambda': 0.05710831780568094, 'alpha': 0.0005896890692454129, 'learning_rate': 0.030702932289180192, 'subsample': 0.6070332135248807, 'colsample_bytree': 0.5043375848101521}. Best is trial 13 with value: 466.18796034552435.\n",
      "[I 2024-07-03 08:41:52,571] Trial 21 finished with value: 507.73122138200756 and parameters: {'booster': 'gblinear', 'lambda': 0.010719436610854236, 'alpha': 0.29158416573877116, 'learning_rate': 0.07115785573692456, 'subsample': 0.20938754734510795, 'colsample_bytree': 0.0989223842362437}. Best is trial 13 with value: 466.18796034552435.\n",
      "[I 2024-07-03 08:41:52,601] Trial 22 finished with value: 468.95061728542555 and parameters: {'booster': 'gblinear', 'lambda': 0.004071387503567325, 'alpha': 0.8931716349760256, 'learning_rate': 0.05680095702835433, 'subsample': 0.2822657279813765, 'colsample_bytree': 0.15897632209908086}. Best is trial 13 with value: 466.18796034552435.\n"
     ]
    },
    {
     "name": "stdout",
     "output_type": "stream",
     "text": [
      "Trial: 20 - MSE: 498.31474217351746 - RMSE: 22.322964457560683\n",
      "Trial: 21 - MSE: 507.73122138200756 - RMSE: 22.532891988868354\n",
      "Trial: 22 - MSE: 468.95061728542555 - RMSE: 21.65526765674868\n"
     ]
    },
    {
     "name": "stderr",
     "output_type": "stream",
     "text": [
      "[I 2024-07-03 08:41:52,632] Trial 23 finished with value: 509.5411869946665 and parameters: {'booster': 'gblinear', 'lambda': 0.0020991702382606755, 'alpha': 0.018396074441495984, 'learning_rate': 0.054377278878406876, 'subsample': 0.28355472627845263, 'colsample_bytree': 0.17559403051531042}. Best is trial 13 with value: 466.18796034552435.\n",
      "[I 2024-07-03 08:41:52,668] Trial 24 finished with value: 504.0520649507863 and parameters: {'booster': 'gblinear', 'lambda': 0.0001395650119205872, 'alpha': 0.18738965188496717, 'learning_rate': 0.018189825875950378, 'subsample': 0.27972080818864264, 'colsample_bytree': 0.31062675158079756}. Best is trial 13 with value: 466.18796034552435.\n",
      "[I 2024-07-03 08:41:52,696] Trial 25 finished with value: 506.7501217570925 and parameters: {'booster': 'gblinear', 'lambda': 0.05747522013680052, 'alpha': 0.015780301173880178, 'learning_rate': 0.05380543572450765, 'subsample': 0.3878716901522996, 'colsample_bytree': 0.26544658684744576}. Best is trial 13 with value: 466.18796034552435.\n",
      "[I 2024-07-03 08:41:52,727] Trial 26 finished with value: 494.3638812257441 and parameters: {'booster': 'gblinear', 'lambda': 0.0005093110074001493, 'alpha': 0.2083763422625899, 'learning_rate': 0.0313984308901679, 'subsample': 0.3415027508414262, 'colsample_bytree': 0.1472227557343493}. Best is trial 13 with value: 466.18796034552435.\n"
     ]
    },
    {
     "name": "stdout",
     "output_type": "stream",
     "text": [
      "Trial: 23 - MSE: 509.5411869946665 - RMSE: 22.57301900487984\n",
      "Trial: 24 - MSE: 504.0520649507863 - RMSE: 22.451103869315343\n",
      "Trial: 25 - MSE: 506.7501217570925 - RMSE: 22.511111073358695\n",
      "Trial: 26 - MSE: 494.3638812257441 - RMSE: 22.234295159184697\n"
     ]
    },
    {
     "name": "stderr",
     "output_type": "stream",
     "text": [
      "[I 2024-07-03 08:41:52,766] Trial 27 finished with value: 510.58312023665025 and parameters: {'booster': 'gblinear', 'lambda': 0.007475958972284585, 'alpha': 0.0011773400535274696, 'learning_rate': 0.014849584227618642, 'subsample': 0.28151025574506156, 'colsample_bytree': 0.35593596022090734}. Best is trial 13 with value: 466.18796034552435.\n",
      "[I 2024-07-03 08:41:52,834] Trial 28 finished with value: 559.1211487485264 and parameters: {'booster': 'dart', 'lambda': 0.00303964599359702, 'alpha': 3.968418681534404e-06, 'learning_rate': 0.005785389170797847, 'subsample': 0.40667335412995875, 'colsample_bytree': 0.5002709318305043, 'max_depth': 5, 'min_child_weight': 7, 'eta': 0.7240337075046487, 'gamma': 0.43216315911945036, 'grow_policy': 'lossguide', 'sample_type': 'uniform', 'normalize_type': 'tree', 'rate_drop': 0.2589005872418151, 'skip_drop': 0.2946716916598122}. Best is trial 13 with value: 466.18796034552435.\n"
     ]
    },
    {
     "name": "stdout",
     "output_type": "stream",
     "text": [
      "Trial: 27 - MSE: 510.58312023665025 - RMSE: 22.596086392042544\n",
      "Trial: 28 - MSE: 559.1211487485264 - RMSE: 23.64574271932532\n"
     ]
    },
    {
     "name": "stderr",
     "output_type": "stream",
     "text": [
      "[I 2024-07-03 08:41:52,896] Trial 29 finished with value: 632.4826476593244 and parameters: {'booster': 'gbtree', 'lambda': 1.5193875848539442e-08, 'alpha': 0.0016311405883034438, 'learning_rate': 0.09789948033279822, 'subsample': 0.2609795420493264, 'colsample_bytree': 0.9068292198572306, 'max_depth': 5, 'min_child_weight': 6, 'eta': 7.189715688461267e-06, 'gamma': 2.4627378671981515e-06, 'grow_policy': 'lossguide'}. Best is trial 13 with value: 466.18796034552435.\n",
      "[I 2024-07-03 08:41:52,947] Trial 30 finished with value: 552.5879486203328 and parameters: {'booster': 'gbtree', 'lambda': 0.2607225537578274, 'alpha': 0.000245602565111084, 'learning_rate': 0.0016895501176223294, 'subsample': 0.3499851482801988, 'colsample_bytree': 0.11708113719718982, 'max_depth': 5, 'min_child_weight': 10, 'eta': 0.000341165126897785, 'gamma': 0.877990881948576, 'grow_policy': 'depthwise'}. Best is trial 13 with value: 466.18796034552435.\n"
     ]
    },
    {
     "name": "stdout",
     "output_type": "stream",
     "text": [
      "Trial: 29 - MSE: 632.4826476593244 - RMSE: 25.14920769446474\n",
      "Trial: 30 - MSE: 552.5879486203328 - RMSE: 23.50718929647551\n"
     ]
    },
    {
     "name": "stderr",
     "output_type": "stream",
     "text": [
      "[I 2024-07-03 08:41:52,979] Trial 31 finished with value: 467.6916882432974 and parameters: {'booster': 'gblinear', 'lambda': 0.036112048791197976, 'alpha': 0.9697803212963566, 'learning_rate': 0.07590749454788008, 'subsample': 0.20615195867206265, 'colsample_bytree': 0.0529009657438001}. Best is trial 13 with value: 466.18796034552435.\n",
      "[I 2024-07-03 08:41:53,032] Trial 32 finished with value: 473.93822871537867 and parameters: {'booster': 'gblinear', 'lambda': 0.03870677695821799, 'alpha': 0.8202824397992288, 'learning_rate': 0.06766244388167318, 'subsample': 0.2019553800446143, 'colsample_bytree': 0.20622614774359066}. Best is trial 13 with value: 466.18796034552435.\n",
      "[I 2024-07-03 08:41:53,065] Trial 33 finished with value: 496.3439597830837 and parameters: {'booster': 'gblinear', 'lambda': 0.0476535156674958, 'alpha': 0.21149191859115848, 'learning_rate': 0.046515575978710325, 'subsample': 0.3208575486010234, 'colsample_bytree': 0.2136279291172557}. Best is trial 13 with value: 466.18796034552435.\n"
     ]
    },
    {
     "name": "stdout",
     "output_type": "stream",
     "text": [
      "Trial: 31 - MSE: 467.6916882432974 - RMSE: 21.626180620796113\n",
      "Trial: 32 - MSE: 473.93822871537867 - RMSE: 21.77012238632063\n",
      "Trial: 33 - MSE: 496.3439597830837 - RMSE: 22.278778238114487\n"
     ]
    },
    {
     "name": "stderr",
     "output_type": "stream",
     "text": [
      "[I 2024-07-03 08:41:53,134] Trial 34 finished with value: 593.4807192381492 and parameters: {'booster': 'dart', 'lambda': 0.12093663428263644, 'alpha': 0.024820864169227103, 'learning_rate': 0.02983969992489798, 'subsample': 0.2557366811257832, 'colsample_bytree': 0.1914538209564277, 'max_depth': 3, 'min_child_weight': 6, 'eta': 1.4618689628467286e-06, 'gamma': 1.7012691512105183e-06, 'grow_policy': 'lossguide', 'sample_type': 'weighted', 'normalize_type': 'tree', 'rate_drop': 0.0010957114274737412, 'skip_drop': 0.9842270686803426}. Best is trial 13 with value: 466.18796034552435.\n",
      "[I 2024-07-03 08:41:53,173] Trial 35 finished with value: 507.7192221091208 and parameters: {'booster': 'gblinear', 'lambda': 0.32075113101245445, 'alpha': 0.11156898947625984, 'learning_rate': 0.0727041109725092, 'subsample': 0.25767355873849623, 'colsample_bytree': 0.0513185163047339}. Best is trial 13 with value: 466.18796034552435.\n"
     ]
    },
    {
     "name": "stdout",
     "output_type": "stream",
     "text": [
      "Trial: 34 - MSE: 593.4807192381492 - RMSE: 24.361459710742892\n",
      "Trial: 35 - MSE: 507.7192221091208 - RMSE: 22.532625726024936\n"
     ]
    },
    {
     "name": "stderr",
     "output_type": "stream",
     "text": [
      "[I 2024-07-03 08:41:53,629] Trial 36 finished with value: 487.30844083230915 and parameters: {'booster': 'gblinear', 'lambda': 0.027290355592973752, 'alpha': 0.9389170679085191, 'learning_rate': 0.02581616203291226, 'subsample': 0.4457675648353727, 'colsample_bytree': 0.26466876008395035}. Best is trial 13 with value: 466.18796034552435.\n",
      "[I 2024-07-03 08:41:53,743] Trial 37 finished with value: 664.750346200588 and parameters: {'booster': 'gbtree', 'lambda': 0.23792864793671417, 'alpha': 0.3191076257977732, 'learning_rate': 0.0803706881109402, 'subsample': 0.5406790250672078, 'colsample_bytree': 0.604092859834923, 'max_depth': 7, 'min_child_weight': 4, 'eta': 0.010778038574735378, 'gamma': 1.8615417695652351e-07, 'grow_policy': 'depthwise'}. Best is trial 13 with value: 466.18796034552435.\n",
      "[I 2024-07-03 08:41:53,827] Trial 38 finished with value: 603.5149445020144 and parameters: {'booster': 'dart', 'lambda': 0.00026550159850636005, 'alpha': 1.0611293441235555e-06, 'learning_rate': 0.043425359191685386, 'subsample': 0.31728555900000016, 'colsample_bytree': 0.7317579856959701, 'max_depth': 5, 'min_child_weight': 8, 'eta': 2.639529014603917e-05, 'gamma': 0.073292947443399, 'grow_policy': 'lossguide', 'sample_type': 'uniform', 'normalize_type': 'tree', 'rate_drop': 1.066004663877091e-08, 'skip_drop': 2.72725699185593e-06}. Best is trial 13 with value: 466.18796034552435.\n"
     ]
    },
    {
     "name": "stdout",
     "output_type": "stream",
     "text": [
      "Trial: 36 - MSE: 487.30844083230915 - RMSE: 22.075063778669115\n",
      "Trial: 37 - MSE: 664.750346200588 - RMSE: 25.7827528825102\n",
      "Trial: 38 - MSE: 603.5149445020144 - RMSE: 24.566541158698232\n"
     ]
    },
    {
     "name": "stderr",
     "output_type": "stream",
     "text": [
      "[I 2024-07-03 08:41:53,865] Trial 39 finished with value: 511.56058631471024 and parameters: {'booster': 'gblinear', 'lambda': 0.08774410341636427, 'alpha': 0.04014071833163385, 'learning_rate': 0.015295173623265334, 'subsample': 0.6887301893321954, 'colsample_bytree': 0.2442447144640174}. Best is trial 13 with value: 466.18796034552435.\n",
      "[I 2024-07-03 08:41:53,921] Trial 40 finished with value: 565.1352390963784 and parameters: {'booster': 'gbtree', 'lambda': 0.655433139318122, 'alpha': 0.09630298320390891, 'learning_rate': 0.008310888544705635, 'subsample': 0.9885991294318142, 'colsample_bytree': 0.4509410562002465, 'max_depth': 3, 'min_child_weight': 5, 'eta': 2.1217693497341948e-07, 'gamma': 1.593970965081614e-05, 'grow_policy': 'depthwise'}. Best is trial 13 with value: 466.18796034552435.\n",
      "[I 2024-07-03 08:41:53,951] Trial 41 finished with value: 498.27275168567536 and parameters: {'booster': 'gblinear', 'lambda': 0.006164961740860836, 'alpha': 0.39586196895385206, 'learning_rate': 0.06719832757451097, 'subsample': 0.21272482761099779, 'colsample_bytree': 0.10378068686554713}. Best is trial 13 with value: 466.18796034552435.\n",
      "[I 2024-07-03 08:41:53,989] Trial 42 finished with value: 467.0334958680858 and parameters: {'booster': 'gblinear', 'lambda': 4.967382690051906e-05, 'alpha': 0.9428205404391516, 'learning_rate': 0.06473212941227154, 'subsample': 0.24808239065093346, 'colsample_bytree': 0.126796527290398}. Best is trial 13 with value: 466.18796034552435.\n",
      "[I 2024-07-03 08:41:54,015] Trial 43 finished with value: 475.51689648461786 and parameters: {'booster': 'gblinear', 'lambda': 3.8753208445106593e-05, 'alpha': 0.963010008355734, 'learning_rate': 0.09596667345407187, 'subsample': 0.2478614815027924, 'colsample_bytree': 0.21043219634557794}. Best is trial 13 with value: 466.18796034552435.\n",
      "[I 2024-07-03 08:41:54,048] Trial 44 finished with value: 494.44187391579345 and parameters: {'booster': 'gblinear', 'lambda': 3.4821061578482877e-06, 'alpha': 0.19571519172729654, 'learning_rate': 0.037567168072229984, 'subsample': 0.35401541697247363, 'colsample_bytree': 0.15442751027670254}. Best is trial 13 with value: 466.18796034552435.\n"
     ]
    },
    {
     "name": "stdout",
     "output_type": "stream",
     "text": [
      "Trial: 39 - MSE: 511.56058631471024 - RMSE: 22.617705151378868\n",
      "Trial: 40 - MSE: 565.1352390963784 - RMSE: 23.772573253570563\n",
      "Trial: 41 - MSE: 498.27275168567536 - RMSE: 22.32202391553408\n",
      "Trial: 42 - MSE: 467.0334958680858 - RMSE: 21.610957773039257\n",
      "Trial: 43 - MSE: 475.51689648461786 - RMSE: 21.80634991200081\n",
      "Trial: 44 - MSE: 494.44187391579345 - RMSE: 22.236048972688323\n"
     ]
    },
    {
     "name": "stderr",
     "output_type": "stream",
     "text": [
      "[I 2024-07-03 08:41:54,077] Trial 45 finished with value: 489.8124355387597 and parameters: {'booster': 'gblinear', 'lambda': 9.283967133687238e-06, 'alpha': 0.40674821329454186, 'learning_rate': 0.05068260427110461, 'subsample': 0.2995873204048985, 'colsample_bytree': 0.09704117615921576}. Best is trial 13 with value: 466.18796034552435.\n",
      "[I 2024-07-03 08:41:54,105] Trial 46 finished with value: 530.4265898283776 and parameters: {'booster': 'gblinear', 'lambda': 0.0011048665763063958, 'alpha': 0.04003917331786546, 'learning_rate': 0.07393510439553229, 'subsample': 0.23770470908211835, 'colsample_bytree': 0.2591459762929639}. Best is trial 13 with value: 466.18796034552435.\n",
      "[I 2024-07-03 08:41:54,189] Trial 47 finished with value: 581.9142946373831 and parameters: {'booster': 'dart', 'lambda': 0.0265325131091359, 'alpha': 0.011882134814799359, 'learning_rate': 0.040924846058581925, 'subsample': 0.8973162183364936, 'colsample_bytree': 0.1854561435885752, 'max_depth': 9, 'min_child_weight': 8, 'eta': 0.001469277514236471, 'gamma': 0.00010248963327757898, 'grow_policy': 'lossguide', 'sample_type': 'weighted', 'normalize_type': 'forest', 'rate_drop': 0.0011891849038666781, 'skip_drop': 0.007213790437874194}. Best is trial 13 with value: 466.18796034552435.\n"
     ]
    },
    {
     "name": "stdout",
     "output_type": "stream",
     "text": [
      "Trial: 45 - MSE: 489.8124355387597 - RMSE: 22.131706566344125\n",
      "Trial: 46 - MSE: 530.4265898283776 - RMSE: 23.03099194191118\n",
      "Trial: 47 - MSE: 581.9142946373831 - RMSE: 24.122899797441086\n"
     ]
    },
    {
     "name": "stderr",
     "output_type": "stream",
     "text": [
      "[I 2024-07-03 08:41:54,355] Trial 48 finished with value: 513.1199327644447 and parameters: {'booster': 'gblinear', 'lambda': 1.0009057011686822e-06, 'alpha': 0.10286806672241602, 'learning_rate': 0.06104254765239751, 'subsample': 0.2407393306429642, 'colsample_bytree': 0.05453018920454561}. Best is trial 13 with value: 466.18796034552435.\n",
      "[I 2024-07-03 08:41:54,406] Trial 49 finished with value: 508.8181958121466 and parameters: {'booster': 'gblinear', 'lambda': 6.217369612295053e-05, 'alpha': 0.4112074032592652, 'learning_rate': 0.0831589639741849, 'subsample': 0.8005153735311891, 'colsample_bytree': 0.9978088205851561}. Best is trial 13 with value: 466.18796034552435.\n",
      "[I 2024-07-03 08:41:54,443] Trial 50 finished with value: 498.6016756624943 and parameters: {'booster': 'gblinear', 'lambda': 0.0005133138549347346, 'alpha': 0.046696101891930054, 'learning_rate': 0.02564404049283432, 'subsample': 0.3729125905620311, 'colsample_bytree': 0.34860075923139733}. Best is trial 13 with value: 466.18796034552435.\n",
      "[I 2024-07-03 08:41:54,472] Trial 51 finished with value: 488.5969718750063 and parameters: {'booster': 'gblinear', 'lambda': 2.594963768161e-05, 'alpha': 0.7564871558968124, 'learning_rate': 0.09106427784233277, 'subsample': 0.249886331272409, 'colsample_bytree': 0.2187502279726466}. Best is trial 13 with value: 466.18796034552435.\n",
      "[I 2024-07-03 08:41:54,500] Trial 52 finished with value: 478.5435512419477 and parameters: {'booster': 'gblinear', 'lambda': 1.9337684252860825e-05, 'alpha': 0.7052679836497752, 'learning_rate': 0.061637114214815256, 'subsample': 0.2056687431145779, 'colsample_bytree': 0.13079919540357685}. Best is trial 13 with value: 466.18796034552435.\n",
      "[I 2024-07-03 08:41:54,525] Trial 53 finished with value: 478.38496283183366 and parameters: {'booster': 'gblinear', 'lambda': 5.5742554970898544e-05, 'alpha': 0.9031716779760327, 'learning_rate': 0.09383080669899929, 'subsample': 0.31798030977240266, 'colsample_bytree': 0.21110457427331386}. Best is trial 13 with value: 466.18796034552435.\n"
     ]
    },
    {
     "name": "stdout",
     "output_type": "stream",
     "text": [
      "Trial: 48 - MSE: 513.1199327644447 - RMSE: 22.652150731540807\n",
      "Trial: 49 - MSE: 508.8181958121466 - RMSE: 22.556998821034384\n",
      "Trial: 50 - MSE: 498.6016756624943 - RMSE: 22.329390400601945\n",
      "Trial: 51 - MSE: 488.5969718750063 - RMSE: 22.10422972815398\n",
      "Trial: 52 - MSE: 478.5435512419477 - RMSE: 21.875638304788907\n",
      "Trial: 53 - MSE: 478.38496283183366 - RMSE: 21.87201323225262\n"
     ]
    },
    {
     "name": "stderr",
     "output_type": "stream",
     "text": [
      "[I 2024-07-03 08:41:54,557] Trial 54 finished with value: 501.58713946166756 and parameters: {'booster': 'gblinear', 'lambda': 0.0018376481620084701, 'alpha': 0.137915148923716, 'learning_rate': 0.04997609691478325, 'subsample': 0.2770141688207049, 'colsample_bytree': 0.08950603086280425}. Best is trial 13 with value: 466.18796034552435.\n",
      "[I 2024-07-03 08:41:54,591] Trial 55 finished with value: 518.7309323559639 and parameters: {'booster': 'gblinear', 'lambda': 0.012960204473605236, 'alpha': 0.44652029094873563, 'learning_rate': 0.09999129018822328, 'subsample': 0.2408108289759934, 'colsample_bytree': 0.2995430756540008}. Best is trial 13 with value: 466.18796034552435.\n",
      "[I 2024-07-03 08:41:54,629] Trial 56 finished with value: 474.4264210096594 and parameters: {'booster': 'gblinear', 'lambda': 4.5781474375973745e-06, 'alpha': 0.9873659678788215, 'learning_rate': 0.03503481654116236, 'subsample': 0.2292317381572898, 'colsample_bytree': 0.16531810438374184}. Best is trial 13 with value: 466.18796034552435.\n",
      "[I 2024-07-03 08:41:54,657] Trial 57 finished with value: 497.877468476126 and parameters: {'booster': 'gblinear', 'lambda': 1.013405433258594e-06, 'alpha': 3.214143959929066e-05, 'learning_rate': 0.03432200497620473, 'subsample': 0.2013415490607333, 'colsample_bytree': 0.14231949291794976}. Best is trial 13 with value: 466.18796034552435.\n",
      "[I 2024-07-03 08:41:54,692] Trial 58 finished with value: 500.9597770573325 and parameters: {'booster': 'gblinear', 'lambda': 2.974572787453695e-06, 'alpha': 0.0687425903774934, 'learning_rate': 0.045810878698250214, 'subsample': 0.2968598690995903, 'colsample_bytree': 0.07412476900080231}. Best is trial 13 with value: 466.18796034552435.\n",
      "[I 2024-07-03 08:41:54,748] Trial 59 finished with value: 575.0936515336834 and parameters: {'booster': 'gbtree', 'lambda': 1.6364784109290272e-07, 'alpha': 0.29403376347704446, 'learning_rate': 0.05839823001779426, 'subsample': 0.5036027426056799, 'colsample_bytree': 0.16909382538519868, 'max_depth': 5, 'min_child_weight': 7, 'eta': 0.13898817043192974, 'gamma': 0.07386009797207678, 'grow_policy': 'lossguide'}. Best is trial 13 with value: 466.18796034552435.\n"
     ]
    },
    {
     "name": "stdout",
     "output_type": "stream",
     "text": [
      "Trial: 54 - MSE: 501.58713946166756 - RMSE: 22.39614117346262\n",
      "Trial: 55 - MSE: 518.7309323559639 - RMSE: 22.77566535484669\n",
      "Trial: 56 - MSE: 474.4264210096594 - RMSE: 21.781331938374645\n",
      "Trial: 57 - MSE: 497.877468476126 - RMSE: 22.313168051088713\n",
      "Trial: 58 - MSE: 500.9597770573325 - RMSE: 22.38213075328916\n",
      "Trial: 59 - MSE: 575.0936515336834 - RMSE: 23.981110306524247\n"
     ]
    },
    {
     "name": "stderr",
     "output_type": "stream",
     "text": [
      "[I 2024-07-03 08:41:54,802] Trial 60 finished with value: 498.27025948577057 and parameters: {'booster': 'gblinear', 'lambda': 1.3119590649875387e-05, 'alpha': 2.6493032526174956e-08, 'learning_rate': 0.03641093061373052, 'subsample': 0.44085910165279946, 'colsample_bytree': 0.12021921212095328}. Best is trial 13 with value: 466.18796034552435.\n"
     ]
    },
    {
     "name": "stdout",
     "output_type": "stream",
     "text": [
      "Trial: 60 - MSE: 498.27025948577057 - RMSE: 22.32196809167531\n"
     ]
    },
    {
     "name": "stderr",
     "output_type": "stream",
     "text": [
      "[I 2024-07-03 08:41:55,145] Trial 61 finished with value: 468.5116732488526 and parameters: {'booster': 'gblinear', 'lambda': 3.6588281313579876e-05, 'alpha': 0.9686197374637512, 'learning_rate': 0.07318570378451426, 'subsample': 0.23732652648804248, 'colsample_bytree': 0.22033012992824103}. Best is trial 13 with value: 466.18796034552435.\n",
      "[I 2024-07-03 08:41:55,224] Trial 62 finished with value: 495.6393554682973 and parameters: {'booster': 'gblinear', 'lambda': 0.0001068035394264566, 'alpha': 0.48546079784231616, 'learning_rate': 0.07159714810808016, 'subsample': 0.22836247975414178, 'colsample_bytree': 0.28444467386703076}. Best is trial 13 with value: 466.18796034552435.\n",
      "[I 2024-07-03 08:41:55,263] Trial 63 finished with value: 502.27553109536126 and parameters: {'booster': 'gblinear', 'lambda': 6.404412450165868e-06, 'alpha': 0.17573977316318196, 'learning_rate': 0.05341225428329308, 'subsample': 0.27416960172498284, 'colsample_bytree': 0.2266470294436468}. Best is trial 13 with value: 466.18796034552435.\n",
      "[I 2024-07-03 08:41:55,298] Trial 64 finished with value: 490.3805258151908 and parameters: {'booster': 'gblinear', 'lambda': 0.000256779490759046, 'alpha': 0.5097885707084474, 'learning_rate': 0.06500457284802187, 'subsample': 0.228942759871061, 'colsample_bytree': 0.1673336111658102}. Best is trial 13 with value: 466.18796034552435.\n",
      "[I 2024-07-03 08:41:55,328] Trial 65 finished with value: 519.4269077457163 and parameters: {'booster': 'gblinear', 'lambda': 0.04120414808418581, 'alpha': 0.24112705125629902, 'learning_rate': 0.08280696954548954, 'subsample': 0.32286650676948686, 'colsample_bytree': 0.08645196270213641}. Best is trial 13 with value: 466.18796034552435.\n"
     ]
    },
    {
     "name": "stdout",
     "output_type": "stream",
     "text": [
      "Trial: 61 - MSE: 468.5116732488526 - RMSE: 21.645130474285725\n",
      "Trial: 62 - MSE: 495.6393554682973 - RMSE: 22.262959270238476\n",
      "Trial: 63 - MSE: 502.27553109536126 - RMSE: 22.41150443623456\n",
      "Trial: 64 - MSE: 490.3805258151908 - RMSE: 22.14453715513582\n",
      "Trial: 65 - MSE: 519.4269077457163 - RMSE: 22.790939158922704\n"
     ]
    },
    {
     "name": "stderr",
     "output_type": "stream",
     "text": [
      "[I 2024-07-03 08:41:55,405] Trial 66 finished with value: 656.0061539029742 and parameters: {'booster': 'dart', 'lambda': 0.08374201041179231, 'alpha': 0.027502094549889868, 'learning_rate': 0.07523457540458728, 'subsample': 0.20166714583226483, 'colsample_bytree': 0.2442710552284848, 'max_depth': 7, 'min_child_weight': 3, 'eta': 6.221516517064004e-05, 'gamma': 1.7617007006285806e-07, 'grow_policy': 'depthwise', 'sample_type': 'weighted', 'normalize_type': 'tree', 'rate_drop': 7.400710350497936e-07, 'skip_drop': 1.274357218149225e-08}. Best is trial 13 with value: 466.18796034552435.\n",
      "[I 2024-07-03 08:41:55,448] Trial 67 finished with value: 499.38014212242666 and parameters: {'booster': 'gblinear', 'lambda': 0.0028958565408587567, 'alpha': 0.09153306640700674, 'learning_rate': 0.044316160400551724, 'subsample': 0.27124830433981634, 'colsample_bytree': 0.1879327807038792}. Best is trial 13 with value: 466.18796034552435.\n",
      "[I 2024-07-03 08:41:55,477] Trial 68 finished with value: 543.8609507908642 and parameters: {'booster': 'gblinear', 'lambda': 0.12732469726645776, 'alpha': 0.9920518814446888, 'learning_rate': 0.002281595584348835, 'subsample': 0.3442507538906576, 'colsample_bytree': 0.34206273842239066}. Best is trial 13 with value: 466.18796034552435.\n",
      "[I 2024-07-03 08:41:55,505] Trial 69 finished with value: 501.4045156150797 and parameters: {'booster': 'gblinear', 'lambda': 0.007648626664107751, 'alpha': 7.403505547345475e-05, 'learning_rate': 0.022416621923366783, 'subsample': 0.3027038146043287, 'colsample_bytree': 0.12468423280669515}. Best is trial 13 with value: 466.18796034552435.\n",
      "[I 2024-07-03 08:41:55,530] Trial 70 finished with value: 494.5898163655378 and parameters: {'booster': 'gblinear', 'lambda': 0.029832523255607937, 'alpha': 0.26642362075637716, 'learning_rate': 0.029207241219754116, 'subsample': 0.22761136097294427, 'colsample_bytree': 0.14943554163403272}. Best is trial 13 with value: 466.18796034552435.\n",
      "[I 2024-07-03 08:41:55,557] Trial 71 finished with value: 496.1547389819045 and parameters: {'booster': 'gblinear', 'lambda': 3.5053953976428436e-05, 'alpha': 0.5839115028561284, 'learning_rate': 0.0826287710141444, 'subsample': 0.2625535716296377, 'colsample_bytree': 0.20465906657733202}. Best is trial 13 with value: 466.18796034552435.\n",
      "[I 2024-07-03 08:41:55,583] Trial 72 finished with value: 468.16217921767463 and parameters: {'booster': 'gblinear', 'lambda': 5.115103919432891e-05, 'alpha': 0.9114993715489009, 'learning_rate': 0.05956015483840206, 'subsample': 0.24853588955692885, 'colsample_bytree': 0.2396061272346911}. Best is trial 13 with value: 466.18796034552435.\n"
     ]
    },
    {
     "name": "stdout",
     "output_type": "stream",
     "text": [
      "Trial: 66 - MSE: 656.0061539029742 - RMSE: 25.612617084221874\n",
      "Trial: 67 - MSE: 499.38014212242666 - RMSE: 22.3468150330741\n",
      "Trial: 68 - MSE: 543.8609507908642 - RMSE: 23.320826546048153\n",
      "Trial: 69 - MSE: 501.4045156150797 - RMSE: 22.392063674772803\n",
      "Trial: 70 - MSE: 494.5898163655378 - RMSE: 22.23937535915831\n",
      "Trial: 71 - MSE: 496.1547389819045 - RMSE: 22.274531173111242\n",
      "Trial: 72 - MSE: 468.16217921767463 - RMSE: 21.637055696597784\n"
     ]
    },
    {
     "name": "stderr",
     "output_type": "stream",
     "text": [
      "[I 2024-07-03 08:41:55,619] Trial 73 finished with value: 483.9978570230139 and parameters: {'booster': 'gblinear', 'lambda': 1.9568261662429205e-06, 'alpha': 0.5568529537494142, 'learning_rate': 0.0549075891635481, 'subsample': 0.28529946480017043, 'colsample_bytree': 0.23792917811052056}. Best is trial 13 with value: 466.18796034552435.\n",
      "[I 2024-07-03 08:41:55,665] Trial 74 finished with value: 514.2113726745055 and parameters: {'booster': 'gblinear', 'lambda': 5.790273287262345e-06, 'alpha': 0.15403475110051112, 'learning_rate': 0.06681575911518957, 'subsample': 0.23296582537822588, 'colsample_bytree': 0.4052843736421865}. Best is trial 13 with value: 466.18796034552435.\n",
      "[I 2024-07-03 08:41:55,725] Trial 75 finished with value: 603.6874487514276 and parameters: {'booster': 'gbtree', 'lambda': 8.172850418818185e-05, 'alpha': 0.3798031118551247, 'learning_rate': 0.048709051994155574, 'subsample': 0.20028643882263195, 'colsample_bytree': 0.2856298149597777, 'max_depth': 9, 'min_child_weight': 9, 'eta': 1.7346542263459133e-06, 'gamma': 0.0006019087860861851, 'grow_policy': 'depthwise'}. Best is trial 13 with value: 466.18796034552435.\n",
      "[I 2024-07-03 08:41:55,757] Trial 76 finished with value: 471.5885057692165 and parameters: {'booster': 'gblinear', 'lambda': 1.3747525245122616e-05, 'alpha': 0.9765619344866101, 'learning_rate': 0.039086399449904365, 'subsample': 0.2585939867744005, 'colsample_bytree': 0.11320497036219654}. Best is trial 13 with value: 466.18796034552435.\n",
      "[I 2024-07-03 08:41:55,783] Trial 77 finished with value: 502.1920158670795 and parameters: {'booster': 'gblinear', 'lambda': 0.0002632286353482306, 'alpha': 0.26388817186941393, 'learning_rate': 0.06046272665608721, 'subsample': 0.5451633086950205, 'colsample_bytree': 0.07051196396713076}. Best is trial 13 with value: 466.18796034552435.\n"
     ]
    },
    {
     "name": "stdout",
     "output_type": "stream",
     "text": [
      "Trial: 73 - MSE: 483.9978570230139 - RMSE: 21.99995129592368\n",
      "Trial: 74 - MSE: 514.2113726745055 - RMSE: 22.676229242854852\n",
      "Trial: 75 - MSE: 603.6874487514276 - RMSE: 24.570051867088672\n",
      "Trial: 76 - MSE: 471.5885057692165 - RMSE: 21.71608863882298\n",
      "Trial: 77 - MSE: 502.1920158670795 - RMSE: 22.409641136508178\n"
     ]
    },
    {
     "name": "stderr",
     "output_type": "stream",
     "text": [
      "[I 2024-07-03 08:41:55,869] Trial 78 finished with value: 573.6754526118093 and parameters: {'booster': 'dart', 'lambda': 1.2667153455679673e-05, 'alpha': 0.07126996782298849, 'learning_rate': 0.04236917855147213, 'subsample': 0.3669871728446744, 'colsample_bytree': 0.11195934771368582, 'max_depth': 3, 'min_child_weight': 5, 'eta': 0.05446281851879687, 'gamma': 2.2170617452934755e-05, 'grow_policy': 'lossguide', 'sample_type': 'uniform', 'normalize_type': 'forest', 'rate_drop': 0.0002451049103672404, 'skip_drop': 2.3999247802215556e-06}. Best is trial 13 with value: 466.18796034552435.\n",
      "[I 2024-07-03 08:41:55,926] Trial 79 finished with value: 521.621028428481 and parameters: {'booster': 'gblinear', 'lambda': 0.00017115401188583872, 'alpha': 0.16096950609780938, 'learning_rate': 0.07504763103736413, 'subsample': 0.40974566037590066, 'colsample_bytree': 0.32513894009776506}. Best is trial 13 with value: 466.18796034552435.\n",
      "[I 2024-07-03 08:41:55,952] Trial 80 finished with value: 535.2984300346247 and parameters: {'booster': 'gblinear', 'lambda': 0.3794034558735935, 'alpha': 9.246591126844162e-06, 'learning_rate': 0.006214610860905174, 'subsample': 0.2579517469643262, 'colsample_bytree': 0.6089983069516307}. Best is trial 13 with value: 466.18796034552435.\n",
      "[I 2024-07-03 08:41:55,979] Trial 81 finished with value: 472.9190595759131 and parameters: {'booster': 'gblinear', 'lambda': 1.9189825148066393e-05, 'alpha': 0.9721797478588569, 'learning_rate': 0.037346849765024316, 'subsample': 0.22083701329814076, 'colsample_bytree': 0.179499834325937}. Best is trial 13 with value: 466.18796034552435.\n",
      "[I 2024-07-03 08:41:56,055] Trial 82 finished with value: 480.74894831531986 and parameters: {'booster': 'gblinear', 'lambda': 3.788114837128146e-05, 'alpha': 0.657280938989722, 'learning_rate': 0.038595705381036335, 'subsample': 0.3249931397143475, 'colsample_bytree': 0.1811523796905182}. Best is trial 13 with value: 466.18796034552435.\n"
     ]
    },
    {
     "name": "stdout",
     "output_type": "stream",
     "text": [
      "Trial: 78 - MSE: 573.6754526118093 - RMSE: 23.951522970613148\n",
      "Trial: 79 - MSE: 521.621028428481 - RMSE: 22.839024244229023\n",
      "Trial: 80 - MSE: 535.2984300346247 - RMSE: 23.136517240817053\n",
      "Trial: 81 - MSE: 472.9190595759131 - RMSE: 21.74670226898582\n",
      "Trial: 82 - MSE: 480.74894831531986 - RMSE: 21.92598796668738\n"
     ]
    },
    {
     "name": "stderr",
     "output_type": "stream",
     "text": [
      "[I 2024-07-03 08:41:56,149] Trial 83 finished with value: 494.34748467094744 and parameters: {'booster': 'gblinear', 'lambda': 2.126506064312097e-05, 'alpha': 0.35755333391074373, 'learning_rate': 0.056042589517849246, 'subsample': 0.2916189219440696, 'colsample_bytree': 0.13119631212604782}. Best is trial 13 with value: 466.18796034552435.\n",
      "[I 2024-07-03 08:41:56,327] Trial 84 finished with value: 487.8905417206956 and parameters: {'booster': 'gblinear', 'lambda': 1.2757756515109224e-05, 'alpha': 0.571668061677535, 'learning_rate': 0.06627424628671827, 'subsample': 0.2530655247567653, 'colsample_bytree': 0.8247612610153178}. Best is trial 13 with value: 466.18796034552435.\n"
     ]
    },
    {
     "name": "stdout",
     "output_type": "stream",
     "text": [
      "Trial: 83 - MSE: 494.34748467094744 - RMSE: 22.233926433964548\n",
      "Trial: 84 - MSE: 487.8905417206956 - RMSE: 22.088244423690526\n"
     ]
    },
    {
     "name": "stderr",
     "output_type": "stream",
     "text": [
      "[I 2024-07-03 08:41:56,374] Trial 85 finished with value: 492.90929316152454 and parameters: {'booster': 'gblinear', 'lambda': 0.17982065538313055, 'alpha': 0.32210467617571487, 'learning_rate': 0.047710935031110235, 'subsample': 0.22137835951378682, 'colsample_bytree': 0.10348086461872669}. Best is trial 13 with value: 466.18796034552435.\n",
      "[I 2024-07-03 08:41:56,425] Trial 86 finished with value: 476.9313794642399 and parameters: {'booster': 'gblinear', 'lambda': 9.521624623245277e-05, 'alpha': 0.9853071938290274, 'learning_rate': 0.032403288242899626, 'subsample': 0.2639264502042321, 'colsample_bytree': 0.05149656314560447}. Best is trial 13 with value: 466.18796034552435.\n",
      "[I 2024-07-03 08:41:56,459] Trial 87 finished with value: 498.5837265523781 and parameters: {'booster': 'gblinear', 'lambda': 0.01986632649589799, 'alpha': 0.0024500565832089997, 'learning_rate': 0.027826726640763886, 'subsample': 0.298974510980247, 'colsample_bytree': 0.19391096005674224}. Best is trial 13 with value: 466.18796034552435.\n",
      "[I 2024-07-03 08:41:56,495] Trial 88 finished with value: 514.3503433996368 and parameters: {'booster': 'gblinear', 'lambda': 0.000609912219386675, 'alpha': 0.1296226528136919, 'learning_rate': 0.012284203931301443, 'subsample': 0.3307878800750175, 'colsample_bytree': 0.27709276817289163}. Best is trial 13 with value: 466.18796034552435.\n",
      "[I 2024-07-03 08:41:56,547] Trial 89 finished with value: 586.6912799788752 and parameters: {'booster': 'gbtree', 'lambda': 2.5977903396342748e-05, 'alpha': 0.00030080900869113947, 'learning_rate': 0.08634869768200369, 'subsample': 0.7692345831478179, 'colsample_bytree': 0.15218363599552867, 'max_depth': 5, 'min_child_weight': 7, 'eta': 0.8876118479151391, 'gamma': 3.911114677520493e-07, 'grow_policy': 'depthwise'}. Best is trial 13 with value: 466.18796034552435.\n"
     ]
    },
    {
     "name": "stdout",
     "output_type": "stream",
     "text": [
      "Trial: 85 - MSE: 492.90929316152454 - RMSE: 22.201560601937977\n",
      "Trial: 86 - MSE: 476.9313794642399 - RMSE: 21.838758652090092\n",
      "Trial: 87 - MSE: 498.5837265523781 - RMSE: 22.328988480277786\n",
      "Trial: 88 - MSE: 514.3503433996368 - RMSE: 22.67929327381338\n",
      "Trial: 89 - MSE: 586.6912799788752 - RMSE: 24.221710921792358\n"
     ]
    },
    {
     "name": "stderr",
     "output_type": "stream",
     "text": [
      "[I 2024-07-03 08:41:56,588] Trial 90 finished with value: 480.946050455006 and parameters: {'booster': 'gblinear', 'lambda': 5.3072918925950045e-05, 'alpha': 0.6366017160181732, 'learning_rate': 0.03990694471055081, 'subsample': 0.21714010043688717, 'colsample_bytree': 0.08393323860550544}. Best is trial 13 with value: 466.18796034552435.\n",
      "[I 2024-07-03 08:41:56,620] Trial 91 finished with value: 469.23272542454015 and parameters: {'booster': 'gblinear', 'lambda': 4.649488967218073e-06, 'alpha': 0.8911872728549168, 'learning_rate': 0.05249873036518971, 'subsample': 0.2438277008809617, 'colsample_bytree': 0.1699266859240996}. Best is trial 13 with value: 466.18796034552435.\n",
      "[I 2024-07-03 08:41:56,648] Trial 92 finished with value: 498.8962697627925 and parameters: {'booster': 'gblinear', 'lambda': 7.6115822234344285e-06, 'alpha': 0.22976924394409176, 'learning_rate': 0.05204548406526221, 'subsample': 0.2431945156974936, 'colsample_bytree': 0.23248609810574694}. Best is trial 13 with value: 466.18796034552435.\n",
      "[I 2024-07-03 08:41:56,674] Trial 93 finished with value: 487.41245301249785 and parameters: {'booster': 'gblinear', 'lambda': 1.4169097515406265e-05, 'alpha': 0.6479830676893718, 'learning_rate': 0.07520064970673498, 'subsample': 0.27633436573608094, 'colsample_bytree': 0.1398407799310052}. Best is trial 13 with value: 466.18796034552435.\n",
      "[I 2024-07-03 08:41:56,700] Trial 94 finished with value: 519.0981198274637 and parameters: {'booster': 'gblinear', 'lambda': 0.009923815484053187, 'alpha': 4.5288981499015593e-07, 'learning_rate': 0.06324598340739772, 'subsample': 0.21769972004358412, 'colsample_bytree': 0.25676059197166107}. Best is trial 13 with value: 466.18796034552435.\n",
      "[I 2024-07-03 08:41:56,727] Trial 95 finished with value: 492.3551378763966 and parameters: {'booster': 'gblinear', 'lambda': 0.06626073192660616, 'alpha': 0.3958702812845898, 'learning_rate': 0.05828360228352362, 'subsample': 0.2500789031487159, 'colsample_bytree': 0.19652714631287754}. Best is trial 13 with value: 466.18796034552435.\n"
     ]
    },
    {
     "name": "stdout",
     "output_type": "stream",
     "text": [
      "Trial: 90 - MSE: 480.946050455006 - RMSE: 21.93048222121452\n",
      "Trial: 91 - MSE: 469.23272542454015 - RMSE: 21.661780292130658\n",
      "Trial: 92 - MSE: 498.8962697627925 - RMSE: 22.33598598143347\n",
      "Trial: 93 - MSE: 487.41245301249785 - RMSE: 22.077419527936183\n",
      "Trial: 94 - MSE: 519.0981198274637 - RMSE: 22.78372488921563\n",
      "Trial: 95 - MSE: 492.3551378763966 - RMSE: 22.189076994692606\n"
     ]
    },
    {
     "name": "stderr",
     "output_type": "stream",
     "text": [
      "[I 2024-07-03 08:41:56,823] Trial 96 finished with value: 589.232300896488 and parameters: {'booster': 'dart', 'lambda': 0.0001372761118827814, 'alpha': 0.9607562069916135, 'learning_rate': 0.04912988436010749, 'subsample': 0.3089562442630713, 'colsample_bytree': 0.16420320935017216, 'max_depth': 7, 'min_child_weight': 3, 'eta': 0.0007394768071969343, 'gamma': 1.030008561992708e-08, 'grow_policy': 'lossguide', 'sample_type': 'uniform', 'normalize_type': 'forest', 'rate_drop': 0.05980353113111701, 'skip_drop': 0.005647434803978711}. Best is trial 13 with value: 466.18796034552435.\n"
     ]
    },
    {
     "name": "stdout",
     "output_type": "stream",
     "text": [
      "Trial: 96 - MSE: 589.232300896488 - RMSE: 24.27410762307212\n"
     ]
    },
    {
     "name": "stderr",
     "output_type": "stream",
     "text": [
      "[I 2024-07-03 08:41:57,064] Trial 97 finished with value: 499.8274510909321 and parameters: {'booster': 'gblinear', 'lambda': 6.66630786815544e-05, 'alpha': 0.426081453294772, 'learning_rate': 0.06872804689278803, 'subsample': 0.24005181983140095, 'colsample_bytree': 0.10787238028232272}. Best is trial 13 with value: 466.18796034552435.\n",
      "[I 2024-07-03 08:41:57,113] Trial 98 finished with value: 496.2742161628181 and parameters: {'booster': 'gblinear', 'lambda': 2.638559665077335e-06, 'alpha': 0.20784306805561004, 'learning_rate': 0.04473434326269602, 'subsample': 0.2000330336615164, 'colsample_bytree': 0.5427536638892467}. Best is trial 13 with value: 466.18796034552435.\n",
      "[I 2024-07-03 08:41:57,149] Trial 99 finished with value: 486.49818252940344 and parameters: {'booster': 'gblinear', 'lambda': 1.422463407575128e-06, 'alpha': 0.7029382128490175, 'learning_rate': 0.07858966092962412, 'subsample': 0.28454495258062934, 'colsample_bytree': 0.06956832030377205}. Best is trial 13 with value: 466.18796034552435.\n"
     ]
    },
    {
     "name": "stdout",
     "output_type": "stream",
     "text": [
      "Trial: 97 - MSE: 499.8274510909321 - RMSE: 22.356821131165585\n",
      "Trial: 98 - MSE: 496.2742161628181 - RMSE: 22.277212935257815\n",
      "Trial: 99 - MSE: 486.49818252940344 - RMSE: 22.056703800191983\n"
     ]
    }
   ],
   "source": [
    "# configuration optuna\n",
    "study_mm = optuna.create_study(direction='minimize', sampler=sampler)\n",
    "study_mm.optimize(lambda trial: objective(trial, X_mm_train, y_mm_train, X_mm_test, y_mm_test), n_trials=n_trials)"
   ]
  },
  {
   "cell_type": "code",
   "execution_count": 21,
   "metadata": {},
   "outputs": [
    {
     "name": "stdout",
     "output_type": "stream",
     "text": [
      "Trials quantity: 100\n",
      "Mejor prueba: 13\n",
      "Mejores parametros: {'booster': 'gblinear', 'lambda': 0.026758763366929273, 'alpha': 0.985176822519382, 'learning_rate': 0.05340673377810871, 'subsample': 0.21906996068917262, 'colsample_bytree': 0.15676169098118364}\n",
      "Mejor valor de pérdida en validación: 466.18796034552435\n"
     ]
    }
   ],
   "source": [
    "# Results\n",
    "print(f'Trials quantity: {len(study_mm.trials)}')\n",
    "trial = study_mm.best_trial\n",
    "print(f'Mejor prueba: {trial.number}')\n",
    "print(f'Mejores parametros: {trial.params}')\n",
    "print(f'Mejor valor de pérdida en validación: {trial.value}')"
   ]
  },
  {
   "cell_type": "markdown",
   "metadata": {},
   "source": [
    "# Training"
   ]
  },
  {
   "cell_type": "code",
   "execution_count": 22,
   "metadata": {},
   "outputs": [],
   "source": [
    "models_folder = '../models/xgboost'"
   ]
  },
  {
   "cell_type": "code",
   "execution_count": 23,
   "metadata": {},
   "outputs": [],
   "source": [
    "#dump(scaler_g, f'{models_folder}/scaler_g.joblib')\n",
    "#dump(scaler_st, f'{models_folder}/scaler_st.joblib')\n",
    "#dump(scaler_mm, f'{models_folder}/scaler_mm.joblib')"
   ]
  },
  {
   "cell_type": "markdown",
   "metadata": {},
   "source": [
    "## General"
   ]
  },
  {
   "cell_type": "code",
   "execution_count": 24,
   "metadata": {},
   "outputs": [],
   "source": [
    "# hyperparameters\n",
    "if study_g is not None:\n",
    "\tparams = study_g.best_trial.params\n",
    "else:\n",
    "\tparams = {\n",
    "\t\t'booster': 'gbtree',\n",
    "\t\t'lambda': 6.153362802392881e-07,\n",
    "\t\t'alpha': 0.0011471508220748314,\n",
    "\t\t'learning_rate': 0.001002737827637667,\n",
    "\t\t'subsample': 0.20466176064508526,\n",
    "\t\t'colsample_bytree': 0.11320379521367623,\n",
    "\t\t'max_depth': 9,\n",
    "\t\t'min_child_weight': 2,\n",
    "\t\t'eta': 0.06983382228087344,\n",
    "\t\t'gamma': 7.814049704902547e-05,\n",
    "\t\t'grow_policy': 'lossguide'\n",
    "\t}"
   ]
  },
  {
   "cell_type": "code",
   "execution_count": 25,
   "metadata": {},
   "outputs": [
    {
     "name": "stdout",
     "output_type": "stream",
     "text": [
      "MSE: 85.86453269271863 - RMSE: 9.2663117092357 - MAE: 6.330787289513482\n"
     ]
    }
   ],
   "source": [
    "# general models\n",
    "dtrain = xgb.DMatrix(X_g_train, label=y_g_train)\n",
    "dtest = xgb.DMatrix(X_g_test, label=y_g_test)\n",
    "# training\n",
    "model = xgb.train(params, dtrain)\n",
    "# evaluation\n",
    "preds = model.predict(dtest)\n",
    "mse = mean_squared_error(y_g_test, preds)\n",
    "print(f\"MSE: {mse} - RMSE: {np.sqrt(mse)} - MAE: {mean_absolute_error(y_g_test, preds)}\")"
   ]
  },
  {
   "cell_type": "code",
   "execution_count": 26,
   "metadata": {},
   "outputs": [],
   "source": [
    "# save model\n",
    "model.save_model(f'{models_folder}/general.json')"
   ]
  },
  {
   "cell_type": "markdown",
   "metadata": {},
   "source": [
    "## Single Thread"
   ]
  },
  {
   "cell_type": "code",
   "execution_count": 27,
   "metadata": {},
   "outputs": [],
   "source": [
    "# hyperparameters\n",
    "if study_st is not None:\n",
    "\tparams = study_st.best_trial.params\n",
    "else:\n",
    "\tparams = {\n",
    "\t\t'booster': 'gbtree',\n",
    "\t\t'lambda': 1.932116425524344e-08,\n",
    "\t\t'alpha': 0.002607815095551034,\n",
    "\t\t'learning_rate': 0.0010967660905229464,\n",
    "\t\t'subsample': 0.27592137172367703,\n",
    "\t\t'colsample_bytree': 0.07486753519541206,\n",
    "\t\t'max_depth': 5,\n",
    "\t\t'min_child_weight': 9,\n",
    "\t\t'eta': 0.0027443109965453517,\n",
    "\t\t'gamma': 3.330037397996609e-08,\n",
    "\t\t'grow_policy': 'depthwise'\n",
    "\t}"
   ]
  },
  {
   "cell_type": "code",
   "execution_count": 28,
   "metadata": {},
   "outputs": [
    {
     "name": "stdout",
     "output_type": "stream",
     "text": [
      "MSE: 37.31206358760169 - RMSE: 6.108360138989981 - MAE: 3.2314192448368777\n"
     ]
    }
   ],
   "source": [
    "# single thread model\n",
    "dtrain = xgb.DMatrix(X_st_train, label=y_st_train)\n",
    "dtest = xgb.DMatrix(X_st_test, label=y_st_test)\n",
    "# training\n",
    "model = xgb.train(params, dtrain)\n",
    "# evaluation\n",
    "preds = model.predict(dtest)\n",
    "mse = mean_squared_error(y_st_test, preds)\n",
    "print(f\"MSE: {mse} - RMSE: {np.sqrt(mse)} - MAE: {mean_absolute_error(y_st_test, preds)}\")"
   ]
  },
  {
   "cell_type": "code",
   "execution_count": 29,
   "metadata": {},
   "outputs": [],
   "source": [
    "# save model\n",
    "model.save_model(f'{models_folder}/single_thread.json')"
   ]
  },
  {
   "cell_type": "markdown",
   "metadata": {},
   "source": [
    "## Multi Thread"
   ]
  },
  {
   "cell_type": "code",
   "execution_count": 30,
   "metadata": {},
   "outputs": [],
   "source": [
    "# hyperparameters\n",
    "if study_mm is not None:\n",
    "\tparams = study_mm.best_trial.params\n",
    "else:\n",
    "\tparams = {\n",
    "\t\t'booster': 'gblinear',\n",
    "\t\t'lambda': 0.026758763366929273,\n",
    "\t\t'alpha': 0.985176822519382,\n",
    "\t\t'learning_rate': 0.05340673377810871,\n",
    "\t\t'subsample': 0.21906996068917262,\n",
    "\t\t'colsample_bytree': 0.15676169098118364\n",
    "\t}"
   ]
  },
  {
   "cell_type": "code",
   "execution_count": 31,
   "metadata": {},
   "outputs": [
    {
     "name": "stdout",
     "output_type": "stream",
     "text": [
      "MSE: 466.6217449949687 - RMSE: 21.601429235005927 - MAE: 21.583701605902775\n"
     ]
    }
   ],
   "source": [
    "# multi thread model\n",
    "dtrain = xgb.DMatrix(X_mm_train, label=y_mm_train)\n",
    "dtest = xgb.DMatrix(X_mm_test, label=y_mm_test)\n",
    "# training\n",
    "model = xgb.train(params, dtrain)\n",
    "# evaluation\n",
    "preds = model.predict(dtest)\n",
    "mse = mean_squared_error(y_mm_test, preds)\n",
    "print(f\"MSE: {mse} - RMSE: {np.sqrt(mse)} - MAE: {mean_absolute_error(y_mm_test, preds)}\")"
   ]
  },
  {
   "cell_type": "code",
   "execution_count": 32,
   "metadata": {},
   "outputs": [],
   "source": [
    "# save model\n",
    "model.save_model(f'{models_folder}/multi_thread.json')"
   ]
  },
  {
   "cell_type": "markdown",
   "metadata": {},
   "source": [
    "# Load models"
   ]
  },
  {
   "cell_type": "code",
   "execution_count": 34,
   "metadata": {},
   "outputs": [],
   "source": [
    "model_g = xgb.Booster()\n",
    "model_st = xgb.Booster()\n",
    "model_mm = xgb.Booster()\n",
    "model_g.load_model(f'{models_folder}/general.json')\n",
    "model_st.load_model(f'{models_folder}/single_thread.json')\n",
    "model_mm.load_model(f'{models_folder}/multi_thread.json')"
   ]
  },
  {
   "cell_type": "code",
   "execution_count": 35,
   "metadata": {},
   "outputs": [],
   "source": [
    "def describe_val(model, X, y):\n",
    "\tmin_instance = {\"prediction\": float('inf'), \"actual\": 0, \"index\": 0}\n",
    "\tmax_instance = {\"prediction\": 0, \"actual\": 0, \"index\": 0}\n",
    "\t\n",
    "\tdtest = xgb.DMatrix(X)\n",
    "\tpredictions = model.predict(dtest)\n",
    "\tindex_min = np.argmin(np.abs(predictions - y))\n",
    "\tmin_instance[\"prediction\"] = predictions[index_min]\n",
    "\tmin_instance[\"actual\"] = y[index_min]\n",
    "\tmin_instance[\"index\"] = index_min\n",
    "\tindex_max = np.argmax(np.abs(predictions - y))\n",
    "\tmax_instance[\"prediction\"] = predictions[index_max]\n",
    "\tmax_instance[\"actual\"] = y[index_max]\n",
    "\tmax_instance[\"index\"] = index_max\n",
    "\n",
    "\treturn min_instance, max_instance, predictions"
   ]
  },
  {
   "cell_type": "code",
   "execution_count": 36,
   "metadata": {},
   "outputs": [
    {
     "name": "stdout",
     "output_type": "stream",
     "text": [
      "Validation set general model\n",
      "Mean prediction: 21.99935531616211 | Std actual: 0.017365766689181328\n",
      "Mean actual: 27.556500000000003 | Std actual: 7.4113266524961645\n",
      "Mean Error: 6.330787289513482 | Std Error: 6.766510547368797\n",
      "---\n",
      "Min instance\n",
      "total_time                                                       15.74\n",
      "total_cpu_usage                                                    1.0\n",
      "max_ram_usage                                                31.339844\n",
      "brand_raw                         12th Gen Intel(R) Core(TM) i5-12400F\n",
      "count                                                               12\n",
      "l2_cache_size                                                      7.5\n",
      "l3_cache_size                                                     18.0\n",
      "l2_cache_line_size                                                1280\n",
      "l2_cache_associativity                                               7\n",
      "benchmark                                                          TSP\n",
      "ghz_actual_friendly                                              2.496\n",
      "ghz_advertised_friendly                                          2.496\n",
      "total_time_target                                                22.24\n",
      "brand_raw_target                   13th Gen Intel(R) Core(TM) i5-1335U\n",
      "count_target                                                        12\n",
      "l2_cache_size_target                                               7.5\n",
      "l3_cache_size_target                                              12.0\n",
      "l2_cache_line_size_target                                         1280\n",
      "l2_cache_associativity_target                                        7\n",
      "ghz_advertised_friendly_target                                   2.496\n",
      "Name: 270, dtype: object\n",
      "Min Prediction: 22.023765563964844 | Actual: 22.24 | Error: 0.2162344360351547\n",
      "---\n",
      "Max instance\n",
      "total_time                                                           33.51\n",
      "total_cpu_usage                                                       0.99\n",
      "max_ram_usage                                                  1435.382812\n",
      "brand_raw                         Intel(R) Core(TM) i5-8300H CPU @ 2.30GHz\n",
      "count                                                                    8\n",
      "l2_cache_size                                                          1.0\n",
      "l3_cache_size                                                          8.0\n",
      "l2_cache_line_size                                                     256\n",
      "l2_cache_associativity                                                   6\n",
      "benchmark                                                              KNP\n",
      "ghz_actual_friendly                                                  2.304\n",
      "ghz_advertised_friendly                                                2.3\n",
      "total_time_target                                                    45.91\n",
      "brand_raw_target                       13th Gen Intel(R) Core(TM) i5-1335U\n",
      "count_target                                                            12\n",
      "l2_cache_size_target                                                   7.5\n",
      "l3_cache_size_target                                                  12.0\n",
      "l2_cache_line_size_target                                             1280\n",
      "l2_cache_associativity_target                                            7\n",
      "ghz_advertised_friendly_target                                       2.496\n",
      "Name: 300, dtype: object\n",
      "Max Prediction: 21.978984832763672 | Actual: 45.91 | Error: 23.931015167236325\n"
     ]
    }
   ],
   "source": [
    "# general model\n",
    "print(\"Validation set general model\")\n",
    "min_instance, max_instance, predictions = describe_val(model_g, X_g_test, y_g_test)\n",
    "errors = np.abs(predictions - y_g_test)\n",
    "mean_error = np.mean(errors)\n",
    "std_error = np.std(errors)\n",
    "\n",
    "print(f\"Mean prediction: {np.mean(predictions)} | Std actual: {np.std(predictions)}\")\n",
    "print(f\"Mean actual: {np.mean(y_g_test)} | Std actual: {np.std(y_g_test)}\")\n",
    "print(f\"Mean Error: {mean_error} | Std Error: {std_error}\")\n",
    "print(\"---\")\n",
    "print(\"Min instance\")\n",
    "print(g_test.iloc[min_instance[\"index\"]])\n",
    "print(f\"Min Prediction: {min_instance['prediction']} | Actual: {min_instance['actual']} | Error: {abs(min_instance['prediction'] - min_instance['actual'])}\")\n",
    "print(\"---\")\n",
    "print(\"Max instance\")\n",
    "print(g_test.iloc[max_instance[\"index\"]])\n",
    "print(f\"Max Prediction: {max_instance['prediction']} | Actual: {max_instance['actual']} | Error: {abs(max_instance['prediction'] - max_instance['actual'])}\")"
   ]
  },
  {
   "cell_type": "code",
   "execution_count": 37,
   "metadata": {},
   "outputs": [
    {
     "name": "stdout",
     "output_type": "stream",
     "text": [
      "Validation set single thread model\n",
      "Mean prediction: 24.191211700439453 | Std actual: 0.015047844499349594\n",
      "Mean actual: 24.564000000000007 | Std actual: 6.096883138128859\n",
      "Mean Error: 3.2314192448368777 | Std Error: 5.18362742215329\n",
      "Min instance\n",
      "total_time                                                        18.1\n",
      "total_cpu_usage                                                    1.0\n",
      "max_ram_usage                                                15.644531\n",
      "brand_raw                         12th Gen Intel(R) Core(TM) i5-12400F\n",
      "count                                                               12\n",
      "l2_cache_size                                                      7.5\n",
      "l3_cache_size                                                     18.0\n",
      "l2_cache_line_size                                                1280\n",
      "l2_cache_associativity                                               7\n",
      "benchmark                                                     N_Queens\n",
      "ghz_actual_friendly                                              2.496\n",
      "ghz_advertised_friendly                                          2.496\n",
      "total_time_target                                                24.81\n",
      "brand_raw_target                   13th Gen Intel(R) Core(TM) i5-1335U\n",
      "count_target                                                        12\n",
      "l2_cache_size_target                                               7.5\n",
      "l3_cache_size_target                                              12.0\n",
      "l2_cache_line_size_target                                         1280\n",
      "l2_cache_associativity_target                                        7\n",
      "ghz_advertised_friendly_target                                   2.496\n",
      "Name: 186, dtype: object\n",
      "Min Prediction: 24.2254695892334 | Actual: 24.81 | Error: 0.5845304107666003\n",
      "---\n",
      "Max instance\n",
      "total_time                                                           33.51\n",
      "total_cpu_usage                                                       0.99\n",
      "max_ram_usage                                                  1435.382812\n",
      "brand_raw                         Intel(R) Core(TM) i5-8300H CPU @ 2.30GHz\n",
      "count                                                                    8\n",
      "l2_cache_size                                                          1.0\n",
      "l3_cache_size                                                          8.0\n",
      "l2_cache_line_size                                                     256\n",
      "l2_cache_associativity                                                   6\n",
      "benchmark                                                              KNP\n",
      "ghz_actual_friendly                                                  2.304\n",
      "ghz_advertised_friendly                                                2.3\n",
      "total_time_target                                                    45.91\n",
      "brand_raw_target                       13th Gen Intel(R) Core(TM) i5-1335U\n",
      "count_target                                                            12\n",
      "l2_cache_size_target                                                   7.5\n",
      "l3_cache_size_target                                                  12.0\n",
      "l2_cache_line_size_target                                             1280\n",
      "l2_cache_associativity_target                                            7\n",
      "ghz_advertised_friendly_target                                       2.496\n",
      "Name: 225, dtype: object\n",
      "Max Prediction: 24.171539306640625 | Actual: 45.91 | Error: 21.73846069335937\n"
     ]
    }
   ],
   "source": [
    "# single thread model\n",
    "print(\"Validation set single thread model\")\n",
    "min_instance, max_instance, predictions = describe_val(model_st, X_st_test, y_st_test)\n",
    "errors = np.abs(predictions - y_st_test)\n",
    "mean_error = np.mean(errors)\n",
    "std_error = np.std(errors)\n",
    "\n",
    "print(f\"Mean prediction: {np.mean(predictions)} | Std actual: {np.std(predictions)}\")\n",
    "print(f\"Mean actual: {np.mean(y_st_test)} | Std actual: {np.std(y_st_test)}\")\n",
    "print(f\"Mean Error: {mean_error} | Std Error: {std_error}\")\n",
    "print(\"Min instance\")\n",
    "print(st_test.iloc[min_instance[\"index\"]])\n",
    "print(f\"Min Prediction: {min_instance['prediction']} | Actual: {min_instance['actual']} | Error: {abs(min_instance['prediction'] - min_instance['actual'])}\")\n",
    "print(\"---\")\n",
    "print(\"Max instance\")\n",
    "print(st_test.iloc[max_instance[\"index\"]])\n",
    "print(f\"Max Prediction: {max_instance['prediction']} | Actual: {max_instance['actual']} | Error: {abs(max_instance['prediction'] - max_instance['actual'])}\")"
   ]
  },
  {
   "cell_type": "code",
   "execution_count": 38,
   "metadata": {},
   "outputs": [
    {
     "name": "stdout",
     "output_type": "stream",
     "text": [
      "Validation set multi thread model\n",
      "Mean prediction: 14.950297355651855 | Std actual: 0.17648224532604218\n",
      "Mean actual: 36.534 | Std actual: 0.8569854141115829\n",
      "Mean Error: 21.583701605902775 | Std Error: 0.874968560760035\n",
      "Min instance\n",
      "total_time                                                        7.45\n",
      "total_cpu_usage                                                  10.63\n",
      "max_ram_usage                                              2385.507812\n",
      "brand_raw                         12th Gen Intel(R) Core(TM) i5-12400F\n",
      "count                                                               12\n",
      "l2_cache_size                                                      7.5\n",
      "l3_cache_size                                                     18.0\n",
      "l2_cache_line_size                                                1280\n",
      "l2_cache_associativity                                               7\n",
      "benchmark                                                  MATRIX_MULT\n",
      "ghz_actual_friendly                                              2.496\n",
      "ghz_advertised_friendly                                          2.496\n",
      "total_time_target                                                35.58\n",
      "brand_raw_target                   13th Gen Intel(R) Core(TM) i5-1335U\n",
      "count_target                                                        12\n",
      "l2_cache_size_target                                               7.5\n",
      "l3_cache_size_target                                              12.0\n",
      "l2_cache_line_size_target                                         1280\n",
      "l2_cache_associativity_target                                        7\n",
      "ghz_advertised_friendly_target                                   2.496\n",
      "Name: 54, dtype: object\n",
      "Min Prediction: 15.452632904052734 | Actual: 35.58 | Error: 20.127367095947264\n",
      "---\n",
      "Max instance\n",
      "total_time                                                            4.38\n",
      "total_cpu_usage                                                        7.6\n",
      "max_ram_usage                                                  2347.449219\n",
      "brand_raw                         Intel(R) Xeon(R) Gold 6330 CPU @ 2.00GHz\n",
      "count                                                                   56\n",
      "l2_cache_size                                                         70.0\n",
      "l3_cache_size                                                         42.0\n",
      "l2_cache_line_size                                                     256\n",
      "l2_cache_associativity                                                   6\n",
      "benchmark                                                      MATRIX_MULT\n",
      "ghz_actual_friendly                                                    2.0\n",
      "ghz_advertised_friendly                                                2.0\n",
      "total_time_target                                                    38.02\n",
      "brand_raw_target                       13th Gen Intel(R) Core(TM) i5-1335U\n",
      "count_target                                                            12\n",
      "l2_cache_size_target                                                   7.5\n",
      "l3_cache_size_target                                                  12.0\n",
      "l2_cache_line_size_target                                             1280\n",
      "l2_cache_associativity_target                                            7\n",
      "ghz_advertised_friendly_target                                       2.496\n",
      "Name: 220, dtype: object\n",
      "Max Prediction: 14.841001510620117 | Actual: 38.02 | Error: 23.178998489379886\n"
     ]
    }
   ],
   "source": [
    "# multi thread model\n",
    "print(\"Validation set multi thread model\")\n",
    "min_instance, max_instance, predictions = describe_val(model_mm, X_mm_test, y_mm_test)\n",
    "errors = np.abs(predictions - y_mm_test)\n",
    "mean_error = np.mean(errors)\n",
    "std_error = np.std(errors)\n",
    "\n",
    "print(f\"Mean prediction: {np.mean(predictions)} | Std actual: {np.std(predictions)}\")\n",
    "print(f\"Mean actual: {np.mean(y_mm_test)} | Std actual: {np.std(y_mm_test)}\")\n",
    "print(f\"Mean Error: {mean_error} | Std Error: {std_error}\")\n",
    "print(\"Min instance\")\n",
    "print(mm_test.iloc[min_instance[\"index\"]])\n",
    "print(f\"Min Prediction: {min_instance['prediction']} | Actual: {min_instance['actual']} | Error: {abs(min_instance['prediction'] - min_instance['actual'])}\")\n",
    "print(\"---\")\n",
    "print(\"Max instance\")\n",
    "print(mm_test.iloc[max_instance[\"index\"]])\n",
    "print(f\"Max Prediction: {max_instance['prediction']} | Actual: {max_instance['actual']} | Error: {abs(max_instance['prediction'] - max_instance['actual'])}\")"
   ]
  },
  {
   "cell_type": "code",
   "execution_count": null,
   "metadata": {},
   "outputs": [],
   "source": []
  }
 ],
 "metadata": {
  "kernelspec": {
   "display_name": "venv",
   "language": "python",
   "name": "python3"
  },
  "language_info": {
   "codemirror_mode": {
    "name": "ipython",
    "version": 3
   },
   "file_extension": ".py",
   "mimetype": "text/x-python",
   "name": "python",
   "nbconvert_exporter": "python",
   "pygments_lexer": "ipython3",
   "version": "3.10.13"
  }
 },
 "nbformat": 4,
 "nbformat_minor": 2
}
