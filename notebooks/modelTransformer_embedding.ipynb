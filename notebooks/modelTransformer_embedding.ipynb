{
 "cells": [
  {
   "cell_type": "code",
   "execution_count": 20,
   "metadata": {},
   "outputs": [],
   "source": [
    "import optuna\n",
    "from optuna.samplers import TPESampler\n",
    "import torch\n",
    "import torch.nn as nn\n",
    "import torch.optim as optim\n",
    "import pandas as pd\n",
    "import numpy as np\n",
    "from sklearn.preprocessing import StandardScaler\n",
    "import random\n",
    "from sklearn.metrics import mean_squared_error, mean_absolute_error\n",
    "#from joblib import dump"
   ]
  },
  {
   "cell_type": "code",
   "execution_count": 21,
   "metadata": {},
   "outputs": [
    {
     "data": {
      "text/plain": [
       "'cuda'"
      ]
     },
     "execution_count": 21,
     "metadata": {},
     "output_type": "execute_result"
    }
   ],
   "source": [
    "# CUDA\n",
    "DEVICE = torch.device('cuda' if torch.cuda.is_available() else 'cpu')\n",
    "DEVICE.type"
   ]
  },
  {
   "cell_type": "code",
   "execution_count": 22,
   "metadata": {},
   "outputs": [],
   "source": [
    "# Fix random seed\n",
    "seed = 42\n",
    "torch.manual_seed(seed)\n",
    "if DEVICE.type == 'cuda':\n",
    "\ttorch.cuda.manual_seed(seed)\n",
    "np.random.seed(seed)\n",
    "random.seed(seed)\n",
    "sampler = TPESampler(seed=seed)\n",
    "\n",
    "torch.backends.cudnn.deterministic = True\n",
    "torch.backends.cudnn.benchmark = False"
   ]
  },
  {
   "cell_type": "markdown",
   "metadata": {},
   "source": [
    "# Pre-processing input data"
   ]
  },
  {
   "cell_type": "code",
   "execution_count": 23,
   "metadata": {},
   "outputs": [],
   "source": [
    "def bits_to_MiB(row):\n",
    "\t# verify if has string ' MiB'\n",
    "\tif 'MiB' in str(row):\n",
    "\t\trow = row.replace(' MiB', '')\n",
    "\t\trow = float(row)\n",
    "\telse:\n",
    "\t\trow = float(row) / np.power(2, 20)\n",
    "\treturn row\n",
    "\n",
    "\n",
    "def MHz_to_GHz(row):\n",
    "\t# verify if has string ' GHz'\n",
    "\tif 'GHz' in str(row):\n",
    "\t\trow = row.replace(' GHz', '')\n",
    "\t\t# convert to float\n",
    "\t\trow = float(row)\n",
    "\telse:\n",
    "\t\trow = row.replace(' MHz', '')\n",
    "\t\trow = float(row) / 1000\n",
    "\treturn row"
   ]
  },
  {
   "cell_type": "code",
   "execution_count": 24,
   "metadata": {},
   "outputs": [],
   "source": [
    "results_df = pd.read_csv('../results_new/execution_time.csv')\n",
    "results_savio_df = pd.read_csv('../results_savio_new/execution_time.csv')\n",
    "results_df = pd.concat([results_df, results_savio_df], ignore_index=True)\n",
    "# preprocessing\n",
    "results_df['total_cpu_usage'] = results_df['total_cpu_usage'].str.replace('%', '').astype(float) / 100\n",
    "results_df['max_ram_usage'] = results_df['max_ram_usage'] / 1024\n",
    "results_df['l2_cache_size'] = results_df['l2_cache_size'].apply(bits_to_MiB)\n",
    "results_df['l3_cache_size'] = results_df['l3_cache_size'].apply(bits_to_MiB)\n",
    "results_df['ghz_actual_friendly'] = results_df['hz_actual_friendly'].apply(MHz_to_GHz)\n",
    "results_df['ghz_advertised_friendly'] = results_df['hz_advertised_friendly'].str.replace('GHz', '').astype(float)\n",
    "results_df = results_df.drop(columns=['hz_actual_friendly', 'hz_advertised_friendly', 'arch', 'vendor_id_raw'])"
   ]
  },
  {
   "cell_type": "code",
   "execution_count": 25,
   "metadata": {},
   "outputs": [
    {
     "data": {
      "text/html": [
       "<div>\n",
       "<style scoped>\n",
       "    .dataframe tbody tr th:only-of-type {\n",
       "        vertical-align: middle;\n",
       "    }\n",
       "\n",
       "    .dataframe tbody tr th {\n",
       "        vertical-align: top;\n",
       "    }\n",
       "\n",
       "    .dataframe thead th {\n",
       "        text-align: right;\n",
       "    }\n",
       "</style>\n",
       "<table border=\"1\" class=\"dataframe\">\n",
       "  <thead>\n",
       "    <tr style=\"text-align: right;\">\n",
       "      <th></th>\n",
       "      <th>total_time</th>\n",
       "      <th>total_cpu_usage</th>\n",
       "      <th>max_ram_usage</th>\n",
       "      <th>brand_raw</th>\n",
       "      <th>count</th>\n",
       "      <th>l2_cache_size</th>\n",
       "      <th>l3_cache_size</th>\n",
       "      <th>l2_cache_line_size</th>\n",
       "      <th>l2_cache_associativity</th>\n",
       "      <th>benchmark</th>\n",
       "      <th>ghz_actual_friendly</th>\n",
       "      <th>ghz_advertised_friendly</th>\n",
       "      <th>total_time_target</th>\n",
       "      <th>brand_raw_target</th>\n",
       "      <th>count_target</th>\n",
       "      <th>l2_cache_size_target</th>\n",
       "      <th>l3_cache_size_target</th>\n",
       "      <th>l2_cache_line_size_target</th>\n",
       "      <th>l2_cache_associativity_target</th>\n",
       "      <th>ghz_advertised_friendly_target</th>\n",
       "    </tr>\n",
       "  </thead>\n",
       "  <tbody>\n",
       "    <tr>\n",
       "      <th>5</th>\n",
       "      <td>13.47</td>\n",
       "      <td>0.99</td>\n",
       "      <td>1436.714844</td>\n",
       "      <td>Intel(R) Core(TM) i5-10400 CPU @ 2.90GHz</td>\n",
       "      <td>12</td>\n",
       "      <td>1.5</td>\n",
       "      <td>12.0</td>\n",
       "      <td>256</td>\n",
       "      <td>6</td>\n",
       "      <td>KNP</td>\n",
       "      <td>4.1729</td>\n",
       "      <td>2.9</td>\n",
       "      <td>45.91</td>\n",
       "      <td>13th Gen Intel(R) Core(TM) i5-1335U</td>\n",
       "      <td>12</td>\n",
       "      <td>7.5</td>\n",
       "      <td>12.0</td>\n",
       "      <td>1280</td>\n",
       "      <td>7</td>\n",
       "      <td>2.496</td>\n",
       "    </tr>\n",
       "    <tr>\n",
       "      <th>6</th>\n",
       "      <td>13.47</td>\n",
       "      <td>0.99</td>\n",
       "      <td>1436.714844</td>\n",
       "      <td>Intel(R) Core(TM) i5-10400 CPU @ 2.90GHz</td>\n",
       "      <td>12</td>\n",
       "      <td>1.5</td>\n",
       "      <td>12.0</td>\n",
       "      <td>256</td>\n",
       "      <td>6</td>\n",
       "      <td>KNP</td>\n",
       "      <td>4.1729</td>\n",
       "      <td>2.9</td>\n",
       "      <td>25.77</td>\n",
       "      <td>13th Gen Intel(R) Core(TM) i5-1335U</td>\n",
       "      <td>12</td>\n",
       "      <td>7.5</td>\n",
       "      <td>12.0</td>\n",
       "      <td>1280</td>\n",
       "      <td>7</td>\n",
       "      <td>2.496</td>\n",
       "    </tr>\n",
       "  </tbody>\n",
       "</table>\n",
       "</div>"
      ],
      "text/plain": [
       "   total_time  total_cpu_usage  max_ram_usage  \\\n",
       "5       13.47             0.99    1436.714844   \n",
       "6       13.47             0.99    1436.714844   \n",
       "\n",
       "                                  brand_raw  count  l2_cache_size  \\\n",
       "5  Intel(R) Core(TM) i5-10400 CPU @ 2.90GHz     12            1.5   \n",
       "6  Intel(R) Core(TM) i5-10400 CPU @ 2.90GHz     12            1.5   \n",
       "\n",
       "   l3_cache_size  l2_cache_line_size  l2_cache_associativity benchmark  \\\n",
       "5           12.0                 256                       6       KNP   \n",
       "6           12.0                 256                       6       KNP   \n",
       "\n",
       "   ghz_actual_friendly  ghz_advertised_friendly  total_time_target  \\\n",
       "5               4.1729                      2.9              45.91   \n",
       "6               4.1729                      2.9              25.77   \n",
       "\n",
       "                      brand_raw_target  count_target  l2_cache_size_target  \\\n",
       "5  13th Gen Intel(R) Core(TM) i5-1335U            12                   7.5   \n",
       "6  13th Gen Intel(R) Core(TM) i5-1335U            12                   7.5   \n",
       "\n",
       "   l3_cache_size_target  l2_cache_line_size_target  \\\n",
       "5                  12.0                       1280   \n",
       "6                  12.0                       1280   \n",
       "\n",
       "   l2_cache_associativity_target  ghz_advertised_friendly_target  \n",
       "5                              7                           2.496  \n",
       "6                              7                           2.496  "
      ]
     },
     "execution_count": 25,
     "metadata": {},
     "output_type": "execute_result"
    }
   ],
   "source": [
    "# Make the target dataset\n",
    "target_df = results_df[['total_time', 'brand_raw', 'count', 'l2_cache_size', 'l3_cache_size', 'l2_cache_line_size', 'l2_cache_associativity', 'ghz_advertised_friendly', 'benchmark']].copy()\n",
    "# Rename columns to *_target\n",
    "target_df = target_df.rename(columns={\n",
    "    'total_time': 'total_time_target',\n",
    "    'brand_raw': 'brand_raw_target',\n",
    "    'count': 'count_target',\n",
    "    'l2_cache_size': 'l2_cache_size_target',\n",
    "    'l3_cache_size': 'l3_cache_size_target',\n",
    "    'l2_cache_line_size': 'l2_cache_line_size_target',\n",
    "    'l2_cache_associativity': 'l2_cache_associativity_target',\n",
    "    'ghz_advertised_friendly': 'ghz_advertised_friendly_target',\n",
    "})\n",
    "\n",
    "dataset_df = pd.merge(results_df, target_df, how='inner', on='benchmark')\n",
    "dataset_df = dataset_df[dataset_df['brand_raw'] != dataset_df['brand_raw_target']]\n",
    "dataset_df.head(2)"
   ]
  },
  {
   "cell_type": "code",
   "execution_count": 26,
   "metadata": {},
   "outputs": [],
   "source": [
    "# remove one computer for testing\n",
    "g_train = dataset_df[(dataset_df['brand_raw'] != '13th Gen Intel(R) Core(TM) i5-1335U') & (dataset_df['brand_raw_target'] != '13th Gen Intel(R) Core(TM) i5-1335U')]\n",
    "g_test = dataset_df[dataset_df['brand_raw_target'] == '13th Gen Intel(R) Core(TM) i5-1335U']"
   ]
  },
  {
   "cell_type": "code",
   "execution_count": 27,
   "metadata": {},
   "outputs": [],
   "source": [
    "mm_df = dataset_df[dataset_df['benchmark'].isin(['MATRIX_MULT', 'MATRIX_MULT2', 'MATRIX_MULT3'])]\n",
    "# remove one computer for testing\n",
    "mm_train = mm_df[(mm_df['brand_raw'] != '13th Gen Intel(R) Core(TM) i5-1335U') & (mm_df['brand_raw_target'] != '13th Gen Intel(R) Core(TM) i5-1335U')]\n",
    "mm_test = mm_df[mm_df['brand_raw_target'] == '13th Gen Intel(R) Core(TM) i5-1335U']"
   ]
  },
  {
   "cell_type": "code",
   "execution_count": 28,
   "metadata": {},
   "outputs": [],
   "source": [
    "st_df = dataset_df[~dataset_df['benchmark'].isin(['MATRIX_MULT', 'MATRIX_MULT2', 'MATRIX_MULT3'])]\n",
    "# remove one computer for testing\n",
    "st_train = st_df[(st_df['brand_raw'] != '13th Gen Intel(R) Core(TM) i5-1335U') & (st_df['brand_raw_target'] != '13th Gen Intel(R) Core(TM) i5-1335U')]\n",
    "st_test = st_df[st_df['brand_raw_target'] == '13th Gen Intel(R) Core(TM) i5-1335U']"
   ]
  },
  {
   "cell_type": "code",
   "execution_count": 29,
   "metadata": {},
   "outputs": [],
   "source": [
    "# load test dataset\n",
    "g_test = pd.read_csv('csv/g_test.csv')\n",
    "st_test = pd.read_csv('csv/st_test.csv')\n",
    "mm_test = pd.read_csv('csv/mm_test.csv')"
   ]
  },
  {
   "cell_type": "code",
   "execution_count": 30,
   "metadata": {},
   "outputs": [],
   "source": [
    "target = 'total_time_target'\n",
    "features = mm_test.columns.copy().drop(target).drop(['benchmark','brand_raw', 'brand_raw_target'])\n",
    "features_st = features.copy().drop(['count', 'count_target'])"
   ]
  },
  {
   "cell_type": "code",
   "execution_count": 31,
   "metadata": {},
   "outputs": [],
   "source": [
    "# general data\n",
    "## split data\n",
    "X_g_train = g_train[features]\n",
    "y_g_train = g_train[target]\n",
    "\n",
    "X_g_test = g_test[features]\n",
    "y_g_test = g_test[target]\n",
    "\n",
    "## normalize data\n",
    "scaler_g = StandardScaler()\n",
    "X_g_train = scaler_g.fit_transform(X_g_train)\n",
    "X_g_test = scaler_g.transform(X_g_test)\n",
    "\n",
    "## convert to tensor\n",
    "X_g_train = torch.tensor(X_g_train, dtype=torch.float32).unsqueeze(1)\n",
    "X_g_test = torch.tensor(X_g_test, dtype=torch.float32).unsqueeze(1)\n",
    "y_g_train = torch.tensor(y_g_train.values, dtype=torch.float32).view(-1, 1)\n",
    "y_g_test = torch.tensor(y_g_test.values, dtype=torch.float32).view(-1, 1)"
   ]
  },
  {
   "cell_type": "code",
   "execution_count": 32,
   "metadata": {},
   "outputs": [],
   "source": [
    "# single thread data\n",
    "## split data\n",
    "X_st_train = st_train[features_st]\n",
    "y_st_train = st_train[target]\n",
    "\n",
    "X_st_test = st_test[features_st]\n",
    "y_st_test = st_test[target]\n",
    "\n",
    "## normalize data\n",
    "scaler_st = StandardScaler()\n",
    "X_st_train = scaler_st.fit_transform(X_st_train)\n",
    "X_st_test = scaler_st.transform(X_st_test)\n",
    "\n",
    "## convert to tensor\n",
    "X_st_train = torch.tensor(X_st_train, dtype=torch.float32).unsqueeze(1)\n",
    "X_st_test = torch.tensor(X_st_test, dtype=torch.float32).unsqueeze(1)\n",
    "y_st_train = torch.tensor(y_st_train.values, dtype=torch.float32).view(-1, 1)\n",
    "y_st_test = torch.tensor(y_st_test.values, dtype=torch.float32).view(-1, 1)"
   ]
  },
  {
   "cell_type": "code",
   "execution_count": 33,
   "metadata": {},
   "outputs": [],
   "source": [
    "# multi thread data\n",
    "## split data\n",
    "X_mm_train = mm_train[features]\n",
    "y_mm_train = mm_train[target]\n",
    "\n",
    "X_mm_test = mm_test[features]\n",
    "y_mm_test = mm_test[target]\n",
    "\n",
    "## normalize data\n",
    "scaler_mm = StandardScaler()\n",
    "X_mm_train = scaler_mm.fit_transform(X_mm_train)\n",
    "X_mm_test = scaler_mm.transform(X_mm_test)\n",
    "\n",
    "## convert to tensor\n",
    "X_mm_train = torch.tensor(X_mm_train, dtype=torch.float32).unsqueeze(1)\n",
    "X_mm_test = torch.tensor(X_mm_test, dtype=torch.float32).unsqueeze(1)\n",
    "y_mm_train = torch.tensor(y_mm_train.values, dtype=torch.float32).view(-1, 1)\n",
    "y_mm_test = torch.tensor(y_mm_test.values, dtype=torch.float32).view(-1, 1)"
   ]
  },
  {
   "cell_type": "code",
   "execution_count": 34,
   "metadata": {},
   "outputs": [],
   "source": [
    "if DEVICE.type == 'cuda':\n",
    "\t# move to DEVICE\n",
    "\tX_g_train = X_g_train.to(DEVICE)\n",
    "\ty_g_train = y_g_train.to(DEVICE)\n",
    "\tX_g_test = X_g_test.to(DEVICE)\n",
    "\ty_g_test = y_g_test.to(DEVICE)\n",
    "\n",
    "\tX_st_train = X_st_train.to(DEVICE)\n",
    "\ty_st_train = y_st_train.to(DEVICE)\n",
    "\tX_st_test = X_st_test.to(DEVICE)\n",
    "\ty_st_test = y_st_test.to(DEVICE)\n",
    "\n",
    "\tX_mm_train = X_mm_train.to(DEVICE)\n",
    "\ty_mm_train = y_mm_train.to(DEVICE)\n",
    "\tX_mm_test = X_mm_test.to(DEVICE)\n",
    "\ty_mm_test = y_mm_test.to(DEVICE)"
   ]
  },
  {
   "cell_type": "markdown",
   "metadata": {},
   "source": [
    "# Model"
   ]
  },
  {
   "cell_type": "code",
   "execution_count": 35,
   "metadata": {},
   "outputs": [],
   "source": [
    "class TransformerModel(nn.Module):\n",
    "\tdef __init__(self, input_dim_numeric, embedding_dim, seq_length, num_heads, num_layers, output_dim):\n",
    "\t\tsuper(TransformerModel, self).__init__()\n",
    "\t\t# layers\n",
    "\t\tself.transformer_encoder = nn.TransformerEncoder(\n",
    "            nn.TransformerEncoderLayer(d_model=embedding_dim, nhead=num_heads),\n",
    "            num_layers=num_layers\n",
    "        )\n",
    "\t\tself.fc_numeric = nn.Linear(input_dim_numeric, embedding_dim)\n",
    "\t\tself.fc_final = nn.Linear(embedding_dim * (seq_length + 1), output_dim)\n",
    "\t\n",
    "\tdef forward(self, numeric_inputs, seq_inputs):\n",
    "\t\tnumeric_embeddings = self.fc_numeric(numeric_inputs)\n",
    "\t\tseq_embeddings = self.transformer_encoder(seq_inputs)\n",
    "\t\tcombined = torch.cat((seq_embeddings.flatten(1), numeric_embeddings), dim=1)\n",
    "\t\toutput = self.fc_final(combined)\n",
    "\t\treturn output"
   ]
  },
  {
   "cell_type": "code",
   "execution_count": 36,
   "metadata": {},
   "outputs": [],
   "source": [
    "def objective(trial: optuna.Trial, X_train, X_emb_train, y_train, X_test, y_test, input_num_dim, input_emb_dim, output_dim):\n",
    "\t# Definimos los hiperparámetros a buscar\n",
    "\tnum_heads = trial.suggest_int('num_heads', 1, 8)\n",
    "\tnum_layers = trial.suggest_int('num_layers', 1, 6)\n",
    "\tlearning_rate = trial.suggest_float('learning_rate', 1e-5, 1e-2, log=True)\n",
    "\tweight_decay = trial.suggest_float('weight_decay', 1e-5, 1e-2, log=True)\n",
    "\tnum_epochs = trial.suggest_int('num_epochs', 10, 100)\n",
    "\n",
    "\t# model initialization \n",
    "\tmodel = TransformerModel(input_num_dim, input_emb_dim, 5000, num_heads, num_layers, output_dim)\n",
    "\tif DEVICE.type == 'cuda':\n",
    "\t\tmodel = model.to(DEVICE)\n",
    "\tcriterion = nn.MSELoss()\n",
    "\toptimizer = optim.AdamW(model.parameters(), lr=learning_rate, weight_decay=weight_decay)\n",
    "\t# training\n",
    "\tmodel.train()\n",
    "\tfor epoch in range(num_epochs):\n",
    "\t\toptimizer.zero_grad()\n",
    "\t\toutput = model(X_train)\n",
    "\t\tloss = criterion(output, y_train)\n",
    "\t\tloss.backward()\n",
    "\t\toptimizer.step()\n",
    "\t# evaluation\n",
    "\tmodel.eval()\n",
    "\twith torch.no_grad():\n",
    "\t\tpredictions = model(X_test)\n",
    "\t\tval_loss = criterion(predictions, y_test)\n",
    "\n",
    "\t\t# trial.report(val_loss.item(), epoch+1)\n",
    "\t\t# if trial.should_prune():\n",
    "\t\t# \traise optuna.TrialPruned()\n",
    "\tprint(f\"Trial: {trial.number} - Loss: {loss.item()} - Val Loss: {val_loss.item()}\")\n",
    "\treturn val_loss.item()"
   ]
  },
  {
   "cell_type": "markdown",
   "metadata": {},
   "source": [
    "# Hyperparameters Optimization"
   ]
  },
  {
   "cell_type": "code",
   "execution_count": 37,
   "metadata": {},
   "outputs": [],
   "source": [
    "n_trials = 25\n",
    "study_g = None\n",
    "study_st = None\n",
    "study_mm = None"
   ]
  },
  {
   "cell_type": "markdown",
   "metadata": {},
   "source": [
    "## General"
   ]
  },
  {
   "cell_type": "code",
   "execution_count": 38,
   "metadata": {},
   "outputs": [
    {
     "name": "stderr",
     "output_type": "stream",
     "text": [
      "[I 2024-07-03 07:45:51,581] A new study created in memory with name: no-name-504ff626-0f26-4741-9f15-d1fb61d4cf84\n",
      "/home/frnk65/resource-prediction-study/venv/lib/python3.10/site-packages/torch/nn/modules/transformer.py:286: UserWarning: enable_nested_tensor is True, but self.use_nested_tensor is False because encoder_layer.self_attn.num_heads is odd\n",
      "  warnings.warn(f\"enable_nested_tensor is True, but self.use_nested_tensor is False because {why_not_sparsity_fast_path}\")\n",
      "[I 2024-07-03 07:45:58,988] Trial 0 finished with value: 587.005615234375 and parameters: {'num_heads': 3, 'model_dim': 183, 'num_layers': 5, 'dropout': 0.3394633936788146, 'learning_rate': 2.9380279387035334e-05, 'weight_decay': 2.9375384576328295e-05, 'num_epochs': 15}. Best is trial 0 with value: 587.005615234375.\n"
     ]
    },
    {
     "name": "stdout",
     "output_type": "stream",
     "text": [
      "Trial: 0 - Loss: 573.3038940429688 - Val Loss: 587.005615234375\n"
     ]
    },
    {
     "name": "stderr",
     "output_type": "stream",
     "text": [
      "[I 2024-07-03 07:46:26,691] Trial 1 finished with value: 65.44300842285156 and parameters: {'num_heads': 7, 'model_dim': 280, 'num_layers': 5, 'dropout': 0.10823379771832098, 'learning_rate': 0.008123245085588688, 'weight_decay': 0.00314288089084011, 'num_epochs': 29}. Best is trial 1 with value: 65.44300842285156.\n"
     ]
    },
    {
     "name": "stdout",
     "output_type": "stream",
     "text": [
      "Trial: 1 - Loss: 267.2928161621094 - Val Loss: 65.44300842285156\n"
     ]
    },
    {
     "name": "stderr",
     "output_type": "stream",
     "text": [
      "[I 2024-07-03 07:46:33,623] Trial 2 finished with value: 616.79443359375 and parameters: {'num_heads': 2, 'model_dim': 30, 'num_layers': 2, 'dropout': 0.3099025726528951, 'learning_rate': 0.00019762189340280086, 'weight_decay': 7.476312062252303e-05, 'num_epochs': 65}. Best is trial 1 with value: 65.44300842285156.\n"
     ]
    },
    {
     "name": "stdout",
     "output_type": "stream",
     "text": [
      "Trial: 2 - Loss: 600.5411376953125 - Val Loss: 616.79443359375\n"
     ]
    },
    {
     "name": "stderr",
     "output_type": "stream",
     "text": [
      "[I 2024-07-03 07:46:42,984] Trial 3 finished with value: 332.29901123046875 and parameters: {'num_heads': 2, 'model_dim': 42, 'num_layers': 3, 'dropout': 0.28242799368681437, 'learning_rate': 0.0022673986523780395, 'weight_decay': 3.972110727381908e-05, 'num_epochs': 56}. Best is trial 1 with value: 65.44300842285156.\n"
     ]
    },
    {
     "name": "stdout",
     "output_type": "stream",
     "text": [
      "Trial: 3 - Loss: 396.53668212890625 - Val Loss: 332.29901123046875\n"
     ]
    },
    {
     "name": "stderr",
     "output_type": "stream",
     "text": [
      "[I 2024-07-03 07:47:24,540] Trial 4 finished with value: 668.1171875 and parameters: {'num_heads': 5, 'model_dim': 30, 'num_layers': 4, 'dropout': 0.16820964947491662, 'learning_rate': 1.5673095467235405e-05, 'weight_decay': 0.007025166339242158, 'num_epochs': 97}. Best is trial 1 with value: 65.44300842285156.\n"
     ]
    },
    {
     "name": "stdout",
     "output_type": "stream",
     "text": [
      "Trial: 4 - Loss: 637.9264526367188 - Val Loss: 668.1171875\n"
     ]
    },
    {
     "name": "stderr",
     "output_type": "stream",
     "text": [
      "[I 2024-07-03 07:47:33,715] Trial 5 finished with value: 400.95147705078125 and parameters: {'num_heads': 7, 'model_dim': 154, 'num_layers': 1, 'dropout': 0.3736932106048628, 'learning_rate': 0.00020914981329035596, 'weight_decay': 2.32335035153901e-05, 'num_epochs': 55}. Best is trial 1 with value: 65.44300842285156.\n"
     ]
    },
    {
     "name": "stdout",
     "output_type": "stream",
     "text": [
      "Trial: 5 - Loss: 444.4972839355469 - Val Loss: 400.95147705078125\n"
     ]
    },
    {
     "name": "stderr",
     "output_type": "stream",
     "text": [
      "[I 2024-07-03 07:47:38,489] Trial 6 finished with value: 581.8510131835938 and parameters: {'num_heads': 1, 'model_dim': 59, 'num_layers': 2, 'dropout': 0.36500891374159283, 'learning_rate': 8.612579192594876e-05, 'weight_decay': 0.00036324869566766035, 'num_epochs': 59}. Best is trial 1 with value: 65.44300842285156.\n"
     ]
    },
    {
     "name": "stdout",
     "output_type": "stream",
     "text": [
      "Trial: 6 - Loss: 575.3663330078125 - Val Loss: 581.8510131835938\n"
     ]
    },
    {
     "name": "stderr",
     "output_type": "stream",
     "text": [
      "[I 2024-07-03 07:48:10,450] Trial 7 finished with value: 80.60675811767578 and parameters: {'num_heads': 2, 'model_dim': 126, 'num_layers': 5, 'dropout': 0.4757995766256756, 'learning_rate': 0.004835952776465951, 'weight_decay': 0.0006218704727769079, 'num_epochs': 93}. Best is trial 1 with value: 65.44300842285156.\n"
     ]
    },
    {
     "name": "stdout",
     "output_type": "stream",
     "text": [
      "Trial: 7 - Loss: 266.5770568847656 - Val Loss: 80.60675811767578\n"
     ]
    },
    {
     "name": "stderr",
     "output_type": "stream",
     "text": [
      "[I 2024-07-03 07:48:13,299] Trial 8 finished with value: 668.2510986328125 and parameters: {'num_heads': 1, 'model_dim': 15, 'num_layers': 1, 'dropout': 0.23013213230530574, 'learning_rate': 0.00014656553886225324, 'weight_decay': 6.516990611177177e-05, 'num_epochs': 85}. Best is trial 1 with value: 65.44300842285156.\n"
     ]
    },
    {
     "name": "stdout",
     "output_type": "stream",
     "text": [
      "Trial: 8 - Loss: 640.484375 - Val Loss: 668.2510986328125\n"
     ]
    },
    {
     "name": "stderr",
     "output_type": "stream",
     "text": [
      "[I 2024-07-03 07:48:43,890] Trial 9 finished with value: 84.94974517822266 and parameters: {'num_heads': 3, 'model_dim': 63, 'num_layers': 4, 'dropout': 0.15636968998990508, 'learning_rate': 0.002550298070162891, 'weight_decay': 1.6736010167825783e-05, 'num_epochs': 99}. Best is trial 1 with value: 65.44300842285156.\n"
     ]
    },
    {
     "name": "stdout",
     "output_type": "stream",
     "text": [
      "Trial: 9 - Loss: 266.5422058105469 - Val Loss: 84.94974517822266\n"
     ]
    },
    {
     "name": "stderr",
     "output_type": "stream",
     "text": [
      "[I 2024-07-03 07:49:10,088] Trial 10 finished with value: 178.59274291992188 and parameters: {'num_heads': 8, 'model_dim': 424, 'num_layers': 6, 'dropout': 0.10718475024592788, 'learning_rate': 0.0009028168422346188, 'weight_decay': 0.005284384205738849, 'num_epochs': 17}. Best is trial 1 with value: 65.44300842285156.\n"
     ]
    },
    {
     "name": "stdout",
     "output_type": "stream",
     "text": [
      "Trial: 10 - Loss: 307.724609375 - Val Loss: 178.59274291992188\n"
     ]
    },
    {
     "name": "stderr",
     "output_type": "stream",
     "text": [
      "[I 2024-07-03 07:49:49,292] Trial 11 finished with value: 80.0769271850586 and parameters: {'num_heads': 6, 'model_dim': 294, 'num_layers': 6, 'dropout': 0.4969555436367596, 'learning_rate': 0.006877477209765817, 'weight_decay': 0.001134736909845589, 'num_epochs': 35}. Best is trial 1 with value: 65.44300842285156.\n"
     ]
    },
    {
     "name": "stdout",
     "output_type": "stream",
     "text": [
      "Trial: 11 - Loss: 267.1382751464844 - Val Loss: 80.0769271850586\n"
     ]
    },
    {
     "name": "stderr",
     "output_type": "stream",
     "text": [
      "[I 2024-07-03 07:50:27,889] Trial 12 finished with value: 78.46221923828125 and parameters: {'num_heads': 6, 'model_dim': 294, 'num_layers': 6, 'dropout': 0.49925267200585316, 'learning_rate': 0.007097392833743549, 'weight_decay': 0.0017343770121671484, 'num_epochs': 35}. Best is trial 1 with value: 65.44300842285156.\n"
     ]
    },
    {
     "name": "stdout",
     "output_type": "stream",
     "text": [
      "Trial: 12 - Loss: 266.8121337890625 - Val Loss: 78.46221923828125\n"
     ]
    },
    {
     "name": "stderr",
     "output_type": "stream",
     "text": [
      "[I 2024-07-03 07:50:54,009] Trial 13 finished with value: 195.78785705566406 and parameters: {'num_heads': 6, 'model_dim': 270, 'num_layers': 5, 'dropout': 0.423556575950062, 'learning_rate': 0.00090313699739029, 'weight_decay': 0.002069134639321997, 'num_epochs': 30}. Best is trial 1 with value: 65.44300842285156.\n"
     ]
    },
    {
     "name": "stdout",
     "output_type": "stream",
     "text": [
      "Trial: 13 - Loss: 313.4983825683594 - Val Loss: 195.78785705566406\n"
     ]
    },
    {
     "name": "stderr",
     "output_type": "stream",
     "text": [
      "[I 2024-07-03 07:51:46,169] Trial 14 finished with value: 119.49128723144531 and parameters: {'num_heads': 8, 'model_dim': 352, 'num_layers': 6, 'dropout': 0.21199639010812193, 'learning_rate': 0.0008129948297847969, 'weight_decay': 0.002229023133098905, 'num_epochs': 38}. Best is trial 1 with value: 65.44300842285156.\n"
     ]
    },
    {
     "name": "stdout",
     "output_type": "stream",
     "text": [
      "Trial: 14 - Loss: 275.8993835449219 - Val Loss: 119.49128723144531\n"
     ]
    },
    {
     "name": "stderr",
     "output_type": "stream",
     "text": [
      "[I 2024-07-03 07:52:18,164] Trial 15 finished with value: 70.45816802978516 and parameters: {'num_heads': 5, 'model_dim': 225, 'num_layers': 5, 'dropout': 0.4232264137788658, 'learning_rate': 0.009728613904848124, 'weight_decay': 0.00017387706430988122, 'num_epochs': 44}. Best is trial 1 with value: 65.44300842285156.\n"
     ]
    },
    {
     "name": "stdout",
     "output_type": "stream",
     "text": [
      "Trial: 15 - Loss: 267.1008605957031 - Val Loss: 70.45816802978516\n"
     ]
    },
    {
     "name": "stderr",
     "output_type": "stream",
     "text": [
      "[I 2024-07-03 07:52:40,068] Trial 16 finished with value: 75.3851547241211 and parameters: {'num_heads': 4, 'model_dim': 208, 'num_layers': 4, 'dropout': 0.4172068328297226, 'learning_rate': 0.009813558212616596, 'weight_decay': 0.00017607569497085006, 'num_epochs': 45}. Best is trial 1 with value: 65.44300842285156.\n"
     ]
    },
    {
     "name": "stdout",
     "output_type": "stream",
     "text": [
      "Trial: 16 - Loss: 266.7921142578125 - Val Loss: 75.3851547241211\n"
     ]
    },
    {
     "name": "stderr",
     "output_type": "stream",
     "text": [
      "[I 2024-07-03 07:52:56,874] Trial 17 finished with value: 100.46436309814453 and parameters: {'num_heads': 5, 'model_dim': 235, 'num_layers': 5, 'dropout': 0.27109579386411675, 'learning_rate': 0.002648001847191296, 'weight_decay': 0.00021351181070935403, 'num_epochs': 23}. Best is trial 1 with value: 65.44300842285156.\n"
     ]
    },
    {
     "name": "stdout",
     "output_type": "stream",
     "text": [
      "Trial: 17 - Loss: 271.3751525878906 - Val Loss: 100.46436309814453\n"
     ]
    },
    {
     "name": "stderr",
     "output_type": "stream",
     "text": [
      "[I 2024-07-03 07:53:41,604] Trial 18 finished with value: 94.75528717041016 and parameters: {'num_heads': 7, 'model_dim': 350, 'num_layers': 3, 'dropout': 0.1092953650710502, 'learning_rate': 0.0005743793329759141, 'weight_decay': 0.00011599023206535064, 'num_epochs': 70}. Best is trial 1 with value: 65.44300842285156.\n"
     ]
    },
    {
     "name": "stdout",
     "output_type": "stream",
     "text": [
      "Trial: 18 - Loss: 268.06646728515625 - Val Loss: 94.75528717041016\n"
     ]
    },
    {
     "name": "stderr",
     "output_type": "stream",
     "text": [
      "[I 2024-07-03 07:54:28,179] Trial 19 finished with value: 78.8536148071289 and parameters: {'num_heads': 7, 'model_dim': 336, 'num_layers': 5, 'dropout': 0.4240924757804225, 'learning_rate': 0.0018786921580503184, 'weight_decay': 0.0004997101917350775, 'num_epochs': 46}. Best is trial 1 with value: 65.44300842285156.\n"
     ]
    },
    {
     "name": "stdout",
     "output_type": "stream",
     "text": [
      "Trial: 19 - Loss: 266.6694030761719 - Val Loss: 78.8536148071289\n"
     ]
    },
    {
     "name": "stderr",
     "output_type": "stream",
     "text": [
      "[I 2024-07-03 07:54:39,860] Trial 20 finished with value: 69.58648681640625 and parameters: {'num_heads': 4, 'model_dim': 156, 'num_layers': 4, 'dropout': 0.23297963437340713, 'learning_rate': 0.004475232967246422, 'weight_decay': 1.0592310093219841e-05, 'num_epochs': 26}. Best is trial 1 with value: 65.44300842285156.\n"
     ]
    },
    {
     "name": "stdout",
     "output_type": "stream",
     "text": [
      "Trial: 20 - Loss: 267.0910339355469 - Val Loss: 69.58648681640625\n"
     ]
    },
    {
     "name": "stderr",
     "output_type": "stream",
     "text": [
      "[I 2024-07-03 07:54:49,298] Trial 21 finished with value: 162.96531677246094 and parameters: {'num_heads': 4, 'model_dim': 108, 'num_layers': 4, 'dropout': 0.2221985744009721, 'learning_rate': 0.004305334729458304, 'weight_decay': 1.0883479244730683e-05, 'num_epochs': 23}. Best is trial 1 with value: 65.44300842285156.\n"
     ]
    },
    {
     "name": "stdout",
     "output_type": "stream",
     "text": [
      "Trial: 21 - Loss: 299.6440124511719 - Val Loss: 162.96531677246094\n"
     ]
    },
    {
     "name": "stderr",
     "output_type": "stream",
     "text": [
      "[I 2024-07-03 07:55:08,853] Trial 22 finished with value: 73.73278045654297 and parameters: {'num_heads': 5, 'model_dim': 235, 'num_layers': 3, 'dropout': 0.15142331831653255, 'learning_rate': 0.00996048262953731, 'weight_decay': 0.004024213491547553, 'num_epochs': 45}. Best is trial 1 with value: 65.44300842285156.\n"
     ]
    },
    {
     "name": "stdout",
     "output_type": "stream",
     "text": [
      "Trial: 22 - Loss: 266.6722106933594 - Val Loss: 73.73278045654297\n"
     ]
    },
    {
     "name": "stderr",
     "output_type": "stream",
     "text": [
      "[I 2024-07-03 07:55:15,160] Trial 23 finished with value: 203.9698028564453 and parameters: {'num_heads': 4, 'model_dim': 172, 'num_layers': 5, 'dropout': 0.26166750169446507, 'learning_rate': 0.004567652233675725, 'weight_decay': 0.0007663713378426931, 'num_epochs': 11}. Best is trial 1 with value: 65.44300842285156.\n"
     ]
    },
    {
     "name": "stdout",
     "output_type": "stream",
     "text": [
      "Trial: 23 - Loss: 331.7026062011719 - Val Loss: 203.9698028564453\n"
     ]
    },
    {
     "name": "stderr",
     "output_type": "stream",
     "text": [
      "[I 2024-07-03 07:55:24,779] Trial 24 finished with value: 308.0043029785156 and parameters: {'num_heads': 3, 'model_dim': 135, 'num_layers': 4, 'dropout': 0.1818506671679665, 'learning_rate': 0.0016176302658366711, 'weight_decay': 1.0086280568678738e-05, 'num_epochs': 26}. Best is trial 1 with value: 65.44300842285156.\n"
     ]
    },
    {
     "name": "stdout",
     "output_type": "stream",
     "text": [
      "Trial: 24 - Loss: 383.8891906738281 - Val Loss: 308.0043029785156\n"
     ]
    }
   ],
   "source": [
    "# configuration optuna\n",
    "study_g = optuna.create_study(direction='minimize', sampler=sampler)\n",
    "study_g.optimize(lambda trial: objective(trial, X_g_train, y_g_train, X_g_test, y_g_test, len(features), 1), n_trials=n_trials)"
   ]
  },
  {
   "cell_type": "code",
   "execution_count": 39,
   "metadata": {},
   "outputs": [
    {
     "name": "stdout",
     "output_type": "stream",
     "text": [
      "Número de pruebas: 25\n",
      "Mejor prueba: 1\n",
      "Mejores parametros: {'num_heads': 7, 'model_dim': 280, 'num_layers': 5, 'dropout': 0.10823379771832098, 'learning_rate': 0.008123245085588688, 'weight_decay': 0.00314288089084011, 'num_epochs': 29}\n",
      "Mejor valor de pérdida de validación: 65.44300842285156\n"
     ]
    }
   ],
   "source": [
    "# Results\n",
    "print(f'Número de pruebas: {len(study_g.trials)}')\n",
    "trial = study_g.best_trial\n",
    "print(f'Mejor prueba: {trial.number}')\n",
    "print(f'Mejores parametros: {trial.params}')\n",
    "print(f'Mejor valor de pérdida de validación: {trial.value}')"
   ]
  },
  {
   "cell_type": "markdown",
   "metadata": {},
   "source": [
    "## Single Thread"
   ]
  },
  {
   "cell_type": "code",
   "execution_count": 40,
   "metadata": {},
   "outputs": [
    {
     "name": "stderr",
     "output_type": "stream",
     "text": [
      "[I 2024-07-03 07:55:24,799] A new study created in memory with name: no-name-dc29c454-4add-4623-b461-8651c59556d0\n",
      "[I 2024-07-03 07:55:34,940] Trial 0 finished with value: 62.06943893432617 and parameters: {'num_heads': 7, 'model_dim': 112, 'num_layers': 1, 'dropout': 0.42618457138193366, 'learning_rate': 0.001319994226153501, 'weight_decay': 0.0015382308040279, 'num_epochs': 80}. Best is trial 0 with value: 62.06943893432617.\n"
     ]
    },
    {
     "name": "stdout",
     "output_type": "stream",
     "text": [
      "Trial: 0 - Loss: 307.4320068359375 - Val Loss: 62.06943893432617\n"
     ]
    },
    {
     "name": "stderr",
     "output_type": "stream",
     "text": [
      "[I 2024-07-03 07:55:35,386] Trial 1 finished with value: 507.5620422363281 and parameters: {'num_heads': 1, 'model_dim': 25, 'num_layers': 1, 'dropout': 0.4452413703502375, 'learning_rate': 0.0007411299781083245, 'weight_decay': 9.833181933644887e-05, 'num_epochs': 15}. Best is trial 0 with value: 62.06943893432617.\n"
     ]
    },
    {
     "name": "stdout",
     "output_type": "stream",
     "text": [
      "Trial: 1 - Loss: 744.2530517578125 - Val Loss: 507.5620422363281\n"
     ]
    },
    {
     "name": "stderr",
     "output_type": "stream",
     "text": [
      "[I 2024-07-03 07:55:41,791] Trial 2 finished with value: 220.41946411132812 and parameters: {'num_heads': 3, 'model_dim': 69, 'num_layers': 5, 'dropout': 0.35502298854208525, 'learning_rate': 0.0045881565491609705, 'weight_decay': 0.00026100256506134784, 'num_epochs': 20}. Best is trial 0 with value: 62.06943893432617.\n"
     ]
    },
    {
     "name": "stdout",
     "output_type": "stream",
     "text": [
      "Trial: 2 - Loss: 473.9880676269531 - Val Loss: 220.41946411132812\n"
     ]
    },
    {
     "name": "stderr",
     "output_type": "stream",
     "text": [
      "[I 2024-07-03 07:56:09,826] Trial 3 finished with value: 145.89273071289062 and parameters: {'num_heads': 6, 'model_dim': 300, 'num_layers': 4, 'dropout': 0.40838687198182444, 'learning_rate': 0.00030296104428212476, 'weight_decay': 0.0003699972431463808, 'num_epochs': 48}. Best is trial 0 with value: 62.06943893432617.\n"
     ]
    },
    {
     "name": "stdout",
     "output_type": "stream",
     "text": [
      "Trial: 3 - Loss: 389.7847900390625 - Val Loss: 145.89273071289062\n"
     ]
    },
    {
     "name": "stderr",
     "output_type": "stream",
     "text": [
      "[I 2024-07-03 07:56:12,314] Trial 4 finished with value: 542.7485961914062 and parameters: {'num_heads': 1, 'model_dim': 10, 'num_layers': 1, 'dropout': 0.3545641645055122, 'learning_rate': 8.771380343280557e-05, 'weight_decay': 0.0003355151022721483, 'num_epochs': 92}. Best is trial 0 with value: 62.06943893432617.\n"
     ]
    },
    {
     "name": "stdout",
     "output_type": "stream",
     "text": [
      "Trial: 4 - Loss: 775.09228515625 - Val Loss: 542.7485961914062\n"
     ]
    },
    {
     "name": "stderr",
     "output_type": "stream",
     "text": [
      "[I 2024-07-03 07:56:17,938] Trial 5 finished with value: 556.658447265625 and parameters: {'num_heads': 2, 'model_dim': 58, 'num_layers': 5, 'dropout': 0.191519266196649, 'learning_rate': 1.7019223026554023e-05, 'weight_decay': 7.40038575908737e-05, 'num_epochs': 24}. Best is trial 0 with value: 62.06943893432617.\n"
     ]
    },
    {
     "name": "stdout",
     "output_type": "stream",
     "text": [
      "Trial: 5 - Loss: 775.6277465820312 - Val Loss: 556.658447265625\n"
     ]
    },
    {
     "name": "stderr",
     "output_type": "stream",
     "text": [
      "[I 2024-07-03 07:57:30,330] Trial 6 finished with value: 37.884891510009766 and parameters: {'num_heads': 8, 'model_dim': 424, 'num_layers': 4, 'dropout': 0.44858423607508713, 'learning_rate': 0.0025764174425233167, 'weight_decay': 3.6283583803549155e-05, 'num_epochs': 91}. Best is trial 6 with value: 37.884891510009766.\n"
     ]
    },
    {
     "name": "stdout",
     "output_type": "stream",
     "text": [
      "Trial: 6 - Loss: 281.2131042480469 - Val Loss: 37.884891510009766\n"
     ]
    },
    {
     "name": "stderr",
     "output_type": "stream",
     "text": [
      "[I 2024-07-03 07:58:06,843] Trial 7 finished with value: 283.6199035644531 and parameters: {'num_heads': 5, 'model_dim': 265, 'num_layers': 6, 'dropout': 0.22720138998874556, 'learning_rate': 2.1387290754148914e-05, 'weight_decay': 4.8284249748183215e-05, 'num_epochs': 48}. Best is trial 6 with value: 37.884891510009766.\n"
     ]
    },
    {
     "name": "stdout",
     "output_type": "stream",
     "text": [
      "Trial: 7 - Loss: 524.4100952148438 - Val Loss: 283.6199035644531\n"
     ]
    },
    {
     "name": "stderr",
     "output_type": "stream",
     "text": [
      "[I 2024-07-03 07:58:10,406] Trial 8 finished with value: 213.32315063476562 and parameters: {'num_heads': 7, 'model_dim': 392, 'num_layers': 1, 'dropout': 0.3042989210310263, 'learning_rate': 0.000178744632562384, 'weight_decay': 4.6379219034580266e-05, 'num_epochs': 20}. Best is trial 6 with value: 37.884891510009766.\n"
     ]
    },
    {
     "name": "stdout",
     "output_type": "stream",
     "text": [
      "Trial: 8 - Loss: 443.738037109375 - Val Loss: 213.32315063476562\n"
     ]
    },
    {
     "name": "stderr",
     "output_type": "stream",
     "text": [
      "[I 2024-07-03 07:58:25,810] Trial 9 finished with value: 135.2371826171875 and parameters: {'num_heads': 3, 'model_dim': 183, 'num_layers': 2, 'dropout': 0.30751624869734645, 'learning_rate': 0.0012854549964879019, 'weight_decay': 0.00012327891605450807, 'num_epochs': 98}. Best is trial 6 with value: 37.884891510009766.\n"
     ]
    },
    {
     "name": "stdout",
     "output_type": "stream",
     "text": [
      "Trial: 9 - Loss: 214.21823120117188 - Val Loss: 135.2371826171875\n"
     ]
    },
    {
     "name": "stderr",
     "output_type": "stream",
     "text": [
      "[I 2024-07-03 07:59:10,231] Trial 10 finished with value: 38.05074691772461 and parameters: {'num_heads': 8, 'model_dim': 496, 'num_layers': 3, 'dropout': 0.1246026171282115, 'learning_rate': 0.008106149171392763, 'weight_decay': 1.5025399484753894e-05, 'num_epochs': 69}. Best is trial 6 with value: 37.884891510009766.\n"
     ]
    },
    {
     "name": "stdout",
     "output_type": "stream",
     "text": [
      "Trial: 10 - Loss: 281.2942810058594 - Val Loss: 38.05074691772461\n"
     ]
    },
    {
     "name": "stderr",
     "output_type": "stream",
     "text": [
      "[I 2024-07-03 07:59:55,966] Trial 11 finished with value: 37.85926055908203 and parameters: {'num_heads': 8, 'model_dim': 512, 'num_layers': 3, 'dropout': 0.10589171034877662, 'learning_rate': 0.008149658576652717, 'weight_decay': 1.219583825009273e-05, 'num_epochs': 71}. Best is trial 11 with value: 37.85926055908203.\n"
     ]
    },
    {
     "name": "stdout",
     "output_type": "stream",
     "text": [
      "Trial: 11 - Loss: 281.20562744140625 - Val Loss: 37.85926055908203\n"
     ]
    },
    {
     "name": "stderr",
     "output_type": "stream",
     "text": [
      "[I 2024-07-03 08:00:39,940] Trial 12 finished with value: 37.77417755126953 and parameters: {'num_heads': 8, 'model_dim': 512, 'num_layers': 3, 'dropout': 0.49215709557858045, 'learning_rate': 0.0028372961333157348, 'weight_decay': 1.0411236616031968e-05, 'num_epochs': 68}. Best is trial 12 with value: 37.77417755126953.\n"
     ]
    },
    {
     "name": "stdout",
     "output_type": "stream",
     "text": [
      "Trial: 12 - Loss: 281.2080078125 - Val Loss: 37.77417755126953\n"
     ]
    },
    {
     "name": "stderr",
     "output_type": "stream",
     "text": [
      "[I 2024-07-03 08:01:11,177] Trial 13 finished with value: 38.269779205322266 and parameters: {'num_heads': 6, 'model_dim': 384, 'num_layers': 3, 'dropout': 0.49664022433141086, 'learning_rate': 0.009186367110957461, 'weight_decay': 1.0863509237016974e-05, 'num_epochs': 66}. Best is trial 12 with value: 37.77417755126953.\n"
     ]
    },
    {
     "name": "stdout",
     "output_type": "stream",
     "text": [
      "Trial: 13 - Loss: 281.20819091796875 - Val Loss: 38.269779205322266\n"
     ]
    },
    {
     "name": "stderr",
     "output_type": "stream",
     "text": [
      "[I 2024-07-03 08:01:49,971] Trial 14 finished with value: 37.89213180541992 and parameters: {'num_heads': 8, 'model_dim': 512, 'num_layers': 3, 'dropout': 0.10368763693190514, 'learning_rate': 0.0031940106049038897, 'weight_decay': 0.004586798164817242, 'num_epochs': 61}. Best is trial 12 with value: 37.77417755126953.\n"
     ]
    },
    {
     "name": "stdout",
     "output_type": "stream",
     "text": [
      "Trial: 14 - Loss: 281.1505126953125 - Val Loss: 37.89213180541992\n"
     ]
    },
    {
     "name": "stderr",
     "output_type": "stream",
     "text": [
      "[I 2024-07-03 08:02:06,212] Trial 15 finished with value: 82.97280883789062 and parameters: {'num_heads': 5, 'model_dim': 190, 'num_layers': 2, 'dropout': 0.22973592976265728, 'learning_rate': 0.000676201440378111, 'weight_decay': 1.979748529126409e-05, 'num_epochs': 75}. Best is trial 12 with value: 37.77417755126953.\n"
     ]
    },
    {
     "name": "stdout",
     "output_type": "stream",
     "text": [
      "Trial: 15 - Loss: 327.6230163574219 - Val Loss: 82.97280883789062\n"
     ]
    },
    {
     "name": "stderr",
     "output_type": "stream",
     "text": [
      "[I 2024-07-03 08:02:18,656] Trial 16 finished with value: 38.07381057739258 and parameters: {'num_heads': 7, 'model_dim': 336, 'num_layers': 2, 'dropout': 0.16322619687285683, 'learning_rate': 0.004210179973374917, 'weight_decay': 2.432317943590038e-05, 'num_epochs': 38}. Best is trial 12 with value: 37.77417755126953.\n"
     ]
    },
    {
     "name": "stdout",
     "output_type": "stream",
     "text": [
      "Trial: 16 - Loss: 281.3700866699219 - Val Loss: 38.07381057739258\n"
     ]
    },
    {
     "name": "stderr",
     "output_type": "stream",
     "text": [
      "[I 2024-07-03 08:03:01,583] Trial 17 finished with value: 37.23849105834961 and parameters: {'num_heads': 6, 'model_dim': 252, 'num_layers': 4, 'dropout': 0.2504274959984424, 'learning_rate': 0.0016940390315482881, 'weight_decay': 0.001067356851619411, 'num_epochs': 81}. Best is trial 17 with value: 37.23849105834961.\n"
     ]
    },
    {
     "name": "stdout",
     "output_type": "stream",
     "text": [
      "Trial: 17 - Loss: 281.1636047363281 - Val Loss: 37.23849105834961\n"
     ]
    },
    {
     "name": "stderr",
     "output_type": "stream",
     "text": [
      "[I 2024-07-03 08:03:56,976] Trial 18 finished with value: 37.26271438598633 and parameters: {'num_heads': 6, 'model_dim': 240, 'num_layers': 5, 'dropout': 0.2657724769815869, 'learning_rate': 0.0017536399739157401, 'weight_decay': 0.0011021199598813852, 'num_epochs': 87}. Best is trial 17 with value: 37.23849105834961.\n"
     ]
    },
    {
     "name": "stdout",
     "output_type": "stream",
     "text": [
      "Trial: 18 - Loss: 281.17974853515625 - Val Loss: 37.26271438598633\n"
     ]
    },
    {
     "name": "stderr",
     "output_type": "stream",
     "text": [
      "[I 2024-07-03 08:04:42,014] Trial 19 finished with value: 284.8900146484375 and parameters: {'num_heads': 4, 'model_dim': 184, 'num_layers': 6, 'dropout': 0.266075759280839, 'learning_rate': 5.985229427655942e-05, 'weight_decay': 0.0014194080627116961, 'num_epochs': 83}. Best is trial 17 with value: 37.23849105834961.\n"
     ]
    },
    {
     "name": "stdout",
     "output_type": "stream",
     "text": [
      "Trial: 19 - Loss: 524.3458862304688 - Val Loss: 284.8900146484375\n"
     ]
    },
    {
     "name": "stderr",
     "output_type": "stream",
     "text": [
      "[I 2024-07-03 08:05:37,810] Trial 20 finished with value: 64.01228332519531 and parameters: {'num_heads': 6, 'model_dim': 240, 'num_layers': 5, 'dropout': 0.25891169456684265, 'learning_rate': 0.0005319533783152769, 'weight_decay': 0.0011210735795237944, 'num_epochs': 88}. Best is trial 17 with value: 37.23849105834961.\n"
     ]
    },
    {
     "name": "stdout",
     "output_type": "stream",
     "text": [
      "Trial: 20 - Loss: 307.80596923828125 - Val Loss: 64.01228332519531\n"
     ]
    },
    {
     "name": "stderr",
     "output_type": "stream",
     "text": [
      "[I 2024-07-03 08:06:09,473] Trial 21 finished with value: 38.89128494262695 and parameters: {'num_heads': 5, 'model_dim': 135, 'num_layers': 4, 'dropout': 0.3426511953937996, 'learning_rate': 0.0016169762892262577, 'weight_decay': 0.00392312460813385, 'num_epochs': 78}. Best is trial 17 with value: 37.23849105834961.\n"
     ]
    },
    {
     "name": "stdout",
     "output_type": "stream",
     "text": [
      "Trial: 21 - Loss: 282.9061279296875 - Val Loss: 38.89128494262695\n"
     ]
    },
    {
     "name": "stderr",
     "output_type": "stream",
     "text": [
      "[I 2024-07-03 08:07:12,749] Trial 22 finished with value: 37.341793060302734 and parameters: {'num_heads': 6, 'model_dim': 228, 'num_layers': 5, 'dropout': 0.2653976842275822, 'learning_rate': 0.0020999084932467383, 'weight_decay': 0.00988213445390245, 'num_epochs': 100}. Best is trial 17 with value: 37.23849105834961.\n"
     ]
    },
    {
     "name": "stdout",
     "output_type": "stream",
     "text": [
      "Trial: 22 - Loss: 281.1385192871094 - Val Loss: 37.341793060302734\n"
     ]
    },
    {
     "name": "stderr",
     "output_type": "stream",
     "text": [
      "[I 2024-07-03 08:08:15,549] Trial 23 finished with value: 105.7842025756836 and parameters: {'num_heads': 6, 'model_dim': 234, 'num_layers': 5, 'dropout': 0.2691750909442026, 'learning_rate': 0.0003436782144940018, 'weight_decay': 0.007187818462626211, 'num_epochs': 98}. Best is trial 17 with value: 37.23849105834961.\n"
     ]
    },
    {
     "name": "stdout",
     "output_type": "stream",
     "text": [
      "Trial: 23 - Loss: 348.4277648925781 - Val Loss: 105.7842025756836\n"
     ]
    },
    {
     "name": "stderr",
     "output_type": "stream",
     "text": [
      "[I 2024-07-03 08:09:12,858] Trial 24 finished with value: 37.23106002807617 and parameters: {'num_heads': 4, 'model_dim': 212, 'num_layers': 6, 'dropout': 0.19657967657361075, 'learning_rate': 0.0015831434455046685, 'weight_decay': 0.0007568934817355099, 'num_epochs': 100}. Best is trial 24 with value: 37.23106002807617.\n"
     ]
    },
    {
     "name": "stdout",
     "output_type": "stream",
     "text": [
      "Trial: 24 - Loss: 281.19830322265625 - Val Loss: 37.23106002807617\n"
     ]
    }
   ],
   "source": [
    "# configuration optuna\n",
    "study_st = optuna.create_study(direction='minimize', sampler=sampler)\n",
    "study_st.optimize(lambda trial: objective(trial, X_st_train, y_st_train, X_st_test, y_st_test, len(features_st), 1), n_trials=n_trials)"
   ]
  },
  {
   "cell_type": "code",
   "execution_count": 41,
   "metadata": {},
   "outputs": [
    {
     "name": "stdout",
     "output_type": "stream",
     "text": [
      "Número de pruebas: 25\n",
      "Mejor prueba: 24\n",
      "Mejores parametros: {'num_heads': 4, 'model_dim': 212, 'num_layers': 6, 'dropout': 0.19657967657361075, 'learning_rate': 0.0015831434455046685, 'weight_decay': 0.0007568934817355099, 'num_epochs': 100}\n",
      "Mejor valor de pérdida en validación: 37.23106002807617\n"
     ]
    }
   ],
   "source": [
    "# Results\n",
    "print(f'Número de pruebas: {len(study_st.trials)}')\n",
    "trial = study_st.best_trial\n",
    "print(f'Mejor prueba: {trial.number}')\n",
    "print(f'Mejores parametros: {trial.params}')\n",
    "print(f'Mejor valor de pérdida en validación: {trial.value}')"
   ]
  },
  {
   "cell_type": "markdown",
   "metadata": {},
   "source": [
    "## Multi Thread"
   ]
  },
  {
   "cell_type": "code",
   "execution_count": 42,
   "metadata": {},
   "outputs": [
    {
     "name": "stderr",
     "output_type": "stream",
     "text": [
      "[I 2024-07-03 08:09:12,875] A new study created in memory with name: no-name-6519a2ac-7050-4a61-bc66-b9c1f9dc1c17\n",
      "[I 2024-07-03 08:09:20,085] Trial 0 finished with value: 828.8079223632812 and parameters: {'num_heads': 8, 'model_dim': 152, 'num_layers': 3, 'dropout': 0.22035132392670786, 'learning_rate': 7.153547794693153e-05, 'weight_decay': 1.2902113024567147e-05, 'num_epochs': 65}. Best is trial 0 with value: 828.8079223632812.\n"
     ]
    },
    {
     "name": "stdout",
     "output_type": "stream",
     "text": [
      "Trial: 0 - Loss: 133.3551025390625 - Val Loss: 828.8079223632812\n"
     ]
    },
    {
     "name": "stderr",
     "output_type": "stream",
     "text": [
      "[I 2024-07-03 08:09:22,447] Trial 1 finished with value: 1094.959716796875 and parameters: {'num_heads': 5, 'model_dim': 35, 'num_layers': 2, 'dropout': 0.46330635438666146, 'learning_rate': 5.232216089948759e-05, 'weight_decay': 2.7207248059486674e-05, 'num_epochs': 54}. Best is trial 0 with value: 828.8079223632812.\n"
     ]
    },
    {
     "name": "stdout",
     "output_type": "stream",
     "text": [
      "Trial: 1 - Loss: 200.1089630126953 - Val Loss: 1094.959716796875\n"
     ]
    },
    {
     "name": "stderr",
     "output_type": "stream",
     "text": [
      "[I 2024-07-03 08:09:30,323] Trial 2 finished with value: 882.26953125 and parameters: {'num_heads': 8, 'model_dim': 144, 'num_layers': 5, 'dropout': 0.4046478461314871, 'learning_rate': 5.163124910488014e-05, 'weight_decay': 0.0015298506868937445, 'num_epochs': 43}. Best is trial 0 with value: 828.8079223632812.\n"
     ]
    },
    {
     "name": "stdout",
     "output_type": "stream",
     "text": [
      "Trial: 2 - Loss: 147.49929809570312 - Val Loss: 882.26953125\n"
     ]
    },
    {
     "name": "stderr",
     "output_type": "stream",
     "text": [
      "[I 2024-07-03 08:09:33,821] Trial 3 finished with value: 507.0150146484375 and parameters: {'num_heads': 6, 'model_dim': 252, 'num_layers': 4, 'dropout': 0.13611590802176332, 'learning_rate': 0.0032055863990707507, 'weight_decay': 9.169384722192322e-05, 'num_epochs': 26}. Best is trial 3 with value: 507.0150146484375.\n"
     ]
    },
    {
     "name": "stdout",
     "output_type": "stream",
     "text": [
      "Trial: 3 - Loss: 107.1495361328125 - Val Loss: 507.0150146484375\n"
     ]
    },
    {
     "name": "stderr",
     "output_type": "stream",
     "text": [
      "[I 2024-07-03 08:09:36,356] Trial 4 finished with value: 1034.8868408203125 and parameters: {'num_heads': 1, 'model_dim': 40, 'num_layers': 5, 'dropout': 0.10663513157114246, 'learning_rate': 0.0003437788661779579, 'weight_decay': 4.7806541413289224e-05, 'num_epochs': 68}. Best is trial 3 with value: 507.0150146484375.\n"
     ]
    },
    {
     "name": "stdout",
     "output_type": "stream",
     "text": [
      "Trial: 4 - Loss: 184.2609100341797 - Val Loss: 1034.8868408203125\n"
     ]
    },
    {
     "name": "stderr",
     "output_type": "stream",
     "text": [
      "[I 2024-07-03 08:09:37,135] Trial 5 finished with value: 1130.845458984375 and parameters: {'num_heads': 2, 'model_dim': 92, 'num_layers': 3, 'dropout': 0.4746919954946939, 'learning_rate': 2.5856088907313374e-05, 'weight_decay': 0.0001054870271491805, 'num_epochs': 20}. Best is trial 3 with value: 507.0150146484375.\n"
     ]
    },
    {
     "name": "stdout",
     "output_type": "stream",
     "text": [
      "Trial: 5 - Loss: 222.30142211914062 - Val Loss: 1130.845458984375\n"
     ]
    },
    {
     "name": "stderr",
     "output_type": "stream",
     "text": [
      "[I 2024-07-03 08:09:43,092] Trial 6 finished with value: 845.4793090820312 and parameters: {'num_heads': 8, 'model_dim': 456, 'num_layers': 2, 'dropout': 0.3639936184136716, 'learning_rate': 0.0028292192255361887, 'weight_decay': 0.00046302286171220994, 'num_epochs': 58}. Best is trial 3 with value: 507.0150146484375.\n"
     ]
    },
    {
     "name": "stdout",
     "output_type": "stream",
     "text": [
      "Trial: 6 - Loss: 38.88782501220703 - Val Loss: 845.4793090820312\n"
     ]
    },
    {
     "name": "stderr",
     "output_type": "stream",
     "text": [
      "[I 2024-07-03 08:09:45,732] Trial 7 finished with value: 1148.4400634765625 and parameters: {'num_heads': 2, 'model_dim': 18, 'num_layers': 6, 'dropout': 0.4601672228653322, 'learning_rate': 0.0007930569433855138, 'weight_decay': 0.00010401341922663452, 'num_epochs': 41}. Best is trial 3 with value: 507.0150146484375.\n"
     ]
    },
    {
     "name": "stdout",
     "output_type": "stream",
     "text": [
      "Trial: 7 - Loss: 216.91741943359375 - Val Loss: 1148.4400634765625\n"
     ]
    },
    {
     "name": "stderr",
     "output_type": "stream",
     "text": [
      "[I 2024-07-03 08:09:51,297] Trial 8 finished with value: 437.9061584472656 and parameters: {'num_heads': 6, 'model_dim': 348, 'num_layers': 6, 'dropout': 0.41195021834304957, 'learning_rate': 0.0008435191341743053, 'weight_decay': 1.7882156647879485e-05, 'num_epochs': 24}. Best is trial 8 with value: 437.9061584472656.\n"
     ]
    },
    {
     "name": "stdout",
     "output_type": "stream",
     "text": [
      "Trial: 8 - Loss: 63.53544616699219 - Val Loss: 437.9061584472656\n"
     ]
    },
    {
     "name": "stderr",
     "output_type": "stream",
     "text": [
      "[I 2024-07-03 08:09:52,363] Trial 9 finished with value: 389.2778625488281 and parameters: {'num_heads': 8, 'model_dim': 320, 'num_layers': 1, 'dropout': 0.14058861714641285, 'learning_rate': 0.0009783749110062348, 'weight_decay': 1.0355826161899173e-05, 'num_epochs': 24}. Best is trial 9 with value: 389.2778625488281.\n"
     ]
    },
    {
     "name": "stdout",
     "output_type": "stream",
     "text": [
      "Trial: 9 - Loss: 59.555973052978516 - Val Loss: 389.2778625488281\n"
     ]
    },
    {
     "name": "stderr",
     "output_type": "stream",
     "text": [
      "[I 2024-07-03 08:09:54,819] Trial 10 finished with value: 646.1348876953125 and parameters: {'num_heads': 4, 'model_dim': 208, 'num_layers': 1, 'dropout': 0.22168965070955987, 'learning_rate': 0.009837604519689649, 'weight_decay': 0.004983077649837294, 'num_epochs': 98}. Best is trial 9 with value: 389.2778625488281.\n"
     ]
    },
    {
     "name": "stdout",
     "output_type": "stream",
     "text": [
      "Trial: 10 - Loss: 8.70503044128418 - Val Loss: 646.1348876953125\n"
     ]
    },
    {
     "name": "stderr",
     "output_type": "stream",
     "text": [
      "[I 2024-07-03 08:09:57,194] Trial 11 finished with value: 652.6309204101562 and parameters: {'num_heads': 6, 'model_dim': 342, 'num_layers': 6, 'dropout': 0.28998570239311117, 'learning_rate': 0.0006548520554345827, 'weight_decay': 1.169646556655389e-05, 'num_epochs': 10}. Best is trial 9 with value: 389.2778625488281.\n"
     ]
    },
    {
     "name": "stdout",
     "output_type": "stream",
     "text": [
      "Trial: 11 - Loss: 95.51595306396484 - Val Loss: 652.6309204101562\n"
     ]
    },
    {
     "name": "stderr",
     "output_type": "stream",
     "text": [
      "[I 2024-07-03 08:09:58,401] Trial 12 finished with value: 851.2083740234375 and parameters: {'num_heads': 6, 'model_dim': 318, 'num_layers': 1, 'dropout': 0.33741357173803993, 'learning_rate': 0.001516980761077545, 'weight_decay': 1.0186004972082117e-05, 'num_epochs': 31}. Best is trial 9 with value: 389.2778625488281.\n"
     ]
    },
    {
     "name": "stdout",
     "output_type": "stream",
     "text": [
      "Trial: 12 - Loss: 39.17889404296875 - Val Loss: 851.2083740234375\n"
     ]
    },
    {
     "name": "stderr",
     "output_type": "stream",
     "text": [
      "[I 2024-07-03 08:10:01,122] Trial 13 finished with value: 582.8424682617188 and parameters: {'num_heads': 7, 'model_dim': 392, 'num_layers': 4, 'dropout': 0.2530798290377343, 'learning_rate': 0.00023456623532978524, 'weight_decay': 0.00037585640087546524, 'num_epochs': 15}. Best is trial 9 with value: 389.2778625488281.\n"
     ]
    },
    {
     "name": "stdout",
     "output_type": "stream",
     "text": [
      "Trial: 13 - Loss: 83.96907806396484 - Val Loss: 582.8424682617188\n"
     ]
    },
    {
     "name": "stderr",
     "output_type": "stream",
     "text": [
      "[I 2024-07-03 08:10:02,727] Trial 14 finished with value: 801.2111206054688 and parameters: {'num_heads': 4, 'model_dim': 192, 'num_layers': 2, 'dropout': 0.16993001335286187, 'learning_rate': 0.00017900604001545273, 'weight_decay': 3.207704775634026e-05, 'num_epochs': 33}. Best is trial 9 with value: 389.2778625488281.\n"
     ]
    },
    {
     "name": "stdout",
     "output_type": "stream",
     "text": [
      "Trial: 14 - Loss: 128.22059631347656 - Val Loss: 801.2111206054688\n"
     ]
    },
    {
     "name": "stderr",
     "output_type": "stream",
     "text": [
      "[I 2024-07-03 08:10:11,995] Trial 15 finished with value: 920.3092651367188 and parameters: {'num_heads': 7, 'model_dim': 322, 'num_layers': 5, 'dropout': 0.39273421642847345, 'learning_rate': 1.02850805484477e-05, 'weight_decay': 2.8257776305044408e-05, 'num_epochs': 44}. Best is trial 9 with value: 389.2778625488281.\n"
     ]
    },
    {
     "name": "stdout",
     "output_type": "stream",
     "text": [
      "Trial: 15 - Loss: 151.9146270751953 - Val Loss: 920.3092651367188\n"
     ]
    },
    {
     "name": "stderr",
     "output_type": "stream",
     "text": [
      "[I 2024-07-03 08:10:14,631] Trial 16 finished with value: 836.8941650390625 and parameters: {'num_heads': 5, 'model_dim': 250, 'num_layers': 1, 'dropout': 0.30560991258328973, 'learning_rate': 0.00799960477003386, 'weight_decay': 0.0001939932442761239, 'num_epochs': 84}. Best is trial 9 with value: 389.2778625488281.\n"
     ]
    },
    {
     "name": "stdout",
     "output_type": "stream",
     "text": [
      "Trial: 16 - Loss: 6.752071380615234 - Val Loss: 836.8941650390625\n"
     ]
    },
    {
     "name": "stderr",
     "output_type": "stream",
     "text": [
      "[I 2024-07-03 08:10:18,813] Trial 17 finished with value: 1070.9525146484375 and parameters: {'num_heads': 7, 'model_dim': 392, 'num_layers': 4, 'dropout': 0.42513148116607025, 'learning_rate': 0.0008872822595648719, 'weight_decay': 0.0009291037977312205, 'num_epochs': 23}. Best is trial 9 with value: 389.2778625488281.\n"
     ]
    },
    {
     "name": "stdout",
     "output_type": "stream",
     "text": [
      "Trial: 17 - Loss: 48.058048248291016 - Val Loss: 1070.9525146484375\n"
     ]
    },
    {
     "name": "stderr",
     "output_type": "stream",
     "text": [
      "[I 2024-07-03 08:10:27,217] Trial 18 finished with value: 521.8192749023438 and parameters: {'num_heads': 7, 'model_dim': 294, 'num_layers': 6, 'dropout': 0.17461935994011935, 'learning_rate': 0.00365961960817426, 'weight_decay': 0.00949143808478466, 'num_epochs': 34}. Best is trial 9 with value: 389.2778625488281.\n"
     ]
    },
    {
     "name": "stdout",
     "output_type": "stream",
     "text": [
      "Trial: 18 - Loss: 107.15029907226562 - Val Loss: 521.8192749023438\n"
     ]
    },
    {
     "name": "stderr",
     "output_type": "stream",
     "text": [
      "[I 2024-07-03 08:10:29,771] Trial 19 finished with value: 884.5906982421875 and parameters: {'num_heads': 3, 'model_dim': 78, 'num_layers': 3, 'dropout': 0.3384610916919939, 'learning_rate': 0.0003997371275727628, 'weight_decay': 6.0409881842626066e-05, 'num_epochs': 51}. Best is trial 9 with value: 389.2778625488281.\n"
     ]
    },
    {
     "name": "stdout",
     "output_type": "stream",
     "text": [
      "Trial: 19 - Loss: 148.8589324951172 - Val Loss: 884.5906982421875\n"
     ]
    },
    {
     "name": "stderr",
     "output_type": "stream",
     "text": [
      "[I 2024-07-03 08:10:30,607] Trial 20 finished with value: 520.04052734375 and parameters: {'num_heads': 6, 'model_dim': 270, 'num_layers': 2, 'dropout': 0.4994938611591352, 'learning_rate': 0.0019713042142075524, 'weight_decay': 2.0297148749567726e-05, 'num_epochs': 11}. Best is trial 9 with value: 389.2778625488281.\n"
     ]
    },
    {
     "name": "stdout",
     "output_type": "stream",
     "text": [
      "Trial: 20 - Loss: 77.83181762695312 - Val Loss: 520.04052734375\n"
     ]
    },
    {
     "name": "stderr",
     "output_type": "stream",
     "text": [
      "[I 2024-07-03 08:10:33,982] Trial 21 finished with value: 503.9742126464844 and parameters: {'num_heads': 6, 'model_dim': 240, 'num_layers': 4, 'dropout': 0.1113603668275614, 'learning_rate': 0.004492101668109098, 'weight_decay': 7.091977889357501e-05, 'num_epochs': 25}. Best is trial 9 with value: 389.2778625488281.\n"
     ]
    },
    {
     "name": "stdout",
     "output_type": "stream",
     "text": [
      "Trial: 21 - Loss: 107.44219970703125 - Val Loss: 503.9742126464844\n"
     ]
    },
    {
     "name": "stderr",
     "output_type": "stream",
     "text": [
      "[I 2024-07-03 08:10:37,338] Trial 22 finished with value: 506.086669921875 and parameters: {'num_heads': 5, 'model_dim': 220, 'num_layers': 5, 'dropout': 0.10108751672506605, 'learning_rate': 0.005395169057039046, 'weight_decay': 1.901568377658239e-05, 'num_epochs': 23}. Best is trial 9 with value: 389.2778625488281.\n"
     ]
    },
    {
     "name": "stdout",
     "output_type": "stream",
     "text": [
      "Trial: 22 - Loss: 107.12117004394531 - Val Loss: 506.086669921875\n"
     ]
    },
    {
     "name": "stderr",
     "output_type": "stream",
     "text": [
      "[I 2024-07-03 08:10:40,470] Trial 23 finished with value: 616.2301635742188 and parameters: {'num_heads': 7, 'model_dim': 357, 'num_layers': 4, 'dropout': 0.1506422952327002, 'learning_rate': 0.0016771596843081652, 'weight_decay': 5.3371988517039574e-05, 'num_epochs': 18}. Best is trial 9 with value: 389.2778625488281.\n"
     ]
    },
    {
     "name": "stdout",
     "output_type": "stream",
     "text": [
      "Trial: 23 - Loss: 59.77368927001953 - Val Loss: 616.2301635742188\n"
     ]
    },
    {
     "name": "stderr",
     "output_type": "stream",
     "text": [
      "[I 2024-07-03 08:10:51,772] Trial 24 finished with value: 528.7885131835938 and parameters: {'num_heads': 8, 'model_dim': 472, 'num_layers': 6, 'dropout': 0.19178868835085539, 'learning_rate': 0.0010973253638146487, 'weight_decay': 0.00018781161475919233, 'num_epochs': 36}. Best is trial 9 with value: 389.2778625488281.\n"
     ]
    },
    {
     "name": "stdout",
     "output_type": "stream",
     "text": [
      "Trial: 24 - Loss: 107.22895050048828 - Val Loss: 528.7885131835938\n"
     ]
    }
   ],
   "source": [
    "# configuration optuna\n",
    "study_mm = optuna.create_study(direction='minimize', sampler=sampler)\n",
    "study_mm.optimize(lambda trial: objective(trial, X_mm_train, y_mm_train, X_mm_test, y_mm_test, len(features), 1), n_trials=n_trials)"
   ]
  },
  {
   "cell_type": "code",
   "execution_count": 43,
   "metadata": {},
   "outputs": [
    {
     "name": "stdout",
     "output_type": "stream",
     "text": [
      "Trials quantity: 25\n",
      "Mejor prueba: 9\n",
      "Mejores parametros: {'num_heads': 8, 'model_dim': 320, 'num_layers': 1, 'dropout': 0.14058861714641285, 'learning_rate': 0.0009783749110062348, 'weight_decay': 1.0355826161899173e-05, 'num_epochs': 24}\n",
      "Mejor valor de pérdida en validación: 389.2778625488281\n"
     ]
    }
   ],
   "source": [
    "# Results\n",
    "print(f'Trials quantity: {len(study_mm.trials)}')\n",
    "trial = study_mm.best_trial\n",
    "print(f'Mejor prueba: {trial.number}')\n",
    "print(f'Mejores parametros: {trial.params}')\n",
    "print(f'Mejor valor de pérdida en validación: {trial.value}')"
   ]
  },
  {
   "cell_type": "markdown",
   "metadata": {},
   "source": [
    "# Training"
   ]
  },
  {
   "cell_type": "code",
   "execution_count": 44,
   "metadata": {},
   "outputs": [],
   "source": [
    "models_folder = '../models/transformer'\n",
    "output_dim = 1"
   ]
  },
  {
   "cell_type": "code",
   "execution_count": 45,
   "metadata": {},
   "outputs": [],
   "source": [
    "#dump(scaler_g, f'{models_folder}/scaler_g.joblib')\n",
    "#dump(scaler_st, f'{models_folder}/scaler_st.joblib')\n",
    "#dump(scaler_mm, f'{models_folder}/scaler_mm.joblib')"
   ]
  },
  {
   "cell_type": "markdown",
   "metadata": {},
   "source": [
    "## General"
   ]
  },
  {
   "cell_type": "code",
   "execution_count": 46,
   "metadata": {},
   "outputs": [],
   "source": [
    "input_dim = len(features)\n",
    "# hyperparameters\n",
    "if study_g is not None:\n",
    "\tnum_heads = study_g.best_trial.params['num_heads']\n",
    "\tmodel_dim = study_g.best_trial.params['model_dim']\n",
    "\tnum_layers = study_g.best_trial.params['num_layers']\n",
    "\tdropout = study_g.best_trial.params['dropout']\n",
    "\tlr = study_g.best_trial.params['learning_rate']\n",
    "\twd = study_g.best_trial.params['weight_decay']\n",
    "\tnum_epochs = study_g.best_trial.params['num_epochs']\n",
    "else:\n",
    "\tnum_heads = 6\n",
    "\tmodel_dim = 294\n",
    "\tnum_layers = 6\n",
    "\tdropout = 0.49925267200585316\n",
    "\tlr = 0.007097392833743549\n",
    "\twd = 0.0017343770121671484\n",
    "\tnum_epochs = 35"
   ]
  },
  {
   "cell_type": "code",
   "execution_count": 47,
   "metadata": {},
   "outputs": [
    {
     "name": "stdout",
     "output_type": "stream",
     "text": [
      "Epoch 10/29, Loss: 270.0231628417969, Val Loss: 56.22865676879883\n",
      "Epoch 20/29, Loss: 267.6117858886719, Val Loss: 93.45111846923828\n",
      "Epoch 29/29, Loss: 267.2730407714844, Val Loss: 66.2825698852539\n"
     ]
    }
   ],
   "source": [
    "# general model initialization\n",
    "model_g = TransformerModel(input_dim, model_dim, num_heads, num_layers, output_dim, dropout)\n",
    "if DEVICE.type == 'cuda':\n",
    "\tmodel_g = model_g.to(DEVICE)\n",
    "criterion_g = nn.MSELoss()\n",
    "optimizer_g = optim.AdamW(model_g.parameters(), lr=lr, weight_decay=wd)\n",
    "\n",
    "model_g.train()\n",
    "\n",
    "for epoch in range(num_epochs):\n",
    "\toptimizer_g.zero_grad()\n",
    "\toutput = model_g(X_g_train)\n",
    "\tloss = criterion_g(output, y_g_train)\n",
    "\tloss.backward()\n",
    "\toptimizer_g.step()\n",
    "\t# validation\n",
    "\tif (epoch+1) % 10 == 0 or epoch == num_epochs-1:\n",
    "\t\tmodel_g.eval()\n",
    "\t\twith torch.no_grad():\n",
    "\t\t\tval_predictions = model_g(X_g_test)\n",
    "\t\t\tval_loss = criterion_g(val_predictions, y_g_test)\n",
    "\t\tprint(f'Epoch {epoch+1}/{num_epochs}, Loss: {loss.item()}, Val Loss: {val_loss.item()}')\n",
    "\t\tmodel_g.train()"
   ]
  },
  {
   "cell_type": "code",
   "execution_count": 49,
   "metadata": {},
   "outputs": [
    {
     "name": "stdout",
     "output_type": "stream",
     "text": [
      "MSE: 66.28256225585938 - RMSE: 8.141409873962402 - MAE: 5.510138511657715\n"
     ]
    }
   ],
   "source": [
    "model_g.eval()\n",
    "with torch.no_grad():\n",
    "\tpreds = model_g(X_g_test).cpu().numpy().flatten()\n",
    "mse = mean_squared_error(y_g_test.cpu().numpy().flatten(), preds)\n",
    "print(f\"MSE: {mse} - RMSE: {np.sqrt(mse)} - MAE: {mean_absolute_error(y_g_test.cpu().numpy().flatten(), preds)}\")"
   ]
  },
  {
   "cell_type": "code",
   "execution_count": 50,
   "metadata": {},
   "outputs": [],
   "source": [
    "# save model\n",
    "torch.save(model_g, f'{models_folder}/general.pt')"
   ]
  },
  {
   "cell_type": "markdown",
   "metadata": {},
   "source": [
    "## Single Thread"
   ]
  },
  {
   "cell_type": "code",
   "execution_count": 51,
   "metadata": {},
   "outputs": [],
   "source": [
    "input_dim = len(features_st)\n",
    "# hyperparameters\n",
    "if study_st is not None:\n",
    "\tnum_heads = study_st.best_trial.params['num_heads']\n",
    "\tmodel_dim = study_st.best_trial.params['model_dim']\n",
    "\tnum_layers = study_st.best_trial.params['num_layers']\n",
    "\tdropout = study_st.best_trial.params['dropout']\n",
    "\tlr = study_st.best_trial.params['learning_rate']\n",
    "\twd = study_st.best_trial.params['weight_decay']\n",
    "\tnum_epochs = study_st.best_trial.params['num_epochs']\n",
    "else:\n",
    "\tnum_heads = 6\n",
    "\tmodel_dim = 192\n",
    "\tnum_layers = 4\n",
    "\tdropout = 0.3731512093597947\n",
    "\tlr = 0.0027591245533166004\n",
    "\twd = 0.0014100590768903643\n",
    "\tnum_epochs = 78"
   ]
  },
  {
   "cell_type": "code",
   "execution_count": 52,
   "metadata": {},
   "outputs": [
    {
     "name": "stdout",
     "output_type": "stream",
     "text": [
      "Epoch 10/100, Loss: 468.1701965332031, Val Loss: 215.08013916015625\n",
      "Epoch 20/100, Loss: 387.3863220214844, Val Loss: 137.333984375\n",
      "Epoch 30/100, Loss: 329.1274719238281, Val Loss: 81.00090026855469\n",
      "Epoch 40/100, Loss: 295.8929138183594, Val Loss: 49.859031677246094\n",
      "Epoch 50/100, Loss: 283.1757507324219, Val Loss: 38.61391067504883\n",
      "Epoch 60/100, Loss: 281.1542053222656, Val Loss: 37.20664596557617\n",
      "Epoch 70/100, Loss: 281.47821044921875, Val Loss: 37.50769805908203\n",
      "Epoch 80/100, Loss: 281.2610778808594, Val Loss: 37.17526626586914\n",
      "Epoch 90/100, Loss: 281.125244140625, Val Loss: 37.208595275878906\n",
      "Epoch 100/100, Loss: 281.1525573730469, Val Loss: 37.19477844238281\n"
     ]
    }
   ],
   "source": [
    "# single thread model initialization\n",
    "model_st = TransformerModel(input_dim, model_dim, num_heads, num_layers, output_dim, dropout)\n",
    "if DEVICE.type == 'cuda':\n",
    "\tmodel_st = model_st.to(DEVICE)\n",
    "criterion_st = nn.MSELoss()\n",
    "optimizer_st = optim.AdamW(model_st.parameters(), lr=lr, weight_decay=wd)\n",
    "\n",
    "model_st.train()\n",
    "\n",
    "for epoch in range(num_epochs):\n",
    "\toptimizer_st.zero_grad()\n",
    "\toutput = model_st(X_st_train)\n",
    "\tloss = criterion_st(output, y_st_train)\n",
    "\tloss.backward()\n",
    "\toptimizer_st.step()\n",
    "\t# validation\n",
    "\tif (epoch+1) % 10 == 0 or epoch == num_epochs-1:\n",
    "\t\tmodel_st.eval()\n",
    "\t\twith torch.no_grad():\n",
    "\t\t\tval_predictions = model_st(X_st_test)\n",
    "\t\t\tval_loss = criterion_st(val_predictions, y_st_test)\n",
    "\t\tprint(f'Epoch {epoch+1}/{num_epochs}, Loss: {loss.item()}, Val Loss: {val_loss.item()}')\n",
    "\t\tmodel_st.train()"
   ]
  },
  {
   "cell_type": "code",
   "execution_count": 53,
   "metadata": {},
   "outputs": [
    {
     "name": "stdout",
     "output_type": "stream",
     "text": [
      "MSE: 37.19477844238281 - RMSE: 6.098752021789551 - MAE: 3.26633358001709\n"
     ]
    }
   ],
   "source": [
    "model_st.eval()\n",
    "with torch.no_grad():\n",
    "\tpreds = model_st(X_st_test).cpu().numpy().flatten()\n",
    "mse = mean_squared_error(y_st_test.cpu().numpy().flatten(), preds)\n",
    "print(f\"MSE: {mse} - RMSE: {np.sqrt(mse)} - MAE: {mean_absolute_error(y_st_test.cpu().numpy().flatten(), preds)}\")"
   ]
  },
  {
   "cell_type": "code",
   "execution_count": 54,
   "metadata": {},
   "outputs": [],
   "source": [
    "# save model\n",
    "torch.save(model_st, f'{models_folder}/single_thread.pt')"
   ]
  },
  {
   "cell_type": "markdown",
   "metadata": {},
   "source": [
    "## Multi Thread"
   ]
  },
  {
   "cell_type": "code",
   "execution_count": 55,
   "metadata": {},
   "outputs": [],
   "source": [
    "input_dim = len(features)\n",
    "# hyperparameters\n",
    "if study_mm is not None:\n",
    "\tnum_heads = study_mm.best_trial.params['num_heads']\n",
    "\tmodel_dim = study_mm.best_trial.params['model_dim']\n",
    "\tnum_layers = study_mm.best_trial.params['num_layers']\n",
    "\tdropout = study_mm.best_trial.params['dropout']\n",
    "\tlr = study_mm.best_trial.params['learning_rate']\n",
    "\twd = study_mm.best_trial.params['weight_decay']\n",
    "\tnum_epochs = study_mm.best_trial.params['num_epochs']\n",
    "else:\n",
    "\tnum_heads = 7\n",
    "\tmodel_dim = 413\n",
    "\tnum_layers = 1\n",
    "\tdropout = 0.2897232837483553\n",
    "\tlr = 0.0016919131094273875\n",
    "\twd = 0.0008901136789000729\n",
    "\tnum_epochs = 49"
   ]
  },
  {
   "cell_type": "code",
   "execution_count": 56,
   "metadata": {},
   "outputs": [
    {
     "name": "stdout",
     "output_type": "stream",
     "text": [
      "Epoch 10/24, Loss: 87.99156188964844, Val Loss: 586.1416625976562\n",
      "Epoch 20/24, Loss: 66.74063873291016, Val Loss: 452.10601806640625\n",
      "Epoch 24/24, Loss: 61.3031120300293, Val Loss: 407.0425109863281\n"
     ]
    }
   ],
   "source": [
    "# multi thread model initialization\n",
    "model_mm = TransformerModel(input_dim, model_dim, num_heads, num_layers, output_dim, dropout)\n",
    "if DEVICE.type == 'cuda':\n",
    "\tmodel_mm = model_mm.to(DEVICE)\n",
    "criterion_mm = nn.MSELoss()\n",
    "optimizer_mm = optim.AdamW(model_mm.parameters(), lr=lr, weight_decay=wd)\n",
    "\n",
    "model_mm.train()\n",
    "\n",
    "for epoch in range(num_epochs):\n",
    "\toptimizer_mm.zero_grad()\n",
    "\toutput = model_mm(X_mm_train)\n",
    "\tloss = criterion_mm(output, y_mm_train)\n",
    "\tloss.backward()\n",
    "\toptimizer_mm.step()\n",
    "\t# validation\n",
    "\tif (epoch+1) % 10 == 0 or epoch == num_epochs-1:\n",
    "\t\tmodel_mm.eval()\n",
    "\t\twith torch.no_grad():\n",
    "\t\t\tval_predictions = model_mm(X_mm_test)\n",
    "\t\t\tval_loss = criterion_mm(val_predictions, y_mm_test)\n",
    "\t\tprint(f'Epoch {epoch+1}/{num_epochs}, Loss: {loss.item()}, Val Loss: {val_loss.item()}')\n",
    "\t\tmodel_mm.train()"
   ]
  },
  {
   "cell_type": "code",
   "execution_count": 57,
   "metadata": {},
   "outputs": [
    {
     "name": "stdout",
     "output_type": "stream",
     "text": [
      "MSE: 407.0425109863281 - RMSE: 20.175294876098633 - MAE: 20.15708351135254\n"
     ]
    }
   ],
   "source": [
    "model_mm.eval()\n",
    "with torch.no_grad():\n",
    "\tpreds = model_mm(X_mm_test).cpu().numpy().flatten()\n",
    "mse = mean_squared_error(y_mm_test.cpu().numpy().flatten(), preds)\n",
    "print(f\"MSE: {mse} - RMSE: {np.sqrt(mse)} - MAE: {mean_absolute_error(y_mm_test.cpu().numpy().flatten(), preds)}\")"
   ]
  },
  {
   "cell_type": "code",
   "execution_count": 58,
   "metadata": {},
   "outputs": [],
   "source": [
    "# save model\n",
    "torch.save(model_mm, f'{models_folder}/multi_thread.pt')"
   ]
  },
  {
   "cell_type": "markdown",
   "metadata": {},
   "source": [
    "# Load models"
   ]
  },
  {
   "cell_type": "code",
   "execution_count": 59,
   "metadata": {},
   "outputs": [],
   "source": [
    "model_g = torch.load(f'{models_folder}/general.pt').to(DEVICE)\n",
    "model_st = torch.load(f'{models_folder}/single_thread.pt').to(DEVICE)\n",
    "model_mm = torch.load(f'{models_folder}/multi_thread.pt').to(DEVICE)"
   ]
  },
  {
   "cell_type": "code",
   "execution_count": 60,
   "metadata": {},
   "outputs": [],
   "source": [
    "# 1 instance prediction\n",
    "def predict(model, X):\n",
    "\tmodel.eval()\n",
    "\twith torch.no_grad():\n",
    "\t\tprediction = model(X)\n",
    "\treturn prediction\n",
    "\n",
    "def describe_val(model, X, y):\n",
    "\tmin_instance = {\"prediction\": float('inf'), \"actual\": 0, \"index\": 0}\n",
    "\tmax_instance = {\"prediction\": 0, \"actual\": 0, \"index\": 0}\n",
    "\t\n",
    "\tpredictions = predict(model, X).cpu().numpy().flatten()\n",
    "\tindex_min = np.argmin(np.abs(predictions - y.cpu().numpy().flatten()))\n",
    "\tmin_instance[\"prediction\"] = predictions[index_min]\n",
    "\tmin_instance[\"actual\"] = y.cpu().numpy().flatten()[index_min]\n",
    "\tmin_instance[\"index\"] = index_min\n",
    "\tindex_max = np.argmax(np.abs(predictions - y.cpu().numpy().flatten()))\n",
    "\tmax_instance[\"prediction\"] = predictions[index_max]\n",
    "\tmax_instance[\"actual\"] = y.cpu().numpy().flatten()[index_max]\n",
    "\tmax_instance[\"index\"] = index_max\n",
    "\n",
    "\treturn min_instance, max_instance, predictions"
   ]
  },
  {
   "cell_type": "code",
   "execution_count": 68,
   "metadata": {},
   "outputs": [
    {
     "name": "stdout",
     "output_type": "stream",
     "text": [
      "Validation set general model\n",
      "Mean prediction: 24.186809539794922 | Std actual: 2.045403562078718e-06\n",
      "Mean actual: 27.556499481201172 | Std actual: 7.411326885223389\n",
      "Mean Error: 5.510138511657715 | Std Error: 5.993408679962158\n",
      "---\n",
      "Min instance\n",
      "total_time                                                       17.87\n",
      "total_cpu_usage                                                   0.99\n",
      "max_ram_usage                                                15.527344\n",
      "brand_raw                         12th Gen Intel(R) Core(TM) i5-12400F\n",
      "count                                                               12\n",
      "l2_cache_size                                                      7.5\n",
      "l3_cache_size                                                     18.0\n",
      "l2_cache_line_size                                                1280\n",
      "l2_cache_associativity                                               7\n",
      "benchmark                                                     N_Queens\n",
      "ghz_actual_friendly                                              2.496\n",
      "ghz_advertised_friendly                                          2.496\n",
      "total_time_target                                                24.81\n",
      "brand_raw_target                   13th Gen Intel(R) Core(TM) i5-1335U\n",
      "count_target                                                        12\n",
      "l2_cache_size_target                                               7.5\n",
      "l3_cache_size_target                                              12.0\n",
      "l2_cache_line_size_target                                         1280\n",
      "l2_cache_associativity_target                                        7\n",
      "ghz_advertised_friendly_target                                   2.496\n",
      "Name: 231, dtype: object\n",
      "Min Prediction: 24.186813354492188 | Actual: 24.809999465942383 | Error: 0.6231861114501953\n",
      "---\n",
      "Max instance\n",
      "total_time                                                           13.49\n",
      "total_cpu_usage                                                       0.99\n",
      "max_ram_usage                                                  1435.851562\n",
      "brand_raw                         Intel(R) Core(TM) i5-10400 CPU @ 2.90GHz\n",
      "count                                                                   12\n",
      "l2_cache_size                                                          1.5\n",
      "l3_cache_size                                                         12.0\n",
      "l2_cache_line_size                                                     256\n",
      "l2_cache_associativity                                                   6\n",
      "benchmark                                                              KNP\n",
      "ghz_actual_friendly                                                 4.0996\n",
      "ghz_advertised_friendly                                                2.9\n",
      "total_time_target                                                    45.91\n",
      "brand_raw_target                       13th Gen Intel(R) Core(TM) i5-1335U\n",
      "count_target                                                            12\n",
      "l2_cache_size_target                                                   7.5\n",
      "l3_cache_size_target                                                  12.0\n",
      "l2_cache_line_size_target                                             1280\n",
      "l2_cache_associativity_target                                            7\n",
      "ghz_advertised_friendly_target                                       2.496\n",
      "Name: 0, dtype: object\n",
      "Max Prediction: 24.186811447143555 | Actual: 45.90999984741211 | Error: 21.723188400268555\n"
     ]
    }
   ],
   "source": [
    "# general model\n",
    "print(\"Validation set general model\")\n",
    "min_instance, max_instance, predictions = describe_val(model_g, X_g_test, y_g_test)\n",
    "errors = np.abs(predictions - y_g_test.cpu().numpy().flatten())\n",
    "mean_error = np.mean(errors)\n",
    "std_error = np.std(errors)\n",
    "\n",
    "print(f\"Mean prediction: {np.mean(predictions)} | Std actual: {np.std(predictions)}\")\n",
    "print(f\"Mean actual: {np.mean(y_g_test.cpu().numpy().flatten())} | Std actual: {np.std(y_g_test.cpu().numpy().flatten())}\")\n",
    "print(f\"Mean Error: {mean_error} | Std Error: {std_error}\")\n",
    "print(\"---\")\n",
    "print(\"Min instance\")\n",
    "print(g_test.iloc[min_instance[\"index\"]])\n",
    "print(f\"Min Prediction: {min_instance['prediction']} | Actual: {min_instance['actual']} | Error: {abs(min_instance['prediction'] - min_instance['actual'])}\")\n",
    "print(\"---\")\n",
    "print(\"Max instance\")\n",
    "print(g_test.iloc[max_instance[\"index\"]])\n",
    "print(f\"Max Prediction: {max_instance['prediction']} | Actual: {max_instance['actual']} | Error: {abs(max_instance['prediction'] - max_instance['actual'])}\")"
   ]
  },
  {
   "cell_type": "code",
   "execution_count": 69,
   "metadata": {},
   "outputs": [
    {
     "name": "stdout",
     "output_type": "stream",
     "text": [
      "Validation set single thread model\n",
      "Mean prediction: 24.714994430541992 | Std actual: 4.625657311407849e-06\n",
      "Mean actual: 24.564001083374023 | Std actual: 6.096883296966553\n",
      "Mean Error: 3.26633358001709 | Std Error: 5.150325298309326\n",
      "Min instance\n",
      "total_time                                                             24.7\n",
      "total_cpu_usage                                                        0.99\n",
      "max_ram_usage                                                     10.207031\n",
      "brand_raw                         Intel(R) Xeon(R) CPU E5-2623 v3 @ 3.00GHz\n",
      "count                                                                     8\n",
      "l2_cache_size                                                           2.0\n",
      "l3_cache_size                                                          10.0\n",
      "l2_cache_line_size                                                      256\n",
      "l2_cache_associativity                                                    2\n",
      "benchmark                                                          N_Queens\n",
      "ghz_actual_friendly                                                     3.0\n",
      "ghz_advertised_friendly                                                 3.0\n",
      "total_time_target                                                     24.81\n",
      "brand_raw_target                        13th Gen Intel(R) Core(TM) i5-1335U\n",
      "count_target                                                             12\n",
      "l2_cache_size_target                                                    7.5\n",
      "l3_cache_size_target                                                   12.0\n",
      "l2_cache_line_size_target                                              1280\n",
      "l2_cache_associativity_target                                             7\n",
      "ghz_advertised_friendly_target                                        2.496\n",
      "Name: 476, dtype: object\n",
      "Min Prediction: 24.714998245239258 | Actual: 24.809999465942383 | Error: 0.095001220703125\n",
      "---\n",
      "Max instance\n",
      "total_time                                                       13.07\n",
      "total_cpu_usage                                                    1.0\n",
      "max_ram_usage                                              1436.878906\n",
      "brand_raw                         12th Gen Intel(R) Core(TM) i5-12400F\n",
      "count                                                               12\n",
      "l2_cache_size                                                      7.5\n",
      "l3_cache_size                                                     18.0\n",
      "l2_cache_line_size                                                1280\n",
      "l2_cache_associativity                                               7\n",
      "benchmark                                                          KNP\n",
      "ghz_actual_friendly                                              2.496\n",
      "ghz_advertised_friendly                                          2.496\n",
      "total_time_target                                                45.91\n",
      "brand_raw_target                   13th Gen Intel(R) Core(TM) i5-1335U\n",
      "count_target                                                        12\n",
      "l2_cache_size_target                                               7.5\n",
      "l3_cache_size_target                                              12.0\n",
      "l2_cache_line_size_target                                         1280\n",
      "l2_cache_associativity_target                                        7\n",
      "ghz_advertised_friendly_target                                   2.496\n",
      "Name: 165, dtype: object\n",
      "Max Prediction: 24.714984893798828 | Actual: 45.90999984741211 | Error: 21.19501495361328\n"
     ]
    }
   ],
   "source": [
    "# single thread model\n",
    "print(\"Validation set single thread model\")\n",
    "min_instance, max_instance, predictions = describe_val(model_st, X_st_test, y_st_test)\n",
    "errors = np.abs(predictions - y_st_test.cpu().numpy().flatten())\n",
    "mean_error = np.mean(errors)\n",
    "std_error = np.std(errors)\n",
    "\n",
    "print(f\"Mean prediction: {np.mean(predictions)} | Std actual: {np.std(predictions)}\")\n",
    "print(f\"Mean actual: {np.mean(y_st_test.cpu().numpy().flatten())} | Std actual: {np.std(y_st_test.cpu().numpy().flatten())}\")\n",
    "print(f\"Mean Error: {mean_error} | Std Error: {std_error}\")\n",
    "print(\"Min instance\")\n",
    "print(st_test.iloc[min_instance[\"index\"]])\n",
    "print(f\"Min Prediction: {min_instance['prediction']} | Actual: {min_instance['actual']} | Error: {abs(min_instance['prediction'] - min_instance['actual'])}\")\n",
    "print(\"---\")\n",
    "print(\"Max instance\")\n",
    "print(st_test.iloc[max_instance[\"index\"]])\n",
    "print(f\"Max Prediction: {max_instance['prediction']} | Actual: {max_instance['actual']} | Error: {abs(max_instance['prediction'] - max_instance['actual'])}\")"
   ]
  },
  {
   "cell_type": "code",
   "execution_count": 70,
   "metadata": {},
   "outputs": [
    {
     "name": "stdout",
     "output_type": "stream",
     "text": [
      "Validation set multi thread model\n",
      "Mean prediction: 16.376916885375977 | Std actual: 0.00497777434065938\n",
      "Mean actual: 36.534000396728516 | Std actual: 0.8569851517677307\n",
      "Mean Error: 20.15708351135254 | Std Error: 0.8569996356964111\n",
      "Min instance\n",
      "total_time                                                            37.51\n",
      "total_cpu_usage                                                        6.15\n",
      "max_ram_usage                                                   2350.140625\n",
      "brand_raw                         Intel(R) Core(TM) i5-10300H CPU @ 2.50GHz\n",
      "count                                                                     8\n",
      "l2_cache_size                                                           1.0\n",
      "l3_cache_size                                                           8.0\n",
      "l2_cache_line_size                                                      256\n",
      "l2_cache_associativity                                                    6\n",
      "benchmark                                                       MATRIX_MULT\n",
      "ghz_actual_friendly                                                   2.496\n",
      "ghz_advertised_friendly                                                 2.5\n",
      "total_time_target                                                     35.58\n",
      "brand_raw_target                        13th Gen Intel(R) Core(TM) i5-1335U\n",
      "count_target                                                             12\n",
      "l2_cache_size_target                                                    7.5\n",
      "l3_cache_size_target                                                   12.0\n",
      "l2_cache_line_size_target                                              1280\n",
      "l2_cache_associativity_target                                             7\n",
      "ghz_advertised_friendly_target                                        2.496\n",
      "Name: 104, dtype: object\n",
      "Min Prediction: 16.38161277770996 | Actual: 35.58000183105469 | Error: 19.198389053344727\n",
      "---\n",
      "Max instance\n",
      "total_time                                                            4.38\n",
      "total_cpu_usage                                                        7.6\n",
      "max_ram_usage                                                  2347.449219\n",
      "brand_raw                         Intel(R) Xeon(R) Gold 6330 CPU @ 2.00GHz\n",
      "count                                                                   56\n",
      "l2_cache_size                                                         70.0\n",
      "l3_cache_size                                                         42.0\n",
      "l2_cache_line_size                                                     256\n",
      "l2_cache_associativity                                                   6\n",
      "benchmark                                                      MATRIX_MULT\n",
      "ghz_actual_friendly                                                    2.0\n",
      "ghz_advertised_friendly                                                2.0\n",
      "total_time_target                                                    38.02\n",
      "brand_raw_target                       13th Gen Intel(R) Core(TM) i5-1335U\n",
      "count_target                                                            12\n",
      "l2_cache_size_target                                                   7.5\n",
      "l3_cache_size_target                                                  12.0\n",
      "l2_cache_line_size_target                                             1280\n",
      "l2_cache_associativity_target                                            7\n",
      "ghz_advertised_friendly_target                                       2.496\n",
      "Name: 220, dtype: object\n",
      "Max Prediction: 16.364120483398438 | Actual: 38.02000045776367 | Error: 21.655879974365234\n"
     ]
    }
   ],
   "source": [
    "# multi thread model\n",
    "print(\"Validation set multi thread model\")\n",
    "min_instance, max_instance, predictions = describe_val(model_mm, X_mm_test, y_mm_test)\n",
    "errors = np.abs(predictions - y_mm_test.cpu().numpy().flatten())\n",
    "mean_error = np.mean(errors)\n",
    "std_error = np.std(errors)\n",
    "\n",
    "print(f\"Mean prediction: {np.mean(predictions)} | Std actual: {np.std(predictions)}\")\n",
    "print(f\"Mean actual: {np.mean(y_mm_test.cpu().numpy().flatten())} | Std actual: {np.std(y_mm_test.cpu().numpy().flatten())}\")\n",
    "print(f\"Mean Error: {mean_error} | Std Error: {std_error}\")\n",
    "print(\"Min instance\")\n",
    "print(mm_test.iloc[min_instance[\"index\"]])\n",
    "print(f\"Min Prediction: {min_instance['prediction']} | Actual: {min_instance['actual']} | Error: {abs(min_instance['prediction'] - min_instance['actual'])}\")\n",
    "print(\"---\")\n",
    "print(\"Max instance\")\n",
    "print(mm_test.iloc[max_instance[\"index\"]])\n",
    "print(f\"Max Prediction: {max_instance['prediction']} | Actual: {max_instance['actual']} | Error: {abs(max_instance['prediction'] - max_instance['actual'])}\")"
   ]
  }
 ],
 "metadata": {
  "kernelspec": {
   "display_name": "venv",
   "language": "python",
   "name": "python3"
  },
  "language_info": {
   "codemirror_mode": {
    "name": "ipython",
    "version": 3
   },
   "file_extension": ".py",
   "mimetype": "text/x-python",
   "name": "python",
   "nbconvert_exporter": "python",
   "pygments_lexer": "ipython3",
   "version": "3.10.13"
  }
 },
 "nbformat": 4,
 "nbformat_minor": 2
}
