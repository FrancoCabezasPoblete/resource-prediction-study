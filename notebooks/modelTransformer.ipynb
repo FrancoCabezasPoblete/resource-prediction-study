{
 "cells": [
  {
   "cell_type": "code",
   "execution_count": 1,
   "metadata": {},
   "outputs": [],
   "source": [
    "import optuna\n",
    "from optuna.samplers import TPESampler\n",
    "import torch\n",
    "import torch.nn as nn\n",
    "import torch.optim as optim\n",
    "import pandas as pd\n",
    "import numpy as np\n",
    "from sklearn.preprocessing import MinMaxScaler\n",
    "import random\n",
    "from sklearn.metrics import mean_squared_error, mean_absolute_error\n",
    "import matplotlib.pyplot as plt\n",
    "#from joblib import dump"
   ]
  },
  {
   "cell_type": "code",
   "execution_count": 2,
   "metadata": {},
   "outputs": [
    {
     "data": {
      "text/plain": [
       "'cuda'"
      ]
     },
     "execution_count": 2,
     "metadata": {},
     "output_type": "execute_result"
    }
   ],
   "source": [
    "# CUDA\n",
    "DEVICE = torch.device('cuda' if torch.cuda.is_available() else 'cpu')\n",
    "DEVICE.type"
   ]
  },
  {
   "cell_type": "code",
   "execution_count": 3,
   "metadata": {},
   "outputs": [],
   "source": [
    "# Fix random seed\n",
    "seed = 42\n",
    "torch.manual_seed(seed)\n",
    "if DEVICE.type == 'cuda':\n",
    "\ttorch.cuda.manual_seed(seed)\n",
    "np.random.seed(seed)\n",
    "random.seed(seed)\n",
    "sampler = TPESampler(seed=seed)\n",
    "\n",
    "torch.backends.cudnn.deterministic = True\n",
    "torch.backends.cudnn.benchmark = False"
   ]
  },
  {
   "cell_type": "code",
   "execution_count": 4,
   "metadata": {},
   "outputs": [],
   "source": [
    "optuna.logging.set_verbosity(optuna.logging.WARNING)"
   ]
  },
  {
   "cell_type": "markdown",
   "metadata": {},
   "source": [
    "# Pre-processing input data"
   ]
  },
  {
   "cell_type": "code",
   "execution_count": 5,
   "metadata": {},
   "outputs": [],
   "source": [
    "def bits_to_MiB(row):\n",
    "\t# verify if has string ' MiB'\n",
    "\tif 'MiB' in str(row):\n",
    "\t\trow = row.replace(' MiB', '')\n",
    "\t\trow = float(row)\n",
    "\telse:\n",
    "\t\trow = float(row) / np.power(2, 20)\n",
    "\treturn row\n",
    "\n",
    "\n",
    "def MHz_to_GHz(row):\n",
    "\t# verify if has string ' GHz'\n",
    "\tif 'GHz' in str(row):\n",
    "\t\trow = row.replace(' GHz', '')\n",
    "\t\t# convert to float\n",
    "\t\trow = float(row)\n",
    "\telse:\n",
    "\t\trow = row.replace(' MHz', '')\n",
    "\t\trow = float(row) / 1000\n",
    "\treturn row"
   ]
  },
  {
   "cell_type": "code",
   "execution_count": 6,
   "metadata": {},
   "outputs": [],
   "source": [
    "results_df = pd.read_csv('../results_new/execution_time.csv')\n",
    "results_savio_df = pd.read_csv('../results_savio_new/execution_time.csv')\n",
    "results_df = pd.concat([results_df, results_savio_df], ignore_index=True)\n",
    "# preprocessing\n",
    "results_df['total_cpu_usage'] = results_df['total_cpu_usage'].str.replace('%', '').astype(float) / 100\n",
    "results_df['max_ram_usage'] = results_df['max_ram_usage'] / 1024\n",
    "results_df['l2_cache_size'] = results_df['l2_cache_size'].apply(bits_to_MiB)\n",
    "results_df['l3_cache_size'] = results_df['l3_cache_size'].apply(bits_to_MiB)\n",
    "results_df['ghz_actual_friendly'] = results_df['hz_actual_friendly'].apply(MHz_to_GHz)\n",
    "results_df['ghz_advertised_friendly'] = results_df['hz_advertised_friendly'].str.replace('GHz', '').astype(float)\n",
    "results_df = results_df.drop(columns=['hz_actual_friendly', 'hz_advertised_friendly', 'arch', 'vendor_id_raw'])"
   ]
  },
  {
   "cell_type": "code",
   "execution_count": 7,
   "metadata": {},
   "outputs": [
    {
     "data": {
      "text/html": [
       "<div>\n",
       "<style scoped>\n",
       "    .dataframe tbody tr th:only-of-type {\n",
       "        vertical-align: middle;\n",
       "    }\n",
       "\n",
       "    .dataframe tbody tr th {\n",
       "        vertical-align: top;\n",
       "    }\n",
       "\n",
       "    .dataframe thead th {\n",
       "        text-align: right;\n",
       "    }\n",
       "</style>\n",
       "<table border=\"1\" class=\"dataframe\">\n",
       "  <thead>\n",
       "    <tr style=\"text-align: right;\">\n",
       "      <th></th>\n",
       "      <th>total_time</th>\n",
       "      <th>total_cpu_usage</th>\n",
       "      <th>max_ram_usage</th>\n",
       "      <th>brand_raw</th>\n",
       "      <th>count</th>\n",
       "      <th>l2_cache_size</th>\n",
       "      <th>l3_cache_size</th>\n",
       "      <th>l2_cache_line_size</th>\n",
       "      <th>l2_cache_associativity</th>\n",
       "      <th>benchmark</th>\n",
       "      <th>ghz_actual_friendly</th>\n",
       "      <th>ghz_advertised_friendly</th>\n",
       "      <th>total_time_target</th>\n",
       "      <th>brand_raw_target</th>\n",
       "      <th>count_target</th>\n",
       "      <th>l2_cache_size_target</th>\n",
       "      <th>l3_cache_size_target</th>\n",
       "      <th>l2_cache_line_size_target</th>\n",
       "      <th>l2_cache_associativity_target</th>\n",
       "      <th>ghz_advertised_friendly_target</th>\n",
       "    </tr>\n",
       "  </thead>\n",
       "  <tbody>\n",
       "    <tr>\n",
       "      <th>5</th>\n",
       "      <td>13.47</td>\n",
       "      <td>0.99</td>\n",
       "      <td>1436.714844</td>\n",
       "      <td>Intel(R) Core(TM) i5-10400 CPU @ 2.90GHz</td>\n",
       "      <td>12</td>\n",
       "      <td>1.5</td>\n",
       "      <td>12.0</td>\n",
       "      <td>256</td>\n",
       "      <td>6</td>\n",
       "      <td>KNP</td>\n",
       "      <td>4.1729</td>\n",
       "      <td>2.9</td>\n",
       "      <td>45.91</td>\n",
       "      <td>13th Gen Intel(R) Core(TM) i5-1335U</td>\n",
       "      <td>12</td>\n",
       "      <td>7.5</td>\n",
       "      <td>12.0</td>\n",
       "      <td>1280</td>\n",
       "      <td>7</td>\n",
       "      <td>2.496</td>\n",
       "    </tr>\n",
       "    <tr>\n",
       "      <th>6</th>\n",
       "      <td>13.47</td>\n",
       "      <td>0.99</td>\n",
       "      <td>1436.714844</td>\n",
       "      <td>Intel(R) Core(TM) i5-10400 CPU @ 2.90GHz</td>\n",
       "      <td>12</td>\n",
       "      <td>1.5</td>\n",
       "      <td>12.0</td>\n",
       "      <td>256</td>\n",
       "      <td>6</td>\n",
       "      <td>KNP</td>\n",
       "      <td>4.1729</td>\n",
       "      <td>2.9</td>\n",
       "      <td>25.77</td>\n",
       "      <td>13th Gen Intel(R) Core(TM) i5-1335U</td>\n",
       "      <td>12</td>\n",
       "      <td>7.5</td>\n",
       "      <td>12.0</td>\n",
       "      <td>1280</td>\n",
       "      <td>7</td>\n",
       "      <td>2.496</td>\n",
       "    </tr>\n",
       "  </tbody>\n",
       "</table>\n",
       "</div>"
      ],
      "text/plain": [
       "   total_time  total_cpu_usage  max_ram_usage  \\\n",
       "5       13.47             0.99    1436.714844   \n",
       "6       13.47             0.99    1436.714844   \n",
       "\n",
       "                                  brand_raw  count  l2_cache_size  \\\n",
       "5  Intel(R) Core(TM) i5-10400 CPU @ 2.90GHz     12            1.5   \n",
       "6  Intel(R) Core(TM) i5-10400 CPU @ 2.90GHz     12            1.5   \n",
       "\n",
       "   l3_cache_size  l2_cache_line_size  l2_cache_associativity benchmark  \\\n",
       "5           12.0                 256                       6       KNP   \n",
       "6           12.0                 256                       6       KNP   \n",
       "\n",
       "   ghz_actual_friendly  ghz_advertised_friendly  total_time_target  \\\n",
       "5               4.1729                      2.9              45.91   \n",
       "6               4.1729                      2.9              25.77   \n",
       "\n",
       "                      brand_raw_target  count_target  l2_cache_size_target  \\\n",
       "5  13th Gen Intel(R) Core(TM) i5-1335U            12                   7.5   \n",
       "6  13th Gen Intel(R) Core(TM) i5-1335U            12                   7.5   \n",
       "\n",
       "   l3_cache_size_target  l2_cache_line_size_target  \\\n",
       "5                  12.0                       1280   \n",
       "6                  12.0                       1280   \n",
       "\n",
       "   l2_cache_associativity_target  ghz_advertised_friendly_target  \n",
       "5                              7                           2.496  \n",
       "6                              7                           2.496  "
      ]
     },
     "execution_count": 7,
     "metadata": {},
     "output_type": "execute_result"
    }
   ],
   "source": [
    "# Make the target dataset\n",
    "target_df = results_df[['total_time', 'brand_raw', 'count', 'l2_cache_size', 'l3_cache_size', 'l2_cache_line_size', 'l2_cache_associativity', 'ghz_advertised_friendly', 'benchmark']].copy()\n",
    "# Rename columns to *_target\n",
    "target_df = target_df.rename(columns={\n",
    "    'total_time': 'total_time_target',\n",
    "    'brand_raw': 'brand_raw_target',\n",
    "    'count': 'count_target',\n",
    "    'l2_cache_size': 'l2_cache_size_target',\n",
    "    'l3_cache_size': 'l3_cache_size_target',\n",
    "    'l2_cache_line_size': 'l2_cache_line_size_target',\n",
    "    'l2_cache_associativity': 'l2_cache_associativity_target',\n",
    "    'ghz_advertised_friendly': 'ghz_advertised_friendly_target',\n",
    "})\n",
    "\n",
    "dataset_df = pd.merge(results_df, target_df, how='inner', on='benchmark')\n",
    "dataset_df = dataset_df[dataset_df['brand_raw'] != dataset_df['brand_raw_target']]\n",
    "dataset_df.head(2)"
   ]
  },
  {
   "cell_type": "code",
   "execution_count": 8,
   "metadata": {},
   "outputs": [],
   "source": [
    "# remove one computer for testing\n",
    "g_train = dataset_df[(dataset_df['brand_raw'] != '13th Gen Intel(R) Core(TM) i5-1335U') & (dataset_df['brand_raw_target'] != '13th Gen Intel(R) Core(TM) i5-1335U')]\n",
    "g_test = dataset_df[dataset_df['brand_raw_target'] == '13th Gen Intel(R) Core(TM) i5-1335U']"
   ]
  },
  {
   "cell_type": "code",
   "execution_count": 9,
   "metadata": {},
   "outputs": [],
   "source": [
    "mm_df = dataset_df[dataset_df['benchmark'].isin(['MATRIX_MULT', 'MATRIX_MULT2', 'MATRIX_MULT3'])]\n",
    "# remove one computer for testing\n",
    "mm_train = mm_df[(mm_df['brand_raw'] != '13th Gen Intel(R) Core(TM) i5-1335U') & (mm_df['brand_raw_target'] != '13th Gen Intel(R) Core(TM) i5-1335U')]\n",
    "mm_test = mm_df[mm_df['brand_raw_target'] == '13th Gen Intel(R) Core(TM) i5-1335U']"
   ]
  },
  {
   "cell_type": "code",
   "execution_count": 10,
   "metadata": {},
   "outputs": [],
   "source": [
    "st_df = dataset_df[~dataset_df['benchmark'].isin(['MATRIX_MULT', 'MATRIX_MULT2', 'MATRIX_MULT3'])]\n",
    "# remove one computer for testing\n",
    "st_train = st_df[(st_df['brand_raw'] != '13th Gen Intel(R) Core(TM) i5-1335U') & (st_df['brand_raw_target'] != '13th Gen Intel(R) Core(TM) i5-1335U')]\n",
    "st_test = st_df[st_df['brand_raw_target'] == '13th Gen Intel(R) Core(TM) i5-1335U']"
   ]
  },
  {
   "cell_type": "code",
   "execution_count": 11,
   "metadata": {},
   "outputs": [],
   "source": [
    "# load test dataset\n",
    "# g_test = pd.read_csv('csv/g_test.csv')\n",
    "# st_test = pd.read_csv('csv/st_test.csv')\n",
    "# mm_test = pd.read_csv('csv/mm_test.csv')"
   ]
  },
  {
   "cell_type": "code",
   "execution_count": 12,
   "metadata": {},
   "outputs": [],
   "source": [
    "target = 'total_time_target'\n",
    "features = mm_test.columns.copy().drop(target).drop(['benchmark','brand_raw', 'brand_raw_target'])\n",
    "features_st = features.copy().drop(['count', 'count_target'])"
   ]
  },
  {
   "cell_type": "code",
   "execution_count": 13,
   "metadata": {},
   "outputs": [],
   "source": [
    "# general data\n",
    "## split data\n",
    "X_g_train = g_train[features]\n",
    "y_g_train = g_train[target]\n",
    "\n",
    "X_g_test = g_test[features]\n",
    "y_g_test = g_test[target]\n",
    "\n",
    "## normalize data\n",
    "x_g_scaler = MinMaxScaler(feature_range=(0, 1))\n",
    "X_g_train = x_g_scaler.fit_transform(X_g_train)\n",
    "X_g_test = x_g_scaler.transform(X_g_test)\n",
    "y_g_scaler = MinMaxScaler(feature_range=(0, 1))\n",
    "y_g_train = y_g_scaler.fit_transform(y_g_train.values.reshape(-1, 1))\n",
    "y_g_test = y_g_scaler.transform(y_g_test.values.reshape(-1, 1))\n",
    "\n",
    "## convert to tensor\n",
    "X_g_train = torch.tensor(X_g_train, dtype=torch.float32).unsqueeze(1)\n",
    "X_g_test = torch.tensor(X_g_test, dtype=torch.float32).unsqueeze(1)\n",
    "y_g_train = torch.tensor(y_g_train, dtype=torch.float32)\n",
    "y_g_test = torch.tensor(y_g_test, dtype=torch.float32)"
   ]
  },
  {
   "cell_type": "code",
   "execution_count": 14,
   "metadata": {},
   "outputs": [],
   "source": [
    "# single thread data\n",
    "## split data\n",
    "X_st_train = st_train[features_st]\n",
    "y_st_train = st_train[target]\n",
    "\n",
    "X_st_test = st_test[features_st]\n",
    "y_st_test = st_test[target]\n",
    "\n",
    "## normalize data\n",
    "x_st_scaler = MinMaxScaler(feature_range=(0, 1))\n",
    "X_st_train = x_st_scaler.fit_transform(X_st_train)\n",
    "X_st_test = x_st_scaler.transform(X_st_test)\n",
    "y_st_scaler = MinMaxScaler(feature_range=(0, 1))\n",
    "y_st_train = y_st_scaler.fit_transform(y_st_train.values.reshape(-1, 1))\n",
    "y_st_test = y_st_scaler.transform(y_st_test.values.reshape(-1, 1))\n",
    "\n",
    "## convert to tensor\n",
    "X_st_train = torch.tensor(X_st_train, dtype=torch.float32).unsqueeze(1)\n",
    "X_st_test = torch.tensor(X_st_test, dtype=torch.float32).unsqueeze(1)\n",
    "y_st_train = torch.tensor(y_st_train, dtype=torch.float32)\n",
    "y_st_test = torch.tensor(y_st_test, dtype=torch.float32)"
   ]
  },
  {
   "cell_type": "code",
   "execution_count": 15,
   "metadata": {},
   "outputs": [],
   "source": [
    "# multi thread data\n",
    "## split data\n",
    "X_mm_train = mm_train[features]\n",
    "y_mm_train = mm_train[target]\n",
    "\n",
    "X_mm_test = mm_test[features]\n",
    "y_mm_test = mm_test[target]\n",
    "\n",
    "## normalize data\n",
    "x_mm_scaler = MinMaxScaler(feature_range=(0, 1))\n",
    "X_mm_train = x_mm_scaler.fit_transform(X_mm_train)\n",
    "X_mm_test = x_mm_scaler.transform(X_mm_test)\n",
    "y_mm_scaler = MinMaxScaler(feature_range=(0, 1))\n",
    "y_mm_train = y_mm_scaler.fit_transform(y_mm_train.values.reshape(-1, 1))\n",
    "y_mm_test = y_mm_scaler.transform(y_mm_test.values.reshape(-1, 1))\n",
    "\n",
    "## convert to tensor\n",
    "X_mm_train = torch.tensor(X_mm_train, dtype=torch.float32).unsqueeze(1)\n",
    "X_mm_test = torch.tensor(X_mm_test, dtype=torch.float32).unsqueeze(1)\n",
    "y_mm_train = torch.tensor(y_mm_train, dtype=torch.float32).view(-1, 1)\n",
    "y_mm_test = torch.tensor(y_mm_test, dtype=torch.float32)"
   ]
  },
  {
   "cell_type": "code",
   "execution_count": 16,
   "metadata": {},
   "outputs": [],
   "source": [
    "if DEVICE.type == 'cuda':\n",
    "\t# move to DEVICE\n",
    "\tX_g_train = X_g_train.to(DEVICE)\n",
    "\ty_g_train = y_g_train.to(DEVICE)\n",
    "\tX_g_test = X_g_test.to(DEVICE)\n",
    "\ty_g_test = y_g_test.to(DEVICE)\n",
    "\n",
    "\tX_st_train = X_st_train.to(DEVICE)\n",
    "\ty_st_train = y_st_train.to(DEVICE)\n",
    "\tX_st_test = X_st_test.to(DEVICE)\n",
    "\ty_st_test = y_st_test.to(DEVICE)\n",
    "\n",
    "\tX_mm_train = X_mm_train.to(DEVICE)\n",
    "\ty_mm_train = y_mm_train.to(DEVICE)\n",
    "\tX_mm_test = X_mm_test.to(DEVICE)\n",
    "\ty_mm_test = y_mm_test.to(DEVICE)"
   ]
  },
  {
   "cell_type": "markdown",
   "metadata": {},
   "source": [
    "# Model"
   ]
  },
  {
   "cell_type": "code",
   "execution_count": 17,
   "metadata": {},
   "outputs": [],
   "source": [
    "def inv_scaling(y, y_scaler, d=False):\n",
    "    if d:\n",
    "        return y_scaler.inverse_transform(y.detach().cpu().numpy().reshape(-1, 1))\n",
    "    return y_scaler.inverse_transform(y.cpu().numpy().reshape(-1, 1))"
   ]
  },
  {
   "cell_type": "code",
   "execution_count": 18,
   "metadata": {},
   "outputs": [],
   "source": [
    "class TransformerModel(nn.Module):\n",
    "\tdef __init__(self, input_dim, model_dim, num_heads, num_layers, output_dim, dropout=0.1):\n",
    "\t\tsuper(TransformerModel, self).__init__()\n",
    "\t\t# layers\n",
    "\t\tself.embedding = nn.Linear(input_dim, model_dim)\n",
    "\t\tencoder_layer = nn.TransformerEncoderLayer(d_model=model_dim, nhead=num_heads, batch_first=True)\n",
    "\t\tself.transformer = nn.TransformerEncoder(encoder_layer, num_layers=num_layers)\n",
    "\t\tself.fc = nn.Linear(model_dim, output_dim)\n",
    "\t\tself.dropout = nn.Dropout(dropout)\n",
    "\t\n",
    "\tdef forward(self, x):\n",
    "\t\tx = self.embedding(x)\n",
    "\t\tx = self.dropout(x)\n",
    "\t\tx = self.transformer(x)\n",
    "\t\tx = x.mean(dim=1)\n",
    "\t\tx = self.fc(x)\n",
    "\t\treturn x"
   ]
  },
  {
   "cell_type": "code",
   "execution_count": 19,
   "metadata": {},
   "outputs": [],
   "source": [
    "def objective(trial: optuna.Trial, X_train, y_train, X_test, y_test, y_scaler, input_dim, output_dim):\n",
    "\t# Definimos los hiperparámetros a buscar\n",
    "\tnum_heads = trial.suggest_int('num_heads', 1, 8)\n",
    "\tmodel_dim = trial.suggest_int('model_dim', num_heads * 4, num_heads * 64, step=num_heads)\n",
    "\tnum_layers = trial.suggest_int('num_layers', 1, 6)\n",
    "\tdropout = trial.suggest_float('dropout', 0.1, 0.5)\n",
    "\tlearning_rate = trial.suggest_float('learning_rate', 1e-5, 1e-2, log=True)\n",
    "\tweight_decay = trial.suggest_float('weight_decay', 1e-5, 1e-2, log=True)\n",
    "\tnum_epochs = trial.suggest_int('num_epochs', 10, 100)\n",
    "\t# model initialization \n",
    "\tmodel = TransformerModel(input_dim, model_dim, num_heads, num_layers, output_dim, dropout)\n",
    "\tif DEVICE.type == 'cuda':\n",
    "\t\tmodel = model.to(DEVICE)\n",
    "\tcriterion = nn.MSELoss()\n",
    "\toptimizer = optim.AdamW(model.parameters(), lr=learning_rate, weight_decay=weight_decay)\n",
    "\t# training\n",
    "\ty_train_inv_scaled = inv_scaling(y_train, y_scaler)\n",
    "\ty_test_inv_scaled = inv_scaling(y_test, y_scaler)\n",
    "\tmodel.train()\n",
    "\tfor epoch in range(num_epochs):\n",
    "\t\toptimizer.zero_grad()\n",
    "\t\toutput = model(X_train)\n",
    "\t\tloss = criterion(output, y_train)\n",
    "\t\tloss.backward()\n",
    "\t\toptimizer.step()\n",
    "\t# evaluation\n",
    "\tmodel.eval()\n",
    "\toutput_inv_scaled = inv_scaling(output, y_scaler, True)\n",
    "\tloss_inv_scaled = mean_squared_error(y_train_inv_scaled, output_inv_scaled)\n",
    "\twith torch.no_grad():\n",
    "\t\tpredictions = model(X_test)\n",
    "\t\tval_loss = criterion(predictions, y_test)\n",
    "\n",
    "\t\tpredictions_inv_scaled = inv_scaling(predictions, y_scaler)\n",
    "\t\tval_loss_inv_scaled = mean_squared_error(y_test_inv_scaled, predictions_inv_scaled)\n",
    "\t\t# trial.report(val_loss.item(), epoch+1)\n",
    "\t\t# if trial.should_prune():\n",
    "\t\t# \traise optuna.TrialPruned()\n",
    "\tprint(f\"Trial: {trial.number} - Loss: {loss_inv_scaled.item()} - Val Loss: {val_loss_inv_scaled.item()}\")\n",
    "\treturn val_loss.item()"
   ]
  },
  {
   "cell_type": "markdown",
   "metadata": {},
   "source": [
    "# Hyperparameters Optimization"
   ]
  },
  {
   "cell_type": "code",
   "execution_count": 20,
   "metadata": {},
   "outputs": [],
   "source": [
    "n_trials = 25\n",
    "study_g = None\n",
    "study_st = None\n",
    "study_mm = None"
   ]
  },
  {
   "cell_type": "markdown",
   "metadata": {},
   "source": [
    "## General"
   ]
  },
  {
   "cell_type": "code",
   "execution_count": 21,
   "metadata": {},
   "outputs": [
    {
     "name": "stderr",
     "output_type": "stream",
     "text": [
      "/home/frnk65/resource-prediction-study/venv/lib/python3.10/site-packages/torch/nn/modules/transformer.py:286: UserWarning: enable_nested_tensor is True, but self.use_nested_tensor is False because encoder_layer.self_attn.num_heads is odd\n",
      "  warnings.warn(f\"enable_nested_tensor is True, but self.use_nested_tensor is False because {why_not_sparsity_fast_path}\")\n"
     ]
    },
    {
     "name": "stdout",
     "output_type": "stream",
     "text": [
      "Trial: 0 - Loss: 1061.366943359375 - Val Loss: 1816.5850830078125\n"
     ]
    },
    {
     "name": "stderr",
     "output_type": "stream",
     "text": [
      "/home/frnk65/resource-prediction-study/venv/lib/python3.10/site-packages/torch/nn/modules/transformer.py:286: UserWarning: enable_nested_tensor is True, but self.use_nested_tensor is False because encoder_layer.self_attn.num_heads is odd\n",
      "  warnings.warn(f\"enable_nested_tensor is True, but self.use_nested_tensor is False because {why_not_sparsity_fast_path}\")\n"
     ]
    },
    {
     "name": "stdout",
     "output_type": "stream",
     "text": [
      "Trial: 1 - Loss: 1439.395263671875 - Val Loss: 1598.2655029296875\n",
      "Trial: 2 - Loss: 289.8387145996094 - Val Loss: 823.955810546875\n",
      "Trial: 3 - Loss: 391.0523376464844 - Val Loss: 942.5573120117188\n"
     ]
    },
    {
     "name": "stderr",
     "output_type": "stream",
     "text": [
      "/home/frnk65/resource-prediction-study/venv/lib/python3.10/site-packages/torch/nn/modules/transformer.py:286: UserWarning: enable_nested_tensor is True, but self.use_nested_tensor is False because encoder_layer.self_attn.num_heads is odd\n",
      "  warnings.warn(f\"enable_nested_tensor is True, but self.use_nested_tensor is False because {why_not_sparsity_fast_path}\")\n"
     ]
    },
    {
     "name": "stdout",
     "output_type": "stream",
     "text": [
      "Trial: 4 - Loss: 590.8650512695312 - Val Loss: 838.4571533203125\n"
     ]
    },
    {
     "name": "stderr",
     "output_type": "stream",
     "text": [
      "/home/frnk65/resource-prediction-study/venv/lib/python3.10/site-packages/torch/nn/modules/transformer.py:286: UserWarning: enable_nested_tensor is True, but self.use_nested_tensor is False because encoder_layer.self_attn.num_heads is odd\n",
      "  warnings.warn(f\"enable_nested_tensor is True, but self.use_nested_tensor is False because {why_not_sparsity_fast_path}\")\n"
     ]
    },
    {
     "name": "stdout",
     "output_type": "stream",
     "text": [
      "Trial: 5 - Loss: 310.5499572753906 - Val Loss: 534.4301147460938\n"
     ]
    },
    {
     "name": "stderr",
     "output_type": "stream",
     "text": [
      "/home/frnk65/resource-prediction-study/venv/lib/python3.10/site-packages/torch/nn/modules/transformer.py:286: UserWarning: enable_nested_tensor is True, but self.use_nested_tensor is False because encoder_layer.self_attn.num_heads is odd\n",
      "  warnings.warn(f\"enable_nested_tensor is True, but self.use_nested_tensor is False because {why_not_sparsity_fast_path}\")\n"
     ]
    },
    {
     "name": "stdout",
     "output_type": "stream",
     "text": [
      "Trial: 6 - Loss: 314.667236328125 - Val Loss: 791.6070556640625\n",
      "Trial: 7 - Loss: 307.61041259765625 - Val Loss: 973.9777221679688\n"
     ]
    },
    {
     "name": "stderr",
     "output_type": "stream",
     "text": [
      "/home/frnk65/resource-prediction-study/venv/lib/python3.10/site-packages/torch/nn/modules/transformer.py:286: UserWarning: enable_nested_tensor is True, but self.use_nested_tensor is False because encoder_layer.self_attn.num_heads is odd\n",
      "  warnings.warn(f\"enable_nested_tensor is True, but self.use_nested_tensor is False because {why_not_sparsity_fast_path}\")\n"
     ]
    },
    {
     "name": "stdout",
     "output_type": "stream",
     "text": [
      "Trial: 8 - Loss: 277.85052490234375 - Val Loss: 862.8622436523438\n"
     ]
    },
    {
     "name": "stderr",
     "output_type": "stream",
     "text": [
      "/home/frnk65/resource-prediction-study/venv/lib/python3.10/site-packages/torch/nn/modules/transformer.py:286: UserWarning: enable_nested_tensor is True, but self.use_nested_tensor is False because encoder_layer.self_attn.num_heads is odd\n",
      "  warnings.warn(f\"enable_nested_tensor is True, but self.use_nested_tensor is False because {why_not_sparsity_fast_path}\")\n"
     ]
    },
    {
     "name": "stdout",
     "output_type": "stream",
     "text": [
      "Trial: 9 - Loss: 315.4371337890625 - Val Loss: 998.292724609375\n",
      "Trial: 10 - Loss: 576.3460693359375 - Val Loss: 764.2737426757812\n",
      "Trial: 11 - Loss: 1410.021728515625 - Val Loss: 2206.735107421875\n",
      "Trial: 12 - Loss: 688.072509765625 - Val Loss: 951.7320556640625\n",
      "Trial: 13 - Loss: 321.2027893066406 - Val Loss: 513.644775390625\n",
      "Trial: 14 - Loss: 428.1061706542969 - Val Loss: 1208.0118408203125\n"
     ]
    },
    {
     "name": "stderr",
     "output_type": "stream",
     "text": [
      "/home/frnk65/resource-prediction-study/venv/lib/python3.10/site-packages/torch/nn/modules/transformer.py:286: UserWarning: enable_nested_tensor is True, but self.use_nested_tensor is False because encoder_layer.self_attn.num_heads is odd\n",
      "  warnings.warn(f\"enable_nested_tensor is True, but self.use_nested_tensor is False because {why_not_sparsity_fast_path}\")\n"
     ]
    },
    {
     "name": "stdout",
     "output_type": "stream",
     "text": [
      "Trial: 15 - Loss: 355.4725341796875 - Val Loss: 923.1844482421875\n"
     ]
    },
    {
     "name": "stderr",
     "output_type": "stream",
     "text": [
      "/home/frnk65/resource-prediction-study/venv/lib/python3.10/site-packages/torch/nn/modules/transformer.py:286: UserWarning: enable_nested_tensor is True, but self.use_nested_tensor is False because encoder_layer.self_attn.num_heads is odd\n",
      "  warnings.warn(f\"enable_nested_tensor is True, but self.use_nested_tensor is False because {why_not_sparsity_fast_path}\")\n"
     ]
    },
    {
     "name": "stdout",
     "output_type": "stream",
     "text": [
      "Trial: 16 - Loss: 432.2721252441406 - Val Loss: 836.037109375\n"
     ]
    },
    {
     "name": "stderr",
     "output_type": "stream",
     "text": [
      "/home/frnk65/resource-prediction-study/venv/lib/python3.10/site-packages/torch/nn/modules/transformer.py:286: UserWarning: enable_nested_tensor is True, but self.use_nested_tensor is False because encoder_layer.self_attn.num_heads is odd\n",
      "  warnings.warn(f\"enable_nested_tensor is True, but self.use_nested_tensor is False because {why_not_sparsity_fast_path}\")\n"
     ]
    },
    {
     "name": "stdout",
     "output_type": "stream",
     "text": [
      "Trial: 17 - Loss: 240.1199188232422 - Val Loss: 549.1361083984375\n",
      "Trial: 18 - Loss: 354.6495056152344 - Val Loss: 940.947509765625\n",
      "Trial: 19 - Loss: 655.2586059570312 - Val Loss: 480.7169189453125\n",
      "Trial: 20 - Loss: 1343.58251953125 - Val Loss: 1646.8319091796875\n"
     ]
    },
    {
     "name": "stderr",
     "output_type": "stream",
     "text": [
      "/home/frnk65/resource-prediction-study/venv/lib/python3.10/site-packages/torch/nn/modules/transformer.py:286: UserWarning: enable_nested_tensor is True, but self.use_nested_tensor is False because encoder_layer.self_attn.num_heads is odd\n",
      "  warnings.warn(f\"enable_nested_tensor is True, but self.use_nested_tensor is False because {why_not_sparsity_fast_path}\")\n"
     ]
    },
    {
     "name": "stdout",
     "output_type": "stream",
     "text": [
      "Trial: 21 - Loss: 1506.5006103515625 - Val Loss: 1161.030517578125\n",
      "Trial: 22 - Loss: 361.4084777832031 - Val Loss: 628.6978149414062\n",
      "Trial: 23 - Loss: 468.0567321777344 - Val Loss: 1312.2711181640625\n"
     ]
    },
    {
     "name": "stderr",
     "output_type": "stream",
     "text": [
      "/home/frnk65/resource-prediction-study/venv/lib/python3.10/site-packages/torch/nn/modules/transformer.py:286: UserWarning: enable_nested_tensor is True, but self.use_nested_tensor is False because encoder_layer.self_attn.num_heads is odd\n",
      "  warnings.warn(f\"enable_nested_tensor is True, but self.use_nested_tensor is False because {why_not_sparsity_fast_path}\")\n"
     ]
    },
    {
     "name": "stdout",
     "output_type": "stream",
     "text": [
      "Trial: 24 - Loss: 376.3490295410156 - Val Loss: 618.7706909179688\n"
     ]
    }
   ],
   "source": [
    "# configuration optuna\n",
    "study_g = optuna.create_study(direction='minimize', sampler=sampler)\n",
    "study_g.optimize(lambda trial: objective(trial, X_g_train, y_g_train, X_g_test, y_g_test, y_g_scaler, len(features), 1), n_trials=n_trials)"
   ]
  },
  {
   "cell_type": "code",
   "execution_count": 22,
   "metadata": {},
   "outputs": [
    {
     "name": "stdout",
     "output_type": "stream",
     "text": [
      "Número de pruebas: 25\n",
      "Mejor prueba: 19\n",
      "Mejores parametros: {'num_heads': 6, 'model_dim': 234, 'num_layers': 1, 'dropout': 0.21715242770917706, 'learning_rate': 5.997321271336102e-05, 'weight_decay': 4.343933725568945e-05, 'num_epochs': 49}\n",
      "Mejor valor de pérdida de validación: 0.0264119915664196\n"
     ]
    }
   ],
   "source": [
    "# Results\n",
    "print(f'Número de pruebas: {len(study_g.trials)}')\n",
    "trial = study_g.best_trial\n",
    "print(f'Mejor prueba: {trial.number}')\n",
    "print(f'Mejores parametros: {trial.params}')\n",
    "print(f'Mejor valor de pérdida de validación: {trial.value}')"
   ]
  },
  {
   "cell_type": "markdown",
   "metadata": {},
   "source": [
    "## Single Thread"
   ]
  },
  {
   "cell_type": "code",
   "execution_count": 23,
   "metadata": {},
   "outputs": [
    {
     "name": "stderr",
     "output_type": "stream",
     "text": [
      "/home/frnk65/resource-prediction-study/venv/lib/python3.10/site-packages/torch/nn/modules/transformer.py:286: UserWarning: enable_nested_tensor is True, but self.use_nested_tensor is False because encoder_layer.self_attn.num_heads is odd\n",
      "  warnings.warn(f\"enable_nested_tensor is True, but self.use_nested_tensor is False because {why_not_sparsity_fast_path}\")\n"
     ]
    },
    {
     "name": "stdout",
     "output_type": "stream",
     "text": [
      "Trial: 0 - Loss: 301.0719299316406 - Val Loss: 866.3180541992188\n"
     ]
    },
    {
     "name": "stderr",
     "output_type": "stream",
     "text": [
      "/home/frnk65/resource-prediction-study/venv/lib/python3.10/site-packages/torch/nn/modules/transformer.py:286: UserWarning: enable_nested_tensor is True, but self.use_nested_tensor is False because encoder_layer.self_attn.num_heads is odd\n",
      "  warnings.warn(f\"enable_nested_tensor is True, but self.use_nested_tensor is False because {why_not_sparsity_fast_path}\")\n"
     ]
    },
    {
     "name": "stdout",
     "output_type": "stream",
     "text": [
      "Trial: 1 - Loss: 762.0963745117188 - Val Loss: 1860.7183837890625\n"
     ]
    },
    {
     "name": "stderr",
     "output_type": "stream",
     "text": [
      "/home/frnk65/resource-prediction-study/venv/lib/python3.10/site-packages/torch/nn/modules/transformer.py:286: UserWarning: enable_nested_tensor is True, but self.use_nested_tensor is False because encoder_layer.self_attn.num_heads is odd\n",
      "  warnings.warn(f\"enable_nested_tensor is True, but self.use_nested_tensor is False because {why_not_sparsity_fast_path}\")\n"
     ]
    },
    {
     "name": "stdout",
     "output_type": "stream",
     "text": [
      "Trial: 2 - Loss: 700.6349487304688 - Val Loss: 1336.9710693359375\n",
      "Trial: 3 - Loss: 334.0592041015625 - Val Loss: 1128.500244140625\n"
     ]
    },
    {
     "name": "stderr",
     "output_type": "stream",
     "text": [
      "/home/frnk65/resource-prediction-study/venv/lib/python3.10/site-packages/torch/nn/modules/transformer.py:286: UserWarning: enable_nested_tensor is True, but self.use_nested_tensor is False because encoder_layer.self_attn.num_heads is odd\n",
      "  warnings.warn(f\"enable_nested_tensor is True, but self.use_nested_tensor is False because {why_not_sparsity_fast_path}\")\n"
     ]
    },
    {
     "name": "stdout",
     "output_type": "stream",
     "text": [
      "Trial: 4 - Loss: 407.9037780761719 - Val Loss: 969.7677612304688\n",
      "Trial: 5 - Loss: 636.7277221679688 - Val Loss: 983.9618530273438\n",
      "Trial: 6 - Loss: 322.3719482421875 - Val Loss: 1079.5740966796875\n"
     ]
    },
    {
     "name": "stderr",
     "output_type": "stream",
     "text": [
      "/home/frnk65/resource-prediction-study/venv/lib/python3.10/site-packages/torch/nn/modules/transformer.py:286: UserWarning: enable_nested_tensor is True, but self.use_nested_tensor is False because encoder_layer.self_attn.num_heads is odd\n",
      "  warnings.warn(f\"enable_nested_tensor is True, but self.use_nested_tensor is False because {why_not_sparsity_fast_path}\")\n"
     ]
    },
    {
     "name": "stdout",
     "output_type": "stream",
     "text": [
      "Trial: 7 - Loss: 544.1088256835938 - Val Loss: 768.724609375\n"
     ]
    },
    {
     "name": "stderr",
     "output_type": "stream",
     "text": [
      "/home/frnk65/resource-prediction-study/venv/lib/python3.10/site-packages/torch/nn/modules/transformer.py:286: UserWarning: enable_nested_tensor is True, but self.use_nested_tensor is False because encoder_layer.self_attn.num_heads is odd\n",
      "  warnings.warn(f\"enable_nested_tensor is True, but self.use_nested_tensor is False because {why_not_sparsity_fast_path}\")\n"
     ]
    },
    {
     "name": "stdout",
     "output_type": "stream",
     "text": [
      "Trial: 8 - Loss: 1113.407470703125 - Val Loss: 707.0286254882812\n"
     ]
    },
    {
     "name": "stderr",
     "output_type": "stream",
     "text": [
      "/home/frnk65/resource-prediction-study/venv/lib/python3.10/site-packages/torch/nn/modules/transformer.py:286: UserWarning: enable_nested_tensor is True, but self.use_nested_tensor is False because encoder_layer.self_attn.num_heads is odd\n",
      "  warnings.warn(f\"enable_nested_tensor is True, but self.use_nested_tensor is False because {why_not_sparsity_fast_path}\")\n"
     ]
    },
    {
     "name": "stdout",
     "output_type": "stream",
     "text": [
      "Trial: 9 - Loss: 316.862060546875 - Val Loss: 1037.110595703125\n",
      "Trial: 10 - Loss: 1114.2662353515625 - Val Loss: 1374.630859375\n"
     ]
    },
    {
     "name": "stderr",
     "output_type": "stream",
     "text": [
      "/home/frnk65/resource-prediction-study/venv/lib/python3.10/site-packages/torch/nn/modules/transformer.py:286: UserWarning: enable_nested_tensor is True, but self.use_nested_tensor is False because encoder_layer.self_attn.num_heads is odd\n",
      "  warnings.warn(f\"enable_nested_tensor is True, but self.use_nested_tensor is False because {why_not_sparsity_fast_path}\")\n"
     ]
    },
    {
     "name": "stdout",
     "output_type": "stream",
     "text": [
      "Trial: 11 - Loss: 540.8091430664062 - Val Loss: 718.061279296875\n"
     ]
    },
    {
     "name": "stderr",
     "output_type": "stream",
     "text": [
      "/home/frnk65/resource-prediction-study/venv/lib/python3.10/site-packages/torch/nn/modules/transformer.py:286: UserWarning: enable_nested_tensor is True, but self.use_nested_tensor is False because encoder_layer.self_attn.num_heads is odd\n",
      "  warnings.warn(f\"enable_nested_tensor is True, but self.use_nested_tensor is False because {why_not_sparsity_fast_path}\")\n"
     ]
    },
    {
     "name": "stdout",
     "output_type": "stream",
     "text": [
      "Trial: 12 - Loss: 618.39306640625 - Val Loss: 835.2487182617188\n",
      "Trial: 13 - Loss: 316.3351745605469 - Val Loss: 426.6337890625\n"
     ]
    },
    {
     "name": "stderr",
     "output_type": "stream",
     "text": [
      "/home/frnk65/resource-prediction-study/venv/lib/python3.10/site-packages/torch/nn/modules/transformer.py:286: UserWarning: enable_nested_tensor is True, but self.use_nested_tensor is False because encoder_layer.self_attn.num_heads is odd\n",
      "  warnings.warn(f\"enable_nested_tensor is True, but self.use_nested_tensor is False because {why_not_sparsity_fast_path}\")\n"
     ]
    },
    {
     "name": "stdout",
     "output_type": "stream",
     "text": [
      "Trial: 14 - Loss: 442.57293701171875 - Val Loss: 297.2487487792969\n",
      "Trial: 15 - Loss: 673.8993530273438 - Val Loss: 565.6798706054688\n"
     ]
    },
    {
     "name": "stderr",
     "output_type": "stream",
     "text": [
      "/home/frnk65/resource-prediction-study/venv/lib/python3.10/site-packages/torch/nn/modules/transformer.py:286: UserWarning: enable_nested_tensor is True, but self.use_nested_tensor is False because encoder_layer.self_attn.num_heads is odd\n",
      "  warnings.warn(f\"enable_nested_tensor is True, but self.use_nested_tensor is False because {why_not_sparsity_fast_path}\")\n"
     ]
    },
    {
     "name": "stdout",
     "output_type": "stream",
     "text": [
      "Trial: 16 - Loss: 509.3342590332031 - Val Loss: 497.66357421875\n",
      "Trial: 17 - Loss: 385.9396057128906 - Val Loss: 765.1029052734375\n",
      "Trial: 18 - Loss: 554.7066650390625 - Val Loss: 831.7083740234375\n",
      "Trial: 19 - Loss: 337.9374694824219 - Val Loss: 551.081787109375\n",
      "Trial: 20 - Loss: 306.0885925292969 - Val Loss: 1015.956787109375\n"
     ]
    },
    {
     "name": "stderr",
     "output_type": "stream",
     "text": [
      "/home/frnk65/resource-prediction-study/venv/lib/python3.10/site-packages/torch/nn/modules/transformer.py:286: UserWarning: enable_nested_tensor is True, but self.use_nested_tensor is False because encoder_layer.self_attn.num_heads is odd\n",
      "  warnings.warn(f\"enable_nested_tensor is True, but self.use_nested_tensor is False because {why_not_sparsity_fast_path}\")\n"
     ]
    },
    {
     "name": "stdout",
     "output_type": "stream",
     "text": [
      "Trial: 21 - Loss: 504.9841613769531 - Val Loss: 506.8906555175781\n"
     ]
    },
    {
     "name": "stderr",
     "output_type": "stream",
     "text": [
      "/home/frnk65/resource-prediction-study/venv/lib/python3.10/site-packages/torch/nn/modules/transformer.py:286: UserWarning: enable_nested_tensor is True, but self.use_nested_tensor is False because encoder_layer.self_attn.num_heads is odd\n",
      "  warnings.warn(f\"enable_nested_tensor is True, but self.use_nested_tensor is False because {why_not_sparsity_fast_path}\")\n"
     ]
    },
    {
     "name": "stdout",
     "output_type": "stream",
     "text": [
      "Trial: 22 - Loss: 313.56982421875 - Val Loss: 374.4588623046875\n",
      "Trial: 23 - Loss: 235.10751342773438 - Val Loss: 374.0915222167969\n"
     ]
    },
    {
     "name": "stderr",
     "output_type": "stream",
     "text": [
      "/home/frnk65/resource-prediction-study/venv/lib/python3.10/site-packages/torch/nn/modules/transformer.py:286: UserWarning: enable_nested_tensor is True, but self.use_nested_tensor is False because encoder_layer.self_attn.num_heads is odd\n",
      "  warnings.warn(f\"enable_nested_tensor is True, but self.use_nested_tensor is False because {why_not_sparsity_fast_path}\")\n"
     ]
    },
    {
     "name": "stdout",
     "output_type": "stream",
     "text": [
      "Trial: 24 - Loss: 228.50521850585938 - Val Loss: 609.4043579101562\n"
     ]
    }
   ],
   "source": [
    "# configuration optuna\n",
    "study_st = optuna.create_study(direction='minimize', sampler=sampler)\n",
    "study_st.optimize(lambda trial: objective(trial, X_st_train, y_st_train, X_st_test, y_st_test, y_st_scaler, len(features_st), 1), n_trials=n_trials)"
   ]
  },
  {
   "cell_type": "code",
   "execution_count": 24,
   "metadata": {},
   "outputs": [
    {
     "name": "stdout",
     "output_type": "stream",
     "text": [
      "Número de pruebas: 25\n",
      "Mejor prueba: 14\n",
      "Mejores parametros: {'num_heads': 7, 'model_dim': 350, 'num_layers': 2, 'dropout': 0.10143140604964904, 'learning_rate': 0.00012520163192598644, 'weight_decay': 0.004586798164817242, 'num_epochs': 37}\n",
      "Mejor valor de pérdida en validación: 0.01675122044980526\n"
     ]
    }
   ],
   "source": [
    "# Results\n",
    "print(f'Número de pruebas: {len(study_st.trials)}')\n",
    "trial = study_st.best_trial\n",
    "print(f'Mejor prueba: {trial.number}')\n",
    "print(f'Mejores parametros: {trial.params}')\n",
    "print(f'Mejor valor de pérdida en validación: {trial.value}')"
   ]
  },
  {
   "cell_type": "markdown",
   "metadata": {},
   "source": [
    "## Multi Thread"
   ]
  },
  {
   "cell_type": "code",
   "execution_count": 25,
   "metadata": {},
   "outputs": [
    {
     "name": "stdout",
     "output_type": "stream",
     "text": [
      "Trial: 0 - Loss: 69.6758804321289 - Val Loss: 639.7374267578125\n"
     ]
    },
    {
     "name": "stderr",
     "output_type": "stream",
     "text": [
      "/home/frnk65/resource-prediction-study/venv/lib/python3.10/site-packages/torch/nn/modules/transformer.py:286: UserWarning: enable_nested_tensor is True, but self.use_nested_tensor is False because encoder_layer.self_attn.num_heads is odd\n",
      "  warnings.warn(f\"enable_nested_tensor is True, but self.use_nested_tensor is False because {why_not_sparsity_fast_path}\")\n"
     ]
    },
    {
     "name": "stdout",
     "output_type": "stream",
     "text": [
      "Trial: 1 - Loss: 132.41937255859375 - Val Loss: 407.27337646484375\n",
      "Trial: 2 - Loss: 73.54857635498047 - Val Loss: 455.14178466796875\n",
      "Trial: 3 - Loss: 127.53038787841797 - Val Loss: 511.5677185058594\n"
     ]
    },
    {
     "name": "stderr",
     "output_type": "stream",
     "text": [
      "/home/frnk65/resource-prediction-study/venv/lib/python3.10/site-packages/torch/nn/modules/transformer.py:286: UserWarning: enable_nested_tensor is True, but self.use_nested_tensor is False because encoder_layer.self_attn.num_heads is odd\n",
      "  warnings.warn(f\"enable_nested_tensor is True, but self.use_nested_tensor is False because {why_not_sparsity_fast_path}\")\n"
     ]
    },
    {
     "name": "stdout",
     "output_type": "stream",
     "text": [
      "Trial: 4 - Loss: 103.8872299194336 - Val Loss: 524.9882202148438\n",
      "Trial: 5 - Loss: 207.15011596679688 - Val Loss: 686.6564331054688\n",
      "Trial: 6 - Loss: 114.1941146850586 - Val Loss: 447.9808349609375\n",
      "Trial: 7 - Loss: 127.84478759765625 - Val Loss: 613.4771118164062\n",
      "Trial: 8 - Loss: 227.638671875 - Val Loss: 107.77548217773438\n",
      "Trial: 9 - Loss: 480.7063903808594 - Val Loss: 2.4322171211242676\n",
      "Trial: 10 - Loss: 69.79824829101562 - Val Loss: 692.6588745117188\n",
      "Trial: 11 - Loss: 354.6943664550781 - Val Loss: 81.27442169189453\n",
      "Trial: 12 - Loss: 1859.1829833984375 - Val Loss: 132.46473693847656\n"
     ]
    },
    {
     "name": "stderr",
     "output_type": "stream",
     "text": [
      "/home/frnk65/resource-prediction-study/venv/lib/python3.10/site-packages/torch/nn/modules/transformer.py:286: UserWarning: enable_nested_tensor is True, but self.use_nested_tensor is False because encoder_layer.self_attn.num_heads is odd\n",
      "  warnings.warn(f\"enable_nested_tensor is True, but self.use_nested_tensor is False because {why_not_sparsity_fast_path}\")\n"
     ]
    },
    {
     "name": "stdout",
     "output_type": "stream",
     "text": [
      "Trial: 13 - Loss: 187.70785522460938 - Val Loss: 85.39507293701172\n",
      "Trial: 14 - Loss: 98.82386016845703 - Val Loss: 297.09259033203125\n"
     ]
    },
    {
     "name": "stderr",
     "output_type": "stream",
     "text": [
      "/home/frnk65/resource-prediction-study/venv/lib/python3.10/site-packages/torch/nn/modules/transformer.py:286: UserWarning: enable_nested_tensor is True, but self.use_nested_tensor is False because encoder_layer.self_attn.num_heads is odd\n",
      "  warnings.warn(f\"enable_nested_tensor is True, but self.use_nested_tensor is False because {why_not_sparsity_fast_path}\")\n"
     ]
    },
    {
     "name": "stdout",
     "output_type": "stream",
     "text": [
      "Trial: 15 - Loss: 236.9207763671875 - Val Loss: 464.4597473144531\n"
     ]
    },
    {
     "name": "stderr",
     "output_type": "stream",
     "text": [
      "/home/frnk65/resource-prediction-study/venv/lib/python3.10/site-packages/torch/nn/modules/transformer.py:286: UserWarning: enable_nested_tensor is True, but self.use_nested_tensor is False because encoder_layer.self_attn.num_heads is odd\n",
      "  warnings.warn(f\"enable_nested_tensor is True, but self.use_nested_tensor is False because {why_not_sparsity_fast_path}\")\n"
     ]
    },
    {
     "name": "stdout",
     "output_type": "stream",
     "text": [
      "Trial: 16 - Loss: 48.13401794433594 - Val Loss: 452.2046813964844\n"
     ]
    },
    {
     "name": "stderr",
     "output_type": "stream",
     "text": [
      "/home/frnk65/resource-prediction-study/venv/lib/python3.10/site-packages/torch/nn/modules/transformer.py:286: UserWarning: enable_nested_tensor is True, but self.use_nested_tensor is False because encoder_layer.self_attn.num_heads is odd\n",
      "  warnings.warn(f\"enable_nested_tensor is True, but self.use_nested_tensor is False because {why_not_sparsity_fast_path}\")\n"
     ]
    },
    {
     "name": "stdout",
     "output_type": "stream",
     "text": [
      "Trial: 17 - Loss: 1035.1434326171875 - Val Loss: 1881.079345703125\n"
     ]
    },
    {
     "name": "stderr",
     "output_type": "stream",
     "text": [
      "/home/frnk65/resource-prediction-study/venv/lib/python3.10/site-packages/torch/nn/modules/transformer.py:286: UserWarning: enable_nested_tensor is True, but self.use_nested_tensor is False because encoder_layer.self_attn.num_heads is odd\n",
      "  warnings.warn(f\"enable_nested_tensor is True, but self.use_nested_tensor is False because {why_not_sparsity_fast_path}\")\n"
     ]
    },
    {
     "name": "stdout",
     "output_type": "stream",
     "text": [
      "Trial: 18 - Loss: 130.88565063476562 - Val Loss: 263.7489013671875\n"
     ]
    },
    {
     "name": "stderr",
     "output_type": "stream",
     "text": [
      "/home/frnk65/resource-prediction-study/venv/lib/python3.10/site-packages/torch/nn/modules/transformer.py:286: UserWarning: enable_nested_tensor is True, but self.use_nested_tensor is False because encoder_layer.self_attn.num_heads is odd\n",
      "  warnings.warn(f\"enable_nested_tensor is True, but self.use_nested_tensor is False because {why_not_sparsity_fast_path}\")\n"
     ]
    },
    {
     "name": "stdout",
     "output_type": "stream",
     "text": [
      "Trial: 19 - Loss: 95.56412506103516 - Val Loss: 526.4804077148438\n",
      "Trial: 20 - Loss: 3676.2109375 - Val Loss: 1247.262939453125\n"
     ]
    },
    {
     "name": "stderr",
     "output_type": "stream",
     "text": [
      "/home/frnk65/resource-prediction-study/venv/lib/python3.10/site-packages/torch/nn/modules/transformer.py:286: UserWarning: enable_nested_tensor is True, but self.use_nested_tensor is False because encoder_layer.self_attn.num_heads is odd\n",
      "  warnings.warn(f\"enable_nested_tensor is True, but self.use_nested_tensor is False because {why_not_sparsity_fast_path}\")\n"
     ]
    },
    {
     "name": "stdout",
     "output_type": "stream",
     "text": [
      "Trial: 21 - Loss: 145.25042724609375 - Val Loss: 267.19537353515625\n",
      "Trial: 22 - Loss: 631.1910400390625 - Val Loss: 2793.95947265625\n"
     ]
    },
    {
     "name": "stderr",
     "output_type": "stream",
     "text": [
      "/home/frnk65/resource-prediction-study/venv/lib/python3.10/site-packages/torch/nn/modules/transformer.py:286: UserWarning: enable_nested_tensor is True, but self.use_nested_tensor is False because encoder_layer.self_attn.num_heads is odd\n",
      "  warnings.warn(f\"enable_nested_tensor is True, but self.use_nested_tensor is False because {why_not_sparsity_fast_path}\")\n"
     ]
    },
    {
     "name": "stdout",
     "output_type": "stream",
     "text": [
      "Trial: 23 - Loss: 182.21002197265625 - Val Loss: 335.8470458984375\n"
     ]
    },
    {
     "name": "stderr",
     "output_type": "stream",
     "text": [
      "/home/frnk65/resource-prediction-study/venv/lib/python3.10/site-packages/torch/nn/modules/transformer.py:286: UserWarning: enable_nested_tensor is True, but self.use_nested_tensor is False because encoder_layer.self_attn.num_heads is odd\n",
      "  warnings.warn(f\"enable_nested_tensor is True, but self.use_nested_tensor is False because {why_not_sparsity_fast_path}\")\n"
     ]
    },
    {
     "name": "stdout",
     "output_type": "stream",
     "text": [
      "Trial: 24 - Loss: 199.05694580078125 - Val Loss: 1097.217041015625\n"
     ]
    }
   ],
   "source": [
    "# configuration optuna\n",
    "study_mm = optuna.create_study(direction='minimize', sampler=sampler)\n",
    "study_mm.optimize(lambda trial: objective(trial, X_mm_train, y_mm_train, X_mm_test, y_mm_test, y_mm_scaler, len(features), 1), n_trials=n_trials)"
   ]
  },
  {
   "cell_type": "code",
   "execution_count": 26,
   "metadata": {},
   "outputs": [
    {
     "name": "stdout",
     "output_type": "stream",
     "text": [
      "Trials quantity: 25\n",
      "Mejor prueba: 9\n",
      "Mejores parametros: {'num_heads': 8, 'model_dim': 320, 'num_layers': 1, 'dropout': 0.14058861714641285, 'learning_rate': 0.0009783749110062348, 'weight_decay': 1.0355826161899173e-05, 'num_epochs': 24}\n",
      "Mejor valor de pérdida en validación: 0.0006557944579981267\n"
     ]
    }
   ],
   "source": [
    "# Results\n",
    "print(f'Trials quantity: {len(study_mm.trials)}')\n",
    "trial = study_mm.best_trial\n",
    "print(f'Mejor prueba: {trial.number}')\n",
    "print(f'Mejores parametros: {trial.params}')\n",
    "print(f'Mejor valor de pérdida en validación: {trial.value}')"
   ]
  },
  {
   "cell_type": "markdown",
   "metadata": {},
   "source": [
    "# Training"
   ]
  },
  {
   "cell_type": "code",
   "execution_count": 27,
   "metadata": {},
   "outputs": [],
   "source": [
    "models_folder = '../models/transformer'\n",
    "output_dim = 1"
   ]
  },
  {
   "cell_type": "code",
   "execution_count": 28,
   "metadata": {},
   "outputs": [],
   "source": [
    "def plot_loss(history):\n",
    "\tepochs = np.arange(1, len(history[\"loss\"])+1)\n",
    "\tplt.figure(figsize=(10, 5))\n",
    "\tplt.plot(epochs, history[\"val_loss\"], 'r', label='Validation loss')\n",
    "\tplt.plot(epochs, history[\"loss\"], 'b', label='Training loss')\n",
    "\tplt.title('Training and Validation loss')\n",
    "\tplt.xlabel('Epochs')\n",
    "\tplt.ylabel('Loss')\n",
    "\tplt.legend()\n",
    "\tplt.show()\n",
    "\n",
    "def evaluate_model(model, X_test, y_test, y_scaler):\n",
    "\tmodel.eval()\n",
    "\twith torch.no_grad():\n",
    "\t\tpreds = model(X_test)\n",
    "\t\tmse = mean_squared_error(inv_scaling(y_test, y_scaler), inv_scaling(preds, y_scaler))\n",
    "\t\tmae = mean_absolute_error(inv_scaling(y_test, y_scaler), inv_scaling(preds, y_scaler))\n",
    "\tprint(f\"MSE: {mse} - RMSE: {np.sqrt(mse)} - MAE: {mae}\")"
   ]
  },
  {
   "cell_type": "code",
   "execution_count": 29,
   "metadata": {},
   "outputs": [],
   "source": [
    "#dump(scaler_g, f'{models_folder}/scaler_g.joblib')\n",
    "#dump(scaler_st, f'{models_folder}/scaler_st.joblib')\n",
    "#dump(scaler_mm, f'{models_folder}/scaler_mm.joblib')"
   ]
  },
  {
   "cell_type": "markdown",
   "metadata": {},
   "source": [
    "## General"
   ]
  },
  {
   "cell_type": "code",
   "execution_count": 30,
   "metadata": {},
   "outputs": [],
   "source": [
    "input_dim = len(features)\n",
    "# hyperparameters\n",
    "if study_g is not None:\n",
    "\tnum_heads = study_g.best_trial.params['num_heads']\n",
    "\tmodel_dim = study_g.best_trial.params['model_dim']\n",
    "\tnum_layers = study_g.best_trial.params['num_layers']\n",
    "\tdropout = study_g.best_trial.params['dropout']\n",
    "\tlr = study_g.best_trial.params['learning_rate']\n",
    "\twd = study_g.best_trial.params['weight_decay']\n",
    "\tnum_epochs = study_g.best_trial.params['num_epochs']\n",
    "else:\n",
    "\tnum_heads = 6\n",
    "\tmodel_dim = 294\n",
    "\tnum_layers = 6\n",
    "\tdropout = 0.49925267200585316\n",
    "\tlr = 0.007097392833743549\n",
    "\twd = 0.0017343770121671484\n",
    "\tnum_epochs = 35"
   ]
  },
  {
   "cell_type": "code",
   "execution_count": 31,
   "metadata": {},
   "outputs": [
    {
     "name": "stdout",
     "output_type": "stream",
     "text": [
      "Epoch 1/49, Loss: 3703.174560546875, Val Loss: 5449.2041015625\n",
      "Epoch 2/49, Loss: 3440.600830078125, Val Loss: 4022.792236328125\n",
      "Epoch 3/49, Loss: 2981.5849609375, Val Loss: 4110.201171875\n",
      "Epoch 4/49, Loss: 2384.160888671875, Val Loss: 4367.21728515625\n",
      "Epoch 5/49, Loss: 2117.840087890625, Val Loss: 3989.33740234375\n",
      "Epoch 6/49, Loss: 2151.48291015625, Val Loss: 2894.108154296875\n",
      "Epoch 7/49, Loss: 1966.265380859375, Val Loss: 1742.003662109375\n",
      "Epoch 8/49, Loss: 1704.966552734375, Val Loss: 1041.1146240234375\n",
      "Epoch 9/49, Loss: 1597.047119140625, Val Loss: 859.222900390625\n",
      "Epoch 10/49, Loss: 1630.639892578125, Val Loss: 891.335693359375\n",
      "Epoch 11/49, Loss: 1626.52978515625, Val Loss: 890.0726928710938\n",
      "Epoch 12/49, Loss: 1534.06494140625, Val Loss: 819.9789428710938\n",
      "Epoch 13/49, Loss: 1426.7369384765625, Val Loss: 752.1951293945312\n",
      "Epoch 14/49, Loss: 1344.4678955078125, Val Loss: 716.433837890625\n",
      "Epoch 15/49, Loss: 1368.1474609375, Val Loss: 692.860595703125\n",
      "Epoch 16/49, Loss: 1335.9312744140625, Val Loss: 673.31689453125\n",
      "Epoch 17/49, Loss: 1283.9273681640625, Val Loss: 673.3982543945312\n",
      "Epoch 18/49, Loss: 1184.9716796875, Val Loss: 690.7445678710938\n",
      "Epoch 19/49, Loss: 1120.933349609375, Val Loss: 693.0056762695312\n",
      "Epoch 20/49, Loss: 1107.02392578125, Val Loss: 654.7537231445312\n",
      "Epoch 21/49, Loss: 1094.569580078125, Val Loss: 603.4602661132812\n",
      "Epoch 22/49, Loss: 1018.5091552734375, Val Loss: 593.4210205078125\n",
      "Epoch 23/49, Loss: 982.7963256835938, Val Loss: 650.033447265625\n",
      "Epoch 24/49, Loss: 935.8040161132812, Val Loss: 744.9887084960938\n",
      "Epoch 25/49, Loss: 927.1597900390625, Val Loss: 817.4483642578125\n",
      "Epoch 26/49, Loss: 877.3251342773438, Val Loss: 834.2858276367188\n",
      "Epoch 27/49, Loss: 847.6632690429688, Val Loss: 804.2525024414062\n",
      "Epoch 28/49, Loss: 805.0839233398438, Val Loss: 769.8831176757812\n",
      "Epoch 29/49, Loss: 796.326416015625, Val Loss: 752.5795288085938\n",
      "Epoch 30/49, Loss: 779.9969482421875, Val Loss: 769.5411987304688\n",
      "Epoch 31/49, Loss: 754.858642578125, Val Loss: 825.3616333007812\n",
      "Epoch 32/49, Loss: 724.107666015625, Val Loss: 909.374755859375\n",
      "Epoch 33/49, Loss: 705.8091430664062, Val Loss: 1005.4096069335938\n",
      "Epoch 34/49, Loss: 683.3270263671875, Val Loss: 1066.4171142578125\n",
      "Epoch 35/49, Loss: 679.2894897460938, Val Loss: 1062.7880859375\n",
      "Epoch 36/49, Loss: 667.503173828125, Val Loss: 995.3929443359375\n",
      "Epoch 37/49, Loss: 630.085205078125, Val Loss: 893.3455200195312\n",
      "Epoch 38/49, Loss: 604.4964599609375, Val Loss: 790.1560668945312\n",
      "Epoch 39/49, Loss: 586.2894897460938, Val Loss: 711.3677978515625\n",
      "Epoch 40/49, Loss: 567.5534057617188, Val Loss: 668.7057495117188\n",
      "Epoch 41/49, Loss: 565.0052490234375, Val Loss: 655.1636352539062\n",
      "Epoch 42/49, Loss: 543.9622192382812, Val Loss: 656.3319091796875\n",
      "Epoch 43/49, Loss: 522.7404174804688, Val Loss: 655.0796508789062\n",
      "Epoch 44/49, Loss: 514.2802734375, Val Loss: 634.2166137695312\n",
      "Epoch 45/49, Loss: 507.2906799316406, Val Loss: 586.4501342773438\n",
      "Epoch 46/49, Loss: 496.6046142578125, Val Loss: 526.5332641601562\n",
      "Epoch 47/49, Loss: 476.6208801269531, Val Loss: 472.728515625\n",
      "Epoch 48/49, Loss: 465.50567626953125, Val Loss: 438.6937561035156\n",
      "Epoch 49/49, Loss: 457.3265075683594, Val Loss: 424.9715576171875\n"
     ]
    }
   ],
   "source": [
    "# general model initialization\n",
    "model_g = TransformerModel(input_dim, model_dim, num_heads, num_layers, 1, dropout)\n",
    "if DEVICE.type == 'cuda':\n",
    "\tmodel_g = model_g.to(DEVICE)\n",
    "criterion_g = nn.MSELoss()\n",
    "optimizer_g = optim.AdamW(model_g.parameters(), lr=lr, weight_decay=wd)\n",
    "\n",
    "history = {\n",
    "\t'loss': [],\n",
    "\t'val_loss': []\n",
    "}\n",
    "\n",
    "y_train_inv_scaled = inv_scaling(y_g_train, y_g_scaler)\n",
    "y_test_inv_scaled = inv_scaling(y_g_test, y_g_scaler)\n",
    "model_g.train()\n",
    "for epoch in range(num_epochs):\n",
    "\toptimizer_g.zero_grad()\n",
    "\toutput = model_g(X_g_train)\n",
    "\tloss = criterion_g(output, y_g_train)\n",
    "\tloss.backward()\n",
    "\toptimizer_g.step()\n",
    "\t# validation\n",
    "\tmodel_g.eval()\n",
    "\toutput_inv_scaled = inv_scaling(output, y_g_scaler, True)\n",
    "\tloss_inv_scaled = mean_squared_error(y_train_inv_scaled, output_inv_scaled)\n",
    "\twith torch.no_grad():\n",
    "\t\tpredictions = model_g(X_g_test)\n",
    "\t\tval_loss = criterion_g(predictions, y_g_test)\n",
    "\n",
    "\t\tpredictions_inv_scaled = inv_scaling(predictions, y_g_scaler)\n",
    "\t\tval_loss_inv_scaled = mean_squared_error(y_test_inv_scaled, predictions_inv_scaled)\n",
    "\t\thistory['loss'].append(loss_inv_scaled.item())\n",
    "\t\thistory['val_loss'].append(val_loss_inv_scaled.item())\n",
    "\tprint(f'Epoch {epoch+1}/{num_epochs}, Loss: {loss_inv_scaled.item()}, Val Loss: {val_loss_inv_scaled.item()}')\n",
    "\tmodel_g.train()"
   ]
  },
  {
   "cell_type": "code",
   "execution_count": 32,
   "metadata": {},
   "outputs": [
    {
     "data": {
      "image/png": "[encoded data removed]",
      "text/plain": [
       "<Figure size 1000x500 with 1 Axes>"
      ]
     },
     "metadata": {},
     "output_type": "display_data"
    },
    {
     "name": "stdout",
     "output_type": "stream",
     "text": [
      "MSE: 424.9715576171875 - RMSE: 20.614837646484375 - MAE: 12.630520820617676\n"
     ]
    }
   ],
   "source": [
    "plot_loss(history)\n",
    "evaluate_model(model_g, X_g_test, y_g_test, y_g_scaler)"
   ]
  },
  {
   "cell_type": "code",
   "execution_count": 33,
   "metadata": {},
   "outputs": [],
   "source": [
    "# save model\n",
    "torch.save(model_g, f'{models_folder}/general.pt')"
   ]
  },
  {
   "cell_type": "markdown",
   "metadata": {},
   "source": [
    "## Single Thread"
   ]
  },
  {
   "cell_type": "code",
   "execution_count": 34,
   "metadata": {},
   "outputs": [],
   "source": [
    "input_dim = len(features_st)\n",
    "# hyperparameters\n",
    "if study_st is not None:\n",
    "\tnum_heads = study_st.best_trial.params['num_heads']\n",
    "\tmodel_dim = study_st.best_trial.params['model_dim']\n",
    "\tnum_layers = study_st.best_trial.params['num_layers']\n",
    "\tdropout = study_st.best_trial.params['dropout']\n",
    "\tlr = study_st.best_trial.params['learning_rate']\n",
    "\twd = study_st.best_trial.params['weight_decay']\n",
    "\tnum_epochs = study_st.best_trial.params['num_epochs']\n",
    "else:\n",
    "\tnum_heads = 6\n",
    "\tmodel_dim = 192\n",
    "\tnum_layers = 4\n",
    "\tdropout = 0.3731512093597947\n",
    "\tlr = 0.0027591245533166004\n",
    "\twd = 0.0014100590768903643\n",
    "\tnum_epochs = 78"
   ]
  },
  {
   "cell_type": "code",
   "execution_count": 35,
   "metadata": {},
   "outputs": [
    {
     "name": "stderr",
     "output_type": "stream",
     "text": [
      "/home/frnk65/resource-prediction-study/venv/lib/python3.10/site-packages/torch/nn/modules/transformer.py:286: UserWarning: enable_nested_tensor is True, but self.use_nested_tensor is False because encoder_layer.self_attn.num_heads is odd\n",
      "  warnings.warn(f\"enable_nested_tensor is True, but self.use_nested_tensor is False because {why_not_sparsity_fast_path}\")\n"
     ]
    },
    {
     "name": "stdout",
     "output_type": "stream",
     "text": [
      "Epoch 1/37, Loss: 8557.865234375, Val Loss: 13979.7138671875\n",
      "Epoch 2/37, Loss: 24759.712890625, Val Loss: 2704.58056640625\n",
      "Epoch 3/37, Loss: 6386.5126953125, Val Loss: 4660.21826171875\n",
      "Epoch 4/37, Loss: 2403.241943359375, Val Loss: 13264.2041015625\n",
      "Epoch 5/37, Loss: 9697.4248046875, Val Loss: 10484.1396484375\n",
      "Epoch 6/37, Loss: 8538.3564453125, Val Loss: 3275.246337890625\n",
      "Epoch 7/37, Loss: 2859.981689453125, Val Loss: 865.08740234375\n",
      "Epoch 8/37, Loss: 1135.530029296875, Val Loss: 3480.432373046875\n",
      "Epoch 9/37, Loss: 3646.691162109375, Val Loss: 5641.935546875\n",
      "Epoch 10/37, Loss: 5577.90869140625, Val Loss: 4562.2392578125\n",
      "Epoch 11/37, Loss: 4463.4951171875, Val Loss: 1993.30126953125\n",
      "Epoch 12/37, Loss: 2021.3173828125, Val Loss: 628.386474609375\n",
      "Epoch 13/37, Loss: 737.6653442382812, Val Loss: 1285.443603515625\n",
      "Epoch 14/37, Loss: 1305.6549072265625, Val Loss: 2713.059326171875\n",
      "Epoch 15/37, Loss: 2523.4169921875, Val Loss: 3310.452880859375\n",
      "Epoch 16/37, Loss: 2805.737060546875, Val Loss: 2669.900390625\n",
      "Epoch 17/37, Loss: 2013.3502197265625, Val Loss: 1509.47998046875\n",
      "Epoch 18/37, Loss: 965.5562133789062, Val Loss: 721.6282348632812\n",
      "Epoch 19/37, Loss: 523.2450561523438, Val Loss: 594.3228759765625\n",
      "Epoch 20/37, Loss: 884.3460693359375, Val Loss: 776.46630859375\n",
      "Epoch 21/37, Loss: 1449.3502197265625, Val Loss: 816.135009765625\n",
      "Epoch 22/37, Loss: 1667.8172607421875, Val Loss: 638.3749389648438\n",
      "Epoch 23/37, Loss: 1315.17041015625, Val Loss: 545.5928955078125\n",
      "Epoch 24/37, Loss: 782.594970703125, Val Loss: 849.8365478515625\n",
      "Epoch 25/37, Loss: 492.3623962402344, Val Loss: 1528.9197998046875\n",
      "Epoch 26/37, Loss: 572.9572143554688, Val Loss: 2215.513671875\n",
      "Epoch 27/37, Loss: 872.927490234375, Val Loss: 2486.876220703125\n",
      "Epoch 28/37, Loss: 1027.2845458984375, Val Loss: 2195.68798828125\n",
      "Epoch 29/37, Loss: 899.6196899414062, Val Loss: 1548.9251708984375\n",
      "Epoch 30/37, Loss: 611.3265380859375, Val Loss: 909.8413696289062\n",
      "Epoch 31/37, Loss: 407.9539489746094, Val Loss: 524.5480346679688\n",
      "Epoch 32/37, Loss: 423.3927917480469, Val Loss: 408.3041076660156\n",
      "Epoch 33/37, Loss: 559.3634643554688, Val Loss: 414.1532287597656\n",
      "Epoch 34/37, Loss: 668.082275390625, Val Loss: 410.8728942871094\n",
      "Epoch 35/37, Loss: 638.9342651367188, Val Loss: 387.19891357421875\n",
      "Epoch 36/37, Loss: 495.2076110839844, Val Loss: 414.69305419921875\n",
      "Epoch 37/37, Loss: 383.07562255859375, Val Loss: 538.2899169921875\n"
     ]
    }
   ],
   "source": [
    "# single thread model initialization\n",
    "model_st = TransformerModel(input_dim, model_dim, num_heads, num_layers, 1, dropout)\n",
    "if DEVICE.type == 'cuda':\n",
    "\tmodel_st = model_st.to(DEVICE)\n",
    "criterion_st = nn.MSELoss()\n",
    "optimizer_st = optim.AdamW(model_st.parameters(), lr=lr, weight_decay=wd)\n",
    "\n",
    "history = {\n",
    "\t'loss': [],\n",
    "\t'val_loss': []\n",
    "}\n",
    "\n",
    "y_train_inv_scaled = inv_scaling(y_st_train, y_st_scaler)\n",
    "y_test_inv_scaled = inv_scaling(y_st_test, y_st_scaler)\n",
    "model_st.train()\n",
    "for epoch in range(num_epochs):\n",
    "\toptimizer_st.zero_grad()\n",
    "\toutput = model_st(X_st_train)\n",
    "\tloss = criterion_st(output, y_st_train)\n",
    "\tloss.backward()\n",
    "\toptimizer_st.step()\n",
    "\t# validation\n",
    "\tmodel_st.eval()\n",
    "\toutput_inv_scaled = inv_scaling(output, y_st_scaler, True)\n",
    "\tloss_inv_scaled = mean_squared_error(y_train_inv_scaled, output_inv_scaled)\n",
    "\twith torch.no_grad():\n",
    "\t\tpredictions = model_st(X_st_test)\n",
    "\t\tval_loss = criterion_st(predictions, y_st_test)\n",
    "\n",
    "\t\tpredictions_inv_scaled = inv_scaling(predictions, y_st_scaler)\n",
    "\t\tval_loss_inv_scaled = mean_squared_error(y_test_inv_scaled, predictions_inv_scaled)\n",
    "\t\thistory['loss'].append(loss_inv_scaled.item())\n",
    "\t\thistory['val_loss'].append(val_loss_inv_scaled.item())\n",
    "\tprint(f'Epoch {epoch+1}/{num_epochs}, Loss: {loss_inv_scaled.item()}, Val Loss: {val_loss_inv_scaled.item()}')\n",
    "\tmodel_st.train()"
   ]
  },
  {
   "cell_type": "code",
   "execution_count": 36,
   "metadata": {},
   "outputs": [
    {
     "data": {
      "image/png": "[encoded data removed]",
      "text/plain": [
       "<Figure size 1000x500 with 1 Axes>"
      ]
     },
     "metadata": {},
     "output_type": "display_data"
    },
    {
     "name": "stdout",
     "output_type": "stream",
     "text": [
      "MSE: 538.2899169921875 - RMSE: 23.20107650756836 - MAE: 13.797404289245605\n"
     ]
    }
   ],
   "source": [
    "plot_loss(history)\n",
    "evaluate_model(model_st, X_st_test, y_st_test, y_st_scaler)"
   ]
  },
  {
   "cell_type": "code",
   "execution_count": 37,
   "metadata": {},
   "outputs": [],
   "source": [
    "# save model\n",
    "torch.save(model_st, f'{models_folder}/single_thread.pt')"
   ]
  },
  {
   "cell_type": "markdown",
   "metadata": {},
   "source": [
    "## Multi Thread"
   ]
  },
  {
   "cell_type": "code",
   "execution_count": 38,
   "metadata": {},
   "outputs": [],
   "source": [
    "input_dim = len(features)\n",
    "# hyperparameters\n",
    "if study_mm is not None:\n",
    "\tnum_heads = study_mm.best_trial.params['num_heads']\n",
    "\tmodel_dim = study_mm.best_trial.params['model_dim']\n",
    "\tnum_layers = study_mm.best_trial.params['num_layers']\n",
    "\tdropout = study_mm.best_trial.params['dropout']\n",
    "\tlr = study_mm.best_trial.params['learning_rate']\n",
    "\twd = study_mm.best_trial.params['weight_decay']\n",
    "\tnum_epochs = study_mm.best_trial.params['num_epochs']\n",
    "else:\n",
    "\tnum_heads = 7\n",
    "\tmodel_dim = 413\n",
    "\tnum_layers = 1\n",
    "\tdropout = 0.2897232837483553\n",
    "\tlr = 0.0016919131094273875\n",
    "\twd = 0.0008901136789000729\n",
    "\tnum_epochs = 49"
   ]
  },
  {
   "cell_type": "code",
   "execution_count": 39,
   "metadata": {},
   "outputs": [
    {
     "name": "stdout",
     "output_type": "stream",
     "text": [
      "Epoch 1/24, Loss: 3145.40234375, Val Loss: 99020.9375\n",
      "Epoch 2/24, Loss: 107144.3671875, Val Loss: 13123.1494140625\n",
      "Epoch 3/24, Loss: 20209.16796875, Val Loss: 5859.9833984375\n",
      "Epoch 4/24, Loss: 1619.3367919921875, Val Loss: 26425.3515625\n",
      "Epoch 5/24, Loss: 15136.9248046875, Val Loss: 24876.923828125\n",
      "Epoch 6/24, Loss: 15956.0498046875, Val Loss: 13246.8837890625\n",
      "Epoch 7/24, Loss: 8639.2626953125, Val Loss: 3398.734619140625\n",
      "Epoch 8/24, Loss: 2094.430908203125, Val Loss: 16.1539249420166\n",
      "Epoch 9/24, Loss: 230.30601501464844, Val Loss: 2144.484375\n",
      "Epoch 10/24, Loss: 2619.02001953125, Val Loss: 4516.85009765625\n",
      "Epoch 11/24, Loss: 4992.67041015625, Val Loss: 4483.458984375\n",
      "Epoch 12/24, Loss: 5063.5576171875, Val Loss: 2830.33984375\n",
      "Epoch 13/24, Loss: 3452.9287109375, Val Loss: 1031.3399658203125\n",
      "Epoch 14/24, Loss: 1589.211181640625, Val Loss: 73.44114685058594\n",
      "Epoch 15/24, Loss: 396.2097473144531, Val Loss: 260.1053771972656\n",
      "Epoch 16/24, Loss: 171.23304748535156, Val Loss: 1274.734130859375\n",
      "Epoch 17/24, Loss: 687.21630859375, Val Loss: 2359.578369140625\n",
      "Epoch 18/24, Loss: 1315.81201171875, Val Loss: 2917.906982421875\n",
      "Epoch 19/24, Loss: 1593.912109375, Val Loss: 2836.613037109375\n",
      "Epoch 20/24, Loss: 1461.5589599609375, Val Loss: 2308.198974609375\n",
      "Epoch 21/24, Loss: 1017.3538208007812, Val Loss: 1609.283203125\n",
      "Epoch 22/24, Loss: 557.0227661132812, Val Loss: 956.3286743164062\n",
      "Epoch 23/24, Loss: 210.3300323486328, Val Loss: 471.6776123046875\n",
      "Epoch 24/24, Loss: 89.02703857421875, Val Loss: 185.51397705078125\n"
     ]
    }
   ],
   "source": [
    "# multi thread model initialization\n",
    "model_mm = TransformerModel(input_dim, model_dim, num_heads, num_layers, 1, dropout)\n",
    "if DEVICE.type == 'cuda':\n",
    "\tmodel_mm = model_mm.to(DEVICE)\n",
    "criterion_mm = nn.MSELoss()\n",
    "optimizer_mm = optim.AdamW(model_mm.parameters(), lr=lr, weight_decay=wd)\n",
    "\n",
    "history = {\n",
    "\t'loss': [],\n",
    "\t'val_loss': []\n",
    "}\n",
    "\n",
    "y_train_inv_scaled = inv_scaling(y_mm_train, y_mm_scaler)\n",
    "y_test_inv_scaled = inv_scaling(y_mm_test, y_mm_scaler)\n",
    "model_mm.train()\n",
    "for epoch in range(num_epochs):\n",
    "\toptimizer_mm.zero_grad()\n",
    "\toutput = model_mm(X_mm_train)\n",
    "\tloss = criterion_mm(output, y_mm_train)\n",
    "\tloss.backward()\n",
    "\toptimizer_mm.step()\n",
    "\t# validation\n",
    "\tmodel_mm.eval()\n",
    "\toutput_inv_scaled = inv_scaling(output, y_mm_scaler, True)\n",
    "\tloss_inv_scaled = mean_squared_error(y_train_inv_scaled, output_inv_scaled)\n",
    "\twith torch.no_grad():\n",
    "\t\tpredictions = model_mm(X_mm_test)\n",
    "\t\tval_loss = criterion_mm(predictions, y_mm_test)\n",
    "\n",
    "\t\tpredictions_inv_scaled = inv_scaling(predictions, y_mm_scaler)\n",
    "\t\tval_loss_inv_scaled = mean_squared_error(y_test_inv_scaled, predictions_inv_scaled)\n",
    "\t\thistory['loss'].append(loss_inv_scaled.item())\n",
    "\t\thistory['val_loss'].append(val_loss_inv_scaled.item())\n",
    "\tprint(f'Epoch {epoch+1}/{num_epochs}, Loss: {loss_inv_scaled.item()}, Val Loss: {val_loss_inv_scaled.item()}')\n",
    "\tmodel_mm.train()"
   ]
  },
  {
   "cell_type": "code",
   "execution_count": 40,
   "metadata": {},
   "outputs": [
    {
     "data": {
      "image/png": "[encoded data removed]",
      "text/plain": [
       "<Figure size 1000x500 with 1 Axes>"
      ]
     },
     "metadata": {},
     "output_type": "display_data"
    },
    {
     "name": "stdout",
     "output_type": "stream",
     "text": [
      "MSE: 185.51397705078125 - RMSE: 13.620351791381836 - MAE: 13.199342727661133\n"
     ]
    }
   ],
   "source": [
    "plot_loss(history)\n",
    "evaluate_model(model_mm, X_mm_test, y_mm_test, y_mm_scaler)"
   ]
  },
  {
   "cell_type": "code",
   "execution_count": 41,
   "metadata": {},
   "outputs": [],
   "source": [
    "# save model\n",
    "torch.save(model_mm, f'{models_folder}/multi_thread.pt')"
   ]
  },
  {
   "cell_type": "markdown",
   "metadata": {},
   "source": [
    "# Load models"
   ]
  },
  {
   "cell_type": "code",
   "execution_count": 42,
   "metadata": {},
   "outputs": [],
   "source": [
    "model_g = torch.load(f'{models_folder}/general.pt').to(DEVICE)\n",
    "model_st = torch.load(f'{models_folder}/single_thread.pt').to(DEVICE)\n",
    "model_mm = torch.load(f'{models_folder}/multi_thread.pt').to(DEVICE)"
   ]
  },
  {
   "cell_type": "code",
   "execution_count": 43,
   "metadata": {},
   "outputs": [],
   "source": [
    "# 1 instance prediction\n",
    "def predict(model, X):\n",
    "\tmodel.eval()\n",
    "\twith torch.no_grad():\n",
    "\t\tprediction = model(X)\n",
    "\treturn prediction\n",
    "\n",
    "def describe_val(model, X, y, y_scaler):\n",
    "\tmin_instance = {\"prediction\": float('inf'), \"actual\": 0, \"index\": 0}\n",
    "\tmax_instance = {\"prediction\": 0, \"actual\": 0, \"index\": 0}\n",
    "\t\n",
    "\tpredictions = predict(model, X)\n",
    "\tpredictions = inv_scaling(predictions, y_scaler)\n",
    "\ty_scaled = inv_scaling(y, y_scaler)\n",
    "\tindex_min = np.argmin(np.abs(predictions - y_scaled))\n",
    "\tmin_instance[\"prediction\"] = predictions[index_min].item()\n",
    "\tmin_instance[\"actual\"] = y_scaled[index_min].item()\n",
    "\tmin_instance[\"index\"] = index_min\n",
    "\tindex_max = np.argmax(np.abs(predictions - y_scaled))\n",
    "\tmax_instance[\"prediction\"] = predictions[index_max].item()\n",
    "\tmax_instance[\"actual\"] = y_scaled[index_max].item()\n",
    "\tmax_instance[\"index\"] = index_max\n",
    "\n",
    "\treturn min_instance, max_instance, predictions"
   ]
  },
  {
   "cell_type": "code",
   "execution_count": 44,
   "metadata": {},
   "outputs": [
    {
     "name": "stdout",
     "output_type": "stream",
     "text": [
      "Validation set general model\n",
      "Mean prediction: 25.401153564453125 | Std actual: 13.840083122253418\n",
      "Mean actual: 35.04148483276367 | Std actual: 28.83706283569336\n",
      "Mean Error: 12.630520820617676 | Std Error: 16.292375564575195\n",
      "---\n",
      "Min instance\n",
      "total_time                                                            21.6\n",
      "total_cpu_usage                                                       0.99\n",
      "max_ram_usage                                                    10.207031\n",
      "brand_raw                         Intel(R) Xeon(R) Gold 6330 CPU @ 2.00GHz\n",
      "count                                                                   56\n",
      "l2_cache_size                                                         70.0\n",
      "l3_cache_size                                                         42.0\n",
      "l2_cache_line_size                                                     256\n",
      "l2_cache_associativity                                                   6\n",
      "benchmark                                                         N_Queens\n",
      "ghz_actual_friendly                                                    2.0\n",
      "ghz_advertised_friendly                                                2.0\n",
      "total_time_target                                                    25.02\n",
      "brand_raw_target                       13th Gen Intel(R) Core(TM) i5-1335U\n",
      "count_target                                                            12\n",
      "l2_cache_size_target                                                   7.5\n",
      "l3_cache_size_target                                                  12.0\n",
      "l2_cache_line_size_target                                             1280\n",
      "l2_cache_associativity_target                                            7\n",
      "ghz_advertised_friendly_target                                       2.496\n",
      "Name: 22144, dtype: object\n",
      "Min Prediction: 25.031667709350586 | Actual: 25.020000457763672 | Error: 0.011667251586914062\n",
      "---\n",
      "Max instance\n",
      "total_time                                                          106.93\n",
      "total_cpu_usage                                                       0.99\n",
      "max_ram_usage                                                         15.5\n",
      "brand_raw                         Intel(R) Core(TM) i5-10400 CPU @ 2.90GHz\n",
      "count                                                                   12\n",
      "l2_cache_size                                                          1.5\n",
      "l3_cache_size                                                         12.0\n",
      "l2_cache_line_size                                                     256\n",
      "l2_cache_associativity                                                   6\n",
      "benchmark                                                        N_Queens2\n",
      "ghz_actual_friendly                                                    4.0\n",
      "ghz_advertised_friendly                                                2.9\n",
      "total_time_target                                                   155.04\n",
      "brand_raw_target                       13th Gen Intel(R) Core(TM) i5-1335U\n",
      "count_target                                                            12\n",
      "l2_cache_size_target                                                   7.5\n",
      "l3_cache_size_target                                                  12.0\n",
      "l2_cache_line_size_target                                             1280\n",
      "l2_cache_associativity_target                                            7\n",
      "ghz_advertised_friendly_target                                       2.496\n",
      "Name: 1757, dtype: object\n",
      "Max Prediction: 70.3254165649414 | Actual: 155.0399932861328 | Error: 84.7145767211914\n"
     ]
    }
   ],
   "source": [
    "# general model\n",
    "print(\"Validation set general model\")\n",
    "min_instance, max_instance, predictions = describe_val(model_g, X_g_test, y_g_test, y_g_scaler)\n",
    "y_scaled = inv_scaling(y_g_test, y_g_scaler)\n",
    "errors = np.abs(predictions - y_scaled)\n",
    "mean_error = np.mean(errors)\n",
    "std_error = np.std(errors)\n",
    "\n",
    "print(f\"Mean prediction: {np.mean(predictions)} | Std actual: {np.std(predictions)}\")\n",
    "print(f\"Mean actual: {np.mean(y_scaled)} | Std actual: {np.std(y_scaled)}\")\n",
    "print(f\"Mean Error: {mean_error} | Std Error: {std_error}\")\n",
    "print(\"---\")\n",
    "print(\"Min instance\")\n",
    "print(g_test.iloc[min_instance[\"index\"]])\n",
    "print(f\"Min Prediction: {min_instance['prediction']} | Actual: {min_instance['actual']} | Error: {abs(min_instance['prediction'] - min_instance['actual'])}\")\n",
    "print(\"---\")\n",
    "print(\"Max instance\")\n",
    "print(g_test.iloc[max_instance[\"index\"]])\n",
    "print(f\"Max Prediction: {max_instance['prediction']} | Actual: {max_instance['actual']} | Error: {abs(max_instance['prediction'] - max_instance['actual'])}\")"
   ]
  },
  {
   "cell_type": "code",
   "execution_count": 45,
   "metadata": {},
   "outputs": [
    {
     "name": "stdout",
     "output_type": "stream",
     "text": [
      "Validation set single thread model\n",
      "Mean prediction: 21.995832443237305 | Std actual: 13.45119857788086\n",
      "Mean actual: 34.75261306762695 | Std actual: 31.49396324157715\n",
      "Mean Error: 13.797404289245605 | Std Error: 18.65265655517578\n",
      "Min instance\n",
      "total_time                                                           17.91\n",
      "total_cpu_usage                                                       0.99\n",
      "max_ram_usage                                                  1435.503906\n",
      "brand_raw                         Intel(R) Core(TM) i5-8300H CPU @ 2.30GHz\n",
      "count                                                                    8\n",
      "l2_cache_size                                                          1.0\n",
      "l3_cache_size                                                          8.0\n",
      "l2_cache_line_size                                                     256\n",
      "l2_cache_associativity                                                   6\n",
      "benchmark                                                              KNP\n",
      "ghz_actual_friendly                                                  2.304\n",
      "ghz_advertised_friendly                                                2.3\n",
      "total_time_target                                                    18.11\n",
      "brand_raw_target                       13th Gen Intel(R) Core(TM) i5-1335U\n",
      "count_target                                                            12\n",
      "l2_cache_size_target                                                   7.5\n",
      "l3_cache_size_target                                                  12.0\n",
      "l2_cache_line_size_target                                             1280\n",
      "l2_cache_associativity_target                                            7\n",
      "ghz_advertised_friendly_target                                       2.496\n",
      "Name: 8428, dtype: object\n",
      "Min Prediction: 18.14997673034668 | Actual: 18.110000610351562 | Error: 0.03997611999511719\n",
      "---\n",
      "Max instance\n",
      "total_time                                                      109.16\n",
      "total_cpu_usage                                                    1.0\n",
      "max_ram_usage                                                15.601562\n",
      "brand_raw                         12th Gen Intel(R) Core(TM) i5-12400F\n",
      "count                                                               12\n",
      "l2_cache_size                                                      7.5\n",
      "l3_cache_size                                                     18.0\n",
      "l2_cache_line_size                                                1280\n",
      "l2_cache_associativity                                               7\n",
      "benchmark                                                    N_Queens2\n",
      "ghz_actual_friendly                                              2.496\n",
      "ghz_advertised_friendly                                          2.496\n",
      "total_time_target                                               155.04\n",
      "brand_raw_target                   13th Gen Intel(R) Core(TM) i5-1335U\n",
      "count_target                                                        12\n",
      "l2_cache_size_target                                               7.5\n",
      "l3_cache_size_target                                              12.0\n",
      "l2_cache_line_size_target                                         1280\n",
      "l2_cache_associativity_target                                        7\n",
      "ghz_advertised_friendly_target                                   2.496\n",
      "Name: 6002, dtype: object\n",
      "Max Prediction: 58.55861282348633 | Actual: 155.0399932861328 | Error: 96.48138046264648\n"
     ]
    }
   ],
   "source": [
    "# single thread model\n",
    "print(\"Validation set single thread model\")\n",
    "min_instance, max_instance, predictions = describe_val(model_st, X_st_test, y_st_test, y_st_scaler)\n",
    "y_scaled = inv_scaling(y_st_test, y_st_scaler)\n",
    "errors = np.abs(predictions - y_scaled)\n",
    "mean_error = np.mean(errors)\n",
    "std_error = np.std(errors)\n",
    "\n",
    "print(f\"Mean prediction: {np.mean(predictions)} | Std actual: {np.std(predictions)}\")\n",
    "print(f\"Mean actual: {np.mean(y_scaled)} | Std actual: {np.std(y_scaled)}\")\n",
    "print(f\"Mean Error: {mean_error} | Std Error: {std_error}\")\n",
    "print(\"Min instance\")\n",
    "print(st_test.iloc[min_instance[\"index\"]])\n",
    "print(f\"Min Prediction: {min_instance['prediction']} | Actual: {min_instance['actual']} | Error: {abs(min_instance['prediction'] - min_instance['actual'])}\")\n",
    "print(\"---\")\n",
    "print(\"Max instance\")\n",
    "print(st_test.iloc[max_instance[\"index\"]])\n",
    "print(f\"Max Prediction: {max_instance['prediction']} | Actual: {max_instance['actual']} | Error: {abs(max_instance['prediction'] - max_instance['actual'])}\")"
   ]
  },
  {
   "cell_type": "code",
   "execution_count": 46,
   "metadata": {},
   "outputs": [
    {
     "name": "stdout",
     "output_type": "stream",
     "text": [
      "Validation set multi thread model\n",
      "Mean prediction: 23.33465576171875 | Std actual: 3.2491378784179688\n",
      "Mean actual: 36.53400421142578 | Std actual: 0.8569860458374023\n",
      "Mean Error: 13.199342727661133 | Std Error: 3.3602561950683594\n",
      "Min instance\n",
      "total_time                                                                 25.97\n",
      "total_cpu_usage                                                              6.8\n",
      "max_ram_usage                                                         2352.96875\n",
      "brand_raw                         11th Gen Intel(R) Core(TM) i5-1135G7 @ 2.40GHz\n",
      "count                                                                          8\n",
      "l2_cache_size                                                                5.0\n",
      "l3_cache_size                                                                8.0\n",
      "l2_cache_line_size                                                           256\n",
      "l2_cache_associativity                                                         7\n",
      "benchmark                                                            MATRIX_MULT\n",
      "ghz_actual_friendly                                                       2.4192\n",
      "ghz_advertised_friendly                                                      2.4\n",
      "total_time_target                                                          35.58\n",
      "brand_raw_target                             13th Gen Intel(R) Core(TM) i5-1335U\n",
      "count_target                                                                  12\n",
      "l2_cache_size_target                                                         7.5\n",
      "l3_cache_size_target                                                        12.0\n",
      "l2_cache_line_size_target                                                   1280\n",
      "l2_cache_associativity_target                                                  7\n",
      "ghz_advertised_friendly_target                                             2.496\n",
      "Name: 7159, dtype: object\n",
      "Min Prediction: 30.009796142578125 | Actual: 35.57999801635742 | Error: 5.570201873779297\n",
      "---\n",
      "Max instance\n",
      "total_time                                                            23.83\n",
      "total_cpu_usage                                                        1.92\n",
      "max_ram_usage                                                   2332.710938\n",
      "brand_raw                         Intel(R) Xeon(R) CPU E5-2623 v3 @ 3.00GHz\n",
      "count                                                                     8\n",
      "l2_cache_size                                                           2.0\n",
      "l3_cache_size                                                          10.0\n",
      "l2_cache_line_size                                                      256\n",
      "l2_cache_associativity                                                    6\n",
      "benchmark                                                       MATRIX_MULT\n",
      "ghz_actual_friendly                                                     1.5\n",
      "ghz_advertised_friendly                                                 3.0\n",
      "total_time_target                                                     38.02\n",
      "brand_raw_target                        13th Gen Intel(R) Core(TM) i5-1335U\n",
      "count_target                                                             12\n",
      "l2_cache_size_target                                                    7.5\n",
      "l3_cache_size_target                                                   12.0\n",
      "l2_cache_line_size_target                                              1280\n",
      "l2_cache_associativity_target                                             7\n",
      "ghz_advertised_friendly_target                                        2.496\n",
      "Name: 15250, dtype: object\n",
      "Max Prediction: 18.130664825439453 | Actual: 38.02000045776367 | Error: 19.88933563232422\n"
     ]
    }
   ],
   "source": [
    "# multi thread model\n",
    "print(\"Validation set multi thread model\")\n",
    "min_instance, max_instance, predictions = describe_val(model_mm, X_mm_test, y_mm_test, y_mm_scaler)\n",
    "y_scaled = inv_scaling(y_mm_test, y_mm_scaler)\n",
    "errors = np.abs(predictions - y_scaled)\n",
    "mean_error = np.mean(errors)\n",
    "std_error = np.std(errors)\n",
    "\n",
    "print(f\"Mean prediction: {np.mean(predictions)} | Std actual: {np.std(predictions)}\")\n",
    "print(f\"Mean actual: {np.mean(y_scaled)} | Std actual: {np.std(y_scaled)}\")\n",
    "print(f\"Mean Error: {mean_error} | Std Error: {std_error}\")\n",
    "print(\"Min instance\")\n",
    "print(mm_test.iloc[min_instance[\"index\"]])\n",
    "print(f\"Min Prediction: {min_instance['prediction']} | Actual: {min_instance['actual']} | Error: {abs(min_instance['prediction'] - min_instance['actual'])}\")\n",
    "print(\"---\")\n",
    "print(\"Max instance\")\n",
    "print(mm_test.iloc[max_instance[\"index\"]])\n",
    "print(f\"Max Prediction: {max_instance['prediction']} | Actual: {max_instance['actual']} | Error: {abs(max_instance['prediction'] - max_instance['actual'])}\")"
   ]
  },
  {
   "cell_type": "code",
   "execution_count": null,
   "metadata": {},
   "outputs": [],
   "source": []
  }
 ],
 "metadata": {
  "kernelspec": {
   "display_name": "venv",
   "language": "python",
   "name": "python3"
  },
  "language_info": {
   "codemirror_mode": {
    "name": "ipython",
    "version": 3
   },
   "file_extension": ".py",
   "mimetype": "text/x-python",
   "name": "python",
   "nbconvert_exporter": "python",
   "pygments_lexer": "ipython3",
   "version": "3.10.13"
  }
 },
 "nbformat": 4,
 "nbformat_minor": 2
}
