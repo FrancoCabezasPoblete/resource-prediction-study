{
 "cells": [
  {
   "cell_type": "code",
   "execution_count": 16,
   "metadata": {},
   "outputs": [],
   "source": [
    "import optuna\n",
    "from optuna.samplers import TPESampler\n",
    "import torch\n",
    "import torch.nn as nn\n",
    "import torch.optim as optim\n",
    "from torch.utils.data import DataLoader, TensorDataset\n",
    "import pandas as pd\n",
    "import numpy as np\n",
    "from sklearn.preprocessing import MinMaxScaler\n",
    "import random\n",
    "import matplotlib.pyplot as plt\n",
    "import os\n",
    "from joblib import dump\n",
    "\n",
    "# CUDA\n",
    "DEVICE = torch.device('cuda' if torch.cuda.is_available() else 'cpu')\n",
    "DEVICE.type\n",
    "\n",
    "# Fix random seed\n",
    "seed = 42\n",
    "torch.manual_seed(seed)\n",
    "if DEVICE.type == 'cuda':\n",
    "\ttorch.cuda.manual_seed(seed)\n",
    "np.random.seed(seed)\n",
    "random.seed(seed)\n",
    "sampler = TPESampler(seed=seed)\n",
    "\n",
    "torch.backends.cudnn.deterministic = True\n",
    "torch.backends.cudnn.benchmark = False\n",
    "\n",
    "optuna.logging.set_verbosity(optuna.logging.WARNING)\n",
    "\n",
    "HYPERPARAMETERS_SEARCH = False"
   ]
  },
  {
   "cell_type": "markdown",
   "metadata": {},
   "source": [
    "# Pre-processing input data"
   ]
  },
  {
   "cell_type": "code",
   "execution_count": 17,
   "metadata": {},
   "outputs": [],
   "source": [
    "# train_df and test_df are created in eda notebook\n",
    "if not os.path.exists('csv/train_df.csv') or not os.path.exists('csv/test_df.csv'):\n",
    "\tprint('Please run the eda notebook first')\n",
    "\texit()\n",
    "train_df = pd.read_csv('csv/train_df.csv')\n",
    "test_df = pd.read_csv('csv/test_df.csv')\n",
    "target = 'total_time_target'\n",
    "features = test_df.columns.copy().drop(target).drop(['benchmark','brand_raw', 'brand_raw_target','vendor_id_raw', 'arch'])\n",
    "\n",
    "# log for total_times\n",
    "train_df[[target, 'total_time']] = np.log1p(train_df[[target, 'total_time']])\n",
    "test_df[[target, 'total_time']] = np.log1p(test_df[[target, 'total_time']])\n",
    "\n",
    "# Split data\n",
    "X_train = train_df[features]\n",
    "y_train = train_df[target]\n",
    "\n",
    "X_test = test_df[features]\n",
    "y_test = test_df[target]\n",
    "\n",
    "# Normalize data\n",
    "x_scaler = MinMaxScaler(feature_range=(0, 1))\n",
    "X_train = x_scaler.fit_transform(X_train)\n",
    "X_test = x_scaler.transform(X_test)\n",
    "y_scaler = MinMaxScaler(feature_range=(0, 1))\n",
    "y_train = y_scaler.fit_transform(y_train.values.reshape(-1, 1))\n",
    "y_test = y_scaler.transform(y_test.values.reshape(-1, 1))\n",
    "\n",
    "# Convert to tensor\n",
    "X_train = torch.tensor(X_train, dtype=torch.float32)\n",
    "X_test = torch.tensor(X_test, dtype=torch.float32)\n",
    "y_train = torch.tensor(y_train, dtype=torch.float32)\n",
    "y_test = torch.tensor(y_test, dtype=torch.float32)\n",
    "\n",
    "if DEVICE.type == 'cuda':\n",
    "\tX_train = X_train.to(DEVICE)\n",
    "\ty_train = y_train.to(DEVICE)\n",
    "\tX_test = X_test.to(DEVICE)\n",
    "\ty_test = y_test.to(DEVICE)"
   ]
  },
  {
   "cell_type": "code",
   "execution_count": 18,
   "metadata": {},
   "outputs": [],
   "source": [
    "if not os.path.exists('../models/x_scaler.joblib') or not os.path.exists('../models/y_scaler.joblib'):\n",
    "\tdump(x_scaler, '../models/x_scaler.joblib')\n",
    "\tdump(y_scaler, '../models/y_scaler.joblib')"
   ]
  },
  {
   "cell_type": "markdown",
   "metadata": {},
   "source": [
    "# Model: Feedforward Neural Network"
   ]
  },
  {
   "cell_type": "code",
   "execution_count": 19,
   "metadata": {},
   "outputs": [],
   "source": [
    "class History:\n",
    "\tdef __init__(self):\n",
    "\t\tself.loss = []\n",
    "\t\tself.val_loss = []\n",
    "\t\n",
    "\tdef append(self, loss, val_loss):\n",
    "\t\tself.loss.append(loss)\n",
    "\t\tself.val_loss.append(val_loss)\n",
    "\n",
    "def inv_scaling(y, y_scaler, d=False):\n",
    "    if d:\n",
    "        return y_scaler.inverse_transform(y.detach().cpu().numpy().reshape(-1, 1))\n",
    "    return y_scaler.inverse_transform(y.cpu().numpy().reshape(-1, 1))"
   ]
  },
  {
   "cell_type": "code",
   "execution_count": 20,
   "metadata": {},
   "outputs": [],
   "source": [
    "class FeedforwardModel(nn.Module):\n",
    "\tdef __init__(self, input_dim, dropout=0.1):\n",
    "\t\tsuper(FeedforwardModel, self).__init__()\n",
    "\t\t# layers\n",
    "\t\tself.model = nn.Sequential(\n",
    "            nn.Linear(input_dim, 64),\n",
    "            nn.ReLU(),\n",
    "            nn.Dropout(p=dropout),\n",
    "\t\t\tnn.Linear(64, 32),\n",
    "\t\t\tnn.ReLU(),\n",
    "\t\t\tnn.Dropout(p=dropout),\n",
    "            nn.Linear(32, 1),\n",
    "        )\n",
    "\t\n",
    "\tdef forward(self, x):\n",
    "\t\treturn self.model(x)\n",
    "\t\n",
    "\tdef fit(self, X_train, y_train, X_test, y_test, epochs=100, batch_size=32, learning_rate=0.0002, verbose=True, patience=10):\n",
    "\t\ttrain_data = TensorDataset(X_train, y_train)\n",
    "\t\ttest_data = TensorDataset(X_test, y_test)\n",
    "\t\ttrain_loader = DataLoader(dataset=train_data, batch_size=batch_size, shuffle=True)\n",
    "\t\ttest_loader = DataLoader(dataset=test_data, batch_size=batch_size, shuffle=False)\n",
    "\n",
    "\t\tbest_val_loss = np.inf\n",
    "\t\tepoch_no_improve = 0\n",
    "\t\tbest_model_state = None\n",
    "\t\toptimizer = optim.Adam(self.parameters(), lr=learning_rate)\n",
    "\t\tcriterion = nn.MSELoss()\n",
    "\t\thistory = History()\n",
    "\n",
    "\t\tfor epoch in range(epochs):\n",
    "\t\t\tself.train()\n",
    "\t\t\ttotal_loss = 0\n",
    "\t\t\tfor batch_X, batch_y in train_loader:\n",
    "\t\t\t\toptimizer.zero_grad()\n",
    "\t\t\t\toutput = self(batch_X)\n",
    "\t\t\t\tloss = torch.sqrt(criterion(output, batch_y))\n",
    "\t\t\t\tloss.backward()\n",
    "\t\t\t\toptimizer.step()\n",
    "\t\t\t\ttotal_loss += loss.item()\n",
    "\t\t\tavg_loss = total_loss / len(train_loader)\n",
    "\n",
    "\t\t\tself.eval()\n",
    "\t\t\ttotal_val_loss = 0\n",
    "\t\t\twith torch.no_grad():\n",
    "\t\t\t\tfor batch_X, batch_y in test_loader:\n",
    "\t\t\t\t\toutput = self(batch_X)\n",
    "\t\t\t\t\tval_loss = torch.sqrt(criterion(output, batch_y))\n",
    "\t\t\t\t\ttotal_val_loss += val_loss.item()\n",
    "\t\t\t\tavg_val_loss = total_val_loss / len(test_loader)\n",
    "\t\t\t\n",
    "\t\t\tif verbose:\n",
    "\t\t\t\tprint(f\"Epoch: {epoch+1} - Loss: {avg_loss} - Val Loss: {avg_val_loss}\")\n",
    "\n",
    "\t\t\t# Early stopping\n",
    "\t\t\tif avg_val_loss < best_val_loss:\n",
    "\t\t\t\tbest_val_loss = avg_val_loss\n",
    "\t\t\t\tbest_model_state = self.state_dict()\n",
    "\t\t\t\tepoch_no_improve = 0\n",
    "\t\t\telse:\n",
    "\t\t\t\tepoch_no_improve += 1\n",
    "\t\t\t\tif epoch_no_improve >= patience:\n",
    "\t\t\t\t\tprint(f\"Early stopping at epoch {epoch+1}\")\n",
    "\t\t\t\t\tbreak\n",
    "\t\t\thistory.append(avg_loss, avg_val_loss)\n",
    "\t\t\n",
    "\t\tif best_model_state is not None:\n",
    "\t\t\tself.load_state_dict(best_model_state)\n",
    "\t\t\n",
    "\t\treturn history\n",
    "\n",
    "\tdef predict(model, X):\n",
    "\t\tmodel.eval()\n",
    "\t\twith torch.no_grad():\n",
    "\t\t\tprediction = model(X)\n",
    "\t\treturn prediction"
   ]
  },
  {
   "cell_type": "markdown",
   "metadata": {},
   "source": [
    "# Hyperparameters Optimization"
   ]
  },
  {
   "cell_type": "code",
   "execution_count": 21,
   "metadata": {},
   "outputs": [],
   "source": [
    "def objective(trial: optuna.Trial, X_train, y_train, X_test, y_test, input_dim):\n",
    "\tdropout = trial.suggest_float('dropout', 0.1, 0.5)\n",
    "\tlearning_rate = trial.suggest_float('learning_rate', 1e-5, 1e-2, log=True)\n",
    "\tnum_epochs = trial.suggest_int('num_epochs', 10, 100)\n",
    "\n",
    "\t# Model initialization \n",
    "\tmodel = FeedforwardModel(input_dim, dropout)\n",
    "\tif DEVICE.type == 'cuda':\n",
    "\t\tmodel = model.to(DEVICE)\n",
    "\t# Fit model\n",
    "\thistory = model.fit(X_train, y_train, X_test, y_test, epochs=num_epochs, learning_rate=learning_rate)\n",
    "\tloss = history.loss[-1]\n",
    "\tval_loss = history.val_loss[-1]\n",
    "\tprint(f\"Trial: {trial.number} - RMSE Loss: {loss} - RMSE Val Loss: {val_loss} - epochs: {len(history.loss)}\")\n",
    "\treturn val_loss.item()\n",
    "\n",
    "n_trials = 250\n",
    "study = None"
   ]
  },
  {
   "cell_type": "code",
   "execution_count": 22,
   "metadata": {},
   "outputs": [],
   "source": [
    "if HYPERPARAMETERS_SEARCH:\n",
    "\tstudy = optuna.create_study(direction='minimize', sampler=sampler)\n",
    "\tstudy.optimize(lambda trial: objective(trial, X_train, y_train, X_test, y_test, len(features)), n_trials=n_trials)"
   ]
  },
  {
   "cell_type": "code",
   "execution_count": 23,
   "metadata": {},
   "outputs": [],
   "source": [
    "if study is not None:\n",
    "\tprint(f'Number of trials: {len(study.trials)}')\n",
    "\ttrial = study.best_trial\n",
    "\tprint(f'Best trial: {trial.number}')\n",
    "\tprint(f'Best params: {trial.params}')\n",
    "\tprint(f'Best validation loss: {y_scaler.inverse_transform(np.reshape(trial.value, (-1,1))).item()}')"
   ]
  },
  {
   "cell_type": "markdown",
   "metadata": {},
   "source": [
    "# Training"
   ]
  },
  {
   "cell_type": "code",
   "execution_count": 24,
   "metadata": {},
   "outputs": [],
   "source": [
    "# hyperparameters\n",
    "if study is not None:\n",
    "\tdropout = study.best_trial.params['dropout']\n",
    "\tlr = study.best_trial.params['learning_rate']\n",
    "\tnum_epochs = study.best_trial.params['num_epochs']\n",
    "else:\n",
    "\tdropout = 0.1\n",
    "\tlr = 0.0002\n",
    "\tnum_epochs = 100"
   ]
  },
  {
   "cell_type": "code",
   "execution_count": 25,
   "metadata": {},
   "outputs": [
    {
     "name": "stdout",
     "output_type": "stream",
     "text": [
      "Epoch: 1 - Loss: 0.10243304407330263 - Val Loss: 0.021252001999335832\n",
      "Epoch: 2 - Loss: 0.04918321090640108 - Val Loss: 0.01854465267003518\n",
      "Epoch: 3 - Loss: 0.04063648032024503 - Val Loss: 0.01569947765961634\n",
      "Epoch: 4 - Loss: 0.035168558112018855 - Val Loss: 0.015239980886690319\n",
      "Epoch: 5 - Loss: 0.032394609423231725 - Val Loss: 0.01523231840148847\n",
      "Epoch: 6 - Loss: 0.03044071566444217 - Val Loss: 0.013385610762134292\n",
      "Epoch: 7 - Loss: 0.028943211161899136 - Val Loss: 0.0134651750041016\n",
      "Epoch: 8 - Loss: 0.0279680768062622 - Val Loss: 0.012484736151845576\n",
      "Epoch: 9 - Loss: 0.027290426414223027 - Val Loss: 0.012397383459195463\n",
      "Epoch: 10 - Loss: 0.0266681203292887 - Val Loss: 0.013074496752758909\n",
      "Epoch: 11 - Loss: 0.02650026807749415 - Val Loss: 0.012171522717787535\n",
      "Epoch: 12 - Loss: 0.026084149744986605 - Val Loss: 0.011639252340416979\n",
      "Epoch: 13 - Loss: 0.02588854607127264 - Val Loss: 0.011830773079944241\n",
      "Epoch: 14 - Loss: 0.025586754577887946 - Val Loss: 0.011575775770757692\n",
      "Epoch: 15 - Loss: 0.025368077304161137 - Val Loss: 0.011161922514623253\n",
      "Epoch: 16 - Loss: 0.025252520791949343 - Val Loss: 0.011809461558799748\n",
      "Epoch: 17 - Loss: 0.0251270674859386 - Val Loss: 0.011869957633131893\n",
      "Epoch: 18 - Loss: 0.025162787648967646 - Val Loss: 0.012292349793115376\n",
      "Epoch: 19 - Loss: 0.02510397048593548 - Val Loss: 0.012431916449473359\n",
      "Epoch: 20 - Loss: 0.024889125724592686 - Val Loss: 0.011009530071733265\n",
      "Epoch: 21 - Loss: 0.024881260359778248 - Val Loss: 0.012633317824051046\n",
      "Epoch: 22 - Loss: 0.0245938351630078 - Val Loss: 0.01202777604108865\n",
      "Epoch: 23 - Loss: 0.024484544550272914 - Val Loss: 0.011697459008979574\n",
      "Epoch: 24 - Loss: 0.024519998920272644 - Val Loss: 0.012816369747907121\n",
      "Epoch: 25 - Loss: 0.02450545474972674 - Val Loss: 0.012464413757842149\n",
      "Epoch: 26 - Loss: 0.0242077607728884 - Val Loss: 0.011162409269648895\n",
      "Epoch: 27 - Loss: 0.02426041679593669 - Val Loss: 0.011847643444770004\n",
      "Epoch: 28 - Loss: 0.024147269883287026 - Val Loss: 0.011388502259623866\n",
      "Epoch: 29 - Loss: 0.024172899029891642 - Val Loss: 0.0116049542890796\n",
      "Epoch: 30 - Loss: 0.02406945273335288 - Val Loss: 0.011752409427139563\n",
      "Early stopping at epoch 30\n"
     ]
    }
   ],
   "source": [
    "# Model initialization\n",
    "model = FeedforwardModel(len(features), dropout)\n",
    "if DEVICE.type == 'cuda':\n",
    "\tmodel = model.to(DEVICE)\n",
    "# Fit model\n",
    "history = model.fit(X_train, y_train, X_test, y_test, epochs=num_epochs, learning_rate=lr)\n",
    "loss = history.loss[-1]\n",
    "val_loss = history.val_loss[-1]"
   ]
  },
  {
   "cell_type": "code",
   "execution_count": 26,
   "metadata": {},
   "outputs": [
    {
     "data": {
      "image/png": "[encoded data removed]",
      "text/plain": [
       "<Figure size 1000x500 with 1 Axes>"
      ]
     },
     "metadata": {},
     "output_type": "display_data"
    }
   ],
   "source": [
    "# Plot loss\n",
    "plt.figure(figsize=(10, 5))\n",
    "plt.plot(history.loss, label='Train Loss')\n",
    "plt.plot(history.val_loss, label='Validation Loss')\n",
    "plt.title('Train and Validation Loss')\n",
    "plt.xlabel('Epoch')\n",
    "plt.ylabel('RMSE Loss')\n",
    "plt.legend()\n",
    "plt.show()"
   ]
  },
  {
   "cell_type": "code",
   "execution_count": 27,
   "metadata": {},
   "outputs": [],
   "source": [
    "# save model\n",
    "torch.save(model, '../models/feedforward_model.pt')"
   ]
  },
  {
   "cell_type": "markdown",
   "metadata": {},
   "source": [
    "# Describe Validation"
   ]
  },
  {
   "cell_type": "code",
   "execution_count": 28,
   "metadata": {},
   "outputs": [],
   "source": [
    "model = torch.load('../models/feedforward_model.pt').to(DEVICE)"
   ]
  },
  {
   "cell_type": "code",
   "execution_count": 29,
   "metadata": {},
   "outputs": [],
   "source": [
    "def describe_val(model, X, y, y_scaler):\n",
    "\tmin_instance = {\"prediction\": float('inf'), \"actual\": 0, \"index\": 0}\n",
    "\tmax_instance = {\"prediction\": 0, \"actual\": 0, \"index\": 0}\n",
    "\tpredictions = model.predict(X)\n",
    "\tpredictions = np.expm1(inv_scaling(predictions, y_scaler))\n",
    "\ty_scaled = np.expm1(inv_scaling(y, y_scaler))\n",
    "\tindex_min = np.argmin(np.abs(predictions - y_scaled))\n",
    "\tmin_instance[\"prediction\"] = predictions[index_min].item()\n",
    "\tmin_instance[\"actual\"] = y_scaled[index_min].item()\n",
    "\tmin_instance[\"index\"] = index_min\n",
    "\tindex_max = np.argmax(np.abs(predictions - y_scaled))\n",
    "\tmax_instance[\"prediction\"] = predictions[index_max].item()\n",
    "\tmax_instance[\"actual\"] = y_scaled[index_max].item()\n",
    "\tmax_instance[\"index\"] = index_max\n",
    "\n",
    "\treturn min_instance, max_instance, predictions"
   ]
  },
  {
   "cell_type": "code",
   "execution_count": 30,
   "metadata": {},
   "outputs": [
    {
     "name": "stdout",
     "output_type": "stream",
     "text": [
      "Validation set single thread model\n",
      "Mean prediction: 15.926877975463867 | Std actual: 25.24437141418457\n",
      "Mean actual: 16.002458572387695 | Std actual: 23.942981719970703\n",
      "Mean Error: 1.4243144989013672 | Std Error: 3.5907297134399414\n",
      "Min instance\n",
      "total_time                                                         0.530628\n",
      "total_cpu_usage                                                        0.99\n",
      "max_ram_usage                                                     13.773438\n",
      "brand_raw                         Intel(R) Xeon(R) CPU E5-2643 v3 @ 3.40GHz\n",
      "vendor_id_raw                                                  GenuineIntel\n",
      "arch                                                                 X86_64\n",
      "count                                                                    12\n",
      "l2_cache_size                                                           3.0\n",
      "l3_cache_size                                                          20.0\n",
      "l2_cache_line_size                                                      256\n",
      "l2_cache_associativity                                                    6\n",
      "benchmark                                            KNPS_FILE_2_1000_10000\n",
      "ghz_actual_friendly                                                     3.7\n",
      "ghz_advertised_friendly                                                 3.4\n",
      "score                                                                  2099\n",
      "total_time_target                                                  0.463734\n",
      "brand_raw_target                   Intel(R) Xeon(R) Gold 6130 CPU @ 2.10GHz\n",
      "l2_cache_size_target                                                   32.0\n",
      "l3_cache_size_target                                                   22.0\n",
      "l2_cache_line_size_target                                               256\n",
      "l2_cache_associativity_target                                             6\n",
      "ghz_advertised_friendly_target                                          2.1\n",
      "score_target                                                           1880\n",
      "rss                                                                0.425781\n",
      "vms                                                               35.898438\n",
      "shared                                                             0.371094\n",
      "text                                                               0.027344\n",
      "data                                                               0.773438\n",
      "Name: 5341, dtype: object\n",
      "Min Prediction: 0.5894622802734375 | Actual: 0.5900000333786011 | Error: 0.0005377531051635742\n",
      "---\n",
      "Max instance\n",
      "total_time                                                        5.652173\n",
      "total_cpu_usage                                                       0.99\n",
      "max_ram_usage                                                         74.5\n",
      "brand_raw                         Intel(R) Core(TM) i5-10400 CPU @ 2.90GHz\n",
      "vendor_id_raw                                                 GenuineIntel\n",
      "arch                                                                X86_64\n",
      "count                                                                   12\n",
      "l2_cache_size                                                          1.5\n",
      "l3_cache_size                                                         12.0\n",
      "l2_cache_line_size                                                     256\n",
      "l2_cache_associativity                                                   6\n",
      "benchmark                                                  MATRIX_MULT_ST7\n",
      "ghz_actual_friendly                                                 4.0987\n",
      "ghz_advertised_friendly                                                2.9\n",
      "score                                                                 2589\n",
      "total_time_target                                                 5.501299\n",
      "brand_raw_target                  Intel(R) Xeon(R) Gold 6330 CPU @ 2.00GHz\n",
      "l2_cache_size_target                                                  70.0\n",
      "l3_cache_size_target                                                  42.0\n",
      "l2_cache_line_size_target                                              256\n",
      "l2_cache_associativity_target                                            6\n",
      "ghz_advertised_friendly_target                                         2.0\n",
      "score_target                                                          2034\n",
      "rss                                                              73.708777\n",
      "vms                                                              76.513215\n",
      "shared                                                            2.474734\n",
      "text                                                              0.007812\n",
      "data                                                             71.394157\n",
      "Name: 3572, dtype: object\n",
      "Max Prediction: 297.7536315917969 | Actual: 244.0099639892578 | Error: 53.74366760253906\n"
     ]
    }
   ],
   "source": [
    "print(\"Validation set single thread model\")\n",
    "min_instance, max_instance, predictions = describe_val(model, X_test, y_test, y_scaler)\n",
    "y_scaled = np.expm1(inv_scaling(y_test, y_scaler))\n",
    "errors = np.abs(predictions - y_scaled)\n",
    "mean_error = np.mean(errors)\n",
    "std_error = np.std(errors)\n",
    "\n",
    "print(f\"Mean prediction: {np.mean(predictions)} | Std actual: {np.std(predictions)}\")\n",
    "print(f\"Mean actual: {np.mean(y_scaled)} | Std actual: {np.std(y_scaled)}\")\n",
    "print(f\"Mean Error: {mean_error} | Std Error: {std_error}\")\n",
    "print(\"Min instance\")\n",
    "print(test_df.iloc[min_instance[\"index\"]])\n",
    "print(f\"Min Prediction: {min_instance['prediction']} | Actual: {min_instance['actual']} | Error: {abs(min_instance['prediction'] - min_instance['actual'])}\")\n",
    "print(\"---\")\n",
    "print(\"Max instance\")\n",
    "print(test_df.iloc[max_instance[\"index\"]])\n",
    "print(f\"Max Prediction: {max_instance['prediction']} | Actual: {max_instance['actual']} | Error: {abs(max_instance['prediction'] - max_instance['actual'])}\")"
   ]
  }
 ],
 "metadata": {
  "kernelspec": {
   "display_name": "venv",
   "language": "python",
   "name": "python3"
  },
  "language_info": {
   "codemirror_mode": {
    "name": "ipython",
    "version": 3
   },
   "file_extension": ".py",
   "mimetype": "text/x-python",
   "name": "python",
   "nbconvert_exporter": "python",
   "pygments_lexer": "ipython3",
   "version": "3.10.13"
  }
 },
 "nbformat": 4,
 "nbformat_minor": 2
}
