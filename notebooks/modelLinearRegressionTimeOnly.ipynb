{
 "cells": [
  {
   "cell_type": "code",
   "execution_count": 1,
   "metadata": {},
   "outputs": [],
   "source": [
    "import pandas as pd\n",
    "import numpy as np\n",
    "from sklearn.linear_model import LinearRegression\n",
    "from sklearn.preprocessing import MinMaxScaler\n",
    "from sklearn.metrics import mean_squared_error\n",
    "import random\n",
    "import os\n",
    "from joblib import dump, load\n",
    "\n",
    "# Fix random seed\n",
    "seed = 42\n",
    "np.random.seed(seed)\n",
    "random.seed(seed)"
   ]
  },
  {
   "cell_type": "markdown",
   "metadata": {},
   "source": [
    "# Pre-processing input data"
   ]
  },
  {
   "cell_type": "code",
   "execution_count": 2,
   "metadata": {},
   "outputs": [],
   "source": [
    "# train_df and test_df are created in eda notebook\n",
    "if not os.path.exists('csv/train_df.csv') or not os.path.exists('csv/test_df.csv'):\n",
    "\tprint('Please run the eda notebook first')\n",
    "\texit()\n",
    "train_df = pd.read_csv('csv/train_df.csv')\n",
    "test_df = pd.read_csv('csv/test_df.csv')\n",
    "target = 'total_time_target'\n",
    "features = [\"total_time\"]\n",
    "\n",
    "# log for total_times\n",
    "train_df[[target, 'total_time']] = np.log1p(train_df[[target, 'total_time']])\n",
    "test_df[[target, 'total_time']] = np.log1p(test_df[[target, 'total_time']])\n",
    "\n",
    "# Split data\n",
    "X_train = train_df[features]\n",
    "y_train = train_df[target]\n",
    "\n",
    "X_test = test_df[features]\n",
    "y_test = test_df[target]\n",
    "\n",
    "# Normalize data\n",
    "x_scaler = MinMaxScaler(feature_range=(0, 1))\n",
    "X_train = x_scaler.fit_transform(X_train)\n",
    "X_test = x_scaler.transform(X_test)\n",
    "y_scaler = MinMaxScaler(feature_range=(0, 1))\n",
    "y_train = y_scaler.fit_transform(y_train.values.reshape(-1, 1))\n",
    "y_test = y_scaler.transform(y_test.values.reshape(-1, 1))"
   ]
  },
  {
   "cell_type": "code",
   "execution_count": 3,
   "metadata": {},
   "outputs": [],
   "source": [
    "if not os.path.exists('../models/x_scaler.joblib') or not os.path.exists('../models/y_scaler.joblib'):\n",
    "\tdump(x_scaler, '../models/x_scaler.joblib')\n",
    "\tdump(y_scaler, '../models/y_scaler.joblib')"
   ]
  },
  {
   "cell_type": "markdown",
   "metadata": {},
   "source": [
    "# Training"
   ]
  },
  {
   "cell_type": "code",
   "execution_count": 4,
   "metadata": {},
   "outputs": [],
   "source": [
    "def inv_scaling(y, y_scaler):\n",
    "    return y_scaler.inverse_transform(y.reshape(-1, 1))"
   ]
  },
  {
   "cell_type": "code",
   "execution_count": 5,
   "metadata": {},
   "outputs": [
    {
     "name": "stdout",
     "output_type": "stream",
     "text": [
      "RMSE Loss : 0.1628334190185127 - RMSE Val Loss: 0.1596635629644977\n"
     ]
    }
   ],
   "source": [
    "model = LinearRegression()\n",
    "model.fit(X_train, y_train)\n",
    "\n",
    "# Train\n",
    "predictions_train = model.predict(X_train)\n",
    "predictions_train = inv_scaling(predictions_train, y_scaler)\n",
    "y_train_scaled = inv_scaling(y_train, y_scaler)\n",
    "loss = np.sqrt(mean_squared_error(y_train_scaled, predictions_train))\n",
    "\n",
    "# Test\n",
    "predictions = model.predict(X_test)\n",
    "predictions = inv_scaling(predictions, y_scaler)\n",
    "y_scaled = inv_scaling(y_test, y_scaler)\n",
    "val_loss = np.sqrt(mean_squared_error(y_scaled, predictions))\n",
    "print(f\"RMSE Loss : {loss} - RMSE Val Loss: {val_loss}\")"
   ]
  },
  {
   "cell_type": "code",
   "execution_count": 6,
   "metadata": {},
   "outputs": [
    {
     "data": {
      "text/plain": [
       "['../models/linear_model.joblib']"
      ]
     },
     "execution_count": 6,
     "metadata": {},
     "output_type": "execute_result"
    }
   ],
   "source": [
    "# save model\n",
    "dump(model, f'../models/linear_model.joblib')"
   ]
  },
  {
   "cell_type": "markdown",
   "metadata": {},
   "source": [
    "# Load models"
   ]
  },
  {
   "cell_type": "code",
   "execution_count": 7,
   "metadata": {},
   "outputs": [],
   "source": [
    "model = load('../models/linear_model.joblib')"
   ]
  },
  {
   "cell_type": "code",
   "execution_count": 8,
   "metadata": {},
   "outputs": [],
   "source": [
    "def describe_val(model, X, y, y_scaler):\n",
    "\tmin_instance = {\"prediction\": float('inf'), \"actual\": 0, \"index\": 0}\n",
    "\tmax_instance = {\"prediction\": 0, \"actual\": 0, \"index\": 0}\n",
    "\n",
    "\tpredictions = model.predict(X)\n",
    "\tpredictions = np.expm1(inv_scaling(predictions, y_scaler))\n",
    "\ty_scaled = np.expm1(inv_scaling(y, y_scaler))\n",
    "\tindex_min = np.argmin(np.abs(predictions - y_scaled))\n",
    "\tmin_instance[\"prediction\"] = predictions[index_min].item()\n",
    "\tmin_instance[\"actual\"] = y_scaled[index_min].item()\n",
    "\tmin_instance[\"index\"] = index_min\n",
    "\tindex_max = np.argmax(np.abs(predictions - y_scaled))\n",
    "\tmax_instance[\"prediction\"] = predictions[index_max].item()\n",
    "\tmax_instance[\"actual\"] = y_scaled[index_max].item()\n",
    "\tmax_instance[\"index\"] = index_max\n",
    "\n",
    "\treturn min_instance, max_instance, predictions"
   ]
  },
  {
   "cell_type": "code",
   "execution_count": 9,
   "metadata": {},
   "outputs": [
    {
     "name": "stdout",
     "output_type": "stream",
     "text": [
      "Validation set single thread model\n",
      "Mean prediction: 22.601422302459866 | Std actual: 40.77892012378877\n",
      "Mean actual: 23.401548499932737 | Std actual: 44.0307253488359\n",
      "Mean Error: 3.7057379239304016 | Std Error: 8.843459181399245\n",
      "Min instance\n",
      "total_time                                                         3.436886\n",
      "total_cpu_usage                                                        0.99\n",
      "max_ram_usage                                                     62.207031\n",
      "brand_raw                         Intel(R) Xeon(R) CPU E5-2643 v3 @ 3.40GHz\n",
      "vendor_id_raw                                                  GenuineIntel\n",
      "arch                                                                 X86_64\n",
      "count                                                                    12\n",
      "l2_cache_size                                                           3.0\n",
      "l3_cache_size                                                          20.0\n",
      "l2_cache_line_size                                                      256\n",
      "l2_cache_associativity                                                    6\n",
      "benchmark                                                              TSP3\n",
      "ghz_actual_friendly                                                  3.7003\n",
      "ghz_advertised_friendly                                                 3.4\n",
      "score                                                                  2099\n",
      "set_tid_address                                                           1\n",
      "rt_sigaction                                                              2\n",
      "set_robust_list                                                           1\n",
      "openat                                                                    9\n",
      "mmap                                                                     44\n",
      "fstat                                                                     8\n",
      "stat                                                                      1\n",
      "close                                                                     9\n",
      "futex                                                                     2\n",
      "prlimit64                                                                 1\n",
      "mprotect                                                                  9\n",
      "munmap                                                                    5\n",
      "read                                                                     14\n",
      "brk                                                                     332\n",
      "rt_sigprocmask                                                            1\n",
      "total_time_target                                                  3.431403\n",
      "brand_raw_target                   Intel(R) Xeon(R) Gold 6330 CPU @ 2.00GHz\n",
      "l2_cache_size_target                                                   70.0\n",
      "l3_cache_size_target                                                   42.0\n",
      "l2_cache_line_size_target                                               256\n",
      "l2_cache_associativity_target                                             6\n",
      "ghz_advertised_friendly_target                                          2.0\n",
      "score_target                                                           2034\n",
      "rss                                                               61.456209\n",
      "vms                                                               88.501192\n",
      "shared                                                             14.32426\n",
      "text                                                               0.035156\n",
      "data                                                              48.133306\n",
      "Name: 1264, dtype: object\n",
      "Min Prediction: 29.91933561871379 | Actual: 29.920000000000005 | Error: 0.0006643812862137111\n",
      "---\n",
      "Max instance\n",
      "total_time                                                         5.091969\n",
      "total_cpu_usage                                                        0.99\n",
      "max_ram_usage                                                     60.964844\n",
      "brand_raw                          Intel(R) Xeon(R) Gold 6130 CPU @ 2.10GHz\n",
      "vendor_id_raw                                                  GenuineIntel\n",
      "arch                                                                 X86_64\n",
      "count                                                                    64\n",
      "l2_cache_size                                                          32.0\n",
      "l3_cache_size                                                          22.0\n",
      "l2_cache_line_size                                                      256\n",
      "l2_cache_associativity                                                    6\n",
      "benchmark                                                   MATRIX_MULT_ST6\n",
      "ghz_actual_friendly                                                     2.1\n",
      "ghz_advertised_friendly                                                 2.1\n",
      "score                                                                  1880\n",
      "set_tid_address                                                           0\n",
      "rt_sigaction                                                              0\n",
      "set_robust_list                                                           0\n",
      "openat                                                                    5\n",
      "mmap                                                                     22\n",
      "fstat                                                                     5\n",
      "stat                                                                      2\n",
      "close                                                                     5\n",
      "futex                                                                     0\n",
      "prlimit64                                                                 0\n",
      "mprotect                                                                  6\n",
      "munmap                                                                    1\n",
      "read                                                                      4\n",
      "brk                                                                     459\n",
      "rt_sigprocmask                                                            0\n",
      "total_time_target                                                  5.535364\n",
      "brand_raw_target                  Intel(R) Xeon(R) CPU E5-2643 v3 @ 3.40GHz\n",
      "l2_cache_size_target                                                    3.0\n",
      "l3_cache_size_target                                                   20.0\n",
      "l2_cache_line_size_target                                               256\n",
      "l2_cache_associativity_target                                             6\n",
      "ghz_advertised_friendly_target                                          3.4\n",
      "score_target                                                           2099\n",
      "rss                                                               60.330485\n",
      "vms                                                                63.05131\n",
      "shared                                                             2.632446\n",
      "text                                                               0.011719\n",
      "data                                                              57.950317\n",
      "Name: 914, dtype: object\n",
      "Max Prediction: 159.4802549000344 | Actual: 252.50000000000006 | Error: 93.01974509996566\n"
     ]
    }
   ],
   "source": [
    "print(\"Validation set single thread model\")\n",
    "min_instance, max_instance, predictions = describe_val(model, X_test, y_test, y_scaler)\n",
    "y_scaled = np.expm1(inv_scaling(y_test, y_scaler))\n",
    "errors = np.abs(predictions - y_scaled)\n",
    "mean_error = np.mean(errors)\n",
    "std_error = np.std(errors)\n",
    "\n",
    "print(f\"Mean prediction: {np.mean(predictions)} | Std actual: {np.std(predictions)}\")\n",
    "print(f\"Mean actual: {np.mean(y_scaled)} | Std actual: {np.std(y_scaled)}\")\n",
    "print(f\"Mean Error: {mean_error} | Std Error: {std_error}\")\n",
    "print(\"Min instance\")\n",
    "print(test_df.iloc[min_instance[\"index\"]])\n",
    "print(f\"Min Prediction: {min_instance['prediction']} | Actual: {min_instance['actual']} | Error: {abs(min_instance['prediction'] - min_instance['actual'])}\")\n",
    "print(\"---\")\n",
    "print(\"Max instance\")\n",
    "print(test_df.iloc[max_instance[\"index\"]])\n",
    "print(f\"Max Prediction: {max_instance['prediction']} | Actual: {max_instance['actual']} | Error: {abs(max_instance['prediction'] - max_instance['actual'])}\")"
   ]
  }
 ],
 "metadata": {
  "kernelspec": {
   "display_name": "venv",
   "language": "python",
   "name": "python3"
  },
  "language_info": {
   "codemirror_mode": {
    "name": "ipython",
    "version": 3
   },
   "file_extension": ".py",
   "mimetype": "text/x-python",
   "name": "python",
   "nbconvert_exporter": "python",
   "pygments_lexer": "ipython3",
   "version": "3.10.13"
  }
 },
 "nbformat": 4,
 "nbformat_minor": 2
}
