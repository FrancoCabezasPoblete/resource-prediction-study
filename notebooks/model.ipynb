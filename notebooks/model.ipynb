{
 "cells": [
  {
   "cell_type": "code",
   "execution_count": 1,
   "metadata": {},
   "outputs": [
    {
     "name": "stderr",
     "output_type": "stream",
     "text": [
      "c:\\Users\\LOL66\\Escritorio\\resource-prediction-study\\venv\\Lib\\site-packages\\tqdm\\auto.py:21: TqdmWarning: IProgress not found. Please update jupyter and ipywidgets. See https://ipywidgets.readthedocs.io/en/stable/user_install.html\n",
      "  from .autonotebook import tqdm as notebook_tqdm\n"
     ]
    }
   ],
   "source": [
    "import optuna\n",
    "import torch\n",
    "import torch.nn as nn\n",
    "import torch.optim as optim\n",
    "import pandas as pd\n",
    "import numpy as np\n",
    "from sklearn.preprocessing import StandardScaler\n",
    "from icecream import ic"
   ]
  },
  {
   "cell_type": "markdown",
   "metadata": {},
   "source": [
    "# Pre-processing input data"
   ]
  },
  {
   "cell_type": "code",
   "execution_count": 2,
   "metadata": {},
   "outputs": [],
   "source": [
    "def bits_to_MiB(row):\n",
    "\t# verify if has string ' MiB'\n",
    "\tif 'MiB' in str(row):\n",
    "\t\trow = row.replace(' MiB', '')\n",
    "\t\trow = float(row)\n",
    "\telse:\n",
    "\t\trow = float(row) / np.power(2, 20)\n",
    "\treturn row\n",
    "\n",
    "\n",
    "def MHz_to_GHz(row):\n",
    "\t# verify if has string ' GHz'\n",
    "\tif 'GHz' in str(row):\n",
    "\t\trow = row.replace(' GHz', '')\n",
    "\t\t# convert to float\n",
    "\t\trow = float(row)\n",
    "\telse:\n",
    "\t\trow = row.replace(' MHz', '')\n",
    "\t\trow = float(row) / 1000\n",
    "\treturn row"
   ]
  },
  {
   "cell_type": "code",
   "execution_count": 3,
   "metadata": {},
   "outputs": [],
   "source": [
    "results_df = pd.read_csv('../results/execution_time.csv')\n",
    "results_savio_df = pd.read_csv('../results_savio/execution_time.csv')\n",
    "results_df = pd.concat([results_df, results_savio_df], ignore_index=True)\n",
    "# preprocessing\n",
    "results_df['total_cpu_usage'] = results_df['total_cpu_usage'].str.replace('%', '').astype(float) / 100\n",
    "results_df['max_ram_usage'] = results_df['max_ram_usage'] / 1024\n",
    "results_df['l2_cache_size'] = results_df['l2_cache_size'].apply(bits_to_MiB)\n",
    "results_df['ghz_actual_friendly'] = results_df['hz_actual_friendly'].apply(MHz_to_GHz)\n",
    "results_df['ghz_advertised_friendly'] = results_df['hz_advertised_friendly'].str.replace('GHz', '').astype(float)\n",
    "results_df = results_df.drop(columns=['hz_actual_friendly', 'hz_advertised_friendly', 'arch', 'vendor_id_raw'])"
   ]
  },
  {
   "cell_type": "code",
   "execution_count": 4,
   "metadata": {},
   "outputs": [],
   "source": [
    "# remove one computer for testing\n",
    "g_train = results_df[results_df['brand_raw'] != '13th Gen Intel(R) Core(TM) i5-1335U'].drop(columns=['benchmark','brand_raw'])\n",
    "g_test = results_df[results_df['brand_raw'] == '13th Gen Intel(R) Core(TM) i5-1335U'].drop(columns=['benchmark','brand_raw'])"
   ]
  },
  {
   "cell_type": "code",
   "execution_count": 5,
   "metadata": {},
   "outputs": [],
   "source": [
    "mm_df = results_df[results_df['benchmark']=='MATRIX_MULT'].drop(columns=['benchmark'])\n",
    "# remove one computer for testing\n",
    "mm_train = mm_df[mm_df['brand_raw'] != '13th Gen Intel(R) Core(TM) i5-1335U'].drop(columns=['brand_raw'])\n",
    "mm_test = mm_df[mm_df['brand_raw'] == '13th Gen Intel(R) Core(TM) i5-1335U'].drop(columns=['brand_raw'])"
   ]
  },
  {
   "cell_type": "code",
   "execution_count": 6,
   "metadata": {},
   "outputs": [],
   "source": [
    "st_df = results_df[results_df['benchmark']!='MATRIX_MULT'].drop(columns=['benchmark'])\n",
    "# remove one computer for testing\n",
    "st_train = st_df[st_df['brand_raw'] != '13th Gen Intel(R) Core(TM) i5-1335U'].drop(columns=['brand_raw'])\n",
    "st_test = st_df[st_df['brand_raw'] == '13th Gen Intel(R) Core(TM) i5-1335U'].drop(columns=['brand_raw'])"
   ]
  },
  {
   "cell_type": "code",
   "execution_count": 7,
   "metadata": {},
   "outputs": [],
   "source": [
    "features = mm_test.columns[1:]\n",
    "target = mm_test.columns[0]"
   ]
  },
  {
   "cell_type": "code",
   "execution_count": 8,
   "metadata": {},
   "outputs": [],
   "source": [
    "# general data\n",
    "## split data\n",
    "X_g_train = g_train[features]\n",
    "y_g_train = g_train[target]\n",
    "\n",
    "X_g_test = g_test[features]\n",
    "y_g_test = g_test[target]\n",
    "\n",
    "## normalize data\n",
    "scaler = StandardScaler()\n",
    "X_g_train = scaler.fit_transform(X_g_train)\n",
    "X_g_test = scaler.transform(X_g_test)\n",
    "\n",
    "## convert to tensor\n",
    "X_g_train = torch.tensor(X_g_train, dtype=torch.float32).unsqueeze(1)\n",
    "X_g_test = torch.tensor(X_g_test, dtype=torch.float32).unsqueeze(1)\n",
    "y_g_train = torch.tensor(y_g_train.values, dtype=torch.float32).view(-1, 1)\n",
    "y_g_test = torch.tensor(y_g_test.values, dtype=torch.float32).view(-1, 1)"
   ]
  },
  {
   "cell_type": "code",
   "execution_count": 9,
   "metadata": {},
   "outputs": [],
   "source": [
    "# single thread data\n",
    "## split data\n",
    "X_st_train = st_train[features]\n",
    "y_st_train = st_train[target]\n",
    "\n",
    "X_st_test = st_test[features]\n",
    "y_st_test = st_test[target]\n",
    "\n",
    "## normalize data\n",
    "scaler = StandardScaler()\n",
    "X_st_train = scaler.fit_transform(X_st_train)\n",
    "X_st_test = scaler.transform(X_st_test)\n",
    "\n",
    "## convert to tensor\n",
    "X_st_train = torch.tensor(X_st_train, dtype=torch.float32).unsqueeze(1)\n",
    "X_st_test = torch.tensor(X_st_test, dtype=torch.float32).unsqueeze(1)\n",
    "y_st_train = torch.tensor(y_st_train.values, dtype=torch.float32).view(-1, 1)\n",
    "y_st_test = torch.tensor(y_st_test.values, dtype=torch.float32).view(-1, 1)"
   ]
  },
  {
   "cell_type": "code",
   "execution_count": 10,
   "metadata": {},
   "outputs": [],
   "source": [
    "# multi thread data\n",
    "## split data\n",
    "X_mm_train = st_train[features]\n",
    "y_mm_train = st_train[target]\n",
    "\n",
    "X_mm_test = st_test[features]\n",
    "y_mm_test = st_test[target]\n",
    "\n",
    "## normalize data\n",
    "scaler = StandardScaler()\n",
    "X_mm_train = scaler.fit_transform(X_mm_train)\n",
    "X_mm_test = scaler.transform(X_mm_test)\n",
    "\n",
    "## convert to tensor\n",
    "X_mm_train = torch.tensor(X_mm_train, dtype=torch.float32).unsqueeze(1)\n",
    "X_mm_test = torch.tensor(X_mm_test, dtype=torch.float32).unsqueeze(1)\n",
    "y_mm_train = torch.tensor(y_mm_train.values, dtype=torch.float32).view(-1, 1)\n",
    "y_mm_test = torch.tensor(y_mm_test.values, dtype=torch.float32).view(-1, 1)"
   ]
  },
  {
   "cell_type": "markdown",
   "metadata": {},
   "source": [
    "# Model"
   ]
  },
  {
   "cell_type": "code",
   "execution_count": 11,
   "metadata": {},
   "outputs": [],
   "source": [
    "class TransformerModel(nn.Module):\n",
    "\tdef __init__(self, input_dim, model_dim, num_heads, num_layers, output_dim, dropout=0.1):\n",
    "\t\tsuper(TransformerModel, self).__init__()\n",
    "\t\t# layers\n",
    "\t\tself.embedding = nn.Linear(input_dim, model_dim)\n",
    "\t\tencoder_layer = nn.TransformerEncoderLayer(d_model=model_dim, nhead=num_heads, batch_first=True)\n",
    "\t\tself.transformer = nn.TransformerEncoder(encoder_layer, num_layers=num_layers)\n",
    "\t\tself.fc = nn.Linear(model_dim, output_dim)\n",
    "\t\tself.dropout = nn.Dropout(dropout)\n",
    "\t\n",
    "\tdef forward(self, x):\n",
    "\t\tx = self.embedding(x)\n",
    "\t\tx = self.dropout(x)\n",
    "\t\tx = self.transformer(x)\n",
    "\t\tx = self.fc(x.mean(dim=1))\n",
    "\t\treturn x\n"
   ]
  },
  {
   "cell_type": "code",
   "execution_count": 17,
   "metadata": {},
   "outputs": [],
   "source": [
    "def objective(trial, X_train, y_train, X_test, y_test, input_dim, output_dim):\n",
    "\t# Definimos los hiperparámetros a buscar\n",
    "\tnum_heads = trial.suggest_int('num_heads', 1, 8)\n",
    "\tmodel_dim = trial.suggest_int('model_dim', num_heads * 4, num_heads * 64, step=num_heads)\n",
    "\tnum_layers = trial.suggest_int('num_layers', 1, 6)\n",
    "\tdropout = trial.suggest_float('dropout', 0.1, 0.5)\n",
    "\tlearning_rate = trial.suggest_float('learning_rate', 1e-5, 1e-2, log=True)\n",
    "\tweight_decay = trial.suggest_float('weight_decay', 1e-5, 1e-2, log=True)\n",
    "\tnum_epochs = trial.suggest_int('num_epochs', 10, 100)\n",
    "\n",
    "\t# model initialization \n",
    "\tmodel = TransformerModel(input_dim, model_dim, num_heads, num_layers, output_dim, dropout)\n",
    "\tcriterion = nn.MSELoss()\n",
    "\toptimizer = optim.AdamW(model.parameters(), lr=learning_rate, weight_decay=weight_decay)\n",
    "\n",
    "\t# training\n",
    "\tmodel.train()\n",
    "\tfor epoch in range(num_epochs):\n",
    "\t\toptimizer.zero_grad()\n",
    "\t\toutput = model(X_train)\n",
    "\t\tloss = criterion(output, y_train)\n",
    "\t\tloss.backward()\n",
    "\t\toptimizer.step()\n",
    "\n",
    "\t# evaluation\n",
    "\tmodel.eval()\n",
    "\twith torch.no_grad():\n",
    "\t\tpredictions = model(X_test)\n",
    "\t\tval_loss = criterion(predictions, y_test)\n",
    "\n",
    "\treturn val_loss.item()"
   ]
  },
  {
   "cell_type": "markdown",
   "metadata": {},
   "source": [
    "# Hyperparameters Optimization"
   ]
  },
  {
   "cell_type": "markdown",
   "metadata": {},
   "source": [
    "## General"
   ]
  },
  {
   "cell_type": "code",
   "execution_count": 14,
   "metadata": {},
   "outputs": [
    {
     "name": "stderr",
     "output_type": "stream",
     "text": [
      "[I 2024-06-12 04:49:16,481] A new study created in memory with name: no-name-d359ab1f-37d2-47ac-b0e6-f6b8c0b8ca07\n",
      "c:\\Users\\LOL66\\Escritorio\\resource-prediction-study\\venv\\Lib\\site-packages\\torch\\nn\\modules\\transformer.py:306: UserWarning: enable_nested_tensor is True, but self.use_nested_tensor is False because encoder_layer.self_attn.num_heads is odd\n",
      "  warnings.warn(f\"enable_nested_tensor is True, but self.use_nested_tensor is False because {why_not_sparsity_fast_path}\")\n",
      "[I 2024-06-12 04:49:18,077] Trial 0 finished with value: 298.1510009765625 and parameters: {'num_heads': 5, 'model_dim': 135, 'num_layers': 3, 'dropout': 0.14020102965756767, 'learning_rate': 0.0016063201474818608, 'weight_decay': 0.0003404098153945933, 'num_epochs': 37}. Best is trial 0 with value: 298.1510009765625.\n",
      "[I 2024-06-12 04:49:19,414] Trial 1 finished with value: 821.4876098632812 and parameters: {'num_heads': 1, 'model_dim': 22, 'num_layers': 6, 'dropout': 0.4845791742902722, 'learning_rate': 1.5352616675667106e-05, 'weight_decay': 0.0008114013185230386, 'num_epochs': 30}. Best is trial 0 with value: 298.1510009765625.\n",
      "[I 2024-06-12 04:49:22,270] Trial 2 finished with value: 416.85418701171875 and parameters: {'num_heads': 8, 'model_dim': 280, 'num_layers': 6, 'dropout': 0.390689487127974, 'learning_rate': 9.735509230031567e-05, 'weight_decay': 0.00041421396351979756, 'num_epochs': 23}. Best is trial 0 with value: 298.1510009765625.\n",
      "[I 2024-06-12 04:49:23,617] Trial 3 finished with value: 306.776123046875 and parameters: {'num_heads': 4, 'model_dim': 172, 'num_layers': 1, 'dropout': 0.49264753508996684, 'learning_rate': 0.0013332221328808047, 'weight_decay': 0.00036083045265713164, 'num_epochs': 73}. Best is trial 0 with value: 298.1510009765625.\n",
      "[I 2024-06-12 04:49:24,748] Trial 4 finished with value: 797.1854248046875 and parameters: {'num_heads': 2, 'model_dim': 12, 'num_layers': 6, 'dropout': 0.2731764311585172, 'learning_rate': 7.142847457533482e-05, 'weight_decay': 9.832757337053533e-05, 'num_epochs': 19}. Best is trial 0 with value: 298.1510009765625.\n",
      "[I 2024-06-12 04:49:27,693] Trial 5 finished with value: 662.9542846679688 and parameters: {'num_heads': 1, 'model_dim': 44, 'num_layers': 6, 'dropout': 0.2419903266991726, 'learning_rate': 0.00033856140945696917, 'weight_decay': 4.255854246645078e-05, 'num_epochs': 36}. Best is trial 0 with value: 298.1510009765625.\n",
      "[I 2024-06-12 04:49:28,645] Trial 6 finished with value: 895.6437377929688 and parameters: {'num_heads': 1, 'model_dim': 20, 'num_layers': 2, 'dropout': 0.4252630291036462, 'learning_rate': 1.814298059138877e-05, 'weight_decay': 0.0006323246147545091, 'num_epochs': 30}. Best is trial 0 with value: 298.1510009765625.\n",
      "[I 2024-06-12 04:49:37,628] Trial 7 finished with value: 419.57000732421875 and parameters: {'num_heads': 7, 'model_dim': 343, 'num_layers': 6, 'dropout': 0.14398578185908995, 'learning_rate': 1.865686819724076e-05, 'weight_decay': 0.0054653935104309334, 'num_epochs': 53}. Best is trial 0 with value: 298.1510009765625.\n",
      "[I 2024-06-12 04:49:39,246] Trial 8 finished with value: 303.35546875 and parameters: {'num_heads': 4, 'model_dim': 184, 'num_layers': 1, 'dropout': 0.3015292856471053, 'learning_rate': 0.0007736359935175809, 'weight_decay': 1.8874489427206217e-05, 'num_epochs': 72}. Best is trial 0 with value: 298.1510009765625.\n",
      "[I 2024-06-12 04:49:39,667] Trial 9 finished with value: 693.36865234375 and parameters: {'num_heads': 3, 'model_dim': 87, 'num_layers': 1, 'dropout': 0.273381548778857, 'learning_rate': 0.00014098681346714188, 'weight_decay': 2.387945710874265e-05, 'num_epochs': 22}. Best is trial 0 with value: 298.1510009765625.\n",
      "[I 2024-06-12 04:49:46,299] Trial 10 finished with value: 156.16909790039062 and parameters: {'num_heads': 6, 'model_dim': 132, 'num_layers': 4, 'dropout': 0.1030768135530356, 'learning_rate': 0.009628905205487174, 'weight_decay': 0.0035316877007982935, 'num_epochs': 96}. Best is trial 10 with value: 156.16909790039062.\n",
      "[I 2024-06-12 04:49:52,799] Trial 11 finished with value: 156.64584350585938 and parameters: {'num_heads': 6, 'model_dim': 126, 'num_layers': 4, 'dropout': 0.1044276480150993, 'learning_rate': 0.008016831047429836, 'weight_decay': 0.006160029120374938, 'num_epochs': 99}. Best is trial 10 with value: 156.16909790039062.\n",
      "[I 2024-06-12 04:49:59,196] Trial 12 finished with value: 157.84814453125 and parameters: {'num_heads': 6, 'model_dim': 108, 'num_layers': 4, 'dropout': 0.10044840596523279, 'learning_rate': 0.0067597752106664626, 'weight_decay': 0.009340621888969928, 'num_epochs': 100}. Best is trial 10 with value: 156.16909790039062.\n",
      "[I 2024-06-12 04:50:08,120] Trial 13 finished with value: 155.3564910888672 and parameters: {'num_heads': 6, 'model_dim': 246, 'num_layers': 4, 'dropout': 0.1924159106014181, 'learning_rate': 0.008429811897177081, 'weight_decay': 0.002295638890902696, 'num_epochs': 98}. Best is trial 13 with value: 155.3564910888672.\n",
      "[I 2024-06-12 04:50:20,557] Trial 14 finished with value: 155.41259765625 and parameters: {'num_heads': 8, 'model_dim': 464, 'num_layers': 4, 'dropout': 0.18565041339210386, 'learning_rate': 0.0035203764326475176, 'weight_decay': 0.0024326605190903437, 'num_epochs': 84}. Best is trial 13 with value: 155.3564910888672.\n",
      "[I 2024-06-12 04:50:46,891] Trial 15 finished with value: 154.8390655517578 and parameters: {'num_heads': 8, 'model_dim': 504, 'num_layers': 5, 'dropout': 0.1948690869396268, 'learning_rate': 0.00316162643672368, 'weight_decay': 0.001793382769954052, 'num_epochs': 80}. Best is trial 15 with value: 154.8390655517578.\n",
      "[I 2024-06-12 04:51:00,843] Trial 16 finished with value: 154.99281311035156 and parameters: {'num_heads': 7, 'model_dim': 406, 'num_layers': 5, 'dropout': 0.21093528746848245, 'learning_rate': 0.0028648278325943467, 'weight_decay': 0.001437330470628545, 'num_epochs': 82}. Best is trial 15 with value: 154.8390655517578.\n",
      "[I 2024-06-12 04:51:14,072] Trial 17 finished with value: 153.6730194091797 and parameters: {'num_heads': 8, 'model_dim': 488, 'num_layers': 5, 'dropout': 0.3511433113894348, 'learning_rate': 0.002642840910816393, 'weight_decay': 0.0012513492758082442, 'num_epochs': 62}. Best is trial 17 with value: 153.6730194091797.\n",
      "[I 2024-06-12 04:51:25,873] Trial 18 finished with value: 163.0652313232422 and parameters: {'num_heads': 8, 'model_dim': 504, 'num_layers': 5, 'dropout': 0.3314314314933116, 'learning_rate': 0.0007085635553492801, 'weight_decay': 0.00016772651385873688, 'num_epochs': 56}. Best is trial 17 with value: 153.6730194091797.\n",
      "[I 2024-06-12 04:51:34,790] Trial 19 finished with value: 155.90672302246094 and parameters: {'num_heads': 7, 'model_dim': 378, 'num_layers': 5, 'dropout': 0.35249406739396516, 'learning_rate': 0.002824914184485375, 'weight_decay': 0.0013644425857844598, 'num_epochs': 56}. Best is trial 17 with value: 153.6730194091797.\n",
      "[I 2024-06-12 04:51:39,624] Trial 20 finished with value: 253.57772827148438 and parameters: {'num_heads': 5, 'model_dim': 270, 'num_layers': 3, 'dropout': 0.3739039690199805, 'learning_rate': 0.00042691666520300005, 'weight_decay': 0.00014923352395550444, 'num_epochs': 65}. Best is trial 17 with value: 153.6730194091797.\n",
      "[I 2024-06-12 04:51:54,471] Trial 21 finished with value: 155.14266967773438 and parameters: {'num_heads': 7, 'model_dim': 406, 'num_layers': 5, 'dropout': 0.2375345733911221, 'learning_rate': 0.0026373623890648553, 'weight_decay': 0.001372094304815844, 'num_epochs': 84}. Best is trial 17 with value: 153.6730194091797.\n",
      "[I 2024-06-12 04:52:13,796] Trial 22 finished with value: 154.0747833251953 and parameters: {'num_heads': 8, 'model_dim': 512, 'num_layers': 5, 'dropout': 0.20244669606389418, 'learning_rate': 0.004642999453124879, 'weight_decay': 0.0009968126262820762, 'num_epochs': 85}. Best is trial 17 with value: 153.6730194091797.\n",
      "[I 2024-06-12 04:52:30,689] Trial 23 finished with value: 155.08522033691406 and parameters: {'num_heads': 8, 'model_dim': 512, 'num_layers': 5, 'dropout': 0.3070146019729491, 'learning_rate': 0.004389974447500664, 'weight_decay': 0.0008040975637393437, 'num_epochs': 75}. Best is trial 17 with value: 153.6730194091797.\n",
      "[I 2024-06-12 04:52:44,156] Trial 24 finished with value: 154.21908569335938 and parameters: {'num_heads': 8, 'model_dim': 464, 'num_layers': 5, 'dropout': 0.15917986822607555, 'learning_rate': 0.0014556266820626106, 'weight_decay': 0.0025739396459502246, 'num_epochs': 64}. Best is trial 17 with value: 153.6730194091797.\n",
      "[I 2024-06-12 04:52:49,245] Trial 25 finished with value: 153.6617889404297 and parameters: {'num_heads': 7, 'model_dim': 420, 'num_layers': 3, 'dropout': 0.15462867843850397, 'learning_rate': 0.0014129834513323613, 'weight_decay': 0.003741170807354415, 'num_epochs': 49}. Best is trial 25 with value: 153.6617889404297.\n",
      "[I 2024-06-12 04:52:53,288] Trial 26 finished with value: 166.83407592773438 and parameters: {'num_heads': 7, 'model_dim': 336, 'num_layers': 3, 'dropout': 0.4266973772959345, 'learning_rate': 0.0007968488833440012, 'weight_decay': 0.004972844227754054, 'num_epochs': 44}. Best is trial 25 with value: 153.6617889404297.\n",
      "[I 2024-06-12 04:52:56,789] Trial 27 finished with value: 326.916015625 and parameters: {'num_heads': 7, 'model_dim': 420, 'num_layers': 2, 'dropout': 0.24785789803541966, 'learning_rate': 0.005391346305178171, 'weight_decay': 0.0010036725071524645, 'num_epochs': 48}. Best is trial 25 with value: 153.6617889404297.\n",
      "[I 2024-06-12 04:53:00,440] Trial 28 finished with value: 277.889892578125 and parameters: {'num_heads': 5, 'model_dim': 295, 'num_layers': 2, 'dropout': 0.15709073555957737, 'learning_rate': 0.0018809277285730109, 'weight_decay': 0.003646555786345545, 'num_epochs': 62}. Best is trial 25 with value: 153.6617889404297.\n",
      "[I 2024-06-12 04:53:08,604] Trial 29 finished with value: 281.24676513671875 and parameters: {'num_heads': 6, 'model_dim': 336, 'num_layers': 3, 'dropout': 0.2230311205459649, 'learning_rate': 0.0011622970198231222, 'weight_decay': 0.0005001595033983011, 'num_epochs': 90}. Best is trial 25 with value: 153.6617889404297.\n",
      "[I 2024-06-12 04:53:14,246] Trial 30 finished with value: 357.3897399902344 and parameters: {'num_heads': 8, 'model_dim': 456, 'num_layers': 3, 'dropout': 0.27398691534897884, 'learning_rate': 0.00023932602764023807, 'weight_decay': 0.00023697894509796345, 'num_epochs': 43}. Best is trial 25 with value: 153.6617889404297.\n",
      "[I 2024-06-12 04:53:28,098] Trial 31 finished with value: 157.0453643798828 and parameters: {'num_heads': 8, 'model_dim': 464, 'num_layers': 5, 'dropout': 0.1379667900494942, 'learning_rate': 0.0019011671559523834, 'weight_decay': 0.0026962988476789715, 'num_epochs': 66}. Best is trial 25 with value: 153.6617889404297.\n",
      "[I 2024-06-12 04:53:37,199] Trial 32 finished with value: 159.5279541015625 and parameters: {'num_heads': 7, 'model_dim': 427, 'num_layers': 4, 'dropout': 0.17007489474993012, 'learning_rate': 0.0011928198573232943, 'weight_decay': 0.009197479762112354, 'num_epochs': 60}. Best is trial 25 with value: 153.6617889404297.\n",
      "[I 2024-06-12 04:53:40,516] Trial 33 finished with value: 284.4285583496094 and parameters: {'num_heads': 8, 'model_dim': 472, 'num_layers': 6, 'dropout': 0.13485213501600934, 'learning_rate': 0.0005304298108126665, 'weight_decay': 0.000988657411285793, 'num_epochs': 11}. Best is trial 25 with value: 153.6617889404297.\n",
      "[I 2024-06-12 04:53:54,570] Trial 34 finished with value: 157.02847290039062 and parameters: {'num_heads': 8, 'model_dim': 480, 'num_layers': 5, 'dropout': 0.41485984619938987, 'learning_rate': 0.0017088030354083363, 'weight_decay': 0.0037200887838911363, 'num_epochs': 68}. Best is trial 25 with value: 153.6617889404297.\n",
      "[I 2024-06-12 04:54:03,914] Trial 35 finished with value: 151.69288635253906 and parameters: {'num_heads': 7, 'model_dim': 371, 'num_layers': 6, 'dropout': 0.1662476317089745, 'learning_rate': 0.00502205439467237, 'weight_decay': 0.000579082777134078, 'num_epochs': 50}. Best is trial 35 with value: 151.69288635253906.\n",
      "[I 2024-06-12 04:54:11,408] Trial 36 finished with value: 146.76663208007812 and parameters: {'num_heads': 7, 'model_dim': 378, 'num_layers': 6, 'dropout': 0.4620246494837953, 'learning_rate': 0.0051617151901721375, 'weight_decay': 0.000494890960224898, 'num_epochs': 35}. Best is trial 36 with value: 146.76663208007812.\n",
      "[I 2024-06-12 04:54:18,168] Trial 37 finished with value: 162.2904052734375 and parameters: {'num_heads': 6, 'model_dim': 354, 'num_layers': 6, 'dropout': 0.4571453905713546, 'learning_rate': 0.0047996417896449374, 'weight_decay': 0.00032193349436687366, 'num_epochs': 35}. Best is trial 36 with value: 146.76663208007812.\n",
      "[I 2024-06-12 04:54:24,246] Trial 38 finished with value: 157.8096923828125 and parameters: {'num_heads': 3, 'model_dim': 171, 'num_layers': 6, 'dropout': 0.46252518438253243, 'learning_rate': 0.006355224604971547, 'weight_decay': 7.216734799309436e-05, 'num_epochs': 49}. Best is trial 36 with value: 146.76663208007812.\n",
      "[I 2024-06-12 04:54:30,296] Trial 39 finished with value: 397.14276123046875 and parameters: {'num_heads': 7, 'model_dim': 378, 'num_layers': 6, 'dropout': 0.3917852888192106, 'learning_rate': 3.539153293302028e-05, 'weight_decay': 0.0005560353838687008, 'num_epochs': 30}. Best is trial 36 with value: 146.76663208007812.\n",
      "[I 2024-06-12 04:54:37,246] Trial 40 finished with value: 163.8832244873047 and parameters: {'num_heads': 5, 'model_dim': 290, 'num_layers': 6, 'dropout': 0.4774573591909371, 'learning_rate': 0.0021893441295354928, 'weight_decay': 0.0002631110846958815, 'num_epochs': 43}. Best is trial 36 with value: 146.76663208007812.\n",
      "[I 2024-06-12 04:54:45,196] Trial 41 finished with value: 150.5364532470703 and parameters: {'num_heads': 7, 'model_dim': 385, 'num_layers': 6, 'dropout': 0.12371999158746433, 'learning_rate': 0.004072422759999734, 'weight_decay': 0.0007040510473341889, 'num_epochs': 40}. Best is trial 36 with value: 146.76663208007812.\n",
      "[I 2024-06-12 04:54:53,311] Trial 42 finished with value: 158.99490356445312 and parameters: {'num_heads': 7, 'model_dim': 378, 'num_layers': 6, 'dropout': 0.11945299274472593, 'learning_rate': 0.0044884598365085935, 'weight_decay': 0.0006965975432109094, 'num_epochs': 38}. Best is trial 36 with value: 146.76663208007812.\n",
      "[I 2024-06-12 04:55:02,096] Trial 43 finished with value: 518.1104736328125 and parameters: {'num_heads': 6, 'model_dim': 312, 'num_layers': 6, 'dropout': 0.1716036519061627, 'learning_rate': 1.0220949977986594e-05, 'weight_decay': 1.0174834362065881e-05, 'num_epochs': 51}. Best is trial 36 with value: 146.76663208007812.\n",
      "[I 2024-06-12 04:55:09,665] Trial 44 finished with value: 163.20729064941406 and parameters: {'num_heads': 7, 'model_dim': 399, 'num_layers': 6, 'dropout': 0.4989172526763726, 'learning_rate': 0.003596153013897234, 'weight_decay': 0.0004450665731967902, 'num_epochs': 38}. Best is trial 36 with value: 146.76663208007812.\n",
      "[I 2024-06-12 04:55:15,205] Trial 45 finished with value: 200.6437530517578 and parameters: {'num_heads': 6, 'model_dim': 354, 'num_layers': 6, 'dropout': 0.12631795642610708, 'learning_rate': 0.000996356012378487, 'weight_decay': 0.00036680408456724083, 'num_epochs': 26}. Best is trial 36 with value: 146.76663208007812.\n",
      "[I 2024-06-12 04:55:16,545] Trial 46 finished with value: 156.2047119140625 and parameters: {'num_heads': 4, 'model_dim': 228, 'num_layers': 2, 'dropout': 0.32413503648183883, 'learning_rate': 0.0066049194765866025, 'weight_decay': 0.00020239700970725894, 'num_epochs': 33}. Best is trial 36 with value: 146.76663208007812.\n",
      "[I 2024-06-12 04:55:27,350] Trial 47 finished with value: 155.6533660888672 and parameters: {'num_heads': 7, 'model_dim': 427, 'num_layers': 6, 'dropout': 0.25583623749757417, 'learning_rate': 0.008959323361020467, 'weight_decay': 0.00011534824274933712, 'num_epochs': 45}. Best is trial 36 with value: 146.76663208007812.\n",
      "[I 2024-06-12 04:55:38,814] Trial 48 finished with value: 156.16726684570312 and parameters: {'num_heads': 7, 'model_dim': 392, 'num_layers': 6, 'dropout': 0.15206037047604898, 'learning_rate': 0.0022126504074877255, 'weight_decay': 0.0018434631886212903, 'num_epochs': 59}. Best is trial 36 with value: 146.76663208007812.\n",
      "[I 2024-06-12 04:55:41,258] Trial 49 finished with value: 334.20416259765625 and parameters: {'num_heads': 2, 'model_dim': 52, 'num_layers': 4, 'dropout': 0.3543997013196464, 'learning_rate': 0.0034641301280183994, 'weight_decay': 0.0006243028541250229, 'num_epochs': 39}. Best is trial 36 with value: 146.76663208007812.\n",
      "[I 2024-06-12 04:55:49,624] Trial 50 finished with value: 307.12249755859375 and parameters: {'num_heads': 6, 'model_dim': 318, 'num_layers': 6, 'dropout': 0.17353157199776714, 'learning_rate': 0.00022853294561544173, 'weight_decay': 0.00041329387258511616, 'num_epochs': 53}. Best is trial 36 with value: 146.76663208007812.\n",
      "[I 2024-06-12 04:56:07,309] Trial 51 finished with value: 156.7643280029297 and parameters: {'num_heads': 8, 'model_dim': 440, 'num_layers': 5, 'dropout': 0.20664344469471857, 'learning_rate': 0.005841760905874595, 'weight_decay': 0.0010209708905670784, 'num_epochs': 90}. Best is trial 36 with value: 146.76663208007812.\n",
      "[I 2024-06-12 04:56:12,655] Trial 52 finished with value: 147.153076171875 and parameters: {'num_heads': 8, 'model_dim': 488, 'num_layers': 5, 'dropout': 0.11849855422460086, 'learning_rate': 0.004000419104802475, 'weight_decay': 0.0008394550941486347, 'num_epochs': 27}. Best is trial 36 with value: 146.76663208007812.\n",
      "[I 2024-06-12 04:56:16,282] Trial 53 finished with value: 157.46096801757812 and parameters: {'num_heads': 7, 'model_dim': 364, 'num_layers': 4, 'dropout': 0.11860684574727885, 'learning_rate': 0.009980349699842895, 'weight_decay': 0.0017925379152061854, 'num_epochs': 25}. Best is trial 36 with value: 146.76663208007812.\n",
      "[I 2024-06-12 04:56:18,804] Trial 54 finished with value: 121.5750503540039 and parameters: {'num_heads': 8, 'model_dim': 440, 'num_layers': 5, 'dropout': 0.11132075149711909, 'learning_rate': 0.0024538805333993567, 'weight_decay': 0.0007925016898317884, 'num_epochs': 16}. Best is trial 54 with value: 121.5750503540039.\n",
      "[I 2024-06-12 04:56:22,942] Trial 55 finished with value: 156.71481323242188 and parameters: {'num_heads': 7, 'model_dim': 420, 'num_layers': 6, 'dropout': 0.10830901087200887, 'learning_rate': 0.004300031255156086, 'weight_decay': 0.0007291492000244346, 'num_epochs': 18}. Best is trial 54 with value: 121.5750503540039.\n",
      "[I 2024-06-12 04:56:25,089] Trial 56 finished with value: 136.0821075439453 and parameters: {'num_heads': 8, 'model_dim': 440, 'num_layers': 5, 'dropout': 0.13840546634425466, 'learning_rate': 0.007365364603125659, 'weight_decay': 0.00031360721379172383, 'num_epochs': 14}. Best is trial 54 with value: 121.5750503540039.\n",
      "[I 2024-06-12 04:56:28,391] Trial 57 finished with value: 142.50047302246094 and parameters: {'num_heads': 8, 'model_dim': 448, 'num_layers': 5, 'dropout': 0.13407213053485512, 'learning_rate': 0.007624793538118417, 'weight_decay': 0.00026823477276959474, 'num_epochs': 14}. Best is trial 54 with value: 121.5750503540039.\n",
      "[I 2024-06-12 04:56:30,116] Trial 58 finished with value: 204.82254028320312 and parameters: {'num_heads': 8, 'model_dim': 448, 'num_layers': 5, 'dropout': 0.12842357897248755, 'learning_rate': 0.008130053557502277, 'weight_decay': 0.000278427940743403, 'num_epochs': 11}. Best is trial 54 with value: 121.5750503540039.\n",
      "[I 2024-06-12 04:56:33,574] Trial 59 finished with value: 141.05825805664062 and parameters: {'num_heads': 8, 'model_dim': 488, 'num_layers': 5, 'dropout': 0.11391581987738326, 'learning_rate': 0.007110071233832805, 'weight_decay': 0.000199223764791556, 'num_epochs': 16}. Best is trial 54 with value: 121.5750503540039.\n",
      "[I 2024-06-12 04:56:37,176] Trial 60 finished with value: 142.59991455078125 and parameters: {'num_heads': 8, 'model_dim': 488, 'num_layers': 5, 'dropout': 0.14459353271182562, 'learning_rate': 0.0072843170607335955, 'weight_decay': 9.236040998091477e-05, 'num_epochs': 15}. Best is trial 54 with value: 121.5750503540039.\n",
      "[I 2024-06-12 04:56:40,805] Trial 61 finished with value: 151.976318359375 and parameters: {'num_heads': 8, 'model_dim': 488, 'num_layers': 5, 'dropout': 0.14404623430318336, 'learning_rate': 0.00683459844617562, 'weight_decay': 7.73878872398704e-05, 'num_epochs': 16}. Best is trial 54 with value: 121.5750503540039.\n",
      "[I 2024-06-12 04:56:43,456] Trial 62 finished with value: 133.0000457763672 and parameters: {'num_heads': 8, 'model_dim': 488, 'num_layers': 5, 'dropout': 0.10270303240410228, 'learning_rate': 0.007478433024542595, 'weight_decay': 0.00014318291481705658, 'num_epochs': 14}. Best is trial 54 with value: 121.5750503540039.\n",
      "[I 2024-06-12 04:56:46,056] Trial 63 finished with value: 135.23959350585938 and parameters: {'num_heads': 8, 'model_dim': 440, 'num_layers': 4, 'dropout': 0.18448122084502255, 'learning_rate': 0.007033375522673835, 'weight_decay': 0.000130141927026168, 'num_epochs': 15}. Best is trial 54 with value: 121.5750503540039.\n",
      "[I 2024-06-12 04:56:48,305] Trial 64 finished with value: 142.37261962890625 and parameters: {'num_heads': 8, 'model_dim': 448, 'num_layers': 4, 'dropout': 0.1035747997301818, 'learning_rate': 0.007248231748405423, 'weight_decay': 5.445716971922245e-05, 'num_epochs': 15}. Best is trial 54 with value: 121.5750503540039.\n",
      "[I 2024-06-12 04:56:51,589] Trial 65 finished with value: 180.6256103515625 and parameters: {'num_heads': 8, 'model_dim': 448, 'num_layers': 4, 'dropout': 0.10828850119753332, 'learning_rate': 0.009992555152397893, 'weight_decay': 4.785805191507951e-05, 'num_epochs': 22}. Best is trial 54 with value: 121.5750503540039.\n",
      "[I 2024-06-12 04:56:53,755] Trial 66 finished with value: 131.58584594726562 and parameters: {'num_heads': 8, 'model_dim': 440, 'num_layers': 4, 'dropout': 0.18761192306010788, 'learning_rate': 0.008059167668164906, 'weight_decay': 0.00013165804012439422, 'num_epochs': 14}. Best is trial 54 with value: 121.5750503540039.\n",
      "[I 2024-06-12 04:56:56,970] Trial 67 finished with value: 171.98199462890625 and parameters: {'num_heads': 8, 'model_dim': 504, 'num_layers': 4, 'dropout': 0.18367671053162504, 'learning_rate': 0.006167035846082877, 'weight_decay': 0.00014592642138905028, 'num_epochs': 20}. Best is trial 54 with value: 121.5750503540039.\n",
      "[I 2024-06-12 04:56:58,604] Trial 68 finished with value: 397.6045227050781 and parameters: {'num_heads': 8, 'model_dim': 432, 'num_layers': 4, 'dropout': 0.10712199535454911, 'learning_rate': 9.054849479967081e-05, 'weight_decay': 4.328239953592471e-05, 'num_epochs': 10}. Best is trial 54 with value: 121.5750503540039.\n",
      "[I 2024-06-12 04:57:02,287] Trial 69 finished with value: 160.37063598632812 and parameters: {'num_heads': 8, 'model_dim': 408, 'num_layers': 4, 'dropout': 0.10322987341196593, 'learning_rate': 0.003022182498896672, 'weight_decay': 6.398083998102725e-05, 'num_epochs': 19}. Best is trial 54 with value: 121.5750503540039.\n",
      "[I 2024-06-12 04:57:04,700] Trial 70 finished with value: 122.4991683959961 and parameters: {'num_heads': 8, 'model_dim': 464, 'num_layers': 4, 'dropout': 0.2281469392290408, 'learning_rate': 0.002513511211466069, 'weight_decay': 0.00011905346627741779, 'num_epochs': 13}. Best is trial 54 with value: 121.5750503540039.\n",
      "[I 2024-06-12 04:57:06,596] Trial 71 finished with value: 139.15847778320312 and parameters: {'num_heads': 8, 'model_dim': 456, 'num_layers': 4, 'dropout': 0.18216009614564801, 'learning_rate': 0.008450357156876824, 'weight_decay': 0.0001216561104461128, 'num_epochs': 13}. Best is trial 54 with value: 121.5750503540039.\n",
      "[I 2024-06-12 04:57:09,342] Trial 72 finished with value: 150.3096466064453 and parameters: {'num_heads': 8, 'model_dim': 472, 'num_layers': 4, 'dropout': 0.2280621983204917, 'learning_rate': 0.005611309584126076, 'weight_decay': 0.0001943516815905195, 'num_epochs': 13}. Best is trial 54 with value: 121.5750503540039.\n",
      "[I 2024-06-12 04:57:12,207] Trial 73 finished with value: 154.7742156982422 and parameters: {'num_heads': 8, 'model_dim': 464, 'num_layers': 4, 'dropout': 0.18406802100575548, 'learning_rate': 0.008491616613848806, 'weight_decay': 0.00012092334761651947, 'num_epochs': 17}. Best is trial 54 with value: 121.5750503540039.\n",
      "[I 2024-06-12 04:57:15,373] Trial 74 finished with value: 178.47698974609375 and parameters: {'num_heads': 8, 'model_dim': 504, 'num_layers': 3, 'dropout': 0.21046193211092576, 'learning_rate': 0.002400654579216678, 'weight_decay': 3.268383135806351e-05, 'num_epochs': 21}. Best is trial 54 with value: 121.5750503540039.\n",
      "[I 2024-06-12 04:57:20,396] Trial 75 finished with value: 174.48382568359375 and parameters: {'num_heads': 8, 'model_dim': 472, 'num_layers': 4, 'dropout': 0.2004497866804093, 'learning_rate': 0.00548295482161116, 'weight_decay': 0.00012522731705134205, 'num_epochs': 24}. Best is trial 54 with value: 121.5750503540039.\n",
      "[I 2024-06-12 04:57:22,605] Trial 76 finished with value: 191.38845825195312 and parameters: {'num_heads': 8, 'model_dim': 416, 'num_layers': 5, 'dropout': 0.18931891940494935, 'learning_rate': 0.009997610969769626, 'weight_decay': 0.00017873425074242267, 'num_epochs': 12}. Best is trial 54 with value: 121.5750503540039.\n",
      "[I 2024-06-12 04:57:24,079] Trial 77 finished with value: 200.68844604492188 and parameters: {'num_heads': 3, 'model_dim': 189, 'num_layers': 5, 'dropout': 0.21743450896649807, 'learning_rate': 0.0031692707569570613, 'weight_decay': 9.617084099959033e-05, 'num_epochs': 18}. Best is trial 54 with value: 121.5750503540039.\n",
      "[I 2024-06-12 04:57:26,953] Trial 78 finished with value: 193.91268920898438 and parameters: {'num_heads': 8, 'model_dim': 496, 'num_layers': 4, 'dropout': 0.15805140697338504, 'learning_rate': 0.008060362459876938, 'weight_decay': 0.00021741828238575265, 'num_epochs': 13}. Best is trial 54 with value: 121.5750503540039.\n",
      "[I 2024-06-12 04:57:29,519] Trial 79 finished with value: 115.57672119140625 and parameters: {'num_heads': 8, 'model_dim': 456, 'num_layers': 5, 'dropout': 0.1476150879700394, 'learning_rate': 0.0037424918417527406, 'weight_decay': 0.00015268453973199701, 'num_epochs': 10}. Best is trial 79 with value: 115.57672119140625.\n",
      "[I 2024-06-12 04:57:31,431] Trial 80 finished with value: 112.7989501953125 and parameters: {'num_heads': 8, 'model_dim': 440, 'num_layers': 4, 'dropout': 0.14384163118034993, 'learning_rate': 0.003817230356268547, 'weight_decay': 0.00015009832324060598, 'num_epochs': 10}. Best is trial 80 with value: 112.7989501953125.\n",
      "[I 2024-06-12 04:57:33,234] Trial 81 finished with value: 110.2566909790039 and parameters: {'num_heads': 8, 'model_dim': 440, 'num_layers': 4, 'dropout': 0.17754549994274815, 'learning_rate': 0.004020903372061854, 'weight_decay': 0.0001529765304527148, 'num_epochs': 10}. Best is trial 81 with value: 110.2566909790039.\n",
      "[I 2024-06-12 04:57:35,018] Trial 82 finished with value: 148.6934356689453 and parameters: {'num_heads': 8, 'model_dim': 432, 'num_layers': 4, 'dropout': 0.14532448992801986, 'learning_rate': 0.0027840110310021443, 'weight_decay': 0.00015670189684439254, 'num_epochs': 10}. Best is trial 81 with value: 110.2566909790039.\n",
      "[I 2024-06-12 04:57:35,854] Trial 83 finished with value: 213.6670684814453 and parameters: {'num_heads': 8, 'model_dim': 408, 'num_layers': 3, 'dropout': 0.16455842602252546, 'learning_rate': 0.001979627637477075, 'weight_decay': 8.091426959887669e-05, 'num_epochs': 10}. Best is trial 81 with value: 110.2566909790039.\n",
      "[I 2024-06-12 04:57:40,080] Trial 84 finished with value: 142.9557342529297 and parameters: {'num_heads': 7, 'model_dim': 434, 'num_layers': 5, 'dropout': 0.17450280665650875, 'learning_rate': 0.003998822634285445, 'weight_decay': 0.00013815467001180272, 'num_epochs': 21}. Best is trial 81 with value: 110.2566909790039.\n",
      "[I 2024-06-12 04:57:41,444] Trial 85 finished with value: 556.4442138671875 and parameters: {'num_heads': 1, 'model_dim': 63, 'num_layers': 4, 'dropout': 0.13352125113457075, 'learning_rate': 0.0015941845968187123, 'weight_decay': 9.814669422863449e-05, 'num_epochs': 28}. Best is trial 81 with value: 110.2566909790039.\n",
      "[I 2024-06-12 04:57:44,752] Trial 86 finished with value: 380.2674865722656 and parameters: {'num_heads': 8, 'model_dim': 464, 'num_layers': 5, 'dropout': 0.14962379542865667, 'learning_rate': 5.063348223956013e-05, 'weight_decay': 0.00017193906329087235, 'num_epochs': 17}. Best is trial 81 with value: 110.2566909790039.\n",
      "[I 2024-06-12 04:57:46,883] Trial 87 finished with value: 112.28369140625 and parameters: {'num_heads': 7, 'model_dim': 420, 'num_layers': 4, 'dropout': 0.15671420632260505, 'learning_rate': 0.0034544934652093835, 'weight_decay': 0.0003471968411736007, 'num_epochs': 14}. Best is trial 81 with value: 110.2566909790039.\n",
      "[I 2024-06-12 04:57:49,831] Trial 88 finished with value: 176.32974243164062 and parameters: {'num_heads': 7, 'model_dim': 399, 'num_layers': 4, 'dropout': 0.16284188920999051, 'learning_rate': 0.0034242582735880805, 'weight_decay': 6.615981737246183e-05, 'num_epochs': 23}. Best is trial 81 with value: 110.2566909790039.\n",
      "[I 2024-06-12 04:57:52,650] Trial 89 finished with value: 123.3145523071289 and parameters: {'num_heads': 7, 'model_dim': 420, 'num_layers': 4, 'dropout': 0.26087096226705575, 'learning_rate': 0.002456046363372901, 'weight_decay': 0.00010933829703624041, 'num_epochs': 18}. Best is trial 81 with value: 110.2566909790039.\n",
      "[I 2024-06-12 04:57:54,221] Trial 90 finished with value: 130.5663299560547 and parameters: {'num_heads': 7, 'model_dim': 420, 'num_layers': 3, 'dropout': 0.2613431313676494, 'learning_rate': 0.002480856551574231, 'weight_decay': 0.00025455106415457683, 'num_epochs': 19}. Best is trial 81 with value: 110.2566909790039.\n",
      "[I 2024-06-12 04:57:56,282] Trial 91 finished with value: 138.17770385742188 and parameters: {'num_heads': 7, 'model_dim': 420, 'num_layers': 3, 'dropout': 0.2850869972181755, 'learning_rate': 0.0024567836631738164, 'weight_decay': 0.00022746583895298634, 'num_epochs': 19}. Best is trial 81 with value: 110.2566909790039.\n",
      "[I 2024-06-12 04:57:57,985] Trial 92 finished with value: 187.1448211669922 and parameters: {'num_heads': 7, 'model_dim': 413, 'num_layers': 3, 'dropout': 0.2492441340743744, 'learning_rate': 0.0017332970761500144, 'weight_decay': 0.00010970822254917959, 'num_epochs': 12}. Best is trial 81 with value: 110.2566909790039.\n",
      "[I 2024-06-12 04:57:59,023] Trial 93 finished with value: 322.5038757324219 and parameters: {'num_heads': 6, 'model_dim': 372, 'num_layers': 3, 'dropout': 0.273277973940461, 'learning_rate': 0.0009186756705998772, 'weight_decay': 0.0001654780672162029, 'num_epochs': 10}. Best is trial 81 with value: 110.2566909790039.\n",
      "[I 2024-06-12 04:58:01,950] Trial 94 finished with value: 158.66575622558594 and parameters: {'num_heads': 7, 'model_dim': 427, 'num_layers': 4, 'dropout': 0.2349181198895189, 'learning_rate': 0.0012611213457235826, 'weight_decay': 0.0002396473320189064, 'num_epochs': 20}. Best is trial 81 with value: 110.2566909790039.\n",
      "[I 2024-06-12 04:58:04,052] Trial 95 finished with value: 110.71561431884766 and parameters: {'num_heads': 7, 'model_dim': 399, 'num_layers': 4, 'dropout': 0.2531016017067282, 'learning_rate': 0.0037595282542317097, 'weight_decay': 8.6327682943112e-05, 'num_epochs': 12}. Best is trial 81 with value: 110.2566909790039.\n",
      "[I 2024-06-12 04:58:06,937] Trial 96 finished with value: 140.29495239257812 and parameters: {'num_heads': 6, 'model_dim': 366, 'num_layers': 4, 'dropout': 0.28304377494430066, 'learning_rate': 0.00210630396309631, 'weight_decay': 8.277459354894314e-05, 'num_epochs': 17}. Best is trial 81 with value: 110.2566909790039.\n",
      "[I 2024-06-12 04:58:08,678] Trial 97 finished with value: 140.8225555419922 and parameters: {'num_heads': 7, 'model_dim': 399, 'num_layers': 4, 'dropout': 0.2600207649780891, 'learning_rate': 0.0027016463997984524, 'weight_decay': 0.00010460369681009801, 'num_epochs': 12}. Best is trial 81 with value: 110.2566909790039.\n",
      "[I 2024-06-12 04:58:11,199] Trial 98 finished with value: 133.3777618408203 and parameters: {'num_heads': 7, 'model_dim': 420, 'num_layers': 3, 'dropout': 0.258893879850312, 'learning_rate': 0.001491367012174929, 'weight_decay': 0.00039851323861758335, 'num_epochs': 22}. Best is trial 81 with value: 110.2566909790039.\n",
      "[I 2024-06-12 04:58:12,114] Trial 99 finished with value: 136.34930419921875 and parameters: {'num_heads': 7, 'model_dim': 392, 'num_layers': 2, 'dropout': 0.3080419391876107, 'learning_rate': 0.0036176192813977717, 'weight_decay': 3.264024266174275e-05, 'num_epochs': 16}. Best is trial 81 with value: 110.2566909790039.\n"
     ]
    },
    {
     "name": "stdout",
     "output_type": "stream",
     "text": [
      "Número de pruebas: 100\n",
      "Mejor prueba: {'num_heads': 8, 'model_dim': 440, 'num_layers': 4, 'dropout': 0.17754549994274815, 'learning_rate': 0.004020903372061854, 'weight_decay': 0.0001529765304527148, 'num_epochs': 10}\n",
      "Mejor valor de pérdida: 110.2566909790039\n"
     ]
    }
   ],
   "source": [
    "# configuration optuna\n",
    "study_g = optuna.create_study(direction='minimize')\n",
    "study_g.optimize(lambda trial: objective(trial, X_g_train, y_g_train, X_g_test, y_g_test, len(features), len(target)), n_trials=100)\n",
    "\n",
    "# Results\n",
    "ic(f'Número de pruebas: {len(study_g.trials)}')\n",
    "ic(f'Mejor prueba: {study_g.best_trial.params}')\n",
    "ic(f'Mejor valor de pérdida: {study_g.best_trial.value}')"
   ]
  },
  {
   "cell_type": "markdown",
   "metadata": {},
   "source": [
    "## Single Thread"
   ]
  },
  {
   "cell_type": "code",
   "execution_count": 15,
   "metadata": {},
   "outputs": [
    {
     "name": "stderr",
     "output_type": "stream",
     "text": [
      "[I 2024-06-12 05:01:09,137] A new study created in memory with name: no-name-1ca2f765-e410-498a-bd5a-25f442fcbfcc\n",
      "[I 2024-06-12 05:01:10,184] Trial 0 finished with value: 480.5138244628906 and parameters: {'num_heads': 4, 'model_dim': 60, 'num_layers': 6, 'dropout': 0.42991711468106575, 'learning_rate': 0.00016839817138468574, 'weight_decay': 0.00015088227698209177, 'num_epochs': 14}. Best is trial 0 with value: 480.5138244628906.\n",
      "[I 2024-06-12 05:01:11,699] Trial 1 finished with value: 330.24249267578125 and parameters: {'num_heads': 2, 'model_dim': 124, 'num_layers': 3, 'dropout': 0.3438325769521081, 'learning_rate': 0.000236733362545748, 'weight_decay': 0.00038251023377453193, 'num_epochs': 41}. Best is trial 1 with value: 330.24249267578125.\n",
      "c:\\Users\\LOL66\\Escritorio\\resource-prediction-study\\venv\\Lib\\site-packages\\torch\\nn\\modules\\transformer.py:306: UserWarning: enable_nested_tensor is True, but self.use_nested_tensor is False because encoder_layer.self_attn.num_heads is odd\n",
      "  warnings.warn(f\"enable_nested_tensor is True, but self.use_nested_tensor is False because {why_not_sparsity_fast_path}\")\n",
      "[I 2024-06-12 05:01:15,206] Trial 2 finished with value: 351.36474609375 and parameters: {'num_heads': 7, 'model_dim': 112, 'num_layers': 3, 'dropout': 0.38515227867810153, 'learning_rate': 8.091130284678718e-05, 'weight_decay': 0.0039202861497371925, 'num_epochs': 98}. Best is trial 1 with value: 330.24249267578125.\n",
      "[I 2024-06-12 05:01:15,575] Trial 3 finished with value: 514.0284423828125 and parameters: {'num_heads': 1, 'model_dim': 43, 'num_layers': 1, 'dropout': 0.2341587870572533, 'learning_rate': 0.00012224451007742366, 'weight_decay': 0.00021753180381163214, 'num_epochs': 35}. Best is trial 1 with value: 330.24249267578125.\n",
      "[I 2024-06-12 05:01:20,473] Trial 4 finished with value: 38.369571685791016 and parameters: {'num_heads': 8, 'model_dim': 232, 'num_layers': 3, 'dropout': 0.41948548428670107, 'learning_rate': 0.0033515538154434816, 'weight_decay': 2.5058302500595512e-05, 'num_epochs': 79}. Best is trial 4 with value: 38.369571685791016.\n",
      "[I 2024-06-12 05:01:31,936] Trial 5 finished with value: 231.96102905273438 and parameters: {'num_heads': 4, 'model_dim': 224, 'num_layers': 6, 'dropout': 0.47077083015395593, 'learning_rate': 0.00011151235243507572, 'weight_decay': 3.9801469504628827e-05, 'num_epochs': 98}. Best is trial 4 with value: 38.369571685791016.\n",
      "[I 2024-06-12 05:01:33,578] Trial 6 finished with value: 466.0465087890625 and parameters: {'num_heads': 1, 'model_dim': 58, 'num_layers': 4, 'dropout': 0.15745686191052563, 'learning_rate': 0.00026178255230305616, 'weight_decay': 0.0019540948576492316, 'num_epochs': 27}. Best is trial 4 with value: 38.369571685791016.\n",
      "[I 2024-06-12 05:01:38,298] Trial 7 finished with value: 442.00341796875 and parameters: {'num_heads': 7, 'model_dim': 119, 'num_layers': 5, 'dropout': 0.12722588009765703, 'learning_rate': 1.2158686089094733e-05, 'weight_decay': 2.6183628885187077e-05, 'num_epochs': 65}. Best is trial 4 with value: 38.369571685791016.\n",
      "[I 2024-06-12 05:01:40,962] Trial 8 finished with value: 172.6920928955078 and parameters: {'num_heads': 3, 'model_dim': 111, 'num_layers': 3, 'dropout': 0.47000994424326115, 'learning_rate': 0.001048013071941059, 'weight_decay': 0.0006258871212015261, 'num_epochs': 59}. Best is trial 4 with value: 38.369571685791016.\n",
      "[I 2024-06-12 05:01:41,461] Trial 9 finished with value: 455.0703430175781 and parameters: {'num_heads': 7, 'model_dim': 70, 'num_layers': 4, 'dropout': 0.1090551351318712, 'learning_rate': 0.00021438877118121563, 'weight_decay': 0.0006985249415387228, 'num_epochs': 12}. Best is trial 4 with value: 38.369571685791016.\n",
      "[I 2024-06-12 05:01:43,937] Trial 10 finished with value: 103.54710388183594 and parameters: {'num_heads': 8, 'model_dim': 432, 'num_layers': 1, 'dropout': 0.27785946343268775, 'learning_rate': 0.006548276589550842, 'weight_decay': 1.0511499165473434e-05, 'num_epochs': 77}. Best is trial 4 with value: 38.369571685791016.\n",
      "[I 2024-06-12 05:01:47,173] Trial 11 finished with value: 85.21110534667969 and parameters: {'num_heads': 8, 'model_dim': 480, 'num_layers': 1, 'dropout': 0.27366441977036293, 'learning_rate': 0.009748777441536518, 'weight_decay': 1.0321017410173089e-05, 'num_epochs': 77}. Best is trial 4 with value: 38.369571685791016.\n",
      "[I 2024-06-12 05:01:51,122] Trial 12 finished with value: 35.029659271240234 and parameters: {'num_heads': 6, 'model_dim': 378, 'num_layers': 2, 'dropout': 0.23890665563371372, 'learning_rate': 0.009470258220385393, 'weight_decay': 5.166578959118941e-05, 'num_epochs': 82}. Best is trial 12 with value: 35.029659271240234.\n",
      "[I 2024-06-12 05:01:55,875] Trial 13 finished with value: 35.66141128540039 and parameters: {'num_heads': 6, 'model_dim': 294, 'num_layers': 2, 'dropout': 0.21122445751539295, 'learning_rate': 0.00255865792298924, 'weight_decay': 7.731454657518958e-05, 'num_epochs': 82}. Best is trial 12 with value: 35.029659271240234.\n",
      "[I 2024-06-12 05:02:00,288] Trial 14 finished with value: 104.97513580322266 and parameters: {'num_heads': 5, 'model_dim': 280, 'num_layers': 2, 'dropout': 0.2047761280584383, 'learning_rate': 0.0015814186274052489, 'weight_decay': 8.528582648417073e-05, 'num_epochs': 89}. Best is trial 12 with value: 35.029659271240234.\n",
      "[I 2024-06-12 05:02:03,501] Trial 15 finished with value: 38.21205520629883 and parameters: {'num_heads': 6, 'model_dim': 324, 'num_layers': 2, 'dropout': 0.20527999624501847, 'learning_rate': 0.0010103857134986752, 'weight_decay': 8.239428946661409e-05, 'num_epochs': 67}. Best is trial 12 with value: 35.029659271240234.\n",
      "[I 2024-06-12 05:02:06,327] Trial 16 finished with value: 35.12751007080078 and parameters: {'num_heads': 5, 'model_dim': 285, 'num_layers': 2, 'dropout': 0.32278651745053366, 'learning_rate': 0.003347538558186806, 'weight_decay': 5.749230305677337e-05, 'num_epochs': 49}. Best is trial 12 with value: 35.029659271240234.\n",
      "[I 2024-06-12 05:02:08,385] Trial 17 finished with value: 42.025611877441406 and parameters: {'num_heads': 5, 'model_dim': 200, 'num_layers': 2, 'dropout': 0.3358455761306627, 'learning_rate': 0.004366146008858381, 'weight_decay': 0.009052560548871873, 'num_epochs': 48}. Best is trial 12 with value: 35.029659271240234.\n",
      "[I 2024-06-12 05:02:10,849] Trial 18 finished with value: 40.72734451293945 and parameters: {'num_heads': 6, 'model_dim': 342, 'num_layers': 2, 'dropout': 0.31586216677901685, 'learning_rate': 0.0007681664431459806, 'weight_decay': 2.8386289512031047e-05, 'num_epochs': 52}. Best is trial 12 with value: 35.029659271240234.\n",
      "[I 2024-06-12 05:02:11,510] Trial 19 finished with value: 560.8597412109375 and parameters: {'num_heads': 3, 'model_dim': 12, 'num_layers': 1, 'dropout': 0.2593580103406812, 'learning_rate': 0.0005058823287041135, 'weight_decay': 5.502041229981192e-05, 'num_epochs': 66}. Best is trial 12 with value: 35.029659271240234.\n",
      "[I 2024-06-12 05:02:14,638] Trial 20 finished with value: 38.934329986572266 and parameters: {'num_heads': 5, 'model_dim': 255, 'num_layers': 5, 'dropout': 0.36133816723485745, 'learning_rate': 0.009733931722482934, 'weight_decay': 0.00014268061046985336, 'num_epochs': 27}. Best is trial 12 with value: 35.029659271240234.\n",
      "[I 2024-06-12 05:02:18,837] Trial 21 finished with value: 35.18186569213867 and parameters: {'num_heads': 6, 'model_dim': 318, 'num_layers': 2, 'dropout': 0.16855134146176537, 'learning_rate': 0.002349658239360542, 'weight_decay': 6.839356736138026e-05, 'num_epochs': 86}. Best is trial 12 with value: 35.029659271240234.\n",
      "[I 2024-06-12 05:02:23,637] Trial 22 finished with value: 35.79875946044922 and parameters: {'num_heads': 6, 'model_dim': 348, 'num_layers': 2, 'dropout': 0.16188649297358, 'learning_rate': 0.0019828533899951943, 'weight_decay': 1.733743723919586e-05, 'num_epochs': 93}. Best is trial 12 with value: 35.029659271240234.\n",
      "[I 2024-06-12 05:02:29,883] Trial 23 finished with value: 34.90260696411133 and parameters: {'num_heads': 5, 'model_dim': 285, 'num_layers': 3, 'dropout': 0.16274600442648068, 'learning_rate': 0.004420455284819049, 'weight_decay': 5.2711951546420506e-05, 'num_epochs': 86}. Best is trial 23 with value: 34.90260696411133.\n",
      "[I 2024-06-12 05:02:33,919] Trial 24 finished with value: 37.36827087402344 and parameters: {'num_heads': 4, 'model_dim': 160, 'num_layers': 4, 'dropout': 0.24652232758137124, 'learning_rate': 0.0049904625722262674, 'weight_decay': 0.00012470434562334787, 'num_epochs': 58}. Best is trial 23 with value: 34.90260696411133.\n",
      "[I 2024-06-12 05:02:37,828] Trial 25 finished with value: 325.29583740234375 and parameters: {'num_heads': 5, 'model_dim': 190, 'num_layers': 3, 'dropout': 0.30761334422956027, 'learning_rate': 2.9994914837310213e-05, 'weight_decay': 0.00029231278968669383, 'num_epochs': 73}. Best is trial 23 with value: 34.90260696411133.\n",
      "[I 2024-06-12 05:02:40,423] Trial 26 finished with value: 42.63581848144531 and parameters: {'num_heads': 3, 'model_dim': 144, 'num_layers': 3, 'dropout': 0.2912566243524024, 'learning_rate': 0.005311805550027039, 'weight_decay': 4.8637442715082396e-05, 'num_epochs': 47}. Best is trial 23 with value: 34.90260696411133.\n",
      "[I 2024-06-12 05:02:42,107] Trial 27 finished with value: 89.27706909179688 and parameters: {'num_heads': 4, 'model_dim': 176, 'num_layers': 1, 'dropout': 0.17960363700579066, 'learning_rate': 0.007077343606146378, 'weight_decay': 1.7550547110774785e-05, 'num_epochs': 70}. Best is trial 23 with value: 34.90260696411133.\n",
      "[I 2024-06-12 05:02:49,976] Trial 28 finished with value: 79.30204010009766 and parameters: {'num_heads': 5, 'model_dim': 265, 'num_layers': 4, 'dropout': 0.1398854904797397, 'learning_rate': 0.00044762595962758003, 'weight_decay': 3.8714095614404404e-05, 'num_epochs': 87}. Best is trial 23 with value: 34.90260696411133.\n",
      "[I 2024-06-12 05:02:51,665] Trial 29 finished with value: 37.27090072631836 and parameters: {'num_heads': 7, 'model_dim': 371, 'num_layers': 2, 'dropout': 0.23366833869836007, 'learning_rate': 0.003745833937887607, 'weight_decay': 0.00018779154618425094, 'num_epochs': 36}. Best is trial 23 with value: 34.90260696411133.\n",
      "[I 2024-06-12 05:02:54,424] Trial 30 finished with value: 143.47787475585938 and parameters: {'num_heads': 4, 'model_dim': 212, 'num_layers': 5, 'dropout': 0.3779982181226744, 'learning_rate': 0.0014722653626978361, 'weight_decay': 0.00011883526988007214, 'num_epochs': 22}. Best is trial 23 with value: 34.90260696411133.\n",
      "[I 2024-06-12 05:02:58,111] Trial 31 finished with value: 35.455467224121094 and parameters: {'num_heads': 6, 'model_dim': 312, 'num_layers': 2, 'dropout': 0.18532639774134654, 'learning_rate': 0.0023999476970193844, 'weight_decay': 6.771539202448403e-05, 'num_epochs': 86}. Best is trial 23 with value: 34.90260696411133.\n",
      "[I 2024-06-12 05:03:06,006] Trial 32 finished with value: 34.880226135253906 and parameters: {'num_heads': 6, 'model_dim': 366, 'num_layers': 3, 'dropout': 0.1792194877319193, 'learning_rate': 0.003722091017440351, 'weight_decay': 1.8320232469080946e-05, 'num_epochs': 93}. Best is trial 32 with value: 34.880226135253906.\n",
      "[I 2024-06-12 05:03:11,669] Trial 33 finished with value: 34.55290222167969 and parameters: {'num_heads': 5, 'model_dim': 250, 'num_layers': 3, 'dropout': 0.21890626727502, 'learning_rate': 0.0036499993206928457, 'weight_decay': 1.7464004655375776e-05, 'num_epochs': 92}. Best is trial 33 with value: 34.55290222167969.\n",
      "[I 2024-06-12 05:03:20,525] Trial 34 finished with value: 34.61855697631836 and parameters: {'num_heads': 7, 'model_dim': 392, 'num_layers': 3, 'dropout': 0.2221778370832548, 'learning_rate': 0.007202348704984401, 'weight_decay': 1.8399275527582718e-05, 'num_epochs': 100}. Best is trial 33 with value: 34.55290222167969.\n",
      "[I 2024-06-12 05:03:28,899] Trial 35 finished with value: 34.906917572021484 and parameters: {'num_heads': 7, 'model_dim': 399, 'num_layers': 3, 'dropout': 0.10014414146227363, 'learning_rate': 0.006564313575947444, 'weight_decay': 1.6943464741450984e-05, 'num_epochs': 99}. Best is trial 33 with value: 34.55290222167969.\n",
      "[I 2024-06-12 05:03:37,221] Trial 36 finished with value: 34.83708190917969 and parameters: {'num_heads': 7, 'model_dim': 413, 'num_layers': 3, 'dropout': 0.1329320818810924, 'learning_rate': 0.0030722808848018812, 'weight_decay': 1.4849271026799974e-05, 'num_epochs': 93}. Best is trial 33 with value: 34.55290222167969.\n",
      "[I 2024-06-12 05:03:49,957] Trial 37 finished with value: 36.158714294433594 and parameters: {'num_heads': 8, 'model_dim': 456, 'num_layers': 4, 'dropout': 0.13243465226039886, 'learning_rate': 0.0014492848643024364, 'weight_decay': 1.4048468172758967e-05, 'num_epochs': 94}. Best is trial 33 with value: 34.55290222167969.\n",
      "[I 2024-06-12 05:03:58,156] Trial 38 finished with value: 167.3237762451172 and parameters: {'num_heads': 7, 'model_dim': 420, 'num_layers': 3, 'dropout': 0.21518526438562385, 'learning_rate': 4.5655007740430295e-05, 'weight_decay': 2.42134451363565e-05, 'num_epochs': 93}. Best is trial 33 with value: 34.55290222167969.\n",
      "[I 2024-06-12 05:04:06,663] Trial 39 finished with value: 35.2063102722168 and parameters: {'num_heads': 7, 'model_dim': 378, 'num_layers': 3, 'dropout': 0.1894220798541393, 'learning_rate': 0.0028158964113553543, 'weight_decay': 3.122426809199703e-05, 'num_epochs': 98}. Best is trial 33 with value: 34.55290222167969.\n",
      "[I 2024-06-12 05:04:20,881] Trial 40 finished with value: 39.33640670776367 and parameters: {'num_heads': 8, 'model_dim': 488, 'num_layers': 4, 'dropout': 0.1462118802395933, 'learning_rate': 0.0006887522143919494, 'weight_decay': 1.3889275331834453e-05, 'num_epochs': 100}. Best is trial 33 with value: 34.55290222167969.\n",
      "[I 2024-06-12 05:04:29,012] Trial 41 finished with value: 34.7052116394043 and parameters: {'num_heads': 7, 'model_dim': 406, 'num_layers': 3, 'dropout': 0.1287613147730403, 'learning_rate': 0.003694387159935415, 'weight_decay': 2.199610135583298e-05, 'num_epochs': 91}. Best is trial 33 with value: 34.55290222167969.\n",
      "[I 2024-06-12 05:04:37,262] Trial 42 finished with value: 34.752685546875 and parameters: {'num_heads': 7, 'model_dim': 406, 'num_layers': 3, 'dropout': 0.11937071913515795, 'learning_rate': 0.00649146741530793, 'weight_decay': 2.5473081981246683e-05, 'num_epochs': 93}. Best is trial 33 with value: 34.55290222167969.\n",
      "[I 2024-06-12 05:04:45,609] Trial 43 finished with value: 35.09063720703125 and parameters: {'num_heads': 7, 'model_dim': 406, 'num_layers': 3, 'dropout': 0.11076318398105915, 'learning_rate': 0.0067469512280355325, 'weight_decay': 2.4151331513867996e-05, 'num_epochs': 90}. Best is trial 33 with value: 34.55290222167969.\n",
      "[I 2024-06-12 05:04:58,532] Trial 44 finished with value: 35.4983024597168 and parameters: {'num_heads': 8, 'model_dim': 440, 'num_layers': 4, 'dropout': 0.12103078633914634, 'learning_rate': 0.0018045952501440869, 'weight_decay': 1.017719395381169e-05, 'num_epochs': 95}. Best is trial 33 with value: 34.55290222167969.\n",
      "[I 2024-06-12 05:05:05,350] Trial 45 finished with value: 35.113643646240234 and parameters: {'num_heads': 7, 'model_dim': 399, 'num_layers': 3, 'dropout': 0.14140765023169524, 'learning_rate': 0.005689063687097783, 'weight_decay': 3.609603723758369e-05, 'num_epochs': 80}. Best is trial 33 with value: 34.55290222167969.\n",
      "[I 2024-06-12 05:05:13,130] Trial 46 finished with value: 34.67552185058594 and parameters: {'num_heads': 8, 'model_dim': 464, 'num_layers': 3, 'dropout': 0.12031699223718179, 'learning_rate': 0.007766119712685419, 'weight_decay': 2.1822600119946398e-05, 'num_epochs': 74}. Best is trial 33 with value: 34.55290222167969.\n",
      "[I 2024-06-12 05:05:23,494] Trial 47 finished with value: 35.02442169189453 and parameters: {'num_heads': 8, 'model_dim': 472, 'num_layers': 4, 'dropout': 0.1149972601419824, 'learning_rate': 0.007916931926089261, 'weight_decay': 2.1963466232446438e-05, 'num_epochs': 72}. Best is trial 33 with value: 34.55290222167969.\n",
      "[I 2024-06-12 05:05:26,980] Trial 48 finished with value: 118.95153045654297 and parameters: {'num_heads': 2, 'model_dim': 102, 'num_layers': 3, 'dropout': 0.22598998627226236, 'learning_rate': 0.001112916387255816, 'weight_decay': 0.0017743409518386963, 'num_epochs': 82}. Best is trial 33 with value: 34.55290222167969.\n",
      "[I 2024-06-12 05:05:35,447] Trial 49 finished with value: 34.017086029052734 and parameters: {'num_heads': 8, 'model_dim': 504, 'num_layers': 3, 'dropout': 0.41129279462148904, 'learning_rate': 0.00968935704706033, 'weight_decay': 3.709591616746623e-05, 'num_epochs': 77}. Best is trial 49 with value: 34.017086029052734.\n",
      "[I 2024-06-12 05:05:46,993] Trial 50 finished with value: 35.734500885009766 and parameters: {'num_heads': 8, 'model_dim': 496, 'num_layers': 4, 'dropout': 0.4249816837441275, 'learning_rate': 0.008498350223249527, 'weight_decay': 0.0007123482701129711, 'num_epochs': 76}. Best is trial 49 with value: 34.017086029052734.\n",
      "[I 2024-06-12 05:05:55,707] Trial 51 finished with value: 35.2249870300293 and parameters: {'num_heads': 8, 'model_dim': 456, 'num_layers': 3, 'dropout': 0.15249375754665276, 'learning_rate': 0.005963299255077993, 'weight_decay': 3.8732213043827765e-05, 'num_epochs': 90}. Best is trial 49 with value: 34.017086029052734.\n",
      "[I 2024-06-12 05:06:02,855] Trial 52 finished with value: 34.66335678100586 and parameters: {'num_heads': 8, 'model_dim': 504, 'num_layers': 3, 'dropout': 0.45832479673731913, 'learning_rate': 0.0047380328407854375, 'weight_decay': 1.191575117963481e-05, 'num_epochs': 60}. Best is trial 49 with value: 34.017086029052734.\n",
      "[I 2024-06-12 05:06:11,476] Trial 53 finished with value: 34.89100646972656 and parameters: {'num_heads': 8, 'model_dim': 504, 'num_layers': 3, 'dropout': 0.49934332967122214, 'learning_rate': 0.004449834240957189, 'weight_decay': 1.2234108798614046e-05, 'num_epochs': 60}. Best is trial 49 with value: 34.017086029052734.\n",
      "[I 2024-06-12 05:06:26,388] Trial 54 finished with value: 34.84956741333008 and parameters: {'num_heads': 8, 'model_dim': 512, 'num_layers': 6, 'dropout': 0.44399550066722676, 'learning_rate': 0.009948317419063765, 'weight_decay': 2.135010786375731e-05, 'num_epochs': 63}. Best is trial 49 with value: 34.017086029052734.\n",
      "[I 2024-06-12 05:06:34,554] Trial 55 finished with value: 34.31922912597656 and parameters: {'num_heads': 8, 'model_dim': 464, 'num_layers': 3, 'dropout': 0.3981936219466078, 'learning_rate': 0.0036328008320526714, 'weight_decay': 3.062755307176161e-05, 'num_epochs': 75}. Best is trial 49 with value: 34.017086029052734.\n",
      "[I 2024-06-12 05:06:41,659] Trial 56 finished with value: 121.7118148803711 and parameters: {'num_heads': 8, 'model_dim': 464, 'num_layers': 3, 'dropout': 0.3998253787090228, 'learning_rate': 0.00012697939994523198, 'weight_decay': 1.2330845041128585e-05, 'num_epochs': 68}. Best is trial 49 with value: 34.017086029052734.\n",
      "[I 2024-06-12 05:06:49,337] Trial 57 finished with value: 36.224124908447266 and parameters: {'num_heads': 8, 'model_dim': 488, 'num_layers': 4, 'dropout': 0.44703230718191933, 'learning_rate': 0.007948489752821997, 'weight_decay': 2.9348214612382882e-05, 'num_epochs': 55}. Best is trial 49 with value: 34.017086029052734.\n",
      "[I 2024-06-12 05:06:54,153] Trial 58 finished with value: 34.867618560791016 and parameters: {'num_heads': 8, 'model_dim': 440, 'num_layers': 2, 'dropout': 0.402907644847589, 'learning_rate': 0.002131150350395244, 'weight_decay': 1.01874468225124e-05, 'num_epochs': 75}. Best is trial 49 with value: 34.017086029052734.\n",
      "[I 2024-06-12 05:07:00,974] Trial 59 finished with value: 34.1482048034668 and parameters: {'num_heads': 8, 'model_dim': 480, 'num_layers': 3, 'dropout': 0.47727203504734517, 'learning_rate': 0.004663284450950062, 'weight_decay': 4.314915856090441e-05, 'num_epochs': 63}. Best is trial 49 with value: 34.017086029052734.\n",
      "[I 2024-06-12 05:07:04,058] Trial 60 finished with value: 36.33202362060547 and parameters: {'num_heads': 8, 'model_dim': 248, 'num_layers': 2, 'dropout': 0.4806393747085997, 'learning_rate': 0.004706422763866004, 'weight_decay': 9.610838811802734e-05, 'num_epochs': 60}. Best is trial 49 with value: 34.017086029052734.\n",
      "[I 2024-06-12 05:07:11,974] Trial 61 finished with value: 35.38352966308594 and parameters: {'num_heads': 8, 'model_dim': 512, 'num_layers': 3, 'dropout': 0.4542447238294687, 'learning_rate': 0.0032078124768977327, 'weight_decay': 3.319205556858396e-05, 'num_epochs': 65}. Best is trial 49 with value: 34.017086029052734.\n",
      "[I 2024-06-12 05:07:20,840] Trial 62 finished with value: 36.260520935058594 and parameters: {'num_heads': 8, 'model_dim': 472, 'num_layers': 3, 'dropout': 0.4706147645409441, 'learning_rate': 0.005300540142486095, 'weight_decay': 4.456466138767716e-05, 'num_epochs': 79}. Best is trial 49 with value: 34.017086029052734.\n",
      "[I 2024-06-12 05:07:27,555] Trial 63 finished with value: 34.96476745605469 and parameters: {'num_heads': 7, 'model_dim': 427, 'num_layers': 3, 'dropout': 0.35259313800664616, 'learning_rate': 0.007738643537254092, 'weight_decay': 1.8534622097656808e-05, 'num_epochs': 63}. Best is trial 49 with value: 34.017086029052734.\n",
      "[I 2024-06-12 05:07:34,152] Trial 64 finished with value: 33.64879608154297 and parameters: {'num_heads': 8, 'model_dim': 456, 'num_layers': 3, 'dropout': 0.40843751987525295, 'learning_rate': 0.003934522302462162, 'weight_decay': 3.224799303307092e-05, 'num_epochs': 70}. Best is trial 64 with value: 33.64879608154297.\n",
      "[I 2024-06-12 05:07:37,351] Trial 65 finished with value: 503.74688720703125 and parameters: {'num_heads': 2, 'model_dim': 88, 'num_layers': 4, 'dropout': 0.41301770336065474, 'learning_rate': 1.0788555252705668e-05, 'weight_decay': 5.8571613512083684e-05, 'num_epochs': 55}. Best is trial 64 with value: 33.64879608154297.\n",
      "[I 2024-06-12 05:07:39,518] Trial 66 finished with value: 113.67393493652344 and parameters: {'num_heads': 1, 'model_dim': 48, 'num_layers': 3, 'dropout': 0.37327332711541383, 'learning_rate': 0.002670196640234412, 'weight_decay': 3.188357338393868e-05, 'num_epochs': 69}. Best is trial 64 with value: 33.64879608154297.\n",
      "[I 2024-06-12 05:07:44,284] Trial 67 finished with value: 34.010047912597656 and parameters: {'num_heads': 8, 'model_dim': 448, 'num_layers': 2, 'dropout': 0.43187726225067585, 'learning_rate': 0.0039901794400891075, 'weight_decay': 4.248486277786483e-05, 'num_epochs': 71}. Best is trial 64 with value: 33.64879608154297.\n",
      "[I 2024-06-12 05:07:49,871] Trial 68 finished with value: 35.03895568847656 and parameters: {'num_heads': 7, 'model_dim': 427, 'num_layers': 2, 'dropout': 0.43076429646868264, 'learning_rate': 0.0038554209922210835, 'weight_decay': 4.9254385046391764e-05, 'num_epochs': 82}. Best is trial 64 with value: 33.64879608154297.\n",
      "[I 2024-06-12 05:07:55,275] Trial 69 finished with value: 240.22007751464844 and parameters: {'num_heads': 8, 'model_dim': 448, 'num_layers': 2, 'dropout': 0.39859995068903187, 'learning_rate': 1.7984481643650943e-05, 'weight_decay': 0.00010007002399642592, 'num_epochs': 70}. Best is trial 64 with value: 33.64879608154297.\n",
      "[I 2024-06-12 05:07:58,156] Trial 70 finished with value: 78.84181213378906 and parameters: {'num_heads': 7, 'model_dim': 434, 'num_layers': 1, 'dropout': 0.48432857032495985, 'learning_rate': 0.0011698970757295613, 'weight_decay': 4.058216174289996e-05, 'num_epochs': 84}. Best is trial 64 with value: 33.64879608154297.\n",
      "[I 2024-06-12 05:08:05,354] Trial 71 finished with value: 34.18079376220703 and parameters: {'num_heads': 8, 'model_dim': 488, 'num_layers': 3, 'dropout': 0.45310123893149734, 'learning_rate': 0.004417891811823979, 'weight_decay': 1.570743636562805e-05, 'num_epochs': 63}. Best is trial 64 with value: 33.64879608154297.\n",
      "[I 2024-06-12 05:08:10,987] Trial 72 finished with value: 36.00215148925781 and parameters: {'num_heads': 8, 'model_dim': 480, 'num_layers': 2, 'dropout': 0.43191719552374136, 'learning_rate': 0.0018438203927775905, 'weight_decay': 7.048417923347199e-05, 'num_epochs': 72}. Best is trial 64 with value: 33.64879608154297.\n",
      "[I 2024-06-12 05:08:19,389] Trial 73 finished with value: 34.79755401611328 and parameters: {'num_heads': 8, 'model_dim': 488, 'num_layers': 3, 'dropout': 0.4142471643274925, 'learning_rate': 0.0032637394508721754, 'weight_decay': 1.6102392768841938e-05, 'num_epochs': 78}. Best is trial 64 with value: 33.64879608154297.\n",
      "[I 2024-06-12 05:08:26,265] Trial 74 finished with value: 33.48606491088867 and parameters: {'num_heads': 7, 'model_dim': 434, 'num_layers': 3, 'dropout': 0.4401663857563715, 'learning_rate': 0.004094956461358572, 'weight_decay': 2.779003561692465e-05, 'num_epochs': 64}. Best is trial 74 with value: 33.48606491088867.\n",
      "[I 2024-06-12 05:08:33,415] Trial 75 finished with value: 34.53959274291992 and parameters: {'num_heads': 8, 'model_dim': 448, 'num_layers': 3, 'dropout': 0.4984712893839244, 'learning_rate': 0.0024350851847347427, 'weight_decay': 6.1901272936166e-05, 'num_epochs': 65}. Best is trial 74 with value: 33.48606491088867.\n",
      "[I 2024-06-12 05:08:42,915] Trial 76 finished with value: 33.64360427856445 and parameters: {'num_heads': 8, 'model_dim': 456, 'num_layers': 4, 'dropout': 0.4996190162772939, 'learning_rate': 0.002661639879923032, 'weight_decay': 6.448204432545547e-05, 'num_epochs': 65}. Best is trial 74 with value: 33.48606491088867.\n",
      "[I 2024-06-12 05:08:53,825] Trial 77 finished with value: 35.289146423339844 and parameters: {'num_heads': 8, 'model_dim': 472, 'num_layers': 5, 'dropout': 0.44222085520217924, 'learning_rate': 0.0042248894326485575, 'weight_decay': 0.00017027557026178997, 'num_epochs': 62}. Best is trial 74 with value: 33.48606491088867.\n",
      "[I 2024-06-12 05:09:03,575] Trial 78 finished with value: 34.22903060913086 and parameters: {'num_heads': 7, 'model_dim': 427, 'num_layers': 4, 'dropout': 0.4618811688167071, 'learning_rate': 0.0028387872530826327, 'weight_decay': 2.8421435814653616e-05, 'num_epochs': 66}. Best is trial 74 with value: 33.48606491088867.\n",
      "[I 2024-06-12 05:09:09,906] Trial 79 finished with value: 37.483333587646484 and parameters: {'num_heads': 7, 'model_dim': 420, 'num_layers': 4, 'dropout': 0.46062173778756854, 'learning_rate': 0.0013489496773737282, 'weight_decay': 4.8378253286699194e-05, 'num_epochs': 50}. Best is trial 74 with value: 33.48606491088867.\n",
      "[I 2024-06-12 05:09:17,900] Trial 80 finished with value: 36.801513671875 and parameters: {'num_heads': 7, 'model_dim': 434, 'num_layers': 4, 'dropout': 0.48441606013094907, 'learning_rate': 0.002794065632711593, 'weight_decay': 0.00047082235815569366, 'num_epochs': 57}. Best is trial 74 with value: 33.48606491088867.\n",
      "[I 2024-06-12 05:09:30,061] Trial 81 finished with value: 36.48919677734375 and parameters: {'num_heads': 8, 'model_dim': 456, 'num_layers': 5, 'dropout': 0.43737259949009916, 'learning_rate': 0.00213210274763927, 'weight_decay': 3.651536082201534e-05, 'num_epochs': 67}. Best is trial 74 with value: 33.48606491088867.\n",
      "[I 2024-06-12 05:09:40,761] Trial 82 finished with value: 34.68864440917969 and parameters: {'num_heads': 8, 'model_dim': 480, 'num_layers': 4, 'dropout': 0.38462744775179114, 'learning_rate': 0.00535101450952586, 'weight_decay': 2.9759609335173844e-05, 'num_epochs': 71}. Best is trial 74 with value: 33.48606491088867.\n",
      "[I 2024-06-12 05:09:48,304] Trial 83 finished with value: 35.6329460144043 and parameters: {'num_heads': 6, 'model_dim': 378, 'num_layers': 4, 'dropout': 0.4656202709040935, 'learning_rate': 0.0029699369587999984, 'weight_decay': 8.038616953067331e-05, 'num_epochs': 65}. Best is trial 74 with value: 33.48606491088867.\n",
      "[I 2024-06-12 05:09:58,728] Trial 84 finished with value: 36.17387771606445 and parameters: {'num_heads': 8, 'model_dim': 496, 'num_layers': 4, 'dropout': 0.4773706475281309, 'learning_rate': 0.0017039532351906272, 'weight_decay': 2.7075963932956676e-05, 'num_epochs': 68}. Best is trial 74 with value: 33.48606491088867.\n",
      "[I 2024-06-12 05:10:08,809] Trial 85 finished with value: 86.95278930664062 and parameters: {'num_heads': 7, 'model_dim': 420, 'num_layers': 4, 'dropout': 0.45276389524903377, 'learning_rate': 0.00021917052464405506, 'weight_decay': 3.94807401106207e-05, 'num_epochs': 74}. Best is trial 74 with value: 33.48606491088867.\n",
      "[I 2024-06-12 05:10:14,100] Trial 86 finished with value: 39.46303939819336 and parameters: {'num_heads': 8, 'model_dim': 448, 'num_layers': 3, 'dropout': 0.4202004817781442, 'learning_rate': 0.0008815980475412801, 'weight_decay': 4.442349923137424e-05, 'num_epochs': 57}. Best is trial 74 with value: 33.48606491088867.\n",
      "[I 2024-06-12 05:10:23,196] Trial 87 finished with value: 34.40751266479492 and parameters: {'num_heads': 7, 'model_dim': 434, 'num_layers': 5, 'dropout': 0.47152751770893647, 'learning_rate': 0.004048478163970913, 'weight_decay': 2.5984716695853405e-05, 'num_epochs': 53}. Best is trial 74 with value: 33.48606491088867.\n",
      "[I 2024-06-12 05:10:27,766] Trial 88 finished with value: 77.39371490478516 and parameters: {'num_heads': 8, 'model_dim': 464, 'num_layers': 3, 'dropout': 0.48781444819503206, 'learning_rate': 0.000348709686976642, 'weight_decay': 0.009886009664231522, 'num_epochs': 45}. Best is trial 74 with value: 33.48606491088867.\n",
      "[I 2024-06-12 05:10:37,214] Trial 89 finished with value: 35.11560821533203 and parameters: {'num_heads': 7, 'model_dim': 392, 'num_layers': 4, 'dropout': 0.4058091749263485, 'learning_rate': 0.005716621351194052, 'weight_decay': 5.613667117003938e-05, 'num_epochs': 76}. Best is trial 74 with value: 33.48606491088867.\n",
      "[I 2024-06-12 05:10:40,045] Trial 90 finished with value: 36.308353424072266 and parameters: {'num_heads': 8, 'model_dim': 352, 'num_layers': 2, 'dropout': 0.39168067635901216, 'learning_rate': 0.0033219771626283525, 'weight_decay': 1.9897282957994274e-05, 'num_epochs': 62}. Best is trial 74 with value: 33.48606491088867.\n",
      "[I 2024-06-12 05:10:55,046] Trial 91 finished with value: 34.47747039794922 and parameters: {'num_heads': 7, 'model_dim': 434, 'num_layers': 6, 'dropout': 0.4725735454924983, 'learning_rate': 0.004192877658592645, 'weight_decay': 2.641528840600213e-05, 'num_epochs': 70}. Best is trial 74 with value: 33.48606491088867.\n",
      "[I 2024-06-12 05:11:05,728] Trial 92 finished with value: 36.28675079345703 and parameters: {'num_heads': 6, 'model_dim': 372, 'num_layers': 5, 'dropout': 0.4937839209111312, 'learning_rate': 0.0022607475634973703, 'weight_decay': 3.351372002362165e-05, 'num_epochs': 66}. Best is trial 74 with value: 33.48606491088867.\n",
      "[I 2024-06-12 05:11:15,625] Trial 93 finished with value: 36.77675247192383 and parameters: {'num_heads': 8, 'model_dim': 496, 'num_layers': 5, 'dropout': 0.46818924646130783, 'learning_rate': 0.0037861012677969904, 'weight_decay': 2.4500134243807472e-05, 'num_epochs': 52}. Best is trial 74 with value: 33.48606491088867.\n",
      "[I 2024-06-12 05:11:27,890] Trial 94 finished with value: 35.61168670654297 and parameters: {'num_heads': 7, 'model_dim': 441, 'num_layers': 6, 'dropout': 0.4364100694216913, 'learning_rate': 0.005003659207867662, 'weight_decay': 1.4587676426837668e-05, 'num_epochs': 52}. Best is trial 74 with value: 33.48606491088867.\n",
      "[I 2024-06-12 05:11:32,349] Trial 95 finished with value: 35.49843215942383 and parameters: {'num_heads': 6, 'model_dim': 378, 'num_layers': 3, 'dropout': 0.4488606570138035, 'learning_rate': 0.006676194935553885, 'weight_decay': 2.913801755351343e-05, 'num_epochs': 64}. Best is trial 74 with value: 33.48606491088867.\n",
      "[I 2024-06-12 05:11:39,459] Trial 96 finished with value: 35.0698356628418 and parameters: {'num_heads': 8, 'model_dim': 464, 'num_layers': 3, 'dropout': 0.46107891581592286, 'learning_rate': 0.002613732211203747, 'weight_decay': 0.005758881483387636, 'num_epochs': 61}. Best is trial 74 with value: 33.48606491088867.\n",
      "[I 2024-06-12 05:11:51,588] Trial 97 finished with value: 35.129581451416016 and parameters: {'num_heads': 7, 'model_dim': 413, 'num_layers': 5, 'dropout': 0.4251143158917891, 'learning_rate': 0.00851083360550823, 'weight_decay': 0.0010676995559674087, 'num_epochs': 73}. Best is trial 74 with value: 33.48606491088867.\n",
      "[I 2024-06-12 05:11:57,393] Trial 98 finished with value: 35.34559631347656 and parameters: {'num_heads': 8, 'model_dim': 480, 'num_layers': 3, 'dropout': 0.47531890256554543, 'learning_rate': 0.0062349634468340746, 'weight_decay': 4.555642950484949e-05, 'num_epochs': 43}. Best is trial 74 with value: 33.48606491088867.\n",
      "[I 2024-06-12 05:12:05,919] Trial 99 finished with value: 35.23379135131836 and parameters: {'num_heads': 8, 'model_dim': 512, 'num_layers': 3, 'dropout': 0.3661691123358225, 'learning_rate': 0.004465439850976681, 'weight_decay': 3.5159766677260035e-05, 'num_epochs': 67}. Best is trial 74 with value: 33.48606491088867.\n"
     ]
    },
    {
     "name": "stdout",
     "output_type": "stream",
     "text": [
      "Número de pruebas: 100\n",
      "Mejor prueba: {'num_heads': 7, 'model_dim': 434, 'num_layers': 3, 'dropout': 0.4401663857563715, 'learning_rate': 0.004094956461358572, 'weight_decay': 2.779003561692465e-05, 'num_epochs': 64}\n",
      "Mejor valor de pérdida: 33.48606491088867\n"
     ]
    }
   ],
   "source": [
    "# configuration optuna\n",
    "study_st = optuna.create_study(direction='minimize')\n",
    "study_st.optimize(lambda trial: objective(trial, X_st_train, y_st_train, X_st_test, y_st_test, len(features), len(target)), n_trials=100)\n",
    "\n",
    "# Results\n",
    "ic(f'Número de pruebas: {len(study_st.trials)}')\n",
    "ic(f'Mejor prueba: {study_st.best_trial.params}')\n",
    "ic(f'Mejor valor de pérdida: {study_st.best_trial.value}')"
   ]
  },
  {
   "cell_type": "markdown",
   "metadata": {},
   "source": [
    "## Multi Thread"
   ]
  },
  {
   "cell_type": "code",
   "execution_count": 18,
   "metadata": {},
   "outputs": [
    {
     "name": "stderr",
     "output_type": "stream",
     "text": [
      "[I 2024-06-12 05:12:15,393] A new study created in memory with name: no-name-b42da388-ff14-4989-8004-8b8b1d5d6f6c\n",
      "c:\\Users\\LOL66\\Escritorio\\resource-prediction-study\\venv\\Lib\\site-packages\\torch\\nn\\modules\\transformer.py:306: UserWarning: enable_nested_tensor is True, but self.use_nested_tensor is False because encoder_layer.self_attn.num_heads is odd\n",
      "  warnings.warn(f\"enable_nested_tensor is True, but self.use_nested_tensor is False because {why_not_sparsity_fast_path}\")\n",
      "c:\\Users\\LOL66\\Escritorio\\resource-prediction-study\\venv\\Lib\\site-packages\\torch\\nn\\modules\\loss.py:535: UserWarning: Using a target size (torch.Size([105, 1])) that is different to the input size (torch.Size([105, 10])). This will likely lead to incorrect results due to broadcasting. Please ensure they have the same size.\n",
      "  return F.mse_loss(input, target, reduction=self.reduction)\n",
      "c:\\Users\\LOL66\\Escritorio\\resource-prediction-study\\venv\\Lib\\site-packages\\torch\\nn\\modules\\loss.py:535: UserWarning: Using a target size (torch.Size([15, 1])) that is different to the input size (torch.Size([15, 10])). This will likely lead to incorrect results due to broadcasting. Please ensure they have the same size.\n",
      "  return F.mse_loss(input, target, reduction=self.reduction)\n",
      "[I 2024-06-12 05:12:16,352] Trial 0 finished with value: 577.6166381835938 and parameters: {'num_heads': 5, 'model_dim': 55, 'num_layers': 2, 'dropout': 0.39379409591033876, 'learning_rate': 0.00028780351583125146, 'weight_decay': 0.00979019221645173, 'num_epochs': 47}. Best is trial 0 with value: 577.6166381835938.\n",
      "[I 2024-06-12 05:12:17,505] Trial 1 finished with value: 448.9656677246094 and parameters: {'num_heads': 3, 'model_dim': 183, 'num_layers': 2, 'dropout': 0.45455717814332286, 'learning_rate': 0.00042176177834808666, 'weight_decay': 1.2625036145872518e-05, 'num_epochs': 33}. Best is trial 1 with value: 448.9656677246094.\n",
      "[I 2024-06-12 05:12:20,836] Trial 2 finished with value: 45.338829040527344 and parameters: {'num_heads': 8, 'model_dim': 296, 'num_layers': 3, 'dropout': 0.3214199364531377, 'learning_rate': 0.0012675415136783014, 'weight_decay': 1.8146274345531744e-05, 'num_epochs': 55}. Best is trial 2 with value: 45.338829040527344.\n",
      "[I 2024-06-12 05:12:24,469] Trial 3 finished with value: 438.799072265625 and parameters: {'num_heads': 8, 'model_dim': 104, 'num_layers': 6, 'dropout': 0.16800831172028197, 'learning_rate': 0.0008279118454568137, 'weight_decay': 0.0007208143643346025, 'num_epochs': 40}. Best is trial 2 with value: 45.338829040527344.\n",
      "[I 2024-06-12 05:12:29,118] Trial 4 finished with value: 337.2931213378906 and parameters: {'num_heads': 8, 'model_dim': 296, 'num_layers': 2, 'dropout': 0.4525353309532274, 'learning_rate': 0.0001897822952200379, 'weight_decay': 0.0003884202518802837, 'num_epochs': 84}. Best is trial 2 with value: 45.338829040527344.\n",
      "[I 2024-06-12 05:12:32,449] Trial 5 finished with value: 514.0772705078125 and parameters: {'num_heads': 3, 'model_dim': 57, 'num_layers': 3, 'dropout': 0.25760836945961574, 'learning_rate': 0.00030642490819018936, 'weight_decay': 0.0016331989946071625, 'num_epochs': 94}. Best is trial 2 with value: 45.338829040527344.\n",
      "[I 2024-06-12 05:12:45,252] Trial 6 finished with value: 34.63744354248047 and parameters: {'num_heads': 8, 'model_dim': 432, 'num_layers': 5, 'dropout': 0.26561547401395746, 'learning_rate': 0.0034962572828308785, 'weight_decay': 9.43531001985122e-05, 'num_epochs': 76}. Best is trial 6 with value: 34.63744354248047.\n",
      "[I 2024-06-12 05:12:47,835] Trial 7 finished with value: 42.582115173339844 and parameters: {'num_heads': 4, 'model_dim': 136, 'num_layers': 4, 'dropout': 0.3324556527643232, 'learning_rate': 0.004210027440947784, 'weight_decay': 0.00409842019325917, 'num_epochs': 48}. Best is trial 6 with value: 34.63744354248047.\n",
      "[I 2024-06-12 05:12:51,216] Trial 8 finished with value: 561.8304443359375 and parameters: {'num_heads': 5, 'model_dim': 230, 'num_layers': 5, 'dropout': 0.3451710372117164, 'learning_rate': 2.3987989678351108e-05, 'weight_decay': 0.008436627039030078, 'num_epochs': 25}. Best is trial 6 with value: 34.63744354248047.\n",
      "[I 2024-06-12 05:12:52,316] Trial 9 finished with value: 594.6969604492188 and parameters: {'num_heads': 8, 'model_dim': 208, 'num_layers': 4, 'dropout': 0.3849955678941971, 'learning_rate': 2.3849699959948287e-05, 'weight_decay': 6.878763706981637e-05, 'num_epochs': 18}. Best is trial 6 with value: 34.63744354248047.\n",
      "[I 2024-06-12 05:12:56,629] Trial 10 finished with value: 55.01361846923828 and parameters: {'num_heads': 1, 'model_dim': 12, 'num_layers': 6, 'dropout': 0.12060288804020994, 'learning_rate': 0.009317755293536508, 'weight_decay': 9.5489070193669e-05, 'num_epochs': 74}. Best is trial 6 with value: 34.63744354248047.\n",
      "[I 2024-06-12 05:13:04,291] Trial 11 finished with value: 36.011329650878906 and parameters: {'num_heads': 6, 'model_dim': 378, 'num_layers': 4, 'dropout': 0.24217859677435483, 'learning_rate': 0.007731310617706049, 'weight_decay': 8.38529648374497e-05, 'num_epochs': 67}. Best is trial 6 with value: 34.63744354248047.\n",
      "[I 2024-06-12 05:13:14,499] Trial 12 finished with value: 35.754276275634766 and parameters: {'num_heads': 6, 'model_dim': 384, 'num_layers': 5, 'dropout': 0.23411560908383836, 'learning_rate': 0.00302613130228278, 'weight_decay': 9.092924166113615e-05, 'num_epochs': 71}. Best is trial 6 with value: 34.63744354248047.\n",
      "[I 2024-06-12 05:13:24,951] Trial 13 finished with value: 35.6826057434082 and parameters: {'num_heads': 6, 'model_dim': 378, 'num_layers': 5, 'dropout': 0.22012804768558425, 'learning_rate': 0.002309687794540841, 'weight_decay': 0.00017591350581367394, 'num_epochs': 69}. Best is trial 6 with value: 34.63744354248047.\n",
      "[I 2024-06-12 05:13:42,089] Trial 14 finished with value: 34.742366790771484 and parameters: {'num_heads': 7, 'model_dim': 448, 'num_layers': 5, 'dropout': 0.1808863168631946, 'learning_rate': 0.00225053992050617, 'weight_decay': 0.00023965779137992814, 'num_epochs': 98}. Best is trial 6 with value: 34.63744354248047.\n",
      "[I 2024-06-12 05:14:02,837] Trial 15 finished with value: 362.9952392578125 and parameters: {'num_heads': 7, 'model_dim': 448, 'num_layers': 6, 'dropout': 0.16511770977593992, 'learning_rate': 8.551788101771489e-05, 'weight_decay': 0.00043230322190329705, 'num_epochs': 97}. Best is trial 6 with value: 34.63744354248047.\n",
      "[I 2024-06-12 05:14:16,198] Trial 16 finished with value: 36.87629318237305 and parameters: {'num_heads': 7, 'model_dim': 420, 'num_layers': 5, 'dropout': 0.10651255504051041, 'learning_rate': 0.0015154238455517403, 'weight_decay': 2.6985981852687035e-05, 'num_epochs': 86}. Best is trial 6 with value: 34.63744354248047.\n",
      "[I 2024-06-12 05:14:26,881] Trial 17 finished with value: 68.44271850585938 and parameters: {'num_heads': 7, 'model_dim': 301, 'num_layers': 5, 'dropout': 0.17305319371447261, 'learning_rate': 0.0007087044861705692, 'weight_decay': 3.236438601941817e-05, 'num_epochs': 84}. Best is trial 6 with value: 34.63744354248047.\n",
      "[I 2024-06-12 05:14:29,250] Trial 18 finished with value: 96.02769470214844 and parameters: {'num_heads': 7, 'model_dim': 329, 'num_layers': 1, 'dropout': 0.2923260819679012, 'learning_rate': 0.0038783230057194812, 'weight_decay': 0.0011154893397589392, 'num_epochs': 98}. Best is trial 6 with value: 34.63744354248047.\n",
      "[I 2024-06-12 05:14:32,332] Trial 19 finished with value: 654.8775024414062 and parameters: {'num_heads': 1, 'model_dim': 5, 'num_layers': 6, 'dropout': 0.2792740961112876, 'learning_rate': 0.00010239980160540431, 'weight_decay': 0.00019623726325836938, 'num_epochs': 60}. Best is trial 6 with value: 34.63744354248047.\n",
      "[I 2024-06-12 05:14:38,382] Trial 20 finished with value: 35.57720184326172 and parameters: {'num_heads': 4, 'model_dim': 228, 'num_layers': 4, 'dropout': 0.49933320693379696, 'learning_rate': 0.006450773648931691, 'weight_decay': 4.629500597944662e-05, 'num_epochs': 79}. Best is trial 6 with value: 34.63744354248047.\n",
      "[I 2024-06-12 05:14:43,242] Trial 21 finished with value: 36.33387756347656 and parameters: {'num_heads': 3, 'model_dim': 129, 'num_layers': 4, 'dropout': 0.20345196218699954, 'learning_rate': 0.005667838428069694, 'weight_decay': 3.224488263685824e-05, 'num_epochs': 81}. Best is trial 6 with value: 34.63744354248047.\n",
      "[I 2024-06-12 05:14:48,295] Trial 22 finished with value: 39.79993438720703 and parameters: {'num_heads': 4, 'model_dim': 180, 'num_layers': 3, 'dropout': 0.4078337810692491, 'learning_rate': 0.001769769642673286, 'weight_decay': 5.1541109880154326e-05, 'num_epochs': 91}. Best is trial 6 with value: 34.63744354248047.\n",
      "[I 2024-06-12 05:14:52,336] Trial 23 finished with value: 62.49074172973633 and parameters: {'num_heads': 2, 'model_dim': 28, 'num_layers': 5, 'dropout': 0.48222842616796946, 'learning_rate': 0.005061176208958113, 'weight_decay': 0.00018995001898631557, 'num_epochs': 77}. Best is trial 6 with value: 34.63744354248047.\n",
      "[I 2024-06-12 05:14:57,594] Trial 24 finished with value: 117.2741928100586 and parameters: {'num_heads': 5, 'model_dim': 250, 'num_layers': 4, 'dropout': 0.19215484490400225, 'learning_rate': 0.0008649529607507324, 'weight_decay': 0.0001322747693983571, 'num_epochs': 62}. Best is trial 6 with value: 34.63744354248047.\n",
      "[I 2024-06-12 05:15:05,312] Trial 25 finished with value: 36.0902214050293 and parameters: {'num_heads': 4, 'model_dim': 160, 'num_layers': 5, 'dropout': 0.3555667212795328, 'learning_rate': 0.009703397569430932, 'weight_decay': 4.715420094103583e-05, 'num_epochs': 90}. Best is trial 6 with value: 34.63744354248047.\n",
      "[I 2024-06-12 05:15:13,243] Trial 26 finished with value: 35.52865219116211 and parameters: {'num_heads': 6, 'model_dim': 336, 'num_layers': 4, 'dropout': 0.13953562254110125, 'learning_rate': 0.0030388017479539373, 'weight_decay': 0.00024756307341124276, 'num_epochs': 78}. Best is trial 6 with value: 34.63744354248047.\n",
      "[I 2024-06-12 05:15:28,760] Trial 27 finished with value: 35.881126403808594 and parameters: {'num_heads': 6, 'model_dim': 336, 'num_layers': 6, 'dropout': 0.14484277403392518, 'learning_rate': 0.002599725446636153, 'weight_decay': 0.000590855000455512, 'num_epochs': 100}. Best is trial 6 with value: 34.63744354248047.\n",
      "[I 2024-06-12 05:15:35,754] Trial 28 finished with value: 39.403778076171875 and parameters: {'num_heads': 7, 'model_dim': 448, 'num_layers': 3, 'dropout': 0.13564416494285028, 'learning_rate': 0.0011565915856813049, 'weight_decay': 0.00033463128320203344, 'num_epochs': 62}. Best is trial 6 with value: 34.63744354248047.\n",
      "[I 2024-06-12 05:15:36,196] Trial 29 finished with value: 469.3111572265625 and parameters: {'num_heads': 5, 'model_dim': 265, 'num_layers': 1, 'dropout': 0.27361318601286905, 'learning_rate': 0.0006422061312924478, 'weight_decay': 0.00023212085950593788, 'num_epochs': 10}. Best is trial 6 with value: 34.63744354248047.\n",
      "[I 2024-06-12 05:15:42,724] Trial 30 finished with value: 527.6240844726562 and parameters: {'num_heads': 6, 'model_dim': 342, 'num_layers': 5, 'dropout': 0.2003883641305168, 'learning_rate': 1.2934407104881055e-05, 'weight_decay': 0.001704120111230068, 'num_epochs': 51}. Best is trial 6 with value: 34.63744354248047.\n",
      "[I 2024-06-12 05:15:55,357] Trial 31 finished with value: 34.23509216308594 and parameters: {'num_heads': 8, 'model_dim': 512, 'num_layers': 4, 'dropout': 0.15051067436329413, 'learning_rate': 0.0055952394511741225, 'weight_decay': 0.00013510951216801043, 'num_epochs': 78}. Best is trial 31 with value: 34.23509216308594.\n",
      "[I 2024-06-12 05:16:07,807] Trial 32 finished with value: 35.65708923339844 and parameters: {'num_heads': 8, 'model_dim': 512, 'num_layers': 4, 'dropout': 0.10136576501490982, 'learning_rate': 0.0023760078338595915, 'weight_decay': 0.00012474498508037695, 'num_epochs': 73}. Best is trial 31 with value: 34.23509216308594.\n",
      "[I 2024-06-12 05:16:20,742] Trial 33 finished with value: 33.852020263671875 and parameters: {'num_heads': 7, 'model_dim': 448, 'num_layers': 4, 'dropout': 0.14548354765365423, 'learning_rate': 0.0035210360246936668, 'weight_decay': 0.0002816526079779778, 'num_epochs': 89}. Best is trial 33 with value: 33.852020263671875.\n",
      "[I 2024-06-12 05:16:31,588] Trial 34 finished with value: 34.58549499511719 and parameters: {'num_heads': 8, 'model_dim': 512, 'num_layers': 3, 'dropout': 0.1694062702111216, 'learning_rate': 0.004459283419374814, 'weight_decay': 1.0645136622488942e-05, 'num_epochs': 88}. Best is trial 33 with value: 33.852020263671875.\n",
      "[I 2024-06-12 05:16:39,138] Trial 35 finished with value: 34.61520004272461 and parameters: {'num_heads': 8, 'model_dim': 496, 'num_layers': 2, 'dropout': 0.1579654824495061, 'learning_rate': 0.004150297681593414, 'weight_decay': 1.1338870725979583e-05, 'num_epochs': 88}. Best is trial 33 with value: 33.852020263671875.\n",
      "[I 2024-06-12 05:16:45,705] Trial 36 finished with value: 35.09123992919922 and parameters: {'num_heads': 8, 'model_dim': 496, 'num_layers': 2, 'dropout': 0.153902572639233, 'learning_rate': 0.005681744532287723, 'weight_decay': 1.3162424852116433e-05, 'num_epochs': 89}. Best is trial 33 with value: 33.852020263671875.\n",
      "[I 2024-06-12 05:16:53,519] Trial 37 finished with value: 36.41019058227539 and parameters: {'num_heads': 8, 'model_dim': 480, 'num_layers': 2, 'dropout': 0.12990868606427772, 'learning_rate': 0.00135398794511025, 'weight_decay': 1.2900990612775498e-05, 'num_epochs': 93}. Best is trial 33 with value: 33.852020263671875.\n",
      "[I 2024-06-12 05:17:03,050] Trial 38 finished with value: 79.94373321533203 and parameters: {'num_heads': 8, 'model_dim': 472, 'num_layers': 3, 'dropout': 0.2094103879701423, 'learning_rate': 0.0004134358991726009, 'weight_decay': 1.0130483392212381e-05, 'num_epochs': 85}. Best is trial 33 with value: 33.852020263671875.\n",
      "[I 2024-06-12 05:17:10,539] Trial 39 finished with value: 34.64778518676758 and parameters: {'num_heads': 8, 'model_dim': 512, 'num_layers': 2, 'dropout': 0.15673748027687526, 'learning_rate': 0.0040572646743696275, 'weight_decay': 2.00572716297108e-05, 'num_epochs': 88}. Best is trial 33 with value: 33.852020263671875.\n",
      "[I 2024-06-12 05:17:14,520] Trial 40 finished with value: 379.9748840332031 and parameters: {'num_heads': 7, 'model_dim': 413, 'num_layers': 3, 'dropout': 0.18433917302945807, 'learning_rate': 0.00018791869763643126, 'weight_decay': 2.0827854033109e-05, 'num_epochs': 42}. Best is trial 33 with value: 33.852020263671875.\n",
      "[I 2024-06-12 05:17:20,360] Trial 41 finished with value: 85.08186340332031 and parameters: {'num_heads': 8, 'model_dim': 472, 'num_layers': 2, 'dropout': 0.11839416727907129, 'learning_rate': 0.003678408089368742, 'weight_decay': 0.0007986348353891015, 'num_epochs': 81}. Best is trial 33 with value: 33.852020263671875.\n",
      "[I 2024-06-12 05:17:29,442] Trial 42 finished with value: 34.59493637084961 and parameters: {'num_heads': 8, 'model_dim': 416, 'num_layers': 3, 'dropout': 0.30852798932896486, 'learning_rate': 0.00745526351444139, 'weight_decay': 1.7084071959781288e-05, 'num_epochs': 94}. Best is trial 33 with value: 33.852020263671875.\n",
      "[I 2024-06-12 05:17:37,988] Trial 43 finished with value: 34.476234436035156 and parameters: {'num_heads': 7, 'model_dim': 406, 'num_layers': 3, 'dropout': 0.3141866004668806, 'learning_rate': 0.007211780164811758, 'weight_decay': 1.7037885325196363e-05, 'num_epochs': 94}. Best is trial 33 with value: 33.852020263671875.\n",
      "[I 2024-06-12 05:17:45,917] Trial 44 finished with value: 34.67475509643555 and parameters: {'num_heads': 7, 'model_dim': 399, 'num_layers': 3, 'dropout': 0.31270433943448284, 'learning_rate': 0.007947470287026963, 'weight_decay': 1.7429301053005698e-05, 'num_epochs': 95}. Best is trial 33 with value: 33.852020263671875.\n",
      "[I 2024-06-12 05:17:54,116] Trial 45 finished with value: 34.38643264770508 and parameters: {'num_heads': 7, 'model_dim': 406, 'num_layers': 3, 'dropout': 0.3655840185265716, 'learning_rate': 0.006670779771802736, 'weight_decay': 1.6495271001854367e-05, 'num_epochs': 93}. Best is trial 33 with value: 33.852020263671875.\n",
      "[I 2024-06-12 05:18:01,121] Trial 46 finished with value: 34.53660583496094 and parameters: {'num_heads': 7, 'model_dim': 371, 'num_layers': 3, 'dropout': 0.4041181775692995, 'learning_rate': 0.009987656942475144, 'weight_decay': 2.967373990450198e-05, 'num_epochs': 83}. Best is trial 33 with value: 33.852020263671875.\n",
      "[I 2024-06-12 05:18:07,736] Trial 47 finished with value: 34.953182220458984 and parameters: {'num_heads': 6, 'model_dim': 360, 'num_layers': 3, 'dropout': 0.41131338985869026, 'learning_rate': 0.009411146783928792, 'weight_decay': 2.7372531380897175e-05, 'num_epochs': 83}. Best is trial 33 with value: 33.852020263671875.\n",
      "[I 2024-06-12 05:18:18,386] Trial 48 finished with value: 34.694427490234375 and parameters: {'num_heads': 7, 'model_dim': 392, 'num_layers': 4, 'dropout': 0.36892253930609065, 'learning_rate': 0.006490575894790022, 'weight_decay': 6.262437037812803e-05, 'num_epochs': 100}. Best is trial 33 with value: 33.852020263671875.\n",
      "[I 2024-06-12 05:18:25,548] Trial 49 finished with value: 37.33349609375 and parameters: {'num_heads': 7, 'model_dim': 357, 'num_layers': 4, 'dropout': 0.32845852978739476, 'learning_rate': 0.0019175747693665774, 'weight_decay': 0.0001175593168087167, 'num_epochs': 66}. Best is trial 33 with value: 33.852020263671875.\n",
      "[I 2024-06-12 05:18:31,314] Trial 50 finished with value: 35.13956069946289 and parameters: {'num_heads': 6, 'model_dim': 360, 'num_layers': 3, 'dropout': 0.44044203896928447, 'learning_rate': 0.009596171629392409, 'weight_decay': 0.0004393506625507048, 'num_epochs': 75}. Best is trial 33 with value: 33.852020263671875.\n",
      "[I 2024-06-12 05:18:39,079] Trial 51 finished with value: 34.11594009399414 and parameters: {'num_heads': 7, 'model_dim': 427, 'num_layers': 3, 'dropout': 0.4283942255805051, 'learning_rate': 0.005089321616825656, 'weight_decay': 3.588074880004538e-05, 'num_epochs': 91}. Best is trial 33 with value: 33.852020263671875.\n",
      "[I 2024-06-12 05:18:47,317] Trial 52 finished with value: 34.25301742553711 and parameters: {'num_heads': 7, 'model_dim': 427, 'num_layers': 3, 'dropout': 0.43297955757562373, 'learning_rate': 0.0055491553566395894, 'weight_decay': 3.8239687112237514e-05, 'num_epochs': 92}. Best is trial 33 with value: 33.852020263671875.\n",
      "[I 2024-06-12 05:18:56,366] Trial 53 finished with value: 36.596580505371094 and parameters: {'num_heads': 7, 'model_dim': 399, 'num_layers': 3, 'dropout': 0.4284503777946573, 'learning_rate': 0.003081410390968956, 'weight_decay': 3.8332779413023256e-05, 'num_epochs': 93}. Best is trial 33 with value: 33.852020263671875.\n",
      "[I 2024-06-12 05:19:08,260] Trial 54 finished with value: 34.44859313964844 and parameters: {'num_heads': 7, 'model_dim': 413, 'num_layers': 4, 'dropout': 0.37980310901462805, 'learning_rate': 0.004960109879579924, 'weight_decay': 6.89312245290603e-05, 'num_epochs': 96}. Best is trial 33 with value: 33.852020263671875.\n",
      "[I 2024-06-12 05:19:19,084] Trial 55 finished with value: 35.86786651611328 and parameters: {'num_heads': 6, 'model_dim': 366, 'num_layers': 4, 'dropout': 0.37975204569862314, 'learning_rate': 0.0030380568728498344, 'weight_decay': 6.773573014537328e-05, 'num_epochs': 97}. Best is trial 33 with value: 33.852020263671875.\n",
      "[I 2024-06-12 05:19:29,412] Trial 56 finished with value: 34.396297454833984 and parameters: {'num_heads': 7, 'model_dim': 427, 'num_layers': 4, 'dropout': 0.4271201397133822, 'learning_rate': 0.004750667941001847, 'weight_decay': 8.147740100270159e-05, 'num_epochs': 90}. Best is trial 33 with value: 33.852020263671875.\n",
      "[I 2024-06-12 05:19:38,998] Trial 57 finished with value: 35.163265228271484 and parameters: {'num_heads': 5, 'model_dim': 305, 'num_layers': 4, 'dropout': 0.469227162341514, 'learning_rate': 0.005405497852024051, 'weight_decay': 0.00010903621534600193, 'num_epochs': 91}. Best is trial 33 with value: 33.852020263671875.\n",
      "[I 2024-06-12 05:19:47,547] Trial 58 finished with value: 36.854393005371094 and parameters: {'num_heads': 6, 'model_dim': 348, 'num_layers': 4, 'dropout': 0.42658830533670794, 'learning_rate': 0.0019354251215020887, 'weight_decay': 4.0818857215585334e-05, 'num_epochs': 86}. Best is trial 33 with value: 33.852020263671875.\n",
      "[I 2024-06-12 05:19:52,477] Trial 59 finished with value: 42.4592170715332 and parameters: {'num_heads': 7, 'model_dim': 434, 'num_layers': 4, 'dropout': 0.4491924083646797, 'learning_rate': 0.00693296428096046, 'weight_decay': 8.439971468240054e-05, 'num_epochs': 33}. Best is trial 33 with value: 33.852020263671875.\n",
      "[I 2024-06-12 05:19:59,842] Trial 60 finished with value: 39.079647064208984 and parameters: {'num_heads': 7, 'model_dim': 427, 'num_layers': 3, 'dropout': 0.3916399004653735, 'learning_rate': 0.0010164398374294182, 'weight_decay': 5.792529787998645e-05, 'num_epochs': 81}. Best is trial 33 with value: 33.852020263671875.\n",
      "[I 2024-06-12 05:20:11,499] Trial 61 finished with value: 34.86837387084961 and parameters: {'num_heads': 7, 'model_dim': 434, 'num_layers': 4, 'dropout': 0.3529608517395581, 'learning_rate': 0.004988450938066815, 'weight_decay': 0.00016541233585337452, 'num_epochs': 97}. Best is trial 33 with value: 33.852020263671875.\n",
      "[I 2024-06-12 05:20:21,144] Trial 62 finished with value: 35.1001091003418 and parameters: {'num_heads': 6, 'model_dim': 372, 'num_layers': 4, 'dropout': 0.4719039285791058, 'learning_rate': 0.003544528070967127, 'weight_decay': 7.631821266538042e-05, 'num_epochs': 92}. Best is trial 33 with value: 33.852020263671875.\n",
      "[I 2024-06-12 05:20:33,810] Trial 63 finished with value: 35.1939697265625 and parameters: {'num_heads': 8, 'model_dim': 456, 'num_layers': 4, 'dropout': 0.4178466050531022, 'learning_rate': 0.00530043999438104, 'weight_decay': 0.0001551013314434048, 'num_epochs': 96}. Best is trial 33 with value: 33.852020263671875.\n",
      "[I 2024-06-12 05:20:44,761] Trial 64 finished with value: 35.269649505615234 and parameters: {'num_heads': 7, 'model_dim': 385, 'num_layers': 4, 'dropout': 0.3778495244346759, 'learning_rate': 0.0026456028957610837, 'weight_decay': 2.538758399771779e-05, 'num_epochs': 100}. Best is trial 33 with value: 33.852020263671875.\n",
      "[I 2024-06-12 05:20:55,085] Trial 65 finished with value: 34.8325080871582 and parameters: {'num_heads': 7, 'model_dim': 427, 'num_layers': 4, 'dropout': 0.43756206129639347, 'learning_rate': 0.004537896178967604, 'weight_decay': 3.906854235744436e-05, 'num_epochs': 87}. Best is trial 33 with value: 33.852020263671875.\n",
      "[I 2024-06-12 05:21:01,778] Trial 66 finished with value: 34.906009674072266 and parameters: {'num_heads': 6, 'model_dim': 324, 'num_layers': 3, 'dropout': 0.24805023524228315, 'learning_rate': 0.0076159725508605424, 'weight_decay': 0.00028807200378481665, 'num_epochs': 90}. Best is trial 33 with value: 33.852020263671875.\n",
      "[I 2024-06-12 05:21:14,809] Trial 67 finished with value: 33.87839889526367 and parameters: {'num_heads': 8, 'model_dim': 464, 'num_layers': 5, 'dropout': 0.39967412170964756, 'learning_rate': 0.005999429500309527, 'weight_decay': 9.876831751978347e-05, 'num_epochs': 79}. Best is trial 33 with value: 33.852020263671875.\n",
      "[I 2024-06-12 05:21:26,292] Trial 68 finished with value: 388.47125244140625 and parameters: {'num_heads': 8, 'model_dim': 456, 'num_layers': 5, 'dropout': 0.3990910072341231, 'learning_rate': 9.264630204862519e-05, 'weight_decay': 5.668919714604154e-05, 'num_epochs': 70}. Best is trial 33 with value: 33.852020263671875.\n",
      "[I 2024-06-12 05:21:39,841] Trial 69 finished with value: 35.1577262878418 and parameters: {'num_heads': 8, 'model_dim': 488, 'num_layers': 5, 'dropout': 0.45945030015318916, 'learning_rate': 0.005866940608607469, 'weight_decay': 9.607949524321166e-05, 'num_epochs': 79}. Best is trial 33 with value: 33.852020263671875.\n",
      "[I 2024-06-12 05:21:53,406] Trial 70 finished with value: 36.33014678955078 and parameters: {'num_heads': 8, 'model_dim': 456, 'num_layers': 5, 'dropout': 0.3435418996374386, 'learning_rate': 0.0022820563191704403, 'weight_decay': 0.00020922703637463741, 'num_epochs': 84}. Best is trial 33 with value: 33.852020263671875.\n",
      "[I 2024-06-12 05:22:09,521] Trial 71 finished with value: 424.7577209472656 and parameters: {'num_heads': 7, 'model_dim': 413, 'num_layers': 6, 'dropout': 0.3667096964754157, 'learning_rate': 5.4213462007202424e-05, 'weight_decay': 0.0001447606120866408, 'num_epochs': 91}. Best is trial 33 with value: 33.852020263671875.\n",
      "[I 2024-06-12 05:22:19,641] Trial 72 finished with value: 35.03852081298828 and parameters: {'num_heads': 7, 'model_dim': 434, 'num_layers': 4, 'dropout': 0.4201982489658333, 'learning_rate': 0.004531774145315826, 'weight_decay': 0.00010098830188995855, 'num_epochs': 81}. Best is trial 33 with value: 33.852020263671875.\n",
      "[I 2024-06-12 05:22:21,990] Trial 73 finished with value: 57.605201721191406 and parameters: {'num_heads': 2, 'model_dim': 80, 'num_layers': 3, 'dropout': 0.3902613093107894, 'learning_rate': 0.0034811313813038016, 'weight_decay': 2.3635779316276554e-05, 'num_epochs': 55}. Best is trial 33 with value: 33.852020263671875.\n",
      "[I 2024-06-12 05:22:31,524] Trial 74 finished with value: 36.031002044677734 and parameters: {'num_heads': 8, 'model_dim': 464, 'num_layers': 4, 'dropout': 0.49339080210488867, 'learning_rate': 0.006237089371542886, 'weight_decay': 4.385358226387025e-05, 'num_epochs': 73}. Best is trial 33 with value: 33.852020263671875.\n",
      "[I 2024-06-12 05:22:45,104] Trial 75 finished with value: 34.50895690917969 and parameters: {'num_heads': 7, 'model_dim': 434, 'num_layers': 5, 'dropout': 0.43516295058991145, 'learning_rate': 0.008114727991575891, 'weight_decay': 7.265832036468337e-05, 'num_epochs': 86}. Best is trial 33 with value: 33.852020263671875.\n",
      "[I 2024-06-12 05:22:54,784] Trial 76 finished with value: 34.48225784301758 and parameters: {'num_heads': 8, 'model_dim': 496, 'num_layers': 3, 'dropout': 0.45210116423884766, 'learning_rate': 0.0038049122867568853, 'weight_decay': 3.634741684060096e-05, 'num_epochs': 95}. Best is trial 33 with value: 33.852020263671875.\n",
      "[I 2024-06-12 05:23:01,050] Trial 77 finished with value: 34.59652328491211 and parameters: {'num_heads': 6, 'model_dim': 378, 'num_layers': 3, 'dropout': 0.4135432433524474, 'learning_rate': 0.0027512885760303976, 'weight_decay': 5.0723741627665775e-05, 'num_epochs': 77}. Best is trial 33 with value: 33.852020263671875.\n",
      "[I 2024-06-12 05:23:09,468] Trial 78 finished with value: 35.3471794128418 and parameters: {'num_heads': 7, 'model_dim': 420, 'num_layers': 4, 'dropout': 0.39849790761046305, 'learning_rate': 0.005221148428229266, 'weight_decay': 0.00036386378775760196, 'num_epochs': 67}. Best is trial 33 with value: 33.852020263671875.\n",
      "[I 2024-06-12 05:23:17,785] Trial 79 finished with value: 36.83918762207031 and parameters: {'num_heads': 8, 'model_dim': 448, 'num_layers': 3, 'dropout': 0.22954023815897268, 'learning_rate': 0.0016445899883177964, 'weight_decay': 0.0001236867916576316, 'num_epochs': 88}. Best is trial 33 with value: 33.852020263671875.\n",
      "[I 2024-06-12 05:23:23,582] Trial 80 finished with value: 34.59519958496094 and parameters: {'num_heads': 7, 'model_dim': 399, 'num_layers': 2, 'dropout': 0.37337862050989157, 'learning_rate': 0.00821598153215799, 'weight_decay': 8.04456630664929e-05, 'num_epochs': 98}. Best is trial 33 with value: 33.852020263671875.\n",
      "[I 2024-06-12 05:23:31,429] Trial 81 finished with value: 34.43130874633789 and parameters: {'num_heads': 7, 'model_dim': 406, 'num_layers': 3, 'dropout': 0.285308765833142, 'learning_rate': 0.006596443226807641, 'weight_decay': 1.7140286848725594e-05, 'num_epochs': 94}. Best is trial 33 with value: 33.852020263671875.\n",
      "[I 2024-06-12 05:23:39,917] Trial 82 finished with value: 34.81983184814453 and parameters: {'num_heads': 7, 'model_dim': 406, 'num_layers': 3, 'dropout': 0.29638494610961624, 'learning_rate': 0.004664952325696733, 'weight_decay': 1.526833960818948e-05, 'num_epochs': 92}. Best is trial 33 with value: 33.852020263671875.\n",
      "[I 2024-06-12 05:23:48,030] Trial 83 finished with value: 226.02239990234375 and parameters: {'num_heads': 7, 'model_dim': 420, 'num_layers': 3, 'dropout': 0.28682002133874374, 'learning_rate': 0.00021679746938088701, 'weight_decay': 0.0062820838922956436, 'num_epochs': 90}. Best is trial 33 with value: 33.852020263671875.\n",
      "[I 2024-06-12 05:23:58,129] Trial 84 finished with value: 34.66429901123047 and parameters: {'num_heads': 8, 'model_dim': 472, 'num_layers': 3, 'dropout': 0.3605196900696659, 'learning_rate': 0.0068654625013776244, 'weight_decay': 3.3543559672049327e-05, 'num_epochs': 98}. Best is trial 33 with value: 33.852020263671875.\n",
      "[I 2024-06-12 05:24:03,467] Trial 85 finished with value: 35.25686264038086 and parameters: {'num_heads': 6, 'model_dim': 372, 'num_layers': 2, 'dropout': 0.341710829736799, 'learning_rate': 0.006140694483788699, 'weight_decay': 1.4005984156816294e-05, 'num_epochs': 95}. Best is trial 33 with value: 33.852020263671875.\n",
      "[I 2024-06-12 05:24:12,462] Trial 86 finished with value: 35.68721389770508 and parameters: {'num_heads': 7, 'model_dim': 392, 'num_layers': 4, 'dropout': 0.38301129730222855, 'learning_rate': 0.0033911044995169936, 'weight_decay': 5.198158509086266e-05, 'num_epochs': 83}. Best is trial 33 with value: 33.852020263671875.\n",
      "[I 2024-06-12 05:24:31,698] Trial 87 finished with value: 34.61544418334961 and parameters: {'num_heads': 8, 'model_dim': 488, 'num_layers': 6, 'dropout': 0.4054846778043859, 'learning_rate': 0.00426215794638994, 'weight_decay': 2.2565879521177217e-05, 'num_epochs': 93}. Best is trial 33 with value: 33.852020263671875.\n",
      "[I 2024-06-12 05:24:43,009] Trial 88 finished with value: 34.95639419555664 and parameters: {'num_heads': 7, 'model_dim': 434, 'num_layers': 4, 'dropout': 0.4448630395152215, 'learning_rate': 0.008836546545063247, 'weight_decay': 0.00050658520557376, 'num_epochs': 85}. Best is trial 33 with value: 33.852020263671875.\n",
      "[I 2024-06-12 05:24:50,628] Trial 89 finished with value: 34.639339447021484 and parameters: {'num_heads': 5, 'model_dim': 310, 'num_layers': 3, 'dropout': 0.12096914555781602, 'learning_rate': 0.006547240810353721, 'weight_decay': 0.0002776710865977938, 'num_epochs': 100}. Best is trial 33 with value: 33.852020263671875.\n",
      "[I 2024-06-12 05:25:02,640] Trial 90 finished with value: 34.994327545166016 and parameters: {'num_heads': 8, 'model_dim': 464, 'num_layers': 4, 'dropout': 0.26328806910073094, 'learning_rate': 0.005346197559716468, 'weight_decay': 1.9358043891070906e-05, 'num_epochs': 89}. Best is trial 33 with value: 33.852020263671875.\n",
      "[I 2024-06-12 05:25:10,984] Trial 91 finished with value: 34.0878791809082 and parameters: {'num_heads': 7, 'model_dim': 413, 'num_layers': 3, 'dropout': 0.3230582261662006, 'learning_rate': 0.007479912482102405, 'weight_decay': 3.0204479096302514e-05, 'num_epochs': 94}. Best is trial 33 with value: 33.852020263671875.\n",
      "[I 2024-06-12 05:25:19,597] Trial 92 finished with value: 34.65561294555664 and parameters: {'num_heads': 7, 'model_dim': 406, 'num_layers': 3, 'dropout': 0.32797526730185567, 'learning_rate': 0.004036160780640888, 'weight_decay': 2.9843946728452268e-05, 'num_epochs': 96}. Best is trial 33 with value: 33.852020263671875.\n",
      "[I 2024-06-12 05:25:27,126] Trial 93 finished with value: 34.90346908569336 and parameters: {'num_heads': 6, 'model_dim': 378, 'num_layers': 3, 'dropout': 0.42496737298790394, 'learning_rate': 0.008302668407768991, 'weight_decay': 4.544830239058532e-05, 'num_epochs': 92}. Best is trial 33 with value: 33.852020263671875.\n",
      "[I 2024-06-12 05:25:35,073] Trial 94 finished with value: 34.21864318847656 and parameters: {'num_heads': 7, 'model_dim': 427, 'num_layers': 3, 'dropout': 0.46342574676349024, 'learning_rate': 0.005732867371102308, 'weight_decay': 6.525574538383582e-05, 'num_epochs': 88}. Best is trial 33 with value: 33.852020263671875.\n",
      "[I 2024-06-12 05:25:39,657] Trial 95 finished with value: 35.6917839050293 and parameters: {'num_heads': 3, 'model_dim': 189, 'num_layers': 3, 'dropout': 0.4554366763685764, 'learning_rate': 0.007022771186207075, 'weight_decay': 2.7518140182542582e-05, 'num_epochs': 87}. Best is trial 33 with value: 33.852020263671875.\n",
      "[I 2024-06-12 05:25:46,741] Trial 96 finished with value: 35.46324920654297 and parameters: {'num_heads': 7, 'model_dim': 427, 'num_layers': 3, 'dropout': 0.47593263880347125, 'learning_rate': 0.0059203307612532615, 'weight_decay': 1.5279990293030176e-05, 'num_epochs': 82}. Best is trial 33 with value: 33.852020263671875.\n",
      "[I 2024-06-12 05:25:52,271] Trial 97 finished with value: 36.652488708496094 and parameters: {'num_heads': 7, 'model_dim': 273, 'num_layers': 3, 'dropout': 0.4340409893723367, 'learning_rate': 0.003259288581847858, 'weight_decay': 0.0026482799090992836, 'num_epochs': 79}. Best is trial 33 with value: 33.852020263671875.\n",
      "[I 2024-06-12 05:25:57,441] Trial 98 finished with value: 34.3314208984375 and parameters: {'num_heads': 6, 'model_dim': 378, 'num_layers': 2, 'dropout': 0.4620909992629143, 'learning_rate': 0.008580377042944525, 'weight_decay': 3.3526562311277725e-05, 'num_epochs': 89}. Best is trial 33 with value: 33.852020263671875.\n",
      "[I 2024-06-12 05:25:59,508] Trial 99 finished with value: 78.99964904785156 and parameters: {'num_heads': 6, 'model_dim': 366, 'num_layers': 1, 'dropout': 0.4563508625165287, 'learning_rate': 0.009932752747147187, 'weight_decay': 6.033202231192675e-05, 'num_epochs': 85}. Best is trial 33 with value: 33.852020263671875.\n",
      "ic| f'Trials quantity: {len(study_mm.trials)}': 'Trials quantity: 100'\n",
      "ic| f'Best trial: {study_mm.best_trial.params}': (\"Best trial: {'num_heads': 7, 'model_dim': 448, 'num_layers': 4, 'dropout': \"\n",
      "                                                  \"0.14548354765365423, 'learning_rate': 0.0035210360246936668, 'weight_decay': \"\n",
      "                                                  \"0.0002816526079779778, 'num_epochs': 89}\")\n",
      "ic| f'Mejor valor de pérdida: {study_mm.best_trial.value}': 'Mejor valor de pérdida: 33.852020263671875'\n"
     ]
    },
    {
     "data": {
      "text/plain": [
       "'Mejor valor de pérdida: 33.852020263671875'"
      ]
     },
     "execution_count": 18,
     "metadata": {},
     "output_type": "execute_result"
    }
   ],
   "source": [
    "# configuration optuna\n",
    "study_mm = optuna.create_study(direction='minimize')\n",
    "study_mm.optimize(lambda trial: objective(trial, X_mm_train, y_mm_train, X_mm_test, y_mm_test, len(features), len(target)), n_trials=100)\n",
    "\n",
    "# Results\n",
    "ic(f'Trials quantity: {len(study_mm.trials)}')\n",
    "ic(f'Best trial: {study_mm.best_trial.params}')\n",
    "ic(f'Mejor valor de pérdida: {study_mm.best_trial.value}')"
   ]
  },
  {
   "cell_type": "markdown",
   "metadata": {},
   "source": [
    "# Training"
   ]
  },
  {
   "cell_type": "code",
   "execution_count": 19,
   "metadata": {},
   "outputs": [],
   "source": [
    "input_dim = len(features)\n",
    "output_dim = 1"
   ]
  },
  {
   "cell_type": "markdown",
   "metadata": {},
   "source": [
    "## General"
   ]
  },
  {
   "cell_type": "code",
   "execution_count": 20,
   "metadata": {},
   "outputs": [
    {
     "name": "stderr",
     "output_type": "stream",
     "text": [
      "ic| study_g.best_trial.params: {'dropout': 0.17754549994274815,\n",
      "                                'learning_rate': 0.004020903372061854,\n",
      "                                'model_dim': 440,\n",
      "                                'num_epochs': 10,\n",
      "                                'num_heads': 8,\n",
      "                                'num_layers': 4,\n",
      "                                'weight_decay': 0.0001529765304527148}\n"
     ]
    },
    {
     "data": {
      "text/plain": [
       "{'num_heads': 8,\n",
       " 'model_dim': 440,\n",
       " 'num_layers': 4,\n",
       " 'dropout': 0.17754549994274815,\n",
       " 'learning_rate': 0.004020903372061854,\n",
       " 'weight_decay': 0.0001529765304527148,\n",
       " 'num_epochs': 10}"
      ]
     },
     "execution_count": 20,
     "metadata": {},
     "output_type": "execute_result"
    }
   ],
   "source": [
    "# hyperparameters\n",
    "num_heads = study_g.best_trial.params['num_heads']\n",
    "model_dim = study_g.best_trial.params['model_dim']\n",
    "num_layers = study_g.best_trial.params['num_layers']\n",
    "dropout = study_g.best_trial.params['dropout']\n",
    "lr = study_g.best_trial.params['learning_rate']\n",
    "wd = study_g.best_trial.params['weight_decay']\n",
    "num_epochs = study_g.best_trial.params['num_epochs']\n",
    "ic(study_g.best_trial.params)"
   ]
  },
  {
   "cell_type": "code",
   "execution_count": 21,
   "metadata": {},
   "outputs": [
    {
     "name": "stderr",
     "output_type": "stream",
     "text": [
      "ic| f'Epoch {epoch+1}/{num_epochs}, Loss: {loss.item()}, Val Loss: {val_loss.item()}': 'Epoch 10/10, Loss: 50.93722152709961, Val Loss: 111.02555084228516'\n"
     ]
    }
   ],
   "source": [
    "# general model initialization\n",
    "model_g = TransformerModel(input_dim, model_dim, num_heads, num_layers, output_dim, dropout)\n",
    "criterion_g = nn.MSELoss()\n",
    "optimizer_g = optim.AdamW(model_g.parameters(), lr=lr, weight_decay=wd)\n",
    "\n",
    "model_g.train()\n",
    "\n",
    "for epoch in range(num_epochs):\n",
    "\toptimizer_g.zero_grad()\n",
    "\toutput = model_g(X_g_train)\n",
    "\tloss = criterion_g(output, y_g_train)\n",
    "\tloss.backward()\n",
    "\toptimizer_g.step()\n",
    "\t# validation\n",
    "\tif (epoch+1) % 10 == 0:\n",
    "\t\tmodel_g.eval()\n",
    "\t\twith torch.no_grad():\n",
    "\t\t\tval_predictions = model_g(X_g_test)\n",
    "\t\t\tval_loss = criterion_g(val_predictions, y_g_test)\n",
    "\t\tic(f'Epoch {epoch+1}/{num_epochs}, Loss: {loss.item()}, Val Loss: {val_loss.item()}')\n",
    "\t\tmodel_g.train()"
   ]
  },
  {
   "cell_type": "markdown",
   "metadata": {},
   "source": [
    "## Single Thread"
   ]
  },
  {
   "cell_type": "code",
   "execution_count": 22,
   "metadata": {},
   "outputs": [
    {
     "name": "stderr",
     "output_type": "stream",
     "text": [
      "ic| study_st.best_trial.params: {'dropout': 0.4401663857563715,\n",
      "                                 'learning_rate': 0.004094956461358572,\n",
      "                                 'model_dim': 434,\n",
      "                                 'num_epochs': 64,\n",
      "                                 'num_heads': 7,\n",
      "                                 'num_layers': 3,\n",
      "                                 'weight_decay': 2.779003561692465e-05}\n"
     ]
    },
    {
     "data": {
      "text/plain": [
       "{'num_heads': 7,\n",
       " 'model_dim': 434,\n",
       " 'num_layers': 3,\n",
       " 'dropout': 0.4401663857563715,\n",
       " 'learning_rate': 0.004094956461358572,\n",
       " 'weight_decay': 2.779003561692465e-05,\n",
       " 'num_epochs': 64}"
      ]
     },
     "execution_count": 22,
     "metadata": {},
     "output_type": "execute_result"
    }
   ],
   "source": [
    "# hyperparameters\n",
    "num_heads = study_st.best_trial.params['num_heads']\n",
    "model_dim = study_st.best_trial.params['model_dim']\n",
    "num_layers = study_st.best_trial.params['num_layers']\n",
    "dropout = study_st.best_trial.params['dropout']\n",
    "lr = study_st.best_trial.params['learning_rate']\n",
    "wd = study_st.best_trial.params['weight_decay']\n",
    "num_epochs = study_st.best_trial.params['num_epochs']\n",
    "ic(study_st.best_trial.params)"
   ]
  },
  {
   "cell_type": "code",
   "execution_count": 23,
   "metadata": {},
   "outputs": [
    {
     "name": "stderr",
     "output_type": "stream",
     "text": [
      "c:\\Users\\LOL66\\Escritorio\\resource-prediction-study\\venv\\Lib\\site-packages\\torch\\nn\\modules\\transformer.py:306: UserWarning: enable_nested_tensor is True, but self.use_nested_tensor is False because encoder_layer.self_attn.num_heads is odd\n",
      "  warnings.warn(f\"enable_nested_tensor is True, but self.use_nested_tensor is False because {why_not_sparsity_fast_path}\")\n",
      "ic| f'Epoch {epoch+1}/{num_epochs}, Loss: {loss.item()}, Val Loss: {val_loss.item()}': 'Epoch 10/64, Loss: 17.28394317626953, Val Loss: 21.656965255737305'\n",
      "ic| f'Epoch {epoch+1}/{num_epochs}, Loss: {loss.item()}, Val Loss: {val_loss.item()}': 'Epoch 20/64, Loss: 17.372127532958984, Val Loss: 53.971885681152344'\n",
      "ic| f'Epoch {epoch+1}/{num_epochs}, Loss: {loss.item()}, Val Loss: {val_loss.item()}': 'Epoch 30/64, Loss: 16.680809020996094, Val Loss: 28.57021141052246'\n",
      "ic| f'Epoch {epoch+1}/{num_epochs}, Loss: {loss.item()}, Val Loss: {val_loss.item()}': 'Epoch 40/64, Loss: 15.886628150939941, Val Loss: 38.20534896850586'\n",
      "ic| f'Epoch {epoch+1}/{num_epochs}, Loss: {loss.item()}, Val Loss: {val_loss.item()}': 'Epoch 50/64, Loss: 15.993600845336914, Val Loss: 33.39986038208008'\n",
      "ic| f'Epoch {epoch+1}/{num_epochs}, Loss: {loss.item()}, Val Loss: {val_loss.item()}': 'Epoch 60/64, Loss: 15.981679916381836, Val Loss: 34.56472396850586'\n"
     ]
    }
   ],
   "source": [
    "# single thread model initialization\n",
    "model_st = TransformerModel(input_dim, model_dim, num_heads, num_layers, output_dim, dropout)\n",
    "criterion_st = nn.MSELoss()\n",
    "optimizer_st = optim.AdamW(model_st.parameters(), lr=lr, weight_decay=wd)\n",
    "\n",
    "model_st.train()\n",
    "\n",
    "for epoch in range(num_epochs):\n",
    "\toptimizer_st.zero_grad()\n",
    "\toutput = model_st(X_st_train)\n",
    "\tloss = criterion_st(output, y_st_train)\n",
    "\tloss.backward()\n",
    "\toptimizer_st.step()\n",
    "\t# validation\n",
    "\tif (epoch+1) % 10 == 0:\n",
    "\t\tmodel_st.eval()\n",
    "\t\twith torch.no_grad():\n",
    "\t\t\tval_predictions = model_st(X_st_test)\n",
    "\t\t\tval_loss = criterion_st(val_predictions, y_st_test)\n",
    "\t\tic(f'Epoch {epoch+1}/{num_epochs}, Loss: {loss.item()}, Val Loss: {val_loss.item()}')\n",
    "\t\tmodel_st.train()"
   ]
  },
  {
   "cell_type": "markdown",
   "metadata": {},
   "source": [
    "## Multi Thread"
   ]
  },
  {
   "cell_type": "code",
   "execution_count": 27,
   "metadata": {},
   "outputs": [
    {
     "name": "stderr",
     "output_type": "stream",
     "text": [
      "ic| study_mm.best_trial.params: {'dropout': 0.14548354765365423,\n",
      "                                 'learning_rate': 0.0035210360246936668,\n",
      "                                 'model_dim': 448,\n",
      "                                 'num_epochs': 89,\n",
      "                                 'num_heads': 7,\n",
      "                                 'num_layers': 4,\n",
      "                                 'weight_decay': 0.0002816526079779778}\n"
     ]
    },
    {
     "data": {
      "text/plain": [
       "{'num_heads': 7,\n",
       " 'model_dim': 448,\n",
       " 'num_layers': 4,\n",
       " 'dropout': 0.14548354765365423,\n",
       " 'learning_rate': 0.0035210360246936668,\n",
       " 'weight_decay': 0.0002816526079779778,\n",
       " 'num_epochs': 89}"
      ]
     },
     "execution_count": 27,
     "metadata": {},
     "output_type": "execute_result"
    }
   ],
   "source": [
    "# hyperparameters\n",
    "num_heads = study_mm.best_trial.params['num_heads']\n",
    "model_dim = study_mm.best_trial.params['model_dim']\n",
    "num_layers = study_mm.best_trial.params['num_layers']\n",
    "dropout = study_mm.best_trial.params['dropout']\n",
    "lr = study_mm.best_trial.params['learning_rate']\n",
    "wd = study_mm.best_trial.params['weight_decay']\n",
    "num_epochs = study_mm.best_trial.params['num_epochs']\n",
    "ic(study_mm.best_trial.params)"
   ]
  },
  {
   "cell_type": "code",
   "execution_count": 25,
   "metadata": {},
   "outputs": [
    {
     "name": "stderr",
     "output_type": "stream",
     "text": [
      "ic| f'Epoch {epoch+1}/{num_epochs}, Loss: {loss.item()}, Val Loss: {val_loss.item()}': 'Epoch 10/500, Loss: 15.367077827453613, Val Loss: 27.776830673217773'\n",
      "ic| f'Epoch {epoch+1}/{num_epochs}, Loss: {loss.item()}, Val Loss: {val_loss.item()}': 'Epoch 20/500, Loss: 16.665973663330078, Val Loss: 47.85505294799805'\n",
      "ic| f'Epoch {epoch+1}/{num_epochs}, Loss: {loss.item()}, Val Loss: {val_loss.item()}': 'Epoch 30/500, Loss: 16.205753326416016, Val Loss: 31.511938095092773'\n",
      "ic| f'Epoch {epoch+1}/{num_epochs}, Loss: {loss.item()}, Val Loss: {val_loss.item()}': 'Epoch 40/500, Loss: 15.595016479492188, Val Loss: 33.759613037109375'\n",
      "ic| f'Epoch {epoch+1}/{num_epochs}, Loss: {loss.item()}, Val Loss: {val_loss.item()}': 'Epoch 50/500, Loss: 15.786975860595703, Val Loss: 37.12171936035156'\n",
      "ic| f'Epoch {epoch+1}/{num_epochs}, Loss: {loss.item()}, Val Loss: {val_loss.item()}': 'Epoch 60/500, Loss: 15.929427146911621, Val Loss: 33.58354949951172'\n",
      "ic| f'Epoch {epoch+1}/{num_epochs}, Loss: {loss.item()}, Val Loss: {val_loss.item()}': 'Epoch 70/500, Loss: 15.488235473632812, Val Loss: 34.34888458251953'\n",
      "ic| f'Epoch {epoch+1}/{num_epochs}, Loss: {loss.item()}, Val Loss: {val_loss.item()}': 'Epoch 80/500, Loss: 15.719917297363281, Val Loss: 35.10380554199219'\n",
      "ic| f'Epoch {epoch+1}/{num_epochs}, Loss: {loss.item()}, Val Loss: {val_loss.item()}': 'Epoch 90/500, Loss: 15.79422664642334, Val Loss: 34.60371017456055'\n",
      "ic| f'Epoch {epoch+1}/{num_epochs}, Loss: {loss.item()}, Val Loss: {val_loss.item()}': 'Epoch 100/500, Loss: 15.817076683044434, Val Loss: 35.015480041503906'\n",
      "ic| f'Epoch {epoch+1}/{num_epochs}, Loss: {loss.item()}, Val Loss: {val_loss.item()}': 'Epoch 110/500, Loss: 15.963857650756836, Val Loss: 34.61781692504883'\n",
      "ic| f'Epoch {epoch+1}/{num_epochs}, Loss: {loss.item()}, Val Loss: {val_loss.item()}': 'Epoch 120/500, Loss: 15.523929595947266, Val Loss: 34.73719787597656'\n",
      "ic| f'Epoch {epoch+1}/{num_epochs}, Loss: {loss.item()}, Val Loss: {val_loss.item()}': 'Epoch 130/500, Loss: 15.704489707946777, Val Loss: 34.58827590942383'\n",
      "ic| f'Epoch {epoch+1}/{num_epochs}, Loss: {loss.item()}, Val Loss: {val_loss.item()}': 'Epoch 140/500, Loss: 16.02518081665039, Val Loss: 34.52753448486328'\n",
      "ic| f'Epoch {epoch+1}/{num_epochs}, Loss: {loss.item()}, Val Loss: {val_loss.item()}': 'Epoch 150/500, Loss: 15.882490158081055, Val Loss: 34.7432746887207'\n",
      "ic| f'Epoch {epoch+1}/{num_epochs}, Loss: {loss.item()}, Val Loss: {val_loss.item()}': 'Epoch 160/500, Loss: 15.556222915649414, Val Loss: 34.57307815551758'\n",
      "ic| f'Epoch {epoch+1}/{num_epochs}, Loss: {loss.item()}, Val Loss: {val_loss.item()}': 'Epoch 170/500, Loss: 15.971805572509766, Val Loss: 34.71430969238281'\n",
      "ic| f'Epoch {epoch+1}/{num_epochs}, Loss: {loss.item()}, Val Loss: {val_loss.item()}': 'Epoch 180/500, Loss: 15.659586906433105, Val Loss: 34.510986328125'\n",
      "ic| f'Epoch {epoch+1}/{num_epochs}, Loss: {loss.item()}, Val Loss: {val_loss.item()}': 'Epoch 190/500, Loss: 16.003334045410156, Val Loss: 34.79133224487305'\n",
      "ic| f'Epoch {epoch+1}/{num_epochs}, Loss: {loss.item()}, Val Loss: {val_loss.item()}': 'Epoch 200/500, Loss: 15.596970558166504, Val Loss: 34.42837142944336'\n",
      "ic| f'Epoch {epoch+1}/{num_epochs}, Loss: {loss.item()}, Val Loss: {val_loss.item()}': 'Epoch 210/500, Loss: 15.84339427947998, Val Loss: 34.578269958496094'\n",
      "ic| f'Epoch {epoch+1}/{num_epochs}, Loss: {loss.item()}, Val Loss: {val_loss.item()}': 'Epoch 220/500, Loss: 15.842464447021484, Val Loss: 35.08511734008789'\n",
      "ic| f'Epoch {epoch+1}/{num_epochs}, Loss: {loss.item()}, Val Loss: {val_loss.item()}': 'Epoch 230/500, Loss: 15.687435150146484, Val Loss: 34.87644958496094'\n",
      "ic| f'Epoch {epoch+1}/{num_epochs}, Loss: {loss.item()}, Val Loss: {val_loss.item()}': 'Epoch 240/500, Loss: 15.744775772094727, Val Loss: 35.12266159057617'\n",
      "ic| f'Epoch {epoch+1}/{num_epochs}, Loss: {loss.item()}, Val Loss: {val_loss.item()}': 'Epoch 250/500, Loss: 15.570996284484863, Val Loss: 34.87031173706055'\n",
      "ic| f'Epoch {epoch+1}/{num_epochs}, Loss: {loss.item()}, Val Loss: {val_loss.item()}': 'Epoch 260/500, Loss: 15.815101623535156, Val Loss: 34.66203308105469'\n",
      "ic| f'Epoch {epoch+1}/{num_epochs}, Loss: {loss.item()}, Val Loss: {val_loss.item()}': 'Epoch 270/500, Loss: 15.744091033935547, Val Loss: 34.459720611572266'\n",
      "ic| f'Epoch {epoch+1}/{num_epochs}, Loss: {loss.item()}, Val Loss: {val_loss.item()}': 'Epoch 280/500, Loss: 15.76335334777832, Val Loss: 34.30996322631836'\n",
      "ic| f'Epoch {epoch+1}/{num_epochs}, Loss: {loss.item()}, Val Loss: {val_loss.item()}': 'Epoch 290/500, Loss: 16.038042068481445, Val Loss: 33.967044830322266'\n",
      "ic| f'Epoch {epoch+1}/{num_epochs}, Loss: {loss.item()}, Val Loss: {val_loss.item()}': 'Epoch 300/500, Loss: 15.663066864013672, Val Loss: 33.953739166259766'\n",
      "ic| f'Epoch {epoch+1}/{num_epochs}, Loss: {loss.item()}, Val Loss: {val_loss.item()}': 'Epoch 310/500, Loss: 15.836281776428223, Val Loss: 34.461280822753906'\n",
      "ic| f'Epoch {epoch+1}/{num_epochs}, Loss: {loss.item()}, Val Loss: {val_loss.item()}': 'Epoch 320/500, Loss: 15.611030578613281, Val Loss: 34.69482421875'\n",
      "ic| f'Epoch {epoch+1}/{num_epochs}, Loss: {loss.item()}, Val Loss: {val_loss.item()}': 'Epoch 330/500, Loss: 15.755630493164062, Val Loss: 34.61254119873047'\n",
      "ic| f'Epoch {epoch+1}/{num_epochs}, Loss: {loss.item()}, Val Loss: {val_loss.item()}': 'Epoch 340/500, Loss: 15.754308700561523, Val Loss: 34.72114944458008'\n",
      "ic| f'Epoch {epoch+1}/{num_epochs}, Loss: {loss.item()}, Val Loss: {val_loss.item()}': 'Epoch 350/500, Loss: 16.311084747314453, Val Loss: 34.4840087890625'\n",
      "ic| f'Epoch {epoch+1}/{num_epochs}, Loss: {loss.item()}, Val Loss: {val_loss.item()}': 'Epoch 360/500, Loss: 15.630186080932617, Val Loss: 34.80366897583008'\n",
      "ic| f'Epoch {epoch+1}/{num_epochs}, Loss: {loss.item()}, Val Loss: {val_loss.item()}': 'Epoch 370/500, Loss: 16.032413482666016, Val Loss: 34.75432205200195'\n",
      "ic| f'Epoch {epoch+1}/{num_epochs}, Loss: {loss.item()}, Val Loss: {val_loss.item()}': 'Epoch 380/500, Loss: 15.727444648742676, Val Loss: 34.74593734741211'\n",
      "ic| f'Epoch {epoch+1}/{num_epochs}, Loss: {loss.item()}, Val Loss: {val_loss.item()}': 'Epoch 390/500, Loss: 15.763102531433105, Val Loss: 34.76567077636719'\n",
      "ic| f'Epoch {epoch+1}/{num_epochs}, Loss: {loss.item()}, Val Loss: {val_loss.item()}': 'Epoch 400/500, Loss: 15.804980278015137, Val Loss: 34.57060241699219'\n",
      "ic| f'Epoch {epoch+1}/{num_epochs}, Loss: {loss.item()}, Val Loss: {val_loss.item()}': 'Epoch 410/500, Loss: 15.672061920166016, Val Loss: 34.9110221862793'\n",
      "ic| f'Epoch {epoch+1}/{num_epochs}, Loss: {loss.item()}, Val Loss: {val_loss.item()}': 'Epoch 420/500, Loss: 15.86958122253418, Val Loss: 34.959537506103516'\n",
      "ic| f'Epoch {epoch+1}/{num_epochs}, Loss: {loss.item()}, Val Loss: {val_loss.item()}': 'Epoch 430/500, Loss: 15.588248252868652, Val Loss: 34.552371978759766'\n",
      "ic| f'Epoch {epoch+1}/{num_epochs}, Loss: {loss.item()}, Val Loss: {val_loss.item()}': 'Epoch 440/500, Loss: 15.998637199401855, Val Loss: 34.097537994384766'\n",
      "ic| f'Epoch {epoch+1}/{num_epochs}, Loss: {loss.item()}, Val Loss: {val_loss.item()}': 'Epoch 450/500, Loss: 15.337104797363281, Val Loss: 34.8843994140625'\n",
      "ic| f'Epoch {epoch+1}/{num_epochs}, Loss: {loss.item()}, Val Loss: {val_loss.item()}': 'Epoch 460/500, Loss: 15.754570960998535, Val Loss: 34.90842056274414'\n",
      "ic| f'Epoch {epoch+1}/{num_epochs}, Loss: {loss.item()}, Val Loss: {val_loss.item()}': 'Epoch 470/500, Loss: 15.89604377746582, Val Loss: 34.5848274230957'\n",
      "ic| f'Epoch {epoch+1}/{num_epochs}, Loss: {loss.item()}, Val Loss: {val_loss.item()}': 'Epoch 480/500, Loss: 15.798867225646973, Val Loss: 34.854248046875'\n",
      "ic| f'Epoch {epoch+1}/{num_epochs}, Loss: {loss.item()}, Val Loss: {val_loss.item()}': 'Epoch 490/500, Loss: 16.048988342285156, Val Loss: 34.82068634033203'\n",
      "ic| f'Epoch {epoch+1}/{num_epochs}, Loss: {loss.item()}, Val Loss: {val_loss.item()}': 'Epoch 500/500, Loss: 16.104326248168945, Val Loss: 34.63174057006836'\n"
     ]
    }
   ],
   "source": [
    "# multi thread model initialization\n",
    "model_mm = TransformerModel(input_dim, model_dim, num_heads, num_layers, output_dim, dropout)\n",
    "criterion_mm = nn.MSELoss()\n",
    "optimizer_mm = optim.AdamW(model_mm.parameters(), lr=lr, weight_decay=wd)\n",
    "\n",
    "model_mm.train()\n",
    "num_epochs = 500\n",
    "\n",
    "for epoch in range(num_epochs):\n",
    "\toptimizer_mm.zero_grad()\n",
    "\toutput = model_mm(X_mm_train)\n",
    "\tloss = criterion_mm(output, y_mm_train)\n",
    "\tloss.backward()\n",
    "\toptimizer_mm.step()\n",
    "\t# validation\n",
    "\tif (epoch+1) % 10 == 0:\n",
    "\t\tmodel_mm.eval()\n",
    "\t\twith torch.no_grad():\n",
    "\t\t\tval_predictions = model_mm(X_mm_test)\n",
    "\t\t\tval_loss = criterion_mm(val_predictions, y_mm_test)\n",
    "\t\tic(f'Epoch {epoch+1}/{num_epochs}, Loss: {loss.item()}, Val Loss: {val_loss.item()}')\n",
    "\t\tmodel_mm.train()"
   ]
  },
  {
   "cell_type": "markdown",
   "metadata": {},
   "source": [
    "# Conclusion\n",
    "Queda trabajo que hacer en la red, además de conseguir más datos para un entrenamiento más robusto. Queda por ahora descartado el uso de solo un modelo para multi-threading y single-threading, ya que el modelo tiene más del triple de *loss*."
   ]
  }
 ],
 "metadata": {
  "kernelspec": {
   "display_name": "venv",
   "language": "python",
   "name": "python3"
  },
  "language_info": {
   "codemirror_mode": {
    "name": "ipython",
    "version": 3
   },
   "file_extension": ".py",
   "mimetype": "text/x-python",
   "name": "python",
   "nbconvert_exporter": "python",
   "pygments_lexer": "ipython3",
   "version": "3.11.6"
  }
 },
 "nbformat": 4,
 "nbformat_minor": 2
}
