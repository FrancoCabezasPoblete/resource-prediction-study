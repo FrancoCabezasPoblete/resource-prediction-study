{
 "cells": [
  {
   "cell_type": "code",
   "execution_count": 11,
   "metadata": {},
   "outputs": [],
   "source": [
    "import optuna\n",
    "import xgboost as xgb\n",
    "import pandas as pd\n",
    "import numpy as np\n",
    "from sklearn.preprocessing import StandardScaler\n",
    "from sklearn.metrics import mean_squared_error\n",
    "import random"
   ]
  },
  {
   "cell_type": "code",
   "execution_count": 12,
   "metadata": {},
   "outputs": [],
   "source": [
    "# Fix random seed\n",
    "seed = 42\n",
    "np.random.seed(seed)\n",
    "random.seed(seed)"
   ]
  },
  {
   "cell_type": "markdown",
   "metadata": {},
   "source": [
    "# Pre-processing input data"
   ]
  },
  {
   "cell_type": "code",
   "execution_count": 13,
   "metadata": {},
   "outputs": [],
   "source": [
    "def bits_to_MiB(row):\n",
    "\t# verify if has string ' MiB'\n",
    "\tif 'MiB' in str(row):\n",
    "\t\trow = row.replace(' MiB', '')\n",
    "\t\trow = float(row)\n",
    "\telse:\n",
    "\t\trow = float(row) / np.power(2, 20)\n",
    "\treturn row\n",
    "\n",
    "\n",
    "def MHz_to_GHz(row):\n",
    "\t# verify if has string ' GHz'\n",
    "\tif 'GHz' in str(row):\n",
    "\t\trow = row.replace(' GHz', '')\n",
    "\t\t# convert to float\n",
    "\t\trow = float(row)\n",
    "\telse:\n",
    "\t\trow = row.replace(' MHz', '')\n",
    "\t\trow = float(row) / 1000\n",
    "\treturn row"
   ]
  },
  {
   "cell_type": "code",
   "execution_count": 14,
   "metadata": {},
   "outputs": [],
   "source": [
    "results_df = pd.read_csv('../results/execution_time.csv')\n",
    "results_savio_df = pd.read_csv('../results_savio/execution_time.csv')\n",
    "results_df = pd.concat([results_df, results_savio_df], ignore_index=True)\n",
    "# preprocessing\n",
    "results_df['total_cpu_usage'] = results_df['total_cpu_usage'].str.replace('%', '').astype(float) / 100\n",
    "results_df['max_ram_usage'] = results_df['max_ram_usage'] / 1024\n",
    "results_df['l2_cache_size'] = results_df['l2_cache_size'].apply(bits_to_MiB)\n",
    "results_df['l3_cache_size'] = results_df['l3_cache_size'].apply(bits_to_MiB)\n",
    "results_df['ghz_actual_friendly'] = results_df['hz_actual_friendly'].apply(MHz_to_GHz)\n",
    "results_df['ghz_advertised_friendly'] = results_df['hz_advertised_friendly'].str.replace('GHz', '').astype(float)\n",
    "results_df = results_df.drop(columns=['hz_actual_friendly', 'hz_advertised_friendly', 'arch', 'vendor_id_raw'])"
   ]
  },
  {
   "cell_type": "code",
   "execution_count": 15,
   "metadata": {},
   "outputs": [],
   "source": [
    "# remove one computer for testing\n",
    "g_train = results_df[(results_df['brand_raw'] != '13th Gen Intel(R) Core(TM) i5-1335U')].drop(columns=['benchmark','brand_raw'])\n",
    "g_test = results_df[results_df['brand_raw'] == '13th Gen Intel(R) Core(TM) i5-1335U'].drop(columns=['benchmark','brand_raw'])"
   ]
  },
  {
   "cell_type": "code",
   "execution_count": 16,
   "metadata": {},
   "outputs": [],
   "source": [
    "mm_df = results_df[results_df['benchmark']=='MATRIX_MULT'].drop(columns=['benchmark'])\n",
    "# remove one computer for testing\n",
    "mm_train = mm_df[(mm_df['brand_raw'] != '13th Gen Intel(R) Core(TM) i5-1335U')].drop(columns=['brand_raw'])\n",
    "mm_test = mm_df[mm_df['brand_raw'] == '13th Gen Intel(R) Core(TM) i5-1335U'].drop(columns=['brand_raw'])"
   ]
  },
  {
   "cell_type": "code",
   "execution_count": 17,
   "metadata": {},
   "outputs": [],
   "source": [
    "st_df = results_df[results_df['benchmark']!='MATRIX_MULT'].drop(columns=['benchmark','count'])\n",
    "# remove one computer for testing\n",
    "st_train = st_df[(st_df['brand_raw'] != '13th Gen Intel(R) Core(TM) i5-1335U')].drop(columns=['brand_raw'])\n",
    "st_test = st_df[st_df['brand_raw'] == '13th Gen Intel(R) Core(TM) i5-1335U'].drop(columns=['brand_raw'])"
   ]
  },
  {
   "cell_type": "code",
   "execution_count": 18,
   "metadata": {},
   "outputs": [],
   "source": [
    "target = 'total_time'\n",
    "features = mm_test.columns.copy().drop(target)\n",
    "features_st = features.copy().drop(['count'])"
   ]
  },
  {
   "cell_type": "code",
   "execution_count": 19,
   "metadata": {},
   "outputs": [],
   "source": [
    "# general data\n",
    "## split data\n",
    "X_g_train = g_train[features]\n",
    "y_g_train = g_train[target]\n",
    "\n",
    "X_g_test = g_test[features]\n",
    "y_g_test = g_test[target]\n",
    "\n",
    "## normalize data\n",
    "scaler = StandardScaler()\n",
    "X_g_train = scaler.fit_transform(X_g_train)\n",
    "X_g_test = scaler.transform(X_g_test)"
   ]
  },
  {
   "cell_type": "code",
   "execution_count": 20,
   "metadata": {},
   "outputs": [],
   "source": [
    "# single thread data\n",
    "## split data\n",
    "X_st_train = st_train[features_st]\n",
    "y_st_train = st_train[target]\n",
    "\n",
    "X_st_test = st_test[features_st]\n",
    "y_st_test = st_test[target]\n",
    "\n",
    "## normalize data\n",
    "scaler = StandardScaler()\n",
    "X_st_train = scaler.fit_transform(X_st_train)\n",
    "X_st_test = scaler.transform(X_st_test)"
   ]
  },
  {
   "cell_type": "code",
   "execution_count": 21,
   "metadata": {},
   "outputs": [],
   "source": [
    "# multi thread data\n",
    "## split data\n",
    "X_mm_train = mm_train[features]\n",
    "y_mm_train = mm_train[target]\n",
    "\n",
    "X_mm_test = mm_test[features]\n",
    "y_mm_test = mm_test[target]\n",
    "\n",
    "## normalize data\n",
    "scaler = StandardScaler()\n",
    "X_mm_train = scaler.fit_transform(X_mm_train)\n",
    "X_mm_test = scaler.transform(X_mm_test)"
   ]
  },
  {
   "cell_type": "markdown",
   "metadata": {},
   "source": [
    "# Model"
   ]
  },
  {
   "cell_type": "code",
   "execution_count": 22,
   "metadata": {},
   "outputs": [],
   "source": [
    "def objective(trial: optuna.Trial, X_train, y_train, X_test, y_test):\n",
    "\tdtrain = xgb.DMatrix(X_train, label=y_train)\n",
    "\tdtest = xgb.DMatrix(X_test, label=y_test)\n",
    "\t\n",
    "\t# Definimos los hiperparámetros a buscar (XGBoost)\n",
    "\tparam = {\n",
    "\t\t\"verbosity\": 0,\n",
    "\t\t\"device\": \"gpu\",\n",
    "\t\t\"objective\": \"reg:squarederror\",\n",
    "\t\t\"eval_metric\": \"rmse\",\n",
    "\t\t\"booster\": trial.suggest_categorical(\"booster\", [\"gbtree\", \"gblinear\", \"dart\"]),\n",
    "\t\t# L2 regularization weight.\n",
    "        \"lambda\": trial.suggest_float(\"lambda\", 1e-8, 1.0, log=True),\n",
    "        # L1 regularization weight.\n",
    "        \"alpha\": trial.suggest_float(\"alpha\", 1e-8, 1.0, log=True),\n",
    "\t\t\"learning_rate\": trial.suggest_float(\"learning_rate\", 1e-3, 0.1, log=True),\n",
    "        \"subsample\": trial.suggest_float(\"subsample\", 0.2, 1.0),\n",
    "        \"colsample_bytree\": trial.suggest_float(\"colsample_bytree\", 0.05, 1.0),\n",
    "\t}\n",
    "    \n",
    "\tif param[\"booster\"] in [\"gbtree\", \"dart\"]:\n",
    "\t\t# maximum depth of the tree, signifies complexity of the tree.\n",
    "\t\tparam[\"max_depth\"] = trial.suggest_int(\"max_depth\", 3, 9, step=2)\n",
    "\t\t# minimum child weight, larger the term more conservative the tree.\n",
    "\t\tparam[\"min_child_weight\"] = trial.suggest_int(\"min_child_weight\", 2, 10)\n",
    "\t\tparam[\"eta\"] = trial.suggest_float(\"eta\", 1e-8, 1.0, log=True)\n",
    "\t\t# defines how selective algorithm is.\n",
    "\t\tparam[\"gamma\"] = trial.suggest_float(\"gamma\", 1e-8, 1.0, log=True)\n",
    "\t\tparam[\"grow_policy\"] = trial.suggest_categorical(\"grow_policy\", [\"depthwise\", \"lossguide\"])\n",
    "\n",
    "\tif param[\"booster\"] == \"dart\":\n",
    "\t\tparam[\"sample_type\"] = trial.suggest_categorical(\"sample_type\", [\"uniform\", \"weighted\"])\n",
    "\t\tparam[\"normalize_type\"] = trial.suggest_categorical(\"normalize_type\", [\"tree\", \"forest\"])\n",
    "\t\tparam[\"rate_drop\"] = trial.suggest_float(\"rate_drop\", 1e-8, 1.0, log=True)\n",
    "\t\tparam[\"skip_drop\"] = trial.suggest_float(\"skip_drop\", 1e-8, 1.0, log=True)\n",
    "\n",
    "\t# training\n",
    "\tmodel = xgb.train(param, dtrain)\n",
    "\t# evaluation\n",
    "\tpreds = model.predict(dtest)\n",
    "\tmse = mean_squared_error(y_test, preds)\n",
    "\trmse = np.sqrt(mse)\n",
    "\tprint(f\"Trial: {trial.number} - MSE: {mse} - RMSE: {rmse}\")\n",
    "\treturn mse"
   ]
  },
  {
   "cell_type": "markdown",
   "metadata": {},
   "source": [
    "# Hyperparameters Optimization"
   ]
  },
  {
   "cell_type": "code",
   "execution_count": 23,
   "metadata": {},
   "outputs": [],
   "source": [
    "n_trials = 100"
   ]
  },
  {
   "cell_type": "markdown",
   "metadata": {},
   "source": [
    "## General"
   ]
  },
  {
   "cell_type": "code",
   "execution_count": 24,
   "metadata": {},
   "outputs": [
    {
     "name": "stderr",
     "output_type": "stream",
     "text": [
      "[I 2024-06-20 05:07:53,392] A new study created in memory with name: no-name-1c8d10c1-3bef-47bb-89ef-e9a6b726d669\n",
      "[I 2024-06-20 05:07:53,592] Trial 0 finished with value: 171.2254572160379 and parameters: {'booster': 'dart', 'lambda': 0.0014538556273497544, 'alpha': 5.005889390488909e-08, 'learning_rate': 0.00865619578568476, 'subsample': 0.9587051478713837, 'colsample_bytree': 0.7889244777924388, 'max_depth': 7, 'min_child_weight': 6, 'eta': 1.6138234251349032e-06, 'gamma': 0.010815874385654697, 'grow_policy': 'depthwise', 'sample_type': 'uniform', 'normalize_type': 'tree', 'rate_drop': 0.0173657362888369, 'skip_drop': 2.732516204567645e-06}. Best is trial 0 with value: 171.2254572160379.\n",
      "[I 2024-06-20 05:07:53,762] Trial 1 finished with value: 168.71171360893612 and parameters: {'booster': 'gbtree', 'lambda': 0.026872276086811094, 'alpha': 2.7942780675855837e-05, 'learning_rate': 0.00628063562725784, 'subsample': 0.7972219093379038, 'colsample_bytree': 0.7962362024012553, 'max_depth': 9, 'min_child_weight': 6, 'eta': 1.1791275423661956e-08, 'gamma': 4.872095281849812e-07, 'grow_policy': 'lossguide'}. Best is trial 1 with value: 168.71171360893612.\n"
     ]
    },
    {
     "name": "stdout",
     "output_type": "stream",
     "text": [
      "Trial: 0 - MSE: 171.2254572160379 - RMSE: 13.085314563129078\n",
      "Trial: 1 - MSE: 168.71171360893612 - RMSE: 12.988907329292026\n"
     ]
    },
    {
     "name": "stderr",
     "output_type": "stream",
     "text": [
      "[I 2024-06-20 05:07:54,270] Trial 2 finished with value: 178.08865306568958 and parameters: {'booster': 'gblinear', 'lambda': 0.28093897148837876, 'alpha': 0.18726695981703867, 'learning_rate': 0.014491129416657571, 'subsample': 0.7415399365221185, 'colsample_bytree': 0.10893446818504315}. Best is trial 1 with value: 168.71171360893612.\n",
      "[I 2024-06-20 05:07:54,364] Trial 3 finished with value: 167.64277267047572 and parameters: {'booster': 'dart', 'lambda': 1.0207862562662872e-05, 'alpha': 6.461239014938857e-05, 'learning_rate': 0.005811398665888791, 'subsample': 0.5878046603201001, 'colsample_bytree': 0.5451890208576909, 'max_depth': 5, 'min_child_weight': 6, 'eta': 0.5803899445435506, 'gamma': 2.94172854755518e-05, 'grow_policy': 'depthwise', 'sample_type': 'weighted', 'normalize_type': 'tree', 'rate_drop': 3.9508162689171725e-07, 'skip_drop': 0.019202284433642733}. Best is trial 3 with value: 167.64277267047572.\n",
      "[I 2024-06-20 05:07:54,399] Trial 4 finished with value: 193.8333676273222 and parameters: {'booster': 'dart', 'lambda': 0.1671743545399724, 'alpha': 0.04396415526711427, 'learning_rate': 0.027863670762091227, 'subsample': 0.5850656878001528, 'colsample_bytree': 0.43044171737603365, 'max_depth': 5, 'min_child_weight': 4, 'eta': 8.848511653654997e-08, 'gamma': 0.21412536716209363, 'grow_policy': 'depthwise', 'sample_type': 'weighted', 'normalize_type': 'tree', 'rate_drop': 0.005028482051781015, 'skip_drop': 0.28568513395578277}. Best is trial 3 with value: 167.64277267047572.\n",
      "[I 2024-06-20 05:07:54,451] Trial 5 finished with value: 162.90417522425628 and parameters: {'booster': 'dart', 'lambda': 0.08877369924768329, 'alpha': 0.8710415201873933, 'learning_rate': 0.0019950391919763897, 'subsample': 0.7895120759995047, 'colsample_bytree': 0.9316071857705894, 'max_depth': 9, 'min_child_weight': 9, 'eta': 0.011759264572420087, 'gamma': 0.10494271877412106, 'grow_policy': 'lossguide', 'sample_type': 'uniform', 'normalize_type': 'forest', 'rate_drop': 0.0010065606734760374, 'skip_drop': 0.0006533844907035915}. Best is trial 5 with value: 162.90417522425628.\n"
     ]
    },
    {
     "name": "stdout",
     "output_type": "stream",
     "text": [
      "Trial: 2 - MSE: 178.08865306568958 - RMSE: 13.34498606464951\n",
      "Trial: 3 - MSE: 167.64277267047572 - RMSE: 12.947693720137023\n",
      "Trial: 4 - MSE: 193.8333676273222 - RMSE: 13.922405238582957\n",
      "Trial: 5 - MSE: 162.90417522425628 - RMSE: 12.763391995243909\n"
     ]
    },
    {
     "name": "stderr",
     "output_type": "stream",
     "text": [
      "[I 2024-06-20 05:07:54,489] Trial 6 finished with value: 160.92714776512258 and parameters: {'booster': 'gbtree', 'lambda': 0.009256376134490079, 'alpha': 1.985052717342336e-07, 'learning_rate': 0.0033861712469100552, 'subsample': 0.39512026456355626, 'colsample_bytree': 0.11362975389046022, 'max_depth': 7, 'min_child_weight': 2, 'eta': 6.574699967564232e-06, 'gamma': 1.2278869421701564e-05, 'grow_policy': 'depthwise'}. Best is trial 6 with value: 160.92714776512258.\n",
      "[I 2024-06-20 05:07:54,517] Trial 7 finished with value: 161.72305092432111 and parameters: {'booster': 'dart', 'lambda': 1.3618834439693241e-05, 'alpha': 0.00028474607604740714, 'learning_rate': 0.0013725768158385067, 'subsample': 0.9150937850508525, 'colsample_bytree': 0.4452448750505416, 'max_depth': 5, 'min_child_weight': 8, 'eta': 0.01325239508464732, 'gamma': 8.333125376426894e-07, 'grow_policy': 'lossguide', 'sample_type': 'uniform', 'normalize_type': 'tree', 'rate_drop': 0.0005293693416500986, 'skip_drop': 6.243474294458353e-06}. Best is trial 6 with value: 160.92714776512258.\n",
      "[I 2024-06-20 05:07:54,522] Trial 8 finished with value: 232.8888013802682 and parameters: {'booster': 'gblinear', 'lambda': 3.848778419107013e-05, 'alpha': 3.3540892345137806e-07, 'learning_rate': 0.04440623301642479, 'subsample': 0.45317226077624834, 'colsample_bytree': 0.564622706594274}. Best is trial 6 with value: 160.92714776512258.\n",
      "[I 2024-06-20 05:07:54,566] Trial 9 finished with value: 160.9382280787044 and parameters: {'booster': 'dart', 'lambda': 0.08778705848647998, 'alpha': 3.407559039406811e-06, 'learning_rate': 0.002103425551779128, 'subsample': 0.8451007418260712, 'colsample_bytree': 0.20119381219529925, 'max_depth': 5, 'min_child_weight': 4, 'eta': 0.05040694797360387, 'gamma': 1.1313094049769651e-06, 'grow_policy': 'lossguide', 'sample_type': 'weighted', 'normalize_type': 'tree', 'rate_drop': 1.6688865727385245e-07, 'skip_drop': 0.025772092192496973}. Best is trial 6 with value: 160.92714776512258.\n",
      "[I 2024-06-20 05:07:54,612] Trial 10 finished with value: 229.61960690210293 and parameters: {'booster': 'gbtree', 'lambda': 9.480734469028111e-08, 'alpha': 2.0921185526553018e-08, 'learning_rate': 0.0980278807172081, 'subsample': 0.20882568195985612, 'colsample_bytree': 0.28086039262903734, 'max_depth': 3, 'min_child_weight': 2, 'eta': 5.307430283435254e-05, 'gamma': 1.0213368199947036e-08, 'grow_policy': 'depthwise'}. Best is trial 6 with value: 160.92714776512258.\n",
      "[I 2024-06-20 05:07:54,655] Trial 11 finished with value: 161.0903594670622 and parameters: {'booster': 'gbtree', 'lambda': 0.0021220454249748742, 'alpha': 3.2749901376861154e-06, 'learning_rate': 0.0028785901546897175, 'subsample': 0.329831102353122, 'colsample_bytree': 0.050494673716970445, 'max_depth': 7, 'min_child_weight': 2, 'eta': 6.66696208101234e-05, 'gamma': 0.00011048806678992949, 'grow_policy': 'lossguide'}. Best is trial 6 with value: 160.92714776512258.\n"
     ]
    },
    {
     "name": "stdout",
     "output_type": "stream",
     "text": [
      "Trial: 6 - MSE: 160.92714776512258 - RMSE: 12.68570643539896\n",
      "Trial: 7 - MSE: 161.72305092432111 - RMSE: 12.71703782035428\n",
      "Trial: 8 - MSE: 232.8888013802682 - RMSE: 15.260694655888644\n",
      "Trial: 9 - MSE: 160.9382280787044 - RMSE: 12.68614315222339\n",
      "Trial: 10 - MSE: 229.61960690210293 - RMSE: 15.153204509347287\n",
      "Trial: 11 - MSE: 161.0903594670622 - RMSE: 12.69213770280886\n"
     ]
    },
    {
     "name": "stderr",
     "output_type": "stream",
     "text": [
      "[I 2024-06-20 05:07:54,697] Trial 12 finished with value: 160.83585967129792 and parameters: {'booster': 'gbtree', 'lambda': 0.0026048677793638173, 'alpha': 1.1464302160713984e-06, 'learning_rate': 0.0010034489467168057, 'subsample': 0.4383883830286528, 'colsample_bytree': 0.23911714830310116, 'max_depth': 3, 'min_child_weight': 4, 'eta': 0.002477683642840704, 'gamma': 1.9185590595831416e-05, 'grow_policy': 'depthwise'}. Best is trial 12 with value: 160.83585967129792.\n",
      "[I 2024-06-20 05:07:54,738] Trial 13 finished with value: 160.98163189347042 and parameters: {'booster': 'gbtree', 'lambda': 0.0012640297170488264, 'alpha': 4.861672910604209e-07, 'learning_rate': 0.0012000272475708928, 'subsample': 0.43688382536707937, 'colsample_bytree': 0.2904872545849694, 'max_depth': 3, 'min_child_weight': 3, 'eta': 0.0005749873822662606, 'gamma': 0.0006993822198550039, 'grow_policy': 'depthwise'}. Best is trial 12 with value: 160.83585967129792.\n",
      "[I 2024-06-20 05:07:54,783] Trial 14 finished with value: 161.3654428357697 and parameters: {'booster': 'gbtree', 'lambda': 0.0002692020827218716, 'alpha': 0.0023268659522523317, 'learning_rate': 0.003688261354003266, 'subsample': 0.468459391347691, 'colsample_bytree': 0.19627310191847863, 'max_depth': 7, 'min_child_weight': 4, 'eta': 2.9701022669822115e-06, 'gamma': 1.9942828773777935e-05, 'grow_policy': 'depthwise'}. Best is trial 12 with value: 160.83585967129792.\n",
      "[I 2024-06-20 05:07:54,849] Trial 15 finished with value: 161.49308027845947 and parameters: {'booster': 'gbtree', 'lambda': 3.7600329647805525e-07, 'alpha': 3.2879375453979947e-07, 'learning_rate': 0.0012288385690405054, 'subsample': 0.326836352454834, 'colsample_bytree': 0.3576180792810591, 'max_depth': 3, 'min_child_weight': 3, 'eta': 0.0004888032541443926, 'gamma': 0.0027617803384875745, 'grow_policy': 'depthwise'}. Best is trial 12 with value: 160.83585967129792.\n"
     ]
    },
    {
     "name": "stdout",
     "output_type": "stream",
     "text": [
      "Trial: 12 - MSE: 160.83585967129792 - RMSE: 12.682107856003194\n",
      "Trial: 13 - MSE: 160.98163189347042 - RMSE: 12.687853715009108\n",
      "Trial: 14 - MSE: 161.3654428357697 - RMSE: 12.702969843141787\n",
      "Trial: 15 - MSE: 161.49308027845947 - RMSE: 12.707992771419862\n"
     ]
    },
    {
     "name": "stderr",
     "output_type": "stream",
     "text": [
      "[I 2024-06-20 05:07:54,974] Trial 16 finished with value: 161.50878584559865 and parameters: {'booster': 'gbtree', 'lambda': 0.012530948192075947, 'alpha': 4.8516563606328985e-06, 'learning_rate': 0.0035953604852879415, 'subsample': 0.6716925250954634, 'colsample_bytree': 0.15351560644544388, 'max_depth': 7, 'min_child_weight': 5, 'eta': 4.510569253470386e-06, 'gamma': 5.763403279070907e-06, 'grow_policy': 'depthwise'}. Best is trial 12 with value: 160.83585967129792.\n",
      "[I 2024-06-20 05:07:55,071] Trial 17 finished with value: 177.99560091160694 and parameters: {'booster': 'gbtree', 'lambda': 0.00720038823698669, 'alpha': 1.1001038767640562e-08, 'learning_rate': 0.012306194853218454, 'subsample': 0.3386736961639345, 'colsample_bytree': 0.6505643378086536, 'max_depth': 9, 'min_child_weight': 2, 'eta': 0.0021204453443237313, 'gamma': 3.4289612707789545e-08, 'grow_policy': 'depthwise'}. Best is trial 12 with value: 160.83585967129792.\n",
      "[I 2024-06-20 05:07:55,136] Trial 18 finished with value: 160.95898512400166 and parameters: {'booster': 'gblinear', 'lambda': 0.7759659030010503, 'alpha': 0.0009031218614701708, 'learning_rate': 0.001010418560090991, 'subsample': 0.23515243779793527, 'colsample_bytree': 0.2855965239845508}. Best is trial 12 with value: 160.83585967129792.\n"
     ]
    },
    {
     "name": "stdout",
     "output_type": "stream",
     "text": [
      "Trial: 16 - MSE: 161.50878584559865 - RMSE: 12.708610696909346\n",
      "Trial: 17 - MSE: 177.99560091160694 - RMSE: 13.341499200300053\n",
      "Trial: 18 - MSE: 160.95898512400166 - RMSE: 12.686961224974311\n"
     ]
    },
    {
     "name": "stderr",
     "output_type": "stream",
     "text": [
      "[I 2024-06-20 05:07:55,187] Trial 19 finished with value: 160.9709887912983 and parameters: {'booster': 'gbtree', 'lambda': 0.0001307891094473423, 'alpha': 1.151482251378401e-07, 'learning_rate': 0.0020622252576478484, 'subsample': 0.5198146759343332, 'colsample_bytree': 0.08711329002416128, 'max_depth': 3, 'min_child_weight': 8, 'eta': 1.0237370383885136e-05, 'gamma': 0.00028516252430299364, 'grow_policy': 'depthwise'}. Best is trial 12 with value: 160.83585967129792.\n",
      "[I 2024-06-20 05:07:55,233] Trial 20 finished with value: 167.08587290054734 and parameters: {'booster': 'gbtree', 'lambda': 1.0582680381698115e-08, 'alpha': 1.316679826936049e-05, 'learning_rate': 0.005148453733243874, 'subsample': 0.38218015066049427, 'colsample_bytree': 0.41149012829134113, 'max_depth': 5, 'min_child_weight': 3, 'eta': 6.719617429587686e-07, 'gamma': 1.5705690253951006e-07, 'grow_policy': 'depthwise'}. Best is trial 12 with value: 160.83585967129792.\n",
      "[I 2024-06-20 05:07:55,294] Trial 21 finished with value: 160.9362062827631 and parameters: {'booster': 'dart', 'lambda': 0.04381838589280543, 'alpha': 2.009436980617387e-06, 'learning_rate': 0.002036520109706312, 'subsample': 0.8687949825268988, 'colsample_bytree': 0.20596929598851382, 'max_depth': 5, 'min_child_weight': 4, 'eta': 0.39112251187216346, 'gamma': 2.854724770660891e-06, 'grow_policy': 'lossguide', 'sample_type': 'weighted', 'normalize_type': 'forest', 'rate_drop': 1.1113772467244124e-08, 'skip_drop': 0.0015844850090582685}. Best is trial 12 with value: 160.83585967129792.\n",
      "[I 2024-06-20 05:07:55,354] Trial 22 finished with value: 161.11104419614057 and parameters: {'booster': 'dart', 'lambda': 0.008973684404065322, 'alpha': 1.4213968694001731e-06, 'learning_rate': 0.0017294016841584241, 'subsample': 0.5346710126953236, 'colsample_bytree': 0.22127698103108612, 'max_depth': 7, 'min_child_weight': 5, 'eta': 0.9506080118542496, 'gamma': 6.211284467792796e-06, 'grow_policy': 'lossguide', 'sample_type': 'weighted', 'normalize_type': 'forest', 'rate_drop': 2.4519082191294194e-08, 'skip_drop': 8.171618245486111e-08}. Best is trial 12 with value: 160.83585967129792.\n"
     ]
    },
    {
     "name": "stdout",
     "output_type": "stream",
     "text": [
      "Trial: 19 - MSE: 160.9709887912983 - RMSE: 12.68743428717163\n",
      "Trial: 20 - MSE: 167.08587290054734 - RMSE: 12.926170078586594\n",
      "Trial: 21 - MSE: 160.9362062827631 - RMSE: 12.686063466763954\n",
      "Trial: 22 - MSE: 161.11104419614057 - RMSE: 12.692952540529747\n"
     ]
    },
    {
     "name": "stderr",
     "output_type": "stream",
     "text": [
      "[I 2024-06-20 05:07:55,419] Trial 23 finished with value: 164.74284066387997 and parameters: {'booster': 'gblinear', 'lambda': 0.0004585474075052546, 'alpha': 1.225116248511016e-07, 'learning_rate': 0.002700062728816719, 'subsample': 0.6677630096018937, 'colsample_bytree': 0.34064148372727393}. Best is trial 12 with value: 160.83585967129792.\n",
      "[I 2024-06-20 05:07:55,462] Trial 24 finished with value: 161.7400393780946 and parameters: {'booster': 'gbtree', 'lambda': 0.030741297487977225, 'alpha': 1.021426865043387e-06, 'learning_rate': 0.00418209489301215, 'subsample': 0.9976115206167621, 'colsample_bytree': 0.14834019768328416, 'max_depth': 3, 'min_child_weight': 5, 'eta': 0.13356463172037775, 'gamma': 4.173188573914295e-06, 'grow_policy': 'lossguide'}. Best is trial 12 with value: 160.83585967129792.\n",
      "[I 2024-06-20 05:07:55,527] Trial 25 finished with value: 160.9342864885475 and parameters: {'booster': 'dart', 'lambda': 0.9209219052748984, 'alpha': 1.4978455879174648e-05, 'learning_rate': 0.001584546432112649, 'subsample': 0.3905886196899269, 'colsample_bytree': 0.05482146478281602, 'max_depth': 5, 'min_child_weight': 3, 'eta': 0.0031175463738572994, 'gamma': 4.1615887869681714e-05, 'grow_policy': 'lossguide', 'sample_type': 'weighted', 'normalize_type': 'forest', 'rate_drop': 9.467288674330302e-06, 'skip_drop': 0.0007644283292322889}. Best is trial 12 with value: 160.83585967129792.\n",
      "[I 2024-06-20 05:07:55,572] Trial 26 finished with value: 161.07798501288994 and parameters: {'booster': 'gbtree', 'lambda': 0.41343105364416827, 'alpha': 2.1223636368823305e-05, 'learning_rate': 0.0015246483804172743, 'subsample': 0.281053872668348, 'colsample_bytree': 0.058663075383157154, 'max_depth': 7, 'min_child_weight': 3, 'eta': 0.0017813354135266107, 'gamma': 3.932561997103466e-05, 'grow_policy': 'depthwise'}. Best is trial 12 with value: 160.83585967129792.\n",
      "[I 2024-06-20 05:07:55,615] Trial 27 finished with value: 160.26098623673863 and parameters: {'booster': 'gbtree', 'lambda': 0.0036413406830877915, 'alpha': 0.00014215649240147834, 'learning_rate': 0.0010022326752607113, 'subsample': 0.39041476377585127, 'colsample_bytree': 0.12960686099491403, 'max_depth': 3, 'min_child_weight': 2, 'eta': 0.00017675419801249995, 'gamma': 0.0009494931173712514, 'grow_policy': 'lossguide'}. Best is trial 27 with value: 160.26098623673863.\n"
     ]
    },
    {
     "name": "stdout",
     "output_type": "stream",
     "text": [
      "Trial: 23 - MSE: 164.74284066387997 - RMSE: 12.835218761824045\n",
      "Trial: 24 - MSE: 161.7400393780946 - RMSE: 12.717705743493777\n",
      "Trial: 25 - MSE: 160.9342864885475 - RMSE: 12.685987801056232\n",
      "Trial: 26 - MSE: 161.07798501288994 - RMSE: 12.691650208420098\n",
      "Trial: 27 - MSE: 160.26098623673863 - RMSE: 12.659422823997097\n"
     ]
    },
    {
     "name": "stderr",
     "output_type": "stream",
     "text": [
      "[I 2024-06-20 05:07:55,659] Trial 28 finished with value: 160.44839214834045 and parameters: {'booster': 'gbtree', 'lambda': 0.00487433744100811, 'alpha': 0.014967831967858012, 'learning_rate': 0.0010431792195781428, 'subsample': 0.5239999372255433, 'colsample_bytree': 0.1258378577335169, 'max_depth': 3, 'min_child_weight': 2, 'eta': 3.110457421205187e-05, 'gamma': 0.0009959195369571659, 'grow_policy': 'depthwise'}. Best is trial 27 with value: 160.26098623673863.\n",
      "[I 2024-06-20 05:07:55,701] Trial 29 finished with value: 160.97247165023148 and parameters: {'booster': 'gbtree', 'lambda': 0.00168243610212649, 'alpha': 0.004947063738237025, 'learning_rate': 0.001129995458957154, 'subsample': 0.5110419219697482, 'colsample_bytree': 0.25755838673991205, 'max_depth': 3, 'min_child_weight': 2, 'eta': 0.0002684836422591998, 'gamma': 0.013220987838446108, 'grow_policy': 'depthwise'}. Best is trial 27 with value: 160.26098623673863.\n",
      "[I 2024-06-20 05:07:55,745] Trial 30 finished with value: 180.36451518453117 and parameters: {'booster': 'gbtree', 'lambda': 0.0006198962161425921, 'alpha': 0.016655086951465142, 'learning_rate': 0.01979352265217491, 'subsample': 0.6802673570309147, 'colsample_bytree': 0.6503914599628635, 'max_depth': 3, 'min_child_weight': 3, 'eta': 2.6172005039202636e-05, 'gamma': 0.0029150768130604206, 'grow_policy': 'lossguide'}. Best is trial 27 with value: 160.26098623673863.\n",
      "[I 2024-06-20 05:07:55,805] Trial 31 finished with value: 162.2112194753741 and parameters: {'booster': 'gbtree', 'lambda': 0.003096997310986605, 'alpha': 0.00023393437235023502, 'learning_rate': 0.007419116672490613, 'subsample': 0.3948851984648963, 'colsample_bytree': 0.1380045902274124, 'max_depth': 3, 'min_child_weight': 2, 'eta': 2.3443443984370525e-05, 'gamma': 0.0007400408198718774, 'grow_policy': 'depthwise'}. Best is trial 27 with value: 160.26098623673863.\n"
     ]
    },
    {
     "name": "stdout",
     "output_type": "stream",
     "text": [
      "Trial: 28 - MSE: 160.44839214834045 - RMSE: 12.666822496125082\n",
      "Trial: 29 - MSE: 160.97247165023148 - RMSE: 12.68749272513019\n",
      "Trial: 30 - MSE: 180.36451518453117 - RMSE: 13.429985673280935\n",
      "Trial: 31 - MSE: 162.2112194753741 - RMSE: 12.736216843135724\n"
     ]
    },
    {
     "name": "stderr",
     "output_type": "stream",
     "text": [
      "[I 2024-06-20 05:07:55,894] Trial 32 finished with value: 160.29817720438731 and parameters: {'booster': 'gbtree', 'lambda': 0.004699703894836203, 'alpha': 6.94506491841988e-05, 'learning_rate': 0.0010059154723261222, 'subsample': 0.4325140217491943, 'colsample_bytree': 0.14772500108782022, 'max_depth': 3, 'min_child_weight': 2, 'eta': 0.00019787122275760275, 'gamma': 0.00012427972371983214, 'grow_policy': 'depthwise'}. Best is trial 27 with value: 160.26098623673863.\n",
      "[I 2024-06-20 05:07:55,958] Trial 33 finished with value: 160.31850876360068 and parameters: {'booster': 'gbtree', 'lambda': 6.53126554432721e-05, 'alpha': 0.00010566018626949497, 'learning_rate': 0.0010119660153623253, 'subsample': 0.48851998184407286, 'colsample_bytree': 0.1651084930271892, 'max_depth': 3, 'min_child_weight': 2, 'eta': 0.00018016825931014145, 'gamma': 0.0002685407818272209, 'grow_policy': 'depthwise'}. Best is trial 27 with value: 160.26098623673863.\n"
     ]
    },
    {
     "name": "stdout",
     "output_type": "stream",
     "text": [
      "Trial: 32 - MSE: 160.29817720438731 - RMSE: 12.660891643339632\n",
      "Trial: 33 - MSE: 160.31850876360068 - RMSE: 12.66169454550222\n"
     ]
    },
    {
     "name": "stderr",
     "output_type": "stream",
     "text": [
      "[I 2024-06-20 05:07:56,097] Trial 34 finished with value: 162.76490499342404 and parameters: {'booster': 'gbtree', 'lambda': 2.722577554309872e-06, 'alpha': 9.60269050603003e-05, 'learning_rate': 0.002600783304207378, 'subsample': 0.5735886148405112, 'colsample_bytree': 0.3427414725822997, 'max_depth': 3, 'min_child_weight': 2, 'eta': 0.0001656526880750124, 'gamma': 0.01988728004779802, 'grow_policy': 'depthwise'}. Best is trial 27 with value: 160.26098623673863.\n",
      "[I 2024-06-20 05:07:56,234] Trial 35 finished with value: 160.76582999778796 and parameters: {'booster': 'gbtree', 'lambda': 6.33392383303251e-05, 'alpha': 0.0006216879127516072, 'learning_rate': 0.0014491411786425896, 'subsample': 0.4727409164954581, 'colsample_bytree': 0.16160658686963167, 'max_depth': 3, 'min_child_weight': 10, 'eta': 8.193913228678916e-05, 'gamma': 0.002087438320265018, 'grow_policy': 'depthwise'}. Best is trial 27 with value: 160.26098623673863.\n"
     ]
    },
    {
     "name": "stdout",
     "output_type": "stream",
     "text": [
      "Trial: 34 - MSE: 162.76490499342404 - RMSE: 12.7579349815487\n",
      "Trial: 35 - MSE: 160.76582999778796 - RMSE: 12.679346591910324\n"
     ]
    },
    {
     "name": "stderr",
     "output_type": "stream",
     "text": [
      "[I 2024-06-20 05:07:56,365] Trial 36 finished with value: 162.72476109708606 and parameters: {'booster': 'gblinear', 'lambda': 2.088502872303848e-05, 'alpha': 0.06478341291339758, 'learning_rate': 0.00160367254030167, 'subsample': 0.5498528452282863, 'colsample_bytree': 0.8013142921114959}. Best is trial 27 with value: 160.26098623673863.\n",
      "[I 2024-06-20 05:07:56,529] Trial 37 finished with value: 160.42082114478094 and parameters: {'booster': 'gbtree', 'lambda': 2.791244018218722e-06, 'alpha': 0.005052794041372884, 'learning_rate': 0.0010041609566914483, 'subsample': 0.6283596752000561, 'colsample_bytree': 0.10850607732884383, 'max_depth': 3, 'min_child_weight': 7, 'eta': 0.0006647796384008657, 'gamma': 0.0001513270465726761, 'grow_policy': 'depthwise'}. Best is trial 27 with value: 160.26098623673863.\n"
     ]
    },
    {
     "name": "stdout",
     "output_type": "stream",
     "text": [
      "Trial: 36 - MSE: 162.72476109708606 - RMSE: 12.756361593224224\n",
      "Trial: 37 - MSE: 160.42082114478094 - RMSE: 12.665734133668721\n"
     ]
    },
    {
     "name": "stderr",
     "output_type": "stream",
     "text": [
      "[I 2024-06-20 05:07:56,694] Trial 38 finished with value: 163.27373389895973 and parameters: {'booster': 'gbtree', 'lambda': 1.8433226249971987e-06, 'alpha': 0.00019695072011049604, 'learning_rate': 0.002329599141773251, 'subsample': 0.6311445029688458, 'colsample_bytree': 0.9742100238725555, 'max_depth': 3, 'min_child_weight': 7, 'eta': 0.0008958612603412433, 'gamma': 0.00019873114448275126, 'grow_policy': 'depthwise'}. Best is trial 27 with value: 160.26098623673863.\n",
      "[I 2024-06-20 05:07:56,810] Trial 39 finished with value: 164.3551957398803 and parameters: {'booster': 'gbtree', 'lambda': 4.386585129042419e-06, 'alpha': 0.0015940368096711386, 'learning_rate': 0.009848590004453314, 'subsample': 0.7424958627988254, 'colsample_bytree': 0.0946823837610462, 'max_depth': 5, 'min_child_weight': 7, 'eta': 0.01175874076394971, 'gamma': 0.0002730864492074746, 'grow_policy': 'lossguide'}. Best is trial 27 with value: 160.26098623673863.\n",
      "[I 2024-06-20 05:07:56,833] Trial 40 finished with value: 162.33525807579468 and parameters: {'booster': 'gblinear', 'lambda': 7.443806638057107e-07, 'alpha': 6.060901122885215e-05, 'learning_rate': 0.0013424191873646551, 'subsample': 0.2659138401280137, 'colsample_bytree': 0.17529687023044227}. Best is trial 27 with value: 160.26098623673863.\n",
      "[I 2024-06-20 05:07:56,880] Trial 41 finished with value: 160.41933225381882 and parameters: {'booster': 'gbtree', 'lambda': 0.00021468731772365178, 'alpha': 0.01099000313816554, 'learning_rate': 0.0010046008864284795, 'subsample': 0.6115801949454802, 'colsample_bytree': 0.11102685675986776, 'max_depth': 3, 'min_child_weight': 7, 'eta': 7.248909187347128e-07, 'gamma': 0.0008463255146191087, 'grow_policy': 'depthwise'}. Best is trial 27 with value: 160.26098623673863.\n"
     ]
    },
    {
     "name": "stdout",
     "output_type": "stream",
     "text": [
      "Trial: 38 - MSE: 163.27373389895973 - RMSE: 12.777861084663572\n",
      "Trial: 39 - MSE: 164.3551957398803 - RMSE: 12.820109037753161\n",
      "Trial: 40 - MSE: 162.33525807579468 - RMSE: 12.741085435542558\n",
      "Trial: 41 - MSE: 160.41933225381882 - RMSE: 12.665675357193505\n"
     ]
    },
    {
     "name": "stderr",
     "output_type": "stream",
     "text": [
      "[I 2024-06-20 05:07:56,936] Trial 42 finished with value: 160.961345736232 and parameters: {'booster': 'gbtree', 'lambda': 0.00015348939025315093, 'alpha': 0.1899039403296365, 'learning_rate': 0.0018576067358959006, 'subsample': 0.5864616866614871, 'colsample_bytree': 0.10255449959523538, 'max_depth': 3, 'min_child_weight': 7, 'eta': 3.911269640482686e-07, 'gamma': 9.987098692441728e-05, 'grow_policy': 'depthwise'}. Best is trial 27 with value: 160.26098623673863.\n",
      "[I 2024-06-20 05:07:57,045] Trial 43 finished with value: 160.54033762359919 and parameters: {'booster': 'gbtree', 'lambda': 3.3789534495059985e-05, 'alpha': 0.005122300148389905, 'learning_rate': 0.0012272802193384227, 'subsample': 0.6189214625578012, 'colsample_bytree': 0.18492446646240032, 'max_depth': 3, 'min_child_weight': 6, 'eta': 8.913653954460844e-08, 'gamma': 0.005809387236944297, 'grow_policy': 'depthwise'}. Best is trial 27 with value: 160.26098623673863.\n",
      "[I 2024-06-20 05:07:57,091] Trial 44 finished with value: 226.09463608487175 and parameters: {'booster': 'gbtree', 'lambda': 7.387708893809377e-06, 'alpha': 0.0004592992052953706, 'learning_rate': 0.06142756607844211, 'subsample': 0.7326941553033771, 'colsample_bytree': 0.5086769754252255, 'max_depth': 3, 'min_child_weight': 8, 'eta': 0.0003017396240112664, 'gamma': 0.05236568052046755, 'grow_policy': 'depthwise'}. Best is trial 27 with value: 160.26098623673863.\n"
     ]
    },
    {
     "name": "stdout",
     "output_type": "stream",
     "text": [
      "Trial: 42 - MSE: 160.961345736232 - RMSE: 12.687054257637271\n",
      "Trial: 43 - MSE: 160.54033762359919 - RMSE: 12.670451358321817\n",
      "Trial: 44 - MSE: 226.09463608487175 - RMSE: 15.036443598300488\n"
     ]
    },
    {
     "name": "stderr",
     "output_type": "stream",
     "text": [
      "[I 2024-06-20 05:07:57,157] Trial 45 finished with value: 161.4006183758034 and parameters: {'booster': 'gbtree', 'lambda': 0.000808790338835214, 'alpha': 3.428074157065011e-05, 'learning_rate': 0.0013611005843466454, 'subsample': 0.6409661811814374, 'colsample_bytree': 0.24923973028569457, 'max_depth': 5, 'min_child_weight': 6, 'eta': 0.00013041535010719195, 'gamma': 0.0004304873221573087, 'grow_policy': 'depthwise'}. Best is trial 27 with value: 160.26098623673863.\n",
      "[I 2024-06-20 05:07:57,261] Trial 46 finished with value: 160.6120499403988 and parameters: {'booster': 'gbtree', 'lambda': 0.00036027475827124793, 'alpha': 0.3965798369900126, 'learning_rate': 0.0016479551533580092, 'subsample': 0.43091325767982996, 'colsample_bytree': 0.08888554945378181, 'max_depth': 3, 'min_child_weight': 7, 'eta': 1.4633693218312648e-08, 'gamma': 7.770482875981293e-05, 'grow_policy': 'depthwise'}. Best is trial 27 with value: 160.26098623673863.\n",
      "[I 2024-06-20 05:07:57,308] Trial 47 finished with value: 160.58277455315744 and parameters: {'booster': 'gbtree', 'lambda': 6.965330308061497e-05, 'alpha': 0.04373812493043427, 'learning_rate': 0.0010018846067923071, 'subsample': 0.36099634352449844, 'colsample_bytree': 0.3154665314195816, 'max_depth': 5, 'min_child_weight': 8, 'eta': 1.2753230014080014e-05, 'gamma': 0.0014991439097624963, 'grow_policy': 'lossguide'}. Best is trial 27 with value: 160.26098623673863.\n"
     ]
    },
    {
     "name": "stdout",
     "output_type": "stream",
     "text": [
      "Trial: 45 - MSE: 161.4006183758034 - RMSE: 12.704354307708968\n",
      "Trial: 46 - MSE: 160.6120499403988 - RMSE: 12.673280946163816\n",
      "Trial: 47 - MSE: 160.58277455315744 - RMSE: 12.672125889256208\n"
     ]
    },
    {
     "name": "stderr",
     "output_type": "stream",
     "text": [
      "[I 2024-06-20 05:07:57,359] Trial 48 finished with value: 161.0763599093336 and parameters: {'booster': 'gbtree', 'lambda': 2.1021318436362257e-07, 'alpha': 0.004478715269182689, 'learning_rate': 0.0012388232481267008, 'subsample': 0.4843258757894692, 'colsample_bytree': 0.22926171009197838, 'max_depth': 3, 'min_child_weight': 9, 'eta': 0.0009667348110821308, 'gamma': 0.00013267394702175866, 'grow_policy': 'depthwise'}. Best is trial 27 with value: 160.26098623673863.\n",
      "[I 2024-06-20 05:07:57,429] Trial 49 finished with value: 163.88503145613487 and parameters: {'booster': 'gbtree', 'lambda': 0.017925726742214203, 'alpha': 7.630263109959634e-06, 'learning_rate': 0.0030743925720186464, 'subsample': 0.5656496691758869, 'colsample_bytree': 0.3952704739216806, 'max_depth': 3, 'min_child_weight': 6, 'eta': 1.4033597157775668e-06, 'gamma': 0.006813866346962122, 'grow_policy': 'lossguide'}. Best is trial 27 with value: 160.26098623673863.\n",
      "[I 2024-06-20 05:07:57,498] Trial 50 finished with value: 212.3039202972323 and parameters: {'booster': 'gblinear', 'lambda': 0.0001976435645570244, 'alpha': 0.00014545954980569613, 'learning_rate': 0.030731072239418903, 'subsample': 0.4177425755619634, 'colsample_bytree': 0.11296101786618692}. Best is trial 27 with value: 160.26098623673863.\n",
      "[I 2024-06-20 05:07:57,545] Trial 51 finished with value: 160.4318057477784 and parameters: {'booster': 'gbtree', 'lambda': 0.003916544712240017, 'alpha': 0.009960050894243096, 'learning_rate': 0.0010179848074007862, 'subsample': 0.5178076495853049, 'colsample_bytree': 0.13003608331496166, 'max_depth': 3, 'min_child_weight': 2, 'eta': 4.0651507176828896e-05, 'gamma': 0.0006435903174925549, 'grow_policy': 'depthwise'}. Best is trial 27 with value: 160.26098623673863.\n"
     ]
    },
    {
     "name": "stdout",
     "output_type": "stream",
     "text": [
      "Trial: 48 - MSE: 161.0763599093336 - RMSE: 12.691586185711131\n",
      "Trial: 49 - MSE: 163.88503145613487 - RMSE: 12.801758920403667\n",
      "Trial: 50 - MSE: 212.3039202972323 - RMSE: 14.57065270663028\n",
      "Trial: 51 - MSE: 160.4318057477784 - RMSE: 12.666167760920365\n"
     ]
    },
    {
     "name": "stderr",
     "output_type": "stream",
     "text": [
      "[I 2024-06-20 05:07:57,592] Trial 52 finished with value: 160.50495640944987 and parameters: {'booster': 'gbtree', 'lambda': 0.0692692498476855, 'alpha': 0.01058221735213201, 'learning_rate': 0.0012139303639870128, 'subsample': 0.5064322366030257, 'colsample_bytree': 0.16662414918109214, 'max_depth': 3, 'min_child_weight': 2, 'eta': 0.005926916436866889, 'gamma': 0.0007025540590200391, 'grow_policy': 'depthwise'}. Best is trial 27 with value: 160.26098623673863.\n",
      "[I 2024-06-20 05:07:57,638] Trial 53 finished with value: 160.66838097553176 and parameters: {'booster': 'gbtree', 'lambda': 0.001104645985720451, 'alpha': 0.001559008057537638, 'learning_rate': 0.0018031193038908636, 'subsample': 0.4954148944722696, 'colsample_bytree': 0.05034910496817806, 'max_depth': 3, 'min_child_weight': 3, 'eta': 0.00018265151741994587, 'gamma': 0.00037376846755428675, 'grow_policy': 'depthwise'}. Best is trial 27 with value: 160.26098623673863.\n",
      "[I 2024-06-20 05:07:57,683] Trial 54 finished with value: 161.00193406321736 and parameters: {'booster': 'gbtree', 'lambda': 0.13956361569582465, 'alpha': 0.04625754329575878, 'learning_rate': 0.0022937208558655798, 'subsample': 0.6018596008927435, 'colsample_bytree': 0.13036443375920206, 'max_depth': 3, 'min_child_weight': 7, 'eta': 9.645746060172182e-05, 'gamma': 5.463085572093858e-05, 'grow_policy': 'depthwise'}. Best is trial 27 with value: 160.26098623673863.\n",
      "[I 2024-06-20 05:07:57,744] Trial 55 finished with value: 160.36858472812665 and parameters: {'booster': 'gbtree', 'lambda': 0.020199489802974775, 'alpha': 5.0937292810783755e-05, 'learning_rate': 0.0010075619968160042, 'subsample': 0.70051550642672, 'colsample_bytree': 0.18922616179071558, 'max_depth': 3, 'min_child_weight': 2, 'eta': 4.8333983586281744e-05, 'gamma': 0.003872297833614938, 'grow_policy': 'depthwise'}. Best is trial 27 with value: 160.26098623673863.\n"
     ]
    },
    {
     "name": "stdout",
     "output_type": "stream",
     "text": [
      "Trial: 52 - MSE: 160.50495640944987 - RMSE: 12.669055071687465\n",
      "Trial: 53 - MSE: 160.66838097553176 - RMSE: 12.67550318431311\n",
      "Trial: 54 - MSE: 161.00193406321736 - RMSE: 12.688653752988035\n",
      "Trial: 55 - MSE: 160.36858472812665 - RMSE: 12.663671850143885\n"
     ]
    },
    {
     "name": "stderr",
     "output_type": "stream",
     "text": [
      "[I 2024-06-20 05:07:57,854] Trial 56 finished with value: 160.60249836299758 and parameters: {'booster': 'dart', 'lambda': 0.01958655759488521, 'alpha': 3.583078025109855e-05, 'learning_rate': 0.001367130269683993, 'subsample': 0.7134975806726684, 'colsample_bytree': 0.20294806499392384, 'max_depth': 9, 'min_child_weight': 2, 'eta': 0.0004378570836990065, 'gamma': 0.24911414738719473, 'grow_policy': 'depthwise', 'sample_type': 'uniform', 'normalize_type': 'forest', 'rate_drop': 0.1681716258561719, 'skip_drop': 1.2147363844512256e-08}. Best is trial 27 with value: 160.26098623673863.\n",
      "[I 2024-06-20 05:07:57,906] Trial 57 finished with value: 161.10897926642127 and parameters: {'booster': 'gbtree', 'lambda': 9.149738442218538e-06, 'alpha': 6.173184987604932e-05, 'learning_rate': 0.001212985157844529, 'subsample': 0.7948754348736276, 'colsample_bytree': 0.2867249753032402, 'max_depth': 5, 'min_child_weight': 3, 'eta': 0.000977621107044672, 'gamma': 0.024359736363551356, 'grow_policy': 'depthwise'}. Best is trial 27 with value: 160.26098623673863.\n",
      "[I 2024-06-20 05:07:57,973] Trial 58 finished with value: 161.64184487705705 and parameters: {'booster': 'gbtree', 'lambda': 2.048480348269853e-05, 'alpha': 0.0004534046195741612, 'learning_rate': 0.0018765209430310283, 'subsample': 0.6989544899585368, 'colsample_bytree': 0.2462893586686238, 'max_depth': 3, 'min_child_weight': 2, 'eta': 0.02893240455842479, 'gamma': 0.0042191485029978455, 'grow_policy': 'depthwise'}. Best is trial 27 with value: 160.26098623673863.\n",
      "[I 2024-06-20 05:07:58,019] Trial 59 finished with value: 160.67953657176895 and parameters: {'booster': 'gbtree', 'lambda': 0.00553486335249026, 'alpha': 0.0008705187661844349, 'learning_rate': 0.0014806602870904664, 'subsample': 0.7686409683831099, 'colsample_bytree': 0.07963674157780466, 'max_depth': 3, 'min_child_weight': 5, 'eta': 1.1476685304925107e-05, 'gamma': 1.432386067386582e-05, 'grow_policy': 'lossguide'}. Best is trial 27 with value: 160.26098623673863.\n"
     ]
    },
    {
     "name": "stdout",
     "output_type": "stream",
     "text": [
      "Trial: 56 - MSE: 160.60249836299758 - RMSE: 12.67290410138882\n",
      "Trial: 57 - MSE: 161.10897926642127 - RMSE: 12.692871198685555\n",
      "Trial: 58 - MSE: 161.64184487705705 - RMSE: 12.713844614319347\n",
      "Trial: 59 - MSE: 160.67953657176895 - RMSE: 12.675943222173604\n"
     ]
    },
    {
     "name": "stderr",
     "output_type": "stream",
     "text": [
      "[I 2024-06-20 05:07:58,084] Trial 60 finished with value: 160.55122862239006 and parameters: {'booster': 'dart', 'lambda': 0.03925240742858626, 'alpha': 0.00012051069612437875, 'learning_rate': 0.0023178262511750355, 'subsample': 0.6524579146752075, 'colsample_bytree': 0.19161005011375656, 'max_depth': 3, 'min_child_weight': 3, 'eta': 7.890554898585272e-08, 'gamma': 0.001614872506315563, 'grow_policy': 'depthwise', 'sample_type': 'uniform', 'normalize_type': 'tree', 'rate_drop': 0.8718644753023004, 'skip_drop': 2.7421510677116792e-05}. Best is trial 27 with value: 160.26098623673863.\n",
      "[I 2024-06-20 05:07:58,177] Trial 61 finished with value: 160.3290461721284 and parameters: {'booster': 'gbtree', 'lambda': 0.0034130098479769775, 'alpha': 0.025078891619815642, 'learning_rate': 0.0010217547512669472, 'subsample': 0.4675098159741054, 'colsample_bytree': 0.1378581124550158, 'max_depth': 3, 'min_child_weight': 2, 'eta': 4.704503102920721e-05, 'gamma': 0.00018382061280570086, 'grow_policy': 'depthwise'}. Best is trial 27 with value: 160.26098623673863.\n",
      "[I 2024-06-20 05:07:58,253] Trial 62 finished with value: 160.41407757493252 and parameters: {'booster': 'gbtree', 'lambda': 0.0021493665521772343, 'alpha': 0.028241877831523397, 'learning_rate': 0.0011124896956880145, 'subsample': 0.4507302214435358, 'colsample_bytree': 0.15694026110420747, 'max_depth': 3, 'min_child_weight': 2, 'eta': 6.196745894602268e-05, 'gamma': 0.00014534329447326856, 'grow_policy': 'depthwise'}. Best is trial 27 with value: 160.26098623673863.\n"
     ]
    },
    {
     "name": "stdout",
     "output_type": "stream",
     "text": [
      "Trial: 60 - MSE: 160.55122862239006 - RMSE: 12.670881130465634\n",
      "Trial: 61 - MSE: 160.3290461721284 - RMSE: 12.662110652341038\n",
      "Trial: 62 - MSE: 160.41407757493252 - RMSE: 12.665467917725445\n"
     ]
    },
    {
     "name": "stderr",
     "output_type": "stream",
     "text": [
      "[I 2024-06-20 05:07:58,302] Trial 63 finished with value: 160.43869245292345 and parameters: {'booster': 'gbtree', 'lambda': 0.001922055221181423, 'alpha': 0.1207756932297722, 'learning_rate': 0.0011714527694807633, 'subsample': 0.4554199087886491, 'colsample_bytree': 0.16006351897834128, 'max_depth': 3, 'min_child_weight': 2, 'eta': 4.573472634983715e-06, 'gamma': 0.00016765639375261154, 'grow_policy': 'depthwise'}. Best is trial 27 with value: 160.26098623673863.\n",
      "[I 2024-06-20 05:07:58,389] Trial 64 finished with value: 161.08640387200214 and parameters: {'booster': 'gbtree', 'lambda': 0.009421410657858105, 'alpha': 0.024317816916029404, 'learning_rate': 0.0014283237195481498, 'subsample': 0.35315310771813885, 'colsample_bytree': 0.2256648400800943, 'max_depth': 3, 'min_child_weight': 3, 'eta': 1.6560708451283136e-05, 'gamma': 0.0004016132198729681, 'grow_policy': 'depthwise'}. Best is trial 27 with value: 160.26098623673863.\n"
     ]
    },
    {
     "name": "stdout",
     "output_type": "stream",
     "text": [
      "Trial: 63 - MSE: 160.43869245292345 - RMSE: 12.666439612334772\n",
      "Trial: 64 - MSE: 161.08640387200214 - RMSE: 12.691981873293159\n"
     ]
    },
    {
     "name": "stderr",
     "output_type": "stream",
     "text": [
      "[I 2024-06-20 05:07:58,589] Trial 65 finished with value: 160.9207746523788 and parameters: {'booster': 'gbtree', 'lambda': 0.00034675780203116793, 'alpha': 7.528320101354073e-06, 'learning_rate': 0.0011331882203323357, 'subsample': 0.4099894933516067, 'colsample_bytree': 0.2675845091720436, 'max_depth': 3, 'min_child_weight': 2, 'eta': 6.77620542912116e-05, 'gamma': 0.0012837564088127604, 'grow_policy': 'depthwise'}. Best is trial 27 with value: 160.26098623673863.\n",
      "[I 2024-06-20 05:07:58,740] Trial 66 finished with value: 166.3521757388927 and parameters: {'booster': 'gbtree', 'lambda': 0.014195962888201187, 'alpha': 0.39665392443195074, 'learning_rate': 0.004655219414038084, 'subsample': 0.3124215095203805, 'colsample_bytree': 0.8400386592483592, 'max_depth': 3, 'min_child_weight': 4, 'eta': 2.530995863218511e-06, 'gamma': 2.8185882610024392e-05, 'grow_policy': 'depthwise'}. Best is trial 27 with value: 160.26098623673863.\n"
     ]
    },
    {
     "name": "stdout",
     "output_type": "stream",
     "text": [
      "Trial: 65 - MSE: 160.9207746523788 - RMSE: 12.68545524024971\n",
      "Trial: 66 - MSE: 166.3521757388927 - RMSE: 12.897758554837841\n"
     ]
    },
    {
     "name": "stderr",
     "output_type": "stream",
     "text": [
      "[I 2024-06-20 05:07:58,821] Trial 67 finished with value: 160.57885591523868 and parameters: {'booster': 'gbtree', 'lambda': 0.0010157382960468892, 'alpha': 0.9763109298784898, 'learning_rate': 0.0016658119812269665, 'subsample': 0.44160072249720705, 'colsample_bytree': 0.07610120162087983, 'max_depth': 3, 'min_child_weight': 2, 'eta': 4.759229401863606e-05, 'gamma': 9.255880818758492e-05, 'grow_policy': 'lossguide'}. Best is trial 27 with value: 160.26098623673863.\n",
      "[I 2024-06-20 05:07:58,868] Trial 68 finished with value: 161.93627253011041 and parameters: {'booster': 'gblinear', 'lambda': 0.0033919320388811824, 'alpha': 0.00034506215353529693, 'learning_rate': 0.001121726306559931, 'subsample': 0.37515094632653956, 'colsample_bytree': 0.31891824387931683}. Best is trial 27 with value: 160.26098623673863.\n",
      "[I 2024-06-20 05:07:58,928] Trial 69 finished with value: 165.557735707989 and parameters: {'booster': 'gbtree', 'lambda': 8.592412074020975e-05, 'alpha': 0.002695532119563969, 'learning_rate': 0.016283392211409765, 'subsample': 0.5515901455149237, 'colsample_bytree': 0.14027400159142905, 'max_depth': 5, 'min_child_weight': 3, 'eta': 0.0002607905831107295, 'gamma': 0.008816242443517792, 'grow_policy': 'depthwise'}. Best is trial 27 with value: 160.26098623673863.\n",
      "[I 2024-06-20 05:07:58,976] Trial 70 finished with value: 160.61550616468764 and parameters: {'booster': 'gbtree', 'lambda': 0.006608587070716436, 'alpha': 2.2745368118095305e-05, 'learning_rate': 0.0013374024520260608, 'subsample': 0.8323926407657621, 'colsample_bytree': 0.20551535609055727, 'max_depth': 3, 'min_child_weight': 4, 'eta': 7.609841182141591e-06, 'gamma': 0.003572795887014848, 'grow_policy': 'depthwise'}. Best is trial 27 with value: 160.26098623673863.\n"
     ]
    },
    {
     "name": "stdout",
     "output_type": "stream",
     "text": [
      "Trial: 67 - MSE: 160.57885591523868 - RMSE: 12.671971271875528\n",
      "Trial: 68 - MSE: 161.93627253011041 - RMSE: 12.725418363657456\n",
      "Trial: 69 - MSE: 165.557735707989 - RMSE: 12.866924096612562\n",
      "Trial: 70 - MSE: 160.61550616468764 - RMSE: 12.6734173041326\n"
     ]
    },
    {
     "name": "stderr",
     "output_type": "stream",
     "text": [
      "[I 2024-06-20 05:07:59,041] Trial 71 finished with value: 160.4228069636659 and parameters: {'booster': 'gbtree', 'lambda': 0.0019867802451820245, 'alpha': 0.03188322475684009, 'learning_rate': 0.0010263828962276892, 'subsample': 0.6140139917385421, 'colsample_bytree': 0.10011044333342467, 'max_depth': 3, 'min_child_weight': 2, 'eta': 0.0001368360223847618, 'gamma': 0.00023824462625353127, 'grow_policy': 'depthwise'}. Best is trial 27 with value: 160.26098623673863.\n",
      "[I 2024-06-20 05:07:59,161] Trial 72 finished with value: 160.32898771604727 and parameters: {'booster': 'gbtree', 'lambda': 0.0005437270654020097, 'alpha': 0.08116113707908788, 'learning_rate': 0.001018282332498242, 'subsample': 0.47602074698007896, 'colsample_bytree': 0.15925256812563376, 'max_depth': 3, 'min_child_weight': 2, 'eta': 0.000506538388963496, 'gamma': 6.37047449553029e-05, 'grow_policy': 'depthwise'}. Best is trial 27 with value: 160.26098623673863.\n",
      "[I 2024-06-20 05:07:59,212] Trial 73 finished with value: 160.52647754043875 and parameters: {'booster': 'gbtree', 'lambda': 0.0005737125843863774, 'alpha': 0.10891066368094664, 'learning_rate': 0.001556341965680683, 'subsample': 0.4639787003550843, 'colsample_bytree': 0.16110018697222225, 'max_depth': 3, 'min_child_weight': 2, 'eta': 0.00042599272966754783, 'gamma': 5.432693242106632e-05, 'grow_policy': 'depthwise'}. Best is trial 27 with value: 160.26098623673863.\n"
     ]
    },
    {
     "name": "stdout",
     "output_type": "stream",
     "text": [
      "Trial: 71 - MSE: 160.4228069636659 - RMSE: 12.665812526785082\n",
      "Trial: 72 - MSE: 160.32898771604727 - RMSE: 12.662108344033676\n",
      "Trial: 73 - MSE: 160.52647754043875 - RMSE: 12.66990440139304\n"
     ]
    },
    {
     "name": "stderr",
     "output_type": "stream",
     "text": [
      "[I 2024-06-20 05:07:59,266] Trial 74 finished with value: 160.35040842982212 and parameters: {'booster': 'gbtree', 'lambda': 0.0013916485381539059, 'alpha': 0.08662797077375577, 'learning_rate': 0.0012986500391221085, 'subsample': 0.4122140551362067, 'colsample_bytree': 0.1819120048681056, 'max_depth': 3, 'min_child_weight': 3, 'eta': 0.0014664087402149536, 'gamma': 8.164416438217997e-06, 'grow_policy': 'depthwise'}. Best is trial 27 with value: 160.26098623673863.\n",
      "[I 2024-06-20 05:07:59,328] Trial 75 finished with value: 160.3046324942668 and parameters: {'booster': 'gbtree', 'lambda': 0.0013567819165438753, 'alpha': 0.4167635164526412, 'learning_rate': 0.0012722193268272736, 'subsample': 0.4141308408777781, 'colsample_bytree': 0.18071724178140974, 'max_depth': 3, 'min_child_weight': 3, 'eta': 0.0015697228188736865, 'gamma': 0.577638594572592, 'grow_policy': 'depthwise'}. Best is trial 27 with value: 160.26098623673863.\n",
      "[I 2024-06-20 05:07:59,408] Trial 76 finished with value: 162.4873598689029 and parameters: {'booster': 'dart', 'lambda': 0.0013525139571227082, 'alpha': 0.4623158056304924, 'learning_rate': 0.00197493996277739, 'subsample': 0.4143074360698389, 'colsample_bytree': 0.6051131253642498, 'max_depth': 3, 'min_child_weight': 3, 'eta': 0.005726306183370467, 'gamma': 0.6815234360083333, 'grow_policy': 'lossguide', 'sample_type': 'uniform', 'normalize_type': 'forest', 'rate_drop': 9.776375745836171e-06, 'skip_drop': 2.19395602258518e-07}. Best is trial 27 with value: 160.26098623673863.\n"
     ]
    },
    {
     "name": "stdout",
     "output_type": "stream",
     "text": [
      "Trial: 74 - MSE: 160.35040842982212 - RMSE: 12.662954174671174\n",
      "Trial: 75 - MSE: 160.3046324942668 - RMSE: 12.661146571075891\n",
      "Trial: 76 - MSE: 162.4873598689029 - RMSE: 12.747052987608662\n"
     ]
    },
    {
     "name": "stderr",
     "output_type": "stream",
     "text": [
      "[I 2024-06-20 05:07:59,473] Trial 77 finished with value: 161.76142309611484 and parameters: {'booster': 'gbtree', 'lambda': 0.027562390983288023, 'alpha': 0.24798982220628427, 'learning_rate': 0.0013013297908246867, 'subsample': 0.48547168300963806, 'colsample_bytree': 0.4623705387198097, 'max_depth': 3, 'min_child_weight': 3, 'eta': 0.002041008268013336, 'gamma': 6.868454945390439e-07, 'grow_policy': 'depthwise'}. Best is trial 27 with value: 160.26098623673863.\n",
      "[I 2024-06-20 05:07:59,579] Trial 78 finished with value: 160.9385687841374 and parameters: {'booster': 'gbtree', 'lambda': 0.06764891829640793, 'alpha': 0.08536137416309969, 'learning_rate': 0.001475787652902128, 'subsample': 0.29022627925988664, 'colsample_bytree': 0.2118714926119138, 'max_depth': 5, 'min_child_weight': 2, 'eta': 0.0013807696024873797, 'gamma': 1.7434094584447835e-06, 'grow_policy': 'depthwise'}. Best is trial 27 with value: 160.26098623673863.\n",
      "[I 2024-06-20 05:07:59,626] Trial 79 finished with value: 160.57532395803491 and parameters: {'booster': 'gbtree', 'lambda': 0.0005603265203504531, 'alpha': 0.715672486560379, 'learning_rate': 0.0017953440643099458, 'subsample': 0.33935976933979145, 'colsample_bytree': 0.19091213189400824, 'max_depth': 3, 'min_child_weight': 3, 'eta': 0.00023846032920107446, 'gamma': 8.602218123507061e-06, 'grow_policy': 'depthwise'}. Best is trial 27 with value: 160.26098623673863.\n",
      "[I 2024-06-20 05:07:59,657] Trial 80 finished with value: 171.79948925479033 and parameters: {'booster': 'gblinear', 'lambda': 0.004371734819396439, 'alpha': 0.2276084893880664, 'learning_rate': 0.007409718446906565, 'subsample': 0.37463705094459276, 'colsample_bytree': 0.3010349322849398}. Best is trial 27 with value: 160.26098623673863.\n"
     ]
    },
    {
     "name": "stdout",
     "output_type": "stream",
     "text": [
      "Trial: 77 - MSE: 161.76142309611484 - RMSE: 12.718546422296647\n",
      "Trial: 78 - MSE: 160.9385687841374 - RMSE: 12.686156580467443\n",
      "Trial: 79 - MSE: 160.57532395803491 - RMSE: 12.671831910108141\n",
      "Trial: 80 - MSE: 171.79948925479033 - RMSE: 13.107230418924905\n"
     ]
    },
    {
     "name": "stderr",
     "output_type": "stream",
     "text": [
      "[I 2024-06-20 05:07:59,721] Trial 81 finished with value: 160.4258066199194 and parameters: {'booster': 'gbtree', 'lambda': 0.0026742665120821725, 'alpha': 7.66218636426521e-05, 'learning_rate': 0.0011476437864613835, 'subsample': 0.44905817087008765, 'colsample_bytree': 0.17738788216568988, 'max_depth': 3, 'min_child_weight': 2, 'eta': 7.924618408758874e-05, 'gamma': 2.2757760147217404e-05, 'grow_policy': 'depthwise'}. Best is trial 27 with value: 160.26098623673863.\n",
      "[I 2024-06-20 05:07:59,827] Trial 82 finished with value: 160.31804375087424 and parameters: {'booster': 'gbtree', 'lambda': 0.00951121253447438, 'alpha': 0.07227295007884767, 'learning_rate': 0.0012757054978227989, 'subsample': 0.40217128963093834, 'colsample_bytree': 0.14281337436932254, 'max_depth': 3, 'min_child_weight': 2, 'eta': 0.004316749148958463, 'gamma': 0.12412345402841521, 'grow_policy': 'depthwise'}. Best is trial 27 with value: 160.26098623673863.\n",
      "[I 2024-06-20 05:07:59,877] Trial 83 finished with value: 160.31957153241058 and parameters: {'booster': 'gbtree', 'lambda': 0.0085363191117849, 'alpha': 0.12778585355434668, 'learning_rate': 0.001317544972153655, 'subsample': 0.3973666051661798, 'colsample_bytree': 0.13795452780193762, 'max_depth': 3, 'min_child_weight': 2, 'eta': 0.0006227266216611503, 'gamma': 0.772549228556054, 'grow_policy': 'depthwise'}. Best is trial 27 with value: 160.26098623673863.\n"
     ]
    },
    {
     "name": "stdout",
     "output_type": "stream",
     "text": [
      "Trial: 81 - MSE: 160.4258066199194 - RMSE: 12.665930941700235\n",
      "Trial: 82 - MSE: 160.31804375087424 - RMSE: 12.661676182515262\n",
      "Trial: 83 - MSE: 160.31957153241058 - RMSE: 12.661736513306955\n"
     ]
    },
    {
     "name": "stderr",
     "output_type": "stream",
     "text": [
      "[I 2024-06-20 05:07:59,949] Trial 84 finished with value: 160.31616409715758 and parameters: {'booster': 'gbtree', 'lambda': 0.011106957140467373, 'alpha': 0.14874249578661167, 'learning_rate': 0.0012718106157790477, 'subsample': 0.4022293349325765, 'colsample_bytree': 0.14269240385035842, 'max_depth': 3, 'min_child_weight': 2, 'eta': 0.003447056455749663, 'gamma': 0.5621788580795364, 'grow_policy': 'depthwise'}. Best is trial 27 with value: 160.26098623673863.\n",
      "[I 2024-06-20 05:08:00,061] Trial 85 finished with value: 160.53759426331084 and parameters: {'booster': 'gbtree', 'lambda': 0.008567946989969693, 'alpha': 0.15582781646566424, 'learning_rate': 0.002102941595243993, 'subsample': 0.39329965455133187, 'colsample_bytree': 0.13105123579047595, 'max_depth': 3, 'min_child_weight': 2, 'eta': 0.007765605060272234, 'gamma': 0.4823442075433473, 'grow_policy': 'lossguide'}. Best is trial 27 with value: 160.26098623673863.\n",
      "[I 2024-06-20 05:08:00,112] Trial 86 finished with value: 161.3753906855788 and parameters: {'booster': 'gbtree', 'lambda': 0.011947726937779018, 'alpha': 0.27295459364417507, 'learning_rate': 0.0016577291696845214, 'subsample': 0.43261129863158326, 'colsample_bytree': 0.22829019524210936, 'max_depth': 3, 'min_child_weight': 2, 'eta': 0.004101652783731467, 'gamma': 0.10793860930542863, 'grow_policy': 'depthwise'}. Best is trial 27 with value: 160.26098623673863.\n"
     ]
    },
    {
     "name": "stdout",
     "output_type": "stream",
     "text": [
      "Trial: 84 - MSE: 160.31616409715758 - RMSE: 12.661601956196442\n",
      "Trial: 85 - MSE: 160.53759426331084 - RMSE: 12.67034309966825\n",
      "Trial: 86 - MSE: 161.3753906855788 - RMSE: 12.703361393173807\n"
     ]
    },
    {
     "name": "stderr",
     "output_type": "stream",
     "text": [
      "[I 2024-06-20 05:08:00,159] Trial 87 finished with value: 160.52930988674183 and parameters: {'booster': 'gbtree', 'lambda': 0.005467474049092062, 'alpha': 0.6211338840067842, 'learning_rate': 0.0015317116480382219, 'subsample': 0.31513153417985956, 'colsample_bytree': 0.076586613616247, 'max_depth': 3, 'min_child_weight': 2, 'eta': 0.02249899747245477, 'gamma': 0.27670954224253747, 'grow_policy': 'depthwise'}. Best is trial 27 with value: 160.26098623673863.\n",
      "[I 2024-06-20 05:08:00,241] Trial 88 finished with value: 163.50944893033218 and parameters: {'booster': 'gbtree', 'lambda': 4.5955655198394166e-05, 'alpha': 0.05613412969181944, 'learning_rate': 0.0026331893462095955, 'subsample': 0.3638096403364943, 'colsample_bytree': 0.7222397896144691, 'max_depth': 3, 'min_child_weight': 2, 'eta': 0.000685489389540662, 'gamma': 0.9275806818675862, 'grow_policy': 'depthwise'}. Best is trial 27 with value: 160.26098623673863.\n"
     ]
    },
    {
     "name": "stdout",
     "output_type": "stream",
     "text": [
      "Trial: 87 - MSE: 160.52930988674183 - RMSE: 12.670016175472778\n",
      "Trial: 88 - MSE: 163.50944893033218 - RMSE: 12.787081329620618\n"
     ]
    },
    {
     "name": "stderr",
     "output_type": "stream",
     "text": [
      "[I 2024-06-20 05:08:00,393] Trial 89 finished with value: 160.3092024807475 and parameters: {'booster': 'gbtree', 'lambda': 0.00012638871472900914, 'alpha': 0.13719633490781807, 'learning_rate': 0.0012790554972811044, 'subsample': 0.39649152622593015, 'colsample_bytree': 0.14395700986063553, 'max_depth': 3, 'min_child_weight': 3, 'eta': 0.002959434471413322, 'gamma': 0.09096538501904051, 'grow_policy': 'depthwise'}. Best is trial 27 with value: 160.26098623673863.\n",
      "[I 2024-06-20 05:08:00,575] Trial 90 finished with value: 160.40024714555256 and parameters: {'booster': 'gbtree', 'lambda': 0.0001228270345220287, 'alpha': 0.37945379272297125, 'learning_rate': 0.0012972521316993513, 'subsample': 0.3415589076234993, 'colsample_bytree': 0.11535143409301526, 'max_depth': 3, 'min_child_weight': 3, 'eta': 0.01073746485639369, 'gamma': 0.11815551984329654, 'grow_policy': 'lossguide'}. Best is trial 27 with value: 160.26098623673863.\n"
     ]
    },
    {
     "name": "stdout",
     "output_type": "stream",
     "text": [
      "Trial: 89 - MSE: 160.3092024807475 - RMSE: 12.661327042642391\n",
      "Trial: 90 - MSE: 160.40024714555256 - RMSE: 12.66492191628328\n"
     ]
    },
    {
     "name": "stderr",
     "output_type": "stream",
     "text": [
      "[I 2024-06-20 05:08:00,633] Trial 91 finished with value: 160.27305531572645 and parameters: {'booster': 'gbtree', 'lambda': 0.0002588085400916305, 'alpha': 0.15494411771622446, 'learning_rate': 0.0011196949512818888, 'subsample': 0.4023547991261278, 'colsample_bytree': 0.14235114883132344, 'max_depth': 3, 'min_child_weight': 2, 'eta': 0.0028381788419734742, 'gamma': 0.4110993995454497, 'grow_policy': 'depthwise'}. Best is trial 27 with value: 160.26098623673863.\n",
      "[I 2024-06-20 05:08:00,681] Trial 92 finished with value: 160.3555481052056 and parameters: {'booster': 'gbtree', 'lambda': 0.0002863112618543969, 'alpha': 0.15659519177503742, 'learning_rate': 0.0014459088659500945, 'subsample': 0.3947390322097689, 'colsample_bytree': 0.14624819773055756, 'max_depth': 3, 'min_child_weight': 2, 'eta': 0.0023581370597435996, 'gamma': 0.4083456104440277, 'grow_policy': 'depthwise'}. Best is trial 27 with value: 160.26098623673863.\n",
      "[I 2024-06-20 05:08:00,727] Trial 93 finished with value: 160.34291460820617 and parameters: {'booster': 'gbtree', 'lambda': 0.0007844368447353768, 'alpha': 0.08398100854556066, 'learning_rate': 0.001137329642707597, 'subsample': 0.42926785698508924, 'colsample_bytree': 0.08018631614628119, 'max_depth': 3, 'min_child_weight': 2, 'eta': 0.00332183554889579, 'gamma': 0.17094605408446986, 'grow_policy': 'depthwise'}. Best is trial 27 with value: 160.26098623673863.\n",
      "[I 2024-06-20 05:08:00,784] Trial 94 finished with value: 160.32811462954115 and parameters: {'booster': 'gbtree', 'lambda': 0.00018101148009055834, 'alpha': 0.3133095949739151, 'learning_rate': 0.0012621735121110867, 'subsample': 0.3802564742409416, 'colsample_bytree': 0.12021733840445653, 'max_depth': 3, 'min_child_weight': 3, 'eta': 0.00042372470077094176, 'gamma': 0.0598002515791297, 'grow_policy': 'depthwise'}. Best is trial 27 with value: 160.26098623673863.\n"
     ]
    },
    {
     "name": "stdout",
     "output_type": "stream",
     "text": [
      "Trial: 91 - MSE: 160.27305531572645 - RMSE: 12.659899498642414\n",
      "Trial: 92 - MSE: 160.3555481052056 - RMSE: 12.663157114448419\n",
      "Trial: 93 - MSE: 160.34291460820617 - RMSE: 12.662658275741558\n",
      "Trial: 94 - MSE: 160.32811462954115 - RMSE: 12.66207386763879\n"
     ]
    },
    {
     "name": "stderr",
     "output_type": "stream",
     "text": [
      "[I 2024-06-20 05:08:00,871] Trial 95 finished with value: 160.50515280664155 and parameters: {'booster': 'gbtree', 'lambda': 4.746510289951108e-05, 'alpha': 0.6081459199016822, 'learning_rate': 0.0017003176133927036, 'subsample': 0.3038964549420372, 'colsample_bytree': 0.11544943527613949, 'max_depth': 3, 'min_child_weight': 4, 'eta': 0.019462721629226142, 'gamma': 0.04176124805877608, 'grow_policy': 'depthwise'}. Best is trial 27 with value: 160.26098623673863.\n",
      "[I 2024-06-20 05:08:00,937] Trial 96 finished with value: 161.195652772599 and parameters: {'booster': 'dart', 'lambda': 0.00019032559154164437, 'alpha': 0.15577180105162325, 'learning_rate': 0.0012097399515155962, 'subsample': 0.256961798728503, 'colsample_bytree': 0.26502651564813295, 'max_depth': 3, 'min_child_weight': 3, 'eta': 0.00113499973082932, 'gamma': 0.062049342472083074, 'grow_policy': 'depthwise', 'sample_type': 'weighted', 'normalize_type': 'tree', 'rate_drop': 2.2945698960797716e-05, 'skip_drop': 5.323442365234808e-07}. Best is trial 27 with value: 160.26098623673863.\n",
      "[I 2024-06-20 05:08:00,985] Trial 97 finished with value: 160.36106081025918 and parameters: {'booster': 'gbtree', 'lambda': 0.00010623350560673551, 'alpha': 0.30540957703556937, 'learning_rate': 0.0013234935141952636, 'subsample': 0.3795254570882329, 'colsample_bytree': 0.053895173579734224, 'max_depth': 7, 'min_child_weight': 3, 'eta': 0.04255240523020054, 'gamma': 0.37581641990630543, 'grow_policy': 'depthwise'}. Best is trial 27 with value: 160.26098623673863.\n",
      "[I 2024-06-20 05:08:01,032] Trial 98 finished with value: 160.52014813732464 and parameters: {'booster': 'gbtree', 'lambda': 3.295510581612503e-05, 'alpha': 0.05414536667126421, 'learning_rate': 0.0019174918721004352, 'subsample': 0.4076104706513142, 'colsample_bytree': 0.0969582290242677, 'max_depth': 3, 'min_child_weight': 4, 'eta': 0.0035848578118698477, 'gamma': 0.16047583147891478, 'grow_policy': 'depthwise'}. Best is trial 27 with value: 160.26098623673863.\n"
     ]
    },
    {
     "name": "stdout",
     "output_type": "stream",
     "text": [
      "Trial: 95 - MSE: 160.50515280664155 - RMSE: 12.66906282274429\n",
      "Trial: 96 - MSE: 161.195652772599 - RMSE: 12.696284998872663\n",
      "Trial: 97 - MSE: 160.36106081025918 - RMSE: 12.663374779665142\n",
      "Trial: 98 - MSE: 160.52014813732464 - RMSE: 12.669654617917752\n"
     ]
    },
    {
     "name": "stderr",
     "output_type": "stream",
     "text": [
      "[I 2024-06-20 05:08:01,080] Trial 99 finished with value: 217.8455056356901 and parameters: {'booster': 'gbtree', 'lambda': 1.7751110451511513e-05, 'alpha': 0.20143133994757134, 'learning_rate': 0.06994120043615074, 'subsample': 0.3272267924456955, 'colsample_bytree': 0.24023758726999808, 'max_depth': 3, 'min_child_weight': 3, 'eta': 0.00037528727976388017, 'gamma': 0.9555116770771628, 'grow_policy': 'lossguide'}. Best is trial 27 with value: 160.26098623673863.\n"
     ]
    },
    {
     "name": "stdout",
     "output_type": "stream",
     "text": [
      "Trial: 99 - MSE: 217.8455056356901 - RMSE: 14.759590293625704\n"
     ]
    }
   ],
   "source": [
    "# configuration optuna\n",
    "study_g = optuna.create_study(direction='minimize')\n",
    "study_g.optimize(lambda trial: objective(trial, X_g_train, y_g_train, X_g_test, y_g_test), n_trials=n_trials)"
   ]
  },
  {
   "cell_type": "code",
   "execution_count": 25,
   "metadata": {},
   "outputs": [
    {
     "name": "stdout",
     "output_type": "stream",
     "text": [
      "Número de pruebas: 100\n",
      "Mejor prueba: 27\n",
      "Mejores parametros: {'booster': 'gbtree', 'lambda': 0.0036413406830877915, 'alpha': 0.00014215649240147834, 'learning_rate': 0.0010022326752607113, 'subsample': 0.39041476377585127, 'colsample_bytree': 0.12960686099491403, 'max_depth': 3, 'min_child_weight': 2, 'eta': 0.00017675419801249995, 'gamma': 0.0009494931173712514, 'grow_policy': 'lossguide'}\n",
      "Mejor valor de pérdida: 160.26098623673863\n"
     ]
    }
   ],
   "source": [
    "# Results\n",
    "print(f'Número de pruebas: {len(study_g.trials)}')\n",
    "trial = study_g.best_trial\n",
    "print(f'Mejor prueba: {trial.number}')\n",
    "print(f'Mejores parametros: {trial.params}')\n",
    "print(f'Mejor valor de pérdida: {trial.value}')"
   ]
  },
  {
   "cell_type": "markdown",
   "metadata": {},
   "source": [
    "## Single Thread"
   ]
  },
  {
   "cell_type": "code",
   "execution_count": 26,
   "metadata": {},
   "outputs": [
    {
     "name": "stderr",
     "output_type": "stream",
     "text": [
      "[I 2024-06-20 05:08:01,120] A new study created in memory with name: no-name-fcfa30cc-ac63-41b4-be13-1918a6202e83\n",
      "[I 2024-06-20 05:08:01,183] Trial 0 finished with value: 45.2575714858915 and parameters: {'booster': 'gbtree', 'lambda': 0.1867653655375503, 'alpha': 6.725120080279762e-05, 'learning_rate': 0.00537942525432398, 'subsample': 0.27188392153356294, 'colsample_bytree': 0.5584075605314006, 'max_depth': 3, 'min_child_weight': 2, 'eta': 0.00018881765575451637, 'gamma': 0.00706573735615031, 'grow_policy': 'depthwise'}. Best is trial 0 with value: 45.2575714858915.\n",
      "[I 2024-06-20 05:08:01,217] Trial 1 finished with value: 76.78183095708712 and parameters: {'booster': 'gbtree', 'lambda': 0.000939626610510311, 'alpha': 0.001268096498698477, 'learning_rate': 0.0872018341420834, 'subsample': 0.8623682644148476, 'colsample_bytree': 0.53228595411604, 'max_depth': 7, 'min_child_weight': 7, 'eta': 0.006365213269504912, 'gamma': 0.0022364440167081255, 'grow_policy': 'lossguide'}. Best is trial 0 with value: 45.2575714858915.\n",
      "[I 2024-06-20 05:08:01,268] Trial 2 finished with value: 45.32966193546228 and parameters: {'booster': 'gbtree', 'lambda': 0.00019244083672880364, 'alpha': 0.00011286153620888875, 'learning_rate': 0.00405936069716815, 'subsample': 0.9028233634087002, 'colsample_bytree': 0.6394549444335969, 'max_depth': 9, 'min_child_weight': 8, 'eta': 0.8429870983685687, 'gamma': 0.0002950705741782298, 'grow_policy': 'depthwise'}. Best is trial 0 with value: 45.2575714858915.\n"
     ]
    },
    {
     "name": "stdout",
     "output_type": "stream",
     "text": [
      "Trial: 0 - MSE: 45.2575714858915 - RMSE: 6.727374784110924\n",
      "Trial: 1 - MSE: 76.78183095708712 - RMSE: 8.762524234322386\n",
      "Trial: 2 - MSE: 45.32966193546228 - RMSE: 6.73273064480247\n"
     ]
    },
    {
     "name": "stderr",
     "output_type": "stream",
     "text": [
      "[I 2024-06-20 05:08:01,297] Trial 3 finished with value: 44.94903614326213 and parameters: {'booster': 'dart', 'lambda': 0.006069103315977123, 'alpha': 0.004584945489306408, 'learning_rate': 0.011394444516075276, 'subsample': 0.29205100960285907, 'colsample_bytree': 0.1545350484920378, 'max_depth': 9, 'min_child_weight': 9, 'eta': 2.8389592793005736e-07, 'gamma': 0.0007896135237342103, 'grow_policy': 'lossguide', 'sample_type': 'weighted', 'normalize_type': 'tree', 'rate_drop': 0.0031377171648738636, 'skip_drop': 1.907103264551179e-05}. Best is trial 3 with value: 44.94903614326213.\n",
      "[I 2024-06-20 05:08:01,312] Trial 4 finished with value: 44.60443536342406 and parameters: {'booster': 'gbtree', 'lambda': 0.0011736490140868807, 'alpha': 2.4190243119375894e-07, 'learning_rate': 0.0025533334296562616, 'subsample': 0.7024132381655763, 'colsample_bytree': 0.5098436269349041, 'max_depth': 3, 'min_child_weight': 7, 'eta': 0.008048854459140515, 'gamma': 0.06328233220063201, 'grow_policy': 'depthwise'}. Best is trial 4 with value: 44.60443536342406.\n"
     ]
    },
    {
     "name": "stdout",
     "output_type": "stream",
     "text": [
      "Trial: 3 - MSE: 44.94903614326213 - RMSE: 6.704404234774491\n",
      "Trial: 4 - MSE: 44.60443536342406 - RMSE: 6.678655206209111\n"
     ]
    },
    {
     "name": "stderr",
     "output_type": "stream",
     "text": [
      "[I 2024-06-20 05:08:01,329] Trial 5 finished with value: 44.151258283532094 and parameters: {'booster': 'gbtree', 'lambda': 0.0018074740451532836, 'alpha': 0.3156639162233236, 'learning_rate': 0.001682376416692792, 'subsample': 0.32530112853181037, 'colsample_bytree': 0.7110017589293898, 'max_depth': 5, 'min_child_weight': 8, 'eta': 1.2164166540000353e-06, 'gamma': 0.04169452333057351, 'grow_policy': 'lossguide'}. Best is trial 5 with value: 44.151258283532094.\n",
      "[I 2024-06-20 05:08:01,342] Trial 6 finished with value: 44.63433406658219 and parameters: {'booster': 'gbtree', 'lambda': 0.00019133494875660551, 'alpha': 1.645904824951664e-05, 'learning_rate': 0.005973624953559819, 'subsample': 0.24522646422555888, 'colsample_bytree': 0.4211442873224067, 'max_depth': 3, 'min_child_weight': 10, 'eta': 0.11243495238071785, 'gamma': 0.0036616389871517887, 'grow_policy': 'lossguide'}. Best is trial 5 with value: 44.151258283532094.\n",
      "[I 2024-06-20 05:08:01,378] Trial 7 finished with value: 48.137170473546504 and parameters: {'booster': 'dart', 'lambda': 5.406156955682594e-08, 'alpha': 1.8978734183846186e-06, 'learning_rate': 0.014325580626352964, 'subsample': 0.866683247494427, 'colsample_bytree': 0.1002402787634266, 'max_depth': 3, 'min_child_weight': 2, 'eta': 0.8603876922921802, 'gamma': 0.014029774104570146, 'grow_policy': 'lossguide', 'sample_type': 'weighted', 'normalize_type': 'forest', 'rate_drop': 0.11633796290663917, 'skip_drop': 0.013762545235788355}. Best is trial 5 with value: 44.151258283532094.\n"
     ]
    },
    {
     "name": "stdout",
     "output_type": "stream",
     "text": [
      "Trial: 5 - MSE: 44.151258283532094 - RMSE: 6.644641320909059\n",
      "Trial: 6 - MSE: 44.63433406658219 - RMSE: 6.680893208739547\n",
      "Trial: 7 - MSE: 48.137170473546504 - RMSE: 6.938095594148765\n"
     ]
    },
    {
     "name": "stderr",
     "output_type": "stream",
     "text": [
      "[I 2024-06-20 05:08:01,409] Trial 8 finished with value: 48.9487215448131 and parameters: {'booster': 'dart', 'lambda': 0.0005174500222903134, 'alpha': 0.23335321004985227, 'learning_rate': 0.021396160074863575, 'subsample': 0.46514198397917705, 'colsample_bytree': 0.4633634978241172, 'max_depth': 9, 'min_child_weight': 8, 'eta': 1.8145568915235173e-07, 'gamma': 0.0749729274783621, 'grow_policy': 'depthwise', 'sample_type': 'uniform', 'normalize_type': 'tree', 'rate_drop': 7.031404294084376e-06, 'skip_drop': 1.549346619929382e-05}. Best is trial 5 with value: 44.151258283532094.\n",
      "[I 2024-06-20 05:08:01,430] Trial 9 finished with value: 65.02190864131055 and parameters: {'booster': 'gbtree', 'lambda': 0.006067769194390558, 'alpha': 0.012532039394195182, 'learning_rate': 0.05156843929544516, 'subsample': 0.8962390142303494, 'colsample_bytree': 0.6516141807224424, 'max_depth': 5, 'min_child_weight': 5, 'eta': 0.4543708190497726, 'gamma': 0.00010125873289834778, 'grow_policy': 'lossguide'}. Best is trial 5 with value: 44.151258283532094.\n",
      "[I 2024-06-20 05:08:01,452] Trial 10 finished with value: 44.26211660192443 and parameters: {'booster': 'gblinear', 'lambda': 1.3330545167395792e-06, 'alpha': 0.1598186284413776, 'learning_rate': 0.0010655359371519908, 'subsample': 0.47258252583797666, 'colsample_bytree': 0.9812870777269791}. Best is trial 5 with value: 44.151258283532094.\n",
      "[I 2024-06-20 05:08:01,474] Trial 11 finished with value: 44.047728737587704 and parameters: {'booster': 'gblinear', 'lambda': 9.442971516744636e-07, 'alpha': 0.5638702455831146, 'learning_rate': 0.0010002448558117008, 'subsample': 0.47309048337570275, 'colsample_bytree': 0.992979018130704}. Best is trial 11 with value: 44.047728737587704.\n",
      "[I 2024-06-20 05:08:01,495] Trial 12 finished with value: 43.93532114774728 and parameters: {'booster': 'gblinear', 'lambda': 3.739933893422417e-06, 'alpha': 0.96855333662052, 'learning_rate': 0.0012144128063231402, 'subsample': 0.4464016245678793, 'colsample_bytree': 0.9988586414034498}. Best is trial 12 with value: 43.93532114774728.\n"
     ]
    },
    {
     "name": "stdout",
     "output_type": "stream",
     "text": [
      "Trial: 8 - MSE: 48.9487215448131 - RMSE: 6.996336294433902\n",
      "Trial: 9 - MSE: 65.02190864131055 - RMSE: 8.063616350082048\n",
      "Trial: 10 - MSE: 44.26211660192443 - RMSE: 6.652978025059487\n",
      "Trial: 11 - MSE: 44.047728737587704 - RMSE: 6.636846294557959\n",
      "Trial: 12 - MSE: 43.93532114774728 - RMSE: 6.628372435805586\n"
     ]
    },
    {
     "name": "stderr",
     "output_type": "stream",
     "text": [
      "[I 2024-06-20 05:08:01,516] Trial 13 finished with value: 44.31947214982322 and parameters: {'booster': 'gblinear', 'lambda': 2.360686118254438e-06, 'alpha': 1.0500363057639353e-08, 'learning_rate': 0.0010553322264039023, 'subsample': 0.573066658296216, 'colsample_bytree': 0.9769097707400768}. Best is trial 12 with value: 43.93532114774728.\n"
     ]
    },
    {
     "name": "stdout",
     "output_type": "stream",
     "text": [
      "Trial: 13 - MSE: 44.31947214982322 - RMSE: 6.657287146415063\n"
     ]
    },
    {
     "name": "stderr",
     "output_type": "stream",
     "text": [
      "[I 2024-06-20 05:08:01,539] Trial 14 finished with value: 44.47923041644244 and parameters: {'booster': 'gblinear', 'lambda': 4.235288895538521e-06, 'alpha': 0.7225884289238598, 'learning_rate': 0.0023480735693149554, 'subsample': 0.4525389549692263, 'colsample_bytree': 0.8080747847174738}. Best is trial 12 with value: 43.93532114774728.\n",
      "[I 2024-06-20 05:08:01,560] Trial 15 finished with value: 44.810580024072486 and parameters: {'booster': 'gblinear', 'lambda': 1.094590477822505e-08, 'alpha': 0.018135275599781862, 'learning_rate': 0.0018026013473236681, 'subsample': 0.6723295212793836, 'colsample_bytree': 0.8596395134929239}. Best is trial 12 with value: 43.93532114774728.\n",
      "[I 2024-06-20 05:08:01,581] Trial 16 finished with value: 45.82931838280702 and parameters: {'booster': 'gblinear', 'lambda': 1.335933720306134e-05, 'alpha': 0.0387660847276705, 'learning_rate': 0.0033691583281662174, 'subsample': 0.5444484180168165, 'colsample_bytree': 0.8546457963365284}. Best is trial 12 with value: 43.93532114774728.\n",
      "[I 2024-06-20 05:08:01,602] Trial 17 finished with value: 44.50841195808381 and parameters: {'booster': 'gblinear', 'lambda': 2.4761036312292155e-07, 'alpha': 0.0006508800021514685, 'learning_rate': 0.0013366196100403896, 'subsample': 0.3860909301106112, 'colsample_bytree': 0.3121197378539452}. Best is trial 12 with value: 43.93532114774728.\n"
     ]
    },
    {
     "name": "stdout",
     "output_type": "stream",
     "text": [
      "Trial: 14 - MSE: 44.47923041644244 - RMSE: 6.669275104270511\n",
      "Trial: 15 - MSE: 44.810580024072486 - RMSE: 6.694070512331976\n",
      "Trial: 16 - MSE: 45.82931838280702 - RMSE: 6.76973547362133\n",
      "Trial: 17 - MSE: 44.50841195808381 - RMSE: 6.6714625051845875\n"
     ]
    },
    {
     "name": "stderr",
     "output_type": "stream",
     "text": [
      "[I 2024-06-20 05:08:01,624] Trial 18 finished with value: 45.87332304952583 and parameters: {'booster': 'gblinear', 'lambda': 3.413208761059984e-05, 'alpha': 0.9575744887969331, 'learning_rate': 0.008468741496955022, 'subsample': 0.6911851362224503, 'colsample_bytree': 0.9943285365372903}. Best is trial 12 with value: 43.93532114774728.\n",
      "[I 2024-06-20 05:08:01,647] Trial 19 finished with value: 61.75160441116498 and parameters: {'booster': 'gblinear', 'lambda': 6.731567853716323e-08, 'alpha': 0.03696564478845759, 'learning_rate': 0.028161064035054206, 'subsample': 0.3714215359066938, 'colsample_bytree': 0.7501013463655805}. Best is trial 12 with value: 43.93532114774728.\n",
      "[I 2024-06-20 05:08:01,668] Trial 20 finished with value: 45.291815000663 and parameters: {'booster': 'gblinear', 'lambda': 3.3695996433723584e-07, 'alpha': 0.001037389850323165, 'learning_rate': 0.0025016774601189745, 'subsample': 0.7793986767977888, 'colsample_bytree': 0.8774750517393338}. Best is trial 12 with value: 43.93532114774728.\n",
      "[I 2024-06-20 05:08:01,690] Trial 21 finished with value: 44.590121551050416 and parameters: {'booster': 'gblinear', 'lambda': 0.0747319882937005, 'alpha': 0.16514542545407512, 'learning_rate': 0.0017284803474328495, 'subsample': 0.350394712780457, 'colsample_bytree': 0.7317346241194154}. Best is trial 12 with value: 43.93532114774728.\n"
     ]
    },
    {
     "name": "stdout",
     "output_type": "stream",
     "text": [
      "Trial: 18 - MSE: 45.87332304952583 - RMSE: 6.772984796197746\n",
      "Trial: 19 - MSE: 61.75160441116498 - RMSE: 7.8582189083255365\n",
      "Trial: 20 - MSE: 45.291815000663 - RMSE: 6.729919390354018\n",
      "Trial: 21 - MSE: 44.590121551050416 - RMSE: 6.677583511349777\n"
     ]
    },
    {
     "name": "stderr",
     "output_type": "stream",
     "text": [
      "[I 2024-06-20 05:08:01,735] Trial 22 finished with value: 44.18015388357875 and parameters: {'booster': 'gbtree', 'lambda': 3.106042565648325e-05, 'alpha': 0.13317369479688895, 'learning_rate': 0.0015844899969465877, 'subsample': 0.5208227280353334, 'colsample_bytree': 0.9162581808892074, 'max_depth': 5, 'min_child_weight': 5, 'eta': 1.2096896590295372e-08, 'gamma': 9.413146187894662e-07, 'grow_policy': 'lossguide'}. Best is trial 12 with value: 43.93532114774728.\n"
     ]
    },
    {
     "name": "stdout",
     "output_type": "stream",
     "text": [
      "Trial: 22 - MSE: 44.18015388357875 - RMSE: 6.646815318901131\n"
     ]
    },
    {
     "name": "stderr",
     "output_type": "stream",
     "text": [
      "[I 2024-06-20 05:08:01,792] Trial 23 finished with value: 43.92718810382912 and parameters: {'booster': 'dart', 'lambda': 7.062900589872474e-06, 'alpha': 0.9056912539986198, 'learning_rate': 0.0010276137184029306, 'subsample': 0.2083375626882083, 'colsample_bytree': 0.7530287382015189, 'max_depth': 7, 'min_child_weight': 4, 'eta': 1.1838380453455584e-05, 'gamma': 0.5117934344625462, 'grow_policy': 'lossguide', 'sample_type': 'uniform', 'normalize_type': 'forest', 'rate_drop': 1.5769303843868033e-08, 'skip_drop': 4.432294468908742e-08}. Best is trial 23 with value: 43.92718810382912.\n"
     ]
    },
    {
     "name": "stdout",
     "output_type": "stream",
     "text": [
      "Trial: 23 - MSE: 43.92718810382912 - RMSE: 6.627758905077124\n"
     ]
    },
    {
     "name": "stderr",
     "output_type": "stream",
     "text": [
      "[I 2024-06-20 05:08:01,851] Trial 24 finished with value: 43.87762159923504 and parameters: {'booster': 'dart', 'lambda': 6.498890446632567e-07, 'alpha': 0.9172733251436139, 'learning_rate': 0.0010243309500683445, 'subsample': 0.2121578951127397, 'colsample_bytree': 0.9249090281008742, 'max_depth': 7, 'min_child_weight': 4, 'eta': 2.617899976936799e-05, 'gamma': 0.8955993335772723, 'grow_policy': 'lossguide', 'sample_type': 'uniform', 'normalize_type': 'forest', 'rate_drop': 1.192335562142656e-08, 'skip_drop': 1.3315968577685759e-08}. Best is trial 24 with value: 43.87762159923504.\n",
      "[I 2024-06-20 05:08:01,909] Trial 25 finished with value: 44.66808280627679 and parameters: {'booster': 'dart', 'lambda': 8.113683096436304e-06, 'alpha': 0.00685972945670248, 'learning_rate': 0.0034292776816965357, 'subsample': 0.20671937895214593, 'colsample_bytree': 0.8023928368234216, 'max_depth': 7, 'min_child_weight': 4, 'eta': 2.0860220662563302e-05, 'gamma': 0.8908470600297341, 'grow_policy': 'lossguide', 'sample_type': 'uniform', 'normalize_type': 'forest', 'rate_drop': 1.003285367210596e-08, 'skip_drop': 1.0697801306515363e-08}. Best is trial 24 with value: 43.87762159923504.\n"
     ]
    },
    {
     "name": "stdout",
     "output_type": "stream",
     "text": [
      "Trial: 24 - MSE: 43.87762159923504 - RMSE: 6.62401853856366\n",
      "Trial: 25 - MSE: 44.66808280627679 - RMSE: 6.683418497017585\n"
     ]
    },
    {
     "name": "stderr",
     "output_type": "stream",
     "text": [
      "[I 2024-06-20 05:08:01,985] Trial 26 finished with value: 44.67436252907028 and parameters: {'booster': 'dart', 'lambda': 2.59728184404463e-07, 'alpha': 0.06010932315055034, 'learning_rate': 0.002153480042027038, 'subsample': 0.9921043701158332, 'colsample_bytree': 0.9110591888581345, 'max_depth': 7, 'min_child_weight': 4, 'eta': 4.726068296121405e-05, 'gamma': 8.641319861694685e-08, 'grow_policy': 'lossguide', 'sample_type': 'uniform', 'normalize_type': 'forest', 'rate_drop': 1.1188510907894812e-08, 'skip_drop': 1.0764381676402351e-08}. Best is trial 24 with value: 43.87762159923504.\n"
     ]
    },
    {
     "name": "stdout",
     "output_type": "stream",
     "text": [
      "Trial: 26 - MSE: 44.67436252907028 - RMSE: 6.683888279218189\n"
     ]
    },
    {
     "name": "stderr",
     "output_type": "stream",
     "text": [
      "[I 2024-06-20 05:08:02,048] Trial 27 finished with value: 43.97083443354796 and parameters: {'booster': 'dart', 'lambda': 3.9908340133494854e-05, 'alpha': 0.9537131333763189, 'learning_rate': 0.0011616904622644838, 'subsample': 0.2023478670479625, 'colsample_bytree': 0.6416645841876867, 'max_depth': 7, 'min_child_weight': 3, 'eta': 6.634115595234436e-06, 'gamma': 0.7622370581139716, 'grow_policy': 'lossguide', 'sample_type': 'uniform', 'normalize_type': 'forest', 'rate_drop': 2.4104945149821206e-06, 'skip_drop': 3.7991585630219047e-07}. Best is trial 24 with value: 43.87762159923504.\n"
     ]
    },
    {
     "name": "stdout",
     "output_type": "stream",
     "text": [
      "Trial: 27 - MSE: 43.97083443354796 - RMSE: 6.631050778990307\n"
     ]
    },
    {
     "name": "stderr",
     "output_type": "stream",
     "text": [
      "[I 2024-06-20 05:08:02,114] Trial 28 finished with value: 45.38918621040476 and parameters: {'booster': 'dart', 'lambda': 4.502158222320234e-08, 'alpha': 0.06845299801938909, 'learning_rate': 0.0053535228260022764, 'subsample': 0.4198222815286, 'colsample_bytree': 0.7957448785392178, 'max_depth': 7, 'min_child_weight': 5, 'eta': 0.00042407373114900876, 'gamma': 5.32405357267219e-06, 'grow_policy': 'lossguide', 'sample_type': 'uniform', 'normalize_type': 'forest', 'rate_drop': 3.012937879587546e-07, 'skip_drop': 2.8719507743662046e-07}. Best is trial 24 with value: 43.87762159923504.\n",
      "[I 2024-06-20 05:08:02,179] Trial 29 finished with value: 44.17999504060117 and parameters: {'booster': 'dart', 'lambda': 7.35787629516798e-07, 'alpha': 0.0002078133735565731, 'learning_rate': 0.0014161313171158073, 'subsample': 0.28105884485799576, 'colsample_bytree': 0.9490106292165212, 'max_depth': 5, 'min_child_weight': 3, 'eta': 0.0015057561248438159, 'gamma': 0.18502667256329508, 'grow_policy': 'lossguide', 'sample_type': 'uniform', 'normalize_type': 'forest', 'rate_drop': 0.0001453567335610154, 'skip_drop': 0.7798493683835273}. Best is trial 24 with value: 43.87762159923504.\n"
     ]
    },
    {
     "name": "stdout",
     "output_type": "stream",
     "text": [
      "Trial: 28 - MSE: 45.38918621040476 - RMSE: 6.737149709662444\n",
      "Trial: 29 - MSE: 44.17999504060117 - RMSE: 6.646803370087095\n"
     ]
    },
    {
     "name": "stderr",
     "output_type": "stream",
     "text": [
      "[I 2024-06-20 05:08:02,255] Trial 30 finished with value: 45.505266304048035 and parameters: {'booster': 'dart', 'lambda': 0.9982360548734365, 'alpha': 0.002391152170507037, 'learning_rate': 0.004840176163875322, 'subsample': 0.6142619484021852, 'colsample_bytree': 0.5888513333073404, 'max_depth': 9, 'min_child_weight': 6, 'eta': 4.231431929805817e-06, 'gamma': 5.676182045933941e-06, 'grow_policy': 'depthwise', 'sample_type': 'uniform', 'normalize_type': 'forest', 'rate_drop': 1.4340018004808015e-07, 'skip_drop': 5.05748650657354e-07}. Best is trial 24 with value: 43.87762159923504.\n"
     ]
    },
    {
     "name": "stdout",
     "output_type": "stream",
     "text": [
      "Trial: 30 - MSE: 45.505266304048035 - RMSE: 6.745759134748885\n"
     ]
    },
    {
     "name": "stderr",
     "output_type": "stream",
     "text": [
      "[I 2024-06-20 05:08:02,361] Trial 31 finished with value: 44.029782590641716 and parameters: {'booster': 'dart', 'lambda': 5.4779090071875216e-05, 'alpha': 0.7630124221566149, 'learning_rate': 0.0013033998214461602, 'subsample': 0.2079090444357146, 'colsample_bytree': 0.6711643468577926, 'max_depth': 7, 'min_child_weight': 3, 'eta': 1.2374822696169358e-05, 'gamma': 0.8560079312311649, 'grow_policy': 'lossguide', 'sample_type': 'uniform', 'normalize_type': 'forest', 'rate_drop': 9.646853148686934e-07, 'skip_drop': 3.3794587197569093e-07}. Best is trial 24 with value: 43.87762159923504.\n",
      "[I 2024-06-20 05:08:02,427] Trial 32 finished with value: 43.90395435150844 and parameters: {'booster': 'dart', 'lambda': 1.0400542104325399e-05, 'alpha': 0.24296915603815977, 'learning_rate': 0.0010200239208378512, 'subsample': 0.24736010280738308, 'colsample_bytree': 0.5693536179945766, 'max_depth': 7, 'min_child_weight': 3, 'eta': 2.0317845417552297e-06, 'gamma': 0.8803640596617666, 'grow_policy': 'lossguide', 'sample_type': 'uniform', 'normalize_type': 'forest', 'rate_drop': 1.028322671099673e-05, 'skip_drop': 5.6121501870700524e-08}. Best is trial 24 with value: 43.87762159923504.\n"
     ]
    },
    {
     "name": "stdout",
     "output_type": "stream",
     "text": [
      "Trial: 31 - MSE: 44.029782590641716 - RMSE: 6.635494148188341\n",
      "Trial: 32 - MSE: 43.90395435150844 - RMSE: 6.6260059124263115\n"
     ]
    },
    {
     "name": "stderr",
     "output_type": "stream",
     "text": [
      "[I 2024-06-20 05:08:02,489] Trial 33 finished with value: 44.77185450802605 and parameters: {'booster': 'dart', 'lambda': 8.297981813123998e-06, 'alpha': 0.21026744101465894, 'learning_rate': 0.0028932361221759104, 'subsample': 0.31038090112155114, 'colsample_bytree': 0.5838668596616667, 'max_depth': 7, 'min_child_weight': 4, 'eta': 8.409975445360879e-07, 'gamma': 0.18292305531333417, 'grow_policy': 'lossguide', 'sample_type': 'uniform', 'normalize_type': 'forest', 'rate_drop': 5.742674191523037e-05, 'skip_drop': 1.3645013274483556e-08}. Best is trial 24 with value: 43.87762159923504.\n",
      "[I 2024-06-20 05:08:02,553] Trial 34 finished with value: 44.12487068574374 and parameters: {'booster': 'dart', 'lambda': 3.253079500419005e-06, 'alpha': 0.017094592873523738, 'learning_rate': 0.0019767968030252993, 'subsample': 0.25453723872558354, 'colsample_bytree': 0.35056167592102366, 'max_depth': 7, 'min_child_weight': 3, 'eta': 3.965243938332427e-08, 'gamma': 0.2047527291917465, 'grow_policy': 'lossguide', 'sample_type': 'weighted', 'normalize_type': 'tree', 'rate_drop': 4.0487384454397787e-08, 'skip_drop': 9.499994310956986e-08}. Best is trial 24 with value: 43.87762159923504.\n"
     ]
    },
    {
     "name": "stdout",
     "output_type": "stream",
     "text": [
      "Trial: 33 - MSE: 44.77185450802605 - RMSE: 6.691177363366335\n",
      "Trial: 34 - MSE: 44.12487068574374 - RMSE: 6.642655394173609\n"
     ]
    },
    {
     "name": "stderr",
     "output_type": "stream",
     "text": [
      "[I 2024-06-20 05:08:02,618] Trial 35 finished with value: 44.03443414250818 and parameters: {'booster': 'dart', 'lambda': 0.00012095991865469338, 'alpha': 0.3029090922312488, 'learning_rate': 0.0012513468875960387, 'subsample': 0.2709630961264553, 'colsample_bytree': 0.7717408662899964, 'max_depth': 5, 'min_child_weight': 4, 'eta': 7.351572834154652e-05, 'gamma': 0.018004012704772466, 'grow_policy': 'lossguide', 'sample_type': 'uniform', 'normalize_type': 'forest', 'rate_drop': 2.4410355558174268e-05, 'skip_drop': 3.6104572277412724e-06}. Best is trial 24 with value: 43.87762159923504.\n",
      "[I 2024-06-20 05:08:02,687] Trial 36 finished with value: 69.83134759442426 and parameters: {'booster': 'dart', 'lambda': 1.1406547770004605e-05, 'alpha': 0.06901441784798804, 'learning_rate': 0.07232646560791345, 'subsample': 0.33987848183598707, 'colsample_bytree': 0.9149442426318748, 'max_depth': 9, 'min_child_weight': 2, 'eta': 1.8314391198519183e-06, 'gamma': 0.9738844438523462, 'grow_policy': 'lossguide', 'sample_type': 'uniform', 'normalize_type': 'forest', 'rate_drop': 0.0003335256733475054, 'skip_drop': 0.0004929177794531084}. Best is trial 24 with value: 43.87762159923504.\n"
     ]
    },
    {
     "name": "stdout",
     "output_type": "stream",
     "text": [
      "Trial: 35 - MSE: 44.03443414250818 - RMSE: 6.635844644241469\n",
      "Trial: 36 - MSE: 69.83134759442426 - RMSE: 8.356515278178115\n"
     ]
    },
    {
     "name": "stderr",
     "output_type": "stream",
     "text": [
      "[I 2024-06-20 05:08:02,751] Trial 37 finished with value: 43.98694269139279 and parameters: {'booster': 'dart', 'lambda': 0.0003858873784555517, 'alpha': 9.704154062051186e-06, 'learning_rate': 0.001004363729845293, 'subsample': 0.3956461320291119, 'colsample_bytree': 0.5353086675145345, 'max_depth': 7, 'min_child_weight': 6, 'eta': 1.8643551793787894e-07, 'gamma': 0.1799739347928054, 'grow_policy': 'lossguide', 'sample_type': 'uniform', 'normalize_type': 'forest', 'rate_drop': 1.318573513990708e-07, 'skip_drop': 5.978412628360373e-08}. Best is trial 24 with value: 43.87762159923504.\n",
      "[I 2024-06-20 05:08:02,811] Trial 38 finished with value: 44.10308261163889 and parameters: {'booster': 'dart', 'lambda': 4.7307072863833735e-07, 'alpha': 0.3684222471527491, 'learning_rate': 0.001556344283851728, 'subsample': 0.2555536638887005, 'colsample_bytree': 0.8381518479246217, 'max_depth': 5, 'min_child_weight': 5, 'eta': 0.0006042714858933839, 'gamma': 1.0872614056957199e-08, 'grow_policy': 'depthwise', 'sample_type': 'weighted', 'normalize_type': 'tree', 'rate_drop': 0.004264080458277292, 'skip_drop': 2.000687457384551e-06}. Best is trial 24 with value: 43.87762159923504.\n"
     ]
    },
    {
     "name": "stdout",
     "output_type": "stream",
     "text": [
      "Trial: 37 - MSE: 43.98694269139279 - RMSE: 6.632265276011869\n",
      "Trial: 38 - MSE: 44.10308261163889 - RMSE: 6.641015179295925\n"
     ]
    },
    {
     "name": "stderr",
     "output_type": "stream",
     "text": [
      "[I 2024-06-20 05:08:02,894] Trial 39 finished with value: 47.37332576892281 and parameters: {'booster': 'dart', 'lambda': 1.1444555118507597e-07, 'alpha': 0.0034736722348463417, 'learning_rate': 0.008730623966263949, 'subsample': 0.3230932479943879, 'colsample_bytree': 0.6934401274505508, 'max_depth': 7, 'min_child_weight': 3, 'eta': 2.8944703957506907e-05, 'gamma': 0.03456264890475112, 'grow_policy': 'lossguide', 'sample_type': 'uniform', 'normalize_type': 'forest', 'rate_drop': 5.268256057828636e-07, 'skip_drop': 0.0004637681376542414}. Best is trial 24 with value: 43.87762159923504.\n"
     ]
    },
    {
     "name": "stdout",
     "output_type": "stream",
     "text": [
      "Trial: 39 - MSE: 47.37332576892281 - RMSE: 6.882828326271317\n"
     ]
    },
    {
     "name": "stderr",
     "output_type": "stream",
     "text": [
      "[I 2024-06-20 05:08:02,978] Trial 40 finished with value: 44.33245554001731 and parameters: {'booster': 'gbtree', 'lambda': 1.7183771583346912e-06, 'alpha': 0.09775964573241765, 'learning_rate': 0.002098667189765672, 'subsample': 0.24492617325746802, 'colsample_bytree': 0.4448068229807391, 'max_depth': 9, 'min_child_weight': 4, 'eta': 5.9912559875473834e-06, 'gamma': 0.0011279131331378093, 'grow_policy': 'lossguide'}. Best is trial 24 with value: 43.87762159923504.\n",
      "[I 2024-06-20 05:08:03,051] Trial 41 finished with value: 43.99629687236048 and parameters: {'booster': 'dart', 'lambda': 2.33328636009254e-05, 'alpha': 0.9509184961458664, 'learning_rate': 0.0012366201264365922, 'subsample': 0.20039547272521588, 'colsample_bytree': 0.6264352311334527, 'max_depth': 7, 'min_child_weight': 3, 'eta': 4.877894154170788e-06, 'gamma': 0.3239264793395311, 'grow_policy': 'lossguide', 'sample_type': 'uniform', 'normalize_type': 'forest', 'rate_drop': 3.4507781944640016e-06, 'skip_drop': 7.050707944308716e-08}. Best is trial 24 with value: 43.87762159923504.\n"
     ]
    },
    {
     "name": "stdout",
     "output_type": "stream",
     "text": [
      "Trial: 40 - MSE: 44.33245554001731 - RMSE: 6.658262201206656\n",
      "Trial: 41 - MSE: 43.99629687236048 - RMSE: 6.632970441089006\n"
     ]
    },
    {
     "name": "stderr",
     "output_type": "stream",
     "text": [
      "[I 2024-06-20 05:08:03,126] Trial 42 finished with value: 44.017318499465624 and parameters: {'booster': 'dart', 'lambda': 7.671421563525332e-05, 'alpha': 0.3404112631147364, 'learning_rate': 0.001266319130808893, 'subsample': 0.23142475611060975, 'colsample_bytree': 0.5086226751842777, 'max_depth': 7, 'min_child_weight': 2, 'eta': 7.287593926767846e-05, 'gamma': 0.006861945043767396, 'grow_policy': 'lossguide', 'sample_type': 'uniform', 'normalize_type': 'forest', 'rate_drop': 1.6282410726375366e-06, 'skip_drop': 6.912347772827182e-08}. Best is trial 24 with value: 43.87762159923504.\n"
     ]
    },
    {
     "name": "stdout",
     "output_type": "stream",
     "text": [
      "Trial: 42 - MSE: 44.017318499465624 - RMSE: 6.634554883295912\n"
     ]
    },
    {
     "name": "stderr",
     "output_type": "stream",
     "text": [
      "[I 2024-06-20 05:08:03,197] Trial 43 finished with value: 44.24312285949816 and parameters: {'booster': 'dart', 'lambda': 2.742237998404598e-06, 'alpha': 0.9478282548589435, 'learning_rate': 0.0016650920518071085, 'subsample': 0.29429349095463386, 'colsample_bytree': 0.6478716016428389, 'max_depth': 7, 'min_child_weight': 2, 'eta': 0.000279133629789832, 'gamma': 0.4789060965220957, 'grow_policy': 'lossguide', 'sample_type': 'uniform', 'normalize_type': 'forest', 'rate_drop': 2.8670006223143584e-08, 'skip_drop': 1.1188405124172935e-06}. Best is trial 24 with value: 43.87762159923504.\n",
      "[I 2024-06-20 05:08:03,266] Trial 44 finished with value: 44.03812821386465 and parameters: {'booster': 'dart', 'lambda': 0.0002153017716174267, 'alpha': 0.2933551308393605, 'learning_rate': 0.001021084206751974, 'subsample': 0.3087314669212918, 'colsample_bytree': 0.7148814796084382, 'max_depth': 7, 'min_child_weight': 3, 'eta': 4.664580874320451e-07, 'gamma': 0.1062617455815649, 'grow_policy': 'lossguide', 'sample_type': 'uniform', 'normalize_type': 'forest', 'rate_drop': 4.8185732125179875e-06, 'skip_drop': 8.691790750482022e-08}. Best is trial 24 with value: 43.87762159923504.\n"
     ]
    },
    {
     "name": "stdout",
     "output_type": "stream",
     "text": [
      "Trial: 43 - MSE: 44.24312285949816 - RMSE: 6.651550410204989\n",
      "Trial: 44 - MSE: 44.03812821386465 - RMSE: 6.636122980616367\n"
     ]
    },
    {
     "name": "stderr",
     "output_type": "stream",
     "text": [
      "[I 2024-06-20 05:08:03,334] Trial 45 finished with value: 44.33366338512727 and parameters: {'booster': 'dart', 'lambda': 6.176061312834158e-06, 'alpha': 8.620016103089687e-08, 'learning_rate': 0.003073637661521665, 'subsample': 0.21894187286583347, 'colsample_bytree': 0.5996965247675237, 'max_depth': 7, 'min_child_weight': 6, 'eta': 1.1839143991854096e-05, 'gamma': 0.014945698364985353, 'grow_policy': 'depthwise', 'sample_type': 'uniform', 'normalize_type': 'forest', 'rate_drop': 7.789349413317014e-08, 'skip_drop': 2.3197291256977762e-08}. Best is trial 24 with value: 43.87762159923504.\n",
      "[I 2024-06-20 05:08:03,400] Trial 46 finished with value: 45.28851711195391 and parameters: {'booster': 'gbtree', 'lambda': 1.7561672089211253e-05, 'alpha': 0.032218912636974927, 'learning_rate': 0.004241352442838894, 'subsample': 0.2856539496216133, 'colsample_bytree': 0.47901813310162344, 'max_depth': 9, 'min_child_weight': 4, 'eta': 2.241452337008868e-06, 'gamma': 0.3908405276419356, 'grow_policy': 'lossguide'}. Best is trial 24 with value: 43.87762159923504.\n"
     ]
    },
    {
     "name": "stdout",
     "output_type": "stream",
     "text": [
      "Trial: 45 - MSE: 44.33366338512727 - RMSE: 6.658352903318303\n",
      "Trial: 46 - MSE: 45.28851711195391 - RMSE: 6.729674368938954\n"
     ]
    },
    {
     "name": "stderr",
     "output_type": "stream",
     "text": [
      "[I 2024-06-20 05:08:03,493] Trial 47 finished with value: 44.245788307290915 and parameters: {'booster': 'dart', 'lambda': 0.0013593649448433536, 'alpha': 0.009940074318287829, 'learning_rate': 0.0019133313738884574, 'subsample': 0.43006462282434776, 'colsample_bytree': 0.3937082837395065, 'max_depth': 7, 'min_child_weight': 5, 'eta': 0.00018548548613451807, 'gamma': 0.9931965907212369, 'grow_policy': 'lossguide', 'sample_type': 'uniform', 'normalize_type': 'forest', 'rate_drop': 1.7248565000946424e-05, 'skip_drop': 2.915783450591878e-07}. Best is trial 24 with value: 43.87762159923504.\n"
     ]
    },
    {
     "name": "stdout",
     "output_type": "stream",
     "text": [
      "Trial: 47 - MSE: 44.245788307290915 - RMSE: 6.651750770082334\n"
     ]
    },
    {
     "name": "stderr",
     "output_type": "stream",
     "text": [
      "[I 2024-06-20 05:08:03,559] Trial 48 finished with value: 47.47964106594428 and parameters: {'booster': 'dart', 'lambda': 8.228479239708025e-07, 'alpha': 0.4447422777773213, 'learning_rate': 0.016560267636973238, 'subsample': 0.3632571892360126, 'colsample_bytree': 0.2625799015028294, 'max_depth': 5, 'min_child_weight': 7, 'eta': 8.107093616031244e-08, 'gamma': 0.05766499790805329, 'grow_policy': 'depthwise', 'sample_type': 'uniform', 'normalize_type': 'forest', 'rate_drop': 4.773263357271446e-07, 'skip_drop': 5.442203102973678e-06}. Best is trial 24 with value: 43.87762159923504.\n",
      "[I 2024-06-20 05:08:03,658] Trial 49 finished with value: 58.22152407877215 and parameters: {'booster': 'dart', 'lambda': 0.004179722750214973, 'alpha': 0.12309342634112497, 'learning_rate': 0.03593290893419053, 'subsample': 0.5095427460405081, 'colsample_bytree': 0.9502452338223042, 'max_depth': 9, 'min_child_weight': 2, 'eta': 0.0024008040334283017, 'gamma': 0.0022618807878582886, 'grow_policy': 'lossguide', 'sample_type': 'weighted', 'normalize_type': 'tree', 'rate_drop': 2.5257096716640517e-08, 'skip_drop': 5.2457893709223983e-08}. Best is trial 24 with value: 43.87762159923504.\n"
     ]
    },
    {
     "name": "stdout",
     "output_type": "stream",
     "text": [
      "Trial: 48 - MSE: 47.47964106594428 - RMSE: 6.890547225434586\n",
      "Trial: 49 - MSE: 58.22152407877215 - RMSE: 7.630303013561922\n"
     ]
    },
    {
     "name": "stderr",
     "output_type": "stream",
     "text": [
      "[I 2024-06-20 05:08:03,736] Trial 50 finished with value: 45.312761383973374 and parameters: {'booster': 'gblinear', 'lambda': 5.092441533537405e-05, 'alpha': 2.828067998553188e-05, 'learning_rate': 0.0025315758263535692, 'subsample': 0.6280968389113717, 'colsample_bytree': 0.877979259001074}. Best is trial 24 with value: 43.87762159923504.\n"
     ]
    },
    {
     "name": "stdout",
     "output_type": "stream",
     "text": [
      "Trial: 50 - MSE: 45.312761383973374 - RMSE: 6.731475424004263\n"
     ]
    },
    {
     "name": "stderr",
     "output_type": "stream",
     "text": [
      "[I 2024-06-20 05:08:03,800] Trial 51 finished with value: 44.00567604538066 and parameters: {'booster': 'dart', 'lambda': 0.0004464208332032494, 'alpha': 4.64881986026233e-05, 'learning_rate': 0.0010509905713071187, 'subsample': 0.39218822467170844, 'colsample_bytree': 0.5641420634905284, 'max_depth': 7, 'min_child_weight': 6, 'eta': 3.1591680277052224e-07, 'gamma': 0.14999870762447187, 'grow_policy': 'lossguide', 'sample_type': 'uniform', 'normalize_type': 'forest', 'rate_drop': 1.5971798081048364e-07, 'skip_drop': 4.2205936678939954e-08}. Best is trial 24 with value: 43.87762159923504.\n",
      "[I 2024-06-20 05:08:03,866] Trial 52 finished with value: 43.93088284148973 and parameters: {'booster': 'dart', 'lambda': 0.0002663569179683401, 'alpha': 9.810178799543062e-07, 'learning_rate': 0.0010007515184575775, 'subsample': 0.2594029636451229, 'colsample_bytree': 0.5085263805786784, 'max_depth': 7, 'min_child_weight': 3, 'eta': 8.3502034798765e-08, 'gamma': 0.3933877497953736, 'grow_policy': 'lossguide', 'sample_type': 'uniform', 'normalize_type': 'forest', 'rate_drop': 6.717508737285332e-08, 'skip_drop': 2.153172366444755e-07}. Best is trial 24 with value: 43.87762159923504.\n"
     ]
    },
    {
     "name": "stdout",
     "output_type": "stream",
     "text": [
      "Trial: 51 - MSE: 44.00567604538066 - RMSE: 6.633677414932133\n",
      "Trial: 52 - MSE: 43.93088284148973 - RMSE: 6.62803763126687\n"
     ]
    },
    {
     "name": "stderr",
     "output_type": "stream",
     "text": [
      "[I 2024-06-20 05:08:03,937] Trial 53 finished with value: 44.0193431989837 and parameters: {'booster': 'dart', 'lambda': 0.0001493809855397956, 'alpha': 3.4994125845532703e-06, 'learning_rate': 0.0012830474074967428, 'subsample': 0.2554461878813829, 'colsample_bytree': 0.50928901145158, 'max_depth': 7, 'min_child_weight': 3, 'eta': 4.215906195746849e-08, 'gamma': 0.03456264576595194, 'grow_policy': 'lossguide', 'sample_type': 'uniform', 'normalize_type': 'forest', 'rate_drop': 5.1603921753415446e-08, 'skip_drop': 2.3371886977771095e-07}. Best is trial 24 with value: 43.87762159923504.\n"
     ]
    },
    {
     "name": "stdout",
     "output_type": "stream",
     "text": [
      "Trial: 53 - MSE: 44.0193431989837 - RMSE: 6.634707468983368\n",
      "Trial: 54 - MSE: 44.12259566665591 - RMSE: 6.642484148769639\n"
     ]
    },
    {
     "name": "stderr",
     "output_type": "stream",
     "text": [
      "[I 2024-06-20 05:08:04,002] Trial 54 finished with value: 44.12259566665591 and parameters: {'booster': 'dart', 'lambda': 1.5858400794829222e-06, 'alpha': 6.722488674108068e-07, 'learning_rate': 0.0015362269035706301, 'subsample': 0.22937446042458015, 'colsample_bytree': 0.6188049563894996, 'max_depth': 7, 'min_child_weight': 4, 'eta': 7.241707313181924e-07, 'gamma': 0.4129996242251027, 'grow_policy': 'lossguide', 'sample_type': 'uniform', 'normalize_type': 'forest', 'rate_drop': 1.202173123187294e-06, 'skip_drop': 9.463512882887657e-07}. Best is trial 24 with value: 43.87762159923504.\n",
      "[I 2024-06-20 05:08:04,053] Trial 55 finished with value: 44.12206072319861 and parameters: {'booster': 'gbtree', 'lambda': 4.860197018459353e-06, 'alpha': 3.6613414959466e-08, 'learning_rate': 0.0011582183218063027, 'subsample': 0.3369698559555363, 'colsample_bytree': 0.6854188647198887, 'max_depth': 7, 'min_child_weight': 3, 'eta': 9.45148665362834e-06, 'gamma': 0.0805082930435349, 'grow_policy': 'lossguide'}. Best is trial 24 with value: 43.87762159923504.\n",
      "[I 2024-06-20 05:08:04,077] Trial 56 finished with value: 44.60357355587675 and parameters: {'booster': 'gblinear', 'lambda': 0.01940595388712888, 'alpha': 0.00012408739406163648, 'learning_rate': 0.0015065669928499199, 'subsample': 0.7564670639647567, 'colsample_bytree': 0.542565228774751}. Best is trial 24 with value: 43.87762159923504.\n"
     ]
    },
    {
     "name": "stdout",
     "output_type": "stream",
     "text": [
      "Trial: 55 - MSE: 44.12206072319861 - RMSE: 6.642443881825319\n",
      "Trial: 56 - MSE: 44.60357355587675 - RMSE: 6.678590686355673\n"
     ]
    },
    {
     "name": "stderr",
     "output_type": "stream",
     "text": [
      "[I 2024-06-20 05:08:04,145] Trial 57 finished with value: 44.26806718939584 and parameters: {'booster': 'dart', 'lambda': 1.689119994579764e-05, 'alpha': 0.45824738314260355, 'learning_rate': 0.00180584396937116, 'subsample': 0.27458545594115513, 'colsample_bytree': 0.4720112174721147, 'max_depth': 5, 'min_child_weight': 2, 'eta': 1.1124542107059634e-08, 'gamma': 0.00019385420842428706, 'grow_policy': 'lossguide', 'sample_type': 'uniform', 'normalize_type': 'forest', 'rate_drop': 1.3433034574511807e-08, 'skip_drop': 4.758850284457547e-05}. Best is trial 24 with value: 43.87762159923504.\n",
      "[I 2024-06-20 05:08:04,169] Trial 58 finished with value: 44.38971364618752 and parameters: {'booster': 'gblinear', 'lambda': 4.487455255776447e-05, 'alpha': 1.0970107784773354e-06, 'learning_rate': 0.0011597724750699561, 'subsample': 0.2307826806057485, 'colsample_bytree': 0.9559647380059615}. Best is trial 24 with value: 43.87762159923504.\n",
      "[I 2024-06-20 05:08:04,232] Trial 59 finished with value: 44.034899993343274 and parameters: {'booster': 'dart', 'lambda': 0.0009101223155221125, 'alpha': 0.18599001815930766, 'learning_rate': 0.0014160510791496727, 'subsample': 0.20028052782855893, 'colsample_bytree': 0.7583929947446598, 'max_depth': 9, 'min_child_weight': 4, 'eta': 2.4070686982762246e-06, 'gamma': 2.3581250309318998e-05, 'grow_policy': 'depthwise', 'sample_type': 'weighted', 'normalize_type': 'tree', 'rate_drop': 7.347512715362889e-08, 'skip_drop': 1.6707066718050691e-07}. Best is trial 24 with value: 43.87762159923504.\n"
     ]
    },
    {
     "name": "stdout",
     "output_type": "stream",
     "text": [
      "Trial: 57 - MSE: 44.26806718939584 - RMSE: 6.653425222349451\n",
      "Trial: 58 - MSE: 44.38971364618752 - RMSE: 6.662560592308901\n",
      "Trial: 59 - MSE: 44.034899993343274 - RMSE: 6.635879745244279\n"
     ]
    },
    {
     "name": "stderr",
     "output_type": "stream",
     "text": [
      "[I 2024-06-20 05:08:04,302] Trial 60 finished with value: 45.22276618212873 and parameters: {'booster': 'dart', 'lambda': 2.380053220887586e-08, 'alpha': 7.71379730311846e-06, 'learning_rate': 0.006747047051428811, 'subsample': 0.30515643834557743, 'colsample_bytree': 0.2132543172210355, 'max_depth': 7, 'min_child_weight': 3, 'eta': 0.031407016399953226, 'gamma': 0.4353471868810468, 'grow_policy': 'lossguide', 'sample_type': 'uniform', 'normalize_type': 'forest', 'rate_drop': 0.001661958178954846, 'skip_drop': 3.4801145355344646e-08}. Best is trial 24 with value: 43.87762159923504.\n"
     ]
    },
    {
     "name": "stdout",
     "output_type": "stream",
     "text": [
      "Trial: 60 - MSE: 45.22276618212873 - RMSE: 6.724787445126331\n"
     ]
    },
    {
     "name": "stderr",
     "output_type": "stream",
     "text": [
      "[I 2024-06-20 05:08:04,366] Trial 61 finished with value: 43.92774642015061 and parameters: {'booster': 'dart', 'lambda': 0.00028849909296758134, 'alpha': 1.2658176031509635e-05, 'learning_rate': 0.0010237749530085502, 'subsample': 0.3912342809175652, 'colsample_bytree': 0.5479251960037607, 'max_depth': 7, 'min_child_weight': 7, 'eta': 6.768150670535391e-08, 'gamma': 0.23576496879563485, 'grow_policy': 'lossguide', 'sample_type': 'uniform', 'normalize_type': 'forest', 'rate_drop': 2.6148773038909074e-07, 'skip_drop': 2.531355564000307e-08}. Best is trial 24 with value: 43.87762159923504.\n",
      "[I 2024-06-20 05:08:04,439] Trial 62 finished with value: 43.816211209098405 and parameters: {'booster': 'dart', 'lambda': 8.521862985586985e-05, 'alpha': 3.1643733560438364e-07, 'learning_rate': 0.0011307696435248302, 'subsample': 0.26417409876397135, 'colsample_bytree': 0.39548612248380205, 'max_depth': 7, 'min_child_weight': 8, 'eta': 9.377891830682196e-08, 'gamma': 0.39381919780964614, 'grow_policy': 'lossguide', 'sample_type': 'uniform', 'normalize_type': 'forest', 'rate_drop': 2.891297985497439e-07, 'skip_drop': 2.1657510388702153e-08}. Best is trial 62 with value: 43.816211209098405.\n"
     ]
    },
    {
     "name": "stdout",
     "output_type": "stream",
     "text": [
      "Trial: 61 - MSE: 43.92774642015061 - RMSE: 6.627801024483959\n",
      "Trial: 62 - MSE: 43.816211209098405 - RMSE: 6.619381482366642\n"
     ]
    },
    {
     "name": "stderr",
     "output_type": "stream",
     "text": [
      "[I 2024-06-20 05:08:04,562] Trial 63 finished with value: 43.8316007324581 and parameters: {'booster': 'dart', 'lambda': 0.00026910968912691516, 'alpha': 3.6008961735087295e-07, 'learning_rate': 0.0010193332693548558, 'subsample': 0.5029603618987928, 'colsample_bytree': 0.06210135511708137, 'max_depth': 7, 'min_child_weight': 9, 'eta': 8.453457616611275e-08, 'gamma': 0.09268806091350848, 'grow_policy': 'lossguide', 'sample_type': 'uniform', 'normalize_type': 'forest', 'rate_drop': 2.543248917243378e-07, 'skip_drop': 1.4885658118733085e-08}. Best is trial 62 with value: 43.816211209098405.\n"
     ]
    },
    {
     "name": "stdout",
     "output_type": "stream",
     "text": [
      "Trial: 63 - MSE: 43.8316007324581 - RMSE: 6.620543839629649\n"
     ]
    },
    {
     "name": "stderr",
     "output_type": "stream",
     "text": [
      "[I 2024-06-20 05:08:04,646] Trial 64 finished with value: 43.81777603154197 and parameters: {'booster': 'dart', 'lambda': 0.00026333333205784176, 'alpha': 2.8218094609885297e-07, 'learning_rate': 0.0010024467174346693, 'subsample': 0.49283463902892244, 'colsample_bytree': 0.05516229350171836, 'max_depth': 7, 'min_child_weight': 9, 'eta': 8.918365271342961e-08, 'gamma': 0.29739374124748, 'grow_policy': 'lossguide', 'sample_type': 'uniform', 'normalize_type': 'forest', 'rate_drop': 2.4131206194139585e-07, 'skip_drop': 1.167261971110131e-08}. Best is trial 62 with value: 43.816211209098405.\n",
      "[I 2024-06-20 05:08:04,717] Trial 65 finished with value: 43.925175397527354 and parameters: {'booster': 'dart', 'lambda': 0.0037951283587454297, 'alpha': 2.3557350505935127e-07, 'learning_rate': 0.0014495501904767984, 'subsample': 0.5014846369490035, 'colsample_bytree': 0.06336229911941096, 'max_depth': 7, 'min_child_weight': 9, 'eta': 2.673213270934417e-08, 'gamma': 0.09039976844321373, 'grow_policy': 'lossguide', 'sample_type': 'uniform', 'normalize_type': 'forest', 'rate_drop': 3.119751184575674e-07, 'skip_drop': 1.1554932824689052e-08}. Best is trial 62 with value: 43.816211209098405.\n"
     ]
    },
    {
     "name": "stdout",
     "output_type": "stream",
     "text": [
      "Trial: 64 - MSE: 43.81777603154197 - RMSE: 6.619499681361271\n",
      "Trial: 65 - MSE: 43.925175397527354 - RMSE: 6.627607064207062\n"
     ]
    },
    {
     "name": "stderr",
     "output_type": "stream",
     "text": [
      "[I 2024-06-20 05:08:04,789] Trial 66 finished with value: 44.10967217970142 and parameters: {'booster': 'dart', 'lambda': 0.013802987704286505, 'alpha': 3.640205274284247e-07, 'learning_rate': 0.0022108049266059983, 'subsample': 0.5692283831168033, 'colsample_bytree': 0.08378267390993752, 'max_depth': 7, 'min_child_weight': 9, 'eta': 1.386395786676809e-07, 'gamma': 0.07873003321006632, 'grow_policy': 'lossguide', 'sample_type': 'uniform', 'normalize_type': 'forest', 'rate_drop': 1.3220241777585996e-08, 'skip_drop': 1.041377839316043e-08}. Best is trial 62 with value: 43.816211209098405.\n"
     ]
    },
    {
     "name": "stdout",
     "output_type": "stream",
     "text": [
      "Trial: 66 - MSE: 44.10967217970142 - RMSE: 6.641511287327713\n",
      "Trial: 67 - MSE: 43.82859309691878 - RMSE: 6.620316691588007\n"
     ]
    },
    {
     "name": "stderr",
     "output_type": "stream",
     "text": [
      "[I 2024-06-20 05:08:04,849] Trial 67 finished with value: 43.82859309691878 and parameters: {'booster': 'dart', 'lambda': 0.00338884915795809, 'alpha': 9.353351927175866e-08, 'learning_rate': 0.0013893443115889604, 'subsample': 0.49764595105604426, 'colsample_bytree': 0.05173069423454985, 'max_depth': 7, 'min_child_weight': 10, 'eta': 2.4791830170315115e-08, 'gamma': 0.024873923449413957, 'grow_policy': 'lossguide', 'sample_type': 'uniform', 'normalize_type': 'forest', 'rate_drop': 0.5850681033513354, 'skip_drop': 1.2838207797075454e-08}. Best is trial 62 with value: 43.816211209098405.\n",
      "[I 2024-06-20 05:08:04,911] Trial 68 finished with value: 43.83157806757387 and parameters: {'booster': 'dart', 'lambda': 0.0023665144367135357, 'alpha': 1.177797437647647e-07, 'learning_rate': 0.0014214002683719618, 'subsample': 0.48356544030088017, 'colsample_bytree': 0.05150249424979045, 'max_depth': 7, 'min_child_weight': 10, 'eta': 1.89870310057721e-08, 'gamma': 0.027787934394355847, 'grow_policy': 'lossguide', 'sample_type': 'uniform', 'normalize_type': 'forest', 'rate_drop': 0.2285011333248689, 'skip_drop': 1.1397752509329055e-08}. Best is trial 62 with value: 43.816211209098405.\n",
      "[I 2024-06-20 05:08:04,970] Trial 69 finished with value: 43.870090705529684 and parameters: {'booster': 'dart', 'lambda': 0.0006799617514854285, 'alpha': 8.46379560378133e-08, 'learning_rate': 0.0016893425124769814, 'subsample': 0.4801091203756993, 'colsample_bytree': 0.1346718235040806, 'max_depth': 7, 'min_child_weight': 10, 'eta': 1.9290297234964337e-08, 'gamma': 0.00685942033062156, 'grow_policy': 'lossguide', 'sample_type': 'uniform', 'normalize_type': 'forest', 'rate_drop': 0.45647407562080433, 'skip_drop': 2.0229769816585864e-08}. Best is trial 62 with value: 43.816211209098405.\n"
     ]
    },
    {
     "name": "stdout",
     "output_type": "stream",
     "text": [
      "Trial: 68 - MSE: 43.83157806757387 - RMSE: 6.620542127920785\n",
      "Trial: 69 - MSE: 43.870090705529684 - RMSE: 6.623450060620196\n"
     ]
    },
    {
     "name": "stderr",
     "output_type": "stream",
     "text": [
      "[I 2024-06-20 05:08:05,029] Trial 70 finished with value: 43.88096053111971 and parameters: {'booster': 'dart', 'lambda': 0.0007439808559572258, 'alpha': 1.200492630304006e-08, 'learning_rate': 0.0017897675514147824, 'subsample': 0.47428084080585814, 'colsample_bytree': 0.13671131255763844, 'max_depth': 7, 'min_child_weight': 10, 'eta': 2.4048453455417187e-08, 'gamma': 0.006279236194146974, 'grow_policy': 'lossguide', 'sample_type': 'uniform', 'normalize_type': 'forest', 'rate_drop': 0.6503861396044677, 'skip_drop': 1.9502887225083653e-08}. Best is trial 62 with value: 43.816211209098405.\n",
      "[I 2024-06-20 05:08:05,087] Trial 71 finished with value: 43.88435704083868 and parameters: {'booster': 'dart', 'lambda': 0.0007692976134647128, 'alpha': 3.711415972041882e-08, 'learning_rate': 0.0017795233737699775, 'subsample': 0.4862330828488633, 'colsample_bytree': 0.13402464508335413, 'max_depth': 7, 'min_child_weight': 10, 'eta': 1.9611290282830938e-08, 'gamma': 0.006466357929033593, 'grow_policy': 'lossguide', 'sample_type': 'uniform', 'normalize_type': 'forest', 'rate_drop': 0.8597054579699203, 'skip_drop': 2.2203009290239985e-08}. Best is trial 62 with value: 43.816211209098405.\n"
     ]
    },
    {
     "name": "stdout",
     "output_type": "stream",
     "text": [
      "Trial: 70 - MSE: 43.88096053111971 - RMSE: 6.6242705659657135\n",
      "Trial: 71 - MSE: 43.88435704083868 - RMSE: 6.624526929588156\n"
     ]
    },
    {
     "name": "stderr",
     "output_type": "stream",
     "text": [
      "[I 2024-06-20 05:08:05,151] Trial 72 finished with value: 43.841104525989735 and parameters: {'booster': 'dart', 'lambda': 0.002300238811218362, 'alpha': 1.085682609425891e-08, 'learning_rate': 0.0013972753025784002, 'subsample': 0.5501129271506042, 'colsample_bytree': 0.13361888300747835, 'max_depth': 7, 'min_child_weight': 10, 'eta': 1.671825711968351e-08, 'gamma': 0.019852471283563527, 'grow_policy': 'lossguide', 'sample_type': 'uniform', 'normalize_type': 'forest', 'rate_drop': 0.4459145849645006, 'skip_drop': 1.0398615381692598e-08}. Best is trial 62 with value: 43.816211209098405.\n",
      "[I 2024-06-20 05:08:05,216] Trial 73 finished with value: 43.91810761531456 and parameters: {'booster': 'dart', 'lambda': 0.009306653460530778, 'alpha': 1.2012507767712985e-07, 'learning_rate': 0.0013904348157454467, 'subsample': 0.5395517257794884, 'colsample_bytree': 0.18289990042962853, 'max_depth': 7, 'min_child_weight': 9, 'eta': 1.1091501066870598e-08, 'gamma': 0.020365759618105068, 'grow_policy': 'lossguide', 'sample_type': 'uniform', 'normalize_type': 'forest', 'rate_drop': 0.15533838957325322, 'skip_drop': 1.1631149076481865e-08}. Best is trial 62 with value: 43.816211209098405.\n"
     ]
    },
    {
     "name": "stdout",
     "output_type": "stream",
     "text": [
      "Trial: 72 - MSE: 43.841104525989735 - RMSE: 6.621261550942519\n",
      "Trial: 73 - MSE: 43.91810761531456 - RMSE: 6.627073835058318\n"
     ]
    },
    {
     "name": "stderr",
     "output_type": "stream",
     "text": [
      "[I 2024-06-20 05:08:05,280] Trial 74 finished with value: 43.793733900504755 and parameters: {'booster': 'dart', 'lambda': 0.0021423939045544745, 'alpha': 2.008159232915984e-08, 'learning_rate': 0.0011856011593230906, 'subsample': 0.5733643525582726, 'colsample_bytree': 0.05259605813181584, 'max_depth': 7, 'min_child_weight': 10, 'eta': 4.512526135097836e-08, 'gamma': 0.03153056898161129, 'grow_policy': 'lossguide', 'sample_type': 'uniform', 'normalize_type': 'forest', 'rate_drop': 0.20171241847794255, 'skip_drop': 2.710811339738027e-08}. Best is trial 74 with value: 43.793733900504755.\n"
     ]
    },
    {
     "name": "stdout",
     "output_type": "stream",
     "text": [
      "Trial: 74 - MSE: 43.793733900504755 - RMSE: 6.6176834240166515\n"
     ]
    },
    {
     "name": "stderr",
     "output_type": "stream",
     "text": [
      "[I 2024-06-20 05:08:05,367] Trial 75 finished with value: 43.978238387988604 and parameters: {'booster': 'dart', 'lambda': 0.0023870654523276786, 'alpha': 1.9005487502023584e-08, 'learning_rate': 0.0023646987977884344, 'subsample': 0.580906690704017, 'colsample_bytree': 0.05184995420793144, 'max_depth': 7, 'min_child_weight': 10, 'eta': 4.414528650851064e-08, 'gamma': 0.028774430471842218, 'grow_policy': 'lossguide', 'sample_type': 'uniform', 'normalize_type': 'forest', 'rate_drop': 0.19299026313961393, 'skip_drop': 2.858605112981623e-08}. Best is trial 74 with value: 43.793733900504755.\n",
      "[I 2024-06-20 05:08:05,450] Trial 76 finished with value: 43.75760118746269 and parameters: {'booster': 'dart', 'lambda': 0.0024452704027239113, 'alpha': 9.343841545377376e-08, 'learning_rate': 0.0011864038988727342, 'subsample': 0.4463526264918223, 'colsample_bytree': 0.10720557245777493, 'max_depth': 7, 'min_child_weight': 10, 'eta': 1.7881302945714416e-07, 'gamma': 0.0027623756876478498, 'grow_policy': 'lossguide', 'sample_type': 'uniform', 'normalize_type': 'forest', 'rate_drop': 0.04755058160503119, 'skip_drop': 1.2227668282421813e-07}. Best is trial 76 with value: 43.75760118746269.\n"
     ]
    },
    {
     "name": "stdout",
     "output_type": "stream",
     "text": [
      "Trial: 75 - MSE: 43.978238387988604 - RMSE: 6.631609034615099\n",
      "Trial: 76 - MSE: 43.75760118746269 - RMSE: 6.614952848468588\n"
     ]
    },
    {
     "name": "stderr",
     "output_type": "stream",
     "text": [
      "[I 2024-06-20 05:08:05,507] Trial 77 finished with value: 44.14901991999568 and parameters: {'booster': 'gbtree', 'lambda': 0.025812210720989666, 'alpha': 3.307464943986924e-08, 'learning_rate': 0.0013770382118078956, 'subsample': 0.6515637866849944, 'colsample_bytree': 0.10602425238281721, 'max_depth': 7, 'min_child_weight': 8, 'eta': 2.2208280690057626e-07, 'gamma': 0.0023885748862707305, 'grow_policy': 'lossguide'}. Best is trial 76 with value: 43.75760118746269.\n"
     ]
    },
    {
     "name": "stdout",
     "output_type": "stream",
     "text": [
      "Trial: 77 - MSE: 44.14901991999568 - RMSE: 6.644472885037284\n"
     ]
    },
    {
     "name": "stderr",
     "output_type": "stream",
     "text": [
      "[I 2024-06-20 05:08:05,584] Trial 78 finished with value: 43.810942659994815 and parameters: {'booster': 'dart', 'lambda': 0.0018724578928714388, 'alpha': 1.860879332444079e-07, 'learning_rate': 0.0011963974294222416, 'subsample': 0.5387593773258993, 'colsample_bytree': 0.09360210472958616, 'max_depth': 5, 'min_child_weight': 10, 'eta': 1.1884183695484149e-07, 'gamma': 0.0005158994691396407, 'grow_policy': 'lossguide', 'sample_type': 'uniform', 'normalize_type': 'forest', 'rate_drop': 0.051088858434921496, 'skip_drop': 1.0564225426104446e-07}. Best is trial 76 with value: 43.75760118746269.\n",
      "[I 2024-06-20 05:08:05,667] Trial 79 finished with value: 43.78057349731547 and parameters: {'booster': 'dart', 'lambda': 0.0015317143931660735, 'alpha': 2.1159439531503118e-07, 'learning_rate': 0.0011895570191117282, 'subsample': 0.43459705592818787, 'colsample_bytree': 0.09522102330629806, 'max_depth': 5, 'min_child_weight': 9, 'eta': 1.256184167662078e-07, 'gamma': 0.0004896700044140951, 'grow_policy': 'lossguide', 'sample_type': 'uniform', 'normalize_type': 'forest', 'rate_drop': 0.02516400011612286, 'skip_drop': 0.036149023925450885}. Best is trial 76 with value: 43.75760118746269.\n"
     ]
    },
    {
     "name": "stdout",
     "output_type": "stream",
     "text": [
      "Trial: 78 - MSE: 43.810942659994815 - RMSE: 6.618983506551048\n",
      "Trial: 79 - MSE: 43.78057349731547 - RMSE: 6.616689013193493\n"
     ]
    },
    {
     "name": "stderr",
     "output_type": "stream",
     "text": [
      "[I 2024-06-20 05:08:05,803] Trial 80 finished with value: 43.783049818150246 and parameters: {'booster': 'dart', 'lambda': 0.056942432011848246, 'alpha': 1.634379705958994e-07, 'learning_rate': 0.0012013759270505617, 'subsample': 0.443456273173628, 'colsample_bytree': 0.18026743736313044, 'max_depth': 5, 'min_child_weight': 9, 'eta': 3.708754787356093e-07, 'gamma': 0.0005133762384251151, 'grow_policy': 'lossguide', 'sample_type': 'weighted', 'normalize_type': 'tree', 'rate_drop': 0.026784673056034262, 'skip_drop': 0.09672180795563623}. Best is trial 76 with value: 43.75760118746269.\n",
      "[I 2024-06-20 05:08:05,996] Trial 81 finished with value: 43.8651768758475 and parameters: {'booster': 'dart', 'lambda': 0.3006387376721299, 'alpha': 1.4435140269630158e-07, 'learning_rate': 0.0012297204738081042, 'subsample': 0.5322932031647402, 'colsample_bytree': 0.19500672749601505, 'max_depth': 5, 'min_child_weight': 9, 'eta': 1.2323746721055763e-07, 'gamma': 0.0006146637991503939, 'grow_policy': 'lossguide', 'sample_type': 'weighted', 'normalize_type': 'tree', 'rate_drop': 0.04997031900313606, 'skip_drop': 0.21616079731538715}. Best is trial 76 with value: 43.75760118746269.\n"
     ]
    },
    {
     "name": "stdout",
     "output_type": "stream",
     "text": [
      "Trial: 80 - MSE: 43.783049818150246 - RMSE: 6.61687613743451\n",
      "Trial: 81 - MSE: 43.8651768758475 - RMSE: 6.623079108379086\n"
     ]
    },
    {
     "name": "stderr",
     "output_type": "stream",
     "text": [
      "[I 2024-06-20 05:08:06,111] Trial 82 finished with value: 43.84005860370114 and parameters: {'booster': 'dart', 'lambda': 0.05938239160482944, 'alpha': 5.9417965149663226e-08, 'learning_rate': 0.0011628129023729854, 'subsample': 0.46152233007227184, 'colsample_bytree': 0.10010767876285995, 'max_depth': 5, 'min_child_weight': 8, 'eta': 4.5432339199676534e-08, 'gamma': 0.0002784301266798542, 'grow_policy': 'lossguide', 'sample_type': 'weighted', 'normalize_type': 'tree', 'rate_drop': 0.03625862830730236, 'skip_drop': 0.03973963794260395}. Best is trial 76 with value: 43.75760118746269.\n",
      "[I 2024-06-20 05:08:06,185] Trial 83 finished with value: 43.866598160562916 and parameters: {'booster': 'dart', 'lambda': 0.0013506559954567818, 'alpha': 2.0164902600865543e-07, 'learning_rate': 0.0019675255336545783, 'subsample': 0.4403201659153445, 'colsample_bytree': 0.17281383015181795, 'max_depth': 3, 'min_child_weight': 10, 'eta': 3.7947883002650657e-07, 'gamma': 0.0010894902133044319, 'grow_policy': 'lossguide', 'sample_type': 'weighted', 'normalize_type': 'tree', 'rate_drop': 0.017440239069500534, 'skip_drop': 0.023569586857375317}. Best is trial 76 with value: 43.75760118746269.\n",
      "[I 2024-06-20 05:08:06,249] Trial 84 finished with value: 43.836598464352576 and parameters: {'booster': 'dart', 'lambda': 0.006230930640628271, 'alpha': 3.9671633857776543e-07, 'learning_rate': 0.001602279865105907, 'subsample': 0.4197048954572705, 'colsample_bytree': 0.23597210790811907, 'max_depth': 5, 'min_child_weight': 9, 'eta': 6.499733386261618e-07, 'gamma': 8.082000923353965e-05, 'grow_policy': 'lossguide', 'sample_type': 'weighted', 'normalize_type': 'tree', 'rate_drop': 0.06257331465041377, 'skip_drop': 0.0044803910049243285}. Best is trial 76 with value: 43.75760118746269.\n"
     ]
    },
    {
     "name": "stdout",
     "output_type": "stream",
     "text": [
      "Trial: 82 - MSE: 43.84005860370114 - RMSE: 6.621182568371086\n",
      "Trial: 83 - MSE: 43.866598160562916 - RMSE: 6.62318640539151\n",
      "Trial: 84 - MSE: 43.836598464352576 - RMSE: 6.620921270061484\n"
     ]
    },
    {
     "name": "stderr",
     "output_type": "stream",
     "text": [
      "[I 2024-06-20 05:08:06,313] Trial 85 finished with value: 43.86640134377846 and parameters: {'booster': 'dart', 'lambda': 0.0033727092139166463, 'alpha': 6.570008334394433e-08, 'learning_rate': 0.001146102032356152, 'subsample': 0.5978617278229662, 'colsample_bytree': 0.09570348722326885, 'max_depth': 5, 'min_child_weight': 10, 'eta': 1.4918492997441636e-07, 'gamma': 0.0004643940020672769, 'grow_policy': 'lossguide', 'sample_type': 'uniform', 'normalize_type': 'forest', 'rate_drop': 0.016210731366860593, 'skip_drop': 0.08308914455488563}. Best is trial 76 with value: 43.75760118746269.\n",
      "[I 2024-06-20 05:08:06,374] Trial 86 finished with value: 43.79291671839546 and parameters: {'booster': 'dart', 'lambda': 0.0018969572473806295, 'alpha': 1.9976944737247795e-06, 'learning_rate': 0.0011592150359282852, 'subsample': 0.5570748199175575, 'colsample_bytree': 0.07993968643026761, 'max_depth': 5, 'min_child_weight': 10, 'eta': 2.4615446638008557e-07, 'gamma': 8.881296807290415e-05, 'grow_policy': 'lossguide', 'sample_type': 'uniform', 'normalize_type': 'forest', 'rate_drop': 0.21998622982391672, 'skip_drop': 1.2722168133732683e-07}. Best is trial 76 with value: 43.75760118746269.\n",
      "[I 2024-06-20 05:08:06,436] Trial 87 finished with value: 44.24786572150255 and parameters: {'booster': 'dart', 'lambda': 0.008650349819231276, 'alpha': 2.425123827659537e-06, 'learning_rate': 0.0028111031432985446, 'subsample': 0.5593433241828117, 'colsample_bytree': 0.1602088717155493, 'max_depth': 5, 'min_child_weight': 8, 'eta': 1.1266958623053128e-06, 'gamma': 7.437120498981695e-05, 'grow_policy': 'lossguide', 'sample_type': 'uniform', 'normalize_type': 'forest', 'rate_drop': 0.09012662792547567, 'skip_drop': 0.005711821545705355}. Best is trial 76 with value: 43.75760118746269.\n",
      "[I 2024-06-20 05:08:06,499] Trial 88 finished with value: 43.875892544983074 and parameters: {'booster': 'dart', 'lambda': 0.04693770533468097, 'alpha': 5.511787396703717e-07, 'learning_rate': 0.0011421395429246897, 'subsample': 0.589481784244287, 'colsample_bytree': 0.08045231389974689, 'max_depth': 5, 'min_child_weight': 9, 'eta': 2.7348684280984976e-07, 'gamma': 2.7526726436271465e-05, 'grow_policy': 'depthwise', 'sample_type': 'weighted', 'normalize_type': 'forest', 'rate_drop': 0.014886484058021066, 'skip_drop': 1.2108092042852164e-07}. Best is trial 76 with value: 43.75760118746269.\n"
     ]
    },
    {
     "name": "stdout",
     "output_type": "stream",
     "text": [
      "Trial: 85 - MSE: 43.86640134377846 - RMSE: 6.62317154721048\n",
      "Trial: 86 - MSE: 43.79291671839546 - RMSE: 6.617621681419652\n",
      "Trial: 87 - MSE: 44.24786572150255 - RMSE: 6.651906923695081\n",
      "Trial: 88 - MSE: 43.875892544983074 - RMSE: 6.623888023282329\n"
     ]
    },
    {
     "name": "stderr",
     "output_type": "stream",
     "text": [
      "[I 2024-06-20 05:08:06,565] Trial 89 finished with value: 43.82739610967134 and parameters: {'booster': 'dart', 'lambda': 0.12237775662369006, 'alpha': 1.8035583669521433e-08, 'learning_rate': 0.0012912676544600118, 'subsample': 0.5220814258131354, 'colsample_bytree': 0.11579770605669884, 'max_depth': 3, 'min_child_weight': 10, 'eta': 5.131193037203281e-07, 'gamma': 0.00015540075082108657, 'grow_policy': 'lossguide', 'sample_type': 'uniform', 'normalize_type': 'tree', 'rate_drop': 0.005585231260467053, 'skip_drop': 0.09788979362587479}. Best is trial 76 with value: 43.75760118746269.\n",
      "[I 2024-06-20 05:08:06,623] Trial 90 finished with value: 44.016289782922875 and parameters: {'booster': 'gbtree', 'lambda': 0.2816300715692422, 'alpha': 1.709560995730112e-08, 'learning_rate': 0.0016188243578103062, 'subsample': 0.5218673196497473, 'colsample_bytree': 0.11128388393022795, 'max_depth': 3, 'min_child_weight': 9, 'eta': 3.942033762495956e-07, 'gamma': 0.00012733251541327762, 'grow_policy': 'lossguide'}. Best is trial 76 with value: 43.75760118746269.\n",
      "[I 2024-06-20 05:08:06,710] Trial 91 finished with value: 43.842377471727985 and parameters: {'booster': 'dart', 'lambda': 0.807018812703779, 'alpha': 1.900895151796286e-07, 'learning_rate': 0.0012839836076744457, 'subsample': 0.6190465063702209, 'colsample_bytree': 0.07661873790316373, 'max_depth': 5, 'min_child_weight': 10, 'eta': 8.48572663196257e-08, 'gamma': 4.251670602745236e-05, 'grow_policy': 'lossguide', 'sample_type': 'uniform', 'normalize_type': 'tree', 'rate_drop': 0.008198390942841947, 'skip_drop': 0.2280425194526758}. Best is trial 76 with value: 43.75760118746269.\n"
     ]
    },
    {
     "name": "stdout",
     "output_type": "stream",
     "text": [
      "Trial: 89 - MSE: 43.82739610967134 - RMSE: 6.6202262884036935\n",
      "Trial: 90 - MSE: 44.016289782922875 - RMSE: 6.6344773556718755\n",
      "Trial: 91 - MSE: 43.842377471727985 - RMSE: 6.621357675864368\n"
     ]
    },
    {
     "name": "stderr",
     "output_type": "stream",
     "text": [
      "[I 2024-06-20 05:08:06,839] Trial 92 finished with value: 43.93757266779656 and parameters: {'booster': 'dart', 'lambda': 8.193885708162503e-05, 'alpha': 2.414025937172636e-08, 'learning_rate': 0.001141844933613759, 'subsample': 0.5275034888401401, 'colsample_bytree': 0.1180115714550482, 'max_depth': 3, 'min_child_weight': 10, 'eta': 1.9672956442166906e-07, 'gamma': 0.00032142839663529016, 'grow_policy': 'lossguide', 'sample_type': 'uniform', 'normalize_type': 'tree', 'rate_drop': 0.03505014058890172, 'skip_drop': 0.5418296283720401}. Best is trial 76 with value: 43.75760118746269.\n",
      "[I 2024-06-20 05:08:06,918] Trial 93 finished with value: 43.75738721705454 and parameters: {'booster': 'dart', 'lambda': 0.0017586206157034748, 'alpha': 4.50273184369549e-08, 'learning_rate': 0.0013121789063029298, 'subsample': 0.41213734157363835, 'colsample_bytree': 0.1611597037187561, 'max_depth': 3, 'min_child_weight': 10, 'eta': 4.641153223811685e-08, 'gamma': 0.0006872086181180318, 'grow_policy': 'lossguide', 'sample_type': 'uniform', 'normalize_type': 'tree', 'rate_drop': 0.3083535111007091, 'skip_drop': 0.08125508254588887}. Best is trial 93 with value: 43.75738721705454.\n",
      "[I 2024-06-20 05:08:06,982] Trial 94 finished with value: 43.77948162278291 and parameters: {'booster': 'dart', 'lambda': 0.17807486737297165, 'alpha': 5.111671349479049e-08, 'learning_rate': 0.0012288397358762406, 'subsample': 0.4117764704429877, 'colsample_bytree': 0.2967146035216177, 'max_depth': 3, 'min_child_weight': 10, 'eta': 5.888573949422522e-08, 'gamma': 0.0010673360990154537, 'grow_policy': 'lossguide', 'sample_type': 'uniform', 'normalize_type': 'tree', 'rate_drop': 0.0016124000493543012, 'skip_drop': 0.0885279270184062}. Best is trial 93 with value: 43.75738721705454.\n"
     ]
    },
    {
     "name": "stdout",
     "output_type": "stream",
     "text": [
      "Trial: 92 - MSE: 43.93757266779656 - RMSE: 6.62854227321487\n",
      "Trial: 93 - MSE: 43.75738721705454 - RMSE: 6.614936675211226\n",
      "Trial: 94 - MSE: 43.77948162278291 - RMSE: 6.616606503547185\n"
     ]
    },
    {
     "name": "stderr",
     "output_type": "stream",
     "text": [
      "[I 2024-06-20 05:08:07,047] Trial 95 finished with value: 58.48920552027598 and parameters: {'booster': 'dart', 'lambda': 0.0015547916136135678, 'alpha': 5.0576019791781e-08, 'learning_rate': 0.09913175188404053, 'subsample': 0.40846882678904506, 'colsample_bytree': 0.27527432563722837, 'max_depth': 3, 'min_child_weight': 9, 'eta': 4.517349732032842e-08, 'gamma': 0.0013503358134479078, 'grow_policy': 'lossguide', 'sample_type': 'uniform', 'normalize_type': 'tree', 'rate_drop': 0.0011506504777227078, 'skip_drop': 0.060048241033038345}. Best is trial 93 with value: 43.75738721705454.\n",
      "[I 2024-06-20 05:08:07,126] Trial 96 finished with value: 43.88997506609864 and parameters: {'booster': 'dart', 'lambda': 0.0004592983692121953, 'alpha': 1.1610552259364719e-06, 'learning_rate': 0.00207927216428196, 'subsample': 0.3673956013809959, 'colsample_bytree': 0.15393429650221133, 'max_depth': 3, 'min_child_weight': 9, 'eta': 1.3486240348550466e-07, 'gamma': 0.0032532294175241345, 'grow_policy': 'lossguide', 'sample_type': 'uniform', 'normalize_type': 'tree', 'rate_drop': 0.2740700569992993, 'skip_drop': 0.010110106343813392}. Best is trial 93 with value: 43.75738721705454.\n",
      "[I 2024-06-20 05:08:07,223] Trial 97 finished with value: 43.79746548972348 and parameters: {'booster': 'dart', 'lambda': 0.14123814218174194, 'alpha': 1.5319877422949095e-07, 'learning_rate': 0.001124162869224377, 'subsample': 0.44780041376574736, 'colsample_bytree': 0.3193811876217453, 'max_depth': 5, 'min_child_weight': 9, 'eta': 6.291787869388583e-08, 'gamma': 0.0006873957639242095, 'grow_policy': 'lossguide', 'sample_type': 'uniform', 'normalize_type': 'tree', 'rate_drop': 0.10269843013448746, 'skip_drop': 0.18426224837014438}. Best is trial 93 with value: 43.75738721705454.\n"
     ]
    },
    {
     "name": "stdout",
     "output_type": "stream",
     "text": [
      "Trial: 95 - MSE: 58.48920552027598 - RMSE: 7.647823580619259\n",
      "Trial: 96 - MSE: 43.88997506609864 - RMSE: 6.624950948203212\n",
      "Trial: 97 - MSE: 43.79746548972348 - RMSE: 6.617965358758195\n"
     ]
    },
    {
     "name": "stderr",
     "output_type": "stream",
     "text": [
      "[I 2024-06-20 05:08:07,293] Trial 98 finished with value: 43.86429643482402 and parameters: {'booster': 'dart', 'lambda': 0.1249696496803101, 'alpha': 1.6691548996298033e-07, 'learning_rate': 0.0015217936554044935, 'subsample': 0.4491429230627066, 'colsample_bytree': 0.34113050274727, 'max_depth': 5, 'min_child_weight': 10, 'eta': 6.066223954803758e-08, 'gamma': 0.0008529234333212736, 'grow_policy': 'depthwise', 'sample_type': 'uniform', 'normalize_type': 'tree', 'rate_drop': 0.08755222633058918, 'skip_drop': 0.16997851091206043}. Best is trial 93 with value: 43.75738721705454.\n",
      "[I 2024-06-20 05:08:07,362] Trial 99 finished with value: 46.56677110874584 and parameters: {'booster': 'dart', 'lambda': 0.4337294737418141, 'alpha': 4.7411794989053646e-08, 'learning_rate': 0.013320723129777168, 'subsample': 0.4322467339945157, 'colsample_bytree': 0.39618832277004334, 'max_depth': 5, 'min_child_weight': 10, 'eta': 3.39168911048647e-08, 'gamma': 0.000453214640857378, 'grow_policy': 'lossguide', 'sample_type': 'uniform', 'normalize_type': 'tree', 'rate_drop': 0.11645733207584189, 'skip_drop': 0.40056551916877353}. Best is trial 93 with value: 43.75738721705454.\n"
     ]
    },
    {
     "name": "stdout",
     "output_type": "stream",
     "text": [
      "Trial: 98 - MSE: 43.86429643482402 - RMSE: 6.623012640394402\n",
      "Trial: 99 - MSE: 46.56677110874584 - RMSE: 6.823984987435556\n"
     ]
    }
   ],
   "source": [
    "# configuration optuna\n",
    "study_st = optuna.create_study(direction='minimize')\n",
    "study_st.optimize(lambda trial: objective(trial, X_st_train, y_st_train, X_st_test, y_st_test), n_trials=n_trials)"
   ]
  },
  {
   "cell_type": "code",
   "execution_count": 27,
   "metadata": {},
   "outputs": [
    {
     "name": "stdout",
     "output_type": "stream",
     "text": [
      "Número de pruebas: 100\n",
      "Mejor prueba: 93\n",
      "Mejores parametros: {'booster': 'dart', 'lambda': 0.0017586206157034748, 'alpha': 4.50273184369549e-08, 'learning_rate': 0.0013121789063029298, 'subsample': 0.41213734157363835, 'colsample_bytree': 0.1611597037187561, 'max_depth': 3, 'min_child_weight': 10, 'eta': 4.641153223811685e-08, 'gamma': 0.0006872086181180318, 'grow_policy': 'lossguide', 'sample_type': 'uniform', 'normalize_type': 'tree', 'rate_drop': 0.3083535111007091, 'skip_drop': 0.08125508254588887}\n",
      "Mejor valor de pérdida en validación: 43.75738721705454\n"
     ]
    }
   ],
   "source": [
    "# Results\n",
    "print(f'Número de pruebas: {len(study_st.trials)}')\n",
    "trial = study_st.best_trial\n",
    "print(f'Mejor prueba: {trial.number}')\n",
    "print(f'Mejores parametros: {trial.params}')\n",
    "print(f'Mejor valor de pérdida en validación: {trial.value}')"
   ]
  },
  {
   "cell_type": "markdown",
   "metadata": {},
   "source": [
    "## Multi Thread"
   ]
  },
  {
   "cell_type": "code",
   "execution_count": 28,
   "metadata": {},
   "outputs": [
    {
     "name": "stderr",
     "output_type": "stream",
     "text": [
      "[I 2024-06-20 05:08:07,395] A new study created in memory with name: no-name-222650d0-f7c5-40d7-8a3d-3b9fd630d5d3\n",
      "[I 2024-06-20 05:08:07,563] Trial 0 finished with value: 645.0482203049585 and parameters: {'booster': 'gblinear', 'lambda': 1.566642925568928e-05, 'alpha': 9.897925502311528e-06, 'learning_rate': 0.001734402993756365, 'subsample': 0.3536040171548212, 'colsample_bytree': 0.7432931079469848}. Best is trial 0 with value: 645.0482203049585.\n"
     ]
    },
    {
     "name": "stdout",
     "output_type": "stream",
     "text": [
      "Trial: 0 - MSE: 645.0482203049585 - RMSE: 25.3977995169849\n"
     ]
    },
    {
     "name": "stderr",
     "output_type": "stream",
     "text": [
      "[I 2024-06-20 05:08:07,595] Trial 1 finished with value: 610.7901270340824 and parameters: {'booster': 'gblinear', 'lambda': 2.8255132933587186e-07, 'alpha': 0.5788843170351062, 'learning_rate': 0.016421281349645316, 'subsample': 0.2925479624388597, 'colsample_bytree': 0.5906581923808469}. Best is trial 1 with value: 610.7901270340824.\n",
      "[I 2024-06-20 05:08:07,603] Trial 2 finished with value: 646.9861450659603 and parameters: {'booster': 'gblinear', 'lambda': 0.00019661514245719773, 'alpha': 2.4092625266629867e-05, 'learning_rate': 0.0011290062510884605, 'subsample': 0.23588512886395752, 'colsample_bytree': 0.22812292461155542}. Best is trial 1 with value: 610.7901270340824.\n",
      "[I 2024-06-20 05:08:07,643] Trial 3 finished with value: 626.8205511938669 and parameters: {'booster': 'gblinear', 'lambda': 7.609571060522389e-08, 'alpha': 4.4330488210452565e-05, 'learning_rate': 0.00914103962755503, 'subsample': 0.9990809819066233, 'colsample_bytree': 0.9786686366570218}. Best is trial 1 with value: 610.7901270340824.\n",
      "[I 2024-06-20 05:08:07,674] Trial 4 finished with value: 655.4280420053002 and parameters: {'booster': 'gbtree', 'lambda': 0.6316331751069615, 'alpha': 0.015016851216448232, 'learning_rate': 0.0017669788273479005, 'subsample': 0.48887182889444436, 'colsample_bytree': 0.2880059288010055, 'max_depth': 9, 'min_child_weight': 8, 'eta': 0.0006790884672762953, 'gamma': 8.714336599410647e-05, 'grow_policy': 'depthwise'}. Best is trial 1 with value: 610.7901270340824.\n",
      "[I 2024-06-20 05:08:07,698] Trial 5 finished with value: 658.7888563802878 and parameters: {'booster': 'dart', 'lambda': 1.2596412291359995e-06, 'alpha': 0.007485550588873554, 'learning_rate': 0.006592158443626645, 'subsample': 0.430921778037398, 'colsample_bytree': 0.4180341271948515, 'max_depth': 5, 'min_child_weight': 9, 'eta': 0.25695425011028256, 'gamma': 0.7409598259463934, 'grow_policy': 'depthwise', 'sample_type': 'uniform', 'normalize_type': 'tree', 'rate_drop': 0.005237463066461541, 'skip_drop': 0.007038690069242785}. Best is trial 1 with value: 610.7901270340824.\n",
      "[I 2024-06-20 05:08:07,713] Trial 6 finished with value: 664.6696777650578 and parameters: {'booster': 'gbtree', 'lambda': 3.678467613144153e-07, 'alpha': 0.0878684597723192, 'learning_rate': 0.03346676373533678, 'subsample': 0.46318489015963443, 'colsample_bytree': 0.09373406441227353, 'max_depth': 5, 'min_child_weight': 7, 'eta': 0.778434271751844, 'gamma': 4.878891765143208e-05, 'grow_policy': 'depthwise'}. Best is trial 1 with value: 610.7901270340824.\n",
      "[I 2024-06-20 05:08:07,742] Trial 7 finished with value: 656.5151700811832 and parameters: {'booster': 'dart', 'lambda': 0.014717725200079452, 'alpha': 0.01366998185876343, 'learning_rate': 0.0017134748647600702, 'subsample': 0.6815685475268931, 'colsample_bytree': 0.39210414279508315, 'max_depth': 5, 'min_child_weight': 4, 'eta': 0.8667170760006642, 'gamma': 7.089100381423231e-07, 'grow_policy': 'lossguide', 'sample_type': 'weighted', 'normalize_type': 'tree', 'rate_drop': 0.000126887915734875, 'skip_drop': 1.2948009172483708e-05}. Best is trial 1 with value: 610.7901270340824.\n"
     ]
    },
    {
     "name": "stdout",
     "output_type": "stream",
     "text": [
      "Trial: 1 - MSE: 610.7901270340824 - RMSE: 24.714168548306098\n",
      "Trial: 2 - MSE: 646.9861450659603 - RMSE: 25.43592233566458\n",
      "Trial: 3 - MSE: 626.8205511938669 - RMSE: 25.03638454717188\n",
      "Trial: 4 - MSE: 655.4280420053002 - RMSE: 25.601328910923748\n",
      "Trial: 5 - MSE: 658.7888563802878 - RMSE: 25.666882482691346\n",
      "Trial: 6 - MSE: 664.6696777650578 - RMSE: 25.78118844749128\n",
      "Trial: 7 - MSE: 656.5151700811832 - RMSE: 25.622551982212528\n"
     ]
    },
    {
     "name": "stderr",
     "output_type": "stream",
     "text": [
      "[I 2024-06-20 05:08:07,777] Trial 8 finished with value: 668.1667104701007 and parameters: {'booster': 'dart', 'lambda': 7.783117071354533e-07, 'alpha': 0.00015061563985039662, 'learning_rate': 0.013407487242460197, 'subsample': 0.25355002391081594, 'colsample_bytree': 0.5274180885262784, 'max_depth': 3, 'min_child_weight': 6, 'eta': 0.0627102818824803, 'gamma': 1.6003479591156951e-06, 'grow_policy': 'lossguide', 'sample_type': 'uniform', 'normalize_type': 'forest', 'rate_drop': 3.226580916099858e-05, 'skip_drop': 0.5039660803710911}. Best is trial 1 with value: 610.7901270340824.\n"
     ]
    },
    {
     "name": "stdout",
     "output_type": "stream",
     "text": [
      "Trial: 8 - MSE: 668.1667104701007 - RMSE: 25.848920876317074\n"
     ]
    },
    {
     "name": "stderr",
     "output_type": "stream",
     "text": [
      "[I 2024-06-20 05:08:07,817] Trial 9 finished with value: 655.2047273791568 and parameters: {'booster': 'gbtree', 'lambda': 4.330381073999298e-08, 'alpha': 1.8518081586078403e-06, 'learning_rate': 0.00347111993078405, 'subsample': 0.44547753181663285, 'colsample_bytree': 0.23831660038036218, 'max_depth': 5, 'min_child_weight': 2, 'eta': 1.8002528163232032e-07, 'gamma': 0.00019407540477490816, 'grow_policy': 'depthwise'}. Best is trial 1 with value: 610.7901270340824.\n",
      "[I 2024-06-20 05:08:07,856] Trial 10 finished with value: 649.1007954667095 and parameters: {'booster': 'gblinear', 'lambda': 0.00012282804592887405, 'alpha': 8.907484608495029e-08, 'learning_rate': 0.09745696379818272, 'subsample': 0.6960343143381263, 'colsample_bytree': 0.6543681165244726}. Best is trial 1 with value: 610.7901270340824.\n",
      "[I 2024-06-20 05:08:07,880] Trial 11 finished with value: 617.5493972148985 and parameters: {'booster': 'gblinear', 'lambda': 1.3266019613521181e-08, 'alpha': 0.0005544850856677035, 'learning_rate': 0.01556641228104742, 'subsample': 0.9988268060535048, 'colsample_bytree': 0.9255995602017186}. Best is trial 1 with value: 610.7901270340824.\n",
      "[I 2024-06-20 05:08:07,941] Trial 12 finished with value: 598.6365894024366 and parameters: {'booster': 'gblinear', 'lambda': 1.0034070409839959e-08, 'alpha': 0.8780417949387064, 'learning_rate': 0.02333941767829263, 'subsample': 0.965226654610634, 'colsample_bytree': 0.9574129508060162}. Best is trial 12 with value: 598.6365894024366.\n",
      "[I 2024-06-20 05:08:07,967] Trial 13 finished with value: 602.2897463797003 and parameters: {'booster': 'gblinear', 'lambda': 8.279810781761031e-06, 'alpha': 0.44293135753790164, 'learning_rate': 0.028917474886846328, 'subsample': 0.8355075861911581, 'colsample_bytree': 0.7955702215494049}. Best is trial 12 with value: 598.6365894024366.\n"
     ]
    },
    {
     "name": "stdout",
     "output_type": "stream",
     "text": [
      "Trial: 9 - MSE: 655.2047273791568 - RMSE: 25.596967151972454\n",
      "Trial: 10 - MSE: 649.1007954667095 - RMSE: 25.477456612988462\n",
      "Trial: 11 - MSE: 617.5493972148985 - RMSE: 24.850541185553656\n",
      "Trial: 12 - MSE: 598.6365894024366 - RMSE: 24.46705109739293\n",
      "Trial: 13 - MSE: 602.2897463797003 - RMSE: 24.54159217287461\n"
     ]
    },
    {
     "name": "stderr",
     "output_type": "stream",
     "text": [
      "[I 2024-06-20 05:08:07,990] Trial 14 finished with value: 588.8247235469605 and parameters: {'booster': 'gblinear', 'lambda': 0.0038896136898546006, 'alpha': 0.8641906058986562, 'learning_rate': 0.041793592875431315, 'subsample': 0.8509496553069191, 'colsample_bytree': 0.8109177456740312}. Best is trial 14 with value: 588.8247235469605.\n"
     ]
    },
    {
     "name": "stdout",
     "output_type": "stream",
     "text": [
      "Trial: 14 - MSE: 588.8247235469605 - RMSE: 24.265710860120304\n"
     ]
    },
    {
     "name": "stderr",
     "output_type": "stream",
     "text": [
      "[I 2024-06-20 05:08:08,045] Trial 15 finished with value: 586.0001573803937 and parameters: {'booster': 'gblinear', 'lambda': 0.0016215380068686353, 'alpha': 0.9968517387734678, 'learning_rate': 0.07595944838555627, 'subsample': 0.8612953407917128, 'colsample_bytree': 0.8496850787914247}. Best is trial 15 with value: 586.0001573803937.\n",
      "[I 2024-06-20 05:08:08,078] Trial 16 finished with value: 641.6625966185189 and parameters: {'booster': 'gblinear', 'lambda': 0.0037229905227623874, 'alpha': 0.0013463695663431471, 'learning_rate': 0.08539166565291652, 'subsample': 0.8359686819654388, 'colsample_bytree': 0.8344378572478056}. Best is trial 15 with value: 586.0001573803937.\n",
      "[I 2024-06-20 05:08:08,101] Trial 17 finished with value: 615.2121578240512 and parameters: {'booster': 'gblinear', 'lambda': 0.0029655666939346504, 'alpha': 0.08090319698091207, 'learning_rate': 0.04941140164009516, 'subsample': 0.8513024413145909, 'colsample_bytree': 0.678332125256419}. Best is trial 15 with value: 586.0001573803937.\n",
      "[I 2024-06-20 05:08:08,164] Trial 18 finished with value: 833.106617242307 and parameters: {'booster': 'dart', 'lambda': 0.0626348431620822, 'alpha': 0.09578424237927328, 'learning_rate': 0.048935285577769785, 'subsample': 0.7176242198666921, 'colsample_bytree': 0.8645697008653236, 'max_depth': 9, 'min_child_weight': 10, 'eta': 1.8398174460214073e-08, 'gamma': 1.3548273636314107e-08, 'grow_policy': 'lossguide', 'sample_type': 'weighted', 'normalize_type': 'forest', 'rate_drop': 1.1442343538275706e-08, 'skip_drop': 4.953071686305205e-08}. Best is trial 15 with value: 586.0001573803937.\n"
     ]
    },
    {
     "name": "stdout",
     "output_type": "stream",
     "text": [
      "Trial: 15 - MSE: 586.0001573803937 - RMSE: 24.20744012448226\n",
      "Trial: 16 - MSE: 641.6625966185189 - RMSE: 25.33105991897139\n",
      "Trial: 17 - MSE: 615.2121578240512 - RMSE: 24.803470681016623\n",
      "Trial: 18 - MSE: 833.106617242307 - RMSE: 28.86358635447624\n"
     ]
    },
    {
     "name": "stderr",
     "output_type": "stream",
     "text": [
      "[I 2024-06-20 05:08:08,218] Trial 19 finished with value: 785.4479840275729 and parameters: {'booster': 'gbtree', 'lambda': 0.0006650225906295671, 'alpha': 2.0523290930575235e-07, 'learning_rate': 0.04962610713065389, 'subsample': 0.6045249917972177, 'colsample_bytree': 0.7185653305622428, 'max_depth': 7, 'min_child_weight': 2, 'eta': 6.228706211740846e-06, 'gamma': 0.2539735868816787, 'grow_policy': 'lossguide'}. Best is trial 15 with value: 586.0001573803937.\n",
      "[I 2024-06-20 05:08:08,245] Trial 20 finished with value: 624.6566962740175 and parameters: {'booster': 'gblinear', 'lambda': 0.4321001697179235, 'alpha': 0.002775970634386703, 'learning_rate': 0.08669770086907533, 'subsample': 0.9053454368154439, 'colsample_bytree': 0.8536735168117755}. Best is trial 15 with value: 586.0001573803937.\n"
     ]
    },
    {
     "name": "stdout",
     "output_type": "stream",
     "text": [
      "Trial: 19 - MSE: 785.4479840275729 - RMSE: 28.025844929771036\n",
      "Trial: 20 - MSE: 624.6566962740175 - RMSE: 24.993132982361725\n"
     ]
    },
    {
     "name": "stderr",
     "output_type": "stream",
     "text": [
      "[I 2024-06-20 05:08:08,268] Trial 21 finished with value: 601.679906055707 and parameters: {'booster': 'gblinear', 'lambda': 0.0008372528454786229, 'alpha': 0.749028236749017, 'learning_rate': 0.022330673983056964, 'subsample': 0.9286680295118811, 'colsample_bytree': 0.992777063655465}. Best is trial 15 with value: 586.0001573803937.\n",
      "[I 2024-06-20 05:08:08,303] Trial 22 finished with value: 609.9380541191922 and parameters: {'booster': 'gblinear', 'lambda': 0.025638834057440874, 'alpha': 0.07441196428123706, 'learning_rate': 0.03569795284256658, 'subsample': 0.781106720991175, 'colsample_bytree': 0.9240261776161803}. Best is trial 15 with value: 586.0001573803937.\n",
      "[I 2024-06-20 05:08:08,330] Trial 23 finished with value: 625.2764248192789 and parameters: {'booster': 'gblinear', 'lambda': 1.5757616436806126e-05, 'alpha': 1.1888501361162555e-08, 'learning_rate': 0.060495459212467455, 'subsample': 0.9066359866785139, 'colsample_bytree': 0.7643723174226764}. Best is trial 15 with value: 586.0001573803937.\n",
      "[I 2024-06-20 05:08:08,358] Trial 24 finished with value: 597.2963352534655 and parameters: {'booster': 'gblinear', 'lambda': 0.004913879118172553, 'alpha': 0.8516733444139668, 'learning_rate': 0.025354626635809254, 'subsample': 0.7542586450171169, 'colsample_bytree': 0.9121846297209659}. Best is trial 15 with value: 586.0001573803937.\n",
      "[I 2024-06-20 05:08:08,391] Trial 25 finished with value: 618.4306820191772 and parameters: {'booster': 'gblinear', 'lambda': 0.09025187152006155, 'alpha': 0.17927070702851344, 'learning_rate': 0.06746373324592307, 'subsample': 0.7565732793616243, 'colsample_bytree': 0.5878142757401625}. Best is trial 15 with value: 586.0001573803937.\n"
     ]
    },
    {
     "name": "stdout",
     "output_type": "stream",
     "text": [
      "Trial: 21 - MSE: 601.679906055707 - RMSE: 24.529164397828698\n",
      "Trial: 22 - MSE: 609.9380541191922 - RMSE: 24.69692398091698\n",
      "Trial: 23 - MSE: 625.2764248192789 - RMSE: 25.005527885235274\n",
      "Trial: 24 - MSE: 597.2963352534655 - RMSE: 24.43964679068553\n",
      "Trial: 25 - MSE: 618.4306820191772 - RMSE: 24.868266566433157\n"
     ]
    },
    {
     "name": "stderr",
     "output_type": "stream",
     "text": [
      "[I 2024-06-20 05:08:08,426] Trial 26 finished with value: 613.0695296531693 and parameters: {'booster': 'gblinear', 'lambda': 0.0032979291440319706, 'alpha': 0.027786451628961494, 'learning_rate': 0.04140903900062348, 'subsample': 0.6319965307338247, 'colsample_bytree': 0.8782297489598228}. Best is trial 15 with value: 586.0001573803937.\n",
      "[I 2024-06-20 05:08:08,470] Trial 27 finished with value: 608.7871079697856 and parameters: {'booster': 'gblinear', 'lambda': 0.0008140968767628524, 'alpha': 0.25927855754519297, 'learning_rate': 0.022320077378552183, 'subsample': 0.7907120022088003, 'colsample_bytree': 0.7755777081961486}. Best is trial 15 with value: 586.0001573803937.\n"
     ]
    },
    {
     "name": "stdout",
     "output_type": "stream",
     "text": [
      "Trial: 26 - MSE: 613.0695296531693 - RMSE: 24.76024090458672\n",
      "Trial: 27 - MSE: 608.7871079697856 - RMSE: 24.6736115712675\n"
     ]
    },
    {
     "name": "stderr",
     "output_type": "stream",
     "text": [
      "[I 2024-06-20 05:08:08,532] Trial 28 finished with value: 667.6511748447175 and parameters: {'booster': 'gbtree', 'lambda': 0.010964024212649739, 'alpha': 0.004044561560837631, 'learning_rate': 0.005495948225119063, 'subsample': 0.8452690757395217, 'colsample_bytree': 0.6709962543609698, 'max_depth': 3, 'min_child_weight': 5, 'eta': 0.0010256962934659208, 'gamma': 0.005604276132520868, 'grow_policy': 'depthwise'}. Best is trial 15 with value: 586.0001573803937.\n",
      "[I 2024-06-20 05:08:08,621] Trial 29 finished with value: 787.175316829546 and parameters: {'booster': 'dart', 'lambda': 2.6391883095536264e-05, 'alpha': 0.0422227656795685, 'learning_rate': 0.06547100775101866, 'subsample': 0.5227491395967039, 'colsample_bytree': 0.895853023443758, 'max_depth': 7, 'min_child_weight': 4, 'eta': 5.384549446744732e-06, 'gamma': 0.009681626383607742, 'grow_policy': 'lossguide', 'sample_type': 'weighted', 'normalize_type': 'tree', 'rate_drop': 0.39291402555128985, 'skip_drop': 1.4945003254619156e-08}. Best is trial 15 with value: 586.0001573803937.\n"
     ]
    },
    {
     "name": "stdout",
     "output_type": "stream",
     "text": [
      "Trial: 28 - MSE: 667.6511748447175 - RMSE: 25.83894686020925\n",
      "Trial: 29 - MSE: 787.175316829546 - RMSE: 28.05664478923925\n"
     ]
    },
    {
     "name": "stderr",
     "output_type": "stream",
     "text": [
      "[I 2024-06-20 05:08:08,660] Trial 30 finished with value: 611.7694281828486 and parameters: {'booster': 'gblinear', 'lambda': 0.12970412139243076, 'alpha': 0.0008685683672638969, 'learning_rate': 0.029434015569106926, 'subsample': 0.5505969746855706, 'colsample_bytree': 0.8139421467865753}. Best is trial 15 with value: 586.0001573803937.\n",
      "[I 2024-06-20 05:08:08,721] Trial 31 finished with value: 594.6583793805544 and parameters: {'booster': 'gblinear', 'lambda': 0.000398507790894593, 'alpha': 0.9991899372883409, 'learning_rate': 0.025405012250309958, 'subsample': 0.9461217041548717, 'colsample_bytree': 0.9553032169633644}. Best is trial 15 with value: 586.0001573803937.\n"
     ]
    },
    {
     "name": "stdout",
     "output_type": "stream",
     "text": [
      "Trial: 30 - MSE: 611.7694281828486 - RMSE: 24.73397315804415\n",
      "Trial: 31 - MSE: 594.6583793805544 - RMSE: 24.385618289896904\n"
     ]
    },
    {
     "name": "stderr",
     "output_type": "stream",
     "text": [
      "[I 2024-06-20 05:08:08,761] Trial 32 finished with value: 619.1171291675081 and parameters: {'booster': 'gblinear', 'lambda': 5.1389842642232844e-05, 'alpha': 0.2505445693307834, 'learning_rate': 0.012730404242543932, 'subsample': 0.8864917696785629, 'colsample_bytree': 0.9329890085431886}. Best is trial 15 with value: 586.0001573803937.\n",
      "[I 2024-06-20 05:08:08,793] Trial 33 finished with value: 606.0733947821004 and parameters: {'booster': 'gblinear', 'lambda': 0.0003331908175166323, 'alpha': 0.836686541691454, 'learning_rate': 0.017932475078290818, 'subsample': 0.7546487113315498, 'colsample_bytree': 0.7376290692164142}. Best is trial 15 with value: 586.0001573803937.\n",
      "[I 2024-06-20 05:08:08,847] Trial 34 finished with value: 606.3171880540106 and parameters: {'booster': 'gblinear', 'lambda': 0.0021995159334482093, 'alpha': 0.23068196850875697, 'learning_rate': 0.03743305902963635, 'subsample': 0.9458203022071751, 'colsample_bytree': 0.9964101139052246}. Best is trial 15 with value: 586.0001573803937.\n"
     ]
    },
    {
     "name": "stdout",
     "output_type": "stream",
     "text": [
      "Trial: 32 - MSE: 619.1171291675081 - RMSE: 24.882064407269507\n",
      "Trial: 33 - MSE: 606.0733947821004 - RMSE: 24.61855793465776\n",
      "Trial: 34 - MSE: 606.3171880540106 - RMSE: 24.623508849349854\n"
     ]
    },
    {
     "name": "stderr",
     "output_type": "stream",
     "text": [
      "[I 2024-06-20 05:08:08,907] Trial 35 finished with value: 626.5132807670944 and parameters: {'booster': 'gblinear', 'lambda': 0.009245353151608236, 'alpha': 4.592504414904991e-06, 'learning_rate': 0.009395429206972785, 'subsample': 0.813882622352021, 'colsample_bytree': 0.8340519968625871}. Best is trial 15 with value: 586.0001573803937.\n",
      "[I 2024-06-20 05:08:08,940] Trial 36 finished with value: 583.8770678540448 and parameters: {'booster': 'gblinear', 'lambda': 3.971498733581499e-06, 'alpha': 0.9935277054317047, 'learning_rate': 0.06505791062201217, 'subsample': 0.8725161301049242, 'colsample_bytree': 0.5943768130028029}. Best is trial 36 with value: 583.8770678540448.\n"
     ]
    },
    {
     "name": "stdout",
     "output_type": "stream",
     "text": [
      "Trial: 35 - MSE: 626.5132807670944 - RMSE: 25.030247317337768\n",
      "Trial: 36 - MSE: 583.8770678540448 - RMSE: 24.163548329126762\n"
     ]
    },
    {
     "name": "stderr",
     "output_type": "stream",
     "text": [
      "[I 2024-06-20 05:08:08,970] Trial 37 finished with value: 631.415304580331 and parameters: {'booster': 'gblinear', 'lambda': 2.765935399231918e-06, 'alpha': 0.025154979014869634, 'learning_rate': 0.07121656816631387, 'subsample': 0.8767974354049348, 'colsample_bytree': 0.5813930886076824}. Best is trial 36 with value: 583.8770678540448.\n",
      "[I 2024-06-20 05:08:09,010] Trial 38 finished with value: 650.7437081573138 and parameters: {'booster': 'gbtree', 'lambda': 6.98372914474924e-06, 'alpha': 0.26026631336933304, 'learning_rate': 0.05401478448724948, 'subsample': 0.3253130203421869, 'colsample_bytree': 0.4744817993301998, 'max_depth': 9, 'min_child_weight': 10, 'eta': 0.0034466098894932514, 'gamma': 2.00879483762349e-08, 'grow_policy': 'depthwise'}. Best is trial 36 with value: 583.8770678540448.\n",
      "[I 2024-06-20 05:08:09,078] Trial 39 finished with value: 665.2935718020994 and parameters: {'booster': 'dart', 'lambda': 0.00022984940551018794, 'alpha': 0.012670634742444854, 'learning_rate': 0.03969739065845601, 'subsample': 0.9769526622309189, 'colsample_bytree': 0.052119349998997755, 'max_depth': 7, 'min_child_weight': 7, 'eta': 9.005104990626535e-06, 'gamma': 1.1615874231528158e-06, 'grow_policy': 'lossguide', 'sample_type': 'uniform', 'normalize_type': 'forest', 'rate_drop': 1.2361762153623203e-08, 'skip_drop': 2.5779733403190553e-05}. Best is trial 36 with value: 583.8770678540448.\n"
     ]
    },
    {
     "name": "stdout",
     "output_type": "stream",
     "text": [
      "Trial: 37 - MSE: 631.415304580331 - RMSE: 25.127978521566973\n",
      "Trial: 38 - MSE: 650.7437081573138 - RMSE: 25.509678715289883\n",
      "Trial: 39 - MSE: 665.2935718020994 - RMSE: 25.793285401478027\n"
     ]
    },
    {
     "name": "stderr",
     "output_type": "stream",
     "text": [
      "[I 2024-06-20 05:08:09,172] Trial 40 finished with value: 630.4826112186254 and parameters: {'booster': 'gblinear', 'lambda': 3.1708920091893465e-05, 'alpha': 0.05431048449530288, 'learning_rate': 0.07197156136755278, 'subsample': 0.934054945417, 'colsample_bytree': 0.37994931213339245}. Best is trial 36 with value: 583.8770678540448.\n"
     ]
    },
    {
     "name": "stdout",
     "output_type": "stream",
     "text": [
      "Trial: 40 - MSE: 630.4826112186254 - RMSE: 25.109412801151393\n"
     ]
    },
    {
     "name": "stderr",
     "output_type": "stream",
     "text": [
      "[I 2024-06-20 05:08:09,199] Trial 41 finished with value: 602.0490853339393 and parameters: {'booster': 'gblinear', 'lambda': 6.804965605395727e-05, 'alpha': 0.9458502081467234, 'learning_rate': 0.01976793503413826, 'subsample': 0.7401359875391573, 'colsample_bytree': 0.8937283367959493}. Best is trial 36 with value: 583.8770678540448.\n",
      "[I 2024-06-20 05:08:09,239] Trial 42 finished with value: 603.9218989264011 and parameters: {'booster': 'gblinear', 'lambda': 0.0014168601342742903, 'alpha': 0.3528361316848904, 'learning_rate': 0.029405149403655743, 'subsample': 0.6710457871741302, 'colsample_bytree': 0.7269580560929944}. Best is trial 36 with value: 583.8770678540448.\n",
      "[I 2024-06-20 05:08:09,284] Trial 43 finished with value: 611.9228750846704 and parameters: {'booster': 'gblinear', 'lambda': 0.000380116592207381, 'alpha': 0.1319649010367851, 'learning_rate': 0.04601165891847903, 'subsample': 0.7975569361016149, 'colsample_bytree': 0.9528236422384327}. Best is trial 36 with value: 583.8770678540448.\n",
      "[I 2024-06-20 05:08:09,308] Trial 44 finished with value: 630.7106652639627 and parameters: {'booster': 'gblinear', 'lambda': 0.02699663853294915, 'alpha': 0.4524348542580559, 'learning_rate': 0.00665127770105349, 'subsample': 0.8621059855874489, 'colsample_bytree': 0.7899968268799392}. Best is trial 36 with value: 583.8770678540448.\n",
      "[I 2024-06-20 05:08:09,331] Trial 45 finished with value: 613.2202344023 and parameters: {'booster': 'gblinear', 'lambda': 1.8308865168997026e-07, 'alpha': 0.9772408599708866, 'learning_rate': 0.012915183429668808, 'subsample': 0.8862548181716912, 'colsample_bytree': 0.47244625639570187}. Best is trial 36 with value: 583.8770678540448.\n",
      "[I 2024-06-20 05:08:09,368] Trial 46 finished with value: 647.5926456892452 and parameters: {'booster': 'gblinear', 'lambda': 0.00010933535618655506, 'alpha': 7.565754244590831e-05, 'learning_rate': 0.09478057750540857, 'subsample': 0.40664785738385467, 'colsample_bytree': 0.6524782377989269}. Best is trial 36 with value: 583.8770678540448.\n"
     ]
    },
    {
     "name": "stdout",
     "output_type": "stream",
     "text": [
      "Trial: 41 - MSE: 602.0490853339393 - RMSE: 24.536688556810986\n",
      "Trial: 42 - MSE: 603.9218989264011 - RMSE: 24.574822459712728\n",
      "Trial: 43 - MSE: 611.9228750846704 - RMSE: 24.737074909630493\n",
      "Trial: 44 - MSE: 630.7106652639627 - RMSE: 25.113953596834623\n",
      "Trial: 45 - MSE: 613.2202344023 - RMSE: 24.76328399874096\n",
      "Trial: 46 - MSE: 647.5926456892452 - RMSE: 25.44784167054733\n"
     ]
    },
    {
     "name": "stderr",
     "output_type": "stream",
     "text": [
      "[I 2024-06-20 05:08:09,431] Trial 47 finished with value: 714.4678623409262 and parameters: {'booster': 'gbtree', 'lambda': 1.5918374389325642e-06, 'alpha': 0.14528092537192566, 'learning_rate': 0.026988173143249878, 'subsample': 0.9955199819215239, 'colsample_bytree': 0.34870909988421134, 'max_depth': 3, 'min_child_weight': 3, 'eta': 1.2253067534310106e-07, 'gamma': 0.03216384142680536, 'grow_policy': 'lossguide'}. Best is trial 36 with value: 583.8770678540448.\n",
      "[I 2024-06-20 05:08:09,542] Trial 48 finished with value: 828.9049813486733 and parameters: {'booster': 'dart', 'lambda': 0.007618382745753148, 'alpha': 0.009766384107737246, 'learning_rate': 0.07928021183251086, 'subsample': 0.82456583268171, 'colsample_bytree': 0.9179366416105751, 'max_depth': 7, 'min_child_weight': 6, 'eta': 0.014868095635463562, 'gamma': 0.000919956160932627, 'grow_policy': 'depthwise', 'sample_type': 'weighted', 'normalize_type': 'tree', 'rate_drop': 4.191743963047213e-06, 'skip_drop': 0.44782094965457303}. Best is trial 36 with value: 583.8770678540448.\n",
      "[I 2024-06-20 05:08:09,595] Trial 49 finished with value: 646.8697435238782 and parameters: {'booster': 'gblinear', 'lambda': 0.005883812875806887, 'alpha': 0.4921150419806196, 'learning_rate': 0.0010895432558634026, 'subsample': 0.9551227957163608, 'colsample_bytree': 0.9702659463929961}. Best is trial 36 with value: 583.8770678540448.\n",
      "[I 2024-06-20 05:08:09,631] Trial 50 finished with value: 621.9394680870655 and parameters: {'booster': 'gblinear', 'lambda': 0.0014137174663693315, 'alpha': 0.031158620479409087, 'learning_rate': 0.0575271502302309, 'subsample': 0.6660708004246584, 'colsample_bytree': 0.16304847594722893}. Best is trial 36 with value: 583.8770678540448.\n"
     ]
    },
    {
     "name": "stdout",
     "output_type": "stream",
     "text": [
      "Trial: 47 - MSE: 714.4678623409262 - RMSE: 26.72953165210581\n",
      "Trial: 48 - MSE: 828.9049813486733 - RMSE: 28.79070998340738\n",
      "Trial: 49 - MSE: 646.8697435238782 - RMSE: 25.43363409982691\n",
      "Trial: 50 - MSE: 621.9394680870655 - RMSE: 24.938714242860748\n"
     ]
    },
    {
     "name": "stderr",
     "output_type": "stream",
     "text": [
      "[I 2024-06-20 05:08:09,667] Trial 51 finished with value: 604.4291799785576 and parameters: {'booster': 'gblinear', 'lambda': 2.9335150781906496e-08, 'alpha': 0.41381421305513033, 'learning_rate': 0.025484453898091026, 'subsample': 0.9548535293903039, 'colsample_bytree': 0.95540646838218}. Best is trial 36 with value: 583.8770678540448.\n",
      "[I 2024-06-20 05:08:09,692] Trial 52 finished with value: 608.8618158902443 and parameters: {'booster': 'gblinear', 'lambda': 5.274646509805723e-07, 'alpha': 0.9330870488309262, 'learning_rate': 0.015435236863708148, 'subsample': 0.9060657433916228, 'colsample_bytree': 0.8508224906997077}. Best is trial 36 with value: 583.8770678540448.\n"
     ]
    },
    {
     "name": "stdout",
     "output_type": "stream",
     "text": [
      "Trial: 51 - MSE: 604.4291799785576 - RMSE: 24.585141447194435\n",
      "Trial: 52 - MSE: 608.8618158902443 - RMSE: 24.67512544831828\n"
     ]
    },
    {
     "name": "stderr",
     "output_type": "stream",
     "text": [
      "[I 2024-06-20 05:08:10,146] Trial 53 finished with value: 609.3237769095673 and parameters: {'booster': 'gblinear', 'lambda': 1.4282184988620853e-07, 'alpha': 0.09590800889091006, 'learning_rate': 0.03178406719940906, 'subsample': 0.9657495767246567, 'colsample_bytree': 0.9034884461683361}. Best is trial 36 with value: 583.8770678540448.\n",
      "[I 2024-06-20 05:08:10,193] Trial 54 finished with value: 612.1607020144431 and parameters: {'booster': 'gblinear', 'lambda': 1.2580466619859924e-08, 'alpha': 0.00020302275941591356, 'learning_rate': 0.022834934989614544, 'subsample': 0.9202655790502919, 'colsample_bytree': 0.8177447006507871}. Best is trial 36 with value: 583.8770678540448.\n",
      "[I 2024-06-20 05:08:10,271] Trial 55 finished with value: 600.6423384094459 and parameters: {'booster': 'gblinear', 'lambda': 0.026225196903999517, 'alpha': 0.46175518213283556, 'learning_rate': 0.042804197619625305, 'subsample': 0.8591635190821654, 'colsample_bytree': 0.6185785233926672}. Best is trial 36 with value: 583.8770678540448.\n",
      "[I 2024-06-20 05:08:10,295] Trial 56 finished with value: 621.9759692886291 and parameters: {'booster': 'gblinear', 'lambda': 0.0006025658557943253, 'alpha': 0.14735637757322984, 'learning_rate': 0.011409241168995197, 'subsample': 0.7760514736921437, 'colsample_bytree': 0.9541178115977428}. Best is trial 36 with value: 583.8770678540448.\n"
     ]
    },
    {
     "name": "stdout",
     "output_type": "stream",
     "text": [
      "Trial: 53 - MSE: 609.3237769095673 - RMSE: 24.684484538056843\n",
      "Trial: 54 - MSE: 612.1607020144431 - RMSE: 24.741881537474935\n",
      "Trial: 55 - MSE: 600.6423384094459 - RMSE: 24.508005598364097\n",
      "Trial: 56 - MSE: 621.9759692886291 - RMSE: 24.93944605015575\n"
     ]
    },
    {
     "name": "stderr",
     "output_type": "stream",
     "text": [
      "[I 2024-06-20 05:08:10,358] Trial 57 finished with value: 658.3339073570125 and parameters: {'booster': 'gbtree', 'lambda': 0.001622945369027801, 'alpha': 1.565621484445569e-05, 'learning_rate': 0.001964750991170584, 'subsample': 0.7162666946094876, 'colsample_bytree': 0.8720187605849796, 'max_depth': 3, 'min_child_weight': 8, 'eta': 8.914693282983516e-05, 'gamma': 1.0766436400568394e-05, 'grow_policy': 'depthwise'}. Best is trial 36 with value: 583.8770678540448.\n",
      "[I 2024-06-20 05:08:10,416] Trial 58 finished with value: 743.7171775058715 and parameters: {'booster': 'dart', 'lambda': 0.00017144233393704517, 'alpha': 5.895692618831027e-07, 'learning_rate': 0.033507298189033766, 'subsample': 0.21060598335077674, 'colsample_bytree': 0.5233004002786253, 'max_depth': 9, 'min_child_weight': 4, 'eta': 0.0001108761138796828, 'gamma': 2.9124883014928427e-07, 'grow_policy': 'lossguide', 'sample_type': 'uniform', 'normalize_type': 'forest', 'rate_drop': 0.5971175039104035, 'skip_drop': 0.0029054577833548456}. Best is trial 36 with value: 583.8770678540448.\n",
      "[I 2024-06-20 05:08:10,449] Trial 59 finished with value: 613.7089416692564 and parameters: {'booster': 'gblinear', 'lambda': 5.368853377714027e-08, 'alpha': 0.06651291760904363, 'learning_rate': 0.018977536949350022, 'subsample': 0.8225508364164994, 'colsample_bytree': 0.7006850946633688}. Best is trial 36 with value: 583.8770678540448.\n",
      "[I 2024-06-20 05:08:10,494] Trial 60 finished with value: 611.6087614063074 and parameters: {'booster': 'gblinear', 'lambda': 0.004117766088495429, 'alpha': 0.6407608758463363, 'learning_rate': 0.015513858947058787, 'subsample': 0.886954134933222, 'colsample_bytree': 0.7652040698024138}. Best is trial 36 with value: 583.8770678540448.\n",
      "[I 2024-06-20 05:08:10,520] Trial 61 finished with value: 601.2548764548131 and parameters: {'booster': 'gblinear', 'lambda': 0.03504892282251287, 'alpha': 0.4418139575627827, 'learning_rate': 0.043009884804864416, 'subsample': 0.8578944358475573, 'colsample_bytree': 0.6217939918783711}. Best is trial 36 with value: 583.8770678540448.\n"
     ]
    },
    {
     "name": "stdout",
     "output_type": "stream",
     "text": [
      "Trial: 57 - MSE: 658.3339073570125 - RMSE: 25.65801838328542\n",
      "Trial: 58 - MSE: 743.7171775058715 - RMSE: 27.27117851332926\n",
      "Trial: 59 - MSE: 613.7089416692564 - RMSE: 24.77314961140905\n",
      "Trial: 60 - MSE: 611.6087614063074 - RMSE: 24.73072504813208\n",
      "Trial: 61 - MSE: 601.2548764548131 - RMSE: 24.52049910696789\n"
     ]
    },
    {
     "name": "stderr",
     "output_type": "stream",
     "text": [
      "[I 2024-06-20 05:08:10,568] Trial 62 finished with value: 608.258326238425 and parameters: {'booster': 'gblinear', 'lambda': 0.3172411661233301, 'alpha': 0.23919387749075577, 'learning_rate': 0.05406412719286033, 'subsample': 0.9197277193701784, 'colsample_bytree': 0.5536117103641461}. Best is trial 36 with value: 583.8770678540448.\n",
      "[I 2024-06-20 05:08:10,592] Trial 63 finished with value: 603.8865003367555 and parameters: {'booster': 'gblinear', 'lambda': 0.013062876143423552, 'alpha': 0.51903706710825, 'learning_rate': 0.024091185660249564, 'subsample': 0.9839893491438917, 'colsample_bytree': 0.6378663426924874}. Best is trial 36 with value: 583.8770678540448.\n",
      "[I 2024-06-20 05:08:10,623] Trial 64 finished with value: 638.3215402858249 and parameters: {'booster': 'gblinear', 'lambda': 0.047113791196621665, 'alpha': 0.14887257616947044, 'learning_rate': 0.09950455263284025, 'subsample': 0.8499076227218014, 'colsample_bytree': 0.9799684662313817}. Best is trial 36 with value: 583.8770678540448.\n",
      "[I 2024-06-20 05:08:10,658] Trial 65 finished with value: 604.9998085792187 and parameters: {'booster': 'gblinear', 'lambda': 0.016228938314841145, 'alpha': 0.3387855079381836, 'learning_rate': 0.045720025420501145, 'subsample': 0.803958771041253, 'colsample_bytree': 0.8701552567326319}. Best is trial 36 with value: 583.8770678540448.\n",
      "[I 2024-06-20 05:08:10,691] Trial 66 finished with value: 593.6891033812175 and parameters: {'booster': 'gblinear', 'lambda': 0.18387184091628275, 'alpha': 0.892281090366518, 'learning_rate': 0.0359988981254672, 'subsample': 0.8724166014972145, 'colsample_bytree': 0.6099168013921679}. Best is trial 36 with value: 583.8770678540448.\n",
      "[I 2024-06-20 05:08:10,760] Trial 67 finished with value: 593.3863309417309 and parameters: {'booster': 'gblinear', 'lambda': 5.854291666655621e-06, 'alpha': 0.7521664371468989, 'learning_rate': 0.03544953063490819, 'subsample': 0.8955856182715495, 'colsample_bytree': 0.7035869916466532}. Best is trial 36 with value: 583.8770678540448.\n"
     ]
    },
    {
     "name": "stdout",
     "output_type": "stream",
     "text": [
      "Trial: 62 - MSE: 608.258326238425 - RMSE: 24.662893711777315\n",
      "Trial: 63 - MSE: 603.8865003367555 - RMSE: 24.574102228499733\n",
      "Trial: 64 - MSE: 638.3215402858249 - RMSE: 25.2650260297872\n",
      "Trial: 65 - MSE: 604.9998085792187 - RMSE: 24.596743861316657\n",
      "Trial: 66 - MSE: 593.6891033812175 - RMSE: 24.36573625772916\n",
      "Trial: 67 - MSE: 593.3863309417309 - RMSE: 24.359522387389514\n"
     ]
    },
    {
     "name": "stderr",
     "output_type": "stream",
     "text": [
      "[I 2024-06-20 05:08:10,813] Trial 68 finished with value: 610.8653729811322 and parameters: {'booster': 'gblinear', 'lambda': 5.140562230435693e-06, 'alpha': 0.043269823202468194, 'learning_rate': 0.0360009472093287, 'subsample': 0.9002438005640262, 'colsample_bytree': 0.6821832744665248}. Best is trial 36 with value: 583.8770678540448.\n",
      "[I 2024-06-20 05:08:10,851] Trial 69 finished with value: 612.4212001490453 and parameters: {'booster': 'gblinear', 'lambda': 0.8492177262748731, 'alpha': 0.09653260456746204, 'learning_rate': 0.06253086420102762, 'subsample': 0.9342607672639107, 'colsample_bytree': 0.706196351606093}. Best is trial 36 with value: 583.8770678540448.\n",
      "[I 2024-06-20 05:08:10,941] Trial 70 finished with value: 843.1032503111571 and parameters: {'booster': 'gbtree', 'lambda': 0.16196927558499447, 'alpha': 0.19991021138894213, 'learning_rate': 0.05265956966167247, 'subsample': 0.7649036968516087, 'colsample_bytree': 0.7459665453569027, 'max_depth': 7, 'min_child_weight': 9, 'eta': 4.0308453892858166e-07, 'gamma': 0.0010165518627524468, 'grow_policy': 'depthwise'}. Best is trial 36 with value: 583.8770678540448.\n",
      "[I 2024-06-20 05:08:10,993] Trial 71 finished with value: 588.5852132455711 and parameters: {'booster': 'gblinear', 'lambda': 1.4014339736237078e-05, 'alpha': 0.9656264245231932, 'learning_rate': 0.08014999135242493, 'subsample': 0.8794839512772685, 'colsample_bytree': 0.8129326336149808}. Best is trial 36 with value: 583.8770678540448.\n"
     ]
    },
    {
     "name": "stdout",
     "output_type": "stream",
     "text": [
      "Trial: 68 - MSE: 610.8653729811322 - RMSE: 24.715690825488416\n",
      "Trial: 69 - MSE: 612.4212001490453 - RMSE: 24.747145292923086\n",
      "Trial: 70 - MSE: 843.1032503111571 - RMSE: 29.036240292282283\n",
      "Trial: 71 - MSE: 588.5852132455711 - RMSE: 24.260775198776546\n"
     ]
    },
    {
     "name": "stderr",
     "output_type": "stream",
     "text": [
      "[I 2024-06-20 05:08:11,020] Trial 72 finished with value: 588.3018602902414 and parameters: {'booster': 'gblinear', 'lambda': 2.884007407959975e-06, 'alpha': 0.9657689749001434, 'learning_rate': 0.07607594311159435, 'subsample': 0.8733780361161916, 'colsample_bytree': 0.8392172812286376}. Best is trial 36 with value: 583.8770678540448.\n",
      "[I 2024-06-20 05:08:11,045] Trial 73 finished with value: 603.4882453449683 and parameters: {'booster': 'gblinear', 'lambda': 1.3980569106043009e-05, 'alpha': 0.6522241417720653, 'learning_rate': 0.07798465482174065, 'subsample': 0.8777577994589022, 'colsample_bytree': 0.7918622103601138}. Best is trial 36 with value: 583.8770678540448.\n",
      "[I 2024-06-20 05:08:11,074] Trial 74 finished with value: 589.300898518566 and parameters: {'booster': 'gblinear', 'lambda': 1.605995551109222e-06, 'alpha': 0.9921783135448333, 'learning_rate': 0.08613485186470164, 'subsample': 0.8349674749480797, 'colsample_bytree': 0.819748169528869}. Best is trial 36 with value: 583.8770678540448.\n",
      "[I 2024-06-20 05:08:11,104] Trial 75 finished with value: 623.8521179564478 and parameters: {'booster': 'gblinear', 'lambda': 2.7082455514754925e-06, 'alpha': 0.3163162628661234, 'learning_rate': 0.08433884011265952, 'subsample': 0.8269325171268177, 'colsample_bytree': 0.8210656830820642}. Best is trial 36 with value: 583.8770678540448.\n",
      "[I 2024-06-20 05:08:11,165] Trial 76 finished with value: 810.0580932326104 and parameters: {'booster': 'dart', 'lambda': 1.4159161701899673e-06, 'alpha': 0.018988387646167393, 'learning_rate': 0.07214693665313557, 'subsample': 0.8346506873512161, 'colsample_bytree': 0.7454927248793994, 'max_depth': 5, 'min_child_weight': 5, 'eta': 1.1638982079396165e-08, 'gamma': 7.17434680390072e-08, 'grow_policy': 'lossguide', 'sample_type': 'uniform', 'normalize_type': 'tree', 'rate_drop': 3.0396635657191496e-07, 'skip_drop': 7.511741711342439e-07}. Best is trial 36 with value: 583.8770678540448.\n"
     ]
    },
    {
     "name": "stdout",
     "output_type": "stream",
     "text": [
      "Trial: 72 - MSE: 588.3018602902414 - RMSE: 24.25493476161586\n",
      "Trial: 73 - MSE: 603.4882453449683 - RMSE: 24.56599774780109\n",
      "Trial: 74 - MSE: 589.300898518566 - RMSE: 24.27552056122723\n",
      "Trial: 75 - MSE: 623.8521179564478 - RMSE: 24.977031808372423\n",
      "Trial: 76 - MSE: 810.0580932326104 - RMSE: 28.461519517281758\n"
     ]
    },
    {
     "name": "stderr",
     "output_type": "stream",
     "text": [
      "[I 2024-06-20 05:08:11,229] Trial 77 finished with value: 583.1702479804816 and parameters: {'booster': 'gblinear', 'lambda': 3.7493443285470513e-06, 'alpha': 0.9996777184324622, 'learning_rate': 0.0610679855567703, 'subsample': 0.7971001304451883, 'colsample_bytree': 0.8372095252299435}. Best is trial 77 with value: 583.1702479804816.\n",
      "[I 2024-06-20 05:08:11,289] Trial 78 finished with value: 601.0109703448551 and parameters: {'booster': 'gblinear', 'lambda': 7.148562368494828e-07, 'alpha': 0.5789988437003207, 'learning_rate': 0.06096205152760934, 'subsample': 0.7978257153018217, 'colsample_bytree': 0.848966790922143}. Best is trial 77 with value: 583.1702479804816.\n",
      "[I 2024-06-20 05:08:11,328] Trial 79 finished with value: 645.8723668842308 and parameters: {'booster': 'gblinear', 'lambda': 3.59089993648286e-06, 'alpha': 0.005803168721352932, 'learning_rate': 0.09247605835708471, 'subsample': 0.734861265646914, 'colsample_bytree': 0.796279229747931}. Best is trial 77 with value: 583.1702479804816.\n",
      "[I 2024-06-20 05:08:11,360] Trial 80 finished with value: 617.5316961807282 and parameters: {'booster': 'gblinear', 'lambda': 1.0152294316751716e-05, 'alpha': 0.26676090045054346, 'learning_rate': 0.06741653854346041, 'subsample': 0.8412005070707723, 'colsample_bytree': 0.8364719571152982}. Best is trial 77 with value: 583.1702479804816.\n",
      "[I 2024-06-20 05:08:11,392] Trial 81 finished with value: 602.2313141339783 and parameters: {'booster': 'gblinear', 'lambda': 5.311683370995562e-06, 'alpha': 0.6695541366395197, 'learning_rate': 0.07693977425020375, 'subsample': 0.8718601418854619, 'colsample_bytree': 0.551111465032299}. Best is trial 77 with value: 583.1702479804816.\n",
      "[I 2024-06-20 05:08:11,416] Trial 82 finished with value: 584.3279896509241 and parameters: {'booster': 'gblinear', 'lambda': 1.9958754993807115e-05, 'alpha': 0.9707516364659401, 'learning_rate': 0.048898236646029845, 'subsample': 0.9114087773487443, 'colsample_bytree': 0.7798125054891999}. Best is trial 77 with value: 583.1702479804816.\n"
     ]
    },
    {
     "name": "stdout",
     "output_type": "stream",
     "text": [
      "Trial: 77 - MSE: 583.1702479804816 - RMSE: 24.148918153418002\n",
      "Trial: 78 - MSE: 601.0109703448551 - RMSE: 24.51552508809173\n",
      "Trial: 79 - MSE: 645.8723668842308 - RMSE: 25.414019101358818\n",
      "Trial: 80 - MSE: 617.5316961807282 - RMSE: 24.85018503312859\n",
      "Trial: 81 - MSE: 602.2313141339783 - RMSE: 24.540401670184178\n",
      "Trial: 82 - MSE: 584.3279896509241 - RMSE: 24.1728771487989\n"
     ]
    },
    {
     "name": "stderr",
     "output_type": "stream",
     "text": [
      "[I 2024-06-20 05:08:11,443] Trial 83 finished with value: 610.8068402187612 and parameters: {'booster': 'gblinear', 'lambda': 2.2581176264001302e-05, 'alpha': 0.19718646129129414, 'learning_rate': 0.04848127543664746, 'subsample': 0.9092925491195369, 'colsample_bytree': 0.7754522793771711}. Best is trial 77 with value: 583.1702479804816.\n",
      "[I 2024-06-20 05:08:11,509] Trial 84 finished with value: 608.720167359454 and parameters: {'booster': 'gblinear', 'lambda': 1.023913715336564e-06, 'alpha': 0.34437504241246847, 'learning_rate': 0.058115624310534165, 'subsample': 0.8959836936684792, 'colsample_bytree': 0.8017310948694643}. Best is trial 77 with value: 583.1702479804816.\n",
      "[I 2024-06-20 05:08:11,547] Trial 85 finished with value: 610.306260494211 and parameters: {'booster': 'gblinear', 'lambda': 4.678952423575033e-05, 'alpha': 0.5923896469845982, 'learning_rate': 0.08734156228762341, 'subsample': 0.8119405512810837, 'colsample_bytree': 0.7556433032243358}. Best is trial 77 with value: 583.1702479804816.\n",
      "[I 2024-06-20 05:08:11,583] Trial 86 finished with value: 624.2837717469197 and parameters: {'booster': 'gblinear', 'lambda': 2.187746514623257e-06, 'alpha': 0.10140590210890398, 'learning_rate': 0.06587262253695755, 'subsample': 0.7810106026704885, 'colsample_bytree': 0.8773609397443651}. Best is trial 77 with value: 583.1702479804816.\n",
      "[I 2024-06-20 05:08:11,619] Trial 87 finished with value: 639.974928590533 and parameters: {'booster': 'gblinear', 'lambda': 1.1363086853232452e-05, 'alpha': 3.7918112648615074e-08, 'learning_rate': 0.08222576463802632, 'subsample': 0.921973753838052, 'colsample_bytree': 0.7122424557069794}. Best is trial 77 with value: 583.1702479804816.\n",
      "[I 2024-06-20 05:08:11,643] Trial 88 finished with value: 588.9041155402101 and parameters: {'booster': 'gblinear', 'lambda': 3.653156314106975e-07, 'alpha': 0.9195689293566883, 'learning_rate': 0.07304151903328401, 'subsample': 0.9406518383343127, 'colsample_bytree': 0.8311510181035433}. Best is trial 77 with value: 583.1702479804816.\n"
     ]
    },
    {
     "name": "stdout",
     "output_type": "stream",
     "text": [
      "Trial: 83 - MSE: 610.8068402187612 - RMSE: 24.714506675609798\n",
      "Trial: 84 - MSE: 608.720167359454 - RMSE: 24.672255011641194\n",
      "Trial: 85 - MSE: 610.306260494211 - RMSE: 24.70437735491852\n",
      "Trial: 86 - MSE: 624.2837717469197 - RMSE: 24.98567132872198\n",
      "Trial: 87 - MSE: 639.974928590533 - RMSE: 25.297725759256167\n",
      "Trial: 88 - MSE: 588.9041155402101 - RMSE: 24.267346693452296\n"
     ]
    },
    {
     "name": "stderr",
     "output_type": "stream",
     "text": [
      "[I 2024-06-20 05:08:11,705] Trial 89 finished with value: 866.3935977862511 and parameters: {'booster': 'gbtree', 'lambda': 4.2757347170520183e-07, 'alpha': 0.3692020890450279, 'learning_rate': 0.07581024704486061, 'subsample': 0.936814864347204, 'colsample_bytree': 0.8366412235135314, 'max_depth': 9, 'min_child_weight': 3, 'eta': 4.2260576423015295e-05, 'gamma': 6.93289169196686e-06, 'grow_policy': 'depthwise'}. Best is trial 77 with value: 583.1702479804816.\n",
      "[I 2024-06-20 05:08:11,805] Trial 90 finished with value: 837.3902156151595 and parameters: {'booster': 'dart', 'lambda': 2.629588490440655e-07, 'alpha': 0.9613774494324558, 'learning_rate': 0.09822546023589938, 'subsample': 0.8462201707444974, 'colsample_bytree': 0.9323194675148592, 'max_depth': 3, 'min_child_weight': 6, 'eta': 0.028542223248980647, 'gamma': 0.07433282820455138, 'grow_policy': 'lossguide', 'sample_type': 'weighted', 'normalize_type': 'forest', 'rate_drop': 0.004486587742929394, 'skip_drop': 0.002460887706432315}. Best is trial 77 with value: 583.1702479804816.\n",
      "[I 2024-06-20 05:08:11,847] Trial 91 finished with value: 597.04254244203 and parameters: {'booster': 'gblinear', 'lambda': 1.9457648003984788e-05, 'alpha': 0.6398410066979833, 'learning_rate': 0.05601446380122539, 'subsample': 0.8947787091445131, 'colsample_bytree': 0.7720717566808291}. Best is trial 77 with value: 583.1702479804816.\n",
      "[I 2024-06-20 05:08:11,889] Trial 92 finished with value: 621.4440815987233 and parameters: {'booster': 'gblinear', 'lambda': 4.3678910840090865e-06, 'alpha': 0.19334582399482034, 'learning_rate': 0.06826216869075726, 'subsample': 0.9706710866893576, 'colsample_bytree': 0.8255392452582825}. Best is trial 77 with value: 583.1702479804816.\n"
     ]
    },
    {
     "name": "stdout",
     "output_type": "stream",
     "text": [
      "Trial: 89 - MSE: 866.3935977862511 - RMSE: 29.43456467804902\n",
      "Trial: 90 - MSE: 837.3902156151595 - RMSE: 28.93769540953736\n",
      "Trial: 91 - MSE: 597.04254244203 - RMSE: 24.43445400335416\n",
      "Trial: 92 - MSE: 621.4440815987233 - RMSE: 24.928780186738447\n"
     ]
    },
    {
     "name": "stderr",
     "output_type": "stream",
     "text": [
      "[I 2024-06-20 05:08:11,977] Trial 93 finished with value: 607.7031460596679 and parameters: {'booster': 'gblinear', 'lambda': 1.9858007644924797e-06, 'alpha': 0.3285700938809937, 'learning_rate': 0.05178149318853767, 'subsample': 0.8584297273396827, 'colsample_bytree': 0.8899008147020082}. Best is trial 77 with value: 583.1702479804816.\n",
      "[I 2024-06-20 05:08:12,017] Trial 94 finished with value: 609.2641026992313 and parameters: {'booster': 'gblinear', 'lambda': 7.07323116610708e-06, 'alpha': 0.5897371206476705, 'learning_rate': 0.08711443607547491, 'subsample': 0.949592388040684, 'colsample_bytree': 0.8600149029294692}. Best is trial 77 with value: 583.1702479804816.\n",
      "[I 2024-06-20 05:08:12,056] Trial 95 finished with value: 587.1036661195039 and parameters: {'booster': 'gblinear', 'lambda': 7.853130136287241e-07, 'alpha': 0.9390806990962934, 'learning_rate': 0.03991450854830915, 'subsample': 0.5845736784089661, 'colsample_bytree': 0.7763599152542677}. Best is trial 77 with value: 583.1702479804816.\n",
      "[I 2024-06-20 05:08:12,088] Trial 96 finished with value: 619.7585804100003 and parameters: {'booster': 'gblinear', 'lambda': 1.0061280479921568e-06, 'alpha': 0.12365385200224153, 'learning_rate': 0.06003504100354579, 'subsample': 0.5483533849909843, 'colsample_bytree': 0.7260529040201046}. Best is trial 77 with value: 583.1702479804816.\n",
      "[I 2024-06-20 05:08:12,154] Trial 97 finished with value: 584.7984883914664 and parameters: {'booster': 'gblinear', 'lambda': 5.899312794247715e-07, 'alpha': 0.9636932025454735, 'learning_rate': 0.047416310556394906, 'subsample': 0.6131414864566104, 'colsample_bytree': 0.8113122481689654}. Best is trial 77 with value: 583.1702479804816.\n",
      "[I 2024-06-20 05:08:12,179] Trial 98 finished with value: 599.9249484640748 and parameters: {'booster': 'gblinear', 'lambda': 1.2500298876338655e-07, 'alpha': 0.4834375216594716, 'learning_rate': 0.04235120920976626, 'subsample': 0.6317100833475979, 'colsample_bytree': 0.8020101129228496}. Best is trial 77 with value: 583.1702479804816.\n"
     ]
    },
    {
     "name": "stdout",
     "output_type": "stream",
     "text": [
      "Trial: 93 - MSE: 607.7031460596679 - RMSE: 24.651635768436705\n",
      "Trial: 94 - MSE: 609.2641026992313 - RMSE: 24.683275769217328\n",
      "Trial: 95 - MSE: 587.1036661195039 - RMSE: 24.230222164055863\n",
      "Trial: 96 - MSE: 619.7585804100003 - RMSE: 24.89495090193994\n",
      "Trial: 97 - MSE: 584.7984883914664 - RMSE: 24.182607146283182\n",
      "Trial: 98 - MSE: 599.9249484640748 - RMSE: 24.49336539685951\n"
     ]
    },
    {
     "name": "stderr",
     "output_type": "stream",
     "text": [
      "[I 2024-06-20 05:08:12,203] Trial 99 finished with value: 615.0541085942702 and parameters: {'booster': 'gblinear', 'lambda': 2.881260857862524e-07, 'alpha': 0.06276387768838092, 'learning_rate': 0.047655949060169206, 'subsample': 0.587396885455948, 'colsample_bytree': 0.783600333855249}. Best is trial 77 with value: 583.1702479804816.\n"
     ]
    },
    {
     "name": "stdout",
     "output_type": "stream",
     "text": [
      "Trial: 99 - MSE: 615.0541085942702 - RMSE: 24.80028444583389\n"
     ]
    }
   ],
   "source": [
    "# configuration optuna\n",
    "study_mm = optuna.create_study(direction='minimize')\n",
    "study_mm.optimize(lambda trial: objective(trial, X_mm_train, y_mm_train, X_mm_test, y_mm_test), n_trials=n_trials)"
   ]
  },
  {
   "cell_type": "code",
   "execution_count": 29,
   "metadata": {},
   "outputs": [
    {
     "name": "stdout",
     "output_type": "stream",
     "text": [
      "Trials quantity: 100\n",
      "Mejor prueba: 77\n",
      "Mejores parametros: {'booster': 'gblinear', 'lambda': 3.7493443285470513e-06, 'alpha': 0.9996777184324622, 'learning_rate': 0.0610679855567703, 'subsample': 0.7971001304451883, 'colsample_bytree': 0.8372095252299435}\n",
      "Mejor valor de pérdida en validación: 583.1702479804816\n"
     ]
    }
   ],
   "source": [
    "# Results\n",
    "print(f'Trials quantity: {len(study_mm.trials)}')\n",
    "trial = study_mm.best_trial\n",
    "print(f'Mejor prueba: {trial.number}')\n",
    "print(f'Mejores parametros: {trial.params}')\n",
    "print(f'Mejor valor de pérdida en validación: {trial.value}')"
   ]
  },
  {
   "cell_type": "markdown",
   "metadata": {},
   "source": [
    "# Training"
   ]
  },
  {
   "cell_type": "markdown",
   "metadata": {},
   "source": [
    "## General"
   ]
  },
  {
   "cell_type": "code",
   "execution_count": 30,
   "metadata": {},
   "outputs": [
    {
     "data": {
      "text/plain": [
       "{'booster': 'gbtree',\n",
       " 'lambda': 0.0036413406830877915,\n",
       " 'alpha': 0.00014215649240147834,\n",
       " 'learning_rate': 0.0010022326752607113,\n",
       " 'subsample': 0.39041476377585127,\n",
       " 'colsample_bytree': 0.12960686099491403,\n",
       " 'max_depth': 3,\n",
       " 'min_child_weight': 2,\n",
       " 'eta': 0.00017675419801249995,\n",
       " 'gamma': 0.0009494931173712514,\n",
       " 'grow_policy': 'lossguide'}"
      ]
     },
     "execution_count": 30,
     "metadata": {},
     "output_type": "execute_result"
    }
   ],
   "source": [
    "# hyperparameters\n",
    "study_g.best_trial.params"
   ]
  },
  {
   "cell_type": "code",
   "execution_count": 31,
   "metadata": {},
   "outputs": [
    {
     "name": "stdout",
     "output_type": "stream",
     "text": [
      "MSE: 160.36008315224154 - RMSE: 12.663336177810393\n"
     ]
    }
   ],
   "source": [
    "# general models\n",
    "dtrain = xgb.DMatrix(X_g_train, label=y_g_train)\n",
    "dtest = xgb.DMatrix(X_g_test, label=y_g_test)\n",
    "# training\n",
    "model = xgb.train(study_g.best_trial.params, dtrain)\n",
    "# evaluation\n",
    "preds = model.predict(dtest)\n",
    "mse = mean_squared_error(y_g_test, preds)\n",
    "print(f\"MSE: {mse} - RMSE: {np.sqrt(mse)}\")"
   ]
  },
  {
   "cell_type": "markdown",
   "metadata": {},
   "source": [
    "## Single Thread"
   ]
  },
  {
   "cell_type": "code",
   "execution_count": 32,
   "metadata": {},
   "outputs": [
    {
     "data": {
      "text/plain": [
       "{'booster': 'dart',\n",
       " 'lambda': 0.0017586206157034748,\n",
       " 'alpha': 4.50273184369549e-08,\n",
       " 'learning_rate': 0.0013121789063029298,\n",
       " 'subsample': 0.41213734157363835,\n",
       " 'colsample_bytree': 0.1611597037187561,\n",
       " 'max_depth': 3,\n",
       " 'min_child_weight': 10,\n",
       " 'eta': 4.641153223811685e-08,\n",
       " 'gamma': 0.0006872086181180318,\n",
       " 'grow_policy': 'lossguide',\n",
       " 'sample_type': 'uniform',\n",
       " 'normalize_type': 'tree',\n",
       " 'rate_drop': 0.3083535111007091,\n",
       " 'skip_drop': 0.08125508254588887}"
      ]
     },
     "execution_count": 32,
     "metadata": {},
     "output_type": "execute_result"
    }
   ],
   "source": [
    "# hyperparameters\n",
    "study_st.best_trial.params"
   ]
  },
  {
   "cell_type": "code",
   "execution_count": 33,
   "metadata": {},
   "outputs": [
    {
     "name": "stdout",
     "output_type": "stream",
     "text": [
      "MSE: 43.79687484967787 - RMSE: 6.617920734617321\n"
     ]
    }
   ],
   "source": [
    "# single thread model\n",
    "dtrain = xgb.DMatrix(X_st_train, label=y_st_train)\n",
    "dtest = xgb.DMatrix(X_st_test, label=y_st_test)\n",
    "# training\n",
    "model = xgb.train(study_st.best_trial.params, dtrain)\n",
    "# evaluation\n",
    "preds = model.predict(dtest)\n",
    "mse = mean_squared_error(y_st_test, preds)\n",
    "print(f\"MSE: {mse} - RMSE: {np.sqrt(mse)}\")"
   ]
  },
  {
   "cell_type": "markdown",
   "metadata": {},
   "source": [
    "## Multi Thread"
   ]
  },
  {
   "cell_type": "code",
   "execution_count": 34,
   "metadata": {},
   "outputs": [
    {
     "data": {
      "text/plain": [
       "{'booster': 'gblinear',\n",
       " 'lambda': 3.7493443285470513e-06,\n",
       " 'alpha': 0.9996777184324622,\n",
       " 'learning_rate': 0.0610679855567703,\n",
       " 'subsample': 0.7971001304451883,\n",
       " 'colsample_bytree': 0.8372095252299435}"
      ]
     },
     "execution_count": 34,
     "metadata": {},
     "output_type": "execute_result"
    }
   ],
   "source": [
    "# hyperparameters\n",
    "study_mm.best_trial.params"
   ]
  },
  {
   "cell_type": "code",
   "execution_count": 35,
   "metadata": {},
   "outputs": [
    {
     "name": "stdout",
     "output_type": "stream",
     "text": [
      "MSE: 582.919569284892 - RMSE: 24.14372732791878\n"
     ]
    }
   ],
   "source": [
    "# multi thread model\n",
    "dtrain = xgb.DMatrix(X_mm_train, label=y_mm_train)\n",
    "dtest = xgb.DMatrix(X_mm_test, label=y_mm_test)\n",
    "# training\n",
    "model = xgb.train(study_mm.best_trial.params, dtrain)\n",
    "# evaluation\n",
    "preds = model.predict(dtest)\n",
    "mse = mean_squared_error(y_mm_test, preds)\n",
    "print(f\"MSE: {mse} - RMSE: {np.sqrt(mse)}\")"
   ]
  },
  {
   "cell_type": "markdown",
   "metadata": {},
   "source": [
    "# Conclusion\n",
    "Queda trabajo que hacer en la red, además de conseguir más datos para un entrenamiento más robusto. Queda por ahora descartado el uso de solo un modelo para multi-threading y single-threading, ya que el modelo tiene más del triple de *loss*."
   ]
  }
 ],
 "metadata": {
  "kernelspec": {
   "display_name": "venv",
   "language": "python",
   "name": "python3"
  },
  "language_info": {
   "codemirror_mode": {
    "name": "ipython",
    "version": 3
   },
   "file_extension": ".py",
   "mimetype": "text/x-python",
   "name": "python",
   "nbconvert_exporter": "python",
   "pygments_lexer": "ipython3",
   "version": "3.10.13"
  }
 },
 "nbformat": 4,
 "nbformat_minor": 2
}
