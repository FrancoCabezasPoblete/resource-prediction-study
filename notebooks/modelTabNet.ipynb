{
 "cells": [
  {
   "cell_type": "code",
   "execution_count": 14,
   "metadata": {},
   "outputs": [],
   "source": [
    "import optuna\n",
    "from optuna.samplers import TPESampler\n",
    "import pandas as pd\n",
    "import numpy as np\n",
    "import random\n",
    "from pytorch_tabnet.tab_model import TabNetRegressor\n",
    "from sklearn.preprocessing import MinMaxScaler\n",
    "from pytorch_tabnet.augmentations import RegressionSMOTE\n",
    "import matplotlib.pyplot as plt\n",
    "from joblib import dump\n",
    "import os\n",
    "\n",
    "# Fix random seed\n",
    "seed = 42\n",
    "np.random.seed(seed)\n",
    "random.seed(seed)\n",
    "sampler = TPESampler(seed=seed)\n",
    "\n",
    "optuna.logging.set_verbosity(optuna.logging.WARNING)\n",
    "\n",
    "HYPERPARAMETER_SEARCH = False"
   ]
  },
  {
   "cell_type": "markdown",
   "metadata": {},
   "source": [
    "# Pre-processing input data"
   ]
  },
  {
   "cell_type": "code",
   "execution_count": 15,
   "metadata": {},
   "outputs": [],
   "source": [
    "# train_df and test_df are created in eda notebook\n",
    "if not os.path.exists('csv/train_df.csv') or not os.path.exists('csv/test_df.csv'):\n",
    "\tprint('Please run the eda notebook first')\n",
    "\texit()\n",
    "train_df = pd.read_csv('csv/train_df.csv')\n",
    "test_df = pd.read_csv('csv/test_df.csv')\n",
    "target = 'total_time_target'\n",
    "features = test_df.columns.copy().drop(target).drop(['benchmark','brand_raw', 'brand_raw_target','vendor_id_raw', 'arch'])\n",
    "\n",
    "# log for total_times\n",
    "train_df[[target, 'total_time']] = np.log1p(train_df[[target, 'total_time']])\n",
    "test_df[[target, 'total_time']] = np.log1p(test_df[[target, 'total_time']])\n",
    "\n",
    "# Split data\n",
    "X_train = train_df[features]\n",
    "y_train = train_df[target]\n",
    "\n",
    "X_test = test_df[features]\n",
    "y_test = test_df[target]\n",
    "\n",
    "# Normalize data\n",
    "x_scaler = MinMaxScaler(feature_range=(0, 1))\n",
    "X_train = x_scaler.fit_transform(X_train)\n",
    "X_test = x_scaler.transform(X_test)\n",
    "y_scaler = MinMaxScaler(feature_range=(0, 1))\n",
    "y_train = y_scaler.fit_transform(y_train.values.reshape(-1, 1))\n",
    "y_test = y_scaler.transform(y_test.values.reshape(-1, 1))"
   ]
  },
  {
   "cell_type": "code",
   "execution_count": 16,
   "metadata": {},
   "outputs": [],
   "source": [
    "if not os.path.exists('../models/x_scaler.joblib') or not os.path.exists('../models/y_scaler.joblib'):\n",
    "\tdump(x_scaler, '../models/x_scaler.joblib')\n",
    "\tdump(y_scaler, '../models/y_scaler.joblib')"
   ]
  },
  {
   "cell_type": "markdown",
   "metadata": {},
   "source": [
    "# Model: TabNet"
   ]
  },
  {
   "cell_type": "code",
   "execution_count": 17,
   "metadata": {},
   "outputs": [],
   "source": [
    "def inv_scaling(y, y_scaler):\n",
    "    return y_scaler.inverse_transform(y.reshape(-1, 1))"
   ]
  },
  {
   "cell_type": "markdown",
   "metadata": {},
   "source": [
    "# Hyperparameters Optimization"
   ]
  },
  {
   "cell_type": "code",
   "execution_count": 18,
   "metadata": {},
   "outputs": [],
   "source": [
    "def objective(trial: optuna.Trial, X_train, y_train, X_test, y_test):\n",
    "\tn_d = trial.suggest_int('n_d', 8, 64)\n",
    "\tn_steps = trial.suggest_int('n_steps', 3, 10)\n",
    "\tgamma = trial.suggest_float('gamma', 1.0, 2.0)\n",
    "\tn_independent = trial.suggest_int('n_independent', 1, 5)\n",
    "\tn_shared = trial.suggest_int('n_shared', 1, 5)\n",
    "\tmomentum = trial.suggest_float('momentum', 0.01, 0.4)\n",
    "\tmax_epochs = trial.suggest_int('max_epochs', 200, 1000)\n",
    "\t\n",
    "\tmodel = TabNetRegressor(\n",
    "\t\tn_d=n_d,\n",
    "\t\tn_a=n_d,\n",
    "\t\tn_steps=n_steps,\n",
    "\t\tgamma=gamma,\n",
    "\t\tn_independent=n_independent,\n",
    "\t\tn_shared=n_shared,\n",
    "\t\tmomentum=momentum,\n",
    "\t\tverbose=0\n",
    "\t)\n",
    "\n",
    "\taug = RegressionSMOTE(p=0.2)\n",
    "\tmodel.fit(\n",
    "\t\tX_train, y_train,\n",
    "\t\teval_set=[(X_train, y_train), (X_test, y_test)],\n",
    "\t\teval_name=['train', 'valid'],\n",
    "\t\teval_metric=['rmse'],\n",
    "\t\tmax_epochs=max_epochs,\n",
    "\t\taugmentation=aug,\n",
    "\t)\n",
    "\n",
    "\tvalidation_loss = model.best_cost_\n",
    "\treturn validation_loss\n",
    "\n",
    "n_trials = 25\n",
    "study = None"
   ]
  },
  {
   "cell_type": "code",
   "execution_count": 19,
   "metadata": {},
   "outputs": [],
   "source": [
    "if HYPERPARAMETER_SEARCH:\n",
    "\tstudy = optuna.create_study(direction='minimize', sampler=sampler)\n",
    "\tstudy.optimize(lambda trial: objective(trial, X_train, y_train, X_test, y_test), n_trials=n_trials)"
   ]
  },
  {
   "cell_type": "code",
   "execution_count": 20,
   "metadata": {},
   "outputs": [],
   "source": [
    "if study is not None:\n",
    "\tprint(f'Number of trials: {len(study.trials)}')\n",
    "\ttrial = study.best_trial\n",
    "\tprint(f'Best trial: {trial.number}')\n",
    "\tprint(f'Best params: {trial.params}')\n",
    "\tprint(f'Best validation loss: {y_scaler.inverse_transform(np.reshape(trial.value, (-1,1))).item()}')"
   ]
  },
  {
   "cell_type": "markdown",
   "metadata": {},
   "source": [
    "# Training"
   ]
  },
  {
   "cell_type": "code",
   "execution_count": 21,
   "metadata": {},
   "outputs": [],
   "source": [
    "# hyperparameters\n",
    "if study is not None:\n",
    "\tparams = study.best_trial.params\n",
    "else:\n",
    "\tparams = {\n",
    "\t\t\"n_d\": 8,\n",
    "\t\t\"n_a\": 8,\n",
    "\t\t\"n_steps\": 3,\n",
    "\t\t\"gamma\": 1.3,\n",
    "\t\t\"n_independent\": 2,\n",
    "\t\t\"n_shared\": 2,\n",
    "\t\t\"momentum\": 0.02,\n",
    "\t\t\"max_epochs\": 200,\n",
    "\t}"
   ]
  },
  {
   "cell_type": "code",
   "execution_count": 22,
   "metadata": {},
   "outputs": [
    {
     "name": "stderr",
     "output_type": "stream",
     "text": [
      "/home/frnk65/resource-prediction-study/venv/lib/python3.10/site-packages/pytorch_tabnet/abstract_model.py:82: UserWarning: Device used : cuda\n",
      "  warnings.warn(f\"Device used : {self.device}\")\n"
     ]
    },
    {
     "name": "stdout",
     "output_type": "stream",
     "text": [
      "epoch 0  | loss: 0.09237 | train_rmse: 0.17181 | valid_rmse: 0.13754 |  0:00:03s\n",
      "epoch 1  | loss: 0.01006 | train_rmse: 0.13914 | valid_rmse: 0.10715 |  0:00:06s\n",
      "epoch 2  | loss: 0.00509 | train_rmse: 0.11588 | valid_rmse: 0.09634 |  0:00:09s\n",
      "epoch 3  | loss: 0.0036  | train_rmse: 0.09509 | valid_rmse: 0.08343 |  0:00:12s\n",
      "epoch 4  | loss: 0.00287 | train_rmse: 0.06678 | valid_rmse: 0.05989 |  0:00:15s\n",
      "epoch 5  | loss: 0.00242 | train_rmse: 0.05609 | valid_rmse: 0.04869 |  0:00:17s\n",
      "epoch 6  | loss: 0.00204 | train_rmse: 0.04496 | valid_rmse: 0.0393  |  0:00:20s\n",
      "epoch 7  | loss: 0.0019  | train_rmse: 0.03195 | valid_rmse: 0.02965 |  0:00:23s\n",
      "epoch 8  | loss: 0.00164 | train_rmse: 0.02989 | valid_rmse: 0.02924 |  0:00:26s\n",
      "epoch 9  | loss: 0.00149 | train_rmse: 0.02414 | valid_rmse: 0.02455 |  0:00:29s\n",
      "epoch 10 | loss: 0.00133 | train_rmse: 0.02362 | valid_rmse: 0.02334 |  0:00:32s\n",
      "epoch 11 | loss: 0.00142 | train_rmse: 0.02399 | valid_rmse: 0.02297 |  0:00:35s\n",
      "epoch 12 | loss: 0.00129 | train_rmse: 0.02186 | valid_rmse: 0.02255 |  0:00:38s\n",
      "epoch 13 | loss: 0.00144 | train_rmse: 0.02571 | valid_rmse: 0.02517 |  0:00:41s\n",
      "epoch 14 | loss: 0.00147 | train_rmse: 0.02327 | valid_rmse: 0.02298 |  0:00:44s\n",
      "epoch 15 | loss: 0.00124 | train_rmse: 0.02341 | valid_rmse: 0.02248 |  0:00:47s\n",
      "epoch 16 | loss: 0.00111 | train_rmse: 0.02275 | valid_rmse: 0.0222  |  0:00:50s\n",
      "epoch 17 | loss: 0.00107 | train_rmse: 0.02125 | valid_rmse: 0.02058 |  0:00:52s\n",
      "epoch 18 | loss: 0.00103 | train_rmse: 0.02127 | valid_rmse: 0.02089 |  0:00:55s\n",
      "epoch 19 | loss: 0.00116 | train_rmse: 0.02149 | valid_rmse: 0.02069 |  0:00:58s\n",
      "epoch 20 | loss: 0.00097 | train_rmse: 0.02043 | valid_rmse: 0.02062 |  0:01:01s\n",
      "epoch 21 | loss: 0.00114 | train_rmse: 0.02331 | valid_rmse: 0.02409 |  0:01:04s\n",
      "epoch 22 | loss: 0.00085 | train_rmse: 0.02201 | valid_rmse: 0.02135 |  0:01:07s\n",
      "epoch 23 | loss: 0.0009  | train_rmse: 0.02058 | valid_rmse: 0.02174 |  0:01:10s\n",
      "epoch 24 | loss: 0.00085 | train_rmse: 0.02474 | valid_rmse: 0.02376 |  0:01:13s\n",
      "epoch 25 | loss: 0.00098 | train_rmse: 0.0293  | valid_rmse: 0.02974 |  0:01:16s\n",
      "epoch 26 | loss: 0.00093 | train_rmse: 0.03178 | valid_rmse: 0.03158 |  0:01:19s\n",
      "epoch 27 | loss: 0.00122 | train_rmse: 0.02376 | valid_rmse: 0.02495 |  0:01:22s\n",
      "\n",
      "Early stopping occurred at epoch 27 with best_epoch = 17 and best_valid_rmse = 0.02058\n"
     ]
    },
    {
     "name": "stderr",
     "output_type": "stream",
     "text": [
      "/home/frnk65/resource-prediction-study/venv/lib/python3.10/site-packages/pytorch_tabnet/callbacks.py:172: UserWarning: Best weights from best epoch are automatically used!\n",
      "  warnings.warn(wrn_msg)\n"
     ]
    }
   ],
   "source": [
    "# single thread model initialization\n",
    "aug = RegressionSMOTE(p=0.2)\n",
    "model = TabNetRegressor(\n",
    "\tn_d=params[\"n_d\"],\n",
    "\tn_a=params[\"n_a\"],\n",
    "\tn_steps=params[\"n_steps\"],\n",
    "\tgamma=params[\"gamma\"],\n",
    "\tn_independent=params[\"n_independent\"],\n",
    "\tn_shared=params[\"n_shared\"],\n",
    "\tmomentum=params[\"momentum\"],\n",
    ")\n",
    "model.fit(\n",
    "\tX_train=X_train, \n",
    "\ty_train=y_train,\n",
    "\teval_set=[(X_train, y_train), (X_test, y_test)],\n",
    "\teval_name=['train', 'valid'],\n",
    "\teval_metric=['rmse'],\n",
    "\taugmentations=aug,\n",
    "\tmax_epochs=params[\"max_epochs\"],\n",
    ")"
   ]
  },
  {
   "cell_type": "code",
   "execution_count": 23,
   "metadata": {},
   "outputs": [
    {
     "data": {
      "image/png": "[encoded data removed]",
      "text/plain": [
       "<Figure size 1000x500 with 1 Axes>"
      ]
     },
     "metadata": {},
     "output_type": "display_data"
    }
   ],
   "source": [
    "# Plot loss\n",
    "plt.figure(figsize=(10, 5))\n",
    "plt.plot(model.history[\"train_rmse\"], label='Train Loss')\n",
    "plt.plot(model.history[\"valid_rmse\"], label='Validation Loss')\n",
    "plt.title('Train and Validation Loss')\n",
    "plt.xlabel('Epoch')\n",
    "plt.ylabel('RMSE Loss')\n",
    "plt.legend()\n",
    "plt.show()"
   ]
  },
  {
   "cell_type": "code",
   "execution_count": 24,
   "metadata": {},
   "outputs": [
    {
     "name": "stdout",
     "output_type": "stream",
     "text": [
      "Successfully saved model at ../models/tabnet_model.zip\n"
     ]
    },
    {
     "data": {
      "text/plain": [
       "'../models/tabnet_model.zip'"
      ]
     },
     "execution_count": 24,
     "metadata": {},
     "output_type": "execute_result"
    }
   ],
   "source": [
    "# save model\n",
    "model.save_model('../models/tabnet_model')"
   ]
  },
  {
   "cell_type": "markdown",
   "metadata": {},
   "source": [
    "# Describe Validation"
   ]
  },
  {
   "cell_type": "code",
   "execution_count": 30,
   "metadata": {},
   "outputs": [
    {
     "name": "stderr",
     "output_type": "stream",
     "text": [
      "/home/frnk65/resource-prediction-study/venv/lib/python3.10/site-packages/pytorch_tabnet/abstract_model.py:82: UserWarning: Device used : cuda\n",
      "  warnings.warn(f\"Device used : {self.device}\")\n"
     ]
    }
   ],
   "source": [
    "model = TabNetRegressor(\n",
    "\tn_d=params[\"n_d\"],\n",
    "\tn_a=params[\"n_a\"],\n",
    "\tn_steps=params[\"n_steps\"],\n",
    "\tgamma=params[\"gamma\"],\n",
    "\tn_independent=params[\"n_independent\"],\n",
    "\tn_shared=params[\"n_shared\"],\n",
    "\tmomentum=params[\"momentum\"],\n",
    ")\n",
    "model.load_model('../models/tabnet_model.zip')"
   ]
  },
  {
   "cell_type": "code",
   "execution_count": 31,
   "metadata": {},
   "outputs": [],
   "source": [
    "def describe_val(model, X, y, y_scaler):\n",
    "\tmin_instance = {\"prediction\": float('inf'), \"actual\": 0, \"index\": 0}\n",
    "\tmax_instance = {\"prediction\": 0, \"actual\": 0, \"index\": 0}\n",
    "\tpredictions = model.predict(X)\n",
    "\tpredictions = inv_scaling(predictions, y_scaler)\n",
    "\ty_scaled = inv_scaling(y, y_scaler)\n",
    "\tindex_min = np.argmin(np.abs(predictions - y_scaled))\n",
    "\tmin_instance[\"prediction\"] = predictions[index_min].item()\n",
    "\tmin_instance[\"actual\"] = y_scaled[index_min].item()\n",
    "\tmin_instance[\"index\"] = index_min\n",
    "\tindex_max = np.argmax(np.abs(predictions - y_scaled))\n",
    "\tmax_instance[\"prediction\"] = predictions[index_max].item()\n",
    "\tmax_instance[\"actual\"] = y_scaled[index_max].item()\n",
    "\tmax_instance[\"index\"] = index_max\n",
    "\n",
    "\treturn min_instance, max_instance, predictions"
   ]
  },
  {
   "cell_type": "code",
   "execution_count": 32,
   "metadata": {},
   "outputs": [],
   "source": [
    "def describe_val(model, X, y, y_scaler):\n",
    "\tmin_instance = {\"prediction\": float('inf'), \"actual\": 0, \"index\": 0}\n",
    "\tmax_instance = {\"prediction\": 0, \"actual\": 0, \"index\": 0}\n",
    "\tpredictions = model.predict(X)\n",
    "\tpredictions = np.expm1(inv_scaling(predictions, y_scaler))\n",
    "\ty_scaled = np.expm1(inv_scaling(y, y_scaler))\n",
    "\tindex_min = np.argmin(np.abs(predictions - y_scaled))\n",
    "\tmin_instance[\"prediction\"] = predictions[index_min].item()\n",
    "\tmin_instance[\"actual\"] = y_scaled[index_min].item()\n",
    "\tmin_instance[\"index\"] = index_min\n",
    "\tindex_max = np.argmax(np.abs(predictions - y_scaled))\n",
    "\tmax_instance[\"prediction\"] = predictions[index_max].item()\n",
    "\tmax_instance[\"actual\"] = y_scaled[index_max].item()\n",
    "\tmax_instance[\"index\"] = index_max\n",
    "\n",
    "\treturn min_instance, max_instance, predictions"
   ]
  },
  {
   "cell_type": "code",
   "execution_count": 33,
   "metadata": {},
   "outputs": [
    {
     "name": "stdout",
     "output_type": "stream",
     "text": [
      "Validation set single thread model\n",
      "Mean prediction: 15.555706024169922 | Std actual: 23.806121826171875\n",
      "Mean actual: 16.002460942900594 | Std actual: 23.942981274873418\n",
      "Mean Error: 2.0467750158172153 | Std Error: 4.153901262825781\n",
      "Min instance\n",
      "total_time                                                          2.70069\n",
      "total_cpu_usage                                                        0.99\n",
      "max_ram_usage                                                     44.105469\n",
      "brand_raw                         Intel(R) Xeon(R) CPU E5-2670 v3 @ 2.30GHz\n",
      "vendor_id_raw                                                  GenuineIntel\n",
      "arch                                                                 X86_64\n",
      "count                                                                    24\n",
      "l2_cache_size                                                           6.0\n",
      "l3_cache_size                                                          30.0\n",
      "l2_cache_line_size                                                      256\n",
      "l2_cache_associativity                                                    6\n",
      "benchmark                                                          TSPd1291\n",
      "ghz_actual_friendly                                                     3.1\n",
      "ghz_advertised_friendly                                                 2.3\n",
      "score                                                                  1702\n",
      "total_time_target                                                   2.56418\n",
      "brand_raw_target                  Intel(R) Xeon(R) CPU E5-2643 v3 @ 3.40GHz\n",
      "l2_cache_size_target                                                    3.0\n",
      "l3_cache_size_target                                                   20.0\n",
      "l2_cache_line_size_target                                               256\n",
      "l2_cache_associativity_target                                             6\n",
      "ghz_advertised_friendly_target                                          3.4\n",
      "score_target                                                           2099\n",
      "rss                                                               43.023147\n",
      "vms                                                               70.215467\n",
      "shared                                                            14.160239\n",
      "text                                                               0.035156\n",
      "data                                                              29.847989\n",
      "Name: 5849, dtype: object\n",
      "Min Prediction: 11.990385055541992 | Actual: 11.990000000000002 | Error: 0.000385055541990198\n",
      "---\n",
      "Max instance\n",
      "total_time                                                        5.652173\n",
      "total_cpu_usage                                                       0.99\n",
      "max_ram_usage                                                         74.5\n",
      "brand_raw                         Intel(R) Core(TM) i5-10400 CPU @ 2.90GHz\n",
      "vendor_id_raw                                                 GenuineIntel\n",
      "arch                                                                X86_64\n",
      "count                                                                   12\n",
      "l2_cache_size                                                          1.5\n",
      "l3_cache_size                                                         12.0\n",
      "l2_cache_line_size                                                     256\n",
      "l2_cache_associativity                                                   6\n",
      "benchmark                                                  MATRIX_MULT_ST7\n",
      "ghz_actual_friendly                                                 4.0987\n",
      "ghz_advertised_friendly                                                2.9\n",
      "score                                                                 2589\n",
      "total_time_target                                                 5.501299\n",
      "brand_raw_target                  Intel(R) Xeon(R) Gold 6330 CPU @ 2.00GHz\n",
      "l2_cache_size_target                                                  70.0\n",
      "l3_cache_size_target                                                  42.0\n",
      "l2_cache_line_size_target                                              256\n",
      "l2_cache_associativity_target                                            6\n",
      "ghz_advertised_friendly_target                                         2.0\n",
      "score_target                                                          2034\n",
      "rss                                                              73.708777\n",
      "vms                                                              76.513215\n",
      "shared                                                            2.474734\n",
      "text                                                              0.007812\n",
      "data                                                             71.394157\n",
      "Name: 3572, dtype: object\n",
      "Max Prediction: 296.4369812011719 | Actual: 244.00999999999993 | Error: 52.42698120117194\n"
     ]
    }
   ],
   "source": [
    "print(\"Validation set single thread model\")\n",
    "min_instance, max_instance, predictions = describe_val(model, X_test, y_test, y_scaler)\n",
    "y_scaled = np.expm1(inv_scaling(y_test, y_scaler))\n",
    "errors = np.abs(predictions - y_scaled)\n",
    "mean_error = np.mean(errors)\n",
    "std_error = np.std(errors)\n",
    "\n",
    "print(f\"Mean prediction: {np.mean(predictions)} | Std actual: {np.std(predictions)}\")\n",
    "print(f\"Mean actual: {np.mean(y_scaled)} | Std actual: {np.std(y_scaled)}\")\n",
    "print(f\"Mean Error: {mean_error} | Std Error: {std_error}\")\n",
    "print(\"Min instance\")\n",
    "print(test_df.iloc[min_instance[\"index\"]])\n",
    "print(f\"Min Prediction: {min_instance['prediction']} | Actual: {min_instance['actual']} | Error: {abs(min_instance['prediction'] - min_instance['actual'])}\")\n",
    "print(\"---\")\n",
    "print(\"Max instance\")\n",
    "print(test_df.iloc[max_instance[\"index\"]])\n",
    "print(f\"Max Prediction: {max_instance['prediction']} | Actual: {max_instance['actual']} | Error: {abs(max_instance['prediction'] - max_instance['actual'])}\")"
   ]
  }
 ],
 "metadata": {
  "kernelspec": {
   "display_name": "venv",
   "language": "python",
   "name": "python3"
  },
  "language_info": {
   "codemirror_mode": {
    "name": "ipython",
    "version": 3
   },
   "file_extension": ".py",
   "mimetype": "text/x-python",
   "name": "python",
   "nbconvert_exporter": "python",
   "pygments_lexer": "ipython3",
   "version": "3.10.13"
  }
 },
 "nbformat": 4,
 "nbformat_minor": 2
}
