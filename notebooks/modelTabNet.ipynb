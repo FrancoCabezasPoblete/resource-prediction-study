{
 "cells": [
  {
   "cell_type": "code",
   "execution_count": 1,
   "metadata": {},
   "outputs": [],
   "source": [
    "import optuna\n",
    "import pandas as pd\n",
    "import numpy as np\n",
    "import random\n",
    "import matplotlib.pyplot as plt\n",
    "import os\n",
    "\n",
    "from optuna.samplers import TPESampler\n",
    "from pytorch_tabnet.tab_model import TabNetRegressor\n",
    "from sklearn.preprocessing import MinMaxScaler\n",
    "from pytorch_tabnet.augmentations import RegressionSMOTE\n",
    "from joblib import dump\n",
    "\n",
    "# Fix random seed\n",
    "seed = 42\n",
    "np.random.seed(seed)\n",
    "random.seed(seed)\n",
    "sampler = TPESampler(seed=seed)\n",
    "\n",
    "optuna.logging.set_verbosity(optuna.logging.WARNING)\n",
    "\n",
    "HYPERPARAMETER_SEARCH = False"
   ]
  },
  {
   "cell_type": "markdown",
   "metadata": {},
   "source": [
    "# Pre-processing input data"
   ]
  },
  {
   "cell_type": "code",
   "execution_count": 2,
   "metadata": {},
   "outputs": [],
   "source": [
    "# train_df and test_df are created in eda notebook\n",
    "if not os.path.exists('csv/train_df.csv') or not os.path.exists('csv/test_df.csv'):\n",
    "\tprint('Please run the eda notebook first')\n",
    "\texit()\n",
    "train_df = pd.read_csv('csv/train_df.csv')\n",
    "test_df = pd.read_csv('csv/test_df.csv')\n",
    "target = 'total_time_target'\n",
    "features = test_df.columns.copy().drop(target).drop(['benchmark','brand_raw', 'brand_raw_target','vendor_id_raw', 'arch'])\n",
    "\n",
    "# Spearman U Kendall correlation feature selection > 0.4\n",
    "# features = [\"total_time\",\"max_ram_usage\",\"brk\",\"munmap\",\"rss\",\"vms\",\"shared\",\"data\"]\n",
    "# mean error: 3.710890619668749 | std error: 10.002043224702053\n",
    "\n",
    "# log for total_times\n",
    "train_df[[target, 'total_time']] = np.log1p(train_df[[target, 'total_time']])\n",
    "test_df[[target, 'total_time']] = np.log1p(test_df[[target, 'total_time']])\n",
    "\n",
    "# Split data\n",
    "X_train = train_df[features]\n",
    "y_train = train_df[target]\n",
    "\n",
    "X_test = test_df[features]\n",
    "y_test = test_df[target]\n",
    "\n",
    "# Normalize data\n",
    "x_scaler = MinMaxScaler(feature_range=(0, 1))\n",
    "X_train = x_scaler.fit_transform(X_train)\n",
    "X_test = x_scaler.transform(X_test)\n",
    "y_scaler = MinMaxScaler(feature_range=(0, 1))\n",
    "y_train = y_scaler.fit_transform(y_train.values.reshape(-1, 1))\n",
    "y_test = y_scaler.transform(y_test.values.reshape(-1, 1))"
   ]
  },
  {
   "cell_type": "code",
   "execution_count": 3,
   "metadata": {},
   "outputs": [],
   "source": [
    "if not os.path.exists('../models/x_scaler.joblib') or not os.path.exists('../models/y_scaler.joblib'):\n",
    "\tdump(x_scaler, '../models/x_scaler.joblib')\n",
    "\tdump(y_scaler, '../models/y_scaler.joblib')"
   ]
  },
  {
   "cell_type": "markdown",
   "metadata": {},
   "source": [
    "# Model: TabNet"
   ]
  },
  {
   "cell_type": "code",
   "execution_count": 4,
   "metadata": {},
   "outputs": [],
   "source": [
    "def inv_scaling(y, y_scaler):\n",
    "    return y_scaler.inverse_transform(y.reshape(-1, 1))"
   ]
  },
  {
   "cell_type": "markdown",
   "metadata": {},
   "source": [
    "# Hyperparameters Optimization"
   ]
  },
  {
   "cell_type": "code",
   "execution_count": 5,
   "metadata": {},
   "outputs": [],
   "source": [
    "def objective(trial: optuna.Trial, X_train, y_train, X_test, y_test):\n",
    "\tn_d = trial.suggest_int('n_d', 8, 64)\n",
    "\tn_steps = trial.suggest_int('n_steps', 3, 10)\n",
    "\tgamma = trial.suggest_float('gamma', 1.0, 2.0)\n",
    "\tn_independent = trial.suggest_int('n_independent', 1, 5)\n",
    "\tn_shared = trial.suggest_int('n_shared', 1, 5)\n",
    "\tmomentum = trial.suggest_float('momentum', 0.01, 0.4)\n",
    "\tmax_epochs = trial.suggest_int('max_epochs', 200, 1000)\n",
    "\t\n",
    "\tmodel = TabNetRegressor(\n",
    "\t\tn_d=n_d,\n",
    "\t\tn_a=n_d,\n",
    "\t\tn_steps=n_steps,\n",
    "\t\tgamma=gamma,\n",
    "\t\tn_independent=n_independent,\n",
    "\t\tn_shared=n_shared,\n",
    "\t\tmomentum=momentum,\n",
    "\t\tverbose=0\n",
    "\t)\n",
    "\n",
    "\taug = RegressionSMOTE(p=0.8)\n",
    "\tmodel.fit(\n",
    "\t\tX_train, y_train,\n",
    "\t\teval_set=[(X_train, y_train), (X_test, y_test)],\n",
    "\t\teval_name=['train', 'valid'],\n",
    "\t\teval_metric=['rmse'],\n",
    "\t\tmax_epochs=max_epochs,\n",
    "\t\taugmentation=aug,\n",
    "\t)\n",
    "\n",
    "\tvalidation_loss = model.best_cost_\n",
    "\treturn validation_loss\n",
    "\n",
    "n_trials = 25\n",
    "study = None"
   ]
  },
  {
   "cell_type": "code",
   "execution_count": 6,
   "metadata": {},
   "outputs": [],
   "source": [
    "if HYPERPARAMETER_SEARCH:\n",
    "\tstudy = optuna.create_study(direction='minimize', sampler=sampler)\n",
    "\tstudy.optimize(lambda trial: objective(trial, X_train, y_train, X_test, y_test), n_trials=n_trials)"
   ]
  },
  {
   "cell_type": "code",
   "execution_count": 7,
   "metadata": {},
   "outputs": [],
   "source": [
    "if study is not None:\n",
    "\tprint(f'Number of trials: {len(study.trials)}')\n",
    "\ttrial = study.best_trial\n",
    "\tprint(f'Best trial: {trial.number}')\n",
    "\tprint(f'Best params: {trial.params}')\n",
    "\tprint(f'Best validation loss: {y_scaler.inverse_transform(np.reshape(trial.value, (-1,1))).item()}')"
   ]
  },
  {
   "cell_type": "markdown",
   "metadata": {},
   "source": [
    "# Training"
   ]
  },
  {
   "cell_type": "code",
   "execution_count": 8,
   "metadata": {},
   "outputs": [],
   "source": [
    "# hyperparameters\n",
    "if study is not None:\n",
    "\tparams = study.best_trial.params\n",
    "else:\n",
    "\tparams = {\n",
    "\t\t\"n_d\": 8,\n",
    "\t\t\"n_a\": 8,\n",
    "\t\t\"n_steps\": 3,\n",
    "\t\t\"gamma\": 1.3,\n",
    "\t\t\"n_independent\": 2,\n",
    "\t\t\"n_shared\": 2,\n",
    "\t\t\"momentum\": 0.02,\n",
    "\t\t\"max_epochs\": 200,\n",
    "\t}"
   ]
  },
  {
   "cell_type": "code",
   "execution_count": 9,
   "metadata": {},
   "outputs": [
    {
     "name": "stderr",
     "output_type": "stream",
     "text": [
      "/home/frnk65/resource-prediction-study/venv/lib/python3.10/site-packages/pytorch_tabnet/abstract_model.py:82: UserWarning: Device used : cuda\n",
      "  warnings.warn(f\"Device used : {self.device}\")\n"
     ]
    },
    {
     "name": "stdout",
     "output_type": "stream",
     "text": [
      "epoch 0  | loss: 0.16507 | train_rmse: 0.17237 | valid_rmse: 0.17322 |  0:00:03s\n",
      "epoch 1  | loss: 0.00686 | train_rmse: 0.1603  | valid_rmse: 0.15794 |  0:00:06s\n",
      "epoch 2  | loss: 0.00356 | train_rmse: 0.14214 | valid_rmse: 0.14413 |  0:00:09s\n",
      "epoch 3  | loss: 0.00258 | train_rmse: 0.10968 | valid_rmse: 0.10639 |  0:00:12s\n",
      "epoch 4  | loss: 0.00208 | train_rmse: 0.08637 | valid_rmse: 0.08535 |  0:00:16s\n",
      "epoch 5  | loss: 0.00183 | train_rmse: 0.06983 | valid_rmse: 0.0705  |  0:00:19s\n",
      "epoch 6  | loss: 0.00168 | train_rmse: 0.05343 | valid_rmse: 0.05277 |  0:00:22s\n",
      "epoch 7  | loss: 0.00166 | train_rmse: 0.04203 | valid_rmse: 0.0443  |  0:00:25s\n",
      "epoch 8  | loss: 0.00155 | train_rmse: 0.03128 | valid_rmse: 0.03251 |  0:00:28s\n",
      "epoch 9  | loss: 0.00146 | train_rmse: 0.03661 | valid_rmse: 0.03412 |  0:00:32s\n",
      "epoch 10 | loss: 0.0015  | train_rmse: 0.02622 | valid_rmse: 0.02359 |  0:00:35s\n",
      "epoch 11 | loss: 0.00128 | train_rmse: 0.02488 | valid_rmse: 0.02252 |  0:00:38s\n",
      "epoch 12 | loss: 0.00124 | train_rmse: 0.02961 | valid_rmse: 0.03071 |  0:00:41s\n",
      "epoch 13 | loss: 0.00127 | train_rmse: 0.04237 | valid_rmse: 0.04374 |  0:00:44s\n",
      "epoch 14 | loss: 0.00153 | train_rmse: 0.03148 | valid_rmse: 0.03051 |  0:00:47s\n",
      "epoch 15 | loss: 0.00119 | train_rmse: 0.025   | valid_rmse: 0.02283 |  0:00:50s\n",
      "epoch 16 | loss: 0.00104 | train_rmse: 0.02667 | valid_rmse: 0.02157 |  0:00:53s\n",
      "epoch 17 | loss: 0.00112 | train_rmse: 0.02499 | valid_rmse: 0.02217 |  0:00:56s\n",
      "epoch 18 | loss: 0.00104 | train_rmse: 0.02531 | valid_rmse: 0.02153 |  0:00:59s\n",
      "epoch 19 | loss: 0.00103 | train_rmse: 0.02861 | valid_rmse: 0.02847 |  0:01:02s\n",
      "epoch 20 | loss: 0.00103 | train_rmse: 0.02581 | valid_rmse: 0.02312 |  0:01:05s\n",
      "epoch 21 | loss: 0.00102 | train_rmse: 0.02517 | valid_rmse: 0.02553 |  0:01:08s\n",
      "epoch 22 | loss: 0.00109 | train_rmse: 0.0242  | valid_rmse: 0.02216 |  0:01:11s\n",
      "epoch 23 | loss: 0.00095 | train_rmse: 0.02621 | valid_rmse: 0.02181 |  0:01:15s\n",
      "epoch 24 | loss: 0.00118 | train_rmse: 0.02256 | valid_rmse: 0.02188 |  0:01:18s\n",
      "epoch 25 | loss: 0.00088 | train_rmse: 0.02901 | valid_rmse: 0.02625 |  0:01:21s\n",
      "epoch 26 | loss: 0.00087 | train_rmse: 0.024   | valid_rmse: 0.02206 |  0:01:24s\n",
      "epoch 27 | loss: 0.00087 | train_rmse: 0.02423 | valid_rmse: 0.02216 |  0:01:27s\n",
      "epoch 28 | loss: 0.00088 | train_rmse: 0.02369 | valid_rmse: 0.02121 |  0:01:30s\n",
      "epoch 29 | loss: 0.00075 | train_rmse: 0.02403 | valid_rmse: 0.02254 |  0:01:33s\n",
      "epoch 30 | loss: 0.00076 | train_rmse: 0.02155 | valid_rmse: 0.01967 |  0:01:36s\n",
      "epoch 31 | loss: 0.00073 | train_rmse: 0.0228  | valid_rmse: 0.02112 |  0:01:39s\n",
      "epoch 32 | loss: 0.00074 | train_rmse: 0.02608 | valid_rmse: 0.02503 |  0:01:42s\n",
      "epoch 33 | loss: 0.00103 | train_rmse: 0.02655 | valid_rmse: 0.02567 |  0:01:45s\n",
      "epoch 34 | loss: 0.00087 | train_rmse: 0.02432 | valid_rmse: 0.02189 |  0:01:48s\n",
      "epoch 35 | loss: 0.00065 | train_rmse: 0.02148 | valid_rmse: 0.02178 |  0:01:51s\n",
      "epoch 36 | loss: 0.00066 | train_rmse: 0.02324 | valid_rmse: 0.02131 |  0:01:54s\n",
      "epoch 37 | loss: 0.00075 | train_rmse: 0.02258 | valid_rmse: 0.02123 |  0:01:57s\n",
      "epoch 38 | loss: 0.00075 | train_rmse: 0.02144 | valid_rmse: 0.02089 |  0:02:00s\n",
      "epoch 39 | loss: 0.00069 | train_rmse: 0.02405 | valid_rmse: 0.02185 |  0:02:03s\n",
      "epoch 40 | loss: 0.00067 | train_rmse: 0.02102 | valid_rmse: 0.01975 |  0:02:06s\n",
      "\n",
      "Early stopping occurred at epoch 40 with best_epoch = 30 and best_valid_rmse = 0.01967\n"
     ]
    },
    {
     "name": "stderr",
     "output_type": "stream",
     "text": [
      "/home/frnk65/resource-prediction-study/venv/lib/python3.10/site-packages/pytorch_tabnet/callbacks.py:172: UserWarning: Best weights from best epoch are automatically used!\n",
      "  warnings.warn(wrn_msg)\n"
     ]
    }
   ],
   "source": [
    "# single thread model initialization\n",
    "aug = RegressionSMOTE(p=0.8)\n",
    "model = TabNetRegressor(\n",
    "\tn_d=params[\"n_d\"],\n",
    "\tn_a=params[\"n_a\"],\n",
    "\tn_steps=params[\"n_steps\"],\n",
    "\tgamma=params[\"gamma\"],\n",
    "\tn_independent=params[\"n_independent\"],\n",
    "\tn_shared=params[\"n_shared\"],\n",
    "\tmomentum=params[\"momentum\"],\n",
    ")\n",
    "model.fit(\n",
    "\tX_train=X_train, \n",
    "\ty_train=y_train,\n",
    "\teval_set=[(X_train, y_train), (X_test, y_test)],\n",
    "\teval_name=['train', 'valid'],\n",
    "\teval_metric=['rmse'],\n",
    "\taugmentations=aug,\n",
    "\tmax_epochs=params[\"max_epochs\"],\n",
    ")"
   ]
  },
  {
   "cell_type": "code",
   "execution_count": 10,
   "metadata": {},
   "outputs": [
    {
     "data": {
      "image/png": "[encoded data removed]",
      "text/plain": [
       "<Figure size 1000x500 with 1 Axes>"
      ]
     },
     "metadata": {},
     "output_type": "display_data"
    }
   ],
   "source": [
    "# Plot loss\n",
    "plt.figure(figsize=(10, 5))\n",
    "plt.plot(model.history[\"train_rmse\"], label='Train Loss')\n",
    "plt.plot(model.history[\"valid_rmse\"], label='Validation Loss')\n",
    "plt.title('Train and Validation Loss')\n",
    "plt.xlabel('Epoch')\n",
    "plt.ylabel('RMSE Loss')\n",
    "plt.legend()\n",
    "plt.show()"
   ]
  },
  {
   "cell_type": "code",
   "execution_count": 11,
   "metadata": {},
   "outputs": [
    {
     "name": "stdout",
     "output_type": "stream",
     "text": [
      "Successfully saved model at ../models/tabnet_model.zip\n"
     ]
    },
    {
     "data": {
      "text/plain": [
       "'../models/tabnet_model.zip'"
      ]
     },
     "execution_count": 11,
     "metadata": {},
     "output_type": "execute_result"
    }
   ],
   "source": [
    "# save model\n",
    "model.save_model('../models/tabnet_model')"
   ]
  },
  {
   "cell_type": "markdown",
   "metadata": {},
   "source": [
    "# Describe Validation"
   ]
  },
  {
   "cell_type": "code",
   "execution_count": 12,
   "metadata": {},
   "outputs": [
    {
     "name": "stderr",
     "output_type": "stream",
     "text": [
      "/home/frnk65/resource-prediction-study/venv/lib/python3.10/site-packages/pytorch_tabnet/abstract_model.py:82: UserWarning: Device used : cuda\n",
      "  warnings.warn(f\"Device used : {self.device}\")\n"
     ]
    }
   ],
   "source": [
    "model = TabNetRegressor(\n",
    "\tn_d=params[\"n_d\"],\n",
    "\tn_a=params[\"n_a\"],\n",
    "\tn_steps=params[\"n_steps\"],\n",
    "\tgamma=params[\"gamma\"],\n",
    "\tn_independent=params[\"n_independent\"],\n",
    "\tn_shared=params[\"n_shared\"],\n",
    "\tmomentum=params[\"momentum\"],\n",
    ")\n",
    "model.load_model('../models/tabnet_model.zip')"
   ]
  },
  {
   "cell_type": "code",
   "execution_count": 14,
   "metadata": {},
   "outputs": [],
   "source": [
    "def describe_val(model, X, y, y_scaler):\n",
    "\tmin_instance = {\"prediction\": float('inf'), \"actual\": 0, \"index\": 0}\n",
    "\tmax_instance = {\"prediction\": 0, \"actual\": 0, \"index\": 0}\n",
    "\tpredictions = model.predict(X)\n",
    "\tpredictions = np.expm1(inv_scaling(predictions, y_scaler))\n",
    "\ty_scaled = np.expm1(inv_scaling(y, y_scaler))\n",
    "\tindex_min = np.argmin(np.abs(predictions - y_scaled))\n",
    "\tmin_instance[\"prediction\"] = predictions[index_min].item()\n",
    "\tmin_instance[\"actual\"] = y_scaled[index_min].item()\n",
    "\tmin_instance[\"index\"] = index_min\n",
    "\tindex_max = np.argmax(np.abs(predictions - y_scaled))\n",
    "\tmax_instance[\"prediction\"] = predictions[index_max].item()\n",
    "\tmax_instance[\"actual\"] = y_scaled[index_max].item()\n",
    "\tmax_instance[\"index\"] = index_max\n",
    "\n",
    "\treturn min_instance, max_instance, predictions"
   ]
  },
  {
   "cell_type": "code",
   "execution_count": 15,
   "metadata": {},
   "outputs": [],
   "source": [
    "test_df_og = pd.read_csv('csv/test_df.csv')"
   ]
  },
  {
   "cell_type": "code",
   "execution_count": null,
   "metadata": {},
   "outputs": [],
   "source": [
    "_, _, predictions = describe_val(model, X_test, y_test, y_scaler)\n",
    "y_scaled = np.expm1(inv_scaling(y_test, y_scaler))\n",
    "df = pd.DataFrame(predictions, columns=['predictions'])\n",
    "df['actual'] = y_scaled\n",
    "df.to_csv('csv/predictions_tabnet.csv', index=False)"
   ]
  },
  {
   "cell_type": "code",
   "execution_count": 16,
   "metadata": {},
   "outputs": [
    {
     "name": "stdout",
     "output_type": "stream",
     "text": [
      "Validation set single thread model\n",
      "Mean prediction: 22.871753692626953 | Std actual: 40.53125762939453\n",
      "Mean actual: 23.631032844733987 | Std actual: 41.60096829835196\n",
      "Mean Error: 2.8403274658798416 | Std Error: 6.144453369106638\n",
      "Min instance\n",
      "total_time                                                             6.7\n",
      "total_cpu_usage                                                       0.99\n",
      "max_ram_usage                                                    26.675781\n",
      "brand_raw                         Intel(R) Xeon(R) Gold 6330 CPU @ 2.00GHz\n",
      "vendor_id_raw                                                 GenuineIntel\n",
      "arch                                                                X86_64\n",
      "count                                                                   56\n",
      "l2_cache_size                                                         70.0\n",
      "l3_cache_size                                                         42.0\n",
      "l2_cache_line_size                                                     256\n",
      "l2_cache_associativity                                                   6\n",
      "benchmark                                                        TSPrat575\n",
      "ghz_actual_friendly                                                    2.0\n",
      "ghz_advertised_friendly                                                2.0\n",
      "score                                                                 2034\n",
      "munmap                                                                   3\n",
      "mprotect                                                                 9\n",
      "stat                                                                     1\n",
      "rt_sigaction                                                             2\n",
      "rt_sigprocmask                                                           1\n",
      "openat                                                                   9\n",
      "set_robust_list                                                          1\n",
      "fstat                                                                    8\n",
      "mmap                                                                    42\n",
      "read                                                                     8\n",
      "futex                                                                    2\n",
      "set_tid_address                                                          1\n",
      "prlimit64                                                                1\n",
      "brk                                                                     87\n",
      "close                                                                    9\n",
      "total_time_target                                                     5.99\n",
      "brand_raw_target                  Intel(R) Xeon(R) Gold 6130 CPU @ 2.10GHz\n",
      "l2_cache_size_target                                                  32.0\n",
      "l3_cache_size_target                                                  22.0\n",
      "l2_cache_line_size_target                                              256\n",
      "l2_cache_associativity_target                                            6\n",
      "ghz_advertised_friendly_target                                         2.1\n",
      "score_target                                                          1880\n",
      "rss                                                              25.283854\n",
      "vms                                                              52.264583\n",
      "shared                                                           14.111372\n",
      "text                                                              0.035156\n",
      "data                                                             11.862543\n",
      "Name: 686, dtype: object\n",
      "Min Prediction: 5.990097522735596 | Actual: 5.989999999999999 | Error: 9.752273559637814e-05\n",
      "---\n",
      "Max instance\n",
      "total_time                                                           244.01\n",
      "total_cpu_usage                                                        0.99\n",
      "max_ram_usage                                                     74.691406\n",
      "brand_raw                          Intel(R) Xeon(R) Gold 6330 CPU @ 2.00GHz\n",
      "vendor_id_raw                                                  GenuineIntel\n",
      "arch                                                                 X86_64\n",
      "count                                                                    56\n",
      "l2_cache_size                                                          70.0\n",
      "l3_cache_size                                                          42.0\n",
      "l2_cache_line_size                                                      256\n",
      "l2_cache_associativity                                                    6\n",
      "benchmark                                                   MATRIX_MULT_ST7\n",
      "ghz_actual_friendly                                                     2.0\n",
      "ghz_advertised_friendly                                                 2.0\n",
      "score                                                                  2034\n",
      "munmap                                                                    1\n",
      "mprotect                                                                  6\n",
      "stat                                                                      2\n",
      "rt_sigaction                                                              0\n",
      "rt_sigprocmask                                                            0\n",
      "openat                                                                    5\n",
      "set_robust_list                                                           0\n",
      "fstat                                                                     5\n",
      "mmap                                                                     22\n",
      "read                                                                      4\n",
      "futex                                                                     0\n",
      "set_tid_address                                                           0\n",
      "prlimit64                                                                 0\n",
      "brk                                                                     546\n",
      "close                                                                     5\n",
      "total_time_target                                                    287.25\n",
      "brand_raw_target                  Intel(R) Xeon(R) CPU E5-2670 v3 @ 2.30GHz\n",
      "l2_cache_size_target                                                    6.0\n",
      "l3_cache_size_target                                                   30.0\n",
      "l2_cache_line_size_target                                               256\n",
      "l2_cache_associativity_target                                             6\n",
      "ghz_advertised_friendly_target                                          2.3\n",
      "score_target                                                           1702\n",
      "rss                                                                73.90617\n",
      "vms                                                               76.535276\n",
      "shared                                                             2.675542\n",
      "text                                                               0.011719\n",
      "data                                                              71.433235\n",
      "Name: 5075, dtype: object\n",
      "Max Prediction: 215.57952880859375 | Actual: 287.24999999999994 | Error: 71.6704711914062\n"
     ]
    }
   ],
   "source": [
    "print(\"Validation set single thread model\")\n",
    "min_instance, max_instance, predictions = describe_val(model, X_test, y_test, y_scaler)\n",
    "y_scaled = np.expm1(inv_scaling(y_test, y_scaler))\n",
    "errors = np.abs(predictions - y_scaled)\n",
    "mean_error = np.mean(errors)\n",
    "std_error = np.std(errors)\n",
    "\n",
    "print(f\"Mean prediction: {np.mean(predictions)} | Std actual: {np.std(predictions)}\")\n",
    "print(f\"Mean actual: {np.mean(y_scaled)} | Std actual: {np.std(y_scaled)}\")\n",
    "print(f\"Mean Error: {mean_error} | Std Error: {std_error}\")\n",
    "print(\"Min instance\")\n",
    "print(test_df_og.iloc[min_instance[\"index\"]])\n",
    "print(f\"Min Prediction: {min_instance['prediction']} | Actual: {min_instance['actual']} | Error: {abs(min_instance['prediction'] - min_instance['actual'])}\")\n",
    "print(\"---\")\n",
    "print(\"Max instance\")\n",
    "print(test_df_og.iloc[max_instance[\"index\"]])\n",
    "print(f\"Max Prediction: {max_instance['prediction']} | Actual: {max_instance['actual']} | Error: {abs(max_instance['prediction'] - max_instance['actual'])}\")"
   ]
  }
 ],
 "metadata": {
  "kernelspec": {
   "display_name": "venv",
   "language": "python",
   "name": "python3"
  },
  "language_info": {
   "codemirror_mode": {
    "name": "ipython",
    "version": 3
   },
   "file_extension": ".py",
   "mimetype": "text/x-python",
   "name": "python",
   "nbconvert_exporter": "python",
   "pygments_lexer": "ipython3",
   "version": "3.10.13"
  }
 },
 "nbformat": 4,
 "nbformat_minor": 2
}
