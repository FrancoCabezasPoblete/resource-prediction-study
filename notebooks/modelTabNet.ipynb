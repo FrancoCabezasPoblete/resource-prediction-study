{
 "cells": [
  {
   "cell_type": "code",
   "execution_count": 1,
   "metadata": {},
   "outputs": [],
   "source": [
    "import optuna\n",
    "from optuna.samplers import TPESampler\n",
    "import pandas as pd\n",
    "import numpy as np\n",
    "import random\n",
    "from pytorch_tabnet.tab_model import TabNetRegressor\n",
    "from sklearn.preprocessing import MinMaxScaler\n",
    "from pytorch_tabnet.augmentations import RegressionSMOTE\n",
    "from sklearn.metrics import mean_squared_error, mean_absolute_error"
   ]
  },
  {
   "cell_type": "code",
   "execution_count": 2,
   "metadata": {},
   "outputs": [],
   "source": [
    "# Fix random seed\n",
    "seed = 42\n",
    "np.random.seed(seed)\n",
    "random.seed(seed)\n",
    "sampler = TPESampler(seed=seed)"
   ]
  },
  {
   "cell_type": "markdown",
   "metadata": {},
   "source": [
    "# Pre-processing input data"
   ]
  },
  {
   "cell_type": "code",
   "execution_count": 3,
   "metadata": {},
   "outputs": [],
   "source": [
    "def bits_to_MiB(row):\n",
    "\t# verify if has string ' MiB'\n",
    "\tif 'MiB' in str(row):\n",
    "\t\trow = row.replace(' MiB', '')\n",
    "\t\trow = float(row)\n",
    "\telse:\n",
    "\t\trow = float(row) / np.power(2, 20)\n",
    "\treturn row\n",
    "\n",
    "\n",
    "def MHz_to_GHz(row):\n",
    "\t# verify if has string ' GHz'\n",
    "\tif 'GHz' in str(row):\n",
    "\t\trow = row.replace(' GHz', '')\n",
    "\t\t# convert to float\n",
    "\t\trow = float(row)\n",
    "\telse:\n",
    "\t\trow = row.replace(' MHz', '')\n",
    "\t\trow = float(row) / 1000\n",
    "\treturn row"
   ]
  },
  {
   "cell_type": "code",
   "execution_count": 4,
   "metadata": {},
   "outputs": [],
   "source": [
    "results_df = pd.read_csv('../results_new/execution_time.csv')\n",
    "results_savio_df = pd.read_csv('../results_savio_new/execution_time.csv')\n",
    "results_df = pd.concat([results_df, results_savio_df], ignore_index=True)\n",
    "# preprocessing\n",
    "results_df['total_cpu_usage'] = results_df['total_cpu_usage'].str.replace('%', '').astype(float) / 100\n",
    "results_df['max_ram_usage'] = results_df['max_ram_usage'] / 1024\n",
    "results_df['l2_cache_size'] = results_df['l2_cache_size'].apply(bits_to_MiB)\n",
    "results_df['l3_cache_size'] = results_df['l3_cache_size'].apply(bits_to_MiB)\n",
    "results_df['ghz_actual_friendly'] = results_df['hz_actual_friendly'].apply(MHz_to_GHz)\n",
    "results_df['ghz_advertised_friendly'] = results_df['hz_advertised_friendly'].str.replace('GHz', '').astype(float)\n",
    "results_df = results_df.drop(columns=['hz_actual_friendly', 'hz_advertised_friendly', 'arch', 'vendor_id_raw'])"
   ]
  },
  {
   "cell_type": "code",
   "execution_count": 5,
   "metadata": {},
   "outputs": [
    {
     "data": {
      "text/html": [
       "<div>\n",
       "<style scoped>\n",
       "    .dataframe tbody tr th:only-of-type {\n",
       "        vertical-align: middle;\n",
       "    }\n",
       "\n",
       "    .dataframe tbody tr th {\n",
       "        vertical-align: top;\n",
       "    }\n",
       "\n",
       "    .dataframe thead th {\n",
       "        text-align: right;\n",
       "    }\n",
       "</style>\n",
       "<table border=\"1\" class=\"dataframe\">\n",
       "  <thead>\n",
       "    <tr style=\"text-align: right;\">\n",
       "      <th></th>\n",
       "      <th>total_time</th>\n",
       "      <th>total_cpu_usage</th>\n",
       "      <th>max_ram_usage</th>\n",
       "      <th>brand_raw</th>\n",
       "      <th>count</th>\n",
       "      <th>l2_cache_size</th>\n",
       "      <th>l3_cache_size</th>\n",
       "      <th>l2_cache_line_size</th>\n",
       "      <th>l2_cache_associativity</th>\n",
       "      <th>benchmark</th>\n",
       "      <th>ghz_actual_friendly</th>\n",
       "      <th>ghz_advertised_friendly</th>\n",
       "      <th>total_time_target</th>\n",
       "      <th>brand_raw_target</th>\n",
       "      <th>count_target</th>\n",
       "      <th>l2_cache_size_target</th>\n",
       "      <th>l3_cache_size_target</th>\n",
       "      <th>l2_cache_line_size_target</th>\n",
       "      <th>l2_cache_associativity_target</th>\n",
       "      <th>ghz_advertised_friendly_target</th>\n",
       "    </tr>\n",
       "  </thead>\n",
       "  <tbody>\n",
       "    <tr>\n",
       "      <th>5</th>\n",
       "      <td>13.47</td>\n",
       "      <td>0.99</td>\n",
       "      <td>1436.714844</td>\n",
       "      <td>Intel(R) Core(TM) i5-10400 CPU @ 2.90GHz</td>\n",
       "      <td>12</td>\n",
       "      <td>1.5</td>\n",
       "      <td>12.0</td>\n",
       "      <td>256</td>\n",
       "      <td>6</td>\n",
       "      <td>KNP</td>\n",
       "      <td>4.1729</td>\n",
       "      <td>2.9</td>\n",
       "      <td>45.91</td>\n",
       "      <td>13th Gen Intel(R) Core(TM) i5-1335U</td>\n",
       "      <td>12</td>\n",
       "      <td>7.5</td>\n",
       "      <td>12.0</td>\n",
       "      <td>1280</td>\n",
       "      <td>7</td>\n",
       "      <td>2.496</td>\n",
       "    </tr>\n",
       "    <tr>\n",
       "      <th>6</th>\n",
       "      <td>13.47</td>\n",
       "      <td>0.99</td>\n",
       "      <td>1436.714844</td>\n",
       "      <td>Intel(R) Core(TM) i5-10400 CPU @ 2.90GHz</td>\n",
       "      <td>12</td>\n",
       "      <td>1.5</td>\n",
       "      <td>12.0</td>\n",
       "      <td>256</td>\n",
       "      <td>6</td>\n",
       "      <td>KNP</td>\n",
       "      <td>4.1729</td>\n",
       "      <td>2.9</td>\n",
       "      <td>25.77</td>\n",
       "      <td>13th Gen Intel(R) Core(TM) i5-1335U</td>\n",
       "      <td>12</td>\n",
       "      <td>7.5</td>\n",
       "      <td>12.0</td>\n",
       "      <td>1280</td>\n",
       "      <td>7</td>\n",
       "      <td>2.496</td>\n",
       "    </tr>\n",
       "  </tbody>\n",
       "</table>\n",
       "</div>"
      ],
      "text/plain": [
       "   total_time  total_cpu_usage  max_ram_usage  \\\n",
       "5       13.47             0.99    1436.714844   \n",
       "6       13.47             0.99    1436.714844   \n",
       "\n",
       "                                  brand_raw  count  l2_cache_size  \\\n",
       "5  Intel(R) Core(TM) i5-10400 CPU @ 2.90GHz     12            1.5   \n",
       "6  Intel(R) Core(TM) i5-10400 CPU @ 2.90GHz     12            1.5   \n",
       "\n",
       "   l3_cache_size  l2_cache_line_size  l2_cache_associativity benchmark  \\\n",
       "5           12.0                 256                       6       KNP   \n",
       "6           12.0                 256                       6       KNP   \n",
       "\n",
       "   ghz_actual_friendly  ghz_advertised_friendly  total_time_target  \\\n",
       "5               4.1729                      2.9              45.91   \n",
       "6               4.1729                      2.9              25.77   \n",
       "\n",
       "                      brand_raw_target  count_target  l2_cache_size_target  \\\n",
       "5  13th Gen Intel(R) Core(TM) i5-1335U            12                   7.5   \n",
       "6  13th Gen Intel(R) Core(TM) i5-1335U            12                   7.5   \n",
       "\n",
       "   l3_cache_size_target  l2_cache_line_size_target  \\\n",
       "5                  12.0                       1280   \n",
       "6                  12.0                       1280   \n",
       "\n",
       "   l2_cache_associativity_target  ghz_advertised_friendly_target  \n",
       "5                              7                           2.496  \n",
       "6                              7                           2.496  "
      ]
     },
     "execution_count": 5,
     "metadata": {},
     "output_type": "execute_result"
    }
   ],
   "source": [
    "# Make the target dataset\n",
    "target_df = results_df[['total_time', 'brand_raw', 'count', 'l2_cache_size', 'l3_cache_size', 'l2_cache_line_size', 'l2_cache_associativity', 'ghz_advertised_friendly', 'benchmark']].copy()\n",
    "# Rename columns to *_target\n",
    "target_df = target_df.rename(columns={\n",
    "    'total_time': 'total_time_target',\n",
    "    'brand_raw': 'brand_raw_target',\n",
    "    'count': 'count_target',\n",
    "    'l2_cache_size': 'l2_cache_size_target',\n",
    "    'l3_cache_size': 'l3_cache_size_target',\n",
    "    'l2_cache_line_size': 'l2_cache_line_size_target',\n",
    "    'l2_cache_associativity': 'l2_cache_associativity_target',\n",
    "    'ghz_advertised_friendly': 'ghz_advertised_friendly_target',\n",
    "})\n",
    "\n",
    "dataset_df = pd.merge(results_df, target_df, how='inner', on='benchmark')\n",
    "dataset_df = dataset_df[dataset_df['brand_raw'] != dataset_df['brand_raw_target']]\n",
    "dataset_df.head(2)"
   ]
  },
  {
   "cell_type": "code",
   "execution_count": 6,
   "metadata": {},
   "outputs": [],
   "source": [
    "# remove one computer for testing\n",
    "g_train = dataset_df[(dataset_df['brand_raw'] != '13th Gen Intel(R) Core(TM) i5-1335U') & (dataset_df['brand_raw_target'] != '13th Gen Intel(R) Core(TM) i5-1335U')]\n",
    "g_test = dataset_df[dataset_df['brand_raw_target'] == '13th Gen Intel(R) Core(TM) i5-1335U']"
   ]
  },
  {
   "cell_type": "code",
   "execution_count": 7,
   "metadata": {},
   "outputs": [],
   "source": [
    "mm_df = dataset_df[dataset_df['benchmark'].isin(['MATRIX_MULT', 'MATRIX_MULT2', 'MATRIX_MULT3'])]\n",
    "# remove one computer for testing\n",
    "mm_train = mm_df[(mm_df['brand_raw'] != '13th Gen Intel(R) Core(TM) i5-1335U') & (mm_df['brand_raw_target'] != '13th Gen Intel(R) Core(TM) i5-1335U')]\n",
    "mm_test = mm_df[mm_df['brand_raw_target'] == '13th Gen Intel(R) Core(TM) i5-1335U']"
   ]
  },
  {
   "cell_type": "code",
   "execution_count": 8,
   "metadata": {},
   "outputs": [],
   "source": [
    "st_df = dataset_df[~dataset_df['benchmark'].isin(['MATRIX_MULT', 'MATRIX_MULT2', 'MATRIX_MULT3'])]\n",
    "# remove one computer for testing\n",
    "st_train = st_df[(st_df['brand_raw'] != '13th Gen Intel(R) Core(TM) i5-1335U') & (st_df['brand_raw_target'] != '13th Gen Intel(R) Core(TM) i5-1335U')]\n",
    "st_test = st_df[st_df['brand_raw_target'] == '13th Gen Intel(R) Core(TM) i5-1335U']"
   ]
  },
  {
   "cell_type": "code",
   "execution_count": 9,
   "metadata": {},
   "outputs": [],
   "source": [
    "# load test dataset\n",
    "# g_test = pd.read_csv('csv/g_test.csv')\n",
    "# st_test = pd.read_csv('csv/st_test.csv')\n",
    "# mm_test = pd.read_csv('csv/mm_test.csv')"
   ]
  },
  {
   "cell_type": "code",
   "execution_count": 10,
   "metadata": {},
   "outputs": [],
   "source": [
    "target = 'total_time_target'\n",
    "features = mm_test.columns.copy().drop(target).drop(['benchmark','brand_raw', 'brand_raw_target'])\n",
    "features_st = features.copy().drop(['count', 'count_target'])"
   ]
  },
  {
   "cell_type": "code",
   "execution_count": 11,
   "metadata": {},
   "outputs": [],
   "source": [
    "# general data\n",
    "## split data\n",
    "X_g_train = g_train[features]\n",
    "y_g_train = g_train[target]\n",
    "\n",
    "## test\n",
    "X_g_test = g_test[features]\n",
    "y_g_test = g_test[target]\n",
    "\n",
    "## normalize data\n",
    "x_g_scaler = MinMaxScaler(feature_range=(0, 1))\n",
    "X_g_train = x_g_scaler.fit_transform(X_g_train)\n",
    "X_g_test = x_g_scaler.transform(X_g_test)\n",
    "y_g_scaler = MinMaxScaler(feature_range=(0, 1))\n",
    "y_g_train = y_g_scaler.fit_transform(y_g_train.values.reshape(-1, 1))\n",
    "y_g_test = y_g_scaler.transform(y_g_test.values.reshape(-1, 1))"
   ]
  },
  {
   "cell_type": "code",
   "execution_count": 12,
   "metadata": {},
   "outputs": [],
   "source": [
    "# single thread data\n",
    "## split data\n",
    "X_st_train = st_train[features_st]\n",
    "y_st_train = st_train[target]\n",
    "\n",
    "## test\n",
    "X_st_test = st_test[features_st]\n",
    "y_st_test = st_test[target]\n",
    "\n",
    "## normalize data\n",
    "x_st_scaler = MinMaxScaler(feature_range=(0, 1))\n",
    "X_st_train = x_st_scaler.fit_transform(X_st_train)\n",
    "X_st_test = x_st_scaler.transform(X_st_test)\n",
    "y_st_scaler = MinMaxScaler(feature_range=(0, 1))\n",
    "y_st_train = y_st_scaler.fit_transform(y_st_train.values.reshape(-1, 1))\n",
    "y_st_test = y_st_scaler.transform(y_st_test.values.reshape(-1, 1))"
   ]
  },
  {
   "cell_type": "code",
   "execution_count": 13,
   "metadata": {},
   "outputs": [],
   "source": [
    "# multi thread data\n",
    "## split data\n",
    "X_mm_train = mm_train[features]\n",
    "y_mm_train = mm_train[target]\n",
    "\n",
    "X_mm_test = mm_test[features]\n",
    "y_mm_test = mm_test[target]\n",
    "\n",
    "## normalize data\n",
    "x_mm_scaler = MinMaxScaler(feature_range=(0, 1))\n",
    "X_mm_train = x_mm_scaler.fit_transform(X_mm_train)\n",
    "X_mm_test = x_mm_scaler.transform(X_mm_test)\n",
    "y_mm_scaler = MinMaxScaler(feature_range=(0, 1))\n",
    "y_mm_train = y_mm_scaler.fit_transform(y_mm_train.values.reshape(-1, 1))\n",
    "y_mm_test = y_mm_scaler.transform(y_mm_test.values.reshape(-1, 1))"
   ]
  },
  {
   "cell_type": "code",
   "execution_count": 14,
   "metadata": {},
   "outputs": [],
   "source": [
    "aug = RegressionSMOTE(p=0.2)"
   ]
  },
  {
   "cell_type": "markdown",
   "metadata": {},
   "source": [
    "# Training"
   ]
  },
  {
   "cell_type": "code",
   "execution_count": 15,
   "metadata": {},
   "outputs": [],
   "source": [
    "models_folder = '../models/tabnet'\n",
    "patience = 25\n",
    "num_epochs = 100"
   ]
  },
  {
   "cell_type": "code",
   "execution_count": 16,
   "metadata": {},
   "outputs": [],
   "source": [
    "def inv_scaling(y, y_scaler):\n",
    "    return y_scaler.inverse_transform(y.reshape(-1, 1))"
   ]
  },
  {
   "cell_type": "markdown",
   "metadata": {},
   "source": [
    "## General"
   ]
  },
  {
   "cell_type": "code",
   "execution_count": 17,
   "metadata": {},
   "outputs": [
    {
     "name": "stderr",
     "output_type": "stream",
     "text": [
      "/home/frnk65/resource-prediction-study/venv/lib/python3.10/site-packages/pytorch_tabnet/abstract_model.py:82: UserWarning: Device used : cuda\n",
      "  warnings.warn(f\"Device used : {self.device}\")\n"
     ]
    },
    {
     "name": "stdout",
     "output_type": "stream",
     "text": [
      "epoch 0  | loss: 0.10108 | train_mae: 0.07526 | train_rmse: 0.12143 | train_mse: 0.01475 | valid_mae: 0.15099 | valid_rmse: 0.24589 | valid_mse: 0.06046 |  0:00:01s\n",
      "epoch 1  | loss: 0.01107 | train_mae: 0.06614 | train_rmse: 0.11522 | train_mse: 0.01328 | valid_mae: 0.14517 | valid_rmse: 0.24244 | valid_mse: 0.05878 |  0:00:02s\n",
      "epoch 2  | loss: 0.00737 | train_mae: 0.06708 | train_rmse: 0.11628 | train_mse: 0.01352 | valid_mae: 0.15376 | valid_rmse: 0.24486 | valid_mse: 0.05996 |  0:00:02s\n",
      "epoch 3  | loss: 0.00595 | train_mae: 0.06844 | train_rmse: 0.11591 | train_mse: 0.01343 | valid_mae: 0.15444 | valid_rmse: 0.23868 | valid_mse: 0.05697 |  0:00:03s\n",
      "epoch 4  | loss: 0.00515 | train_mae: 0.06576 | train_rmse: 0.11084 | train_mse: 0.01229 | valid_mae: 0.14825 | valid_rmse: 0.22852 | valid_mse: 0.05222 |  0:00:04s\n",
      "epoch 5  | loss: 0.00463 | train_mae: 0.06515 | train_rmse: 0.10944 | train_mse: 0.01198 | valid_mae: 0.1473  | valid_rmse: 0.22593 | valid_mse: 0.05105 |  0:00:05s\n",
      "epoch 6  | loss: 0.00458 | train_mae: 0.06529 | train_rmse: 0.10976 | train_mse: 0.01205 | valid_mae: 0.14879 | valid_rmse: 0.2268  | valid_mse: 0.05144 |  0:00:06s\n",
      "epoch 7  | loss: 0.00404 | train_mae: 0.06304 | train_rmse: 0.10629 | train_mse: 0.0113  | valid_mae: 0.14429 | valid_rmse: 0.2204  | valid_mse: 0.04858 |  0:00:07s\n",
      "epoch 8  | loss: 0.00384 | train_mae: 0.06241 | train_rmse: 0.10466 | train_mse: 0.01095 | valid_mae: 0.14222 | valid_rmse: 0.21842 | valid_mse: 0.04771 |  0:00:08s\n",
      "epoch 9  | loss: 0.00355 | train_mae: 0.06152 | train_rmse: 0.10281 | train_mse: 0.01057 | valid_mae: 0.13937 | valid_rmse: 0.21566 | valid_mse: 0.04651 |  0:00:09s\n",
      "epoch 10 | loss: 0.00348 | train_mae: 0.06136 | train_rmse: 0.09966 | train_mse: 0.00993 | valid_mae: 0.13888 | valid_rmse: 0.21124 | valid_mse: 0.04462 |  0:00:10s\n",
      "epoch 11 | loss: 0.00336 | train_mae: 0.05841 | train_rmse: 0.09586 | train_mse: 0.00919 | valid_mae: 0.13335 | valid_rmse: 0.20594 | valid_mse: 0.04241 |  0:00:10s\n",
      "epoch 12 | loss: 0.00336 | train_mae: 0.05381 | train_rmse: 0.08913 | train_mse: 0.00794 | valid_mae: 0.12764 | valid_rmse: 0.19731 | valid_mse: 0.03893 |  0:00:11s\n",
      "epoch 13 | loss: 0.00307 | train_mae: 0.05074 | train_rmse: 0.08387 | train_mse: 0.00703 | valid_mae: 0.12225 | valid_rmse: 0.1901  | valid_mse: 0.03614 |  0:00:12s\n",
      "epoch 14 | loss: 0.00301 | train_mae: 0.04928 | train_rmse: 0.08114 | train_mse: 0.00658 | valid_mae: 0.12134 | valid_rmse: 0.18809 | valid_mse: 0.03538 |  0:00:13s\n",
      "epoch 15 | loss: 0.00287 | train_mae: 0.04694 | train_rmse: 0.07803 | train_mse: 0.00609 | valid_mae: 0.12006 | valid_rmse: 0.18624 | valid_mse: 0.03469 |  0:00:14s\n",
      "epoch 16 | loss: 0.0029  | train_mae: 0.04504 | train_rmse: 0.07498 | train_mse: 0.00562 | valid_mae: 0.11696 | valid_rmse: 0.18259 | valid_mse: 0.03334 |  0:00:15s\n",
      "epoch 17 | loss: 0.00275 | train_mae: 0.04362 | train_rmse: 0.0734  | train_mse: 0.00539 | valid_mae: 0.1177  | valid_rmse: 0.1842  | valid_mse: 0.03393 |  0:00:16s\n",
      "epoch 18 | loss: 0.00273 | train_mae: 0.04189 | train_rmse: 0.06912 | train_mse: 0.00478 | valid_mae: 0.11359 | valid_rmse: 0.1766  | valid_mse: 0.03119 |  0:00:17s\n",
      "epoch 19 | loss: 0.00265 | train_mae: 0.04075 | train_rmse: 0.06816 | train_mse: 0.00465 | valid_mae: 0.11555 | valid_rmse: 0.18084 | valid_mse: 0.0327  |  0:00:18s\n",
      "epoch 20 | loss: 0.00258 | train_mae: 0.03931 | train_rmse: 0.06516 | train_mse: 0.00425 | valid_mae: 0.11705 | valid_rmse: 0.17852 | valid_mse: 0.03187 |  0:00:18s\n",
      "epoch 21 | loss: 0.00252 | train_mae: 0.03882 | train_rmse: 0.06407 | train_mse: 0.0041  | valid_mae: 0.11554 | valid_rmse: 0.17729 | valid_mse: 0.03143 |  0:00:19s\n",
      "epoch 22 | loss: 0.00249 | train_mae: 0.03599 | train_rmse: 0.05696 | train_mse: 0.00324 | valid_mae: 0.10656 | valid_rmse: 0.15971 | valid_mse: 0.02551 |  0:00:20s\n",
      "epoch 23 | loss: 0.00251 | train_mae: 0.03447 | train_rmse: 0.05525 | train_mse: 0.00305 | valid_mae: 0.10843 | valid_rmse: 0.16143 | valid_mse: 0.02606 |  0:00:21s\n",
      "epoch 24 | loss: 0.00235 | train_mae: 0.03293 | train_rmse: 0.05142 | train_mse: 0.00264 | valid_mae: 0.10311 | valid_rmse: 0.15041 | valid_mse: 0.02262 |  0:00:22s\n",
      "epoch 25 | loss: 0.00243 | train_mae: 0.03225 | train_rmse: 0.0501  | train_mse: 0.00251 | valid_mae: 0.10277 | valid_rmse: 0.15038 | valid_mse: 0.02261 |  0:00:23s\n",
      "epoch 26 | loss: 0.00229 | train_mae: 0.03088 | train_rmse: 0.04855 | train_mse: 0.00236 | valid_mae: 0.10483 | valid_rmse: 0.15249 | valid_mse: 0.02325 |  0:00:24s\n",
      "epoch 27 | loss: 0.00233 | train_mae: 0.02971 | train_rmse: 0.04531 | train_mse: 0.00205 | valid_mae: 0.10001 | valid_rmse: 0.14305 | valid_mse: 0.02046 |  0:00:25s\n",
      "epoch 28 | loss: 0.00225 | train_mae: 0.02973 | train_rmse: 0.04348 | train_mse: 0.00189 | valid_mae: 0.09317 | valid_rmse: 0.13103 | valid_mse: 0.01717 |  0:00:26s\n",
      "epoch 29 | loss: 0.00225 | train_mae: 0.02848 | train_rmse: 0.04187 | train_mse: 0.00175 | valid_mae: 0.1005  | valid_rmse: 0.13646 | valid_mse: 0.01862 |  0:00:26s\n",
      "epoch 30 | loss: 0.00225 | train_mae: 0.02813 | train_rmse: 0.0431  | train_mse: 0.00186 | valid_mae: 0.10218 | valid_rmse: 0.14366 | valid_mse: 0.02064 |  0:00:27s\n",
      "epoch 31 | loss: 0.00213 | train_mae: 0.02779 | train_rmse: 0.0409  | train_mse: 0.00167 | valid_mae: 0.10002 | valid_rmse: 0.13371 | valid_mse: 0.01788 |  0:00:28s\n",
      "epoch 32 | loss: 0.00217 | train_mae: 0.02709 | train_rmse: 0.04046 | train_mse: 0.00164 | valid_mae: 0.09947 | valid_rmse: 0.13538 | valid_mse: 0.01833 |  0:00:29s\n",
      "epoch 33 | loss: 0.00213 | train_mae: 0.02705 | train_rmse: 0.04013 | train_mse: 0.00161 | valid_mae: 0.09872 | valid_rmse: 0.13443 | valid_mse: 0.01807 |  0:00:30s\n",
      "epoch 34 | loss: 0.00209 | train_mae: 0.02567 | train_rmse: 0.03697 | train_mse: 0.00137 | valid_mae: 0.09261 | valid_rmse: 0.12549 | valid_mse: 0.01575 |  0:00:31s\n",
      "epoch 35 | loss: 0.00201 | train_mae: 0.02593 | train_rmse: 0.03679 | train_mse: 0.00135 | valid_mae: 0.08756 | valid_rmse: 0.12227 | valid_mse: 0.01495 |  0:00:32s\n",
      "epoch 36 | loss: 0.00198 | train_mae: 0.02563 | train_rmse: 0.03793 | train_mse: 0.00144 | valid_mae: 0.09558 | valid_rmse: 0.12658 | valid_mse: 0.01602 |  0:00:33s\n",
      "epoch 37 | loss: 0.00203 | train_mae: 0.02588 | train_rmse: 0.03801 | train_mse: 0.00145 | valid_mae: 0.09584 | valid_rmse: 0.12742 | valid_mse: 0.01624 |  0:00:34s\n",
      "epoch 38 | loss: 0.00199 | train_mae: 0.02467 | train_rmse: 0.03592 | train_mse: 0.00129 | valid_mae: 0.0916  | valid_rmse: 0.12288 | valid_mse: 0.0151  |  0:00:34s\n",
      "epoch 39 | loss: 0.00202 | train_mae: 0.02403 | train_rmse: 0.03511 | train_mse: 0.00123 | valid_mae: 0.09072 | valid_rmse: 0.12453 | valid_mse: 0.01551 |  0:00:35s\n",
      "epoch 40 | loss: 0.00203 | train_mae: 0.02397 | train_rmse: 0.03471 | train_mse: 0.0012  | valid_mae: 0.08693 | valid_rmse: 0.12168 | valid_mse: 0.0148  |  0:00:36s\n",
      "epoch 41 | loss: 0.00199 | train_mae: 0.02422 | train_rmse: 0.0351  | train_mse: 0.00123 | valid_mae: 0.0848  | valid_rmse: 0.11608 | valid_mse: 0.01348 |  0:00:37s\n",
      "epoch 42 | loss: 0.00193 | train_mae: 0.02446 | train_rmse: 0.03526 | train_mse: 0.00124 | valid_mae: 0.08413 | valid_rmse: 0.11617 | valid_mse: 0.0135  |  0:00:38s\n",
      "epoch 43 | loss: 0.00187 | train_mae: 0.02393 | train_rmse: 0.03554 | train_mse: 0.00126 | valid_mae: 0.09088 | valid_rmse: 0.12829 | valid_mse: 0.01646 |  0:00:39s\n",
      "epoch 44 | loss: 0.00179 | train_mae: 0.02348 | train_rmse: 0.03572 | train_mse: 0.00128 | valid_mae: 0.09267 | valid_rmse: 0.12304 | valid_mse: 0.01514 |  0:00:40s\n",
      "epoch 45 | loss: 0.00178 | train_mae: 0.02283 | train_rmse: 0.03384 | train_mse: 0.00115 | valid_mae: 0.08447 | valid_rmse: 0.11139 | valid_mse: 0.01241 |  0:00:40s\n",
      "epoch 46 | loss: 0.00181 | train_mae: 0.02271 | train_rmse: 0.03342 | train_mse: 0.00112 | valid_mae: 0.09208 | valid_rmse: 0.12623 | valid_mse: 0.01593 |  0:00:41s\n",
      "epoch 47 | loss: 0.0018  | train_mae: 0.02263 | train_rmse: 0.03328 | train_mse: 0.00111 | valid_mae: 0.09033 | valid_rmse: 0.124   | valid_mse: 0.01538 |  0:00:42s\n",
      "epoch 48 | loss: 0.0017  | train_mae: 0.02268 | train_rmse: 0.03287 | train_mse: 0.00108 | valid_mae: 0.08467 | valid_rmse: 0.11295 | valid_mse: 0.01276 |  0:00:43s\n",
      "epoch 49 | loss: 0.00174 | train_mae: 0.02267 | train_rmse: 0.03352 | train_mse: 0.00112 | valid_mae: 0.0867  | valid_rmse: 0.11479 | valid_mse: 0.01318 |  0:00:44s\n",
      "epoch 50 | loss: 0.00179 | train_mae: 0.02276 | train_rmse: 0.0346  | train_mse: 0.0012  | valid_mae: 0.09534 | valid_rmse: 0.12945 | valid_mse: 0.01676 |  0:00:45s\n",
      "epoch 51 | loss: 0.00166 | train_mae: 0.02252 | train_rmse: 0.0334  | train_mse: 0.00112 | valid_mae: 0.08747 | valid_rmse: 0.11681 | valid_mse: 0.01364 |  0:00:46s\n",
      "epoch 52 | loss: 0.00166 | train_mae: 0.0257  | train_rmse: 0.03557 | train_mse: 0.00126 | valid_mae: 0.0756  | valid_rmse: 0.11038 | valid_mse: 0.01218 |  0:00:47s\n",
      "epoch 53 | loss: 0.00174 | train_mae: 0.0222  | train_rmse: 0.0338  | train_mse: 0.00114 | valid_mae: 0.10071 | valid_rmse: 0.13175 | valid_mse: 0.01736 |  0:00:47s\n",
      "epoch 54 | loss: 0.00157 | train_mae: 0.02384 | train_rmse: 0.03401 | train_mse: 0.00116 | valid_mae: 0.09063 | valid_rmse: 0.11839 | valid_mse: 0.01402 |  0:00:48s\n",
      "epoch 55 | loss: 0.00164 | train_mae: 0.02307 | train_rmse: 0.03307 | train_mse: 0.00109 | valid_mae: 0.08695 | valid_rmse: 0.11746 | valid_mse: 0.0138  |  0:00:49s\n",
      "epoch 56 | loss: 0.00178 | train_mae: 0.02095 | train_rmse: 0.03185 | train_mse: 0.00101 | valid_mae: 0.09722 | valid_rmse: 0.12729 | valid_mse: 0.0162  |  0:00:50s\n",
      "epoch 57 | loss: 0.00164 | train_mae: 0.02402 | train_rmse: 0.03691 | train_mse: 0.00136 | valid_mae: 0.11264 | valid_rmse: 0.15092 | valid_mse: 0.02278 |  0:00:51s\n",
      "epoch 58 | loss: 0.00181 | train_mae: 0.02225 | train_rmse: 0.03281 | train_mse: 0.00108 | valid_mae: 0.09738 | valid_rmse: 0.1292  | valid_mse: 0.01669 |  0:00:52s\n",
      "epoch 59 | loss: 0.00163 | train_mae: 0.02112 | train_rmse: 0.03128 | train_mse: 0.00098 | valid_mae: 0.09842 | valid_rmse: 0.12866 | valid_mse: 0.01655 |  0:00:53s\n",
      "epoch 60 | loss: 0.0018  | train_mae: 0.0237  | train_rmse: 0.03849 | train_mse: 0.00148 | valid_mae: 0.10467 | valid_rmse: 0.13963 | valid_mse: 0.0195  |  0:00:54s\n",
      "epoch 61 | loss: 0.00191 | train_mae: 0.02365 | train_rmse: 0.03714 | train_mse: 0.00138 | valid_mae: 0.09742 | valid_rmse: 0.13257 | valid_mse: 0.01758 |  0:00:54s\n",
      "epoch 62 | loss: 0.00191 | train_mae: 0.02251 | train_rmse: 0.03508 | train_mse: 0.00123 | valid_mae: 0.09656 | valid_rmse: 0.12846 | valid_mse: 0.0165  |  0:00:55s\n",
      "epoch 63 | loss: 0.00191 | train_mae: 0.02364 | train_rmse: 0.03688 | train_mse: 0.00136 | valid_mae: 0.10469 | valid_rmse: 0.14263 | valid_mse: 0.02034 |  0:00:56s\n",
      "epoch 64 | loss: 0.00181 | train_mae: 0.02401 | train_rmse: 0.03449 | train_mse: 0.00119 | valid_mae: 0.08479 | valid_rmse: 0.117   | valid_mse: 0.01369 |  0:00:57s\n",
      "epoch 65 | loss: 0.0017  | train_mae: 0.02343 | train_rmse: 0.03436 | train_mse: 0.00118 | valid_mae: 0.08372 | valid_rmse: 0.11817 | valid_mse: 0.01396 |  0:00:58s\n",
      "epoch 66 | loss: 0.00161 | train_mae: 0.02396 | train_rmse: 0.03697 | train_mse: 0.00137 | valid_mae: 0.10368 | valid_rmse: 0.14661 | valid_mse: 0.02149 |  0:00:59s\n",
      "epoch 67 | loss: 0.00161 | train_mae: 0.02258 | train_rmse: 0.03285 | train_mse: 0.00108 | valid_mae: 0.08211 | valid_rmse: 0.12012 | valid_mse: 0.01443 |  0:01:00s\n",
      "epoch 68 | loss: 0.00181 | train_mae: 0.02574 | train_rmse: 0.03683 | train_mse: 0.00136 | valid_mae: 0.07556 | valid_rmse: 0.11086 | valid_mse: 0.01229 |  0:01:01s\n",
      "epoch 69 | loss: 0.00166 | train_mae: 0.02228 | train_rmse: 0.03336 | train_mse: 0.00111 | valid_mae: 0.07878 | valid_rmse: 0.11113 | valid_mse: 0.01235 |  0:01:01s\n",
      "epoch 70 | loss: 0.00143 | train_mae: 0.02219 | train_rmse: 0.03146 | train_mse: 0.00099 | valid_mae: 0.08078 | valid_rmse: 0.11644 | valid_mse: 0.01356 |  0:01:02s\n",
      "epoch 71 | loss: 0.00147 | train_mae: 0.02088 | train_rmse: 0.03047 | train_mse: 0.00093 | valid_mae: 0.08315 | valid_rmse: 0.11787 | valid_mse: 0.01389 |  0:01:03s\n",
      "epoch 72 | loss: 0.00144 | train_mae: 0.02    | train_rmse: 0.02977 | train_mse: 0.00089 | valid_mae: 0.09152 | valid_rmse: 0.12152 | valid_mse: 0.01477 |  0:01:04s\n",
      "epoch 73 | loss: 0.00135 | train_mae: 0.01958 | train_rmse: 0.02929 | train_mse: 0.00086 | valid_mae: 0.08725 | valid_rmse: 0.11715 | valid_mse: 0.01372 |  0:01:05s\n",
      "epoch 74 | loss: 0.0013  | train_mae: 0.01983 | train_rmse: 0.03009 | train_mse: 0.00091 | valid_mae: 0.08966 | valid_rmse: 0.12484 | valid_mse: 0.01559 |  0:01:06s\n",
      "epoch 75 | loss: 0.00131 | train_mae: 0.01971 | train_rmse: 0.02971 | train_mse: 0.00088 | valid_mae: 0.09163 | valid_rmse: 0.12499 | valid_mse: 0.01562 |  0:01:07s\n",
      "epoch 76 | loss: 0.00133 | train_mae: 0.02038 | train_rmse: 0.03138 | train_mse: 0.00098 | valid_mae: 0.10028 | valid_rmse: 0.13556 | valid_mse: 0.01838 |  0:01:08s\n",
      "epoch 77 | loss: 0.00132 | train_mae: 0.01938 | train_rmse: 0.0296  | train_mse: 0.00088 | valid_mae: 0.09464 | valid_rmse: 0.12962 | valid_mse: 0.0168  |  0:01:09s\n",
      "\n",
      "Early stopping occurred at epoch 77 with best_epoch = 52 and best_valid_mse = 0.01218\n"
     ]
    },
    {
     "name": "stderr",
     "output_type": "stream",
     "text": [
      "/home/frnk65/resource-prediction-study/venv/lib/python3.10/site-packages/pytorch_tabnet/callbacks.py:172: UserWarning: Best weights from best epoch are automatically used!\n",
      "  warnings.warn(wrn_msg)\n"
     ]
    },
    {
     "name": "stdout",
     "output_type": "stream",
     "text": [
      "MSE: 221.7539308524807 - RMSE: 14.89140459635963 - MAE: 10.19929129322155\n"
     ]
    }
   ],
   "source": [
    "# general model initialization\n",
    "model_g = TabNetRegressor()\n",
    "model_g.fit(\n",
    "\tX_train=X_g_train, y_train=y_g_train,\n",
    "\teval_set=[(X_g_train, y_g_train), (X_g_test, y_g_test)],\n",
    "\teval_name=['train', 'valid'],\n",
    "\teval_metric=['mae', 'rmse', 'mse'],\n",
    "\tmax_epochs=num_epochs,\n",
    "\tpatience=patience,\n",
    "\tbatch_size=1024, virtual_batch_size=128,\n",
    "\tnum_workers=0,\n",
    "\tdrop_last=False,\n",
    "\taugmentations=aug\n",
    ")\n",
    "\n",
    "preds = model_g.predict(X_g_test)\n",
    "preds = inv_scaling(preds, y_g_scaler)\n",
    "y_scaled = inv_scaling(y_g_test, y_g_scaler)\n",
    "mse = mean_squared_error(y_scaled, preds)\n",
    "mae = mean_absolute_error(y_scaled, preds)\n",
    "print(f\"MSE: {mse} - RMSE: {np.sqrt(mse)} - MAE: {mae}\")"
   ]
  },
  {
   "cell_type": "code",
   "execution_count": 18,
   "metadata": {},
   "outputs": [
    {
     "name": "stdout",
     "output_type": "stream",
     "text": [
      "Successfully saved model at ../models/tabnet/general.zip\n"
     ]
    },
    {
     "data": {
      "text/plain": [
       "'../models/tabnet/general.zip'"
      ]
     },
     "execution_count": 18,
     "metadata": {},
     "output_type": "execute_result"
    }
   ],
   "source": [
    "# save model\n",
    "model_g.save_model(f'{models_folder}/general')"
   ]
  },
  {
   "cell_type": "markdown",
   "metadata": {},
   "source": [
    "## Single Thread"
   ]
  },
  {
   "cell_type": "code",
   "execution_count": 19,
   "metadata": {},
   "outputs": [
    {
     "name": "stderr",
     "output_type": "stream",
     "text": [
      "/home/frnk65/resource-prediction-study/venv/lib/python3.10/site-packages/pytorch_tabnet/abstract_model.py:82: UserWarning: Device used : cuda\n",
      "  warnings.warn(f\"Device used : {self.device}\")\n"
     ]
    },
    {
     "name": "stdout",
     "output_type": "stream",
     "text": [
      "epoch 0  | loss: 0.19807 | train_mae: 0.07771 | train_rmse: 0.13791 | train_mse: 0.01902 | valid_mae: 0.15479 | valid_rmse: 0.27366 | valid_mse: 0.07489 |  0:00:00s\n",
      "epoch 1  | loss: 0.0188  | train_mae: 0.072   | train_rmse: 0.13178 | train_mse: 0.01736 | valid_mae: 0.15269 | valid_rmse: 0.27023 | valid_mse: 0.07302 |  0:00:01s\n",
      "epoch 2  | loss: 0.01195 | train_mae: 0.06228 | train_rmse: 0.11208 | train_mse: 0.01256 | valid_mae: 0.12529 | valid_rmse: 0.23528 | valid_mse: 0.05536 |  0:00:02s\n",
      "epoch 3  | loss: 0.00741 | train_mae: 0.05819 | train_rmse: 0.10537 | train_mse: 0.0111  | valid_mae: 0.12371 | valid_rmse: 0.23155 | valid_mse: 0.05362 |  0:00:02s\n",
      "epoch 4  | loss: 0.00542 | train_mae: 0.05728 | train_rmse: 0.10152 | train_mse: 0.01031 | valid_mae: 0.12357 | valid_rmse: 0.23481 | valid_mse: 0.05513 |  0:00:03s\n",
      "epoch 5  | loss: 0.00473 | train_mae: 0.05963 | train_rmse: 0.09631 | train_mse: 0.00928 | valid_mae: 0.11363 | valid_rmse: 0.22618 | valid_mse: 0.05116 |  0:00:04s\n",
      "epoch 6  | loss: 0.00416 | train_mae: 0.05653 | train_rmse: 0.09676 | train_mse: 0.00936 | valid_mae: 0.11346 | valid_rmse: 0.22887 | valid_mse: 0.05238 |  0:00:05s\n",
      "epoch 7  | loss: 0.00342 | train_mae: 0.0575  | train_rmse: 0.094   | train_mse: 0.00884 | valid_mae: 0.11352 | valid_rmse: 0.22929 | valid_mse: 0.05257 |  0:00:05s\n",
      "epoch 8  | loss: 0.00322 | train_mae: 0.05498 | train_rmse: 0.09333 | train_mse: 0.00871 | valid_mae: 0.11637 | valid_rmse: 0.22834 | valid_mse: 0.05214 |  0:00:06s\n",
      "epoch 9  | loss: 0.00297 | train_mae: 0.05529 | train_rmse: 0.09105 | train_mse: 0.00829 | valid_mae: 0.11417 | valid_rmse: 0.22565 | valid_mse: 0.05092 |  0:00:07s\n",
      "epoch 10 | loss: 0.00277 | train_mae: 0.0526  | train_rmse: 0.09013 | train_mse: 0.00812 | valid_mae: 0.11746 | valid_rmse: 0.22776 | valid_mse: 0.05188 |  0:00:08s\n",
      "epoch 11 | loss: 0.00266 | train_mae: 0.05212 | train_rmse: 0.08698 | train_mse: 0.00757 | valid_mae: 0.1156  | valid_rmse: 0.22372 | valid_mse: 0.05005 |  0:00:08s\n",
      "epoch 12 | loss: 0.0025  | train_mae: 0.05109 | train_rmse: 0.08595 | train_mse: 0.00739 | valid_mae: 0.11694 | valid_rmse: 0.22283 | valid_mse: 0.04965 |  0:00:09s\n",
      "epoch 13 | loss: 0.00239 | train_mae: 0.04948 | train_rmse: 0.08409 | train_mse: 0.00707 | valid_mae: 0.11817 | valid_rmse: 0.2216  | valid_mse: 0.04911 |  0:00:10s\n",
      "epoch 14 | loss: 0.00243 | train_mae: 0.0479  | train_rmse: 0.08328 | train_mse: 0.00694 | valid_mae: 0.1215  | valid_rmse: 0.22261 | valid_mse: 0.04955 |  0:00:11s\n",
      "epoch 15 | loss: 0.00244 | train_mae: 0.04871 | train_rmse: 0.08553 | train_mse: 0.00732 | valid_mae: 0.12329 | valid_rmse: 0.22694 | valid_mse: 0.0515  |  0:00:11s\n",
      "epoch 16 | loss: 0.00236 | train_mae: 0.0478  | train_rmse: 0.08377 | train_mse: 0.00702 | valid_mae: 0.12555 | valid_rmse: 0.22732 | valid_mse: 0.05167 |  0:00:12s\n",
      "epoch 17 | loss: 0.00238 | train_mae: 0.04569 | train_rmse: 0.07421 | train_mse: 0.00551 | valid_mae: 0.11601 | valid_rmse: 0.21464 | valid_mse: 0.04607 |  0:00:13s\n",
      "epoch 18 | loss: 0.00221 | train_mae: 0.04495 | train_rmse: 0.07363 | train_mse: 0.00542 | valid_mae: 0.11291 | valid_rmse: 0.20783 | valid_mse: 0.04319 |  0:00:14s\n",
      "epoch 19 | loss: 0.00199 | train_mae: 0.04335 | train_rmse: 0.07135 | train_mse: 0.00509 | valid_mae: 0.11612 | valid_rmse: 0.21373 | valid_mse: 0.04568 |  0:00:14s\n",
      "epoch 20 | loss: 0.00206 | train_mae: 0.04253 | train_rmse: 0.07433 | train_mse: 0.00552 | valid_mae: 0.11617 | valid_rmse: 0.20063 | valid_mse: 0.04025 |  0:00:15s\n",
      "epoch 21 | loss: 0.00216 | train_mae: 0.04114 | train_rmse: 0.07195 | train_mse: 0.00518 | valid_mae: 0.11197 | valid_rmse: 0.19925 | valid_mse: 0.0397  |  0:00:16s\n",
      "epoch 22 | loss: 0.00215 | train_mae: 0.03798 | train_rmse: 0.06473 | train_mse: 0.00419 | valid_mae: 0.10502 | valid_rmse: 0.18799 | valid_mse: 0.03534 |  0:00:17s\n",
      "epoch 23 | loss: 0.00214 | train_mae: 0.03848 | train_rmse: 0.06822 | train_mse: 0.00465 | valid_mae: 0.10618 | valid_rmse: 0.1887  | valid_mse: 0.03561 |  0:00:17s\n",
      "epoch 24 | loss: 0.00224 | train_mae: 0.03437 | train_rmse: 0.05979 | train_mse: 0.00357 | valid_mae: 0.10141 | valid_rmse: 0.18457 | valid_mse: 0.03407 |  0:00:18s\n",
      "epoch 25 | loss: 0.00221 | train_mae: 0.03489 | train_rmse: 0.06137 | train_mse: 0.00377 | valid_mae: 0.10037 | valid_rmse: 0.17772 | valid_mse: 0.03158 |  0:00:19s\n",
      "epoch 26 | loss: 0.00213 | train_mae: 0.03248 | train_rmse: 0.05768 | train_mse: 0.00333 | valid_mae: 0.09762 | valid_rmse: 0.17229 | valid_mse: 0.02968 |  0:00:20s\n",
      "epoch 27 | loss: 0.00223 | train_mae: 0.03227 | train_rmse: 0.05712 | train_mse: 0.00326 | valid_mae: 0.09951 | valid_rmse: 0.17256 | valid_mse: 0.02978 |  0:00:20s\n",
      "epoch 28 | loss: 0.00204 | train_mae: 0.03161 | train_rmse: 0.05601 | train_mse: 0.00314 | valid_mae: 0.09971 | valid_rmse: 0.17068 | valid_mse: 0.02913 |  0:00:21s\n",
      "epoch 29 | loss: 0.00187 | train_mae: 0.02995 | train_rmse: 0.05373 | train_mse: 0.00289 | valid_mae: 0.0948  | valid_rmse: 0.16513 | valid_mse: 0.02727 |  0:00:22s\n",
      "epoch 30 | loss: 0.0018  | train_mae: 0.02705 | train_rmse: 0.04369 | train_mse: 0.00191 | valid_mae: 0.08596 | valid_rmse: 0.14139 | valid_mse: 0.01999 |  0:00:22s\n",
      "epoch 31 | loss: 0.00181 | train_mae: 0.02615 | train_rmse: 0.04701 | train_mse: 0.00221 | valid_mae: 0.09151 | valid_rmse: 0.15794 | valid_mse: 0.02495 |  0:00:23s\n",
      "epoch 32 | loss: 0.00169 | train_mae: 0.02633 | train_rmse: 0.04409 | train_mse: 0.00194 | valid_mae: 0.09187 | valid_rmse: 0.14615 | valid_mse: 0.02136 |  0:00:24s\n",
      "epoch 33 | loss: 0.00172 | train_mae: 0.02422 | train_rmse: 0.03906 | train_mse: 0.00153 | valid_mae: 0.08316 | valid_rmse: 0.13448 | valid_mse: 0.01809 |  0:00:25s\n",
      "epoch 34 | loss: 0.00172 | train_mae: 0.0256  | train_rmse: 0.04598 | train_mse: 0.00211 | valid_mae: 0.0921  | valid_rmse: 0.15358 | valid_mse: 0.02359 |  0:00:25s\n",
      "epoch 35 | loss: 0.00162 | train_mae: 0.02262 | train_rmse: 0.03288 | train_mse: 0.00108 | valid_mae: 0.07178 | valid_rmse: 0.11081 | valid_mse: 0.01228 |  0:00:26s\n",
      "epoch 36 | loss: 0.00169 | train_mae: 0.02237 | train_rmse: 0.038   | train_mse: 0.00144 | valid_mae: 0.08886 | valid_rmse: 0.14373 | valid_mse: 0.02066 |  0:00:27s\n",
      "epoch 37 | loss: 0.00165 | train_mae: 0.0222  | train_rmse: 0.03714 | train_mse: 0.00138 | valid_mae: 0.09026 | valid_rmse: 0.14022 | valid_mse: 0.01966 |  0:00:28s\n",
      "epoch 38 | loss: 0.00157 | train_mae: 0.02068 | train_rmse: 0.03213 | train_mse: 0.00103 | valid_mae: 0.07989 | valid_rmse: 0.12277 | valid_mse: 0.01507 |  0:00:28s\n",
      "epoch 39 | loss: 0.00148 | train_mae: 0.02115 | train_rmse: 0.03533 | train_mse: 0.00125 | valid_mae: 0.08459 | valid_rmse: 0.13172 | valid_mse: 0.01735 |  0:00:29s\n",
      "epoch 40 | loss: 0.00148 | train_mae: 0.02027 | train_rmse: 0.03337 | train_mse: 0.00111 | valid_mae: 0.08339 | valid_rmse: 0.12704 | valid_mse: 0.01614 |  0:00:30s\n",
      "epoch 41 | loss: 0.00141 | train_mae: 0.0204  | train_rmse: 0.03275 | train_mse: 0.00107 | valid_mae: 0.07948 | valid_rmse: 0.12073 | valid_mse: 0.01458 |  0:00:30s\n",
      "epoch 42 | loss: 0.00152 | train_mae: 0.01938 | train_rmse: 0.03051 | train_mse: 0.00093 | valid_mae: 0.07987 | valid_rmse: 0.11604 | valid_mse: 0.01346 |  0:00:31s\n",
      "epoch 43 | loss: 0.00139 | train_mae: 0.01981 | train_rmse: 0.0311  | train_mse: 0.00097 | valid_mae: 0.08174 | valid_rmse: 0.12263 | valid_mse: 0.01504 |  0:00:32s\n",
      "epoch 44 | loss: 0.00144 | train_mae: 0.0194  | train_rmse: 0.03013 | train_mse: 0.00091 | valid_mae: 0.07893 | valid_rmse: 0.11455 | valid_mse: 0.01312 |  0:00:32s\n",
      "epoch 45 | loss: 0.00132 | train_mae: 0.01964 | train_rmse: 0.03118 | train_mse: 0.00097 | valid_mae: 0.08375 | valid_rmse: 0.11784 | valid_mse: 0.01389 |  0:00:33s\n",
      "epoch 46 | loss: 0.00142 | train_mae: 0.01914 | train_rmse: 0.02959 | train_mse: 0.00088 | valid_mae: 0.07893 | valid_rmse: 0.10889 | valid_mse: 0.01186 |  0:00:34s\n",
      "epoch 47 | loss: 0.00129 | train_mae: 0.01935 | train_rmse: 0.03085 | train_mse: 0.00095 | valid_mae: 0.08532 | valid_rmse: 0.12356 | valid_mse: 0.01527 |  0:00:35s\n",
      "epoch 48 | loss: 0.00147 | train_mae: 0.01886 | train_rmse: 0.02949 | train_mse: 0.00087 | valid_mae: 0.07702 | valid_rmse: 0.11225 | valid_mse: 0.0126  |  0:00:35s\n",
      "epoch 49 | loss: 0.00143 | train_mae: 0.01986 | train_rmse: 0.03239 | train_mse: 0.00105 | valid_mae: 0.08915 | valid_rmse: 0.13022 | valid_mse: 0.01696 |  0:00:36s\n",
      "epoch 50 | loss: 0.00141 | train_mae: 0.01874 | train_rmse: 0.02924 | train_mse: 0.00086 | valid_mae: 0.07993 | valid_rmse: 0.11427 | valid_mse: 0.01306 |  0:00:37s\n",
      "epoch 51 | loss: 0.00126 | train_mae: 0.01946 | train_rmse: 0.03193 | train_mse: 0.00102 | valid_mae: 0.08637 | valid_rmse: 0.12876 | valid_mse: 0.01658 |  0:00:37s\n",
      "epoch 52 | loss: 0.00131 | train_mae: 0.01858 | train_rmse: 0.02892 | train_mse: 0.00084 | valid_mae: 0.07716 | valid_rmse: 0.11203 | valid_mse: 0.01255 |  0:00:38s\n",
      "epoch 53 | loss: 0.0013  | train_mae: 0.01872 | train_rmse: 0.0292  | train_mse: 0.00085 | valid_mae: 0.07544 | valid_rmse: 0.11104 | valid_mse: 0.01233 |  0:00:39s\n",
      "epoch 54 | loss: 0.00141 | train_mae: 0.02013 | train_rmse: 0.03348 | train_mse: 0.00112 | valid_mae: 0.08432 | valid_rmse: 0.12562 | valid_mse: 0.01578 |  0:00:40s\n",
      "epoch 55 | loss: 0.00125 | train_mae: 0.01832 | train_rmse: 0.02835 | train_mse: 0.0008  | valid_mae: 0.0687  | valid_rmse: 0.10006 | valid_mse: 0.01001 |  0:00:40s\n",
      "epoch 56 | loss: 0.00123 | train_mae: 0.01884 | train_rmse: 0.02933 | train_mse: 0.00086 | valid_mae: 0.0805  | valid_rmse: 0.11505 | valid_mse: 0.01324 |  0:00:41s\n",
      "epoch 57 | loss: 0.0012  | train_mae: 0.01801 | train_rmse: 0.02806 | train_mse: 0.00079 | valid_mae: 0.07375 | valid_rmse: 0.10458 | valid_mse: 0.01094 |  0:00:42s\n",
      "epoch 58 | loss: 0.00131 | train_mae: 0.01838 | train_rmse: 0.02891 | train_mse: 0.00084 | valid_mae: 0.07514 | valid_rmse: 0.11263 | valid_mse: 0.01269 |  0:00:42s\n",
      "epoch 59 | loss: 0.00124 | train_mae: 0.01957 | train_rmse: 0.03249 | train_mse: 0.00106 | valid_mae: 0.0849  | valid_rmse: 0.12885 | valid_mse: 0.0166  |  0:00:43s\n",
      "epoch 60 | loss: 0.00126 | train_mae: 0.01836 | train_rmse: 0.02888 | train_mse: 0.00083 | valid_mae: 0.07004 | valid_rmse: 0.09565 | valid_mse: 0.00915 |  0:00:44s\n",
      "epoch 61 | loss: 0.00125 | train_mae: 0.0187  | train_rmse: 0.03024 | train_mse: 0.00091 | valid_mae: 0.08497 | valid_rmse: 0.12281 | valid_mse: 0.01508 |  0:00:45s\n",
      "epoch 62 | loss: 0.00123 | train_mae: 0.01909 | train_rmse: 0.02976 | train_mse: 0.00089 | valid_mae: 0.06925 | valid_rmse: 0.09893 | valid_mse: 0.00979 |  0:00:45s\n",
      "epoch 63 | loss: 0.00119 | train_mae: 0.01795 | train_rmse: 0.0278  | train_mse: 0.00077 | valid_mae: 0.07751 | valid_rmse: 0.1116  | valid_mse: 0.01245 |  0:00:46s\n",
      "epoch 64 | loss: 0.00116 | train_mae: 0.01794 | train_rmse: 0.02813 | train_mse: 0.00079 | valid_mae: 0.07809 | valid_rmse: 0.11131 | valid_mse: 0.01239 |  0:00:47s\n",
      "epoch 65 | loss: 0.00114 | train_mae: 0.01862 | train_rmse: 0.02972 | train_mse: 0.00088 | valid_mae: 0.08367 | valid_rmse: 0.11964 | valid_mse: 0.01431 |  0:00:47s\n",
      "epoch 66 | loss: 0.00123 | train_mae: 0.01865 | train_rmse: 0.02913 | train_mse: 0.00085 | valid_mae: 0.07967 | valid_rmse: 0.11162 | valid_mse: 0.01246 |  0:00:48s\n",
      "epoch 67 | loss: 0.00119 | train_mae: 0.01865 | train_rmse: 0.02916 | train_mse: 0.00085 | valid_mae: 0.08067 | valid_rmse: 0.11446 | valid_mse: 0.0131  |  0:00:49s\n",
      "epoch 68 | loss: 0.00122 | train_mae: 0.01925 | train_rmse: 0.0294  | train_mse: 0.00086 | valid_mae: 0.07197 | valid_rmse: 0.1025  | valid_mse: 0.01051 |  0:00:50s\n",
      "epoch 69 | loss: 0.00123 | train_mae: 0.01837 | train_rmse: 0.02901 | train_mse: 0.00084 | valid_mae: 0.0794  | valid_rmse: 0.11264 | valid_mse: 0.01269 |  0:00:50s\n",
      "epoch 70 | loss: 0.00131 | train_mae: 0.01965 | train_rmse: 0.03208 | train_mse: 0.00103 | valid_mae: 0.08582 | valid_rmse: 0.1286  | valid_mse: 0.01654 |  0:00:51s\n",
      "epoch 71 | loss: 0.00119 | train_mae: 0.01833 | train_rmse: 0.02862 | train_mse: 0.00082 | valid_mae: 0.07106 | valid_rmse: 0.09882 | valid_mse: 0.00977 |  0:00:52s\n",
      "epoch 72 | loss: 0.00129 | train_mae: 0.0183  | train_rmse: 0.02868 | train_mse: 0.00082 | valid_mae: 0.07715 | valid_rmse: 0.10946 | valid_mse: 0.01198 |  0:00:52s\n",
      "epoch 73 | loss: 0.00127 | train_mae: 0.01809 | train_rmse: 0.02942 | train_mse: 0.00087 | valid_mae: 0.08286 | valid_rmse: 0.1204  | valid_mse: 0.0145  |  0:00:53s\n",
      "epoch 74 | loss: 0.00116 | train_mae: 0.01816 | train_rmse: 0.02776 | train_mse: 0.00077 | valid_mae: 0.0811  | valid_rmse: 0.11269 | valid_mse: 0.0127  |  0:00:54s\n",
      "epoch 75 | loss: 0.00133 | train_mae: 0.0179  | train_rmse: 0.02795 | train_mse: 0.00078 | valid_mae: 0.07658 | valid_rmse: 0.11163 | valid_mse: 0.01246 |  0:00:55s\n",
      "epoch 76 | loss: 0.00127 | train_mae: 0.02059 | train_rmse: 0.03474 | train_mse: 0.00121 | valid_mae: 0.09117 | valid_rmse: 0.13572 | valid_mse: 0.01842 |  0:00:55s\n",
      "epoch 77 | loss: 0.00122 | train_mae: 0.01851 | train_rmse: 0.02778 | train_mse: 0.00077 | valid_mae: 0.07484 | valid_rmse: 0.10898 | valid_mse: 0.01188 |  0:00:56s\n",
      "epoch 78 | loss: 0.0012  | train_mae: 0.01781 | train_rmse: 0.02787 | train_mse: 0.00078 | valid_mae: 0.07482 | valid_rmse: 0.10624 | valid_mse: 0.01129 |  0:00:57s\n",
      "epoch 79 | loss: 0.00114 | train_mae: 0.01806 | train_rmse: 0.02983 | train_mse: 0.00089 | valid_mae: 0.08542 | valid_rmse: 0.12522 | valid_mse: 0.01568 |  0:00:57s\n",
      "epoch 80 | loss: 0.00122 | train_mae: 0.01782 | train_rmse: 0.02738 | train_mse: 0.00075 | valid_mae: 0.0723  | valid_rmse: 0.10464 | valid_mse: 0.01095 |  0:00:58s\n",
      "epoch 81 | loss: 0.00118 | train_mae: 0.01945 | train_rmse: 0.03441 | train_mse: 0.00118 | valid_mae: 0.09012 | valid_rmse: 0.1392  | valid_mse: 0.01938 |  0:00:59s\n",
      "epoch 82 | loss: 0.00114 | train_mae: 0.01708 | train_rmse: 0.02723 | train_mse: 0.00074 | valid_mae: 0.0749  | valid_rmse: 0.11269 | valid_mse: 0.0127  |  0:01:00s\n",
      "epoch 83 | loss: 0.00108 | train_mae: 0.01784 | train_rmse: 0.02971 | train_mse: 0.00088 | valid_mae: 0.08666 | valid_rmse: 0.1295  | valid_mse: 0.01677 |  0:01:00s\n",
      "epoch 84 | loss: 0.00114 | train_mae: 0.01697 | train_rmse: 0.02714 | train_mse: 0.00074 | valid_mae: 0.08133 | valid_rmse: 0.11969 | valid_mse: 0.01433 |  0:01:01s\n",
      "epoch 85 | loss: 0.00111 | train_mae: 0.01672 | train_rmse: 0.02661 | train_mse: 0.00071 | valid_mae: 0.08069 | valid_rmse: 0.11182 | valid_mse: 0.0125  |  0:01:02s\n",
      "\n",
      "Early stopping occurred at epoch 85 with best_epoch = 60 and best_valid_mse = 0.00915\n"
     ]
    },
    {
     "name": "stderr",
     "output_type": "stream",
     "text": [
      "/home/frnk65/resource-prediction-study/venv/lib/python3.10/site-packages/pytorch_tabnet/callbacks.py:172: UserWarning: Best weights from best epoch are automatically used!\n",
      "  warnings.warn(wrn_msg)\n"
     ]
    },
    {
     "name": "stdout",
     "output_type": "stream",
     "text": [
      "MSE: 162.34035330470687 - RMSE: 12.74128538667535 - MAE: 9.330004085350037\n"
     ]
    }
   ],
   "source": [
    "# single thread model initialization\n",
    "model_st = TabNetRegressor()\n",
    "model_st.fit(\n",
    "\tX_train=X_st_train, y_train=y_st_train,\n",
    "\teval_set=[(X_st_train, y_st_train), (X_st_test, y_st_test)],\n",
    "\teval_name=['train', 'valid'],\n",
    "\teval_metric=['mae', 'rmse', 'mse'],\n",
    "\tmax_epochs=num_epochs,\n",
    "\tpatience=patience,\n",
    "\tbatch_size=1024, virtual_batch_size=128,\n",
    "\tnum_workers=0,\n",
    "\tdrop_last=False,\n",
    "\taugmentations=aug\n",
    ")\n",
    "\n",
    "preds = model_st.predict(X_st_test)\n",
    "preds = inv_scaling(preds, y_st_scaler)\n",
    "y_scaled = inv_scaling(y_st_test, y_st_scaler)\n",
    "mse = mean_squared_error(y_scaled, preds)\n",
    "mae = mean_absolute_error(y_scaled, preds)\n",
    "print(f\"MSE: {mse} - RMSE: {np.sqrt(mse)} - MAE: {mae}\")"
   ]
  },
  {
   "cell_type": "code",
   "execution_count": 20,
   "metadata": {},
   "outputs": [
    {
     "name": "stdout",
     "output_type": "stream",
     "text": [
      "Successfully saved model at ../models/tabnet/single_thread.zip\n"
     ]
    },
    {
     "data": {
      "text/plain": [
       "'../models/tabnet/single_thread.zip'"
      ]
     },
     "execution_count": 20,
     "metadata": {},
     "output_type": "execute_result"
    }
   ],
   "source": [
    "# save model\n",
    "model_st.save_model(f'{models_folder}/single_thread')"
   ]
  },
  {
   "cell_type": "markdown",
   "metadata": {},
   "source": [
    "## Multi Thread"
   ]
  },
  {
   "cell_type": "code",
   "execution_count": 21,
   "metadata": {},
   "outputs": [
    {
     "name": "stderr",
     "output_type": "stream",
     "text": [
      "/home/frnk65/resource-prediction-study/venv/lib/python3.10/site-packages/pytorch_tabnet/abstract_model.py:82: UserWarning: Device used : cuda\n",
      "  warnings.warn(f\"Device used : {self.device}\")\n"
     ]
    },
    {
     "name": "stdout",
     "output_type": "stream",
     "text": [
      "epoch 0  | loss: 0.53002 | train_mae: 0.15557 | train_rmse: 0.21755 | train_mse: 0.04733 | valid_mae: 0.395   | valid_rmse: 0.39944 | valid_mse: 0.15955 |  0:00:00s\n",
      "epoch 1  | loss: 0.06123 | train_mae: 0.13185 | train_rmse: 0.17215 | train_mse: 0.02964 | valid_mae: 0.3488  | valid_rmse: 0.35109 | valid_mse: 0.12327 |  0:00:00s\n",
      "epoch 2  | loss: 0.03735 | train_mae: 0.13953 | train_rmse: 0.17346 | train_mse: 0.03009 | valid_mae: 0.39686 | valid_rmse: 0.39834 | valid_mse: 0.15868 |  0:00:00s\n",
      "epoch 3  | loss: 0.02401 | train_mae: 0.13004 | train_rmse: 0.16372 | train_mse: 0.0268  | valid_mae: 0.40331 | valid_rmse: 0.4048  | valid_mse: 0.16387 |  0:00:00s\n",
      "epoch 4  | loss: 0.0186  | train_mae: 0.13138 | train_rmse: 0.16072 | train_mse: 0.02583 | valid_mae: 0.36677 | valid_rmse: 0.36941 | valid_mse: 0.13646 |  0:00:01s\n",
      "epoch 5  | loss: 0.0141  | train_mae: 0.13424 | train_rmse: 0.16313 | train_mse: 0.02661 | valid_mae: 0.34923 | valid_rmse: 0.35399 | valid_mse: 0.12531 |  0:00:01s\n",
      "epoch 6  | loss: 0.01303 | train_mae: 0.13009 | train_rmse: 0.15851 | train_mse: 0.02513 | valid_mae: 0.35356 | valid_rmse: 0.3583  | valid_mse: 0.12838 |  0:00:01s\n",
      "epoch 7  | loss: 0.01242 | train_mae: 0.12586 | train_rmse: 0.15468 | train_mse: 0.02393 | valid_mae: 0.36365 | valid_rmse: 0.36718 | valid_mse: 0.13482 |  0:00:01s\n",
      "epoch 8  | loss: 0.01103 | train_mae: 0.12395 | train_rmse: 0.15293 | train_mse: 0.02339 | valid_mae: 0.36641 | valid_rmse: 0.36922 | valid_mse: 0.13632 |  0:00:01s\n",
      "epoch 9  | loss: 0.01013 | train_mae: 0.12111 | train_rmse: 0.1503  | train_mse: 0.02259 | valid_mae: 0.37838 | valid_rmse: 0.38093 | valid_mse: 0.14511 |  0:00:01s\n",
      "epoch 10 | loss: 0.00934 | train_mae: 0.11994 | train_rmse: 0.14879 | train_mse: 0.02214 | valid_mae: 0.38233 | valid_rmse: 0.3849  | valid_mse: 0.14815 |  0:00:02s\n",
      "epoch 11 | loss: 0.00856 | train_mae: 0.12009 | train_rmse: 0.14854 | train_mse: 0.02207 | valid_mae: 0.38434 | valid_rmse: 0.38687 | valid_mse: 0.14966 |  0:00:02s\n",
      "epoch 12 | loss: 0.00753 | train_mae: 0.11873 | train_rmse: 0.14715 | train_mse: 0.02165 | valid_mae: 0.38897 | valid_rmse: 0.39116 | valid_mse: 0.15301 |  0:00:02s\n",
      "epoch 13 | loss: 0.00736 | train_mae: 0.11602 | train_rmse: 0.14799 | train_mse: 0.0219  | valid_mae: 0.40307 | valid_rmse: 0.405   | valid_mse: 0.16402 |  0:00:02s\n",
      "epoch 14 | loss: 0.00699 | train_mae: 0.11609 | train_rmse: 0.14717 | train_mse: 0.02166 | valid_mae: 0.40147 | valid_rmse: 0.4036  | valid_mse: 0.16289 |  0:00:02s\n",
      "epoch 15 | loss: 0.00633 | train_mae: 0.11368 | train_rmse: 0.14694 | train_mse: 0.02159 | valid_mae: 0.41302 | valid_rmse: 0.41467 | valid_mse: 0.17195 |  0:00:03s\n",
      "epoch 16 | loss: 0.00651 | train_mae: 0.11347 | train_rmse: 0.14496 | train_mse: 0.02101 | valid_mae: 0.41008 | valid_rmse: 0.41174 | valid_mse: 0.16953 |  0:00:03s\n",
      "epoch 17 | loss: 0.00624 | train_mae: 0.11164 | train_rmse: 0.14501 | train_mse: 0.02103 | valid_mae: 0.41217 | valid_rmse: 0.41363 | valid_mse: 0.17109 |  0:00:03s\n",
      "epoch 18 | loss: 0.00624 | train_mae: 0.11077 | train_rmse: 0.14501 | train_mse: 0.02103 | valid_mae: 0.41648 | valid_rmse: 0.41782 | valid_mse: 0.17457 |  0:00:03s\n",
      "epoch 19 | loss: 0.00613 | train_mae: 0.10913 | train_rmse: 0.14547 | train_mse: 0.02116 | valid_mae: 0.42304 | valid_rmse: 0.42435 | valid_mse: 0.18007 |  0:00:03s\n",
      "epoch 20 | loss: 0.00585 | train_mae: 0.10742 | train_rmse: 0.14532 | train_mse: 0.02112 | valid_mae: 0.42905 | valid_rmse: 0.43027 | valid_mse: 0.18513 |  0:00:04s\n",
      "epoch 21 | loss: 0.00607 | train_mae: 0.10642 | train_rmse: 0.14486 | train_mse: 0.02098 | valid_mae: 0.43207 | valid_rmse: 0.43325 | valid_mse: 0.18771 |  0:00:04s\n",
      "epoch 22 | loss: 0.00536 | train_mae: 0.10533 | train_rmse: 0.14509 | train_mse: 0.02105 | valid_mae: 0.43507 | valid_rmse: 0.43617 | valid_mse: 0.19025 |  0:00:04s\n",
      "epoch 23 | loss: 0.00521 | train_mae: 0.10396 | train_rmse: 0.14158 | train_mse: 0.02004 | valid_mae: 0.43018 | valid_rmse: 0.43138 | valid_mse: 0.18609 |  0:00:04s\n",
      "epoch 24 | loss: 0.00574 | train_mae: 0.10076 | train_rmse: 0.1413  | train_mse: 0.01997 | valid_mae: 0.43716 | valid_rmse: 0.43832 | valid_mse: 0.19212 |  0:00:04s\n",
      "epoch 25 | loss: 0.0053  | train_mae: 0.09957 | train_rmse: 0.13761 | train_mse: 0.01894 | valid_mae: 0.4321  | valid_rmse: 0.43355 | valid_mse: 0.18796 |  0:00:05s\n",
      "epoch 26 | loss: 0.00515 | train_mae: 0.09819 | train_rmse: 0.13914 | train_mse: 0.01936 | valid_mae: 0.43912 | valid_rmse: 0.44042 | valid_mse: 0.19397 |  0:00:05s\n",
      "\n",
      "Early stopping occurred at epoch 26 with best_epoch = 1 and best_valid_mse = 0.12327\n",
      "MSE: 457.172665266947 - RMSE: 21.38159641530414 - MAE: 21.24197877311706\n"
     ]
    },
    {
     "name": "stderr",
     "output_type": "stream",
     "text": [
      "/home/frnk65/resource-prediction-study/venv/lib/python3.10/site-packages/pytorch_tabnet/callbacks.py:172: UserWarning: Best weights from best epoch are automatically used!\n",
      "  warnings.warn(wrn_msg)\n"
     ]
    }
   ],
   "source": [
    "# multi thread model initialization\n",
    "model_mm = TabNetRegressor()\n",
    "model_mm.fit(\n",
    "\tX_train=X_mm_train, y_train=y_mm_train,\n",
    "\teval_set=[(X_mm_train, y_mm_train), (X_mm_test, y_mm_test)],\n",
    "\teval_name=['train', 'valid'],\n",
    "\teval_metric=['mae', 'rmse', 'mse'],\n",
    "\tmax_epochs=num_epochs,\n",
    "\tpatience=patience,\n",
    "\tbatch_size=1024, virtual_batch_size=128,\n",
    "\tnum_workers=0,\n",
    "\tdrop_last=False,\n",
    "\taugmentations=aug\n",
    ")\n",
    "\n",
    "preds = model_mm.predict(X_mm_test)\n",
    "preds = inv_scaling(preds, y_mm_scaler)\n",
    "y_scaled = inv_scaling(y_mm_test, y_mm_scaler)\n",
    "mse = mean_squared_error(y_scaled, preds)\n",
    "mae = mean_absolute_error(y_scaled, preds)\n",
    "print(f\"MSE: {mse} - RMSE: {np.sqrt(mse)} - MAE: {mae}\")"
   ]
  },
  {
   "cell_type": "code",
   "execution_count": 22,
   "metadata": {},
   "outputs": [
    {
     "name": "stdout",
     "output_type": "stream",
     "text": [
      "Successfully saved model at ../models/tabnet/multi_thread.zip\n"
     ]
    },
    {
     "data": {
      "text/plain": [
       "'../models/tabnet/multi_thread.zip'"
      ]
     },
     "execution_count": 22,
     "metadata": {},
     "output_type": "execute_result"
    }
   ],
   "source": [
    "# save model\n",
    "model_mm.save_model(f'{models_folder}/multi_thread')"
   ]
  },
  {
   "cell_type": "markdown",
   "metadata": {},
   "source": [
    "# Load models"
   ]
  },
  {
   "cell_type": "code",
   "execution_count": 23,
   "metadata": {},
   "outputs": [
    {
     "name": "stderr",
     "output_type": "stream",
     "text": [
      "/home/frnk65/resource-prediction-study/venv/lib/python3.10/site-packages/pytorch_tabnet/abstract_model.py:82: UserWarning: Device used : cuda\n",
      "  warnings.warn(f\"Device used : {self.device}\")\n"
     ]
    }
   ],
   "source": [
    "model_g = TabNetRegressor()\n",
    "model_st = TabNetRegressor()\n",
    "model_mm = TabNetRegressor()\n",
    "model_g.load_model(f'{models_folder}/general.zip')\n",
    "model_st.load_model(f'{models_folder}/single_thread.zip')\n",
    "model_mm.load_model(f'{models_folder}/multi_thread.zip')"
   ]
  },
  {
   "cell_type": "code",
   "execution_count": 24,
   "metadata": {},
   "outputs": [],
   "source": [
    "def describe_val(model, X, y, y_scaler):\n",
    "\tmin_instance = {\"prediction\": float('inf'), \"actual\": 0, \"index\": 0}\n",
    "\tmax_instance = {\"prediction\": 0, \"actual\": 0, \"index\": 0}\n",
    "\n",
    "\tpredictions = model.predict(X)\n",
    "\tpredictions = inv_scaling(predictions, y_scaler)\n",
    "\ty_scaled = inv_scaling(y, y_scaler)\n",
    "\tindex_min = np.argmin(np.abs(predictions - y_scaled))\n",
    "\tmin_instance[\"prediction\"] = predictions[index_min].item()\n",
    "\tmin_instance[\"actual\"] = y_scaled[index_min].item()\n",
    "\tmin_instance[\"index\"] = index_min\n",
    "\tindex_max = np.argmax(np.abs(predictions - y_scaled))\n",
    "\tmax_instance[\"prediction\"] = predictions[index_max].item()\n",
    "\tmax_instance[\"actual\"] = y_scaled[index_max].item()\n",
    "\tmax_instance[\"index\"] = index_max\n",
    "\n",
    "\treturn min_instance, max_instance, predictions"
   ]
  },
  {
   "cell_type": "code",
   "execution_count": 25,
   "metadata": {},
   "outputs": [
    {
     "name": "stdout",
     "output_type": "stream",
     "text": [
      "Validation set general model\n"
     ]
    },
    {
     "name": "stdout",
     "output_type": "stream",
     "text": [
      "Mean prediction: 25.18744659423828 | Std actual: 23.330150604248047\n",
      "Mean actual: 35.041486486486484 | Std actual: 28.83706408578472\n",
      "Mean Error: 10.19929129322155 | Std Error: 10.850271331561057\n",
      "---\n",
      "Min instance\n",
      "total_time                                                           60.38\n",
      "total_cpu_usage                                                       0.99\n",
      "max_ram_usage                                                    78.292969\n",
      "brand_raw                         Intel(R) Xeon(R) Gold 6330 CPU @ 2.00GHz\n",
      "count                                                                   56\n",
      "l2_cache_size                                                         70.0\n",
      "l3_cache_size                                                         42.0\n",
      "l2_cache_line_size                                                     256\n",
      "l2_cache_associativity                                                   6\n",
      "benchmark                                                             TSP4\n",
      "ghz_actual_friendly                                                    2.0\n",
      "ghz_advertised_friendly                                                2.0\n",
      "total_time_target                                                    63.73\n",
      "brand_raw_target                       13th Gen Intel(R) Core(TM) i5-1335U\n",
      "count_target                                                            12\n",
      "l2_cache_size_target                                                   7.5\n",
      "l3_cache_size_target                                                  12.0\n",
      "l2_cache_line_size_target                                             1280\n",
      "l2_cache_associativity_target                                            7\n",
      "ghz_advertised_friendly_target                                       2.496\n",
      "Name: 23048, dtype: object\n",
      "Min Prediction: 63.734947204589844 | Actual: 63.73 | Error: 0.004947204589846876\n",
      "---\n",
      "Max instance\n",
      "total_time                                                          106.93\n",
      "total_cpu_usage                                                       0.99\n",
      "max_ram_usage                                                         15.5\n",
      "brand_raw                         Intel(R) Core(TM) i5-10400 CPU @ 2.90GHz\n",
      "count                                                                   12\n",
      "l2_cache_size                                                          1.5\n",
      "l3_cache_size                                                         12.0\n",
      "l2_cache_line_size                                                     256\n",
      "l2_cache_associativity                                                   6\n",
      "benchmark                                                        N_Queens2\n",
      "ghz_actual_friendly                                                    4.0\n",
      "ghz_advertised_friendly                                                2.9\n",
      "total_time_target                                                   155.04\n",
      "brand_raw_target                       13th Gen Intel(R) Core(TM) i5-1335U\n",
      "count_target                                                            12\n",
      "l2_cache_size_target                                                   7.5\n",
      "l3_cache_size_target                                                  12.0\n",
      "l2_cache_line_size_target                                             1280\n",
      "l2_cache_associativity_target                                            7\n",
      "ghz_advertised_friendly_target                                       2.496\n",
      "Name: 1757, dtype: object\n",
      "Max Prediction: 110.79014587402344 | Actual: 155.04 | Error: 44.249854125976555\n"
     ]
    }
   ],
   "source": [
    "# general model\n",
    "print(\"Validation set general model\")\n",
    "min_instance, max_instance, predictions = describe_val(model_g, X_g_test, y_g_test, y_g_scaler)\n",
    "y_scaled = inv_scaling(y_g_test, y_g_scaler)\n",
    "errors = np.abs(predictions - y_scaled)\n",
    "mean_error = np.mean(errors)\n",
    "std_error = np.std(errors)\n",
    "\n",
    "print(f\"Mean prediction: {np.mean(predictions)} | Std actual: {np.std(predictions)}\")\n",
    "print(f\"Mean actual: {np.mean(y_scaled)} | Std actual: {np.std(y_scaled)}\")\n",
    "print(f\"Mean Error: {mean_error} | Std Error: {std_error}\")\n",
    "print(\"---\")\n",
    "print(\"Min instance\")\n",
    "print(g_test.iloc[min_instance[\"index\"]])\n",
    "print(f\"Min Prediction: {min_instance['prediction']} | Actual: {min_instance['actual']} | Error: {abs(min_instance['prediction'] - min_instance['actual'])}\")\n",
    "print(\"---\")\n",
    "print(\"Max instance\")\n",
    "print(g_test.iloc[max_instance[\"index\"]])\n",
    "print(f\"Max Prediction: {max_instance['prediction']} | Actual: {max_instance['actual']} | Error: {abs(max_instance['prediction'] - max_instance['actual'])}\")"
   ]
  },
  {
   "cell_type": "code",
   "execution_count": 26,
   "metadata": {},
   "outputs": [
    {
     "name": "stdout",
     "output_type": "stream",
     "text": [
      "Validation set single thread model\n",
      "Mean prediction: 25.63242530822754 | Std actual: 25.016273498535156\n",
      "Mean actual: 34.75261290322581 | Std actual: 31.49396398818138\n",
      "Mean Error: 9.330004085350037 | Std Error: 8.67706039347765\n",
      "Min instance\n",
      "total_time                                                       12.37\n",
      "total_cpu_usage                                                   0.99\n",
      "max_ram_usage                                              1435.183594\n",
      "brand_raw                         12th Gen Intel(R) Core(TM) i5-12400F\n",
      "count                                                               12\n",
      "l2_cache_size                                                      7.5\n",
      "l3_cache_size                                                     18.0\n",
      "l2_cache_line_size                                                1280\n",
      "l2_cache_associativity                                               7\n",
      "benchmark                                                          KNP\n",
      "ghz_actual_friendly                                              2.496\n",
      "ghz_advertised_friendly                                          2.496\n",
      "total_time_target                                                18.11\n",
      "brand_raw_target                   13th Gen Intel(R) Core(TM) i5-1335U\n",
      "count_target                                                        12\n",
      "l2_cache_size_target                                               7.5\n",
      "l3_cache_size_target                                              12.0\n",
      "l2_cache_line_size_target                                         1280\n",
      "l2_cache_associativity_target                                        7\n",
      "ghz_advertised_friendly_target                                   2.496\n",
      "Name: 4098, dtype: object\n",
      "Min Prediction: 18.080181121826172 | Actual: 18.11 | Error: 0.029818878173827557\n",
      "---\n",
      "Max instance\n",
      "total_time                                                                117.15\n",
      "total_cpu_usage                                                             0.99\n",
      "max_ram_usage                                                          15.445312\n",
      "brand_raw                         11th Gen Intel(R) Core(TM) i5-1135G7 @ 2.40GHz\n",
      "count                                                                          8\n",
      "l2_cache_size                                                                5.0\n",
      "l3_cache_size                                                                8.0\n",
      "l2_cache_line_size                                                           256\n",
      "l2_cache_associativity                                                         7\n",
      "benchmark                                                              N_Queens2\n",
      "ghz_actual_friendly                                                       2.4192\n",
      "ghz_advertised_friendly                                                      2.4\n",
      "total_time_target                                                         155.04\n",
      "brand_raw_target                             13th Gen Intel(R) Core(TM) i5-1335U\n",
      "count_target                                                                  12\n",
      "l2_cache_size_target                                                         7.5\n",
      "l3_cache_size_target                                                        12.0\n",
      "l2_cache_line_size_target                                                   1280\n",
      "l2_cache_associativity_target                                                  7\n",
      "ghz_advertised_friendly_target                                             2.496\n",
      "Name: 8172, dtype: object\n",
      "Max Prediction: 114.72183990478516 | Actual: 155.04 | Error: 40.318160095214836\n"
     ]
    }
   ],
   "source": [
    "# single thread model\n",
    "print(\"Validation set single thread model\")\n",
    "min_instance, max_instance, predictions = describe_val(model_st, X_st_test, y_st_test, y_st_scaler)\n",
    "y_scaled = inv_scaling(y_st_test, y_st_scaler)\n",
    "errors = np.abs(predictions - y_scaled)\n",
    "mean_error = np.mean(errors)\n",
    "std_error = np.std(errors)\n",
    "\n",
    "print(f\"Mean prediction: {np.mean(predictions)} | Std actual: {np.std(predictions)}\")\n",
    "print(f\"Mean actual: {np.mean(y_scaled)} | Std actual: {np.std(y_scaled)}\")\n",
    "print(f\"Mean Error: {mean_error} | Std Error: {std_error}\")\n",
    "print(\"Min instance\")\n",
    "print(st_test.iloc[min_instance[\"index\"]])\n",
    "print(f\"Min Prediction: {min_instance['prediction']} | Actual: {min_instance['actual']} | Error: {abs(min_instance['prediction'] - min_instance['actual'])}\")\n",
    "print(\"---\")\n",
    "print(\"Max instance\")\n",
    "print(st_test.iloc[max_instance[\"index\"]])\n",
    "print(f\"Max Prediction: {max_instance['prediction']} | Actual: {max_instance['actual']} | Error: {abs(max_instance['prediction'] - max_instance['actual'])}\")"
   ]
  },
  {
   "cell_type": "code",
   "execution_count": 27,
   "metadata": {},
   "outputs": [
    {
     "name": "stdout",
     "output_type": "stream",
     "text": [
      "Validation set multi thread model\n",
      "Mean prediction: 15.292021751403809 | Std actual: 2.2839832305908203\n",
      "Mean actual: 36.534 | Std actual: 0.8569854141115829\n",
      "Mean Error: 21.24197877311706 | Std Error: 2.4394677840444983\n",
      "Min instance\n",
      "total_time                                                            23.88\n",
      "total_cpu_usage                                                        1.92\n",
      "max_ram_usage                                                   2332.714844\n",
      "brand_raw                         Intel(R) Xeon(R) CPU E5-2623 v3 @ 3.00GHz\n",
      "count                                                                     8\n",
      "l2_cache_size                                                           2.0\n",
      "l3_cache_size                                                          10.0\n",
      "l2_cache_line_size                                                      256\n",
      "l2_cache_associativity                                                    6\n",
      "benchmark                                                       MATRIX_MULT\n",
      "ghz_actual_friendly                                                     1.5\n",
      "ghz_advertised_friendly                                                 3.0\n",
      "total_time_target                                                     35.58\n",
      "brand_raw_target                        13th Gen Intel(R) Core(TM) i5-1335U\n",
      "count_target                                                             12\n",
      "l2_cache_size_target                                                    7.5\n",
      "l3_cache_size_target                                                   12.0\n",
      "l2_cache_line_size_target                                              1280\n",
      "l2_cache_associativity_target                                             7\n",
      "ghz_advertised_friendly_target                                        2.496\n",
      "Name: 15124, dtype: object\n",
      "Min Prediction: 19.67747688293457 | Actual: 35.58 | Error: 15.902523117065428\n",
      "---\n",
      "Max instance\n",
      "total_time                                                             5.08\n",
      "total_cpu_usage                                                       15.15\n",
      "max_ram_usage                                                   2379.140625\n",
      "brand_raw                         Intel(R) Xeon(R) CPU E5-2670 v3 @ 2.30GHz\n",
      "count                                                                    24\n",
      "l2_cache_size                                                           6.0\n",
      "l3_cache_size                                                          30.0\n",
      "l2_cache_line_size                                                      256\n",
      "l2_cache_associativity                                                    6\n",
      "benchmark                                                       MATRIX_MULT\n",
      "ghz_actual_friendly                                                   2.301\n",
      "ghz_advertised_friendly                                                 2.3\n",
      "total_time_target                                                     38.02\n",
      "brand_raw_target                        13th Gen Intel(R) Core(TM) i5-1335U\n",
      "count_target                                                             12\n",
      "l2_cache_size_target                                                    7.5\n",
      "l3_cache_size_target                                                   12.0\n",
      "l2_cache_line_size_target                                              1280\n",
      "l2_cache_associativity_target                                             7\n",
      "ghz_advertised_friendly_target                                        2.496\n",
      "Name: 11805, dtype: object\n",
      "Max Prediction: 10.446202278137207 | Actual: 38.02 | Error: 27.573797721862796\n"
     ]
    }
   ],
   "source": [
    "# multi thread model\n",
    "print(\"Validation set multi thread model\")\n",
    "min_instance, max_instance, predictions = describe_val(model_mm, X_mm_test, y_mm_test, y_mm_scaler)\n",
    "y_scaled = inv_scaling(y_mm_test, y_mm_scaler)\n",
    "errors = np.abs(predictions - y_scaled)\n",
    "mean_error = np.mean(errors)\n",
    "std_error = np.std(errors)\n",
    "\n",
    "print(f\"Mean prediction: {np.mean(predictions)} | Std actual: {np.std(predictions)}\")\n",
    "print(f\"Mean actual: {np.mean(y_scaled)} | Std actual: {np.std(y_scaled)}\")\n",
    "print(f\"Mean Error: {mean_error} | Std Error: {std_error}\")\n",
    "print(\"Min instance\")\n",
    "print(mm_test.iloc[min_instance[\"index\"]])\n",
    "print(f\"Min Prediction: {min_instance['prediction']} | Actual: {min_instance['actual']} | Error: {abs(min_instance['prediction'] - min_instance['actual'])}\")\n",
    "print(\"---\")\n",
    "print(\"Max instance\")\n",
    "print(mm_test.iloc[max_instance[\"index\"]])\n",
    "print(f\"Max Prediction: {max_instance['prediction']} | Actual: {max_instance['actual']} | Error: {abs(max_instance['prediction'] - max_instance['actual'])}\")"
   ]
  },
  {
   "cell_type": "markdown",
   "metadata": {},
   "source": [
    "# Explanation"
   ]
  },
  {
   "cell_type": "code",
   "execution_count": 28,
   "metadata": {},
   "outputs": [
    {
     "ename": "AttributeError",
     "evalue": "'TabNetRegressor' object has no attribute 'feature_importances_'",
     "output_type": "error",
     "traceback": [
      "\u001b[0;31m---------------------------------------------------------------------------\u001b[0m",
      "\u001b[0;31mAttributeError\u001b[0m                            Traceback (most recent call last)",
      "Cell \u001b[0;32mIn[28], line 1\u001b[0m\n\u001b[0;32m----> 1\u001b[0m \u001b[38;5;28mprint\u001b[39m(\u001b[43mmodel_g\u001b[49m\u001b[38;5;241;43m.\u001b[39;49m\u001b[43mfeature_importances_\u001b[49m)\n\u001b[1;32m      2\u001b[0m \u001b[38;5;28mprint\u001b[39m(model_st\u001b[38;5;241m.\u001b[39mfeature_importances_)\n\u001b[1;32m      3\u001b[0m \u001b[38;5;28mprint\u001b[39m(model_mm\u001b[38;5;241m.\u001b[39mfeature_importances_)\n",
      "\u001b[0;31mAttributeError\u001b[0m: 'TabNetRegressor' object has no attribute 'feature_importances_'"
     ]
    }
   ],
   "source": [
    "print(model_g.feature_importances_)\n",
    "print(model_st.feature_importances_)\n",
    "print(model_mm.feature_importances_)"
   ]
  },
  {
   "cell_type": "code",
   "execution_count": null,
   "metadata": {},
   "outputs": [],
   "source": [
    "from matplotlib import pyplot as plt\n",
    "%matplotlib inline\n",
    "\n",
    "def explain_matrix_plot(model, X_test):\n",
    "\texplain_matrix, masks = model.explain(X_test)\n",
    "\tfig, axs = plt.subplots(1, 3, figsize=(20,20))\n",
    "\tfor i in range(3):\n",
    "\t\taxs[i].imshow(masks[i][:50])\n",
    "\t\taxs[i].set_title(f\"mask {i}\")"
   ]
  },
  {
   "cell_type": "code",
   "execution_count": null,
   "metadata": {},
   "outputs": [
    {
     "data": {
      "image/png": "[encoded data removed]",
      "text/plain": [
       "<Figure size 2000x2000 with 3 Axes>"
      ]
     },
     "metadata": {},
     "output_type": "display_data"
    }
   ],
   "source": [
    "explain_matrix_plot(model_g, X_g_test)"
   ]
  },
  {
   "cell_type": "code",
   "execution_count": null,
   "metadata": {},
   "outputs": [
    {
     "data": {
      "image/png": "[encoded data removed]",
      "text/plain": [
       "<Figure size 2000x2000 with 3 Axes>"
      ]
     },
     "metadata": {},
     "output_type": "display_data"
    }
   ],
   "source": [
    "explain_matrix_plot(model_st, X_st_test)"
   ]
  },
  {
   "cell_type": "code",
   "execution_count": null,
   "metadata": {},
   "outputs": [
    {
     "data": {
      "image/png": "[encoded data removed]",
      "text/plain": [
       "<Figure size 2000x2000 with 3 Axes>"
      ]
     },
     "metadata": {},
     "output_type": "display_data"
    }
   ],
   "source": [
    "explain_matrix_plot(model_mm, X_mm_test)"
   ]
  }
 ],
 "metadata": {
  "kernelspec": {
   "display_name": "venv",
   "language": "python",
   "name": "python3"
  },
  "language_info": {
   "codemirror_mode": {
    "name": "ipython",
    "version": 3
   },
   "file_extension": ".py",
   "mimetype": "text/x-python",
   "name": "python",
   "nbconvert_exporter": "python",
   "pygments_lexer": "ipython3",
   "version": "3.10.13"
  }
 },
 "nbformat": 4,
 "nbformat_minor": 2
}
