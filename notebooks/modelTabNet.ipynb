{
 "cells": [
  {
   "cell_type": "code",
   "execution_count": 1,
   "metadata": {},
   "outputs": [],
   "source": [
    "import optuna\n",
    "from optuna.samplers import TPESampler\n",
    "import pandas as pd\n",
    "import numpy as np\n",
    "import random\n",
    "from pytorch_tabnet.tab_model import TabNetRegressor\n",
    "from sklearn.preprocessing import StandardScaler\n",
    "from pytorch_tabnet.augmentations import RegressionSMOTE\n",
    "from sklearn.metrics import mean_squared_error, mean_absolute_error"
   ]
  },
  {
   "cell_type": "code",
   "execution_count": 2,
   "metadata": {},
   "outputs": [],
   "source": [
    "# Fix random seed\n",
    "seed = 42\n",
    "np.random.seed(seed)\n",
    "random.seed(seed)\n",
    "sampler = TPESampler(seed=seed)"
   ]
  },
  {
   "cell_type": "markdown",
   "metadata": {},
   "source": [
    "# Pre-processing input data"
   ]
  },
  {
   "cell_type": "code",
   "execution_count": 3,
   "metadata": {},
   "outputs": [],
   "source": [
    "def bits_to_MiB(row):\n",
    "\t# verify if has string ' MiB'\n",
    "\tif 'MiB' in str(row):\n",
    "\t\trow = row.replace(' MiB', '')\n",
    "\t\trow = float(row)\n",
    "\telse:\n",
    "\t\trow = float(row) / np.power(2, 20)\n",
    "\treturn row\n",
    "\n",
    "\n",
    "def MHz_to_GHz(row):\n",
    "\t# verify if has string ' GHz'\n",
    "\tif 'GHz' in str(row):\n",
    "\t\trow = row.replace(' GHz', '')\n",
    "\t\t# convert to float\n",
    "\t\trow = float(row)\n",
    "\telse:\n",
    "\t\trow = row.replace(' MHz', '')\n",
    "\t\trow = float(row) / 1000\n",
    "\treturn row"
   ]
  },
  {
   "cell_type": "code",
   "execution_count": 4,
   "metadata": {},
   "outputs": [],
   "source": [
    "results_df = pd.read_csv('../results_new/execution_time.csv')\n",
    "results_savio_df = pd.read_csv('../results_savio_new/execution_time.csv')\n",
    "results_df = pd.concat([results_df, results_savio_df], ignore_index=True)\n",
    "# preprocessing\n",
    "results_df['total_cpu_usage'] = results_df['total_cpu_usage'].str.replace('%', '').astype(float) / 100\n",
    "results_df['max_ram_usage'] = results_df['max_ram_usage'] / 1024\n",
    "results_df['l2_cache_size'] = results_df['l2_cache_size'].apply(bits_to_MiB)\n",
    "results_df['l3_cache_size'] = results_df['l3_cache_size'].apply(bits_to_MiB)\n",
    "results_df['ghz_actual_friendly'] = results_df['hz_actual_friendly'].apply(MHz_to_GHz)\n",
    "results_df['ghz_advertised_friendly'] = results_df['hz_advertised_friendly'].str.replace('GHz', '').astype(float)\n",
    "results_df = results_df.drop(columns=['hz_actual_friendly', 'hz_advertised_friendly', 'arch', 'vendor_id_raw'])"
   ]
  },
  {
   "cell_type": "code",
   "execution_count": 5,
   "metadata": {},
   "outputs": [
    {
     "data": {
      "text/html": [
       "<div>\n",
       "<style scoped>\n",
       "    .dataframe tbody tr th:only-of-type {\n",
       "        vertical-align: middle;\n",
       "    }\n",
       "\n",
       "    .dataframe tbody tr th {\n",
       "        vertical-align: top;\n",
       "    }\n",
       "\n",
       "    .dataframe thead th {\n",
       "        text-align: right;\n",
       "    }\n",
       "</style>\n",
       "<table border=\"1\" class=\"dataframe\">\n",
       "  <thead>\n",
       "    <tr style=\"text-align: right;\">\n",
       "      <th></th>\n",
       "      <th>total_time</th>\n",
       "      <th>total_cpu_usage</th>\n",
       "      <th>max_ram_usage</th>\n",
       "      <th>brand_raw</th>\n",
       "      <th>count</th>\n",
       "      <th>l2_cache_size</th>\n",
       "      <th>l3_cache_size</th>\n",
       "      <th>l2_cache_line_size</th>\n",
       "      <th>l2_cache_associativity</th>\n",
       "      <th>benchmark</th>\n",
       "      <th>ghz_actual_friendly</th>\n",
       "      <th>ghz_advertised_friendly</th>\n",
       "      <th>total_time_target</th>\n",
       "      <th>brand_raw_target</th>\n",
       "      <th>count_target</th>\n",
       "      <th>l2_cache_size_target</th>\n",
       "      <th>l3_cache_size_target</th>\n",
       "      <th>l2_cache_line_size_target</th>\n",
       "      <th>l2_cache_associativity_target</th>\n",
       "      <th>ghz_advertised_friendly_target</th>\n",
       "    </tr>\n",
       "  </thead>\n",
       "  <tbody>\n",
       "    <tr>\n",
       "      <th>5</th>\n",
       "      <td>13.47</td>\n",
       "      <td>0.99</td>\n",
       "      <td>1436.714844</td>\n",
       "      <td>Intel(R) Core(TM) i5-10400 CPU @ 2.90GHz</td>\n",
       "      <td>12</td>\n",
       "      <td>1.5</td>\n",
       "      <td>12.0</td>\n",
       "      <td>256</td>\n",
       "      <td>6</td>\n",
       "      <td>KNP</td>\n",
       "      <td>4.1729</td>\n",
       "      <td>2.9</td>\n",
       "      <td>45.91</td>\n",
       "      <td>13th Gen Intel(R) Core(TM) i5-1335U</td>\n",
       "      <td>12</td>\n",
       "      <td>7.5</td>\n",
       "      <td>12.0</td>\n",
       "      <td>1280</td>\n",
       "      <td>7</td>\n",
       "      <td>2.496</td>\n",
       "    </tr>\n",
       "    <tr>\n",
       "      <th>6</th>\n",
       "      <td>13.47</td>\n",
       "      <td>0.99</td>\n",
       "      <td>1436.714844</td>\n",
       "      <td>Intel(R) Core(TM) i5-10400 CPU @ 2.90GHz</td>\n",
       "      <td>12</td>\n",
       "      <td>1.5</td>\n",
       "      <td>12.0</td>\n",
       "      <td>256</td>\n",
       "      <td>6</td>\n",
       "      <td>KNP</td>\n",
       "      <td>4.1729</td>\n",
       "      <td>2.9</td>\n",
       "      <td>25.77</td>\n",
       "      <td>13th Gen Intel(R) Core(TM) i5-1335U</td>\n",
       "      <td>12</td>\n",
       "      <td>7.5</td>\n",
       "      <td>12.0</td>\n",
       "      <td>1280</td>\n",
       "      <td>7</td>\n",
       "      <td>2.496</td>\n",
       "    </tr>\n",
       "  </tbody>\n",
       "</table>\n",
       "</div>"
      ],
      "text/plain": [
       "   total_time  total_cpu_usage  max_ram_usage  \\\n",
       "5       13.47             0.99    1436.714844   \n",
       "6       13.47             0.99    1436.714844   \n",
       "\n",
       "                                  brand_raw  count  l2_cache_size  \\\n",
       "5  Intel(R) Core(TM) i5-10400 CPU @ 2.90GHz     12            1.5   \n",
       "6  Intel(R) Core(TM) i5-10400 CPU @ 2.90GHz     12            1.5   \n",
       "\n",
       "   l3_cache_size  l2_cache_line_size  l2_cache_associativity benchmark  \\\n",
       "5           12.0                 256                       6       KNP   \n",
       "6           12.0                 256                       6       KNP   \n",
       "\n",
       "   ghz_actual_friendly  ghz_advertised_friendly  total_time_target  \\\n",
       "5               4.1729                      2.9              45.91   \n",
       "6               4.1729                      2.9              25.77   \n",
       "\n",
       "                      brand_raw_target  count_target  l2_cache_size_target  \\\n",
       "5  13th Gen Intel(R) Core(TM) i5-1335U            12                   7.5   \n",
       "6  13th Gen Intel(R) Core(TM) i5-1335U            12                   7.5   \n",
       "\n",
       "   l3_cache_size_target  l2_cache_line_size_target  \\\n",
       "5                  12.0                       1280   \n",
       "6                  12.0                       1280   \n",
       "\n",
       "   l2_cache_associativity_target  ghz_advertised_friendly_target  \n",
       "5                              7                           2.496  \n",
       "6                              7                           2.496  "
      ]
     },
     "execution_count": 5,
     "metadata": {},
     "output_type": "execute_result"
    }
   ],
   "source": [
    "# Make the target dataset\n",
    "target_df = results_df[['total_time', 'brand_raw', 'count', 'l2_cache_size', 'l3_cache_size', 'l2_cache_line_size', 'l2_cache_associativity', 'ghz_advertised_friendly', 'benchmark']].copy()\n",
    "# Rename columns to *_target\n",
    "target_df = target_df.rename(columns={\n",
    "    'total_time': 'total_time_target',\n",
    "    'brand_raw': 'brand_raw_target',\n",
    "    'count': 'count_target',\n",
    "    'l2_cache_size': 'l2_cache_size_target',\n",
    "    'l3_cache_size': 'l3_cache_size_target',\n",
    "    'l2_cache_line_size': 'l2_cache_line_size_target',\n",
    "    'l2_cache_associativity': 'l2_cache_associativity_target',\n",
    "    'ghz_advertised_friendly': 'ghz_advertised_friendly_target',\n",
    "})\n",
    "\n",
    "dataset_df = pd.merge(results_df, target_df, how='inner', on='benchmark')\n",
    "dataset_df = dataset_df[dataset_df['brand_raw'] != dataset_df['brand_raw_target']]\n",
    "dataset_df.head(2)"
   ]
  },
  {
   "cell_type": "code",
   "execution_count": 6,
   "metadata": {},
   "outputs": [],
   "source": [
    "# remove one computer for testing\n",
    "g_train = dataset_df[(dataset_df['brand_raw'] != '13th Gen Intel(R) Core(TM) i5-1335U') & (dataset_df['brand_raw_target'] != '13th Gen Intel(R) Core(TM) i5-1335U')]\n",
    "g_test = dataset_df[dataset_df['brand_raw_target'] == '13th Gen Intel(R) Core(TM) i5-1335U']"
   ]
  },
  {
   "cell_type": "code",
   "execution_count": 7,
   "metadata": {},
   "outputs": [],
   "source": [
    "mm_df = dataset_df[dataset_df['benchmark'].isin(['MATRIX_MULT', 'MATRIX_MULT2', 'MATRIX_MULT3'])]\n",
    "# remove one computer for testing\n",
    "mm_train = mm_df[(mm_df['brand_raw'] != '13th Gen Intel(R) Core(TM) i5-1335U') & (mm_df['brand_raw_target'] != '13th Gen Intel(R) Core(TM) i5-1335U')]\n",
    "mm_test = mm_df[mm_df['brand_raw_target'] == '13th Gen Intel(R) Core(TM) i5-1335U']"
   ]
  },
  {
   "cell_type": "code",
   "execution_count": 8,
   "metadata": {},
   "outputs": [],
   "source": [
    "st_df = dataset_df[~dataset_df['benchmark'].isin(['MATRIX_MULT', 'MATRIX_MULT2', 'MATRIX_MULT3'])]\n",
    "# remove one computer for testing\n",
    "st_train = st_df[(st_df['brand_raw'] != '13th Gen Intel(R) Core(TM) i5-1335U') & (st_df['brand_raw_target'] != '13th Gen Intel(R) Core(TM) i5-1335U')]\n",
    "st_test = st_df[st_df['brand_raw_target'] == '13th Gen Intel(R) Core(TM) i5-1335U']"
   ]
  },
  {
   "cell_type": "code",
   "execution_count": 9,
   "metadata": {},
   "outputs": [],
   "source": [
    "# load test dataset\n",
    "g_test = pd.read_csv('csv/g_test.csv')\n",
    "st_test = pd.read_csv('csv/st_test.csv')\n",
    "mm_test = pd.read_csv('csv/mm_test.csv')"
   ]
  },
  {
   "cell_type": "code",
   "execution_count": 10,
   "metadata": {},
   "outputs": [],
   "source": [
    "target = 'total_time_target'\n",
    "features = mm_test.columns.copy().drop(target).drop(['benchmark','brand_raw', 'brand_raw_target'])\n",
    "features_st = features.copy().drop(['count', 'count_target'])"
   ]
  },
  {
   "cell_type": "code",
   "execution_count": 11,
   "metadata": {},
   "outputs": [],
   "source": [
    "# general data\n",
    "## split data\n",
    "X_g_train = g_train[features]\n",
    "y_g_train = g_train[target]\n",
    "#X_g_train, X_g_val, y_g_train, y_g_val = train_test_split(X_g_train, y_g_train, test_size=0.4, random_state=seed)\n",
    "\n",
    "## test\n",
    "X_g_test = g_test[features]\n",
    "y_g_test = g_test[target]\n",
    "\n",
    "## normalize data\n",
    "scaler_g = StandardScaler()\n",
    "X_g_train = scaler_g.fit_transform(X_g_train)\n",
    "#X_g_val = scaler_g.fit_transform(X_g_val)\n",
    "X_g_test = scaler_g.transform(X_g_test)"
   ]
  },
  {
   "cell_type": "code",
   "execution_count": 12,
   "metadata": {},
   "outputs": [],
   "source": [
    "# single thread data\n",
    "## split data\n",
    "X_st_train = st_train[features_st]\n",
    "y_st_train = st_train[target]\n",
    "#X_st_train, X_st_val, y_st_train, y_st_val = train_test_split(X_st_train, y_st_train, test_size=0.4, random_state=seed)\n",
    "\n",
    "## test\n",
    "X_st_test = st_test[features_st]\n",
    "y_st_test = st_test[target]\n",
    "\n",
    "## normalize data\n",
    "scaler_st = StandardScaler()\n",
    "X_st_train = scaler_st.fit_transform(X_st_train)\n",
    "#X_st_val = scaler_st.fit_transform(X_st_val)\n",
    "X_st_test = scaler_st.transform(X_st_test)"
   ]
  },
  {
   "cell_type": "code",
   "execution_count": 13,
   "metadata": {},
   "outputs": [],
   "source": [
    "# multi thread data\n",
    "## split data\n",
    "X_mm_train = mm_train[features]\n",
    "y_mm_train = mm_train[target]\n",
    "#X_mm_train, X_mm_val, y_mm_train, y_mm_val = train_test_split(X_mm_train, y_mm_train, test_size=0.4, random_state=seed)\n",
    "\n",
    "X_mm_test = mm_test[features]\n",
    "y_mm_test = mm_test[target]\n",
    "\n",
    "## normalize data\n",
    "scaler_mm = StandardScaler()\n",
    "X_mm_train = scaler_mm.fit_transform(X_mm_train)\n",
    "#X_mm_val = scaler_mm.fit_transform(X_mm_val)\n",
    "X_mm_test = scaler_mm.transform(X_mm_test)"
   ]
  },
  {
   "cell_type": "code",
   "execution_count": 14,
   "metadata": {},
   "outputs": [],
   "source": [
    "aug = RegressionSMOTE(p=0.2)"
   ]
  },
  {
   "cell_type": "markdown",
   "metadata": {},
   "source": [
    "# Model"
   ]
  },
  {
   "cell_type": "code",
   "execution_count": 15,
   "metadata": {},
   "outputs": [],
   "source": [
    "def objective(trial: optuna.Trial, X_train, y_train, X_valid, y_valid, X_test, y_test):\n",
    "\t# Definimos los hiperparámetros a buscar\n",
    "\tpatience = trial.suggest_int('patience', 50, 100)\n",
    "\tnum_epochs = trial.suggest_int('num_epochs', 10, 100)\n",
    "\n",
    "\t# model initialization \n",
    "\tmodel = TabNetRegressor()\n",
    "\tmodel.fit(\n",
    "\t\tX_train=X_train.values, y_train=y_train.values.reshape(-1,1),\n",
    "\t\teval_set=[(X_train.values, y_train.values.reshape(-1,1)), (X_valid.values, y_valid.values.reshape(-1,1))],\n",
    "\t\teval_name=['train', 'valid'],\n",
    "\t\teval_metric=['rmsle', 'mae', 'rmse', 'mse'],\n",
    "\t\tmax_epochs=num_epochs,\n",
    "\t\tpatience=patience,\n",
    "\t\tbatch_size=1024, virtual_batch_size=128,\n",
    "\t\tnum_workers=0,\n",
    "\t\tdrop_last=False,\n",
    "\t\taugmentations=aug,\n",
    "\t\t\n",
    "\t)\n",
    "\tpreds = model.predict(X_test.values)\n",
    "\tval_loss = mean_squared_error(y_test, preds)\n",
    "\tprint(f\"Trial: {trial.number} - Loss: {model.best_cost} - Val Loss: {val_loss}\")\n",
    "\treturn val_loss"
   ]
  },
  {
   "cell_type": "markdown",
   "metadata": {},
   "source": [
    "# Training"
   ]
  },
  {
   "cell_type": "code",
   "execution_count": 16,
   "metadata": {},
   "outputs": [],
   "source": [
    "models_folder = '../models/tabnet'\n",
    "patience = 50\n",
    "num_epochs = 100"
   ]
  },
  {
   "cell_type": "markdown",
   "metadata": {},
   "source": [
    "## General"
   ]
  },
  {
   "cell_type": "code",
   "execution_count": 17,
   "metadata": {},
   "outputs": [
    {
     "name": "stderr",
     "output_type": "stream",
     "text": [
      "/home/frnk65/resource-prediction-study/venv/lib/python3.10/site-packages/pytorch_tabnet/abstract_model.py:82: UserWarning: Device used : cuda\n",
      "  warnings.warn(f\"Device used : {self.device}\")\n"
     ]
    },
    {
     "name": "stdout",
     "output_type": "stream",
     "text": [
      "epoch 0  | loss: 514.46883| train_mae: 12.17669| train_rmse: 14.58276| train_mse: 212.65703| valid_mae: 20.922  | valid_rmse: 22.38306| valid_mse: 501.00133|  0:00:01s\n",
      "epoch 1  | loss: 142.24529| train_mae: 5.2601  | train_rmse: 6.88041 | train_mse: 47.33999| valid_mae: 7.44305 | valid_rmse: 10.54697| valid_mse: 111.23864|  0:00:02s\n",
      "epoch 2  | loss: 43.96507| train_mae: 4.21748 | train_rmse: 5.73528 | train_mse: 32.89341| valid_mae: 10.90856| valid_rmse: 13.19386| valid_mse: 174.07798|  0:00:02s\n",
      "epoch 3  | loss: 31.41954| train_mae: 3.14918 | train_rmse: 4.40555 | train_mse: 19.4089 | valid_mae: 12.77058| valid_rmse: 15.48931| valid_mse: 239.91863|  0:00:03s\n",
      "epoch 4  | loss: 24.71892| train_mae: 2.7685  | train_rmse: 3.92933 | train_mse: 15.43965| valid_mae: 12.10684| valid_rmse: 14.90246| valid_mse: 222.0833|  0:00:05s\n",
      "epoch 5  | loss: 22.19282| train_mae: 2.7186  | train_rmse: 3.86613 | train_mse: 14.94694| valid_mae: 12.0573 | valid_rmse: 15.08451| valid_mse: 227.54241|  0:00:05s\n",
      "epoch 6  | loss: 21.95307| train_mae: 2.57254 | train_rmse: 3.64024 | train_mse: 13.25133| valid_mae: 11.80547| valid_rmse: 14.67388| valid_mse: 215.32262|  0:00:06s\n",
      "epoch 7  | loss: 17.53822| train_mae: 2.91154 | train_rmse: 4.65085 | train_mse: 21.63044| valid_mae: 12.51777| valid_rmse: 15.48311| valid_mse: 239.72671|  0:00:07s\n",
      "epoch 8  | loss: 18.55001| train_mae: 2.37362 | train_rmse: 3.50811 | train_mse: 12.30687| valid_mae: 11.36207| valid_rmse: 14.10998| valid_mse: 199.09144|  0:00:08s\n",
      "epoch 9  | loss: 16.37046| train_mae: 2.15927 | train_rmse: 3.08402 | train_mse: 9.5112  | valid_mae: 11.96069| valid_rmse: 15.36115| valid_mse: 235.96498|  0:00:09s\n",
      "epoch 10 | loss: 17.34027| train_mae: 2.40801 | train_rmse: 3.5808  | train_mse: 12.82213| valid_mae: 13.11959| valid_rmse: 16.29867| valid_mse: 265.64661|  0:00:10s\n",
      "epoch 11 | loss: 15.62194| train_mae: 1.99963 | train_rmse: 2.92049 | train_mse: 8.52927 | valid_mae: 10.94355| valid_rmse: 14.22799| valid_mse: 202.43574|  0:00:11s\n",
      "epoch 12 | loss: 15.26533| train_mae: 2.02101 | train_rmse: 2.93668 | train_mse: 8.62412 | valid_mae: 12.23351| valid_rmse: 16.13128| valid_mse: 260.21814|  0:00:12s\n",
      "epoch 13 | loss: 14.99773| train_mae: 2.3637  | train_rmse: 3.45214 | train_mse: 11.91729| valid_mae: 11.84902| valid_rmse: 15.79377| valid_mse: 249.44327|  0:00:13s\n",
      "epoch 14 | loss: 14.93464| train_mae: 2.31019 | train_rmse: 3.44405 | train_mse: 11.86151| valid_mae: 11.07113| valid_rmse: 14.37856| valid_mse: 206.7431|  0:00:14s\n",
      "epoch 15 | loss: 14.47884| train_mae: 2.00738 | train_rmse: 2.91319 | train_mse: 8.48666 | valid_mae: 10.92098| valid_rmse: 14.08108| valid_mse: 198.27694|  0:00:15s\n",
      "epoch 16 | loss: 12.82979| train_mae: 1.93102 | train_rmse: 2.80699 | train_mse: 7.87917 | valid_mae: 12.6784 | valid_rmse: 16.49626| valid_mse: 272.12645|  0:00:16s\n",
      "epoch 17 | loss: 12.65447| train_mae: 2.05576 | train_rmse: 3.13677 | train_mse: 9.83934 | valid_mae: 12.32287| valid_rmse: 16.12639| valid_mse: 260.06047|  0:00:17s\n",
      "epoch 18 | loss: 13.0923 | train_mae: 1.97476 | train_rmse: 3.04188 | train_mse: 9.25302 | valid_mae: 12.41963| valid_rmse: 15.99389| valid_mse: 255.80465|  0:00:17s\n",
      "epoch 19 | loss: 13.93449| train_mae: 1.86938 | train_rmse: 2.72246 | train_mse: 7.41181 | valid_mae: 11.91473| valid_rmse: 15.63673| valid_mse: 244.50744|  0:00:18s\n",
      "epoch 20 | loss: 13.13499| train_mae: 1.77324 | train_rmse: 2.61893 | train_mse: 6.85878 | valid_mae: 12.35932| valid_rmse: 15.88723| valid_mse: 252.40404|  0:00:19s\n",
      "epoch 21 | loss: 11.23051| train_mae: 1.84127 | train_rmse: 2.75301 | train_mse: 7.57904 | valid_mae: 12.92459| valid_rmse: 16.31074| valid_mse: 266.04013|  0:00:20s\n",
      "epoch 22 | loss: 10.72984| train_mae: 1.75792 | train_rmse: 2.68073 | train_mse: 7.18631 | valid_mae: 13.42998| valid_rmse: 16.7802 | valid_mse: 281.57501|  0:00:21s\n",
      "epoch 23 | loss: 12.11516| train_mae: 1.70733 | train_rmse: 2.58706 | train_mse: 6.69288 | valid_mae: 12.6744 | valid_rmse: 16.20382| valid_mse: 262.56393|  0:00:22s\n",
      "epoch 24 | loss: 11.88988| train_mae: 1.99673 | train_rmse: 2.9698  | train_mse: 8.81969 | valid_mae: 11.9821 | valid_rmse: 15.19744| valid_mse: 230.96206|  0:00:23s\n",
      "epoch 25 | loss: 12.82832| train_mae: 1.96298 | train_rmse: 3.08181 | train_mse: 9.49756 | valid_mae: 12.87334| valid_rmse: 16.06361| valid_mse: 258.03946|  0:00:24s\n",
      "epoch 26 | loss: 11.1139 | train_mae: 1.89001 | train_rmse: 2.95876 | train_mse: 8.75424 | valid_mae: 11.9838 | valid_rmse: 15.65342| valid_mse: 245.02953|  0:00:25s\n",
      "epoch 27 | loss: 10.93167| train_mae: 1.65569 | train_rmse: 2.52167 | train_mse: 6.35884 | valid_mae: 13.46378| valid_rmse: 16.8247 | valid_mse: 283.07039|  0:00:26s\n",
      "epoch 28 | loss: 9.80957 | train_mae: 1.69191 | train_rmse: 2.5705  | train_mse: 6.60747 | valid_mae: 12.46567| valid_rmse: 15.61444| valid_mse: 243.81074|  0:00:27s\n",
      "epoch 29 | loss: 11.36627| train_mae: 1.65652 | train_rmse: 2.51859 | train_mse: 6.34329 | valid_mae: 13.05052| valid_rmse: 16.38273| valid_mse: 268.394 |  0:00:28s\n",
      "epoch 30 | loss: 10.82908| train_mae: 1.72942 | train_rmse: 2.62663 | train_mse: 6.89919 | valid_mae: 12.17036| valid_rmse: 15.23842| valid_mse: 232.20932|  0:00:29s\n",
      "epoch 31 | loss: 9.81577 | train_mae: 2.34709 | train_rmse: 3.53078 | train_mse: 12.46643| valid_mae: 12.74314| valid_rmse: 15.48378| valid_mse: 239.74759|  0:00:29s\n",
      "epoch 32 | loss: 12.40549| train_mae: 1.95855 | train_rmse: 2.94556 | train_mse: 8.67631 | valid_mae: 11.93207| valid_rmse: 15.1254 | valid_mse: 228.77783|  0:00:30s\n",
      "epoch 33 | loss: 10.56944| train_mae: 1.71056 | train_rmse: 2.53925 | train_mse: 6.44779 | valid_mae: 13.22936| valid_rmse: 16.53703| valid_mse: 273.47329|  0:00:31s\n",
      "epoch 34 | loss: 9.85347 | train_mae: 1.73944 | train_rmse: 2.77547 | train_mse: 7.70323 | valid_mae: 12.73715| valid_rmse: 15.94067| valid_mse: 254.10497|  0:00:32s\n",
      "epoch 35 | loss: 9.86743 | train_mae: 1.70727 | train_rmse: 2.5694  | train_mse: 6.60184 | valid_mae: 13.88597| valid_rmse: 16.89907| valid_mse: 285.5787|  0:00:33s\n",
      "epoch 36 | loss: 10.17369| train_mae: 2.12556 | train_rmse: 3.35896 | train_mse: 11.28259| valid_mae: 12.86423| valid_rmse: 16.23024| valid_mse: 263.42056|  0:00:34s\n",
      "epoch 37 | loss: 9.93037 | train_mae: 1.71669 | train_rmse: 2.61099 | train_mse: 6.81726 | valid_mae: 12.83883| valid_rmse: 16.33412| valid_mse: 266.80341|  0:00:35s\n",
      "epoch 38 | loss: 10.81348| train_mae: 1.59483 | train_rmse: 2.51081 | train_mse: 6.30416 | valid_mae: 13.34225| valid_rmse: 16.51169| valid_mse: 272.63576|  0:00:36s\n",
      "epoch 39 | loss: 9.35713 | train_mae: 1.58578 | train_rmse: 2.43983 | train_mse: 5.95275 | valid_mae: 12.82405| valid_rmse: 16.1334 | valid_mse: 260.28657|  0:00:37s\n",
      "epoch 40 | loss: 9.59737 | train_mae: 1.68573 | train_rmse: 2.57059 | train_mse: 6.60795 | valid_mae: 12.66173| valid_rmse: 15.88201| valid_mse: 252.23812|  0:00:38s\n",
      "epoch 41 | loss: 11.4568 | train_mae: 1.97792 | train_rmse: 3.15254 | train_mse: 9.93851 | valid_mae: 13.33296| valid_rmse: 16.56648| valid_mse: 274.44816|  0:00:39s\n",
      "epoch 42 | loss: 9.95188 | train_mae: 1.70895 | train_rmse: 2.6373  | train_mse: 6.95538 | valid_mae: 13.37383| valid_rmse: 16.61165| valid_mse: 275.94706|  0:00:40s\n",
      "epoch 43 | loss: 9.56977 | train_mae: 1.64882 | train_rmse: 2.60499 | train_mse: 6.78598 | valid_mae: 13.45726| valid_rmse: 16.68416| valid_mse: 278.36109|  0:00:41s\n",
      "epoch 44 | loss: 9.35212 | train_mae: 1.66589 | train_rmse: 2.57692 | train_mse: 6.64049 | valid_mae: 14.34225| valid_rmse: 17.9911 | valid_mse: 323.67951|  0:00:42s\n",
      "epoch 45 | loss: 8.92812 | train_mae: 1.61406 | train_rmse: 2.52472 | train_mse: 6.37423 | valid_mae: 13.6721 | valid_rmse: 17.02291| valid_mse: 289.77933|  0:00:42s\n",
      "epoch 46 | loss: 9.09368 | train_mae: 1.54654 | train_rmse: 2.4829  | train_mse: 6.16482 | valid_mae: 14.18789| valid_rmse: 17.89943| valid_mse: 320.38947|  0:00:43s\n",
      "epoch 47 | loss: 9.2494  | train_mae: 1.84424 | train_rmse: 2.84697 | train_mse: 8.10525 | valid_mae: 13.66159| valid_rmse: 16.94727| valid_mse: 287.2101|  0:00:44s\n",
      "epoch 48 | loss: 9.45741 | train_mae: 1.64014 | train_rmse: 2.464   | train_mse: 6.07129 | valid_mae: 13.51716| valid_rmse: 17.03601| valid_mse: 290.2258|  0:00:45s\n",
      "epoch 49 | loss: 8.82271 | train_mae: 1.90937 | train_rmse: 2.92401 | train_mse: 8.54986 | valid_mae: 12.44477| valid_rmse: 15.87497| valid_mse: 252.01483|  0:00:46s\n",
      "epoch 50 | loss: 9.46426 | train_mae: 1.69028 | train_rmse: 2.65058 | train_mse: 7.02556 | valid_mae: 13.0299 | valid_rmse: 16.45326| valid_mse: 270.70983|  0:00:47s\n",
      "epoch 51 | loss: 8.85145 | train_mae: 1.47124 | train_rmse: 2.29436 | train_mse: 5.26409 | valid_mae: 14.03411| valid_rmse: 16.89992| valid_mse: 285.60724|  0:00:48s\n",
      "\n",
      "Early stopping occurred at epoch 51 with best_epoch = 1 and best_valid_mse = 111.23864\n"
     ]
    },
    {
     "name": "stderr",
     "output_type": "stream",
     "text": [
      "/home/frnk65/resource-prediction-study/venv/lib/python3.10/site-packages/pytorch_tabnet/callbacks.py:172: UserWarning: Best weights from best epoch are automatically used!\n",
      "  warnings.warn(wrn_msg)\n"
     ]
    }
   ],
   "source": [
    "# general model initialization\n",
    "model_g = TabNetRegressor()\n",
    "model_g.fit(\n",
    "\tX_train=X_g_train, y_train=y_g_train.values.reshape(-1,1),\n",
    "\teval_set=[(X_g_train, y_g_train.values.reshape(-1,1)), (X_g_test, y_g_test.values.reshape(-1,1))],\n",
    "\teval_name=['train', 'valid'],\n",
    "\teval_metric=['mae', 'rmse', 'mse'],\n",
    "\tmax_epochs=num_epochs,\n",
    "\tpatience=patience,\n",
    "\tbatch_size=1024, virtual_batch_size=128,\n",
    "\tnum_workers=0,\n",
    "\tdrop_last=False,\n",
    "\taugmentations=aug\n",
    ")\n",
    "\n",
    "preds = model_g.predict(X_g_test)\n",
    "mse = mean_squared_error(y_g_test, preds)"
   ]
  },
  {
   "cell_type": "code",
   "execution_count": 18,
   "metadata": {},
   "outputs": [
    {
     "name": "stdout",
     "output_type": "stream",
     "text": [
      "MSE: 111.23864213813074 - RMSE: 10.54697312683268 - MAE: 7.44305180706448\n"
     ]
    }
   ],
   "source": [
    "print(f\"MSE: {mse} - RMSE: {np.sqrt(mse)} - MAE: {mean_absolute_error(y_g_test, preds)}\")"
   ]
  },
  {
   "cell_type": "code",
   "execution_count": 19,
   "metadata": {},
   "outputs": [
    {
     "name": "stdout",
     "output_type": "stream",
     "text": [
      "Successfully saved model at ../models/tabnet/general.zip\n"
     ]
    },
    {
     "data": {
      "text/plain": [
       "'../models/tabnet/general.zip'"
      ]
     },
     "execution_count": 19,
     "metadata": {},
     "output_type": "execute_result"
    }
   ],
   "source": [
    "# save model\n",
    "model_g.save_model(f'{models_folder}/general')"
   ]
  },
  {
   "cell_type": "markdown",
   "metadata": {},
   "source": [
    "## Single Thread"
   ]
  },
  {
   "cell_type": "code",
   "execution_count": 51,
   "metadata": {},
   "outputs": [
    {
     "name": "stderr",
     "output_type": "stream",
     "text": [
      "/home/frnk65/resource-prediction-study/venv/lib/python3.10/site-packages/pytorch_tabnet/abstract_model.py:82: UserWarning: Device used : cuda\n",
      "  warnings.warn(f\"Device used : {self.device}\")\n"
     ]
    },
    {
     "name": "stdout",
     "output_type": "stream",
     "text": [
      "epoch 0  | loss: 813.54245| train_rmsle: 1.9517  | train_mae: 21.58392| train_rmse: 27.04207| train_mse: 731.27335| valid_rmsle: 1.78391 | valid_mae: 20.89451| valid_rmse: 21.82878| valid_mse: 476.49558|  0:00:00s\n",
      "epoch 1  | loss: 623.7569| train_rmsle: 0.99833 | train_mae: 15.34427| train_rmse: 20.37827| train_mse: 415.27377| valid_rmsle: 1.24489 | valid_mae: 16.69289| valid_rmse: 18.29204| valid_mse: 334.59876|  0:00:01s\n",
      "epoch 2  | loss: 320.78439| train_rmsle: 0.41588 | train_mae: 7.34481 | train_rmse: 11.11777| train_mse: 123.60474| valid_rmsle: 0.74442 | valid_mae: 12.51206| valid_rmse: 14.61261| valid_mse: 213.52831|  0:00:02s\n",
      "epoch 3  | loss: 96.15268| train_rmsle: 0.32802 | train_mae: 4.90301 | train_rmse: 7.58216 | train_mse: 57.48909| valid_rmsle: 0.57096 | valid_mae: 10.37102| valid_rmse: 12.36302| valid_mse: 152.84416|  0:00:03s\n",
      "epoch 4  | loss: 50.65987| train_rmsle: 0.29132 | train_mae: 4.69276 | train_rmse: 6.31658 | train_mse: 39.89915| valid_rmsle: 0.50421 | valid_mae: 8.94892 | valid_rmse: 11.41285| valid_mse: 130.25318|  0:00:03s\n",
      "epoch 5  | loss: 35.91818| train_rmsle: 0.24336 | train_mae: 3.90343 | train_rmse: 6.29612 | train_mse: 39.64119| valid_rmsle: 0.55871 | valid_mae: 9.52958 | valid_rmse: 12.03119| valid_mse: 144.7496|  0:00:04s\n",
      "epoch 6  | loss: 34.57821| train_rmsle: 0.22189 | train_mae: 3.11471 | train_rmse: 4.59238 | train_mse: 21.09   | valid_rmsle: 0.52559 | valid_mae: 9.46281 | valid_rmse: 11.73635| valid_mse: 137.74187|  0:00:05s\n",
      "epoch 7  | loss: 27.364  | train_rmsle: 0.18764 | train_mae: 2.95753 | train_rmse: 4.46075 | train_mse: 19.89826| valid_rmsle: 0.46231 | valid_mae: 8.01235 | valid_rmse: 10.76595| valid_mse: 115.90557|  0:00:06s\n",
      "epoch 8  | loss: 23.54785| train_rmsle: 0.15686 | train_mae: 2.81848 | train_rmse: 4.46464 | train_mse: 19.93305| valid_rmsle: 0.47068 | valid_mae: 7.97938 | valid_rmse: 10.83241| valid_mse: 117.34114|  0:00:06s\n",
      "epoch 9  | loss: 21.64735| train_rmsle: 0.13776 | train_mae: 2.53178 | train_rmse: 3.95356 | train_mse: 15.6306 | valid_rmsle: 0.47508 | valid_mae: 8.50966 | valid_rmse: 11.00128| valid_mse: 121.02827|  0:00:07s\n",
      "epoch 10 | loss: 19.20977| train_rmsle: 0.11941 | train_mae: 2.27374 | train_rmse: 3.58505 | train_mse: 12.85257| valid_rmsle: 0.47001 | valid_mae: 8.51639 | valid_rmse: 10.96231| valid_mse: 120.17224|  0:00:08s\n",
      "epoch 11 | loss: 18.43844| train_rmsle: 0.12865 | train_mae: 2.39241 | train_rmse: 4.31145 | train_mse: 18.58861| valid_rmsle: 0.43439 | valid_mae: 7.74316 | valid_rmse: 10.38275| valid_mse: 107.80156|  0:00:08s\n",
      "epoch 12 | loss: 18.2716 | train_rmsle: 0.13882 | train_mae: 2.59375 | train_rmse: 3.77463 | train_mse: 14.2478 | valid_rmsle: 0.49805 | valid_mae: 8.84167 | valid_rmse: 11.27544| valid_mse: 127.13549|  0:00:09s\n",
      "epoch 13 | loss: 16.7538 | train_rmsle: 0.11766 | train_mae: 2.19162 | train_rmse: 3.18389 | train_mse: 10.13715| valid_rmsle: 0.45323 | valid_mae: 8.29433 | valid_rmse: 10.71496| valid_mse: 114.81043|  0:00:10s\n",
      "epoch 14 | loss: 16.3535 | train_rmsle: 0.11788 | train_mae: 2.24145 | train_rmse: 3.48081 | train_mse: 12.11605| valid_rmsle: 0.46479 | valid_mae: 8.64606 | valid_rmse: 10.92854| valid_mse: 119.43288|  0:00:11s\n",
      "epoch 15 | loss: 13.58687| train_rmsle: 0.10556 | train_mae: 1.89581 | train_rmse: 2.87014 | train_mse: 8.2377  | valid_rmsle: 0.46353 | valid_mae: 8.89653 | valid_rmse: 11.25476| valid_mse: 126.6697|  0:00:12s\n",
      "epoch 16 | loss: 12.65546| train_rmsle: 0.10182 | train_mae: 1.85478 | train_rmse: 2.80802 | train_mse: 7.88498 | valid_rmsle: 0.46556 | valid_mae: 8.99925 | valid_rmse: 11.37727| valid_mse: 129.44226|  0:00:12s\n",
      "epoch 17 | loss: 12.58663| train_rmsle: 0.10265 | train_mae: 1.8049  | train_rmse: 2.92259 | train_mse: 8.54156 | valid_rmsle: 0.431   | valid_mae: 8.20169 | valid_rmse: 10.56141| valid_mse: 111.54335|  0:00:13s\n",
      "epoch 18 | loss: 12.69042| train_rmsle: 0.10076 | train_mae: 1.83286 | train_rmse: 2.76439 | train_mse: 7.64186 | valid_rmsle: 0.50036 | valid_mae: 9.437   | valid_rmse: 11.60301| valid_mse: 134.6299|  0:00:14s\n",
      "epoch 19 | loss: 10.66415| train_rmsle: 0.09638 | train_mae: 1.65316 | train_rmse: 2.48861 | train_mse: 6.19316 | valid_rmsle: 0.43378 | valid_mae: 7.89906 | valid_rmse: 10.58416| valid_mse: 112.02438|  0:00:15s\n",
      "epoch 20 | loss: 10.96143| train_rmsle: 0.09216 | train_mae: 1.70824 | train_rmse: 2.84885 | train_mse: 8.11595 | valid_rmsle: 0.43809 | valid_mae: 8.04662 | valid_rmse: 10.78206| valid_mse: 116.25292|  0:00:15s\n",
      "epoch 21 | loss: 11.96399| train_rmsle: 0.10081 | train_mae: 1.94512 | train_rmse: 2.929   | train_mse: 8.57904 | valid_rmsle: 0.47857 | valid_mae: 9.01721 | valid_rmse: 11.36985| valid_mse: 129.27351|  0:00:16s\n",
      "epoch 22 | loss: 11.83419| train_rmsle: 0.09836 | train_mae: 1.79857 | train_rmse: 2.88467 | train_mse: 8.32133 | valid_rmsle: 0.43545 | valid_mae: 7.97516 | valid_rmse: 10.62329| valid_mse: 112.85419|  0:00:17s\n",
      "epoch 23 | loss: 11.14685| train_rmsle: 0.09561 | train_mae: 1.6881  | train_rmse: 2.62316 | train_mse: 6.88095 | valid_rmsle: 0.4274  | valid_mae: 7.50062 | valid_rmse: 10.35192| valid_mse: 107.16234|  0:00:17s\n",
      "epoch 24 | loss: 10.52222| train_rmsle: 0.08977 | train_mae: 1.69597 | train_rmse: 2.75944 | train_mse: 7.61452 | valid_rmsle: 0.44286 | valid_mae: 7.9604  | valid_rmse: 10.5954 | valid_mse: 112.26251|  0:00:18s\n",
      "epoch 25 | loss: 11.96217| train_rmsle: 0.09336 | train_mae: 1.74897 | train_rmse: 2.69004 | train_mse: 7.23629 | valid_rmsle: 0.43598 | valid_mae: 7.8209  | valid_rmse: 10.48443| valid_mse: 109.92328|  0:00:19s\n",
      "epoch 26 | loss: 9.83181 | train_rmsle: 0.0888  | train_mae: 1.51734 | train_rmse: 2.36179 | train_mse: 5.57805 | valid_rmsle: 0.40626 | valid_mae: 7.08031 | valid_rmse: 10.0466 | valid_mse: 100.93409|  0:00:20s\n",
      "epoch 27 | loss: 9.62822 | train_rmsle: 0.08699 | train_mae: 1.59215 | train_rmse: 2.5567  | train_mse: 6.53674 | valid_rmsle: 0.44657 | valid_mae: 7.83114 | valid_rmse: 10.604  | valid_mse: 112.44488|  0:00:20s\n",
      "epoch 28 | loss: 9.34816 | train_rmsle: 0.09981 | train_mae: 1.69159 | train_rmse: 2.59675 | train_mse: 6.74312 | valid_rmsle: 0.3795  | valid_mae: 6.5598  | valid_rmse: 9.63703 | valid_mse: 92.87239|  0:00:21s\n",
      "epoch 29 | loss: 9.8348  | train_rmsle: 0.09129 | train_mae: 1.85442 | train_rmse: 3.03308 | train_mse: 9.1996  | valid_rmsle: 0.45026 | valid_mae: 8.06097 | valid_rmse: 10.68103| valid_mse: 114.08438|  0:00:22s\n",
      "epoch 30 | loss: 8.83759 | train_rmsle: 0.08783 | train_mae: 1.60619 | train_rmse: 2.46282 | train_mse: 6.06549 | valid_rmsle: 0.4391  | valid_mae: 8.24862 | valid_rmse: 10.72616| valid_mse: 115.05047|  0:00:23s\n",
      "epoch 31 | loss: 9.08832 | train_rmsle: 0.08109 | train_mae: 1.41087 | train_rmse: 2.22649 | train_mse: 4.95726 | valid_rmsle: 0.43474 | valid_mae: 7.9965  | valid_rmse: 10.45893| valid_mse: 109.38924|  0:00:23s\n",
      "epoch 32 | loss: 8.6433  | train_rmsle: 0.08753 | train_mae: 1.61172 | train_rmse: 2.50192 | train_mse: 6.25958 | valid_rmsle: 0.47709 | valid_mae: 8.7404  | valid_rmse: 11.12344| valid_mse: 123.73091|  0:00:24s\n",
      "epoch 33 | loss: 9.68476 | train_rmsle: 0.08321 | train_mae: 1.45004 | train_rmse: 2.37881 | train_mse: 5.65876 | valid_rmsle: 0.46323 | valid_mae: 8.6279  | valid_rmse: 10.98129| valid_mse: 120.58869|  0:00:25s\n",
      "epoch 34 | loss: 9.8826  | train_rmsle: 0.08603 | train_mae: 1.55775 | train_rmse: 2.51038 | train_mse: 6.30203 | valid_rmsle: 0.45349 | valid_mae: 8.37319 | valid_rmse: 10.76809| valid_mse: 115.95173|  0:00:26s\n",
      "epoch 35 | loss: 9.46933 | train_rmsle: 0.08474 | train_mae: 1.54749 | train_rmse: 2.42471 | train_mse: 5.87921 | valid_rmsle: 0.44519 | valid_mae: 8.21579 | valid_rmse: 10.63709| valid_mse: 113.14774|  0:00:26s\n",
      "epoch 36 | loss: 8.83801 | train_rmsle: 0.08461 | train_mae: 1.53059 | train_rmse: 2.43872 | train_mse: 5.94737 | valid_rmsle: 0.47575 | valid_mae: 8.85561 | valid_rmse: 11.1808 | valid_mse: 125.01021|  0:00:27s\n",
      "epoch 37 | loss: 8.43043 | train_rmsle: 0.08034 | train_mae: 1.38246 | train_rmse: 2.27494 | train_mse: 5.17533 | valid_rmsle: 0.48749 | valid_mae: 9.0455  | valid_rmse: 11.29148| valid_mse: 127.49743|  0:00:28s\n",
      "epoch 38 | loss: 7.83166 | train_rmsle: 0.0781  | train_mae: 1.29073 | train_rmse: 2.11737 | train_mse: 4.48326 | valid_rmsle: 0.46604 | valid_mae: 8.88865 | valid_rmse: 11.12436| valid_mse: 123.7514|  0:00:29s\n",
      "epoch 39 | loss: 8.334   | train_rmsle: 0.08022 | train_mae: 1.4247  | train_rmse: 2.30535 | train_mse: 5.31462 | valid_rmsle: 0.46939 | valid_mae: 8.91464 | valid_rmse: 11.17508| valid_mse: 124.88243|  0:00:29s\n",
      "epoch 40 | loss: 8.03889 | train_rmsle: 0.08015 | train_mae: 1.4596  | train_rmse: 2.35366 | train_mse: 5.53971 | valid_rmsle: 0.46532 | valid_mae: 8.59808 | valid_rmse: 10.96712| valid_mse: 120.27778|  0:00:30s\n",
      "epoch 41 | loss: 8.3184  | train_rmsle: 0.0808  | train_mae: 1.35458 | train_rmse: 2.06002 | train_mse: 4.2437  | valid_rmsle: 0.47614 | valid_mae: 8.95471 | valid_rmse: 11.1936 | valid_mse: 125.29664|  0:00:31s\n",
      "epoch 42 | loss: 8.43665 | train_rmsle: 0.08044 | train_mae: 1.37358 | train_rmse: 2.12858 | train_mse: 4.53084 | valid_rmsle: 0.44776 | valid_mae: 8.41826 | valid_rmse: 10.94818| valid_mse: 119.86259|  0:00:32s\n",
      "epoch 43 | loss: 8.0354  | train_rmsle: 0.08493 | train_mae: 1.41547 | train_rmse: 2.21041 | train_mse: 4.88592 | valid_rmsle: 0.46875 | valid_mae: 8.71679 | valid_rmse: 11.046  | valid_mse: 122.01422|  0:00:33s\n",
      "epoch 44 | loss: 7.32649 | train_rmsle: 0.07618 | train_mae: 1.34888 | train_rmse: 2.09054 | train_mse: 4.37037 | valid_rmsle: 0.45999 | valid_mae: 8.75665 | valid_rmse: 11.03446| valid_mse: 121.75922|  0:00:33s\n",
      "epoch 45 | loss: 6.67825 | train_rmsle: 0.07945 | train_mae: 1.36563 | train_rmse: 2.28244 | train_mse: 5.20953 | valid_rmsle: 0.4944  | valid_mae: 9.41073 | valid_rmse: 11.5634 | valid_mse: 133.71215|  0:00:34s\n",
      "epoch 46 | loss: 7.50141 | train_rmsle: 0.07662 | train_mae: 1.35939 | train_rmse: 2.27021 | train_mse: 5.15385 | valid_rmsle: 0.48198 | valid_mae: 9.22569 | valid_rmse: 11.35334| valid_mse: 128.89837|  0:00:35s\n",
      "epoch 47 | loss: 7.69363 | train_rmsle: 0.08772 | train_mae: 1.75401 | train_rmse: 2.81539 | train_mse: 7.92639 | valid_rmsle: 0.44949 | valid_mae: 8.26173 | valid_rmse: 10.73421| valid_mse: 115.22328|  0:00:36s\n",
      "epoch 48 | loss: 7.77601 | train_rmsle: 0.0778  | train_mae: 1.3061  | train_rmse: 2.07913 | train_mse: 4.32277 | valid_rmsle: 0.43837 | valid_mae: 8.17119 | valid_rmse: 10.596  | valid_mse: 112.27521|  0:00:36s\n",
      "epoch 49 | loss: 8.51025 | train_rmsle: 0.07716 | train_mae: 1.38898 | train_rmse: 2.23706 | train_mse: 5.00445 | valid_rmsle: 0.46116 | valid_mae: 8.46377 | valid_rmse: 10.87788| valid_mse: 118.32832|  0:00:37s\n",
      "epoch 50 | loss: 7.35536 | train_rmsle: 0.07226 | train_mae: 1.21782 | train_rmse: 1.9491  | train_mse: 3.79901 | valid_rmsle: 0.45507 | valid_mae: 8.56938 | valid_rmse: 10.89601| valid_mse: 118.72303|  0:00:38s\n",
      "epoch 51 | loss: 6.62591 | train_rmsle: 0.07298 | train_mae: 1.35704 | train_rmse: 2.57375 | train_mse: 6.62417 | valid_rmsle: 0.49541 | valid_mae: 9.28894 | valid_rmse: 11.4452 | valid_mse: 130.9925|  0:00:39s\n",
      "epoch 52 | loss: 6.76644 | train_rmsle: 0.07124 | train_mae: 1.1013  | train_rmse: 1.84487 | train_mse: 3.40356 | valid_rmsle: 0.46615 | valid_mae: 8.75863 | valid_rmse: 11.06494| valid_mse: 122.43288|  0:00:39s\n",
      "epoch 53 | loss: 7.20945 | train_rmsle: 0.07412 | train_mae: 1.21291 | train_rmse: 2.08159 | train_mse: 4.33301 | valid_rmsle: 0.49997 | valid_mae: 9.30427 | valid_rmse: 11.48638| valid_mse: 131.93689|  0:00:40s\n",
      "epoch 54 | loss: 6.93509 | train_rmsle: 0.08278 | train_mae: 1.53494 | train_rmse: 2.2445  | train_mse: 5.03778 | valid_rmsle: 0.42304 | valid_mae: 8.07126 | valid_rmse: 10.47463| valid_mse: 109.71778|  0:00:41s\n",
      "epoch 55 | loss: 6.69716 | train_rmsle: 0.07707 | train_mae: 1.35481 | train_rmse: 2.24866 | train_mse: 5.05646 | valid_rmsle: 0.46214 | valid_mae: 8.81381 | valid_rmse: 11.07923| valid_mse: 122.74925|  0:00:42s\n",
      "epoch 56 | loss: 6.64243 | train_rmsle: 0.08175 | train_mae: 1.31265 | train_rmse: 2.05369 | train_mse: 4.21766 | valid_rmsle: 0.53456 | valid_mae: 9.8197  | valid_rmse: 11.9561 | valid_mse: 142.94833|  0:00:42s\n",
      "epoch 57 | loss: 6.81784 | train_rmsle: 0.08098 | train_mae: 1.37755 | train_rmse: 2.21377 | train_mse: 4.90079 | valid_rmsle: 0.48408 | valid_mae: 8.96322 | valid_rmse: 11.23141| valid_mse: 126.14449|  0:00:43s\n",
      "epoch 58 | loss: 6.98812 | train_rmsle: 0.07345 | train_mae: 1.25862 | train_rmse: 2.20041 | train_mse: 4.84182 | valid_rmsle: 0.46213 | valid_mae: 8.74964 | valid_rmse: 11.02654| valid_mse: 121.58453|  0:00:44s\n",
      "epoch 59 | loss: 6.92789 | train_rmsle: 0.07308 | train_mae: 1.37802 | train_rmse: 2.2415  | train_mse: 5.0243  | valid_rmsle: 0.47109 | valid_mae: 8.8489  | valid_rmse: 11.12416| valid_mse: 123.74685|  0:00:45s\n",
      "epoch 60 | loss: 7.1181  | train_rmsle: 0.07956 | train_mae: 1.25168 | train_rmse: 2.04596 | train_mse: 4.18594 | valid_rmsle: 0.4733  | valid_mae: 8.98439 | valid_rmse: 11.23812| valid_mse: 126.2954|  0:00:45s\n",
      "epoch 61 | loss: 7.27343 | train_rmsle: 0.08574 | train_mae: 1.53941 | train_rmse: 2.30467 | train_mse: 5.31149 | valid_rmsle: 0.46177 | valid_mae: 8.78912 | valid_rmse: 11.07958| valid_mse: 122.75718|  0:00:46s\n",
      "epoch 62 | loss: 6.34619 | train_rmsle: 0.07355 | train_mae: 1.18696 | train_rmse: 1.86067 | train_mse: 3.46211 | valid_rmsle: 0.44423 | valid_mae: 8.19256 | valid_rmse: 10.65426| valid_mse: 113.51331|  0:00:47s\n",
      "epoch 63 | loss: 6.06008 | train_rmsle: 0.07154 | train_mae: 1.10527 | train_rmse: 1.83327 | train_mse: 3.3609  | valid_rmsle: 0.48137 | valid_mae: 8.71338 | valid_rmse: 11.1634 | valid_mse: 124.62148|  0:00:48s\n",
      "epoch 64 | loss: 5.64031 | train_rmsle: 0.06857 | train_mae: 1.09036 | train_rmse: 1.8049  | train_mse: 3.25768 | valid_rmsle: 0.44651 | valid_mae: 8.3287  | valid_rmse: 10.72257| valid_mse: 114.97361|  0:00:48s\n",
      "epoch 65 | loss: 6.01493 | train_rmsle: 0.07214 | train_mae: 1.13772 | train_rmse: 1.8148  | train_mse: 3.29351 | valid_rmsle: 0.4805  | valid_mae: 8.89282 | valid_rmse: 11.19429| valid_mse: 125.31212|  0:00:49s\n",
      "epoch 66 | loss: 5.94841 | train_rmsle: 0.07725 | train_mae: 1.23806 | train_rmse: 1.98678 | train_mse: 3.94729 | valid_rmsle: 0.46966 | valid_mae: 8.67275 | valid_rmse: 11.00722| valid_mse: 121.1589|  0:00:50s\n",
      "epoch 67 | loss: 5.85334 | train_rmsle: 0.06947 | train_mae: 1.0971  | train_rmse: 1.8709  | train_mse: 3.50026 | valid_rmsle: 0.45627 | valid_mae: 8.66524 | valid_rmse: 10.91624| valid_mse: 119.16429|  0:00:51s\n",
      "epoch 68 | loss: 6.00494 | train_rmsle: 0.07785 | train_mae: 1.4412  | train_rmse: 2.31643 | train_mse: 5.36586 | valid_rmsle: 0.44098 | valid_mae: 8.4187  | valid_rmse: 10.75967| valid_mse: 115.77044|  0:00:51s\n",
      "epoch 69 | loss: 6.13558 | train_rmsle: 0.07467 | train_mae: 1.24062 | train_rmse: 1.95947 | train_mse: 3.83953 | valid_rmsle: 0.4433  | valid_mae: 8.27878 | valid_rmse: 10.66554| valid_mse: 113.75367|  0:00:52s\n",
      "epoch 70 | loss: 6.3653  | train_rmsle: 0.07909 | train_mae: 1.38364 | train_rmse: 2.264   | train_mse: 5.12571 | valid_rmsle: 0.45227 | valid_mae: 8.24798 | valid_rmse: 10.72618| valid_mse: 115.0509|  0:00:53s\n",
      "epoch 71 | loss: 6.33448 | train_rmsle: 0.06985 | train_mae: 1.14871 | train_rmse: 1.86631 | train_mse: 3.4831  | valid_rmsle: 0.4689  | valid_mae: 8.71747 | valid_rmse: 11.02679| valid_mse: 121.59011|  0:00:53s\n",
      "epoch 72 | loss: 5.85973 | train_rmsle: 0.06946 | train_mae: 1.18834 | train_rmse: 1.99635 | train_mse: 3.98542 | valid_rmsle: 0.44805 | valid_mae: 8.47513 | valid_rmse: 10.76641| valid_mse: 115.9155|  0:00:54s\n",
      "epoch 73 | loss: 5.77665 | train_rmsle: 0.06975 | train_mae: 1.21834 | train_rmse: 1.98941 | train_mse: 3.95776 | valid_rmsle: 0.4787  | valid_mae: 8.95946 | valid_rmse: 11.19044| valid_mse: 125.22588|  0:00:55s\n",
      "epoch 74 | loss: 5.58996 | train_rmsle: 0.0701  | train_mae: 1.23108 | train_rmse: 2.13071 | train_mse: 4.53991 | valid_rmsle: 0.48064 | valid_mae: 8.83487 | valid_rmse: 11.16841| valid_mse: 124.7334|  0:00:56s\n",
      "epoch 75 | loss: 5.50124 | train_rmsle: 0.0664  | train_mae: 1.11038 | train_rmse: 1.79289 | train_mse: 3.21444 | valid_rmsle: 0.48176 | valid_mae: 9.00498 | valid_rmse: 11.27489| valid_mse: 127.12307|  0:00:56s\n",
      "epoch 76 | loss: 5.95527 | train_rmsle: 0.06621 | train_mae: 1.10288 | train_rmse: 1.84911 | train_mse: 3.41921 | valid_rmsle: 0.46681 | valid_mae: 8.76916 | valid_rmse: 11.02613| valid_mse: 121.57546|  0:00:57s\n",
      "epoch 77 | loss: 5.81488 | train_rmsle: 0.06756 | train_mae: 1.09184 | train_rmse: 1.74889 | train_mse: 3.05862 | valid_rmsle: 0.4611  | valid_mae: 8.47189 | valid_rmse: 10.88427| valid_mse: 118.46739|  0:00:58s\n",
      "epoch 78 | loss: 5.68028 | train_rmsle: 0.07097 | train_mae: 1.20576 | train_rmse: 2.00287 | train_mse: 4.0115  | valid_rmsle: 0.46699 | valid_mae: 8.55476 | valid_rmse: 10.96987| valid_mse: 120.3381|  0:00:59s\n",
      "\n",
      "Early stopping occurred at epoch 78 with best_epoch = 28 and best_valid_mse = 92.87239\n"
     ]
    },
    {
     "name": "stderr",
     "output_type": "stream",
     "text": [
      "/home/frnk65/resource-prediction-study/venv/lib/python3.10/site-packages/pytorch_tabnet/callbacks.py:172: UserWarning: Best weights from best epoch are automatically used!\n",
      "  warnings.warn(wrn_msg)\n"
     ]
    }
   ],
   "source": [
    "# single thread model initialization\n",
    "model_st = TabNetRegressor()\n",
    "model_st.fit(\n",
    "\tX_train=X_st_train, y_train=y_st_train.values.reshape(-1,1),\n",
    "\teval_set=[(X_st_train, y_st_train.values.reshape(-1,1)), (X_st_test, y_st_test.values.reshape(-1,1))],\n",
    "\teval_name=['train', 'valid'],\n",
    "\teval_metric=['rmsle', 'mae', 'rmse', 'mse'],\n",
    "\tmax_epochs=num_epochs,\n",
    "\tpatience=patience,\n",
    "\tbatch_size=1024, virtual_batch_size=128,\n",
    "\tnum_workers=0,\n",
    "\tdrop_last=False,\n",
    "\taugmentations=aug\n",
    ")\n",
    "\n",
    "preds = model_st.predict(X_st_test)\n",
    "mse = mean_squared_error(y_st_test, preds)"
   ]
  },
  {
   "cell_type": "code",
   "execution_count": 52,
   "metadata": {},
   "outputs": [
    {
     "name": "stdout",
     "output_type": "stream",
     "text": [
      "MSE: 92.8723911438278 - RMSE: 9.637032278861984 - MAE: 6.55980177730984\n"
     ]
    }
   ],
   "source": [
    "print(f\"MSE: {mse} - RMSE: {np.sqrt(mse)} - MAE: {mean_absolute_error(y_st_test, preds)}\")"
   ]
  },
  {
   "cell_type": "code",
   "execution_count": 53,
   "metadata": {},
   "outputs": [
    {
     "name": "stdout",
     "output_type": "stream",
     "text": [
      "Successfully saved model at ../models/tabnet/single_thread.zip\n"
     ]
    },
    {
     "data": {
      "text/plain": [
       "'../models/tabnet/single_thread.zip'"
      ]
     },
     "execution_count": 53,
     "metadata": {},
     "output_type": "execute_result"
    }
   ],
   "source": [
    "# save model\n",
    "model_st.save_model(f'{models_folder}/single_thread')"
   ]
  },
  {
   "cell_type": "markdown",
   "metadata": {},
   "source": [
    "## Multi Thread"
   ]
  },
  {
   "cell_type": "code",
   "execution_count": 54,
   "metadata": {},
   "outputs": [
    {
     "name": "stderr",
     "output_type": "stream",
     "text": [
      "/home/frnk65/resource-prediction-study/venv/lib/python3.10/site-packages/pytorch_tabnet/abstract_model.py:82: UserWarning: Device used : cuda\n",
      "  warnings.warn(f\"Device used : {self.device}\")\n"
     ]
    },
    {
     "name": "stdout",
     "output_type": "stream",
     "text": [
      "epoch 0  | loss: 258.45207| train_rmsle: 1.69407 | train_mae: 11.42495| train_rmse: 15.10312| train_mse: 228.10432| valid_rmsle: 3.03876 | valid_mae: 35.49308| valid_rmse: 35.51973| valid_mse: 1261.65119|  0:00:00s\n",
      "epoch 1  | loss: 198.4199| train_rmsle: 1.16925 | train_mae: 9.50453 | train_rmse: 12.98009| train_mse: 168.48263| valid_rmsle: 2.37507 | valid_mae: 33.43614| valid_rmse: 33.53944| valid_mse: 1124.89419|  0:00:00s\n",
      "epoch 2  | loss: 150.62375| train_rmsle: 0.73106 | train_mae: 6.92009 | train_rmse: 10.10924| train_mse: 102.19681| valid_rmsle: 1.98201 | valid_mae: 31.52719| valid_rmse: 31.71045| valid_mse: 1005.5529|  0:00:00s\n",
      "epoch 3  | loss: 102.15991| train_rmsle: 0.41209 | train_mae: 4.39183 | train_rmse: 6.72047 | train_mse: 45.16477| valid_rmsle: 1.55891 | valid_mae: 28.44751| valid_rmse: 28.73903| valid_mse: 825.9318|  0:00:00s\n",
      "epoch 4  | loss: 61.23576| train_rmsle: 0.31259 | train_mae: 3.71509 | train_rmse: 5.71227 | train_mse: 32.63003| valid_rmsle: 1.36602 | valid_mae: 26.27352| valid_rmse: 26.75928| valid_mse: 716.05911|  0:00:01s\n",
      "epoch 5  | loss: 34.32535| train_rmsle: 0.31895 | train_mae: 4.10596 | train_rmse: 6.13872 | train_mse: 37.68386| valid_rmsle: 1.17038 | valid_mae: 23.78205| valid_rmse: 24.40068| valid_mse: 595.39343|  0:00:01s\n",
      "epoch 6  | loss: 22.81668| train_rmsle: 0.35919 | train_mae: 4.91822 | train_rmse: 7.11861 | train_mse: 50.67463| valid_rmsle: 1.01725 | valid_mae: 21.633  | valid_rmse: 22.39139| valid_mse: 501.37454|  0:00:01s\n",
      "epoch 7  | loss: 26.46399| train_rmsle: 0.33883 | train_mae: 4.61273 | train_rmse: 6.8066  | train_mse: 46.32975| valid_rmsle: 0.90226 | valid_mae: 19.52225| valid_rmse: 20.37465| valid_mse: 415.12619|  0:00:01s\n",
      "epoch 8  | loss: 24.21258| train_rmsle: 0.29276 | train_mae: 3.84449 | train_rmse: 5.97689 | train_mse: 35.72316| valid_rmsle: 0.94017 | valid_mae: 20.65905| valid_rmse: 21.24388| valid_mse: 451.30258|  0:00:01s\n",
      "epoch 9  | loss: 21.35996| train_rmsle: 0.22832 | train_mae: 2.87311 | train_rmse: 4.46006 | train_mse: 19.89216| valid_rmsle: 0.99102 | valid_mae: 22.10189| valid_rmse: 22.48562| valid_mse: 505.6031|  0:00:02s\n",
      "epoch 10 | loss: 18.76555| train_rmsle: 0.21159 | train_mae: 2.60591 | train_rmse: 3.87305 | train_mse: 15.00054| valid_rmsle: 1.00707 | valid_mae: 22.95655| valid_rmse: 23.23268| valid_mse: 539.75754|  0:00:02s\n",
      "epoch 11 | loss: 18.25192| train_rmsle: 0.20812 | train_mae: 2.51434 | train_rmse: 3.82997 | train_mse: 14.66864| valid_rmsle: 1.04655 | valid_mae: 22.9397 | valid_rmse: 23.29172| valid_mse: 542.50428|  0:00:02s\n",
      "epoch 12 | loss: 16.81074| train_rmsle: 0.19011 | train_mae: 2.33295 | train_rmse: 3.50962 | train_mse: 12.3174 | valid_rmsle: 1.14542 | valid_mae: 24.72912| valid_rmse: 24.94232| valid_mse: 622.1194|  0:00:02s\n",
      "epoch 13 | loss: 19.33193| train_rmsle: 0.21507 | train_mae: 2.68036 | train_rmse: 4.31593 | train_mse: 18.62724| valid_rmsle: 1.21785 | valid_mae: 25.69222| valid_rmse: 25.89493| valid_mse: 670.5473|  0:00:02s\n",
      "epoch 14 | loss: 16.45826| train_rmsle: 0.21229 | train_mae: 2.40266 | train_rmse: 3.77969 | train_mse: 14.28604| valid_rmsle: 1.31383 | valid_mae: 26.79204| valid_rmse: 26.96684| valid_mse: 727.21073|  0:00:03s\n",
      "epoch 15 | loss: 15.86018| train_rmsle: 0.18739 | train_mae: 2.25223 | train_rmse: 3.3808  | train_mse: 11.42981| valid_rmsle: 1.35742 | valid_mae: 27.0182 | valid_rmse: 27.23144| valid_mse: 741.55114|  0:00:03s\n",
      "epoch 16 | loss: 16.07161| train_rmsle: 0.17433 | train_mae: 2.09368 | train_rmse: 3.36853 | train_mse: 11.34697| valid_rmsle: 1.26423 | valid_mae: 25.92181| valid_rmse: 26.17334| valid_mse: 685.04353|  0:00:03s\n",
      "epoch 17 | loss: 14.56797| train_rmsle: 0.16577 | train_mae: 2.02041 | train_rmse: 3.2207  | train_mse: 10.37291| valid_rmsle: 1.09558 | valid_mae: 23.84195| valid_rmse: 24.10318| valid_mse: 580.96341|  0:00:03s\n",
      "epoch 18 | loss: 13.96227| train_rmsle: 0.15984 | train_mae: 1.92808 | train_rmse: 2.9981  | train_mse: 8.98862 | valid_rmsle: 1.06912 | valid_mae: 23.53647| valid_rmse: 23.78969| valid_mse: 565.94917|  0:00:04s\n",
      "epoch 19 | loss: 13.62726| train_rmsle: 0.17468 | train_mae: 2.0512  | train_rmse: 3.14057 | train_mse: 9.86318 | valid_rmsle: 1.08258 | valid_mae: 23.51928| valid_rmse: 23.85088| valid_mse: 568.86469|  0:00:04s\n",
      "epoch 20 | loss: 13.26365| train_rmsle: 0.15936 | train_mae: 1.84927 | train_rmse: 2.795   | train_mse: 7.81205 | valid_rmsle: 0.89883 | valid_mae: 21.78687| valid_rmse: 22.0151 | valid_mse: 484.66475|  0:00:04s\n",
      "epoch 21 | loss: 11.81407| train_rmsle: 0.15003 | train_mae: 1.83928 | train_rmse: 2.94131 | train_mse: 8.65129 | valid_rmsle: 0.93513 | valid_mae: 22.27605| valid_rmse: 22.53123| valid_mse: 507.6565|  0:00:04s\n",
      "epoch 22 | loss: 13.41169| train_rmsle: 0.17333 | train_mae: 1.94095 | train_rmse: 3.48394 | train_mse: 12.13786| valid_rmsle: 0.9856  | valid_mae: 22.88222| valid_rmse: 23.18249| valid_mse: 537.42793|  0:00:04s\n",
      "epoch 23 | loss: 11.6168 | train_rmsle: 0.16731 | train_mae: 2.08669 | train_rmse: 3.31213 | train_mse: 10.97023| valid_rmsle: 1.12912 | valid_mae: 23.8007 | valid_rmse: 24.26062| valid_mse: 588.57749|  0:00:05s\n",
      "epoch 24 | loss: 12.79615| train_rmsle: 0.16323 | train_mae: 1.95784 | train_rmse: 2.9735  | train_mse: 8.84167 | valid_rmsle: 1.19477 | valid_mae: 24.43802| valid_rmse: 24.99537| valid_mse: 624.76828|  0:00:05s\n",
      "epoch 25 | loss: 12.27986| train_rmsle: 0.16336 | train_mae: 1.83018 | train_rmse: 2.68027 | train_mse: 7.18386 | valid_rmsle: 1.073   | valid_mae: 24.02269| valid_rmse: 24.25862| valid_mse: 588.48066|  0:00:05s\n",
      "epoch 26 | loss: 10.67737| train_rmsle: 0.19285 | train_mae: 2.50541 | train_rmse: 3.92984 | train_mse: 15.44367| valid_rmsle: 1.02454 | valid_mae: 23.54509| valid_rmse: 23.67721| valid_mse: 560.61008|  0:00:05s\n",
      "epoch 27 | loss: 10.15533| train_rmsle: 0.14329 | train_mae: 1.50558 | train_rmse: 2.26708 | train_mse: 5.13966 | valid_rmsle: 1.01711 | valid_mae: 23.8009 | valid_rmse: 23.85597| valid_mse: 569.10735|  0:00:05s\n",
      "epoch 28 | loss: 10.74672| train_rmsle: 0.14247 | train_mae: 1.60795 | train_rmse: 2.37414 | train_mse: 5.63654 | valid_rmsle: 1.00508 | valid_mae: 23.40407| valid_rmse: 23.50543| valid_mse: 552.50513|  0:00:06s\n",
      "epoch 29 | loss: 9.76142 | train_rmsle: 0.13748 | train_mae: 1.67036 | train_rmse: 2.88279 | train_mse: 8.31048 | valid_rmsle: 1.07639 | valid_mae: 24.44293| valid_rmse: 24.52067| valid_mse: 601.26345|  0:00:06s\n",
      "epoch 30 | loss: 8.85499 | train_rmsle: 0.13826 | train_mae: 1.71374 | train_rmse: 2.71034 | train_mse: 7.34594 | valid_rmsle: 1.00545 | valid_mae: 23.13128| valid_rmse: 23.29257| valid_mse: 542.5439|  0:00:06s\n",
      "epoch 31 | loss: 9.94747 | train_rmsle: 0.11974 | train_mae: 1.5201  | train_rmse: 2.2944  | train_mse: 5.26429 | valid_rmsle: 1.04695 | valid_mae: 23.75616| valid_rmse: 23.89852| valid_mse: 571.13929|  0:00:06s\n",
      "epoch 32 | loss: 8.68002 | train_rmsle: 0.10842 | train_mae: 1.2831  | train_rmse: 2.13316 | train_mse: 4.55037 | valid_rmsle: 1.0359  | valid_mae: 24.07235| valid_rmse: 24.12525| valid_mse: 582.02766|  0:00:07s\n",
      "epoch 33 | loss: 7.59786 | train_rmsle: 0.11023 | train_mae: 1.37081 | train_rmse: 2.12745 | train_mse: 4.52604 | valid_rmsle: 1.01027 | valid_mae: 23.69004| valid_rmse: 23.75383| valid_mse: 564.24442|  0:00:07s\n",
      "epoch 34 | loss: 7.92684 | train_rmsle: 0.10335 | train_mae: 1.16633 | train_rmse: 2.18142 | train_mse: 4.7586  | valid_rmsle: 1.00214 | valid_mae: 23.68997| valid_rmse: 23.72587| valid_mse: 562.91678|  0:00:07s\n",
      "epoch 35 | loss: 7.54658 | train_rmsle: 0.10046 | train_mae: 1.04904 | train_rmse: 1.8789  | train_mse: 3.53027 | valid_rmsle: 1.02173 | valid_mae: 23.8471 | valid_rmse: 23.91677| valid_mse: 572.01174|  0:00:07s\n",
      "epoch 36 | loss: 5.91569 | train_rmsle: 0.11083 | train_mae: 1.31426 | train_rmse: 2.04761 | train_mse: 4.19269 | valid_rmsle: 1.0165  | valid_mae: 23.59309| valid_rmse: 23.73021| valid_mse: 563.12271|  0:00:07s\n",
      "epoch 37 | loss: 6.45031 | train_rmsle: 0.11634 | train_mae: 1.2901  | train_rmse: 2.36972 | train_mse: 5.61555 | valid_rmsle: 0.96845 | valid_mae: 22.8888 | valid_rmse: 23.05502| valid_mse: 531.53401|  0:00:08s\n",
      "epoch 38 | loss: 7.39808 | train_rmsle: 0.11373 | train_mae: 1.36651 | train_rmse: 2.2898  | train_mse: 5.24316 | valid_rmsle: 0.98652 | valid_mae: 23.26904| valid_rmse: 23.38373| valid_mse: 546.79891|  0:00:08s\n",
      "epoch 39 | loss: 6.79617 | train_rmsle: 0.11322 | train_mae: 1.34698 | train_rmse: 2.25896 | train_mse: 5.10288 | valid_rmsle: 1.01517 | valid_mae: 23.59583| valid_rmse: 23.7356 | valid_mse: 563.3785|  0:00:08s\n",
      "epoch 40 | loss: 6.50136 | train_rmsle: 0.10678 | train_mae: 1.12373 | train_rmse: 1.71288 | train_mse: 2.93397 | valid_rmsle: 1.02801 | valid_mae: 23.76314| valid_rmse: 23.90434| valid_mse: 571.41747|  0:00:08s\n",
      "epoch 41 | loss: 6.16956 | train_rmsle: 0.11289 | train_mae: 1.2073  | train_rmse: 1.96288 | train_mse: 3.8529  | valid_rmsle: 1.02592 | valid_mae: 23.80925| valid_rmse: 23.91882| valid_mse: 572.10979|  0:00:08s\n",
      "epoch 42 | loss: 7.55821 | train_rmsle: 0.10685 | train_mae: 1.30532 | train_rmse: 2.1992  | train_mse: 4.83649 | valid_rmsle: 1.01471 | valid_mae: 23.68837| valid_rmse: 23.78623| valid_mse: 565.78465|  0:00:09s\n",
      "epoch 43 | loss: 6.49728 | train_rmsle: 0.10106 | train_mae: 1.26156 | train_rmse: 2.05525 | train_mse: 4.22405 | valid_rmsle: 1.0391  | valid_mae: 24.0395 | valid_rmse: 24.12607| valid_mse: 582.06708|  0:00:09s\n",
      "epoch 44 | loss: 5.33241 | train_rmsle: 0.11746 | train_mae: 1.37618 | train_rmse: 2.17954 | train_mse: 4.75038 | valid_rmsle: 1.03727 | valid_mae: 24.01827| valid_rmse: 24.10525| valid_mse: 581.06288|  0:00:09s\n",
      "epoch 45 | loss: 5.94879 | train_rmsle: 0.11188 | train_mae: 1.1663  | train_rmse: 1.80749 | train_mse: 3.26702 | valid_rmsle: 1.03281 | valid_mae: 23.99958| valid_rmse: 24.07401| valid_mse: 579.55804|  0:00:09s\n",
      "epoch 46 | loss: 5.97788 | train_rmsle: 0.10035 | train_mae: 1.11224 | train_rmse: 1.83697 | train_mse: 3.37446 | valid_rmsle: 1.04723 | valid_mae: 24.06798| valid_rmse: 24.18966| valid_mse: 585.13964|  0:00:09s\n",
      "epoch 47 | loss: 6.20118 | train_rmsle: 0.09408 | train_mae: 0.98112 | train_rmse: 1.74149 | train_mse: 3.03278 | valid_rmsle: 1.04164 | valid_mae: 23.79667| valid_rmse: 24.00526| valid_mse: 576.25232|  0:00:10s\n",
      "epoch 48 | loss: 6.93923 | train_rmsle: 0.08836 | train_mae: 0.93139 | train_rmse: 1.65772 | train_mse: 2.74804 | valid_rmsle: 1.06595 | valid_mae: 23.97824| valid_rmse: 24.2369 | valid_mse: 587.42729|  0:00:10s\n",
      "epoch 49 | loss: 5.0888  | train_rmsle: 0.08832 | train_mae: 0.91255 | train_rmse: 1.57746 | train_mse: 2.48839 | valid_rmsle: 1.08542 | valid_mae: 24.27351| valid_rmse: 24.49893| valid_mse: 600.1977|  0:00:10s\n",
      "epoch 50 | loss: 5.99571 | train_rmsle: 0.08979 | train_mae: 1.01087 | train_rmse: 1.73042 | train_mse: 2.99434 | valid_rmsle: 1.08213 | valid_mae: 24.30798| valid_rmse: 24.50718| valid_mse: 600.60176|  0:00:10s\n",
      "epoch 51 | loss: 4.88519 | train_rmsle: 0.08738 | train_mae: 1.01359 | train_rmse: 1.70913 | train_mse: 2.92113 | valid_rmsle: 1.05859 | valid_mae: 24.04118| valid_rmse: 24.23056| valid_mse: 587.12011|  0:00:10s\n",
      "epoch 52 | loss: 5.21811 | train_rmsle: 0.09095 | train_mae: 0.91456 | train_rmse: 1.53781 | train_mse: 2.36487 | valid_rmsle: 1.02505 | valid_mae: 23.61033| valid_rmse: 23.80155| valid_mse: 566.5138|  0:00:11s\n",
      "epoch 53 | loss: 5.03553 | train_rmsle: 0.0923  | train_mae: 1.0312  | train_rmse: 1.71674 | train_mse: 2.94718 | valid_rmsle: 1.04795 | valid_mae: 23.97104| valid_rmse: 24.13931| valid_mse: 582.70605|  0:00:11s\n",
      "epoch 54 | loss: 5.19564 | train_rmsle: 0.09629 | train_mae: 1.03752 | train_rmse: 1.7334  | train_mse: 3.00468 | valid_rmsle: 1.08108 | valid_mae: 24.35818| valid_rmse: 24.54513| valid_mse: 602.46364|  0:00:11s\n",
      "epoch 55 | loss: 4.51265 | train_rmsle: 0.09278 | train_mae: 0.99991 | train_rmse: 1.7155  | train_mse: 2.94294 | valid_rmsle: 1.07372 | valid_mae: 24.24658| valid_rmse: 24.44675| valid_mse: 597.64362|  0:00:11s\n",
      "epoch 56 | loss: 5.42381 | train_rmsle: 0.09341 | train_mae: 1.05973 | train_rmse: 1.77242 | train_mse: 3.14147 | valid_rmsle: 1.13121 | valid_mae: 25.08586| valid_rmse: 25.22208| valid_mse: 636.15323|  0:00:11s\n",
      "epoch 57 | loss: 5.16755 | train_rmsle: 0.10263 | train_mae: 1.1877  | train_rmse: 1.98838 | train_mse: 3.95366 | valid_rmsle: 1.10969 | valid_mae: 24.91765| valid_rmse: 25.01072| valid_mse: 625.53618|  0:00:12s\n",
      "\n",
      "Early stopping occurred at epoch 57 with best_epoch = 7 and best_valid_mse = 415.12619\n"
     ]
    },
    {
     "name": "stderr",
     "output_type": "stream",
     "text": [
      "/home/frnk65/resource-prediction-study/venv/lib/python3.10/site-packages/pytorch_tabnet/callbacks.py:172: UserWarning: Best weights from best epoch are automatically used!\n",
      "  warnings.warn(wrn_msg)\n"
     ]
    }
   ],
   "source": [
    "# multi thread model initialization\n",
    "model_mm = TabNetRegressor()\n",
    "model_mm.fit(\n",
    "\tX_train=X_mm_train, y_train=y_mm_train.values.reshape(-1,1),\n",
    "\teval_set=[(X_mm_train, y_mm_train.values.reshape(-1,1)), (X_mm_test, y_mm_test.values.reshape(-1,1))],\n",
    "\teval_name=['train', 'valid'],\n",
    "\teval_metric=['rmsle', 'mae', 'rmse', 'mse'],\n",
    "\tmax_epochs=num_epochs,\n",
    "\tpatience=patience,\n",
    "\tbatch_size=1024, virtual_batch_size=128,\n",
    "\tnum_workers=0,\n",
    "\tdrop_last=False,\n",
    "\taugmentations=aug\n",
    ")\n",
    "\n",
    "preds = model_mm.predict(X_mm_test)\n",
    "mse = mean_squared_error(y_mm_test, preds)"
   ]
  },
  {
   "cell_type": "code",
   "execution_count": 55,
   "metadata": {},
   "outputs": [
    {
     "name": "stdout",
     "output_type": "stream",
     "text": [
      "MSE: 415.12619080865665 - RMSE: 20.374645783636502 - MAE: 19.52224888865153\n"
     ]
    }
   ],
   "source": [
    "print(f\"MSE: {mse} - RMSE: {np.sqrt(mse)} - MAE: {mean_absolute_error(y_mm_test, preds)}\")"
   ]
  },
  {
   "cell_type": "code",
   "execution_count": 56,
   "metadata": {},
   "outputs": [
    {
     "name": "stdout",
     "output_type": "stream",
     "text": [
      "Successfully saved model at ../models/tabnet/multi_thread.zip\n"
     ]
    },
    {
     "data": {
      "text/plain": [
       "'../models/tabnet/multi_thread.zip'"
      ]
     },
     "execution_count": 56,
     "metadata": {},
     "output_type": "execute_result"
    }
   ],
   "source": [
    "# save model\n",
    "model_mm.save_model(f'{models_folder}/multi_thread')"
   ]
  },
  {
   "cell_type": "markdown",
   "metadata": {},
   "source": [
    "# Load models"
   ]
  },
  {
   "cell_type": "code",
   "execution_count": 57,
   "metadata": {},
   "outputs": [
    {
     "name": "stderr",
     "output_type": "stream",
     "text": [
      "/home/frnk65/resource-prediction-study/venv/lib/python3.10/site-packages/pytorch_tabnet/abstract_model.py:82: UserWarning: Device used : cuda\n",
      "  warnings.warn(f\"Device used : {self.device}\")\n"
     ]
    }
   ],
   "source": [
    "model_g = TabNetRegressor()\n",
    "model_st = TabNetRegressor()\n",
    "model_mm = TabNetRegressor()\n",
    "model_g.load_model(f'{models_folder}/general.zip')\n",
    "model_st.load_model(f'{models_folder}/single_thread.zip')\n",
    "model_mm.load_model(f'{models_folder}/multi_thread.zip')"
   ]
  },
  {
   "cell_type": "code",
   "execution_count": 58,
   "metadata": {},
   "outputs": [],
   "source": [
    "def describe_val(model, X, y):\n",
    "\tmin_instance = {\"prediction\": float('inf'), \"actual\": 0, \"index\": 0}\n",
    "\tmax_instance = {\"prediction\": 0, \"actual\": 0, \"index\": 0}\n",
    "\n",
    "\tpredictions = model.predict(X)\n",
    "\t# reshape from (900,1) to (900,)\n",
    "\tpredictions = np.squeeze(predictions)\n",
    "\tindex_min = np.argmin(np.abs(predictions - y))\n",
    "\tmin_instance[\"prediction\"] = predictions[index_min]\n",
    "\tmin_instance[\"actual\"] = y[index_min]\n",
    "\tmin_instance[\"index\"] = index_min\n",
    "\tindex_max = np.argmax(np.abs(predictions - y))\n",
    "\tmax_instance[\"prediction\"] = predictions[index_max]\n",
    "\tmax_instance[\"actual\"] = y[index_max]\n",
    "\tmax_instance[\"index\"] = index_max\n",
    "\n",
    "\treturn min_instance, max_instance, predictions, y"
   ]
  },
  {
   "cell_type": "code",
   "execution_count": 59,
   "metadata": {},
   "outputs": [
    {
     "name": "stdout",
     "output_type": "stream",
     "text": [
      "Validation set general model\n",
      "Mean prediction: 21.0052547454834 | Std actual: 2.9994359016418457\n",
      "Mean actual: 27.556500000000003 | Std actual: 7.4113266524961645\n",
      "Mean Error: 7.44305180706448 | Std Error: 7.47259138020305\n",
      "---\n",
      "Min instance\n",
      "total_time                                                           24.07\n",
      "total_cpu_usage                                                        1.0\n",
      "max_ram_usage                                                    15.566406\n",
      "brand_raw                         Intel(R) Core(TM) i5-8300H CPU @ 2.30GHz\n",
      "count                                                                    8\n",
      "l2_cache_size                                                          1.0\n",
      "l3_cache_size                                                          8.0\n",
      "l2_cache_line_size                                                     256\n",
      "l2_cache_associativity                                                   6\n",
      "benchmark                                                         N_Queens\n",
      "ghz_actual_friendly                                                  2.304\n",
      "ghz_advertised_friendly                                                2.3\n",
      "total_time_target                                                    25.02\n",
      "brand_raw_target                       13th Gen Intel(R) Core(TM) i5-1335U\n",
      "count_target                                                            12\n",
      "l2_cache_size_target                                                   7.5\n",
      "l3_cache_size_target                                                  12.0\n",
      "l2_cache_line_size_target                                             1280\n",
      "l2_cache_associativity_target                                            7\n",
      "ghz_advertised_friendly_target                                       2.496\n",
      "Name: 329, dtype: object\n",
      "Min Prediction: 25.028676986694336 | Actual: 25.02 | Error: 0.008676986694336364\n",
      "---\n",
      "Max instance\n",
      "total_time                                                                  19.1\n",
      "total_cpu_usage                                                             0.99\n",
      "max_ram_usage                                                        1435.460938\n",
      "brand_raw                         11th Gen Intel(R) Core(TM) i5-1135G7 @ 2.40GHz\n",
      "count                                                                          8\n",
      "l2_cache_size                                                                5.0\n",
      "l3_cache_size                                                                8.0\n",
      "l2_cache_line_size                                                           256\n",
      "l2_cache_associativity                                                         7\n",
      "benchmark                                                                    KNP\n",
      "ghz_actual_friendly                                                       2.4192\n",
      "ghz_advertised_friendly                                                      2.4\n",
      "total_time_target                                                          45.91\n",
      "brand_raw_target                             13th Gen Intel(R) Core(TM) i5-1335U\n",
      "count_target                                                                  12\n",
      "l2_cache_size_target                                                         7.5\n",
      "l3_cache_size_target                                                        12.0\n",
      "l2_cache_line_size_target                                                   1280\n",
      "l2_cache_associativity_target                                                  7\n",
      "ghz_advertised_friendly_target                                             2.496\n",
      "Name: 100, dtype: object\n",
      "Max Prediction: 17.509796142578125 | Actual: 45.91 | Error: 28.40020385742187\n"
     ]
    }
   ],
   "source": [
    "# general model\n",
    "print(\"Validation set general model\")\n",
    "min_instance, max_instance, predictions, actuals = describe_val(model_g, X_g_test, y_g_test)\n",
    "errors = np.abs(predictions - actuals)\n",
    "mean_error = np.mean(errors)\n",
    "std_error = np.std(errors)\n",
    "\n",
    "print(f\"Mean prediction: {np.mean(predictions)} | Std actual: {np.std(predictions)}\")\n",
    "print(f\"Mean actual: {np.mean(actuals)} | Std actual: {np.std(actuals)}\")\n",
    "print(f\"Mean Error: {mean_error} | Std Error: {std_error}\")\n",
    "print(\"---\")\n",
    "print(\"Min instance\")\n",
    "print(g_test.iloc[min_instance[\"index\"]])\n",
    "print(f\"Min Prediction: {min_instance['prediction']} | Actual: {min_instance['actual']} | Error: {abs(min_instance['prediction'] - min_instance['actual'])}\")\n",
    "print(\"---\")\n",
    "print(\"Max instance\")\n",
    "print(g_test.iloc[max_instance[\"index\"]])\n",
    "print(f\"Max Prediction: {max_instance['prediction']} | Actual: {max_instance['actual']} | Error: {abs(max_instance['prediction'] - max_instance['actual'])}\")"
   ]
  },
  {
   "cell_type": "code",
   "execution_count": 60,
   "metadata": {},
   "outputs": [
    {
     "name": "stdout",
     "output_type": "stream",
     "text": [
      "Validation set single thread model\n",
      "Mean prediction: 18.902318954467773 | Std actual: 4.279133319854736\n",
      "Mean actual: 24.564000000000007 | Std actual: 6.096883138128859\n",
      "Mean Error: 6.55980177730984 | Std Error: 7.059843609190677\n",
      "Min instance\n",
      "total_time                                                                 28.76\n",
      "total_cpu_usage                                                             0.99\n",
      "max_ram_usage                                                          31.140625\n",
      "brand_raw                         11th Gen Intel(R) Core(TM) i5-1135G7 @ 2.40GHz\n",
      "count                                                                          8\n",
      "l2_cache_size                                                                5.0\n",
      "l3_cache_size                                                                8.0\n",
      "l2_cache_line_size                                                           256\n",
      "l2_cache_associativity                                                         7\n",
      "benchmark                                                                    TSP\n",
      "ghz_actual_friendly                                                       2.4192\n",
      "ghz_advertised_friendly                                                      2.4\n",
      "total_time_target                                                           23.3\n",
      "brand_raw_target                             13th Gen Intel(R) Core(TM) i5-1335U\n",
      "count_target                                                                  12\n",
      "l2_cache_size_target                                                         7.5\n",
      "l3_cache_size_target                                                        12.0\n",
      "l2_cache_line_size_target                                                   1280\n",
      "l2_cache_associativity_target                                                  7\n",
      "ghz_advertised_friendly_target                                             2.496\n",
      "Name: 142, dtype: object\n",
      "Min Prediction: 23.288894653320312 | Actual: 23.3 | Error: 0.01110534667968821\n",
      "---\n",
      "Max instance\n",
      "total_time                                                                 15.65\n",
      "total_cpu_usage                                                             0.99\n",
      "max_ram_usage                                                        1436.429688\n",
      "brand_raw                         11th Gen Intel(R) Core(TM) i5-1135G7 @ 2.40GHz\n",
      "count                                                                          8\n",
      "l2_cache_size                                                                5.0\n",
      "l3_cache_size                                                                8.0\n",
      "l2_cache_line_size                                                           256\n",
      "l2_cache_associativity                                                         7\n",
      "benchmark                                                                    KNP\n",
      "ghz_actual_friendly                                                       2.4192\n",
      "ghz_advertised_friendly                                                      2.4\n",
      "total_time_target                                                          45.91\n",
      "brand_raw_target                             13th Gen Intel(R) Core(TM) i5-1335U\n",
      "count_target                                                                  12\n",
      "l2_cache_size_target                                                         7.5\n",
      "l3_cache_size_target                                                        12.0\n",
      "l2_cache_line_size_target                                                   1280\n",
      "l2_cache_associativity_target                                                  7\n",
      "ghz_advertised_friendly_target                                             2.496\n",
      "Name: 90, dtype: object\n",
      "Max Prediction: 13.013023376464844 | Actual: 45.91 | Error: 32.89697662353515\n"
     ]
    }
   ],
   "source": [
    "# single thread model\n",
    "print(\"Validation set single thread model\")\n",
    "min_instance, max_instance, predictions, actuals = describe_val(model_st, X_st_test, y_st_test)\n",
    "errors = np.abs(predictions - actuals)\n",
    "mean_error = np.mean(errors)\n",
    "std_error = np.std(errors)\n",
    "\n",
    "print(f\"Mean prediction: {np.mean(predictions)} | Std actual: {np.std(predictions)}\")\n",
    "print(f\"Mean actual: {np.mean(actuals)} | Std actual: {np.std(actuals)}\")\n",
    "print(f\"Mean Error: {mean_error} | Std Error: {std_error}\")\n",
    "print(\"Min instance\")\n",
    "print(st_test.iloc[min_instance[\"index\"]])\n",
    "print(f\"Min Prediction: {min_instance['prediction']} | Actual: {min_instance['actual']} | Error: {abs(min_instance['prediction'] - min_instance['actual'])}\")\n",
    "print(\"---\")\n",
    "print(\"Max instance\")\n",
    "print(st_test.iloc[max_instance[\"index\"]])\n",
    "print(f\"Max Prediction: {max_instance['prediction']} | Actual: {max_instance['actual']} | Error: {abs(max_instance['prediction'] - max_instance['actual'])}\")"
   ]
  },
  {
   "cell_type": "code",
   "execution_count": 61,
   "metadata": {},
   "outputs": [
    {
     "name": "stdout",
     "output_type": "stream",
     "text": [
      "Validation set multi thread model\n",
      "Mean prediction: 17.011751174926758 | Std actual: 5.768324375152588\n",
      "Mean actual: 36.534 | Std actual: 0.8569854141115829\n",
      "Mean Error: 19.52224888865153 | Std Error: 5.831636917555882\n",
      "Min instance\n",
      "total_time                                                                 40.63\n",
      "total_cpu_usage                                                             6.13\n",
      "max_ram_usage                                                        2352.089844\n",
      "brand_raw                         11th Gen Intel(R) Core(TM) i5-1135G7 @ 2.40GHz\n",
      "count                                                                          8\n",
      "l2_cache_size                                                                5.0\n",
      "l3_cache_size                                                                8.0\n",
      "l2_cache_line_size                                                           256\n",
      "l2_cache_associativity                                                         7\n",
      "benchmark                                                            MATRIX_MULT\n",
      "ghz_actual_friendly                                                       2.4192\n",
      "ghz_advertised_friendly                                                      2.4\n",
      "total_time_target                                                          35.58\n",
      "brand_raw_target                             13th Gen Intel(R) Core(TM) i5-1335U\n",
      "count_target                                                                  12\n",
      "l2_cache_size_target                                                         7.5\n",
      "l3_cache_size_target                                                        12.0\n",
      "l2_cache_line_size_target                                                   1280\n",
      "l2_cache_associativity_target                                                  7\n",
      "ghz_advertised_friendly_target                                             2.496\n",
      "Name: 29, dtype: object\n",
      "Min Prediction: 26.887754440307617 | Actual: 35.58 | Error: 8.692245559692381\n",
      "---\n",
      "Max instance\n",
      "total_time                                                            3.64\n",
      "total_cpu_usage                                                      24.31\n",
      "max_ram_usage                                                  2380.371094\n",
      "brand_raw                         Intel(R) Xeon(R) Gold 6230 CPU @ 2.10GHz\n",
      "count                                                                   40\n",
      "l2_cache_size                                                         40.0\n",
      "l3_cache_size                                                         27.5\n",
      "l2_cache_line_size                                                     256\n",
      "l2_cache_associativity                                                   6\n",
      "benchmark                                                      MATRIX_MULT\n",
      "ghz_actual_friendly                                                0.95592\n",
      "ghz_advertised_friendly                                                2.1\n",
      "total_time_target                                                    38.02\n",
      "brand_raw_target                       13th Gen Intel(R) Core(TM) i5-1335U\n",
      "count_target                                                            12\n",
      "l2_cache_size_target                                                   7.5\n",
      "l3_cache_size_target                                                  12.0\n",
      "l2_cache_line_size_target                                             1280\n",
      "l2_cache_associativity_target                                            7\n",
      "ghz_advertised_friendly_target                                       2.496\n",
      "Name: 185, dtype: object\n",
      "Max Prediction: 5.362444877624512 | Actual: 38.02 | Error: 32.65755512237549\n"
     ]
    }
   ],
   "source": [
    "# multi thread model\n",
    "print(\"Validation set multi thread model\")\n",
    "min_instance, max_instance, predictions, actuals = describe_val(model_mm, X_mm_test, y_mm_test)\n",
    "errors = np.abs(predictions - actuals)\n",
    "mean_error = np.mean(errors)\n",
    "std_error = np.std(errors)\n",
    "\n",
    "print(f\"Mean prediction: {np.mean(predictions)} | Std actual: {np.std(predictions)}\")\n",
    "print(f\"Mean actual: {np.mean(actuals)} | Std actual: {np.std(actuals)}\")\n",
    "print(f\"Mean Error: {mean_error} | Std Error: {std_error}\")\n",
    "print(\"Min instance\")\n",
    "print(mm_test.iloc[min_instance[\"index\"]])\n",
    "print(f\"Min Prediction: {min_instance['prediction']} | Actual: {min_instance['actual']} | Error: {abs(min_instance['prediction'] - min_instance['actual'])}\")\n",
    "print(\"---\")\n",
    "print(\"Max instance\")\n",
    "print(mm_test.iloc[max_instance[\"index\"]])\n",
    "print(f\"Max Prediction: {max_instance['prediction']} | Actual: {max_instance['actual']} | Error: {abs(max_instance['prediction'] - max_instance['actual'])}\")"
   ]
  },
  {
   "cell_type": "markdown",
   "metadata": {},
   "source": [
    "# Explanation"
   ]
  },
  {
   "cell_type": "code",
   "execution_count": 62,
   "metadata": {},
   "outputs": [
    {
     "ename": "AttributeError",
     "evalue": "'TabNetRegressor' object has no attribute 'feature_importances_'",
     "output_type": "error",
     "traceback": [
      "\u001b[0;31m---------------------------------------------------------------------------\u001b[0m",
      "\u001b[0;31mAttributeError\u001b[0m                            Traceback (most recent call last)",
      "Cell \u001b[0;32mIn[62], line 1\u001b[0m\n\u001b[0;32m----> 1\u001b[0m \u001b[38;5;28mprint\u001b[39m(\u001b[43mmodel_g\u001b[49m\u001b[38;5;241;43m.\u001b[39;49m\u001b[43mfeature_importances_\u001b[49m)\n\u001b[1;32m      2\u001b[0m \u001b[38;5;28mprint\u001b[39m(model_st\u001b[38;5;241m.\u001b[39mfeature_importances_)\n\u001b[1;32m      3\u001b[0m \u001b[38;5;28mprint\u001b[39m(model_mm\u001b[38;5;241m.\u001b[39mfeature_importances_)\n",
      "\u001b[0;31mAttributeError\u001b[0m: 'TabNetRegressor' object has no attribute 'feature_importances_'"
     ]
    }
   ],
   "source": [
    "print(model_g.feature_importances_)\n",
    "print(model_st.feature_importances_)\n",
    "print(model_mm.feature_importances_)"
   ]
  },
  {
   "cell_type": "code",
   "execution_count": null,
   "metadata": {},
   "outputs": [],
   "source": [
    "from matplotlib import pyplot as plt\n",
    "%matplotlib inline\n",
    "\n",
    "def explain_matrix_plot(model, X_test):\n",
    "\texplain_matrix, masks = model.explain(X_test)\n",
    "\tfig, axs = plt.subplots(1, 3, figsize=(20,20))\n",
    "\tfor i in range(3):\n",
    "\t\taxs[i].imshow(masks[i][:50])\n",
    "\t\taxs[i].set_title(f\"mask {i}\")"
   ]
  },
  {
   "cell_type": "code",
   "execution_count": null,
   "metadata": {},
   "outputs": [
    {
     "data": {
      "image/png": "[encoded data removed]",
      "text/plain": [
       "<Figure size 2000x2000 with 3 Axes>"
      ]
     },
     "metadata": {},
     "output_type": "display_data"
    }
   ],
   "source": [
    "explain_matrix_plot(model_g, X_g_test)"
   ]
  },
  {
   "cell_type": "code",
   "execution_count": null,
   "metadata": {},
   "outputs": [
    {
     "data": {
      "image/png": "[encoded data removed]",
      "text/plain": [
       "<Figure size 2000x2000 with 3 Axes>"
      ]
     },
     "metadata": {},
     "output_type": "display_data"
    }
   ],
   "source": [
    "explain_matrix_plot(model_st, X_st_test)"
   ]
  },
  {
   "cell_type": "code",
   "execution_count": null,
   "metadata": {},
   "outputs": [
    {
     "data": {
      "image/png": "[encoded data removed]",
      "text/plain": [
       "<Figure size 2000x2000 with 3 Axes>"
      ]
     },
     "metadata": {},
     "output_type": "display_data"
    }
   ],
   "source": [
    "explain_matrix_plot(model_mm, X_mm_test)"
   ]
  }
 ],
 "metadata": {
  "kernelspec": {
   "display_name": "venv",
   "language": "python",
   "name": "python3"
  },
  "language_info": {
   "codemirror_mode": {
    "name": "ipython",
    "version": 3
   },
   "file_extension": ".py",
   "mimetype": "text/x-python",
   "name": "python",
   "nbconvert_exporter": "python",
   "pygments_lexer": "ipython3",
   "version": "3.10.13"
  }
 },
 "nbformat": 4,
 "nbformat_minor": 2
}
