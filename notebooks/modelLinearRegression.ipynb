{
 "cells": [
  {
   "cell_type": "code",
   "execution_count": 1,
   "metadata": {},
   "outputs": [],
   "source": [
    "import numpy as np\n",
    "import pandas as pd\n",
    "import random\n",
    "import os\n",
    "\n",
    "from joblib import dump, load\n",
    "from sklearn.linear_model import LinearRegression\n",
    "from sklearn.metrics import mean_squared_error\n",
    "from sklearn.preprocessing import MinMaxScaler\n",
    "\n",
    "# Fix random seed\n",
    "seed = 42\n",
    "np.random.seed(seed)\n",
    "random.seed(seed)"
   ]
  },
  {
   "cell_type": "markdown",
   "metadata": {},
   "source": [
    "# Pre-processing input data"
   ]
  },
  {
   "cell_type": "code",
   "execution_count": 2,
   "metadata": {},
   "outputs": [],
   "source": [
    "# train_df and test_df are created in eda notebook\n",
    "if not os.path.exists('csv/train_df.csv') or not os.path.exists('csv/test_df.csv'):\n",
    "\tprint('Please run the eda notebook first')\n",
    "\texit()\n",
    "train_df = pd.read_csv('csv/train_df.csv')\n",
    "test_df = pd.read_csv('csv/test_df.csv')\n",
    "target = 'total_time_target'\n",
    "features = test_df.columns.copy().drop(target).drop(['benchmark','brand_raw', 'brand_raw_target','vendor_id_raw', 'arch'])\n",
    "\n",
    "# Pearson U Spearman U Kendall correlation feature selection > 0.7\n",
    "# features = [\"total_time\",\"vms\",\"rss\",\"data\"]\n",
    "\n",
    "# log for total_times\n",
    "train_df[[target, 'total_time']] = np.log1p(train_df[[target, 'total_time']])\n",
    "test_df[[target, 'total_time']] = np.log1p(test_df[[target, 'total_time']])\n",
    "\n",
    "# Split data\n",
    "X_train = train_df[features]\n",
    "y_train = train_df[target]\n",
    "\n",
    "X_test = test_df[features]\n",
    "y_test = test_df[target]\n",
    "\n",
    "# Normalize data\n",
    "x_scaler = MinMaxScaler(feature_range=(0, 1))\n",
    "X_train = x_scaler.fit_transform(X_train)\n",
    "X_test = x_scaler.transform(X_test)\n",
    "y_scaler = MinMaxScaler(feature_range=(0, 1))\n",
    "y_train = y_scaler.fit_transform(y_train.values.reshape(-1, 1))\n",
    "y_test = y_scaler.transform(y_test.values.reshape(-1, 1))"
   ]
  },
  {
   "cell_type": "code",
   "execution_count": 3,
   "metadata": {},
   "outputs": [],
   "source": [
    "if not os.path.exists('../models/x_scaler.joblib') or not os.path.exists('../models/y_scaler.joblib'):\n",
    "\tdump(x_scaler, '../models/x_scaler.joblib')\n",
    "\tdump(y_scaler, '../models/y_scaler.joblib')"
   ]
  },
  {
   "cell_type": "markdown",
   "metadata": {},
   "source": [
    "# Training"
   ]
  },
  {
   "cell_type": "code",
   "execution_count": 4,
   "metadata": {},
   "outputs": [],
   "source": [
    "def inv_scaling(y, y_scaler):\n",
    "    return y_scaler.inverse_transform(y.reshape(-1, 1))"
   ]
  },
  {
   "cell_type": "code",
   "execution_count": 5,
   "metadata": {},
   "outputs": [
    {
     "name": "stdout",
     "output_type": "stream",
     "text": [
      "RMSE Loss : 0.017682883979200686 - RMSE Val Loss: 0.02019909124565665\n"
     ]
    }
   ],
   "source": [
    "model = LinearRegression()\n",
    "model.fit(X_train, y_train)\n",
    "\n",
    "# Train\n",
    "predictions_train = model.predict(X_train)\n",
    "loss = np.sqrt(mean_squared_error(y_train, predictions_train))\n",
    "\n",
    "# Test\n",
    "predictions = model.predict(X_test)\n",
    "val_loss = np.sqrt(mean_squared_error(y_test, predictions))\n",
    "print(f\"RMSE Loss : {loss} - RMSE Val Loss: {val_loss}\")"
   ]
  },
  {
   "cell_type": "code",
   "execution_count": 6,
   "metadata": {},
   "outputs": [
    {
     "data": {
      "text/plain": [
       "['../models/linear_model.joblib']"
      ]
     },
     "execution_count": 6,
     "metadata": {},
     "output_type": "execute_result"
    }
   ],
   "source": [
    "# save model\n",
    "dump(model, f'../models/linear_model.joblib')"
   ]
  },
  {
   "cell_type": "markdown",
   "metadata": {},
   "source": [
    "# Load models"
   ]
  },
  {
   "cell_type": "code",
   "execution_count": 7,
   "metadata": {},
   "outputs": [],
   "source": [
    "model = load('../models/linear_model.joblib')"
   ]
  },
  {
   "cell_type": "code",
   "execution_count": 8,
   "metadata": {},
   "outputs": [],
   "source": [
    "def describe_val(model, X, y, y_scaler):\n",
    "\tmin_instance = {\"prediction\": float('inf'), \"actual\": 0, \"index\": 0}\n",
    "\tmax_instance = {\"prediction\": 0, \"actual\": 0, \"index\": 0}\n",
    "\n",
    "\tpredictions = model.predict(X)\n",
    "\tpredictions = np.expm1(inv_scaling(predictions, y_scaler))\n",
    "\ty_scaled = np.expm1(inv_scaling(y, y_scaler))\n",
    "\tindex_min = np.argmin(np.abs(predictions - y_scaled))\n",
    "\tmin_instance[\"prediction\"] = predictions[index_min].item()\n",
    "\tmin_instance[\"actual\"] = y_scaled[index_min].item()\n",
    "\tmin_instance[\"index\"] = index_min\n",
    "\tindex_max = np.argmax(np.abs(predictions - y_scaled))\n",
    "\tmax_instance[\"prediction\"] = predictions[index_max].item()\n",
    "\tmax_instance[\"actual\"] = y_scaled[index_max].item()\n",
    "\tmax_instance[\"index\"] = index_max\n",
    "\n",
    "\treturn min_instance, max_instance, predictions"
   ]
  },
  {
   "cell_type": "code",
   "execution_count": 9,
   "metadata": {},
   "outputs": [],
   "source": [
    "test_df_og = pd.read_csv('csv/test_df.csv')"
   ]
  },
  {
   "cell_type": "code",
   "execution_count": 10,
   "metadata": {},
   "outputs": [],
   "source": [
    "_, _, predictions = describe_val(model, X_test, y_test, y_scaler)\n",
    "y_scaled = np.expm1(inv_scaling(y_test, y_scaler))\n",
    "df = pd.DataFrame(predictions, columns=['predictions'])\n",
    "df['actual'] = y_scaled\n",
    "df.to_csv('csv/predictions_lr.csv', index=False)"
   ]
  },
  {
   "cell_type": "code",
   "execution_count": 11,
   "metadata": {},
   "outputs": [
    {
     "name": "stdout",
     "output_type": "stream",
     "text": [
      "Validation set single thread model\n",
      "Mean prediction: 24.0853002664904 | Std actual: 47.81787090126103\n",
      "Mean actual: 23.631032844733987 | Std actual: 41.60096829835196\n",
      "Mean Error: 3.1399076657542517 | Std Error: 9.70804066146824\n",
      "Min instance\n",
      "total_time                                                            13.77\n",
      "total_cpu_usage                                                        0.99\n",
      "max_ram_usage                                                     47.597656\n",
      "brand_raw                          Intel(R) Xeon(R) Gold 6130 CPU @ 2.10GHz\n",
      "vendor_id_raw                                                  GenuineIntel\n",
      "arch                                                                 X86_64\n",
      "count                                                                    32\n",
      "l2_cache_size                                                          32.0\n",
      "l3_cache_size                                                          22.0\n",
      "l2_cache_line_size                                                      256\n",
      "l2_cache_associativity                                                    6\n",
      "benchmark                                                         TSPfl1400\n",
      "ghz_actual_friendly                                                     3.7\n",
      "ghz_advertised_friendly                                                 2.1\n",
      "score                                                                  1880\n",
      "munmap                                                                    5\n",
      "mprotect                                                                  9\n",
      "stat                                                                      1\n",
      "rt_sigaction                                                              2\n",
      "rt_sigprocmask                                                            1\n",
      "openat                                                                    9\n",
      "set_robust_list                                                           1\n",
      "fstat                                                                     8\n",
      "mmap                                                                     44\n",
      "read                                                                     12\n",
      "futex                                                                     2\n",
      "set_tid_address                                                           1\n",
      "prlimit64                                                                 1\n",
      "brk                                                                     236\n",
      "close                                                                     9\n",
      "total_time_target                                                     15.03\n",
      "brand_raw_target                  Intel(R) Xeon(R) CPU E5-2643 v3 @ 3.40GHz\n",
      "l2_cache_size_target                                                    3.0\n",
      "l3_cache_size_target                                                   20.0\n",
      "l2_cache_line_size_target                                               256\n",
      "l2_cache_associativity_target                                             6\n",
      "ghz_advertised_friendly_target                                          3.4\n",
      "score_target                                                           2099\n",
      "rss                                                               46.275972\n",
      "vms                                                               73.313622\n",
      "shared                                                            14.071351\n",
      "text                                                               0.035156\n",
      "data                                                              33.334732\n",
      "Name: 3726, dtype: object\n",
      "Min Prediction: 15.029827713571308 | Actual: 15.030000000000001 | Error: 0.00017228642869326904\n",
      "---\n",
      "Max instance\n",
      "total_time                                                          283.91\n",
      "total_cpu_usage                                                       0.99\n",
      "max_ram_usage                                                         74.5\n",
      "brand_raw                         Intel(R) Core(TM) i5-10400 CPU @ 2.90GHz\n",
      "vendor_id_raw                                                 GenuineIntel\n",
      "arch                                                                X86_64\n",
      "count                                                                   12\n",
      "l2_cache_size                                                          1.5\n",
      "l3_cache_size                                                         12.0\n",
      "l2_cache_line_size                                                     256\n",
      "l2_cache_associativity                                                   6\n",
      "benchmark                                                  MATRIX_MULT_ST7\n",
      "ghz_actual_friendly                                                 4.0987\n",
      "ghz_advertised_friendly                                                2.9\n",
      "score                                                                 2589\n",
      "munmap                                                                   1\n",
      "mprotect                                                                 6\n",
      "stat                                                                     2\n",
      "rt_sigaction                                                             0\n",
      "rt_sigprocmask                                                           0\n",
      "openat                                                                   5\n",
      "set_robust_list                                                          0\n",
      "fstat                                                                    5\n",
      "mmap                                                                    22\n",
      "read                                                                     4\n",
      "futex                                                                    0\n",
      "set_tid_address                                                          0\n",
      "prlimit64                                                                0\n",
      "brk                                                                    546\n",
      "close                                                                    5\n",
      "total_time_target                                                   218.37\n",
      "brand_raw_target                  Intel(R) Xeon(R) Gold 6130 CPU @ 2.10GHz\n",
      "l2_cache_size_target                                                  32.0\n",
      "l3_cache_size_target                                                  22.0\n",
      "l2_cache_line_size_target                                              256\n",
      "l2_cache_associativity_target                                            6\n",
      "ghz_advertised_friendly_target                                         2.1\n",
      "score_target                                                          1880\n",
      "rss                                                              73.708777\n",
      "vms                                                              76.513215\n",
      "shared                                                            2.474734\n",
      "text                                                              0.007812\n",
      "data                                                             71.394157\n",
      "Name: 4372, dtype: object\n",
      "Max Prediction: 316.5432285028833 | Actual: 218.37000000000006 | Error: 98.17322850288326\n"
     ]
    }
   ],
   "source": [
    "print(\"Validation set single thread model\")\n",
    "min_instance, max_instance, predictions = describe_val(model, X_test, y_test, y_scaler)\n",
    "y_scaled = np.expm1(inv_scaling(y_test, y_scaler))\n",
    "errors = np.abs(predictions - y_scaled)\n",
    "mean_error = np.mean(errors)\n",
    "std_error = np.std(errors)\n",
    "\n",
    "print(f\"Mean prediction: {np.mean(predictions)} | Std actual: {np.std(predictions)}\")\n",
    "print(f\"Mean actual: {np.mean(y_scaled)} | Std actual: {np.std(y_scaled)}\")\n",
    "print(f\"Mean Error: {mean_error} | Std Error: {std_error}\")\n",
    "print(\"Min instance\")\n",
    "print(test_df_og.iloc[min_instance[\"index\"]])\n",
    "print(f\"Min Prediction: {min_instance['prediction']} | Actual: {min_instance['actual']} | Error: {abs(min_instance['prediction'] - min_instance['actual'])}\")\n",
    "print(\"---\")\n",
    "print(\"Max instance\")\n",
    "print(test_df_og.iloc[max_instance[\"index\"]])\n",
    "print(f\"Max Prediction: {max_instance['prediction']} | Actual: {max_instance['actual']} | Error: {abs(max_instance['prediction'] - max_instance['actual'])}\")"
   ]
  },
  {
   "cell_type": "code",
   "execution_count": 12,
   "metadata": {},
   "outputs": [
    {
     "name": "stdout",
     "output_type": "stream",
     "text": [
      "coef: [[ 0.97388151 -0.00567892  0.00696415 -0.00637369  0.01107724 -0.02593337\n",
      "   0.00227486 -0.04862266  0.01556052 -0.02011682  0.06521923  0.00699617\n",
      "   0.00437089 -0.00437089  0.00437089  0.00437089 -0.0323721   0.00437089\n",
      "   0.00437089  0.0057845   0.01232737  0.00437089  0.00437089  0.00437089\n",
      "  -0.00944696 -0.0323721  -0.01486932  0.03832445 -0.01123746  0.05379627\n",
      "   0.01098669 -0.04421553  1.14117935  0.06343479 -0.02488868  0.01862142\n",
      "  -1.16636677]] | intercept: -0.002961309438066495\n"
     ]
    }
   ],
   "source": [
    "print(\"coef:\",model.coef_, \"| intercept:\",model.intercept_.item())"
   ]
  }
 ],
 "metadata": {
  "kernelspec": {
   "display_name": "venv",
   "language": "python",
   "name": "python3"
  },
  "language_info": {
   "codemirror_mode": {
    "name": "ipython",
    "version": 3
   },
   "file_extension": ".py",
   "mimetype": "text/x-python",
   "name": "python",
   "nbconvert_exporter": "python",
   "pygments_lexer": "ipython3",
   "version": "3.10.13"
  }
 },
 "nbformat": 4,
 "nbformat_minor": 2
}
