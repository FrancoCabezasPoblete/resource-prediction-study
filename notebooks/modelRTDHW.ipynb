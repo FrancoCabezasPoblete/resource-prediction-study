{
 "cells": [
  {
   "cell_type": "code",
   "execution_count": 24,
   "metadata": {},
   "outputs": [],
   "source": [
    "# From master repository of the papper: [On the Fair Comparison of Optimization Algorithms in Different Machines](https://github.com/EtorArza/RTDHW)\n",
    "import os\n",
    "import sys\n",
    "import pandas as pd\n",
    "import numpy as np\n",
    "sys.path.append(os.path.abspath('../RTDHW-master'))\n",
    "from equivalent_runtime import get_equivalent_runtime_from_probability"
   ]
  },
  {
   "cell_type": "markdown",
   "metadata": {},
   "source": [
    "# Pre-processing input data"
   ]
  },
  {
   "cell_type": "code",
   "execution_count": 25,
   "metadata": {},
   "outputs": [],
   "source": [
    "# test_df are created in eda notebook\n",
    "test_df = pd.read_csv('csv/test_df.csv')"
   ]
  },
  {
   "cell_type": "markdown",
   "metadata": {},
   "source": [
    "# Model from papper _On the Fair Comparison of Optimization Algorithms in Different Machines_"
   ]
  },
  {
   "cell_type": "code",
   "execution_count": 26,
   "metadata": {},
   "outputs": [],
   "source": [
    "# Using a probability of predicting a longer than true equivalent runtime of p𝛾 = 0.01\n",
    "# Get the RMSE for X_test\n",
    "class RTDHWModel:\n",
    "\tdef __init__(self, p=0.05):\n",
    "\t\tself.p = p\n",
    "\t\n",
    "\tdef predict(self, X: pd.DataFrame):\n",
    "\t\tpredictions = []\n",
    "\t\tfor _, row in X.iterrows():\n",
    "\t\t\tprediction = get_equivalent_runtime_from_probability(self.p, row['score'], row['score_target'], row['total_time'])\n",
    "\t\t\tpredictions.append(prediction)\n",
    "\t\treturn np.array(predictions)\n",
    "\n",
    "rtdhw_model = RTDHWModel()"
   ]
  },
  {
   "cell_type": "markdown",
   "metadata": {},
   "source": [
    "# Describe Validation"
   ]
  },
  {
   "cell_type": "code",
   "execution_count": 31,
   "metadata": {},
   "outputs": [],
   "source": [
    "def describe_val_RTDH(model: RTDHWModel, test_df: pd.DataFrame):\n",
    "\tmin_instance = {\"prediction\": float('inf'), \"actual\": 0, \"index\": 0}\n",
    "\tmax_instance = {\"prediction\": 0, \"actual\": 0, \"index\": 0}\n",
    "\tpredictions = model.predict(test_df[['score', 'score_target','total_time']]).reshape(-1, 1)\n",
    "\ty = test_df['total_time_target'].values.reshape(-1, 1)\n",
    "\tindex_min = np.argmin(np.abs(predictions - y))\n",
    "\tmin_instance[\"prediction\"] = predictions[index_min].item()\n",
    "\tmin_instance[\"actual\"] = y[index_min].item()\n",
    "\tmin_instance[\"index\"] = index_min\n",
    "\tindex_max = np.argmax(np.abs(predictions - y))\n",
    "\tmax_instance[\"prediction\"] = predictions[index_max].item()\n",
    "\tmax_instance[\"actual\"] = y[index_max].item()\n",
    "\tmax_instance[\"index\"] = index_max\n",
    "\n",
    "\treturn min_instance, max_instance, predictions"
   ]
  },
  {
   "cell_type": "code",
   "execution_count": 32,
   "metadata": {},
   "outputs": [
    {
     "name": "stdout",
     "output_type": "stream",
     "text": [
      "Validation set single thread model\n",
      "(7233, 1) (7233, 1)\n",
      "Mean prediction: 11.82542896251423 | Std actual: 23.76803624662236\n",
      "Mean actual: 16.002460942900594 | Std actual: 23.942981274873418\n",
      "Mean Error: 6.097120136920257 | Std Error: 10.088482014755176\n",
      "Min instance\n",
      "total_time                                                             1.61\n",
      "total_cpu_usage                                                        0.99\n",
      "max_ram_usage                                                     28.074219\n",
      "brand_raw                          Intel(R) Core(TM) i5-10400 CPU @ 2.90GHz\n",
      "vendor_id_raw                                                  GenuineIntel\n",
      "arch                                                                 X86_64\n",
      "count                                                                    12\n",
      "l2_cache_size                                                           1.5\n",
      "l3_cache_size                                                          12.0\n",
      "l2_cache_line_size                                                      256\n",
      "l2_cache_associativity                                                    6\n",
      "benchmark                                                           TSPp654\n",
      "ghz_actual_friendly                                                  4.0476\n",
      "ghz_advertised_friendly                                                 2.9\n",
      "score                                                                  2589\n",
      "total_time_target                                                      1.91\n",
      "brand_raw_target                  Intel(R) Xeon(R) CPU E5-2643 v3 @ 3.40GHz\n",
      "l2_cache_size_target                                                    3.0\n",
      "l3_cache_size_target                                                   20.0\n",
      "l2_cache_line_size_target                                               256\n",
      "l2_cache_associativity_target                                             6\n",
      "ghz_advertised_friendly_target                                          3.4\n",
      "score_target                                                           2099\n",
      "rss                                                               26.364437\n",
      "vms                                                               53.001375\n",
      "shared                                                            13.730634\n",
      "text                                                               0.023107\n",
      "data                                                              13.240262\n",
      "Name: 4611, dtype: object\n",
      "Min Prediction: 1.9114497994014443 | Actual: 1.91 | Error: 0.0014497994014444071\n",
      "---\n",
      "Max instance\n",
      "total_time                                                          283.91\n",
      "total_cpu_usage                                                       0.99\n",
      "max_ram_usage                                                         74.5\n",
      "brand_raw                         Intel(R) Core(TM) i5-10400 CPU @ 2.90GHz\n",
      "vendor_id_raw                                                 GenuineIntel\n",
      "arch                                                                X86_64\n",
      "count                                                                   12\n",
      "l2_cache_size                                                          1.5\n",
      "l3_cache_size                                                         12.0\n",
      "l2_cache_line_size                                                     256\n",
      "l2_cache_associativity                                                   6\n",
      "benchmark                                                  MATRIX_MULT_ST7\n",
      "ghz_actual_friendly                                                 4.0987\n",
      "ghz_advertised_friendly                                                2.9\n",
      "score                                                                 2589\n",
      "total_time_target                                                   244.01\n",
      "brand_raw_target                  Intel(R) Xeon(R) Gold 6330 CPU @ 2.00GHz\n",
      "l2_cache_size_target                                                  70.0\n",
      "l3_cache_size_target                                                  42.0\n",
      "l2_cache_line_size_target                                              256\n",
      "l2_cache_associativity_target                                            6\n",
      "ghz_advertised_friendly_target                                         2.0\n",
      "score_target                                                          2034\n",
      "rss                                                              73.708777\n",
      "vms                                                              76.513215\n",
      "shared                                                            2.474734\n",
      "text                                                              0.007812\n",
      "data                                                             71.394157\n",
      "Name: 3572, dtype: object\n",
      "Max Prediction: 356.55202547793886 | Actual: 244.01 | Error: 112.54202547793886\n"
     ]
    }
   ],
   "source": [
    "print(\"Validation set single thread model\")\n",
    "min_instance, max_instance, predictions = describe_val_RTDH(rtdhw_model, test_df)\n",
    "y = test_df['total_time_target'].values.reshape(-1, 1)\n",
    "errors = np.abs(predictions - y)\n",
    "mean_error = np.mean(errors)\n",
    "std_error = np.std(errors)\n",
    "\n",
    "print(f\"Mean prediction: {np.mean(predictions)} | Std actual: {np.std(predictions)}\")\n",
    "print(f\"Mean actual: {np.mean(y)} | Std actual: {np.std(y)}\")\n",
    "print(f\"Mean Error: {mean_error} | Std Error: {std_error}\")\n",
    "print(\"Min instance\")\n",
    "print(test_df.iloc[min_instance[\"index\"]])\n",
    "print(f\"Min Prediction: {min_instance['prediction']} | Actual: {min_instance['actual']} | Error: {abs(min_instance['prediction'] - min_instance['actual'])}\")\n",
    "print(\"---\")\n",
    "print(\"Max instance\")\n",
    "print(test_df.iloc[max_instance[\"index\"]])\n",
    "print(f\"Max Prediction: {max_instance['prediction']} | Actual: {max_instance['actual']} | Error: {abs(max_instance['prediction'] - max_instance['actual'])}\")"
   ]
  }
 ],
 "metadata": {
  "kernelspec": {
   "display_name": "venv",
   "language": "python",
   "name": "python3"
  },
  "language_info": {
   "codemirror_mode": {
    "name": "ipython",
    "version": 3
   },
   "file_extension": ".py",
   "mimetype": "text/x-python",
   "name": "python",
   "nbconvert_exporter": "python",
   "pygments_lexer": "ipython3",
   "version": "3.10.13"
  }
 },
 "nbformat": 4,
 "nbformat_minor": 2
}
