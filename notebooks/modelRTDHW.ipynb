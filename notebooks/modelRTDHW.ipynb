{
 "cells": [
  {
   "cell_type": "code",
   "execution_count": 1,
   "metadata": {},
   "outputs": [],
   "source": [
    "# From master repository of the papper: [On the Fair Comparison of Optimization Algorithms in Different Machines](https://github.com/EtorArza/RTDHW)\n",
    "import os\n",
    "import sys\n",
    "import pandas as pd\n",
    "import numpy as np\n",
    "sys.path.append(os.path.abspath('../RTDHW-master'))\n",
    "from equivalent_runtime import get_equivalent_runtime_from_probability"
   ]
  },
  {
   "cell_type": "markdown",
   "metadata": {},
   "source": [
    "# Pre-processing input data"
   ]
  },
  {
   "cell_type": "code",
   "execution_count": 2,
   "metadata": {},
   "outputs": [],
   "source": [
    "# test_df are created in eda notebook\n",
    "test_df = pd.read_csv('csv/test_df.csv')"
   ]
  },
  {
   "cell_type": "markdown",
   "metadata": {},
   "source": [
    "# Model from papper _On the Fair Comparison of Optimization Algorithms in Different Machines_"
   ]
  },
  {
   "cell_type": "code",
   "execution_count": 3,
   "metadata": {},
   "outputs": [],
   "source": [
    "# Using a probability of predicting a longer than true equivalent runtime of p𝛾 = 0.01\n",
    "# Get the RMSE for X_test\n",
    "class RTDHWModel:\n",
    "\tdef __init__(self, p=0.05):\n",
    "\t\tself.p = p\n",
    "\t\n",
    "\tdef predict(self, X: pd.DataFrame):\n",
    "\t\tpredictions = []\n",
    "\t\tfor _, row in X.iterrows():\n",
    "\t\t\tprediction = get_equivalent_runtime_from_probability(self.p, row['score'], row['score_target'], row['total_time'])\n",
    "\t\t\tpredictions.append(prediction)\n",
    "\t\treturn np.array(predictions)\n",
    "\n",
    "rtdhw_model = RTDHWModel()"
   ]
  },
  {
   "cell_type": "markdown",
   "metadata": {},
   "source": [
    "# Describe Validation"
   ]
  },
  {
   "cell_type": "code",
   "execution_count": 4,
   "metadata": {},
   "outputs": [],
   "source": [
    "def describe_val_RTDH(model: RTDHWModel, test_df: pd.DataFrame):\n",
    "\tmin_instance = {\"prediction\": float('inf'), \"actual\": 0, \"index\": 0}\n",
    "\tmax_instance = {\"prediction\": 0, \"actual\": 0, \"index\": 0}\n",
    "\tpredictions = model.predict(test_df[['score', 'score_target','total_time']]).reshape(-1, 1)\n",
    "\ty = test_df['total_time_target'].values.reshape(-1, 1)\n",
    "\tindex_min = np.argmin(np.abs(predictions - y))\n",
    "\tmin_instance[\"prediction\"] = predictions[index_min].item()\n",
    "\tmin_instance[\"actual\"] = y[index_min].item()\n",
    "\tmin_instance[\"index\"] = index_min\n",
    "\tindex_max = np.argmax(np.abs(predictions - y))\n",
    "\tmax_instance[\"prediction\"] = predictions[index_max].item()\n",
    "\tmax_instance[\"actual\"] = y[index_max].item()\n",
    "\tmax_instance[\"index\"] = index_max\n",
    "\n",
    "\treturn min_instance, max_instance, predictions"
   ]
  },
  {
   "cell_type": "code",
   "execution_count": 5,
   "metadata": {},
   "outputs": [],
   "source": [
    "_, _, predictions = describe_val_RTDH(rtdhw_model, test_df)\n",
    "y = test_df['total_time_target'].values.reshape(-1, 1)\n",
    "df = pd.DataFrame(predictions, columns=['predictions'])\n",
    "df['actual'] = y\n",
    "df.to_csv('csv/predictions_rtdhw.csv', index=False)"
   ]
  },
  {
   "cell_type": "code",
   "execution_count": 6,
   "metadata": {},
   "outputs": [
    {
     "name": "stdout",
     "output_type": "stream",
     "text": [
      "Validation set single thread model\n",
      "Mean prediction: 18.916682593839692 | Std actual: 45.52009456013818\n",
      "Mean actual: 23.631032844733987 | Std actual: 41.60096829835196\n",
      "Mean Error: 8.623423887153386 | Std Error: 16.909485581919377\n",
      "Min instance\n",
      "total_time                                                             0.85\n",
      "total_cpu_usage                                                        0.99\n",
      "max_ram_usage                                                        21.875\n",
      "brand_raw                          Intel(R) Core(TM) i5-10400 CPU @ 2.90GHz\n",
      "vendor_id_raw                                                  GenuineIntel\n",
      "arch                                                                 X86_64\n",
      "count                                                                    12\n",
      "l2_cache_size                                                           1.5\n",
      "l3_cache_size                                                          12.0\n",
      "l2_cache_line_size                                                      256\n",
      "l2_cache_associativity                                                    6\n",
      "benchmark                                                          TSPpr299\n",
      "ghz_actual_friendly                                                  4.1538\n",
      "ghz_advertised_friendly                                                 2.9\n",
      "score                                                                  2589\n",
      "munmap                                                                    1\n",
      "mprotect                                                                  9\n",
      "stat                                                                      1\n",
      "rt_sigaction                                                              2\n",
      "rt_sigprocmask                                                            1\n",
      "openat                                                                    9\n",
      "set_robust_list                                                           1\n",
      "fstat                                                                     8\n",
      "mmap                                                                     40\n",
      "read                                                                      8\n",
      "futex                                                                     2\n",
      "set_tid_address                                                           1\n",
      "prlimit64                                                                 1\n",
      "brk                                                                      52\n",
      "close                                                                     9\n",
      "total_time_target                                                      1.01\n",
      "brand_raw_target                  Intel(R) Xeon(R) CPU E5-2643 v3 @ 3.40GHz\n",
      "l2_cache_size_target                                                    3.0\n",
      "l3_cache_size_target                                                   20.0\n",
      "l2_cache_line_size_target                                               256\n",
      "l2_cache_associativity_target                                             6\n",
      "ghz_advertised_friendly_target                                          3.4\n",
      "score_target                                                           2099\n",
      "rss                                                                   0.125\n",
      "vms                                                                0.390625\n",
      "shared                                                                0.125\n",
      "text                                                               0.023438\n",
      "data                                                                0.15625\n",
      "Name: 303, dtype: object\n",
      "Min Prediction: 1.0091505152119427 | Actual: 1.01 | Error: 0.0008494847880573531\n",
      "---\n",
      "Max instance\n",
      "total_time                                                           283.91\n",
      "total_cpu_usage                                                        0.99\n",
      "max_ram_usage                                                          74.5\n",
      "brand_raw                          Intel(R) Core(TM) i5-10400 CPU @ 2.90GHz\n",
      "vendor_id_raw                                                  GenuineIntel\n",
      "arch                                                                 X86_64\n",
      "count                                                                    12\n",
      "l2_cache_size                                                           1.5\n",
      "l3_cache_size                                                          12.0\n",
      "l2_cache_line_size                                                      256\n",
      "l2_cache_associativity                                                    6\n",
      "benchmark                                                   MATRIX_MULT_ST7\n",
      "ghz_actual_friendly                                                  4.0987\n",
      "ghz_advertised_friendly                                                 2.9\n",
      "score                                                                  2589\n",
      "munmap                                                                    1\n",
      "mprotect                                                                  6\n",
      "stat                                                                      2\n",
      "rt_sigaction                                                              0\n",
      "rt_sigprocmask                                                            0\n",
      "openat                                                                    5\n",
      "set_robust_list                                                           0\n",
      "fstat                                                                     5\n",
      "mmap                                                                     22\n",
      "read                                                                      4\n",
      "futex                                                                     0\n",
      "set_tid_address                                                           0\n",
      "prlimit64                                                                 0\n",
      "brk                                                                     546\n",
      "close                                                                     5\n",
      "total_time_target                                                    269.24\n",
      "brand_raw_target                  Intel(R) Xeon(R) CPU E5-2670 v3 @ 2.30GHz\n",
      "l2_cache_size_target                                                    6.0\n",
      "l3_cache_size_target                                                   30.0\n",
      "l2_cache_line_size_target                                               256\n",
      "l2_cache_associativity_target                                             6\n",
      "ghz_advertised_friendly_target                                          2.3\n",
      "score_target                                                           1702\n",
      "rss                                                               73.708777\n",
      "vms                                                               76.513215\n",
      "shared                                                             2.474734\n",
      "text                                                               0.007812\n",
      "data                                                              71.394157\n",
      "Name: 5072, dtype: object\n",
      "Max Prediction: 456.0696947804766 | Actual: 269.24 | Error: 186.8296947804766\n"
     ]
    }
   ],
   "source": [
    "print(\"Validation set single thread model\")\n",
    "min_instance, max_instance, predictions = describe_val_RTDH(rtdhw_model, test_df)\n",
    "y = test_df['total_time_target'].values.reshape(-1, 1)\n",
    "errors = np.abs(predictions - y)\n",
    "mean_error = np.mean(errors)\n",
    "std_error = np.std(errors)\n",
    "\n",
    "print(f\"Mean prediction: {np.mean(predictions)} | Std actual: {np.std(predictions)}\")\n",
    "print(f\"Mean actual: {np.mean(y)} | Std actual: {np.std(y)}\")\n",
    "print(f\"Mean Error: {mean_error} | Std Error: {std_error}\")\n",
    "print(\"Min instance\")\n",
    "print(test_df.iloc[min_instance[\"index\"]])\n",
    "print(f\"Min Prediction: {min_instance['prediction']} | Actual: {min_instance['actual']} | Error: {abs(min_instance['prediction'] - min_instance['actual'])}\")\n",
    "print(\"---\")\n",
    "print(\"Max instance\")\n",
    "print(test_df.iloc[max_instance[\"index\"]])\n",
    "print(f\"Max Prediction: {max_instance['prediction']} | Actual: {max_instance['actual']} | Error: {abs(max_instance['prediction'] - max_instance['actual'])}\")"
   ]
  }
 ],
 "metadata": {
  "kernelspec": {
   "display_name": "venv",
   "language": "python",
   "name": "python3"
  },
  "language_info": {
   "codemirror_mode": {
    "name": "ipython",
    "version": 3
   },
   "file_extension": ".py",
   "mimetype": "text/x-python",
   "name": "python",
   "nbconvert_exporter": "python",
   "pygments_lexer": "ipython3",
   "version": "3.10.13"
  }
 },
 "nbformat": 4,
 "nbformat_minor": 2
}
